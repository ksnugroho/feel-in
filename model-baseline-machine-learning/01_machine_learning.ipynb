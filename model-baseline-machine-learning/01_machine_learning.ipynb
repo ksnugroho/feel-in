{
  "cells": [
    {
      "cell_type": "markdown",
      "metadata": {
        "colab_type": "text",
        "id": "view-in-github"
      },
      "source": [
        "<a href=\"https://colab.research.google.com/github/ksnugroho/feel-in/blob/main/model-baseline-machine-learning/01_machine_learning.ipynb\" target=\"_parent\"><img src=\"https://colab.research.google.com/assets/colab-badge.svg\" alt=\"Open In Colab\"/></a>"
      ]
    },
    {
      "cell_type": "markdown",
      "metadata": {
        "id": "mWI95HWYoGz2"
      },
      "source": [
        "# **Machine Learning Model**\n",
        "\n",
        "**Thesis: Emotion Detection in Indonesian Text**\n",
        "\n",
        "Kuncahyo Setyo Nugroho<br>\n",
        "Supervisor:\n",
        "1. Dr. Eng. Fitra A. Bachtiar, S.T., M.Eng.\n",
        "2. Prof. Ir. Wayan Firdaus Mahmudy, S.Si., M.T., Ph.D.\n",
        "\n",
        "Faculty of Computer Science, Brawijaya University, Indonesia &copy; 2021-2022"
      ]
    },
    {
      "cell_type": "markdown",
      "metadata": {
        "id": "itm9wMAPoJhi"
      },
      "source": [
        "# 01 Setup"
      ]
    },
    {
      "cell_type": "code",
      "execution_count": 1,
      "metadata": {
        "colab": {
          "base_uri": "https://localhost:8080/"
        },
        "id": "ZALLtnV3oCau",
        "outputId": "0a6307e5-3d54-4c74-bfb2-7d7dcfe553a7"
      },
      "outputs": [
        {
          "name": "stdout",
          "output_type": "stream",
          "text": [
            "Mounted at /content/drive\n"
          ]
        }
      ],
      "source": [
        "from google.colab import drive\n",
        "drive.mount('/content/drive', force_remount=True)"
      ]
    },
    {
      "cell_type": "code",
      "execution_count": null,
      "metadata": {
        "colab": {
          "base_uri": "https://localhost:8080/"
        },
        "id": "Ex9vbzC5oNHD",
        "outputId": "293004b5-6822-4e78-c868-ce185c084412"
      },
      "outputs": [],
      "source": [
        "%cd /content/drive/MyDrive/"
      ]
    },
    {
      "cell_type": "code",
      "execution_count": 15,
      "metadata": {
        "id": "QT4qIW8IoPQW"
      },
      "outputs": [],
      "source": [
        "import re\n",
        "import os\n",
        "import datetime\n",
        "import numpy as np\n",
        "import pandas as pd\n",
        "import matplotlib.pyplot as plt\n",
        "import seaborn as sns\n",
        "\n",
        "from itertools import cycle\n",
        "from sklearn.preprocessing import LabelEncoder, label_binarize\n",
        "from sklearn.model_selection import train_test_split, ShuffleSplit, cross_val_score\n",
        "from sklearn.feature_extraction.text import TfidfVectorizer\n",
        "from sklearn.neighbors import KNeighborsClassifier\n",
        "from sklearn.naive_bayes import MultinomialNB\n",
        "from sklearn.svm import SVC\n",
        "from sklearn.tree import DecisionTreeClassifier\n",
        "from sklearn.ensemble import RandomForestClassifier\n",
        "from sklearn.metrics import confusion_matrix, classification_report, accuracy_score, roc_curve, auc\n",
        "\n",
        "import warnings\n",
        "warnings.filterwarnings('ignore')\n",
        "\n",
        "from tqdm import tqdm\n",
        "tqdm.pandas()\n",
        "\n",
        "SEED = 50\n",
        "FOLDER_PATH = 'model-baseline-machine-learning'\n",
        "\n",
        "np.random.seed(SEED)\n",
        "\n",
        "%matplotlib inline"
      ]
    },
    {
      "cell_type": "markdown",
      "metadata": {
        "id": "U7fAQEMloPuA"
      },
      "source": [
        "# 02 Load Data"
      ]
    },
    {
      "cell_type": "code",
      "execution_count": 4,
      "metadata": {
        "colab": {
          "base_uri": "https://localhost:8080/"
        },
        "id": "CARGvi0xoRCH",
        "outputId": "f2944b65-f61b-4b2d-943c-9809d07e8a1a"
      },
      "outputs": [
        {
          "name": "stdout",
          "output_type": "stream",
          "text": [
            "                                               tweet    label\n",
            "0        wah belom liat muka gue lagi murka hahahaha      joy\n",
            "1  Mungkin kurang piknik adrenalin. Mereka yg ske...    anger\n",
            "2  maaf kalo tersinggung \"orang kurus cepet mati\"...    anger\n",
            "3  berserah pada maha esa paling tabah dan sabar ...      joy\n",
            "4                       Ehekk malu la hahahahahahaha  sadness\n"
          ]
        }
      ],
      "source": [
        "df = pd.read_csv('data/final-tweet-anotasi.csv', index_col=0)\n",
        "# df = df.sample(frac=1, random_state=SEED).reset_index(drop=True)   # For shuffle\n",
        "print(df.head())"
      ]
    },
    {
      "cell_type": "code",
      "execution_count": 5,
      "metadata": {
        "id": "dd1GYx69HqZ5"
      },
      "outputs": [],
      "source": [
        "# df = df.dropna()"
      ]
    },
    {
      "cell_type": "code",
      "execution_count": 6,
      "metadata": {
        "colab": {
          "base_uri": "https://localhost:8080/"
        },
        "id": "kBO9cdcVoevc",
        "outputId": "53b4ccdd-3c96-43a5-a136-cc6daaa457ad"
      },
      "outputs": [
        {
          "data": {
            "text/plain": [
              "(2243, 2)"
            ]
          },
          "execution_count": 6,
          "metadata": {},
          "output_type": "execute_result"
        }
      ],
      "source": [
        "df.shape"
      ]
    },
    {
      "cell_type": "code",
      "execution_count": 7,
      "metadata": {
        "colab": {
          "base_uri": "https://localhost:8080/",
          "height": 456
        },
        "id": "1AbFcDzYof6v",
        "outputId": "34af693a-1c1a-4aa3-e0f8-01dcba55e52e"
      },
      "outputs": [
        {
          "data": {
            "image/png": "[encoded data removed]",
            "text/plain": [
              "<Figure size 576x360 with 1 Axes>"
            ]
          },
          "metadata": {
            "needs_background": "light"
          },
          "output_type": "display_data"
        },
        {
          "data": {
            "text/plain": [
              "anger       475\n",
              "disgust     355\n",
              "fear        395\n",
              "joy         429\n",
              "sadness     303\n",
              "surprise    286\n",
              "Name: label, dtype: int64"
            ]
          },
          "execution_count": 7,
          "metadata": {},
          "output_type": "execute_result"
        }
      ],
      "source": [
        "plt.figure(figsize=(8, 5))\n",
        "sns.countplot(x='label', data=df, order=df['label'].value_counts().index)\n",
        "plt.xlabel('Distribution of Emotion Label')\n",
        "plt.show()\n",
        "\n",
        "df['label'].value_counts().sort_index()"
      ]
    },
    {
      "cell_type": "markdown",
      "metadata": {
        "id": "kAwKSD_Mog9d"
      },
      "source": [
        "# 03 Preprocessing"
      ]
    },
    {
      "cell_type": "markdown",
      "metadata": {
        "id": "K35r8vqBpoNS"
      },
      "source": [
        "## Text Cleaning"
      ]
    },
    {
      "cell_type": "code",
      "execution_count": 8,
      "metadata": {
        "id": "n1QhalnAoi8J"
      },
      "outputs": [],
      "source": [
        "def text_cleaning(text):\n",
        "    text = text.lower()                               # Mengubah teks menjadi lower case\n",
        "    text = re.sub(r'https?://\\S+|www\\.\\S+', '', text) # Menghapus URL\n",
        "    text = re.sub(r'[-+]?[0-9]+', '', text)           # Menghapus angka\n",
        "    text = re.sub(r'[^\\w\\s]','', text)                # Menghapus karakter tanda baca\n",
        "    text = text.strip()                               # Menghapus whitespaces\n",
        "\n",
        "    return text"
      ]
    },
    {
      "cell_type": "code",
      "execution_count": 9,
      "metadata": {
        "colab": {
          "base_uri": "https://localhost:8080/"
        },
        "id": "1AnLUYCdolWm",
        "outputId": "6d03c60b-bd3f-42ea-edc6-f50f9ac8ceb1"
      },
      "outputs": [
        {
          "name": "stderr",
          "output_type": "stream",
          "text": [
            "100%|██████████| 2243/2243 [00:00<00:00, 67362.34it/s]"
          ]
        },
        {
          "name": "stdout",
          "output_type": "stream",
          "text": [
            "CPU times: user 40.6 ms, sys: 1.5 ms, total: 42.1 ms\n",
            "Wall time: 40.8 ms\n"
          ]
        },
        {
          "name": "stderr",
          "output_type": "stream",
          "text": [
            "\n"
          ]
        }
      ],
      "source": [
        "%%time\n",
        "df['tweet'] = df['tweet'].progress_apply(text_cleaning)"
      ]
    },
    {
      "cell_type": "markdown",
      "metadata": {
        "id": "angYLWoBpq1g"
      },
      "source": [
        "## Label Encoder"
      ]
    },
    {
      "cell_type": "code",
      "execution_count": 10,
      "metadata": {
        "colab": {
          "base_uri": "https://localhost:8080/"
        },
        "id": "73i94D1xpqPP",
        "outputId": "afd5fd7e-a2d6-4b50-b84f-5b0b41f5f7c6"
      },
      "outputs": [
        {
          "name": "stdout",
          "output_type": "stream",
          "text": [
            "                                               tweet    label  label_encode\n",
            "0        wah belom liat muka gue lagi murka hahahaha      joy             3\n",
            "1  mungkin kurang piknik adrenalin mereka yg skep...    anger             0\n",
            "2  maaf kalo tersinggung orang kurus cepet mati w...    anger             0\n",
            "3  berserah pada maha esa paling tabah dan sabar ...      joy             3\n",
            "4                       ehekk malu la hahahahahahaha  sadness             4\n"
          ]
        }
      ],
      "source": [
        "le = LabelEncoder()\n",
        "\n",
        "df['label_encode'] = le.fit_transform(df['label'])\n",
        "print(df.head())"
      ]
    },
    {
      "cell_type": "code",
      "execution_count": 11,
      "metadata": {
        "colab": {
          "base_uri": "https://localhost:8080/"
        },
        "id": "1cDGHkjDHut0",
        "outputId": "b8d9ebea-5aa6-4c2b-ee4d-3e8992618ff7"
      },
      "outputs": [
        {
          "name": "stdout",
          "output_type": "stream",
          "text": [
            "{'anger': 0, 'disgust': 1, 'fear': 2, 'joy': 3, 'sadness': 4, 'surprise': 5}\n"
          ]
        }
      ],
      "source": [
        "le_mapping = dict(zip(le.classes_, le.transform(le.classes_)))\n",
        "print(le_mapping)"
      ]
    },
    {
      "cell_type": "code",
      "execution_count": 12,
      "metadata": {
        "colab": {
          "base_uri": "https://localhost:8080/"
        },
        "id": "EOoyn1QmHvuL",
        "outputId": "9c1e046e-922c-4e7d-a2a9-f9044d2282a9"
      },
      "outputs": [
        {
          "name": "stdout",
          "output_type": "stream",
          "text": [
            "['anger' 'disgust' 'fear' 'joy' 'sadness' 'surprise']\n"
          ]
        }
      ],
      "source": [
        "LABEL_NAME = le.classes_\n",
        "print(LABEL_NAME)"
      ]
    },
    {
      "cell_type": "markdown",
      "metadata": {
        "id": "fux132KTpR6T"
      },
      "source": [
        "# 04 Feature Extraction"
      ]
    },
    {
      "cell_type": "code",
      "execution_count": 13,
      "metadata": {
        "id": "M26jXi-jphhS"
      },
      "outputs": [],
      "source": [
        "X = df['tweet']\n",
        "y = df['label_encode']"
      ]
    },
    {
      "cell_type": "code",
      "execution_count": 16,
      "metadata": {
        "colab": {
          "base_uri": "https://localhost:8080/"
        },
        "id": "pW38rFmYqKjP",
        "outputId": "f21b86ba-4151-41cf-b8e3-861b1b789024"
      },
      "outputs": [
        {
          "name": "stdout",
          "output_type": "stream",
          "text": [
            "39389\n"
          ]
        }
      ],
      "source": [
        "tf_idf = TfidfVectorizer(ngram_range=(1,2))\n",
        "tf_idf.fit(X)\n",
        "\n",
        "print(len(tf_idf.get_feature_names_out()))"
      ]
    },
    {
      "cell_type": "code",
      "execution_count": 41,
      "metadata": {
        "id": "7aBXSrhsU847"
      },
      "outputs": [],
      "source": [
        "vocab = tf_idf.vocabulary_"
      ]
    },
    {
      "cell_type": "code",
      "execution_count": 17,
      "metadata": {
        "colab": {
          "base_uri": "https://localhost:8080/"
        },
        "id": "S8HHdokSqKoh",
        "outputId": "1ba19356-dc8a-4cf6-e424-045d43b94486"
      },
      "outputs": [
        {
          "data": {
            "text/plain": [
              "array([[0., 0., 0., ..., 0., 0., 0.],\n",
              "       [0., 0., 0., ..., 0., 0., 0.],\n",
              "       [0., 0., 0., ..., 0., 0., 0.],\n",
              "       ...,\n",
              "       [0., 0., 0., ..., 0., 0., 0.],\n",
              "       [0., 0., 0., ..., 0., 0., 0.],\n",
              "       [0., 0., 0., ..., 0., 0., 0.]])"
            ]
          },
          "execution_count": 17,
          "metadata": {},
          "output_type": "execute_result"
        }
      ],
      "source": [
        "X_tf_idf = tf_idf.transform(X).toarray()\n",
        "X_tf_idf"
      ]
    },
    {
      "cell_type": "code",
      "execution_count": 18,
      "metadata": {
        "colab": {
          "base_uri": "https://localhost:8080/"
        },
        "id": "-QYcvp9FrQ-q",
        "outputId": "b3c7e6cc-a812-44f5-d421-1e56f814ffcf"
      },
      "outputs": [
        {
          "data": {
            "text/plain": [
              "(2243, 39389)"
            ]
          },
          "execution_count": 18,
          "metadata": {},
          "output_type": "execute_result"
        }
      ],
      "source": [
        "X_tf_idf.shape"
      ]
    },
    {
      "cell_type": "markdown",
      "metadata": {
        "id": "lN-hUFrHqg6X"
      },
      "source": [
        "# 05 Train & Test Data Splitting"
      ]
    },
    {
      "cell_type": "code",
      "execution_count": 19,
      "metadata": {
        "colab": {
          "base_uri": "https://localhost:8080/"
        },
        "id": "Uq3h40wSqKtp",
        "outputId": "dbd9c4a5-1460-43c4-8d09-a97963ed4b32"
      },
      "outputs": [
        {
          "data": {
            "text/plain": [
              "((1794, 39389), (449, 39389), (1794,), (449,))"
            ]
          },
          "execution_count": 19,
          "metadata": {},
          "output_type": "execute_result"
        }
      ],
      "source": [
        "X_train, X_test, y_train, y_test = train_test_split(X_tf_idf, y, test_size=0.20, random_state=SEED)\n",
        "X_train.shape, X_test.shape, y_train.shape, y_test.shape"
      ]
    },
    {
      "cell_type": "markdown",
      "metadata": {
        "id": "-Bt_SNTsrhv-"
      },
      "source": [
        "# 06 Modeling"
      ]
    },
    {
      "cell_type": "code",
      "execution_count": 21,
      "metadata": {
        "id": "0tbDrjUMhYkz"
      },
      "outputs": [],
      "source": [
        "# Define machine learning models\n",
        "models = [\n",
        "          ('KNN', KNeighborsClassifier()),\n",
        "          ('NAIVE BAYES', MultinomialNB()),\n",
        "          ('SVM', SVC()),\n",
        "          ('DECISION TREE', DecisionTreeClassifier()),\n",
        "          ('RANDOM FOREST', RandomForestClassifier())\n",
        "        ]"
      ]
    },
    {
      "cell_type": "code",
      "execution_count": 22,
      "metadata": {
        "id": "shj6RtEqmTP4"
      },
      "outputs": [],
      "source": [
        "def truncate(n, decimals=0):\n",
        "  multiplier = 10 ** decimals\n",
        "  return int(n * multiplier) / multiplier"
      ]
    },
    {
      "cell_type": "code",
      "execution_count": 23,
      "metadata": {
        "colab": {
          "base_uri": "https://localhost:8080/"
        },
        "id": "k6MZHPG3hK5Z",
        "outputId": "06bf8250-8c9a-497e-b2cd-d2859f6928f1"
      },
      "outputs": [
        {
          "name": "stdout",
          "output_type": "stream",
          "text": [
            "[INFO] Loading using KNN ...\n",
            "[INFO] Cross validation:\n",
            "\tAccuracy for the fold no. 0 on the test set: 0.551\n",
            "\tAccuracy for the fold no. 1 on the test set: 0.579\n",
            "\tAccuracy for the fold no. 2 on the test set: 0.559\n",
            "\tAccuracy for the fold no. 3 on the test set: 0.534\n",
            "\tAccuracy for the fold no. 4 on the test set: 0.557\n",
            "\tAccuracy for the fold no. 5 on the test set: 0.565\n",
            "\tAccuracy for the fold no. 6 on the test set: 0.529\n",
            "\tAccuracy for the fold no. 7 on the test set: 0.593\n",
            "\tAccuracy for the fold no. 8 on the test set: 0.554\n",
            "\tAccuracy for the fold no. 9 on the test set: 0.551\n",
            "\n",
            "[INFO] Training accuracy: 0.711\n",
            "[INFO] Cross validation accuracy: 0.551\n",
            "[INFO] Testing accuracy: 0.527\n",
            "\n",
            "[INFO] Loading using NAIVE BAYES ...\n",
            "[INFO] Cross validation:\n",
            "\tAccuracy for the fold no. 0 on the test set: 0.523\n",
            "\tAccuracy for the fold no. 1 on the test set: 0.52\n",
            "\tAccuracy for the fold no. 2 on the test set: 0.445\n",
            "\tAccuracy for the fold no. 3 on the test set: 0.512\n",
            "\tAccuracy for the fold no. 4 on the test set: 0.518\n",
            "\tAccuracy for the fold no. 5 on the test set: 0.582\n",
            "\tAccuracy for the fold no. 6 on the test set: 0.526\n",
            "\tAccuracy for the fold no. 7 on the test set: 0.537\n",
            "\tAccuracy for the fold no. 8 on the test set: 0.584\n",
            "\tAccuracy for the fold no. 9 on the test set: 0.559\n",
            "\n",
            "[INFO] Training accuracy: 0.981\n",
            "[INFO] Cross validation accuracy: 0.559\n",
            "[INFO] Testing accuracy: 0.57\n",
            "\n",
            "[INFO] Loading using SVM ...\n",
            "[INFO] Cross validation:\n",
            "\tAccuracy for the fold no. 0 on the test set: 0.604\n",
            "\tAccuracy for the fold no. 1 on the test set: 0.571\n",
            "\tAccuracy for the fold no. 2 on the test set: 0.529\n",
            "\tAccuracy for the fold no. 3 on the test set: 0.584\n",
            "\tAccuracy for the fold no. 4 on the test set: 0.604\n",
            "\tAccuracy for the fold no. 5 on the test set: 0.646\n",
            "\tAccuracy for the fold no. 6 on the test set: 0.618\n",
            "\tAccuracy for the fold no. 7 on the test set: 0.612\n",
            "\tAccuracy for the fold no. 8 on the test set: 0.646\n",
            "\tAccuracy for the fold no. 9 on the test set: 0.598\n",
            "\n",
            "[INFO] Training accuracy: 0.995\n",
            "[INFO] Cross validation accuracy: 0.598\n",
            "[INFO] Testing accuracy: 0.67\n",
            "\n",
            "[INFO] Loading using DECISION TREE ...\n",
            "[INFO] Cross validation:\n",
            "\tAccuracy for the fold no. 0 on the test set: 0.791\n",
            "\tAccuracy for the fold no. 1 on the test set: 0.816\n",
            "\tAccuracy for the fold no. 2 on the test set: 0.816\n",
            "\tAccuracy for the fold no. 3 on the test set: 0.813\n",
            "\tAccuracy for the fold no. 4 on the test set: 0.805\n",
            "\tAccuracy for the fold no. 5 on the test set: 0.788\n",
            "\tAccuracy for the fold no. 6 on the test set: 0.802\n",
            "\tAccuracy for the fold no. 7 on the test set: 0.791\n",
            "\tAccuracy for the fold no. 8 on the test set: 0.782\n",
            "\tAccuracy for the fold no. 9 on the test set: 0.777\n",
            "\n",
            "[INFO] Training accuracy: 0.995\n",
            "[INFO] Cross validation accuracy: 0.777\n",
            "[INFO] Testing accuracy: 0.766\n",
            "\n",
            "[INFO] Loading using RANDOM FOREST ...\n",
            "[INFO] Cross validation:\n",
            "\tAccuracy for the fold no. 0 on the test set: 0.838\n",
            "\tAccuracy for the fold no. 1 on the test set: 0.83\n",
            "\tAccuracy for the fold no. 2 on the test set: 0.832\n",
            "\tAccuracy for the fold no. 3 on the test set: 0.846\n",
            "\tAccuracy for the fold no. 4 on the test set: 0.835\n",
            "\tAccuracy for the fold no. 5 on the test set: 0.835\n",
            "\tAccuracy for the fold no. 6 on the test set: 0.844\n",
            "\tAccuracy for the fold no. 7 on the test set: 0.832\n",
            "\tAccuracy for the fold no. 8 on the test set: 0.827\n",
            "\tAccuracy for the fold no. 9 on the test set: 0.807\n",
            "\n",
            "[INFO] Training accuracy: 0.995\n",
            "[INFO] Cross validation accuracy: 0.807\n",
            "[INFO] Testing accuracy: 0.797\n",
            "\n",
            "[INFO] Done ..,\n",
            "CPU times: user 1h 10min 6s, sys: 2h 10min 18s, total: 3h 20min 24s\n",
            "Wall time: 54min 26s\n"
          ]
        }
      ],
      "source": [
        "%%time\n",
        "\n",
        "for name, model in models:\n",
        "  print(f'[INFO] Loading using {name} ...')\n",
        "  clf = model.fit(X_train, y_train)\n",
        "  model_predict = clf.predict(X_test)                               # model prediction\n",
        "  train_accuracy = accuracy_score(y_train, clf.predict(X_train))    # get training accuracy\n",
        "  \n",
        "  print('[INFO] Cross validation:')\n",
        "  cross_validation = ShuffleSplit(n_splits=10, test_size=0.2, random_state=SEED)\n",
        "  for i, score in enumerate(cross_val_score(model, X_train, y_train, scoring='accuracy', cv=cross_validation)):\n",
        "    cv_accuracy_mean = truncate(score.mean(), 3)\n",
        "    print(f'\\tAccuracy for the fold no. {i} on the test set: {truncate(score, 3)}')\n",
        "\n",
        "  test_accuracy = accuracy_score(y_test, model_predict)\n",
        "\n",
        "  print(f'\\n[INFO] Training accuracy: {truncate(train_accuracy, 3)}')\n",
        "  print(f'[INFO] Cross validation accuracy: {cv_accuracy_mean}')\n",
        "  print(f'[INFO] Testing accuracy: {truncate(test_accuracy, 3)}\\n')\n",
        "\n",
        "print('[INFO] Done ..,')"
      ]
    },
    {
      "cell_type": "markdown",
      "metadata": {
        "id": "aBL7RLiymvRA"
      },
      "source": [
        "# 07 Hyperparameter Tuning"
      ]
    },
    {
      "cell_type": "code",
      "execution_count": 26,
      "metadata": {
        "id": "JXkWuPL65tQT"
      },
      "outputs": [],
      "source": [
        "from sklearn.model_selection import GridSearchCV"
      ]
    },
    {
      "cell_type": "code",
      "execution_count": 27,
      "metadata": {
        "colab": {
          "base_uri": "https://localhost:8080/"
        },
        "id": "iHcPxbB-muui",
        "outputId": "935b7fae-5df0-4004-c9b4-6af6e76c587d"
      },
      "outputs": [
        {
          "name": "stdout",
          "output_type": "stream",
          "text": [
            "Fitting 10 folds for each of 81 candidates, totalling 810 fits\n",
            "CPU times: user 45.4 s, sys: 3.03 s, total: 48.4 s\n",
            "Wall time: 36min 52s\n"
          ]
        }
      ],
      "source": [
        "%%time\n",
        "\n",
        "rf = RandomForestClassifier() # Based model\n",
        "\n",
        "rf_parameters = {\n",
        "    'bootstrap': [True],\n",
        "    'max_depth': [10, 30, None], \n",
        "    'min_samples_leaf': [3, 4, 5],\n",
        "    'min_samples_split': [8, 10, 12],\n",
        "    'n_estimators': [100, 200, 300]\n",
        "    }\n",
        "\n",
        "grid = GridSearchCV(estimator=rf, param_grid=rf_parameters, refit=True, cv=cross_validation, n_jobs=-1, verbose=2)\n",
        "grid.fit(X_train, y_train)"
      ]
    },
    {
      "cell_type": "code",
      "execution_count": 28,
      "metadata": {
        "colab": {
          "base_uri": "https://localhost:8080/"
        },
        "id": "5y-sB5OdSgMv",
        "outputId": "9785bb50-0ba5-49d7-9773-c0d258d4dffe"
      },
      "outputs": [
        {
          "name": "stdout",
          "output_type": "stream",
          "text": [
            "{'bootstrap': True, 'max_depth': None, 'min_samples_leaf': 3, 'min_samples_split': 12, 'n_estimators': 300}\n"
          ]
        }
      ],
      "source": [
        "# print best parameter after tuning \n",
        "print(grid.best_params_) "
      ]
    },
    {
      "cell_type": "code",
      "execution_count": null,
      "metadata": {
        "id": "J0pVztTwSoBn"
      },
      "outputs": [],
      "source": [
        "grid.get_params"
      ]
    },
    {
      "cell_type": "markdown",
      "metadata": {
        "id": "yJa6aGIZf7hU"
      },
      "source": [
        "# 08 Evaluation"
      ]
    },
    {
      "cell_type": "code",
      "execution_count": 66,
      "metadata": {
        "colab": {
          "base_uri": "https://localhost:8080/"
        },
        "id": "9cji9yh3tUQZ",
        "outputId": "986fae26-2254-4509-ef13-91a7cbbcefa7"
      },
      "outputs": [
        {
          "name": "stdout",
          "output_type": "stream",
          "text": [
            "Accuracy: 0.792\n"
          ]
        }
      ],
      "source": [
        "y_pred = grid.predict(X_test)\n",
        "y_true = y_test\n",
        "\n",
        "print(f'Accuracy: {truncate(accuracy_score(y_true, y_pred), 3)}')"
      ]
    },
    {
      "cell_type": "code",
      "execution_count": 31,
      "metadata": {
        "colab": {
          "base_uri": "https://localhost:8080/",
          "height": 441
        },
        "id": "-ZG2Yo89tr0T",
        "outputId": "aad0290e-b8df-442e-a776-a81a8d98eb3c"
      },
      "outputs": [
        {
          "data": {
            "image/png": "[encoded data removed]",
            "text/plain": [
              "<Figure size 576x432 with 2 Axes>"
            ]
          },
          "metadata": {
            "needs_background": "light"
          },
          "output_type": "display_data"
        }
      ],
      "source": [
        "cm = confusion_matrix(y_true, y_pred)\n",
        "\n",
        "plt.figure(figsize=(8, 6))\n",
        "ax = plt.subplot()\n",
        "sns.heatmap(cm, annot=True, fmt='g', ax=ax, cmap='Blues')  # annot=True to annotate cells, ftm='g' to disable scientific notation\n",
        "\n",
        "ax.set_xlabel('Predicted labels')\n",
        "ax.set_ylabel('True labels') \n",
        "ax.set_title('Confusion Matrix')\n",
        "ax.xaxis.set_ticklabels(LABEL_NAME)\n",
        "ax.yaxis.set_ticklabels(LABEL_NAME)\n",
        "plt.tight_layout()"
      ]
    },
    {
      "cell_type": "code",
      "execution_count": 32,
      "metadata": {
        "colab": {
          "base_uri": "https://localhost:8080/"
        },
        "id": "E-prGPEVpoWF",
        "outputId": "3928d9a8-3cf6-47ee-9eca-6d21154e2ed0"
      },
      "outputs": [
        {
          "name": "stdout",
          "output_type": "stream",
          "text": [
            "              precision    recall  f1-score   support\n",
            "\n",
            "       anger       0.75      0.68      0.72       120\n",
            "     disgust       0.96      0.88      0.92        76\n",
            "        fear       0.89      0.88      0.88        73\n",
            "         joy       0.77      0.81      0.79        79\n",
            "     sadness       0.69      0.73      0.71        48\n",
            "    surprise       0.69      0.83      0.75        53\n",
            "\n",
            "    accuracy                           0.79       449\n",
            "   macro avg       0.79      0.80      0.79       449\n",
            "weighted avg       0.80      0.79      0.79       449\n",
            "\n"
          ]
        }
      ],
      "source": [
        "print(classification_report(y_pred, y_true, target_names=LABEL_NAME))"
      ]
    },
    {
      "cell_type": "code",
      "execution_count": 33,
      "metadata": {
        "id": "E_IL9VpSS7uP"
      },
      "outputs": [],
      "source": [
        "def plot_roc_curve(y_test, y_pred):\n",
        "  \n",
        "  n_classes = len(np.unique(y_test))\n",
        "  y_test = label_binarize(y_test, classes=np.arange(len(LABEL_NAME)))\n",
        "  y_pred = label_binarize(y_pred, classes=np.arange(len(LABEL_NAME)))\n",
        "\n",
        "  # Compute ROC curve and ROC area for each class\n",
        "  fpr = dict()\n",
        "  tpr = dict()\n",
        "  roc_auc = dict()\n",
        "  for i in range(n_classes):\n",
        "    fpr[i], tpr[i], _ = roc_curve(y_test[:, i], y_pred[:, i])\n",
        "    roc_auc[i] = auc(fpr[i], tpr[i])\n",
        "  \n",
        "  # Compute micro-average ROC curve and ROC area\n",
        "  fpr['micro'], tpr['micro'], _ = roc_curve(y_test.ravel(), y_pred.ravel())\n",
        "  roc_auc['micro'] = auc(fpr['micro'], tpr['micro'])\n",
        "\n",
        "  # First aggregate all false positive rates\n",
        "  all_fpr = np.unique(np.concatenate([fpr[i] for i in range(n_classes)]))\n",
        "\n",
        "  # Then interpolate all ROC curves at this points\n",
        "  mean_tpr = np.zeros_like(all_fpr)\n",
        "  for i in range(n_classes):\n",
        "    mean_tpr += np.interp(all_fpr, fpr[i], tpr[i])\n",
        "\n",
        "  # Finally average it and compute AUC\n",
        "  mean_tpr /= n_classes\n",
        "\n",
        "  fpr['macro'] = all_fpr\n",
        "  tpr['macro'] = mean_tpr\n",
        "  roc_auc['macro'] = auc(fpr['macro'], tpr['macro'])\n",
        "\n",
        "  # Plot all ROC curves\n",
        "  plt.figure(figsize=(10, 7))\n",
        "  lw = 2\n",
        "  plt.plot(fpr['micro'], tpr['micro'],\n",
        "    label='micro-average ROC curve (area = {0:0.2f})'.format(roc_auc['micro']),\n",
        "    color='deeppink', linestyle=':', linewidth=4,)\n",
        "\n",
        "  plt.plot(fpr['macro'], tpr['macro'],\n",
        "    label='macro-average ROC curve (area = {0:0.2f})'.format(roc_auc['macro']),\n",
        "    color='navy', linestyle=':', linewidth=4,)\n",
        "\n",
        "  colors = cycle(['aqua', 'darkorange', 'darkgreen', 'yellow', 'blue', 'red'])\n",
        "  for i, color, label in zip(range(n_classes), colors, LABEL_NAME):\n",
        "    plt.plot(fpr[i], tpr[i], color=color, lw=lw,\n",
        "        label=\"ROC curve of class {0} (area = {1:0.2f})\".format(label, roc_auc[i]))\n",
        "\n",
        "  plt.plot([0, 1], [0, 1], 'k--', lw=lw)\n",
        "  plt.xlim([0.0, 1.0])\n",
        "  plt.ylim([0.0, 1.05])\n",
        "  plt.xlabel('False Positive Rate')\n",
        "  plt.ylabel('True Positive Rate')\n",
        "  plt.title('Receiver Operating Characteristic (ROC) curve')\n",
        "  plt.legend()\n",
        "  plt.show()"
      ]
    },
    {
      "cell_type": "code",
      "execution_count": 38,
      "metadata": {
        "colab": {
          "base_uri": "https://localhost:8080/",
          "height": 458
        },
        "id": "IqzIJwHzS-B4",
        "outputId": "7dbeb348-e912-4b5c-85c6-58833e0bfc75"
      },
      "outputs": [
        {
          "data": {
            "image/png": "[encoded data removed]",
            "text/plain": [
              "<Figure size 720x504 with 1 Axes>"
            ]
          },
          "metadata": {
            "needs_background": "light"
          },
          "output_type": "display_data"
        }
      ],
      "source": [
        "plot_roc_curve(y_pred, y_true)"
      ]
    },
    {
      "cell_type": "markdown",
      "metadata": {
        "id": "I6i1N3ACT5lO"
      },
      "source": [
        "# 09 Predict on New Data"
      ]
    },
    {
      "cell_type": "code",
      "execution_count": 64,
      "metadata": {
        "colab": {
          "base_uri": "https://localhost:8080/"
        },
        "id": "VclIiianTcCV",
        "outputId": "91413e00-0ee0-456a-be13-f2807face453"
      },
      "outputs": [
        {
          "name": "stdout",
          "output_type": "stream",
          "text": [
            "[4] ['sadness']\n"
          ]
        }
      ],
      "source": [
        "new_text = 'Hargai kebahagiaan jika kamu pernah sedih'\n",
        "\n",
        "pre_input_text = text_cleaning(new_text)                            # Lakukan text pre processing pada text input\n",
        "tf_idf_vec = TfidfVectorizer(vocabulary=set(vocab))                 # Definisikan TF_IDF dan load voba dari feature extraction\n",
        "predict = grid.predict(tf_idf_vec.fit_transform([pre_input_text]))  # Lakukan prediksi\n",
        "\n",
        "print(predict, LABEL_NAME[(predict)])"
      ]
    }
  ],
  "metadata": {
    "colab": {
      "authorship_tag": "ABX9TyNW0etSdnOdx6PfcFhCFC8x",
      "collapsed_sections": [],
      "include_colab_link": true,
      "machine_shape": "hm",
      "name": "01-machine-learning.ipynb",
      "provenance": [],
      "toc_visible": true
    },
    "kernelspec": {
      "display_name": "Python 3",
      "name": "python3"
    },
    "language_info": {
      "name": "python"
    }
  },
  "nbformat": 4,
  "nbformat_minor": 0
}
