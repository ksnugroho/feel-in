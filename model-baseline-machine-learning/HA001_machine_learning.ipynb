{
  "cells": [
    {
      "cell_type": "markdown",
      "metadata": {
        "id": "view-in-github",
        "colab_type": "text"
      },
      "source": [
        "<a href=\"https://colab.research.google.com/github/ksnugroho/feel-in/blob/main/model-baseline-machine-learning/HA001_machine_learning.ipynb\" target=\"_parent\"><img src=\"https://colab.research.google.com/assets/colab-badge.svg\" alt=\"Open In Colab\"/></a>"
      ]
    },
    {
      "cell_type": "markdown",
      "metadata": {
        "id": "mWI95HWYoGz2"
      },
      "source": [
        "# **Machine Learning Model**\n",
        "\n",
        "**Thesis: Emotion Detection in Indonesian Text**\n",
        "\n",
        "Kuncahyo Setyo Nugroho<br>\n",
        "Supervisor:\n",
        "1. Dr. Eng. Fitra A. Bachtiar, S.T., M.Eng.\n",
        "2. Prof. Ir. Wayan Firdaus Mahmudy, S.Si., M.T., Ph.D.\n",
        "\n",
        "Faculty of Computer Science, Brawijaya University, Indonesia &copy; 2021-2022"
      ]
    },
    {
      "cell_type": "markdown",
      "metadata": {
        "id": "itm9wMAPoJhi"
      },
      "source": [
        "# 01 Setup"
      ]
    },
    {
      "cell_type": "code",
      "execution_count": null,
      "metadata": {
        "id": "ZALLtnV3oCau",
        "colab": {
          "base_uri": "https://localhost:8080/"
        },
        "outputId": "96a6852f-a184-4479-85d3-82469c9b996d"
      },
      "outputs": [
        {
          "output_type": "stream",
          "name": "stdout",
          "text": [
            "Mounted at /content/drive\n"
          ]
        }
      ],
      "source": [
        "from google.colab import drive\n",
        "drive.mount('/content/drive', force_remount=True)"
      ]
    },
    {
      "cell_type": "code",
      "execution_count": null,
      "metadata": {
        "id": "Ex9vbzC5oNHD",
        "colab": {
          "base_uri": "https://localhost:8080/"
        },
        "outputId": "c18eb67d-493c-4264-af9c-4fc6b4154d84"
      },
      "outputs": [
        {
          "output_type": "stream",
          "name": "stdout",
          "text": [
            "/content/drive/.shortcut-targets-by-id/1of66RueJPg6brfoSy1p4Wv3bofi-IrI5/tesis\n"
          ]
        }
      ],
      "source": [
        "%cd /content/drive/MyDrive/Code/tesis"
      ]
    },
    {
      "cell_type": "code",
      "execution_count": null,
      "metadata": {
        "id": "y2eqLRusJHuA",
        "colab": {
          "base_uri": "https://localhost:8080/"
        },
        "outputId": "fd0055ee-7854-4350-9ed4-be16084e7637"
      },
      "outputs": [
        {
          "output_type": "stream",
          "name": "stdout",
          "text": [
            "\u001b[K     |████████████████████████████████| 69 kB 5.8 MB/s \n",
            "\u001b[K     |████████████████████████████████| 22.6 MB 1.1 MB/s \n",
            "\u001b[K     |████████████████████████████████| 284.3 MB 2.0 kB/s \n",
            "\u001b[K     |████████████████████████████████| 4.0 MB 57.4 MB/s \n",
            "\u001b[?25h"
          ]
        }
      ],
      "source": [
        "# https://github.com/intel/scikit-learn-intelex\n",
        "!pip install -q scikit-learn-intelex==2021.5.3"
      ]
    },
    {
      "cell_type": "code",
      "execution_count": null,
      "metadata": {
        "id": "QAy98dmDJZPy",
        "colab": {
          "base_uri": "https://localhost:8080/"
        },
        "outputId": "e9793a38-d813-42a3-a20f-5a15d140b280"
      },
      "outputs": [
        {
          "output_type": "stream",
          "name": "stderr",
          "text": [
            "Intel(R) Extension for Scikit-learn* enabled (https://github.com/intel/scikit-learn-intelex)\n"
          ]
        }
      ],
      "source": [
        "from sklearnex import patch_sklearn\n",
        "patch_sklearn()"
      ]
    },
    {
      "cell_type": "code",
      "execution_count": null,
      "metadata": {
        "id": "QT4qIW8IoPQW"
      },
      "outputs": [],
      "source": [
        "import re\n",
        "import os\n",
        "import datetime\n",
        "import numpy as np\n",
        "import pandas as pd\n",
        "import matplotlib.pyplot as plt\n",
        "import seaborn as sns\n",
        "\n",
        "from itertools import cycle\n",
        "from sklearn.preprocessing import LabelEncoder\n",
        "from sklearn.model_selection import train_test_split, ShuffleSplit, cross_val_score\n",
        "from sklearn.feature_extraction.text import TfidfVectorizer\n",
        "from sklearn.feature_selection import SelectKBest, chi2\n",
        "from sklearn.neighbors import KNeighborsClassifier\n",
        "from sklearn.naive_bayes import MultinomialNB\n",
        "from sklearn.svm import SVC\n",
        "from sklearn.tree import DecisionTreeClassifier\n",
        "from sklearn.metrics import confusion_matrix, classification_report, accuracy_score, recall_score, precision_score, f1_score\n",
        "\n",
        "import warnings\n",
        "warnings.filterwarnings('ignore')\n",
        "\n",
        "from tqdm import tqdm\n",
        "tqdm.pandas()\n",
        "\n",
        "SEED = 50\n",
        "FOLDER_PATH = 'model-baseline-machine-learning'\n",
        "DATASET = 'final-tweet-human-annotation'\n",
        "\n",
        "np.random.seed(SEED)\n",
        "\n",
        "%matplotlib inline"
      ]
    },
    {
      "cell_type": "code",
      "execution_count": null,
      "metadata": {
        "id": "OlG0EaOKMGjf",
        "colab": {
          "base_uri": "https://localhost:8080/"
        },
        "outputId": "7e60038f-dcf6-497a-dd50-6cc29e550af8"
      },
      "outputs": [
        {
          "output_type": "stream",
          "name": "stdout",
          "text": [
            "\u001b[K     |████████████████████████████████| 1.9 MB 15.2 MB/s \n",
            "\u001b[K     |████████████████████████████████| 174 kB 78.7 MB/s \n",
            "\u001b[K     |████████████████████████████████| 184 kB 71.9 MB/s \n",
            "\u001b[K     |████████████████████████████████| 62 kB 1.4 MB/s \n",
            "\u001b[K     |████████████████████████████████| 173 kB 79.9 MB/s \n",
            "\u001b[K     |████████████████████████████████| 168 kB 82.7 MB/s \n",
            "\u001b[K     |████████████████████████████████| 168 kB 78.9 MB/s \n",
            "\u001b[K     |████████████████████████████████| 166 kB 77.5 MB/s \n",
            "\u001b[K     |████████████████████████████████| 166 kB 79.5 MB/s \n",
            "\u001b[K     |████████████████████████████████| 162 kB 84.3 MB/s \n",
            "\u001b[K     |████████████████████████████████| 162 kB 76.8 MB/s \n",
            "\u001b[K     |████████████████████████████████| 158 kB 76.6 MB/s \n",
            "\u001b[K     |████████████████████████████████| 157 kB 76.4 MB/s \n",
            "\u001b[K     |████████████████████████████████| 157 kB 76.7 MB/s \n",
            "\u001b[K     |████████████████████████████████| 157 kB 74.8 MB/s \n",
            "\u001b[K     |████████████████████████████████| 157 kB 66.0 MB/s \n",
            "\u001b[K     |████████████████████████████████| 157 kB 79.3 MB/s \n",
            "\u001b[K     |████████████████████████████████| 157 kB 61.3 MB/s \n",
            "\u001b[K     |████████████████████████████████| 157 kB 78.8 MB/s \n",
            "\u001b[K     |████████████████████████████████| 156 kB 81.9 MB/s \n",
            "\u001b[?25h  Building wheel for pathtools (setup.py) ... \u001b[?25l\u001b[?25hdone\n"
          ]
        }
      ],
      "source": [
        "# https://github.com/wandb/wandb\n",
        "!pip install -q wandb"
      ]
    },
    {
      "cell_type": "code",
      "execution_count": null,
      "metadata": {
        "id": "T9HWDVA7MM1-",
        "colab": {
          "base_uri": "https://localhost:8080/"
        },
        "outputId": "f961f747-3ce0-4359-9956-e3bee4851691"
      },
      "outputs": [
        {
          "output_type": "stream",
          "name": "stderr",
          "text": [
            "\u001b[34m\u001b[1mwandb\u001b[0m: W&B API key is configured. Use \u001b[1m`wandb login --relogin`\u001b[0m to force relogin\n",
            "\u001b[34m\u001b[1mwandb\u001b[0m: \u001b[33mWARNING\u001b[0m If you're specifying your api key in code, ensure this code is not shared publicly.\n",
            "\u001b[34m\u001b[1mwandb\u001b[0m: \u001b[33mWARNING\u001b[0m Consider setting the WANDB_API_KEY environment variable, or running `wandb login` from the command line.\n",
            "\u001b[34m\u001b[1mwandb\u001b[0m: Appending key for api.wandb.ai to your netrc file: /root/.netrc\n"
          ]
        }
      ],
      "source": [
        "import wandb\n",
        "from wandb.sklearn import plot_confusion_matrix, plot_precision_recall, plot_class_proportions, plot_learning_curve, plot_roc, plot_summary_metrics\n",
        "\n",
        "os.environ['WANDB_MODE'] = 'online' # mode: disabled, online, offline\n",
        "os.environ['WANDB_NOTEBOOK_NAME'] = f'{FOLDER_PATH}/HA001-machine-learning.ipynb'\n",
        "\n",
        "wandb.login(key='bd42e3aab9cac21a2416900b1114532802619de3')\n",
        "\n",
        "WANDB_PROJECT = 'model-baseline-machine-learning'\n",
        "WANDB_ENTITY = 'indoemobert'"
      ]
    },
    {
      "cell_type": "markdown",
      "metadata": {
        "id": "U7fAQEMloPuA"
      },
      "source": [
        "# 02 Load Data (Human Annotation)"
      ]
    },
    {
      "cell_type": "code",
      "execution_count": null,
      "metadata": {
        "id": "CARGvi0xoRCH",
        "colab": {
          "base_uri": "https://localhost:8080/"
        },
        "outputId": "f5fd4f17-c111-4bc8-d94c-b5e1d496a3e3"
      },
      "outputs": [
        {
          "output_type": "stream",
          "name": "stdout",
          "text": [
            "                                               tweet    label\n",
            "0        wah belom liat muka gue lagi murka hahahaha      joy\n",
            "1  Mungkin kurang piknik adrenalin. Mereka yg ske...    anger\n",
            "2  maaf kalo tersinggung \"orang kurus cepet mati\"...    anger\n",
            "3  berserah pada maha esa paling tabah dan sabar ...      joy\n",
            "4                       Ehekk malu la hahahahahahaha  sadness\n"
          ]
        }
      ],
      "source": [
        "df = pd.read_csv('data/final-tweet-human-annotation.csv', index_col=0)\n",
        "# df = df.sample(frac=1, random_state=SEED).reset_index(drop=True)   # For shuffle\n",
        "print(df.head())"
      ]
    },
    {
      "cell_type": "code",
      "execution_count": null,
      "metadata": {
        "id": "dd1GYx69HqZ5"
      },
      "outputs": [],
      "source": [
        "# df = df.dropna()"
      ]
    },
    {
      "cell_type": "code",
      "execution_count": null,
      "metadata": {
        "id": "kBO9cdcVoevc",
        "colab": {
          "base_uri": "https://localhost:8080/"
        },
        "outputId": "39f5564e-ad87-4a75-e1b5-a7e395f77c20"
      },
      "outputs": [
        {
          "output_type": "execute_result",
          "data": {
            "text/plain": [
              "(2243, 2)"
            ]
          },
          "metadata": {},
          "execution_count": 10
        }
      ],
      "source": [
        "df.shape"
      ]
    },
    {
      "cell_type": "code",
      "execution_count": null,
      "metadata": {
        "id": "1AbFcDzYof6v",
        "colab": {
          "base_uri": "https://localhost:8080/",
          "height": 475
        },
        "outputId": "81bd2c70-7c7f-4df2-ebd2-84fc04e4aaec"
      },
      "outputs": [
        {
          "output_type": "display_data",
          "data": {
            "text/plain": [
              "<Figure size 576x360 with 1 Axes>"
            ],
            "image/png": "[encoded data removed]"
          },
          "metadata": {
            "needs_background": "light"
          }
        },
        {
          "output_type": "execute_result",
          "data": {
            "text/plain": [
              "anger       475\n",
              "disgust     355\n",
              "fear        395\n",
              "joy         429\n",
              "sadness     303\n",
              "surprise    286\n",
              "Name: label, dtype: int64"
            ]
          },
          "metadata": {},
          "execution_count": 11
        }
      ],
      "source": [
        "plt.figure(figsize=(8, 5))\n",
        "sns.countplot(x='label', data=df, order=df['label'].value_counts().index)\n",
        "plt.xlabel('Labels')\n",
        "plt.ylabel('Count')\n",
        "plt.title('Distribution of Emotion Labels')\n",
        "plt.show()\n",
        "\n",
        "df['label'].value_counts().sort_index()"
      ]
    },
    {
      "cell_type": "markdown",
      "metadata": {
        "id": "kAwKSD_Mog9d"
      },
      "source": [
        "# 03 Preprocessing"
      ]
    },
    {
      "cell_type": "markdown",
      "metadata": {
        "id": "K35r8vqBpoNS"
      },
      "source": [
        "## Text Cleaning"
      ]
    },
    {
      "cell_type": "code",
      "execution_count": null,
      "metadata": {
        "id": "n1QhalnAoi8J"
      },
      "outputs": [],
      "source": [
        "def text_cleaning(text):\n",
        "  text = text.lower()                               # Mengubah teks menjadi lower case\n",
        "  text = re.sub(r'https?://\\S+|www\\.\\S+', '', text) # Menghapus URL\n",
        "  text = re.sub(r'[-+]?[0-9]+', '', text)           # Menghapus angka\n",
        "  text = re.sub(r'[^\\w\\s]','', text)                # Menghapus karakter tanda baca\n",
        "  text = text.strip()                               # Menghapus whitespaces\n",
        "\n",
        "  return text"
      ]
    },
    {
      "cell_type": "code",
      "execution_count": null,
      "metadata": {
        "id": "1AnLUYCdolWm",
        "colab": {
          "base_uri": "https://localhost:8080/"
        },
        "outputId": "871afbb8-5460-4bdb-8ca1-84e15d8e0e02"
      },
      "outputs": [
        {
          "output_type": "stream",
          "name": "stderr",
          "text": [
            "100%|██████████| 2243/2243 [00:00<00:00, 71013.70it/s]"
          ]
        },
        {
          "output_type": "stream",
          "name": "stdout",
          "text": [
            "CPU times: user 37.7 ms, sys: 3.41 ms, total: 41.2 ms\n",
            "Wall time: 42.1 ms\n"
          ]
        },
        {
          "output_type": "stream",
          "name": "stderr",
          "text": [
            "\n"
          ]
        }
      ],
      "source": [
        "%%time\n",
        "df['tweet'] = df['tweet'].progress_apply(text_cleaning)"
      ]
    },
    {
      "cell_type": "markdown",
      "metadata": {
        "id": "angYLWoBpq1g"
      },
      "source": [
        "## Label Encoder"
      ]
    },
    {
      "cell_type": "code",
      "execution_count": null,
      "metadata": {
        "id": "73i94D1xpqPP",
        "colab": {
          "base_uri": "https://localhost:8080/"
        },
        "outputId": "9c1c97b7-e78d-4037-8edc-ea818c4f0eea"
      },
      "outputs": [
        {
          "output_type": "stream",
          "name": "stdout",
          "text": [
            "                                               tweet    label  label_encode\n",
            "0        wah belom liat muka gue lagi murka hahahaha      joy             3\n",
            "1  mungkin kurang piknik adrenalin mereka yg skep...    anger             0\n",
            "2  maaf kalo tersinggung orang kurus cepet mati w...    anger             0\n",
            "3  berserah pada maha esa paling tabah dan sabar ...      joy             3\n",
            "4                       ehekk malu la hahahahahahaha  sadness             4\n"
          ]
        }
      ],
      "source": [
        "le = LabelEncoder()\n",
        "\n",
        "df['label_encode'] = le.fit_transform(df['label'])\n",
        "print(df.head())"
      ]
    },
    {
      "cell_type": "code",
      "execution_count": null,
      "metadata": {
        "id": "1cDGHkjDHut0",
        "colab": {
          "base_uri": "https://localhost:8080/"
        },
        "outputId": "ec47febd-3368-41d7-a786-c7ab8e5893b6"
      },
      "outputs": [
        {
          "output_type": "stream",
          "name": "stdout",
          "text": [
            "{'anger': 0, 'disgust': 1, 'fear': 2, 'joy': 3, 'sadness': 4, 'surprise': 5}\n"
          ]
        }
      ],
      "source": [
        "le_mapping = dict(zip(le.classes_, le.transform(le.classes_)))\n",
        "print(le_mapping)"
      ]
    },
    {
      "cell_type": "code",
      "execution_count": null,
      "metadata": {
        "id": "EOoyn1QmHvuL",
        "colab": {
          "base_uri": "https://localhost:8080/"
        },
        "outputId": "94ed1b8a-c6b9-4b3f-a36d-15e30439af69"
      },
      "outputs": [
        {
          "output_type": "stream",
          "name": "stdout",
          "text": [
            "['anger' 'disgust' 'fear' 'joy' 'sadness' 'surprise']\n"
          ]
        }
      ],
      "source": [
        "LABEL_NAME = le.classes_\n",
        "print(LABEL_NAME)"
      ]
    },
    {
      "cell_type": "markdown",
      "metadata": {
        "id": "fux132KTpR6T"
      },
      "source": [
        "# 04 Feature Extraction & Feature Selection"
      ]
    },
    {
      "cell_type": "markdown",
      "metadata": {
        "id": "nvS_OLSEvY2B"
      },
      "source": [
        "## Term Frequency–Inverse Document Frequency (TF-IDF)"
      ]
    },
    {
      "cell_type": "code",
      "execution_count": null,
      "metadata": {
        "id": "M26jXi-jphhS"
      },
      "outputs": [],
      "source": [
        "X = df['tweet']\n",
        "y = df['label_encode']"
      ]
    },
    {
      "cell_type": "code",
      "execution_count": null,
      "metadata": {
        "id": "pW38rFmYqKjP",
        "colab": {
          "base_uri": "https://localhost:8080/"
        },
        "outputId": "aeaccba6-e702-42f2-bd6f-c15a9524d1bc"
      },
      "outputs": [
        {
          "output_type": "execute_result",
          "data": {
            "text/plain": [
              "TfidfVectorizer(ngram_range=(1, 2))"
            ]
          },
          "metadata": {},
          "execution_count": 18
        }
      ],
      "source": [
        "tf_idf = TfidfVectorizer(ngram_range=(1,2))\n",
        "tf_idf.fit(X)"
      ]
    },
    {
      "cell_type": "code",
      "execution_count": null,
      "metadata": {
        "id": "7aBXSrhsU847"
      },
      "outputs": [],
      "source": [
        "full_vocab = tf_idf.vocabulary_"
      ]
    },
    {
      "cell_type": "code",
      "execution_count": null,
      "metadata": {
        "id": "S8HHdokSqKoh",
        "colab": {
          "base_uri": "https://localhost:8080/"
        },
        "outputId": "5f210a6f-260b-42fb-e1ae-3a27e1ca66f6"
      },
      "outputs": [
        {
          "output_type": "stream",
          "name": "stdout",
          "text": [
            "[[0. 0. 0. ... 0. 0. 0.]\n",
            " [0. 0. 0. ... 0. 0. 0.]\n",
            " [0. 0. 0. ... 0. 0. 0.]\n",
            " ...\n",
            " [0. 0. 0. ... 0. 0. 0.]\n",
            " [0. 0. 0. ... 0. 0. 0.]\n",
            " [0. 0. 0. ... 0. 0. 0.]]\n",
            "(2243, 39389)\n"
          ]
        }
      ],
      "source": [
        "X_tf_idf = tf_idf.transform(X).toarray()\n",
        "print(X_tf_idf)\n",
        "print(X_tf_idf.shape)"
      ]
    },
    {
      "cell_type": "markdown",
      "metadata": {
        "id": "Ztck-Io4vihB"
      },
      "source": [
        "## Chi-Square Test for Feature Selection"
      ]
    },
    {
      "cell_type": "code",
      "execution_count": null,
      "metadata": {
        "id": "4rTo3UPzsIJy",
        "colab": {
          "base_uri": "https://localhost:8080/"
        },
        "outputId": "21ad87c4-6da0-4d47-da33-0c4cf5c4e1a4"
      },
      "outputs": [
        {
          "output_type": "stream",
          "name": "stdout",
          "text": [
            "Number of original features: 39389\n",
            "Number of features after selection: 10000\n"
          ]
        }
      ],
      "source": [
        "K_FEATURES = 10000\n",
        "\n",
        "chi2_features = SelectKBest(chi2, k=K_FEATURES) \n",
        "X_kbest_features = chi2_features.fit_transform(np.array(X_tf_idf), np.array(y)) \n",
        "  \n",
        "print('Number of original features:', X_tf_idf.shape[1]) \n",
        "print('Number of features after selection:', X_kbest_features.shape[1]) "
      ]
    },
    {
      "cell_type": "code",
      "execution_count": null,
      "metadata": {
        "id": "H_TjeyHEtYzj",
        "colab": {
          "base_uri": "https://localhost:8080/",
          "height": 363
        },
        "outputId": "f706bc22-367f-49f5-aa7b-e48795d92612"
      },
      "outputs": [
        {
          "output_type": "execute_result",
          "data": {
            "text/plain": [
              "       chi2_score   feature\n",
              "25433   99.416336     ngeri\n",
              "15574   98.446808     jijik\n",
              "13296   77.062796     heran\n",
              "35466   62.303379  terkejut\n",
              "12470   61.183851     gugup\n",
              "29771   59.100774     risih\n",
              "34426   58.934818     takut\n",
              "17534   55.601645    kecewa\n",
              "34147   54.944876    syukur\n",
              "3222    54.853233    bangga"
            ],
            "text/html": [
              "\n",
              "  <div id=\"df-5b84a94f-14af-4db9-ad47-72c028cb29c8\">\n",
              "    <div class=\"colab-df-container\">\n",
              "      <div>\n",
              "<style scoped>\n",
              "    .dataframe tbody tr th:only-of-type {\n",
              "        vertical-align: middle;\n",
              "    }\n",
              "\n",
              "    .dataframe tbody tr th {\n",
              "        vertical-align: top;\n",
              "    }\n",
              "\n",
              "    .dataframe thead th {\n",
              "        text-align: right;\n",
              "    }\n",
              "</style>\n",
              "<table border=\"1\" class=\"dataframe\">\n",
              "  <thead>\n",
              "    <tr style=\"text-align: right;\">\n",
              "      <th></th>\n",
              "      <th>chi2_score</th>\n",
              "      <th>feature</th>\n",
              "    </tr>\n",
              "  </thead>\n",
              "  <tbody>\n",
              "    <tr>\n",
              "      <th>25433</th>\n",
              "      <td>99.416336</td>\n",
              "      <td>ngeri</td>\n",
              "    </tr>\n",
              "    <tr>\n",
              "      <th>15574</th>\n",
              "      <td>98.446808</td>\n",
              "      <td>jijik</td>\n",
              "    </tr>\n",
              "    <tr>\n",
              "      <th>13296</th>\n",
              "      <td>77.062796</td>\n",
              "      <td>heran</td>\n",
              "    </tr>\n",
              "    <tr>\n",
              "      <th>35466</th>\n",
              "      <td>62.303379</td>\n",
              "      <td>terkejut</td>\n",
              "    </tr>\n",
              "    <tr>\n",
              "      <th>12470</th>\n",
              "      <td>61.183851</td>\n",
              "      <td>gugup</td>\n",
              "    </tr>\n",
              "    <tr>\n",
              "      <th>29771</th>\n",
              "      <td>59.100774</td>\n",
              "      <td>risih</td>\n",
              "    </tr>\n",
              "    <tr>\n",
              "      <th>34426</th>\n",
              "      <td>58.934818</td>\n",
              "      <td>takut</td>\n",
              "    </tr>\n",
              "    <tr>\n",
              "      <th>17534</th>\n",
              "      <td>55.601645</td>\n",
              "      <td>kecewa</td>\n",
              "    </tr>\n",
              "    <tr>\n",
              "      <th>34147</th>\n",
              "      <td>54.944876</td>\n",
              "      <td>syukur</td>\n",
              "    </tr>\n",
              "    <tr>\n",
              "      <th>3222</th>\n",
              "      <td>54.853233</td>\n",
              "      <td>bangga</td>\n",
              "    </tr>\n",
              "  </tbody>\n",
              "</table>\n",
              "</div>\n",
              "      <button class=\"colab-df-convert\" onclick=\"convertToInteractive('df-5b84a94f-14af-4db9-ad47-72c028cb29c8')\"\n",
              "              title=\"Convert this dataframe to an interactive table.\"\n",
              "              style=\"display:none;\">\n",
              "        \n",
              "  <svg xmlns=\"http://www.w3.org/2000/svg\" height=\"24px\"viewBox=\"0 0 24 24\"\n",
              "       width=\"24px\">\n",
              "    <path d=\"M0 0h24v24H0V0z\" fill=\"none\"/>\n",
              "    <path d=\"M18.56 5.44l.94 2.06.94-2.06 2.06-.94-2.06-.94-.94-2.06-.94 2.06-2.06.94zm-11 1L8.5 8.5l.94-2.06 2.06-.94-2.06-.94L8.5 2.5l-.94 2.06-2.06.94zm10 10l.94 2.06.94-2.06 2.06-.94-2.06-.94-.94-2.06-.94 2.06-2.06.94z\"/><path d=\"M17.41 7.96l-1.37-1.37c-.4-.4-.92-.59-1.43-.59-.52 0-1.04.2-1.43.59L10.3 9.45l-7.72 7.72c-.78.78-.78 2.05 0 2.83L4 21.41c.39.39.9.59 1.41.59.51 0 1.02-.2 1.41-.59l7.78-7.78 2.81-2.81c.8-.78.8-2.07 0-2.86zM5.41 20L4 18.59l7.72-7.72 1.47 1.35L5.41 20z\"/>\n",
              "  </svg>\n",
              "      </button>\n",
              "      \n",
              "  <style>\n",
              "    .colab-df-container {\n",
              "      display:flex;\n",
              "      flex-wrap:wrap;\n",
              "      gap: 12px;\n",
              "    }\n",
              "\n",
              "    .colab-df-convert {\n",
              "      background-color: #E8F0FE;\n",
              "      border: none;\n",
              "      border-radius: 50%;\n",
              "      cursor: pointer;\n",
              "      display: none;\n",
              "      fill: #1967D2;\n",
              "      height: 32px;\n",
              "      padding: 0 0 0 0;\n",
              "      width: 32px;\n",
              "    }\n",
              "\n",
              "    .colab-df-convert:hover {\n",
              "      background-color: #E2EBFA;\n",
              "      box-shadow: 0px 1px 2px rgba(60, 64, 67, 0.3), 0px 1px 3px 1px rgba(60, 64, 67, 0.15);\n",
              "      fill: #174EA6;\n",
              "    }\n",
              "\n",
              "    [theme=dark] .colab-df-convert {\n",
              "      background-color: #3B4455;\n",
              "      fill: #D2E3FC;\n",
              "    }\n",
              "\n",
              "    [theme=dark] .colab-df-convert:hover {\n",
              "      background-color: #434B5C;\n",
              "      box-shadow: 0px 1px 3px 1px rgba(0, 0, 0, 0.15);\n",
              "      filter: drop-shadow(0px 1px 2px rgba(0, 0, 0, 0.3));\n",
              "      fill: #FFFFFF;\n",
              "    }\n",
              "  </style>\n",
              "\n",
              "      <script>\n",
              "        const buttonEl =\n",
              "          document.querySelector('#df-5b84a94f-14af-4db9-ad47-72c028cb29c8 button.colab-df-convert');\n",
              "        buttonEl.style.display =\n",
              "          google.colab.kernel.accessAllowed ? 'block' : 'none';\n",
              "\n",
              "        async function convertToInteractive(key) {\n",
              "          const element = document.querySelector('#df-5b84a94f-14af-4db9-ad47-72c028cb29c8');\n",
              "          const dataTable =\n",
              "            await google.colab.kernel.invokeFunction('convertToInteractive',\n",
              "                                                     [key], {});\n",
              "          if (!dataTable) return;\n",
              "\n",
              "          const docLinkHtml = 'Like what you see? Visit the ' +\n",
              "            '<a target=\"_blank\" href=https://colab.research.google.com/notebooks/data_table.ipynb>data table notebook</a>'\n",
              "            + ' to learn more about interactive tables.';\n",
              "          element.innerHTML = '';\n",
              "          dataTable['output_type'] = 'display_data';\n",
              "          await google.colab.output.renderOutput(dataTable, element);\n",
              "          const docLink = document.createElement('div');\n",
              "          docLink.innerHTML = docLinkHtml;\n",
              "          element.appendChild(docLink);\n",
              "        }\n",
              "      </script>\n",
              "    </div>\n",
              "  </div>\n",
              "  "
            ]
          },
          "metadata": {},
          "execution_count": 22
        }
      ],
      "source": [
        "data_chi2 = pd.DataFrame(chi2_features.scores_, columns=['chi2_score'])\n",
        "data_chi2['feature'] = tf_idf.get_feature_names_out()\n",
        "\n",
        "data_chi2.sort_values(by='chi2_score', ascending=False).head(10)"
      ]
    },
    {
      "cell_type": "code",
      "execution_count": null,
      "metadata": {
        "id": "IRo-kkXjtxc3"
      },
      "outputs": [],
      "source": [
        "selected_feature = []\n",
        "\n",
        "# Menampilkan mask pada feature yang diseleksi\n",
        "# False berarti fitur tidak terpilih dan True berarti fitur terpilih\n",
        "feature_mask = chi2_features.get_support()\n",
        "\n",
        "for bool, f in zip(feature_mask, tf_idf.get_feature_names_out()):\n",
        "  if bool:\n",
        "    selected_feature.append(f)\n",
        "  selected_feature = selected_feature"
      ]
    },
    {
      "cell_type": "code",
      "execution_count": null,
      "metadata": {
        "id": "pb3aAc6st4Ug"
      },
      "outputs": [],
      "source": [
        "selected_feature_vocab = {}\n",
        "\n",
        "for (word,index) in tf_idf.vocabulary_.items(): \n",
        "  if word in selected_feature:           \n",
        "    selected_feature_vocab[word] = index"
      ]
    },
    {
      "cell_type": "markdown",
      "metadata": {
        "id": "lN-hUFrHqg6X"
      },
      "source": [
        "# 05 Train & Test Data Splitting"
      ]
    },
    {
      "cell_type": "code",
      "execution_count": null,
      "metadata": {
        "id": "Uq3h40wSqKtp",
        "colab": {
          "base_uri": "https://localhost:8080/"
        },
        "outputId": "913fd4da-a963-467a-bb13-4cc5cde7a6f3"
      },
      "outputs": [
        {
          "output_type": "execute_result",
          "data": {
            "text/plain": [
              "((1794, 10000), (449, 10000), (1794,), (449,))"
            ]
          },
          "metadata": {},
          "execution_count": 25
        }
      ],
      "source": [
        "TEST_SIZE = 0.20\n",
        "\n",
        "X_train, X_test, y_train, y_test = train_test_split(X_kbest_features, y, test_size=0.20, random_state=SEED)\n",
        "X_train.shape, X_test.shape, y_train.shape, y_test.shape"
      ]
    },
    {
      "cell_type": "markdown",
      "metadata": {
        "id": "-Bt_SNTsrhv-"
      },
      "source": [
        "# 06 Modeling"
      ]
    },
    {
      "cell_type": "code",
      "execution_count": null,
      "metadata": {
        "id": "shj6RtEqmTP4"
      },
      "outputs": [],
      "source": [
        "def truncate(n, decimals=0):\n",
        "  multiplier = 10 ** decimals\n",
        "  return int(n * multiplier) / multiplier"
      ]
    },
    {
      "cell_type": "code",
      "execution_count": null,
      "metadata": {
        "id": "0tbDrjUMhYkz"
      },
      "outputs": [],
      "source": [
        "# Define machine learning models\n",
        "models = [\n",
        "          ('KNN', KNeighborsClassifier()),\n",
        "          ('NAIVE BAYES', MultinomialNB()),\n",
        "          ('SVM', SVC(probability=True)),\n",
        "          ('DECISION TREE', DecisionTreeClassifier())\n",
        "        ]"
      ]
    },
    {
      "cell_type": "code",
      "execution_count": null,
      "metadata": {
        "id": "k6MZHPG3hK5Z",
        "colab": {
          "base_uri": "https://localhost:8080/",
          "height": 1000,
          "referenced_widgets": [
            "f5e8e32942a94a51b54744bfa144bab5",
            "a752f70554fb411ca13efb73b6446659",
            "0a5e8af9e9eb4fd1ac0f16c1206cfb0c",
            "5d381ee7e61b492a908eae866c61dcd8",
            "c0ab34a3af524d1db3b25f1eec96f79a",
            "d7ac0dfa070a479186530f3ed2ba0c97",
            "3edbf80817e346cb8f5627bac0711f58",
            "927909b29c724e4c87e3bf254f820937",
            "91c52dfc12e947938c6a2563b017c785",
            "0bd75a7127a546f5b911b8b378668dbc",
            "93387b3fdc7844d5bb9574223108e05d",
            "8ca92762e8ec4ed98c690a5a57a8c10e",
            "d0e54eac5d5a406e8a0c9a186cbad8e6",
            "1de4c09ec58f41ab8dcace006585173d",
            "ad243885d8c34973becf3566dc03c0e7",
            "13a6d87f5c284a97bda6760e6bd18a81"
          ]
        },
        "outputId": "bb5333c8-4850-4f6f-bfe9-5b45d439a08c"
      },
      "outputs": [
        {
          "output_type": "stream",
          "name": "stderr",
          "text": [
            "\u001b[34m\u001b[1mwandb\u001b[0m: Currently logged in as: \u001b[33mindoemobert\u001b[0m. Use \u001b[1m`wandb login --relogin`\u001b[0m to force relogin\n"
          ]
        },
        {
          "output_type": "stream",
          "name": "stdout",
          "text": [
            "\n",
            "[INFO] Loading using KNN ...\n",
            "\n"
          ]
        },
        {
          "output_type": "display_data",
          "data": {
            "text/plain": [
              "<IPython.core.display.HTML object>"
            ],
            "text/html": [
              "Tracking run with wandb version 0.13.7"
            ]
          },
          "metadata": {}
        },
        {
          "output_type": "display_data",
          "data": {
            "text/plain": [
              "<IPython.core.display.HTML object>"
            ],
            "text/html": [
              "Run data is saved locally in <code>/content/drive/.shortcut-targets-by-id/1of66RueJPg6brfoSy1p4Wv3bofi-IrI5/tesis/wandb/run-20230101_165016-4adfeq3m</code>"
            ]
          },
          "metadata": {}
        },
        {
          "output_type": "display_data",
          "data": {
            "text/plain": [
              "<IPython.core.display.HTML object>"
            ],
            "text/html": [
              "Syncing run <strong><a href=\"https://wandb.ai/indoemobert/model-baseline-machine-learning/runs/4adfeq3m\" target=\"_blank\">KNeighborsClassifier</a></strong> to <a href=\"https://wandb.ai/indoemobert/model-baseline-machine-learning\" target=\"_blank\">Weights & Biases</a> (<a href=\"https://wandb.me/run\" target=\"_blank\">docs</a>)<br/>"
            ]
          },
          "metadata": {}
        },
        {
          "output_type": "stream",
          "name": "stdout",
          "text": [
            "\n",
            "[INFO] KNN Cross validation:\n",
            "\tAccuracy for the fold no. 0 on the test set: 0.337\n",
            "\tAccuracy for the fold no. 1 on the test set: 0.356\n",
            "\tAccuracy for the fold no. 2 on the test set: 0.348\n",
            "\tAccuracy for the fold no. 3 on the test set: 0.303\n",
            "\tAccuracy for the fold no. 4 on the test set: 0.303\n",
            "\tAccuracy for the fold no. 5 on the test set: 0.348\n",
            "\tAccuracy for the fold no. 6 on the test set: 0.32\n",
            "\tAccuracy for the fold no. 7 on the test set: 0.298\n",
            "\tAccuracy for the fold no. 8 on the test set: 0.306\n",
            "\tAccuracy for the fold no. 9 on the test set: 0.323\n",
            "\n",
            "[INFO] KNN Training accuracy: 0.516\n",
            "[INFO] KNN Training f1 score: 0.488\n",
            "[INFO] KNN Cross validation accuracy: 0.323\n",
            "[INFO] KNN Testing accuracy: 0.349\n",
            "[INFO] KNN Testing f1 score: 0.279\n",
            "[INFO] KNN Classfication report:\n",
            "               precision    recall  f1-score   support\n",
            "\n",
            "       anger       0.94      0.28      0.44       359\n",
            "     disgust       0.21      0.62      0.32        24\n",
            "        fear       0.38      0.82      0.51        33\n",
            "         joy       0.16      0.39      0.22        33\n",
            "     sadness       0.00      0.00      0.00         0\n",
            "    surprise       0.00      0.00      0.00         0\n",
            "\n",
            "    accuracy                           0.35       449\n",
            "   macro avg       0.28      0.35      0.25       449\n",
            "weighted avg       0.80      0.35      0.42       449\n",
            "\n",
            "\n"
          ]
        },
        {
          "output_type": "stream",
          "name": "stderr",
          "text": [
            "\u001b[34m\u001b[1mwandb\u001b[0m: \u001b[33mWARNING\u001b[0m wandb.plots.* functions are deprecated and will be removed in a future release. Please use wandb.plot.* instead.\n"
          ]
        },
        {
          "output_type": "display_data",
          "data": {
            "text/plain": [
              "<IPython.core.display.HTML object>"
            ],
            "text/html": [
              "Waiting for W&B process to finish... <strong style=\"color:green\">(success).</strong>"
            ]
          },
          "metadata": {}
        },
        {
          "output_type": "display_data",
          "data": {
            "text/plain": [
              "<IPython.core.display.HTML object>"
            ],
            "text/html": [
              "<style>\n",
              "    table.wandb td:nth-child(1) { padding: 0 10px; text-align: left ; width: auto;} td:nth-child(2) {text-align: left ; width: 100%}\n",
              "    .wandb-row { display: flex; flex-direction: row; flex-wrap: wrap; justify-content: flex-start; width: 100% }\n",
              "    .wandb-col { display: flex; flex-direction: column; flex-basis: 100%; flex: 1; padding: 10px; }\n",
              "    </style>\n",
              "<div class=\"wandb-row\"><div class=\"wandb-col\"><h3>Run history:</h3><br/><table class=\"wandb\"><tr><td>cross_validation_accuracy</td><td>▁</td></tr><tr><td>cross_validation_score</td><td>▆█▇▂▂▇▄▁▂▄</td></tr><tr><td>test_accuracy</td><td>▁</td></tr><tr><td>test_f1score</td><td>▁</td></tr><tr><td>test_precision</td><td>▁</td></tr><tr><td>test_recall</td><td>▁</td></tr><tr><td>train_accuracy</td><td>▁</td></tr><tr><td>train_f1score</td><td>▁</td></tr><tr><td>train_precision</td><td>▁</td></tr><tr><td>train_recall</td><td>▁</td></tr></table><br/></div><div class=\"wandb-col\"><h3>Run summary:</h3><br/><table class=\"wandb\"><tr><td>cross_validation_accuracy</td><td>0.32312</td></tr><tr><td>cross_validation_score</td><td>0.32312</td></tr><tr><td>test_accuracy</td><td>0.34967</td></tr><tr><td>test_f1score</td><td>0.27948</td></tr><tr><td>test_precision</td><td>0.37044</td></tr><tr><td>test_recall</td><td>0.34967</td></tr><tr><td>train_accuracy</td><td>0.51672</td></tr><tr><td>train_f1score</td><td>0.48883</td></tr><tr><td>train_precision</td><td>0.74776</td></tr><tr><td>train_recall</td><td>0.51672</td></tr></table><br/></div></div>"
            ]
          },
          "metadata": {}
        },
        {
          "output_type": "display_data",
          "data": {
            "text/plain": [
              "<IPython.core.display.HTML object>"
            ],
            "text/html": [
              "Synced <strong style=\"color:#cdcd00\">KNeighborsClassifier</strong>: <a href=\"https://wandb.ai/indoemobert/model-baseline-machine-learning/runs/4adfeq3m\" target=\"_blank\">https://wandb.ai/indoemobert/model-baseline-machine-learning/runs/4adfeq3m</a><br/>Synced 5 W&B file(s), 6 media file(s), 8 artifact file(s) and 1 other file(s)"
            ]
          },
          "metadata": {}
        },
        {
          "output_type": "display_data",
          "data": {
            "text/plain": [
              "<IPython.core.display.HTML object>"
            ],
            "text/html": [
              "Find logs at: <code>./wandb/run-20230101_165016-4adfeq3m/logs</code>"
            ]
          },
          "metadata": {}
        },
        {
          "output_type": "stream",
          "name": "stdout",
          "text": [
            "[INFO] KNN Done ...\n",
            "\n",
            "[INFO] Loading using NAIVE BAYES ...\n",
            "\n"
          ]
        },
        {
          "output_type": "display_data",
          "data": {
            "text/plain": [
              "<IPython.core.display.HTML object>"
            ],
            "text/html": [
              "Tracking run with wandb version 0.13.7"
            ]
          },
          "metadata": {}
        },
        {
          "output_type": "display_data",
          "data": {
            "text/plain": [
              "<IPython.core.display.HTML object>"
            ],
            "text/html": [
              "Run data is saved locally in <code>/content/drive/.shortcut-targets-by-id/1of66RueJPg6brfoSy1p4Wv3bofi-IrI5/tesis/wandb/run-20230101_165109-oht0w9gl</code>"
            ]
          },
          "metadata": {}
        },
        {
          "output_type": "display_data",
          "data": {
            "text/plain": [
              "<IPython.core.display.HTML object>"
            ],
            "text/html": [
              "Syncing run <strong><a href=\"https://wandb.ai/indoemobert/model-baseline-machine-learning/runs/oht0w9gl\" target=\"_blank\">MultinomialNB</a></strong> to <a href=\"https://wandb.ai/indoemobert/model-baseline-machine-learning\" target=\"_blank\">Weights & Biases</a> (<a href=\"https://wandb.me/run\" target=\"_blank\">docs</a>)<br/>"
            ]
          },
          "metadata": {}
        },
        {
          "output_type": "stream",
          "name": "stdout",
          "text": [
            "\n",
            "[INFO] NAIVE BAYES Cross validation:\n",
            "\tAccuracy for the fold no. 0 on the test set: 0.565\n",
            "\tAccuracy for the fold no. 1 on the test set: 0.551\n",
            "\tAccuracy for the fold no. 2 on the test set: 0.493\n",
            "\tAccuracy for the fold no. 3 on the test set: 0.529\n",
            "\tAccuracy for the fold no. 4 on the test set: 0.559\n",
            "\tAccuracy for the fold no. 5 on the test set: 0.618\n",
            "\tAccuracy for the fold no. 6 on the test set: 0.571\n",
            "\tAccuracy for the fold no. 7 on the test set: 0.582\n",
            "\tAccuracy for the fold no. 8 on the test set: 0.593\n",
            "\tAccuracy for the fold no. 9 on the test set: 0.596\n",
            "\n",
            "[INFO] NAIVE BAYES Training accuracy: 0.862\n",
            "[INFO] NAIVE BAYES Training f1 score: 0.866\n",
            "[INFO] NAIVE BAYES Cross validation accuracy: 0.596\n",
            "[INFO] NAIVE BAYES Testing accuracy: 0.614\n",
            "[INFO] NAIVE BAYES Testing f1 score: 0.57\n",
            "[INFO] NAIVE BAYES Classfication report:\n",
            "               precision    recall  f1-score   support\n",
            "\n",
            "       anger       0.92      0.44      0.60       227\n",
            "     disgust       0.56      0.95      0.70        41\n",
            "        fear       0.82      0.94      0.87        63\n",
            "         joy       0.81      0.64      0.72       104\n",
            "     sadness       0.10      0.83      0.18         6\n",
            "    surprise       0.09      0.75      0.17         8\n",
            "\n",
            "    accuracy                           0.61       449\n",
            "   macro avg       0.55      0.76      0.54       449\n",
            "weighted avg       0.82      0.61      0.66       449\n",
            "\n",
            "\n"
          ]
        },
        {
          "output_type": "display_data",
          "data": {
            "text/plain": [
              "<IPython.core.display.HTML object>"
            ],
            "text/html": [
              "Waiting for W&B process to finish... <strong style=\"color:green\">(success).</strong>"
            ]
          },
          "metadata": {}
        },
        {
          "output_type": "display_data",
          "data": {
            "text/plain": [
              "<IPython.core.display.HTML object>"
            ],
            "text/html": [
              "<style>\n",
              "    table.wandb td:nth-child(1) { padding: 0 10px; text-align: left ; width: auto;} td:nth-child(2) {text-align: left ; width: 100%}\n",
              "    .wandb-row { display: flex; flex-direction: row; flex-wrap: wrap; justify-content: flex-start; width: 100% }\n",
              "    .wandb-col { display: flex; flex-direction: column; flex-basis: 100%; flex: 1; padding: 10px; }\n",
              "    </style>\n",
              "<div class=\"wandb-row\"><div class=\"wandb-col\"><h3>Run history:</h3><br/><table class=\"wandb\"><tr><td>cross_validation_accuracy</td><td>▁</td></tr><tr><td>cross_validation_score</td><td>▅▄▁▃▅█▅▆▇▇</td></tr><tr><td>test_accuracy</td><td>▁</td></tr><tr><td>test_f1score</td><td>▁</td></tr><tr><td>test_precision</td><td>▁</td></tr><tr><td>test_recall</td><td>▁</td></tr><tr><td>train_accuracy</td><td>▁</td></tr><tr><td>train_f1score</td><td>▁</td></tr><tr><td>train_precision</td><td>▁</td></tr><tr><td>train_recall</td><td>▁</td></tr></table><br/></div><div class=\"wandb-col\"><h3>Run summary:</h3><br/><table class=\"wandb\"><tr><td>cross_validation_accuracy</td><td>0.5961</td></tr><tr><td>cross_validation_score</td><td>0.5961</td></tr><tr><td>test_accuracy</td><td>0.6147</td></tr><tr><td>test_f1score</td><td>0.57036</td></tr><tr><td>test_precision</td><td>0.72606</td></tr><tr><td>test_recall</td><td>0.6147</td></tr><tr><td>train_accuracy</td><td>0.86288</td></tr><tr><td>train_f1score</td><td>0.86648</td></tr><tr><td>train_precision</td><td>0.90028</td></tr><tr><td>train_recall</td><td>0.86288</td></tr></table><br/></div></div>"
            ]
          },
          "metadata": {}
        },
        {
          "output_type": "display_data",
          "data": {
            "text/plain": [
              "<IPython.core.display.HTML object>"
            ],
            "text/html": [
              "Synced <strong style=\"color:#cdcd00\">MultinomialNB</strong>: <a href=\"https://wandb.ai/indoemobert/model-baseline-machine-learning/runs/oht0w9gl\" target=\"_blank\">https://wandb.ai/indoemobert/model-baseline-machine-learning/runs/oht0w9gl</a><br/>Synced 5 W&B file(s), 6 media file(s), 8 artifact file(s) and 1 other file(s)"
            ]
          },
          "metadata": {}
        },
        {
          "output_type": "display_data",
          "data": {
            "text/plain": [
              "<IPython.core.display.HTML object>"
            ],
            "text/html": [
              "Find logs at: <code>./wandb/run-20230101_165109-oht0w9gl/logs</code>"
            ]
          },
          "metadata": {}
        },
        {
          "output_type": "stream",
          "name": "stdout",
          "text": [
            "[INFO] NAIVE BAYES Done ...\n",
            "\n",
            "[INFO] Loading using SVM ...\n",
            "\n"
          ]
        },
        {
          "output_type": "display_data",
          "data": {
            "text/plain": [
              "VBox(children=(Label(value='Waiting for wandb.init()...\\r'), FloatProgress(value=0.01666991520000162, max=1.0)…"
            ],
            "application/vnd.jupyter.widget-view+json": {
              "version_major": 2,
              "version_minor": 0,
              "model_id": "f5e8e32942a94a51b54744bfa144bab5"
            }
          },
          "metadata": {}
        },
        {
          "output_type": "display_data",
          "data": {
            "text/plain": [
              "<IPython.core.display.HTML object>"
            ],
            "text/html": [
              "Tracking run with wandb version 0.13.7"
            ]
          },
          "metadata": {}
        },
        {
          "output_type": "display_data",
          "data": {
            "text/plain": [
              "<IPython.core.display.HTML object>"
            ],
            "text/html": [
              "Run data is saved locally in <code>/content/drive/.shortcut-targets-by-id/1of66RueJPg6brfoSy1p4Wv3bofi-IrI5/tesis/wandb/run-20230101_165136-1317gfnh</code>"
            ]
          },
          "metadata": {}
        },
        {
          "output_type": "display_data",
          "data": {
            "text/plain": [
              "<IPython.core.display.HTML object>"
            ],
            "text/html": [
              "Syncing run <strong><a href=\"https://wandb.ai/indoemobert/model-baseline-machine-learning/runs/1317gfnh\" target=\"_blank\">SVC</a></strong> to <a href=\"https://wandb.ai/indoemobert/model-baseline-machine-learning\" target=\"_blank\">Weights & Biases</a> (<a href=\"https://wandb.me/run\" target=\"_blank\">docs</a>)<br/>"
            ]
          },
          "metadata": {}
        },
        {
          "output_type": "stream",
          "name": "stdout",
          "text": [
            "\n",
            "[INFO] SVM Cross validation:\n",
            "\tAccuracy for the fold no. 0 on the test set: 0.743\n",
            "\tAccuracy for the fold no. 1 on the test set: 0.766\n",
            "\tAccuracy for the fold no. 2 on the test set: 0.679\n",
            "\tAccuracy for the fold no. 3 on the test set: 0.752\n",
            "\tAccuracy for the fold no. 4 on the test set: 0.732\n",
            "\tAccuracy for the fold no. 5 on the test set: 0.768\n",
            "\tAccuracy for the fold no. 6 on the test set: 0.76\n",
            "\tAccuracy for the fold no. 7 on the test set: 0.768\n",
            "\tAccuracy for the fold no. 8 on the test set: 0.793\n",
            "\tAccuracy for the fold no. 9 on the test set: 0.721\n",
            "\n",
            "[INFO] SVM Training accuracy: 0.943\n",
            "[INFO] SVM Training f1 score: 0.943\n",
            "[INFO] SVM Cross validation accuracy: 0.721\n",
            "[INFO] SVM Testing accuracy: 0.763\n",
            "[INFO] SVM Testing f1 score: 0.765\n",
            "[INFO] SVM Classfication report:\n",
            "               precision    recall  f1-score   support\n",
            "\n",
            "       anger       0.74      0.64      0.69       127\n",
            "     disgust       0.94      0.90      0.92        73\n",
            "        fear       0.85      0.90      0.87        68\n",
            "         joy       0.71      0.84      0.77        70\n",
            "     sadness       0.65      0.70      0.67        47\n",
            "    surprise       0.67      0.67      0.67        64\n",
            "\n",
            "    accuracy                           0.76       449\n",
            "   macro avg       0.76      0.78      0.77       449\n",
            "weighted avg       0.77      0.76      0.76       449\n",
            "\n",
            "\n"
          ]
        },
        {
          "output_type": "display_data",
          "data": {
            "text/plain": [
              "<IPython.core.display.HTML object>"
            ],
            "text/html": [
              "Waiting for W&B process to finish... <strong style=\"color:green\">(success).</strong>"
            ]
          },
          "metadata": {}
        },
        {
          "output_type": "display_data",
          "data": {
            "text/plain": [
              "<IPython.core.display.HTML object>"
            ],
            "text/html": [
              "<style>\n",
              "    table.wandb td:nth-child(1) { padding: 0 10px; text-align: left ; width: auto;} td:nth-child(2) {text-align: left ; width: 100%}\n",
              "    .wandb-row { display: flex; flex-direction: row; flex-wrap: wrap; justify-content: flex-start; width: 100% }\n",
              "    .wandb-col { display: flex; flex-direction: column; flex-basis: 100%; flex: 1; padding: 10px; }\n",
              "    </style>\n",
              "<div class=\"wandb-row\"><div class=\"wandb-col\"><h3>Run history:</h3><br/><table class=\"wandb\"><tr><td>cross_validation_accuracy</td><td>▁</td></tr><tr><td>cross_validation_score</td><td>▅▆▁▅▄▆▆▆█▄</td></tr><tr><td>test_accuracy</td><td>▁</td></tr><tr><td>test_f1score</td><td>▁</td></tr><tr><td>test_precision</td><td>▁</td></tr><tr><td>test_recall</td><td>▁</td></tr><tr><td>train_accuracy</td><td>▁</td></tr><tr><td>train_f1score</td><td>▁</td></tr><tr><td>train_precision</td><td>▁</td></tr><tr><td>train_recall</td><td>▁</td></tr></table><br/></div><div class=\"wandb-col\"><h3>Run summary:</h3><br/><table class=\"wandb\"><tr><td>cross_validation_accuracy</td><td>0.72145</td></tr><tr><td>cross_validation_score</td><td>0.72145</td></tr><tr><td>test_accuracy</td><td>0.76392</td></tr><tr><td>test_f1score</td><td>0.76512</td></tr><tr><td>test_precision</td><td>0.77096</td></tr><tr><td>test_recall</td><td>0.76392</td></tr><tr><td>train_accuracy</td><td>0.94314</td></tr><tr><td>train_f1score</td><td>0.94382</td></tr><tr><td>train_precision</td><td>0.94811</td></tr><tr><td>train_recall</td><td>0.94314</td></tr></table><br/></div></div>"
            ]
          },
          "metadata": {}
        },
        {
          "output_type": "display_data",
          "data": {
            "text/plain": [
              "<IPython.core.display.HTML object>"
            ],
            "text/html": [
              "Synced <strong style=\"color:#cdcd00\">SVC</strong>: <a href=\"https://wandb.ai/indoemobert/model-baseline-machine-learning/runs/1317gfnh\" target=\"_blank\">https://wandb.ai/indoemobert/model-baseline-machine-learning/runs/1317gfnh</a><br/>Synced 5 W&B file(s), 6 media file(s), 8 artifact file(s) and 1 other file(s)"
            ]
          },
          "metadata": {}
        },
        {
          "output_type": "display_data",
          "data": {
            "text/plain": [
              "<IPython.core.display.HTML object>"
            ],
            "text/html": [
              "Find logs at: <code>./wandb/run-20230101_165136-1317gfnh/logs</code>"
            ]
          },
          "metadata": {}
        },
        {
          "output_type": "stream",
          "name": "stdout",
          "text": [
            "[INFO] SVM Done ...\n",
            "\n",
            "[INFO] Loading using DECISION TREE ...\n",
            "\n"
          ]
        },
        {
          "output_type": "display_data",
          "data": {
            "text/plain": [
              "VBox(children=(Label(value='Waiting for wandb.init()...\\r'), FloatProgress(value=0.01666942606666453, max=1.0)…"
            ],
            "application/vnd.jupyter.widget-view+json": {
              "version_major": 2,
              "version_minor": 0,
              "model_id": "91c52dfc12e947938c6a2563b017c785"
            }
          },
          "metadata": {}
        },
        {
          "output_type": "display_data",
          "data": {
            "text/plain": [
              "<IPython.core.display.HTML object>"
            ],
            "text/html": [
              "Tracking run with wandb version 0.13.7"
            ]
          },
          "metadata": {}
        },
        {
          "output_type": "display_data",
          "data": {
            "text/plain": [
              "<IPython.core.display.HTML object>"
            ],
            "text/html": [
              "Run data is saved locally in <code>/content/drive/.shortcut-targets-by-id/1of66RueJPg6brfoSy1p4Wv3bofi-IrI5/tesis/wandb/run-20230101_165928-2p9wpy37</code>"
            ]
          },
          "metadata": {}
        },
        {
          "output_type": "display_data",
          "data": {
            "text/plain": [
              "<IPython.core.display.HTML object>"
            ],
            "text/html": [
              "Syncing run <strong><a href=\"https://wandb.ai/indoemobert/model-baseline-machine-learning/runs/2p9wpy37\" target=\"_blank\">DecisionTreeClassifier</a></strong> to <a href=\"https://wandb.ai/indoemobert/model-baseline-machine-learning\" target=\"_blank\">Weights & Biases</a> (<a href=\"https://wandb.me/run\" target=\"_blank\">docs</a>)<br/>"
            ]
          },
          "metadata": {}
        },
        {
          "output_type": "stream",
          "name": "stdout",
          "text": [
            "\n",
            "[INFO] DECISION TREE Cross validation:\n",
            "\tAccuracy for the fold no. 0 on the test set: 0.782\n",
            "\tAccuracy for the fold no. 1 on the test set: 0.802\n",
            "\tAccuracy for the fold no. 2 on the test set: 0.813\n",
            "\tAccuracy for the fold no. 3 on the test set: 0.816\n",
            "\tAccuracy for the fold no. 4 on the test set: 0.785\n",
            "\tAccuracy for the fold no. 5 on the test set: 0.766\n",
            "\tAccuracy for the fold no. 6 on the test set: 0.807\n",
            "\tAccuracy for the fold no. 7 on the test set: 0.785\n",
            "\tAccuracy for the fold no. 8 on the test set: 0.782\n",
            "\tAccuracy for the fold no. 9 on the test set: 0.782\n",
            "\n",
            "[INFO] DECISION TREE Training accuracy: 0.995\n",
            "[INFO] DECISION TREE Training f1 score: 0.995\n",
            "[INFO] DECISION TREE Cross validation accuracy: 0.782\n",
            "[INFO] DECISION TREE Testing accuracy: 0.783\n",
            "[INFO] DECISION TREE Testing f1 score: 0.783\n",
            "[INFO] DECISION TREE Classfication report:\n",
            "               precision    recall  f1-score   support\n",
            "\n",
            "       anger       0.69      0.68      0.68       110\n",
            "     disgust       0.94      0.87      0.90        76\n",
            "        fear       0.88      0.90      0.89        70\n",
            "         joy       0.72      0.80      0.76        75\n",
            "     sadness       0.76      0.67      0.72        58\n",
            "    surprise       0.77      0.82      0.79        60\n",
            "\n",
            "    accuracy                           0.78       449\n",
            "   macro avg       0.79      0.79      0.79       449\n",
            "weighted avg       0.79      0.78      0.78       449\n",
            "\n",
            "\n"
          ]
        },
        {
          "output_type": "display_data",
          "data": {
            "text/plain": [
              "<IPython.core.display.HTML object>"
            ],
            "text/html": [
              "Waiting for W&B process to finish... <strong style=\"color:green\">(success).</strong>"
            ]
          },
          "metadata": {}
        },
        {
          "output_type": "display_data",
          "data": {
            "text/plain": [
              "<IPython.core.display.HTML object>"
            ],
            "text/html": [
              "<style>\n",
              "    table.wandb td:nth-child(1) { padding: 0 10px; text-align: left ; width: auto;} td:nth-child(2) {text-align: left ; width: 100%}\n",
              "    .wandb-row { display: flex; flex-direction: row; flex-wrap: wrap; justify-content: flex-start; width: 100% }\n",
              "    .wandb-col { display: flex; flex-direction: column; flex-basis: 100%; flex: 1; padding: 10px; }\n",
              "    </style>\n",
              "<div class=\"wandb-row\"><div class=\"wandb-col\"><h3>Run history:</h3><br/><table class=\"wandb\"><tr><td>cross_validation_accuracy</td><td>▁</td></tr><tr><td>cross_validation_score</td><td>▃▆██▄▁▇▄▃▃</td></tr><tr><td>test_accuracy</td><td>▁</td></tr><tr><td>test_f1score</td><td>▁</td></tr><tr><td>test_precision</td><td>▁</td></tr><tr><td>test_recall</td><td>▁</td></tr><tr><td>train_accuracy</td><td>▁</td></tr><tr><td>train_f1score</td><td>▁</td></tr><tr><td>train_precision</td><td>▁</td></tr><tr><td>train_recall</td><td>▁</td></tr></table><br/></div><div class=\"wandb-col\"><h3>Run summary:</h3><br/><table class=\"wandb\"><tr><td>cross_validation_accuracy</td><td>0.78273</td></tr><tr><td>cross_validation_score</td><td>0.78273</td></tr><tr><td>test_accuracy</td><td>0.78396</td></tr><tr><td>test_f1score</td><td>0.78385</td></tr><tr><td>test_precision</td><td>0.7859</td></tr><tr><td>test_recall</td><td>0.78396</td></tr><tr><td>train_accuracy</td><td>0.99554</td></tr><tr><td>train_f1score</td><td>0.99554</td></tr><tr><td>train_precision</td><td>0.99556</td></tr><tr><td>train_recall</td><td>0.99554</td></tr></table><br/></div></div>"
            ]
          },
          "metadata": {}
        },
        {
          "output_type": "display_data",
          "data": {
            "text/plain": [
              "<IPython.core.display.HTML object>"
            ],
            "text/html": [
              "Synced <strong style=\"color:#cdcd00\">DecisionTreeClassifier</strong>: <a href=\"https://wandb.ai/indoemobert/model-baseline-machine-learning/runs/2p9wpy37\" target=\"_blank\">https://wandb.ai/indoemobert/model-baseline-machine-learning/runs/2p9wpy37</a><br/>Synced 5 W&B file(s), 6 media file(s), 8 artifact file(s) and 1 other file(s)"
            ]
          },
          "metadata": {}
        },
        {
          "output_type": "display_data",
          "data": {
            "text/plain": [
              "<IPython.core.display.HTML object>"
            ],
            "text/html": [
              "Find logs at: <code>./wandb/run-20230101_165928-2p9wpy37/logs</code>"
            ]
          },
          "metadata": {}
        },
        {
          "output_type": "stream",
          "name": "stdout",
          "text": [
            "[INFO] DECISION TREE Done ...\n",
            "\n",
            "[INFO] All done ...\n",
            "CPU times: user 8min 59s, sys: 29.9 s, total: 9min 28s\n",
            "Wall time: 10min 9s\n"
          ]
        }
      ],
      "source": [
        "%%time\n",
        "\n",
        "for name, model in models:\n",
        "  print(f'\\n[INFO] Loading using {name} ...\\n')\n",
        "\n",
        "  MODEL_NAME = type(model).__name__   \n",
        "  MODEL_PARAMS = model.get_params()    \n",
        "\n",
        "  wandb_run = wandb.init(project=f'{WANDB_PROJECT}',\n",
        "                         name=f'{MODEL_NAME}',\n",
        "                         entity=f'{WANDB_ENTITY}', \n",
        "                         config=MODEL_PARAMS,\n",
        "                         save_code=True)\n",
        "\n",
        "  clf = model.fit(X_train, y_train)\n",
        "\n",
        "  y_pred = clf.predict(X_test)             \n",
        "  y_prob = clf.predict_proba(X_test)       \n",
        "  y_true = y_test\n",
        "\n",
        "  train_accuracy = accuracy_score(y_train, clf.predict(X_train))                        \n",
        "  train_precision = precision_score(y_train, clf.predict(X_train), average='weighted')  \n",
        "  train_recall = recall_score(y_train, clf.predict(X_train), average='weighted')        \n",
        "  train_f1score = f1_score(y_train, clf.predict(X_train), average='weighted')           \n",
        "\n",
        "  wandb.config.update({\"dataset\": DATASET,\n",
        "      \"full_feature\": X_tf_idf.shape[1],\n",
        "      \"selected_feature\": X_kbest_features.shape[1],\n",
        "      \"test_size\": TEST_SIZE,\n",
        "      \"train_len\": len(X_train),\n",
        "      \"test_len\": len(X_test)})\n",
        "  \n",
        "  print(f'\\n[INFO] {name} Cross validation:')\n",
        "  cross_validation = ShuffleSplit(n_splits=10, test_size=0.2, random_state=SEED)\n",
        "  for i, score in enumerate(cross_val_score(model, X_train, y_train, scoring='accuracy', cv=cross_validation)):\n",
        "    cv_accuracy_mean = score.mean()\n",
        "\n",
        "    wandb.log({'cross_validation_score': score})\n",
        "\n",
        "    print(f'\\tAccuracy for the fold no. {i} on the test set: {truncate(score, 3)}')\n",
        "\n",
        "  test_accuracy = accuracy_score(y_true, y_pred)                                        \n",
        "  test_precision = precision_score(y_true, y_pred, average='weighted')                   \n",
        "  test_recall = recall_score(y_true, y_pred, average='weighted')\n",
        "  test_f1score = f1_score(y_true, y_pred, average='weighted')                        \n",
        "\n",
        "  print(f'\\n[INFO] {name} Training accuracy: {truncate(train_accuracy, 3)}')\n",
        "  print(f'[INFO] {name} Training f1 score: {truncate(train_f1score, 3)}')\n",
        "  print(f'[INFO] {name} Cross validation accuracy: {truncate(cv_accuracy_mean, 3)}')\n",
        "  print(f'[INFO] {name} Testing accuracy: {truncate(test_accuracy, 3)}')\n",
        "  print(f'[INFO] {name} Testing f1 score: {truncate(test_f1score, 3)}')\n",
        "  print(f'[INFO] {name} Classfication report:\\n {classification_report(y_pred, y_true, target_names=LABEL_NAME)}\\n')\n",
        "\n",
        "  wandb.log({'train_accuracy': train_accuracy, \n",
        "            'train_precision': train_precision,\n",
        "            'train_recall': train_recall,\n",
        "            'train_f1score': train_f1score,\n",
        "            'cross_validation_accuracy': cv_accuracy_mean,\n",
        "            'test_accuracy': test_accuracy,\n",
        "            'test_precision': test_precision,\n",
        "            'test_recall': test_recall,\n",
        "            'test_f1score': test_f1score})\n",
        "  \n",
        "  plot_confusion_matrix(y_true, y_pred, LABEL_NAME)\n",
        "  plot_class_proportions(y_true, y_test, LABEL_NAME)\n",
        "  plot_roc(y_test, y_prob, LABEL_NAME)\n",
        "  plot_precision_recall(y_test, y_prob, LABEL_NAME)\n",
        "  plot_learning_curve(model, X_train, y_train)\n",
        "  plot_summary_metrics(model, X_train, y_train, X_test, y_test)\n",
        "\n",
        "  wandb_run.finish()\n",
        "\n",
        "  print(f'[INFO] {name} Done ...')\n",
        "print('\\n[INFO] All done ...')"
      ]
    }
  ],
  "metadata": {
    "colab": {
      "machine_shape": "hm",
      "provenance": [],
      "toc_visible": true,
      "include_colab_link": true
    },
    "kernelspec": {
      "display_name": "Python 3",
      "name": "python3"
    },
    "language_info": {
      "name": "python"
    },
    "widgets": {
      "application/vnd.jupyter.widget-state+json": {
        "f5e8e32942a94a51b54744bfa144bab5": {
          "model_module": "@jupyter-widgets/controls",
          "model_name": "VBoxModel",
          "model_module_version": "1.5.0",
          "state": {
            "_dom_classes": [],
            "_model_module": "@jupyter-widgets/controls",
            "_model_module_version": "1.5.0",
            "_model_name": "VBoxModel",
            "_view_count": null,
            "_view_module": "@jupyter-widgets/controls",
            "_view_module_version": "1.5.0",
            "_view_name": "VBoxView",
            "box_style": "",
            "children": [
              "IPY_MODEL_a752f70554fb411ca13efb73b6446659",
              "IPY_MODEL_0a5e8af9e9eb4fd1ac0f16c1206cfb0c"
            ],
            "layout": "IPY_MODEL_5d381ee7e61b492a908eae866c61dcd8"
          }
        },
        "a752f70554fb411ca13efb73b6446659": {
          "model_module": "@jupyter-widgets/controls",
          "model_name": "LabelModel",
          "model_module_version": "1.5.0",
          "state": {
            "_dom_classes": [],
            "_model_module": "@jupyter-widgets/controls",
            "_model_module_version": "1.5.0",
            "_model_name": "LabelModel",
            "_view_count": null,
            "_view_module": "@jupyter-widgets/controls",
            "_view_module_version": "1.5.0",
            "_view_name": "LabelView",
            "description": "",
            "description_tooltip": null,
            "layout": "IPY_MODEL_c0ab34a3af524d1db3b25f1eec96f79a",
            "placeholder": "​",
            "style": "IPY_MODEL_d7ac0dfa070a479186530f3ed2ba0c97",
            "value": "Waiting for wandb.init()...\r"
          }
        },
        "0a5e8af9e9eb4fd1ac0f16c1206cfb0c": {
          "model_module": "@jupyter-widgets/controls",
          "model_name": "FloatProgressModel",
          "model_module_version": "1.5.0",
          "state": {
            "_dom_classes": [],
            "_model_module": "@jupyter-widgets/controls",
            "_model_module_version": "1.5.0",
            "_model_name": "FloatProgressModel",
            "_view_count": null,
            "_view_module": "@jupyter-widgets/controls",
            "_view_module_version": "1.5.0",
            "_view_name": "ProgressView",
            "bar_style": "",
            "description": "",
            "description_tooltip": null,
            "layout": "IPY_MODEL_3edbf80817e346cb8f5627bac0711f58",
            "max": 1,
            "min": 0,
            "orientation": "horizontal",
            "style": "IPY_MODEL_927909b29c724e4c87e3bf254f820937",
            "value": 1
          }
        },
        "5d381ee7e61b492a908eae866c61dcd8": {
          "model_module": "@jupyter-widgets/base",
          "model_name": "LayoutModel",
          "model_module_version": "1.2.0",
          "state": {
            "_model_module": "@jupyter-widgets/base",
            "_model_module_version": "1.2.0",
            "_model_name": "LayoutModel",
            "_view_count": null,
            "_view_module": "@jupyter-widgets/base",
            "_view_module_version": "1.2.0",
            "_view_name": "LayoutView",
            "align_content": null,
            "align_items": null,
            "align_self": null,
            "border": null,
            "bottom": null,
            "display": null,
            "flex": null,
            "flex_flow": null,
            "grid_area": null,
            "grid_auto_columns": null,
            "grid_auto_flow": null,
            "grid_auto_rows": null,
            "grid_column": null,
            "grid_gap": null,
            "grid_row": null,
            "grid_template_areas": null,
            "grid_template_columns": null,
            "grid_template_rows": null,
            "height": null,
            "justify_content": null,
            "justify_items": null,
            "left": null,
            "margin": null,
            "max_height": null,
            "max_width": null,
            "min_height": null,
            "min_width": null,
            "object_fit": null,
            "object_position": null,
            "order": null,
            "overflow": null,
            "overflow_x": null,
            "overflow_y": null,
            "padding": null,
            "right": null,
            "top": null,
            "visibility": null,
            "width": null
          }
        },
        "c0ab34a3af524d1db3b25f1eec96f79a": {
          "model_module": "@jupyter-widgets/base",
          "model_name": "LayoutModel",
          "model_module_version": "1.2.0",
          "state": {
            "_model_module": "@jupyter-widgets/base",
            "_model_module_version": "1.2.0",
            "_model_name": "LayoutModel",
            "_view_count": null,
            "_view_module": "@jupyter-widgets/base",
            "_view_module_version": "1.2.0",
            "_view_name": "LayoutView",
            "align_content": null,
            "align_items": null,
            "align_self": null,
            "border": null,
            "bottom": null,
            "display": null,
            "flex": null,
            "flex_flow": null,
            "grid_area": null,
            "grid_auto_columns": null,
            "grid_auto_flow": null,
            "grid_auto_rows": null,
            "grid_column": null,
            "grid_gap": null,
            "grid_row": null,
            "grid_template_areas": null,
            "grid_template_columns": null,
            "grid_template_rows": null,
            "height": null,
            "justify_content": null,
            "justify_items": null,
            "left": null,
            "margin": null,
            "max_height": null,
            "max_width": null,
            "min_height": null,
            "min_width": null,
            "object_fit": null,
            "object_position": null,
            "order": null,
            "overflow": null,
            "overflow_x": null,
            "overflow_y": null,
            "padding": null,
            "right": null,
            "top": null,
            "visibility": null,
            "width": null
          }
        },
        "d7ac0dfa070a479186530f3ed2ba0c97": {
          "model_module": "@jupyter-widgets/controls",
          "model_name": "DescriptionStyleModel",
          "model_module_version": "1.5.0",
          "state": {
            "_model_module": "@jupyter-widgets/controls",
            "_model_module_version": "1.5.0",
            "_model_name": "DescriptionStyleModel",
            "_view_count": null,
            "_view_module": "@jupyter-widgets/base",
            "_view_module_version": "1.2.0",
            "_view_name": "StyleView",
            "description_width": ""
          }
        },
        "3edbf80817e346cb8f5627bac0711f58": {
          "model_module": "@jupyter-widgets/base",
          "model_name": "LayoutModel",
          "model_module_version": "1.2.0",
          "state": {
            "_model_module": "@jupyter-widgets/base",
            "_model_module_version": "1.2.0",
            "_model_name": "LayoutModel",
            "_view_count": null,
            "_view_module": "@jupyter-widgets/base",
            "_view_module_version": "1.2.0",
            "_view_name": "LayoutView",
            "align_content": null,
            "align_items": null,
            "align_self": null,
            "border": null,
            "bottom": null,
            "display": null,
            "flex": null,
            "flex_flow": null,
            "grid_area": null,
            "grid_auto_columns": null,
            "grid_auto_flow": null,
            "grid_auto_rows": null,
            "grid_column": null,
            "grid_gap": null,
            "grid_row": null,
            "grid_template_areas": null,
            "grid_template_columns": null,
            "grid_template_rows": null,
            "height": null,
            "justify_content": null,
            "justify_items": null,
            "left": null,
            "margin": null,
            "max_height": null,
            "max_width": null,
            "min_height": null,
            "min_width": null,
            "object_fit": null,
            "object_position": null,
            "order": null,
            "overflow": null,
            "overflow_x": null,
            "overflow_y": null,
            "padding": null,
            "right": null,
            "top": null,
            "visibility": null,
            "width": null
          }
        },
        "927909b29c724e4c87e3bf254f820937": {
          "model_module": "@jupyter-widgets/controls",
          "model_name": "ProgressStyleModel",
          "model_module_version": "1.5.0",
          "state": {
            "_model_module": "@jupyter-widgets/controls",
            "_model_module_version": "1.5.0",
            "_model_name": "ProgressStyleModel",
            "_view_count": null,
            "_view_module": "@jupyter-widgets/base",
            "_view_module_version": "1.2.0",
            "_view_name": "StyleView",
            "bar_color": null,
            "description_width": ""
          }
        },
        "91c52dfc12e947938c6a2563b017c785": {
          "model_module": "@jupyter-widgets/controls",
          "model_name": "VBoxModel",
          "model_module_version": "1.5.0",
          "state": {
            "_dom_classes": [],
            "_model_module": "@jupyter-widgets/controls",
            "_model_module_version": "1.5.0",
            "_model_name": "VBoxModel",
            "_view_count": null,
            "_view_module": "@jupyter-widgets/controls",
            "_view_module_version": "1.5.0",
            "_view_name": "VBoxView",
            "box_style": "",
            "children": [
              "IPY_MODEL_0bd75a7127a546f5b911b8b378668dbc",
              "IPY_MODEL_93387b3fdc7844d5bb9574223108e05d"
            ],
            "layout": "IPY_MODEL_8ca92762e8ec4ed98c690a5a57a8c10e"
          }
        },
        "0bd75a7127a546f5b911b8b378668dbc": {
          "model_module": "@jupyter-widgets/controls",
          "model_name": "LabelModel",
          "model_module_version": "1.5.0",
          "state": {
            "_dom_classes": [],
            "_model_module": "@jupyter-widgets/controls",
            "_model_module_version": "1.5.0",
            "_model_name": "LabelModel",
            "_view_count": null,
            "_view_module": "@jupyter-widgets/controls",
            "_view_module_version": "1.5.0",
            "_view_name": "LabelView",
            "description": "",
            "description_tooltip": null,
            "layout": "IPY_MODEL_d0e54eac5d5a406e8a0c9a186cbad8e6",
            "placeholder": "​",
            "style": "IPY_MODEL_1de4c09ec58f41ab8dcace006585173d",
            "value": "Waiting for wandb.init()...\r"
          }
        },
        "93387b3fdc7844d5bb9574223108e05d": {
          "model_module": "@jupyter-widgets/controls",
          "model_name": "FloatProgressModel",
          "model_module_version": "1.5.0",
          "state": {
            "_dom_classes": [],
            "_model_module": "@jupyter-widgets/controls",
            "_model_module_version": "1.5.0",
            "_model_name": "FloatProgressModel",
            "_view_count": null,
            "_view_module": "@jupyter-widgets/controls",
            "_view_module_version": "1.5.0",
            "_view_name": "ProgressView",
            "bar_style": "",
            "description": "",
            "description_tooltip": null,
            "layout": "IPY_MODEL_ad243885d8c34973becf3566dc03c0e7",
            "max": 1,
            "min": 0,
            "orientation": "horizontal",
            "style": "IPY_MODEL_13a6d87f5c284a97bda6760e6bd18a81",
            "value": 1
          }
        },
        "8ca92762e8ec4ed98c690a5a57a8c10e": {
          "model_module": "@jupyter-widgets/base",
          "model_name": "LayoutModel",
          "model_module_version": "1.2.0",
          "state": {
            "_model_module": "@jupyter-widgets/base",
            "_model_module_version": "1.2.0",
            "_model_name": "LayoutModel",
            "_view_count": null,
            "_view_module": "@jupyter-widgets/base",
            "_view_module_version": "1.2.0",
            "_view_name": "LayoutView",
            "align_content": null,
            "align_items": null,
            "align_self": null,
            "border": null,
            "bottom": null,
            "display": null,
            "flex": null,
            "flex_flow": null,
            "grid_area": null,
            "grid_auto_columns": null,
            "grid_auto_flow": null,
            "grid_auto_rows": null,
            "grid_column": null,
            "grid_gap": null,
            "grid_row": null,
            "grid_template_areas": null,
            "grid_template_columns": null,
            "grid_template_rows": null,
            "height": null,
            "justify_content": null,
            "justify_items": null,
            "left": null,
            "margin": null,
            "max_height": null,
            "max_width": null,
            "min_height": null,
            "min_width": null,
            "object_fit": null,
            "object_position": null,
            "order": null,
            "overflow": null,
            "overflow_x": null,
            "overflow_y": null,
            "padding": null,
            "right": null,
            "top": null,
            "visibility": null,
            "width": null
          }
        },
        "d0e54eac5d5a406e8a0c9a186cbad8e6": {
          "model_module": "@jupyter-widgets/base",
          "model_name": "LayoutModel",
          "model_module_version": "1.2.0",
          "state": {
            "_model_module": "@jupyter-widgets/base",
            "_model_module_version": "1.2.0",
            "_model_name": "LayoutModel",
            "_view_count": null,
            "_view_module": "@jupyter-widgets/base",
            "_view_module_version": "1.2.0",
            "_view_name": "LayoutView",
            "align_content": null,
            "align_items": null,
            "align_self": null,
            "border": null,
            "bottom": null,
            "display": null,
            "flex": null,
            "flex_flow": null,
            "grid_area": null,
            "grid_auto_columns": null,
            "grid_auto_flow": null,
            "grid_auto_rows": null,
            "grid_column": null,
            "grid_gap": null,
            "grid_row": null,
            "grid_template_areas": null,
            "grid_template_columns": null,
            "grid_template_rows": null,
            "height": null,
            "justify_content": null,
            "justify_items": null,
            "left": null,
            "margin": null,
            "max_height": null,
            "max_width": null,
            "min_height": null,
            "min_width": null,
            "object_fit": null,
            "object_position": null,
            "order": null,
            "overflow": null,
            "overflow_x": null,
            "overflow_y": null,
            "padding": null,
            "right": null,
            "top": null,
            "visibility": null,
            "width": null
          }
        },
        "1de4c09ec58f41ab8dcace006585173d": {
          "model_module": "@jupyter-widgets/controls",
          "model_name": "DescriptionStyleModel",
          "model_module_version": "1.5.0",
          "state": {
            "_model_module": "@jupyter-widgets/controls",
            "_model_module_version": "1.5.0",
            "_model_name": "DescriptionStyleModel",
            "_view_count": null,
            "_view_module": "@jupyter-widgets/base",
            "_view_module_version": "1.2.0",
            "_view_name": "StyleView",
            "description_width": ""
          }
        },
        "ad243885d8c34973becf3566dc03c0e7": {
          "model_module": "@jupyter-widgets/base",
          "model_name": "LayoutModel",
          "model_module_version": "1.2.0",
          "state": {
            "_model_module": "@jupyter-widgets/base",
            "_model_module_version": "1.2.0",
            "_model_name": "LayoutModel",
            "_view_count": null,
            "_view_module": "@jupyter-widgets/base",
            "_view_module_version": "1.2.0",
            "_view_name": "LayoutView",
            "align_content": null,
            "align_items": null,
            "align_self": null,
            "border": null,
            "bottom": null,
            "display": null,
            "flex": null,
            "flex_flow": null,
            "grid_area": null,
            "grid_auto_columns": null,
            "grid_auto_flow": null,
            "grid_auto_rows": null,
            "grid_column": null,
            "grid_gap": null,
            "grid_row": null,
            "grid_template_areas": null,
            "grid_template_columns": null,
            "grid_template_rows": null,
            "height": null,
            "justify_content": null,
            "justify_items": null,
            "left": null,
            "margin": null,
            "max_height": null,
            "max_width": null,
            "min_height": null,
            "min_width": null,
            "object_fit": null,
            "object_position": null,
            "order": null,
            "overflow": null,
            "overflow_x": null,
            "overflow_y": null,
            "padding": null,
            "right": null,
            "top": null,
            "visibility": null,
            "width": null
          }
        },
        "13a6d87f5c284a97bda6760e6bd18a81": {
          "model_module": "@jupyter-widgets/controls",
          "model_name": "ProgressStyleModel",
          "model_module_version": "1.5.0",
          "state": {
            "_model_module": "@jupyter-widgets/controls",
            "_model_module_version": "1.5.0",
            "_model_name": "ProgressStyleModel",
            "_view_count": null,
            "_view_module": "@jupyter-widgets/base",
            "_view_module_version": "1.2.0",
            "_view_name": "StyleView",
            "bar_color": null,
            "description_width": ""
          }
        }
      }
    }
  },
  "nbformat": 4,
  "nbformat_minor": 0
}