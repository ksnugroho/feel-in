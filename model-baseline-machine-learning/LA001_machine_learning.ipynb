{
  "cells": [
    {
      "cell_type": "markdown",
      "metadata": {
        "id": "view-in-github",
        "colab_type": "text"
      },
      "source": [
        "<a href=\"https://colab.research.google.com/github/ksnugroho/feel-in/blob/main/model-baseline-machine-learning/LA001_machine_learning.ipynb\" target=\"_parent\"><img src=\"https://colab.research.google.com/assets/colab-badge.svg\" alt=\"Open In Colab\"/></a>"
      ]
    },
    {
      "cell_type": "markdown",
      "metadata": {
        "id": "mWI95HWYoGz2"
      },
      "source": [
        "# **Machine Learning Model**\n",
        "\n",
        "**Thesis: Emotion Detection in Indonesian Text**\n",
        "\n",
        "Kuncahyo Setyo Nugroho<br>\n",
        "Supervisor:\n",
        "1. Dr. Eng. Fitra A. Bachtiar, S.T., M.Eng.\n",
        "2. Prof. Ir. Wayan Firdaus Mahmudy, S.Si., M.T., Ph.D.\n",
        "\n",
        "Faculty of Computer Science, Brawijaya University, Indonesia &copy; 2021-2022"
      ]
    },
    {
      "cell_type": "markdown",
      "metadata": {
        "id": "itm9wMAPoJhi"
      },
      "source": [
        "# 01 Setup"
      ]
    },
    {
      "cell_type": "code",
      "execution_count": null,
      "metadata": {
        "id": "ZALLtnV3oCau",
        "colab": {
          "base_uri": "https://localhost:8080/"
        },
        "outputId": "02da6a78-a549-4ea7-c239-13d020a603ac"
      },
      "outputs": [
        {
          "output_type": "stream",
          "name": "stdout",
          "text": [
            "Mounted at /content/drive\n"
          ]
        }
      ],
      "source": [
        "from google.colab import drive\n",
        "drive.mount('/content/drive', force_remount=True)"
      ]
    },
    {
      "cell_type": "code",
      "execution_count": null,
      "metadata": {
        "id": "Ex9vbzC5oNHD",
        "colab": {
          "base_uri": "https://localhost:8080/"
        },
        "outputId": "20371db1-4ec4-48cd-f572-22d4ab162ab6"
      },
      "outputs": [
        {
          "output_type": "stream",
          "name": "stdout",
          "text": [
            "/content/drive/.shortcut-targets-by-id/1of66RueJPg6brfoSy1p4Wv3bofi-IrI5/tesis\n"
          ]
        }
      ],
      "source": [
        "%cd /content/drive/MyDrive/Code/tesis"
      ]
    },
    {
      "cell_type": "code",
      "execution_count": null,
      "metadata": {
        "id": "y2eqLRusJHuA",
        "colab": {
          "base_uri": "https://localhost:8080/"
        },
        "outputId": "9f5ab7de-8414-462c-efa2-19ed2ad4010f"
      },
      "outputs": [
        {
          "output_type": "stream",
          "name": "stdout",
          "text": [
            "\u001b[K     |████████████████████████████████| 69 kB 5.8 MB/s \n",
            "\u001b[K     |████████████████████████████████| 22.6 MB 1.1 MB/s \n",
            "\u001b[K     |████████████████████████████████| 284.3 MB 2.0 kB/s \n",
            "\u001b[K     |████████████████████████████████| 4.0 MB 75.4 MB/s \n",
            "\u001b[?25h"
          ]
        }
      ],
      "source": [
        "# https://github.com/intel/scikit-learn-intelex\n",
        "!pip install -q scikit-learn-intelex==2021.5.3"
      ]
    },
    {
      "cell_type": "code",
      "execution_count": null,
      "metadata": {
        "id": "QAy98dmDJZPy",
        "colab": {
          "base_uri": "https://localhost:8080/"
        },
        "outputId": "cd3109cc-b2a7-4846-be26-3527749cfd83"
      },
      "outputs": [
        {
          "output_type": "stream",
          "name": "stderr",
          "text": [
            "Intel(R) Extension for Scikit-learn* enabled (https://github.com/intel/scikit-learn-intelex)\n"
          ]
        }
      ],
      "source": [
        "from sklearnex import patch_sklearn\n",
        "patch_sklearn()"
      ]
    },
    {
      "cell_type": "code",
      "execution_count": null,
      "metadata": {
        "id": "QT4qIW8IoPQW"
      },
      "outputs": [],
      "source": [
        "import re\n",
        "import os\n",
        "import datetime\n",
        "import numpy as np\n",
        "import pandas as pd\n",
        "import matplotlib.pyplot as plt\n",
        "import seaborn as sns\n",
        "\n",
        "from itertools import cycle\n",
        "from sklearn.preprocessing import LabelEncoder\n",
        "from sklearn.model_selection import train_test_split, ShuffleSplit, cross_val_score\n",
        "from sklearn.feature_extraction.text import TfidfVectorizer\n",
        "from sklearn.feature_selection import SelectKBest, chi2\n",
        "from sklearn.neighbors import KNeighborsClassifier\n",
        "from sklearn.naive_bayes import MultinomialNB\n",
        "from sklearn.svm import SVC\n",
        "from sklearn.tree import DecisionTreeClassifier\n",
        "from sklearn.metrics import confusion_matrix, classification_report, accuracy_score, recall_score, precision_score, f1_score\n",
        "\n",
        "import warnings\n",
        "warnings.filterwarnings('ignore')\n",
        "\n",
        "from tqdm import tqdm\n",
        "tqdm.pandas()\n",
        "\n",
        "SEED = 50\n",
        "FOLDER_PATH = 'model-baseline-machine-learning'\n",
        "DATASET = 'final-tweet-lexicon-annotation'\n",
        "\n",
        "np.random.seed(SEED)\n",
        "\n",
        "%matplotlib inline"
      ]
    },
    {
      "cell_type": "code",
      "execution_count": null,
      "metadata": {
        "id": "OlG0EaOKMGjf",
        "colab": {
          "base_uri": "https://localhost:8080/"
        },
        "outputId": "8d039c0b-7811-460c-acd6-d28fdab7e7a4"
      },
      "outputs": [
        {
          "output_type": "stream",
          "name": "stdout",
          "text": [
            "\u001b[K     |████████████████████████████████| 1.9 MB 13.7 MB/s \n",
            "\u001b[K     |████████████████████████████████| 174 kB 48.9 MB/s \n",
            "\u001b[K     |████████████████████████████████| 184 kB 55.3 MB/s \n",
            "\u001b[K     |████████████████████████████████| 62 kB 963 kB/s \n",
            "\u001b[K     |████████████████████████████████| 173 kB 61.4 MB/s \n",
            "\u001b[K     |████████████████████████████████| 168 kB 64.5 MB/s \n",
            "\u001b[K     |████████████████████████████████| 168 kB 41.0 MB/s \n",
            "\u001b[K     |████████████████████████████████| 166 kB 73.8 MB/s \n",
            "\u001b[K     |████████████████████████████████| 166 kB 44.9 MB/s \n",
            "\u001b[K     |████████████████████████████████| 162 kB 77.0 MB/s \n",
            "\u001b[K     |████████████████████████████████| 162 kB 79.6 MB/s \n",
            "\u001b[K     |████████████████████████████████| 158 kB 76.8 MB/s \n",
            "\u001b[K     |████████████████████████████████| 157 kB 67.1 MB/s \n",
            "\u001b[K     |████████████████████████████████| 157 kB 56.1 MB/s \n",
            "\u001b[K     |████████████████████████████████| 157 kB 70.8 MB/s \n",
            "\u001b[K     |████████████████████████████████| 157 kB 54.0 MB/s \n",
            "\u001b[K     |████████████████████████████████| 157 kB 64.0 MB/s \n",
            "\u001b[K     |████████████████████████████████| 157 kB 54.7 MB/s \n",
            "\u001b[K     |████████████████████████████████| 157 kB 49.9 MB/s \n",
            "\u001b[K     |████████████████████████████████| 156 kB 71.3 MB/s \n",
            "\u001b[?25h  Building wheel for pathtools (setup.py) ... \u001b[?25l\u001b[?25hdone\n"
          ]
        }
      ],
      "source": [
        "# https://github.com/wandb/wandb\n",
        "!pip install -q wandb"
      ]
    },
    {
      "cell_type": "code",
      "execution_count": null,
      "metadata": {
        "id": "T9HWDVA7MM1-",
        "colab": {
          "base_uri": "https://localhost:8080/"
        },
        "outputId": "b856eab5-f80e-4afa-8e9b-22d2bf63ad3b"
      },
      "outputs": [
        {
          "output_type": "stream",
          "name": "stderr",
          "text": [
            "\u001b[34m\u001b[1mwandb\u001b[0m: W&B API key is configured. Use \u001b[1m`wandb login --relogin`\u001b[0m to force relogin\n",
            "\u001b[34m\u001b[1mwandb\u001b[0m: \u001b[33mWARNING\u001b[0m If you're specifying your api key in code, ensure this code is not shared publicly.\n",
            "\u001b[34m\u001b[1mwandb\u001b[0m: \u001b[33mWARNING\u001b[0m Consider setting the WANDB_API_KEY environment variable, or running `wandb login` from the command line.\n",
            "\u001b[34m\u001b[1mwandb\u001b[0m: Appending key for api.wandb.ai to your netrc file: /root/.netrc\n"
          ]
        }
      ],
      "source": [
        "import wandb\n",
        "from wandb.sklearn import plot_confusion_matrix, plot_precision_recall, plot_class_proportions, plot_learning_curve, plot_roc, plot_summary_metrics\n",
        "\n",
        "os.environ['WANDB_MODE'] = 'online' # mode: disabled, online, offline\n",
        "os.environ['WANDB_NOTEBOOK_NAME'] = f'{FOLDER_PATH}/LA001-machine-learning.ipynb'\n",
        "\n",
        "wandb.login(key='bd42e3aab9cac21a2416900b1114532802619de3')\n",
        "\n",
        "WANDB_PROJECT = 'model-baseline-machine-learning'\n",
        "WANDB_ENTITY = 'indoemobert'"
      ]
    },
    {
      "cell_type": "markdown",
      "metadata": {
        "id": "U7fAQEMloPuA"
      },
      "source": [
        "# 02 Load Data (Lexicon Based Annotation)"
      ]
    },
    {
      "cell_type": "code",
      "execution_count": null,
      "metadata": {
        "id": "CARGvi0xoRCH",
        "colab": {
          "base_uri": "https://localhost:8080/"
        },
        "outputId": "d335db89-f226-409b-8c40-fb4b04d068cd"
      },
      "outputs": [
        {
          "output_type": "stream",
          "name": "stdout",
          "text": [
            "                                               tweet  label\n",
            "0        wah belom liat muka gue lagi murka hahahaha  anger\n",
            "1  Mungkin kurang piknik adrenalin. Mereka yg ske...  anger\n",
            "2  maaf kalo tersinggung \"orang kurus cepet mati\"...  anger\n",
            "3  berserah pada maha esa paling tabah dan sabar ...    joy\n",
            "4                       Ehekk malu la hahahahahahaha   fear\n"
          ]
        }
      ],
      "source": [
        "df = pd.read_csv('data/final-tweet-lexicon-annotation.csv', index_col=0)\n",
        "# df = df.sample(frac=1, random_state=SEED).reset_index(drop=True)   # For shuffle\n",
        "print(df.head())"
      ]
    },
    {
      "cell_type": "code",
      "execution_count": null,
      "metadata": {
        "id": "dd1GYx69HqZ5"
      },
      "outputs": [],
      "source": [
        "# df = df.dropna()"
      ]
    },
    {
      "cell_type": "code",
      "execution_count": null,
      "metadata": {
        "id": "kBO9cdcVoevc",
        "colab": {
          "base_uri": "https://localhost:8080/"
        },
        "outputId": "37070525-1619-4c66-cb21-e524bab0f223"
      },
      "outputs": [
        {
          "output_type": "execute_result",
          "data": {
            "text/plain": [
              "(2243, 2)"
            ]
          },
          "metadata": {},
          "execution_count": 10
        }
      ],
      "source": [
        "df.shape"
      ]
    },
    {
      "cell_type": "code",
      "execution_count": null,
      "metadata": {
        "id": "1AbFcDzYof6v",
        "colab": {
          "base_uri": "https://localhost:8080/",
          "height": 475
        },
        "outputId": "f8f5e768-d02c-49c5-e23e-ef67a1798771"
      },
      "outputs": [
        {
          "output_type": "display_data",
          "data": {
            "text/plain": [
              "<Figure size 576x360 with 1 Axes>"
            ],
            "image/png": "[encoded data removed]"
          },
          "metadata": {
            "needs_background": "light"
          }
        },
        {
          "output_type": "execute_result",
          "data": {
            "text/plain": [
              "anger       422\n",
              "disgust     305\n",
              "fear        360\n",
              "joy         547\n",
              "sadness     314\n",
              "surprise    295\n",
              "Name: label, dtype: int64"
            ]
          },
          "metadata": {},
          "execution_count": 11
        }
      ],
      "source": [
        "plt.figure(figsize=(8, 5))\n",
        "sns.countplot(x='label', data=df, order=df['label'].value_counts().index)\n",
        "plt.xlabel('Labels')\n",
        "plt.ylabel('Count')\n",
        "plt.title('Distribution of Emotion Labels')\n",
        "plt.show()\n",
        "\n",
        "df['label'].value_counts().sort_index()"
      ]
    },
    {
      "cell_type": "markdown",
      "metadata": {
        "id": "kAwKSD_Mog9d"
      },
      "source": [
        "# 03 Preprocessing"
      ]
    },
    {
      "cell_type": "markdown",
      "metadata": {
        "id": "K35r8vqBpoNS"
      },
      "source": [
        "## Text Cleaning"
      ]
    },
    {
      "cell_type": "code",
      "execution_count": null,
      "metadata": {
        "id": "n1QhalnAoi8J"
      },
      "outputs": [],
      "source": [
        "def text_cleaning(text):\n",
        "  text = text.lower()                               # Mengubah teks menjadi lower case\n",
        "  text = re.sub(r'https?://\\S+|www\\.\\S+', '', text) # Menghapus URL\n",
        "  text = re.sub(r'[-+]?[0-9]+', '', text)           # Menghapus angka\n",
        "  text = re.sub(r'[^\\w\\s]','', text)                # Menghapus karakter tanda baca\n",
        "  text = text.strip()                               # Menghapus whitespaces\n",
        "\n",
        "  return text"
      ]
    },
    {
      "cell_type": "code",
      "execution_count": null,
      "metadata": {
        "id": "1AnLUYCdolWm",
        "colab": {
          "base_uri": "https://localhost:8080/"
        },
        "outputId": "ecb4c2aa-81e7-4412-d129-bf8f97dd51ef"
      },
      "outputs": [
        {
          "output_type": "stream",
          "name": "stderr",
          "text": [
            "100%|██████████| 2243/2243 [00:00<00:00, 42096.19it/s]"
          ]
        },
        {
          "output_type": "stream",
          "name": "stdout",
          "text": [
            "CPU times: user 61.1 ms, sys: 2.08 ms, total: 63.2 ms\n",
            "Wall time: 62.9 ms\n"
          ]
        },
        {
          "output_type": "stream",
          "name": "stderr",
          "text": [
            "\n"
          ]
        }
      ],
      "source": [
        "%%time\n",
        "df['tweet'] = df['tweet'].progress_apply(text_cleaning)"
      ]
    },
    {
      "cell_type": "markdown",
      "metadata": {
        "id": "angYLWoBpq1g"
      },
      "source": [
        "## Label Encoder"
      ]
    },
    {
      "cell_type": "code",
      "execution_count": null,
      "metadata": {
        "id": "73i94D1xpqPP",
        "colab": {
          "base_uri": "https://localhost:8080/"
        },
        "outputId": "ae91b5b6-d69e-4170-c68d-62989c329c76"
      },
      "outputs": [
        {
          "output_type": "stream",
          "name": "stdout",
          "text": [
            "                                               tweet  label  label_encode\n",
            "0        wah belom liat muka gue lagi murka hahahaha  anger             0\n",
            "1  mungkin kurang piknik adrenalin mereka yg skep...  anger             0\n",
            "2  maaf kalo tersinggung orang kurus cepet mati w...  anger             0\n",
            "3  berserah pada maha esa paling tabah dan sabar ...    joy             3\n",
            "4                       ehekk malu la hahahahahahaha   fear             2\n"
          ]
        }
      ],
      "source": [
        "le = LabelEncoder()\n",
        "\n",
        "df['label_encode'] = le.fit_transform(df['label'])\n",
        "print(df.head())"
      ]
    },
    {
      "cell_type": "code",
      "execution_count": null,
      "metadata": {
        "id": "1cDGHkjDHut0",
        "colab": {
          "base_uri": "https://localhost:8080/"
        },
        "outputId": "f728cadf-5309-4244-ff25-c9276db7e9dc"
      },
      "outputs": [
        {
          "output_type": "stream",
          "name": "stdout",
          "text": [
            "{'anger': 0, 'disgust': 1, 'fear': 2, 'joy': 3, 'sadness': 4, 'surprise': 5}\n"
          ]
        }
      ],
      "source": [
        "le_mapping = dict(zip(le.classes_, le.transform(le.classes_)))\n",
        "print(le_mapping)"
      ]
    },
    {
      "cell_type": "code",
      "execution_count": null,
      "metadata": {
        "id": "EOoyn1QmHvuL",
        "colab": {
          "base_uri": "https://localhost:8080/"
        },
        "outputId": "b113897e-5a37-4514-c9e8-4dc9e2c46c18"
      },
      "outputs": [
        {
          "output_type": "stream",
          "name": "stdout",
          "text": [
            "['anger' 'disgust' 'fear' 'joy' 'sadness' 'surprise']\n"
          ]
        }
      ],
      "source": [
        "LABEL_NAME = le.classes_\n",
        "print(LABEL_NAME)"
      ]
    },
    {
      "cell_type": "markdown",
      "metadata": {
        "id": "fux132KTpR6T"
      },
      "source": [
        "# 04 Feature Extraction & Feature Selection"
      ]
    },
    {
      "cell_type": "markdown",
      "metadata": {
        "id": "nvS_OLSEvY2B"
      },
      "source": [
        "## Term Frequency–Inverse Document Frequency (TF-IDF)"
      ]
    },
    {
      "cell_type": "code",
      "execution_count": null,
      "metadata": {
        "id": "M26jXi-jphhS"
      },
      "outputs": [],
      "source": [
        "X = df['tweet']\n",
        "y = df['label_encode']"
      ]
    },
    {
      "cell_type": "code",
      "execution_count": null,
      "metadata": {
        "id": "pW38rFmYqKjP",
        "colab": {
          "base_uri": "https://localhost:8080/"
        },
        "outputId": "526d86bd-acb4-4f6d-a8a9-134f7930689b"
      },
      "outputs": [
        {
          "output_type": "execute_result",
          "data": {
            "text/plain": [
              "TfidfVectorizer(ngram_range=(1, 2))"
            ]
          },
          "metadata": {},
          "execution_count": 18
        }
      ],
      "source": [
        "tf_idf = TfidfVectorizer(ngram_range=(1,2))\n",
        "tf_idf.fit(X)"
      ]
    },
    {
      "cell_type": "code",
      "execution_count": null,
      "metadata": {
        "id": "7aBXSrhsU847"
      },
      "outputs": [],
      "source": [
        "full_vocab = tf_idf.vocabulary_"
      ]
    },
    {
      "cell_type": "code",
      "execution_count": null,
      "metadata": {
        "id": "S8HHdokSqKoh",
        "colab": {
          "base_uri": "https://localhost:8080/"
        },
        "outputId": "7f62224e-9259-4165-ff9d-748dd074bf94"
      },
      "outputs": [
        {
          "output_type": "stream",
          "name": "stdout",
          "text": [
            "[[0. 0. 0. ... 0. 0. 0.]\n",
            " [0. 0. 0. ... 0. 0. 0.]\n",
            " [0. 0. 0. ... 0. 0. 0.]\n",
            " ...\n",
            " [0. 0. 0. ... 0. 0. 0.]\n",
            " [0. 0. 0. ... 0. 0. 0.]\n",
            " [0. 0. 0. ... 0. 0. 0.]]\n",
            "(2243, 39389)\n"
          ]
        }
      ],
      "source": [
        "X_tf_idf = tf_idf.transform(X).toarray()\n",
        "print(X_tf_idf)\n",
        "print(X_tf_idf.shape)"
      ]
    },
    {
      "cell_type": "markdown",
      "metadata": {
        "id": "Ztck-Io4vihB"
      },
      "source": [
        "## Chi-Square Test for Feature Selection"
      ]
    },
    {
      "cell_type": "code",
      "execution_count": null,
      "metadata": {
        "id": "4rTo3UPzsIJy",
        "colab": {
          "base_uri": "https://localhost:8080/"
        },
        "outputId": "32c6c763-d1ae-4fc1-b9b0-2e0083e817b7"
      },
      "outputs": [
        {
          "output_type": "stream",
          "name": "stdout",
          "text": [
            "Number of original features: 39389\n",
            "Number of features after selection: 10000\n"
          ]
        }
      ],
      "source": [
        "K_FEATURES = 10000\n",
        "\n",
        "chi2_features = SelectKBest(chi2, k=K_FEATURES) \n",
        "X_kbest_features = chi2_features.fit_transform(np.array(X_tf_idf), np.array(y)) \n",
        "  \n",
        "print('Number of original features:', X_tf_idf.shape[1]) \n",
        "print('Number of features after selection:', X_kbest_features.shape[1]) "
      ]
    },
    {
      "cell_type": "code",
      "execution_count": null,
      "metadata": {
        "id": "H_TjeyHEtYzj",
        "colab": {
          "base_uri": "https://localhost:8080/",
          "height": 363
        },
        "outputId": "49978514-e5e6-4082-9e42-3bb33ebc1dec"
      },
      "outputs": [
        {
          "output_type": "execute_result",
          "data": {
            "text/plain": [
              "       chi2_score    feature\n",
              "15574  116.163705      jijik\n",
              "25433   98.861730      ngeri\n",
              "35466   82.241915   terkejut\n",
              "13296   78.433084      heran\n",
              "34426   51.761745      takut\n",
              "35684   48.335712  terpesona\n",
              "18311   47.152314      kesal\n",
              "17534   42.154867     kecewa\n",
              "12470   37.538384      gugup\n",
              "32037   37.395829     senang"
            ],
            "text/html": [
              "\n",
              "  <div id=\"df-e0af1189-0de3-4323-9f55-6e258cbf442b\">\n",
              "    <div class=\"colab-df-container\">\n",
              "      <div>\n",
              "<style scoped>\n",
              "    .dataframe tbody tr th:only-of-type {\n",
              "        vertical-align: middle;\n",
              "    }\n",
              "\n",
              "    .dataframe tbody tr th {\n",
              "        vertical-align: top;\n",
              "    }\n",
              "\n",
              "    .dataframe thead th {\n",
              "        text-align: right;\n",
              "    }\n",
              "</style>\n",
              "<table border=\"1\" class=\"dataframe\">\n",
              "  <thead>\n",
              "    <tr style=\"text-align: right;\">\n",
              "      <th></th>\n",
              "      <th>chi2_score</th>\n",
              "      <th>feature</th>\n",
              "    </tr>\n",
              "  </thead>\n",
              "  <tbody>\n",
              "    <tr>\n",
              "      <th>15574</th>\n",
              "      <td>116.163705</td>\n",
              "      <td>jijik</td>\n",
              "    </tr>\n",
              "    <tr>\n",
              "      <th>25433</th>\n",
              "      <td>98.861730</td>\n",
              "      <td>ngeri</td>\n",
              "    </tr>\n",
              "    <tr>\n",
              "      <th>35466</th>\n",
              "      <td>82.241915</td>\n",
              "      <td>terkejut</td>\n",
              "    </tr>\n",
              "    <tr>\n",
              "      <th>13296</th>\n",
              "      <td>78.433084</td>\n",
              "      <td>heran</td>\n",
              "    </tr>\n",
              "    <tr>\n",
              "      <th>34426</th>\n",
              "      <td>51.761745</td>\n",
              "      <td>takut</td>\n",
              "    </tr>\n",
              "    <tr>\n",
              "      <th>35684</th>\n",
              "      <td>48.335712</td>\n",
              "      <td>terpesona</td>\n",
              "    </tr>\n",
              "    <tr>\n",
              "      <th>18311</th>\n",
              "      <td>47.152314</td>\n",
              "      <td>kesal</td>\n",
              "    </tr>\n",
              "    <tr>\n",
              "      <th>17534</th>\n",
              "      <td>42.154867</td>\n",
              "      <td>kecewa</td>\n",
              "    </tr>\n",
              "    <tr>\n",
              "      <th>12470</th>\n",
              "      <td>37.538384</td>\n",
              "      <td>gugup</td>\n",
              "    </tr>\n",
              "    <tr>\n",
              "      <th>32037</th>\n",
              "      <td>37.395829</td>\n",
              "      <td>senang</td>\n",
              "    </tr>\n",
              "  </tbody>\n",
              "</table>\n",
              "</div>\n",
              "      <button class=\"colab-df-convert\" onclick=\"convertToInteractive('df-e0af1189-0de3-4323-9f55-6e258cbf442b')\"\n",
              "              title=\"Convert this dataframe to an interactive table.\"\n",
              "              style=\"display:none;\">\n",
              "        \n",
              "  <svg xmlns=\"http://www.w3.org/2000/svg\" height=\"24px\"viewBox=\"0 0 24 24\"\n",
              "       width=\"24px\">\n",
              "    <path d=\"M0 0h24v24H0V0z\" fill=\"none\"/>\n",
              "    <path d=\"M18.56 5.44l.94 2.06.94-2.06 2.06-.94-2.06-.94-.94-2.06-.94 2.06-2.06.94zm-11 1L8.5 8.5l.94-2.06 2.06-.94-2.06-.94L8.5 2.5l-.94 2.06-2.06.94zm10 10l.94 2.06.94-2.06 2.06-.94-2.06-.94-.94-2.06-.94 2.06-2.06.94z\"/><path d=\"M17.41 7.96l-1.37-1.37c-.4-.4-.92-.59-1.43-.59-.52 0-1.04.2-1.43.59L10.3 9.45l-7.72 7.72c-.78.78-.78 2.05 0 2.83L4 21.41c.39.39.9.59 1.41.59.51 0 1.02-.2 1.41-.59l7.78-7.78 2.81-2.81c.8-.78.8-2.07 0-2.86zM5.41 20L4 18.59l7.72-7.72 1.47 1.35L5.41 20z\"/>\n",
              "  </svg>\n",
              "      </button>\n",
              "      \n",
              "  <style>\n",
              "    .colab-df-container {\n",
              "      display:flex;\n",
              "      flex-wrap:wrap;\n",
              "      gap: 12px;\n",
              "    }\n",
              "\n",
              "    .colab-df-convert {\n",
              "      background-color: #E8F0FE;\n",
              "      border: none;\n",
              "      border-radius: 50%;\n",
              "      cursor: pointer;\n",
              "      display: none;\n",
              "      fill: #1967D2;\n",
              "      height: 32px;\n",
              "      padding: 0 0 0 0;\n",
              "      width: 32px;\n",
              "    }\n",
              "\n",
              "    .colab-df-convert:hover {\n",
              "      background-color: #E2EBFA;\n",
              "      box-shadow: 0px 1px 2px rgba(60, 64, 67, 0.3), 0px 1px 3px 1px rgba(60, 64, 67, 0.15);\n",
              "      fill: #174EA6;\n",
              "    }\n",
              "\n",
              "    [theme=dark] .colab-df-convert {\n",
              "      background-color: #3B4455;\n",
              "      fill: #D2E3FC;\n",
              "    }\n",
              "\n",
              "    [theme=dark] .colab-df-convert:hover {\n",
              "      background-color: #434B5C;\n",
              "      box-shadow: 0px 1px 3px 1px rgba(0, 0, 0, 0.15);\n",
              "      filter: drop-shadow(0px 1px 2px rgba(0, 0, 0, 0.3));\n",
              "      fill: #FFFFFF;\n",
              "    }\n",
              "  </style>\n",
              "\n",
              "      <script>\n",
              "        const buttonEl =\n",
              "          document.querySelector('#df-e0af1189-0de3-4323-9f55-6e258cbf442b button.colab-df-convert');\n",
              "        buttonEl.style.display =\n",
              "          google.colab.kernel.accessAllowed ? 'block' : 'none';\n",
              "\n",
              "        async function convertToInteractive(key) {\n",
              "          const element = document.querySelector('#df-e0af1189-0de3-4323-9f55-6e258cbf442b');\n",
              "          const dataTable =\n",
              "            await google.colab.kernel.invokeFunction('convertToInteractive',\n",
              "                                                     [key], {});\n",
              "          if (!dataTable) return;\n",
              "\n",
              "          const docLinkHtml = 'Like what you see? Visit the ' +\n",
              "            '<a target=\"_blank\" href=https://colab.research.google.com/notebooks/data_table.ipynb>data table notebook</a>'\n",
              "            + ' to learn more about interactive tables.';\n",
              "          element.innerHTML = '';\n",
              "          dataTable['output_type'] = 'display_data';\n",
              "          await google.colab.output.renderOutput(dataTable, element);\n",
              "          const docLink = document.createElement('div');\n",
              "          docLink.innerHTML = docLinkHtml;\n",
              "          element.appendChild(docLink);\n",
              "        }\n",
              "      </script>\n",
              "    </div>\n",
              "  </div>\n",
              "  "
            ]
          },
          "metadata": {},
          "execution_count": 22
        }
      ],
      "source": [
        "data_chi2 = pd.DataFrame(chi2_features.scores_, columns=['chi2_score'])\n",
        "data_chi2['feature'] = tf_idf.get_feature_names_out()\n",
        "\n",
        "data_chi2.sort_values(by='chi2_score', ascending=False).head(10)"
      ]
    },
    {
      "cell_type": "code",
      "execution_count": null,
      "metadata": {
        "id": "IRo-kkXjtxc3"
      },
      "outputs": [],
      "source": [
        "selected_feature = []\n",
        "\n",
        "# Menampilkan mask pada feature yang diseleksi\n",
        "# False berarti fitur tidak terpilih dan True berarti fitur terpilih\n",
        "feature_mask = chi2_features.get_support()\n",
        "\n",
        "for bool, f in zip(feature_mask, tf_idf.get_feature_names_out()):\n",
        "  if bool:\n",
        "    selected_feature.append(f)\n",
        "  selected_feature = selected_feature"
      ]
    },
    {
      "cell_type": "code",
      "execution_count": null,
      "metadata": {
        "id": "pb3aAc6st4Ug"
      },
      "outputs": [],
      "source": [
        "selected_feature_vocab = {}\n",
        "\n",
        "for (word,index) in tf_idf.vocabulary_.items(): \n",
        "  if word in selected_feature:           \n",
        "    selected_feature_vocab[word] = index"
      ]
    },
    {
      "cell_type": "markdown",
      "metadata": {
        "id": "lN-hUFrHqg6X"
      },
      "source": [
        "# 05 Train & Test Data Splitting"
      ]
    },
    {
      "cell_type": "code",
      "execution_count": null,
      "metadata": {
        "id": "Uq3h40wSqKtp",
        "colab": {
          "base_uri": "https://localhost:8080/"
        },
        "outputId": "368f01c2-2e3e-416d-fcc5-8be188b25df7"
      },
      "outputs": [
        {
          "output_type": "execute_result",
          "data": {
            "text/plain": [
              "((1794, 10000), (449, 10000), (1794,), (449,))"
            ]
          },
          "metadata": {},
          "execution_count": 25
        }
      ],
      "source": [
        "TEST_SIZE = 0.20\n",
        "\n",
        "X_train, X_test, y_train, y_test = train_test_split(X_kbest_features, y, test_size=0.20, random_state=SEED)\n",
        "X_train.shape, X_test.shape, y_train.shape, y_test.shape"
      ]
    },
    {
      "cell_type": "markdown",
      "metadata": {
        "id": "-Bt_SNTsrhv-"
      },
      "source": [
        "# 06 Modeling"
      ]
    },
    {
      "cell_type": "code",
      "execution_count": null,
      "metadata": {
        "id": "shj6RtEqmTP4"
      },
      "outputs": [],
      "source": [
        "def truncate(n, decimals=0):\n",
        "  multiplier = 10 ** decimals\n",
        "  return int(n * multiplier) / multiplier"
      ]
    },
    {
      "cell_type": "code",
      "execution_count": null,
      "metadata": {
        "id": "0tbDrjUMhYkz"
      },
      "outputs": [],
      "source": [
        "# Define machine learning models\n",
        "models = [\n",
        "          ('KNN', KNeighborsClassifier()),\n",
        "          ('NAIVE BAYES', MultinomialNB()),\n",
        "          ('SVM', SVC(probability=True)),\n",
        "          ('DECISION TREE', DecisionTreeClassifier())\n",
        "        ]"
      ]
    },
    {
      "cell_type": "code",
      "execution_count": null,
      "metadata": {
        "id": "k6MZHPG3hK5Z",
        "colab": {
          "base_uri": "https://localhost:8080/",
          "height": 1000,
          "referenced_widgets": [
            "0fcebc0f4b59413ca6c21f3eb73daa8f",
            "8455f6e9916a4378b3f1cb4ab334b2bb",
            "0477a6fe4e834264bcd990771efb3c6f",
            "ca3b8277e10c4d61b1156761668c21ca",
            "df5e04a351ee4f07a7c90b74c17802f9",
            "f2004adfe45f494facfffed3aaba037f",
            "33ee89392f2d48f6b32d7e58ff56f6b8",
            "aa047e39eab244beb59a5582d13c7b1e",
            "d9af3d8481bc4466aab411d1a8e7fead",
            "44c46fccfb9d4512b5ed0db03620199d",
            "abcd246de46d4863acb1a07a54b84523",
            "0b4b92f6fc2b446bb7ee3f504b41e843",
            "19ff924b7a714aba8bc08af2dc818782",
            "5c1c8ef1f51142beb7159299f4d0cf37",
            "2a2d08aa8e384d3b8b0f7bd116dd924c",
            "ddf6ce41f7424ad5a1147f724957660a"
          ]
        },
        "outputId": "0db6b822-6a2a-46ef-c0fb-3af50633ff15"
      },
      "outputs": [
        {
          "output_type": "stream",
          "name": "stderr",
          "text": [
            "\u001b[34m\u001b[1mwandb\u001b[0m: Currently logged in as: \u001b[33mindoemobert\u001b[0m. Use \u001b[1m`wandb login --relogin`\u001b[0m to force relogin\n"
          ]
        },
        {
          "output_type": "stream",
          "name": "stdout",
          "text": [
            "\n",
            "[INFO] Loading using KNN ...\n",
            "\n"
          ]
        },
        {
          "output_type": "display_data",
          "data": {
            "text/plain": [
              "<IPython.core.display.HTML object>"
            ],
            "text/html": [
              "Tracking run with wandb version 0.13.7"
            ]
          },
          "metadata": {}
        },
        {
          "output_type": "display_data",
          "data": {
            "text/plain": [
              "<IPython.core.display.HTML object>"
            ],
            "text/html": [
              "Run data is saved locally in <code>/content/drive/.shortcut-targets-by-id/1of66RueJPg6brfoSy1p4Wv3bofi-IrI5/tesis/wandb/run-20230101_170429-1iki6chr</code>"
            ]
          },
          "metadata": {}
        },
        {
          "output_type": "display_data",
          "data": {
            "text/plain": [
              "<IPython.core.display.HTML object>"
            ],
            "text/html": [
              "Syncing run <strong><a href=\"https://wandb.ai/indoemobert/model-baseline-machine-learning/runs/1iki6chr\" target=\"_blank\">KNeighborsClassifier</a></strong> to <a href=\"https://wandb.ai/indoemobert/model-baseline-machine-learning\" target=\"_blank\">Weights & Biases</a> (<a href=\"https://wandb.me/run\" target=\"_blank\">docs</a>)<br/>"
            ]
          },
          "metadata": {}
        },
        {
          "output_type": "stream",
          "name": "stdout",
          "text": [
            "\n",
            "[INFO] KNN Cross validation:\n",
            "\tAccuracy for the fold no. 0 on the test set: 0.331\n",
            "\tAccuracy for the fold no. 1 on the test set: 0.306\n",
            "\tAccuracy for the fold no. 2 on the test set: 0.356\n",
            "\tAccuracy for the fold no. 3 on the test set: 0.359\n",
            "\tAccuracy for the fold no. 4 on the test set: 0.356\n",
            "\tAccuracy for the fold no. 5 on the test set: 0.348\n",
            "\tAccuracy for the fold no. 6 on the test set: 0.306\n",
            "\tAccuracy for the fold no. 7 on the test set: 0.32\n",
            "\tAccuracy for the fold no. 8 on the test set: 0.325\n",
            "\tAccuracy for the fold no. 9 on the test set: 0.328\n",
            "\n",
            "[INFO] KNN Training accuracy: 0.535\n",
            "[INFO] KNN Training f1 score: 0.48\n",
            "[INFO] KNN Cross validation accuracy: 0.328\n",
            "[INFO] KNN Testing accuracy: 0.336\n",
            "[INFO] KNN Testing f1 score: 0.254\n",
            "[INFO] KNN Classfication report:\n",
            "               precision    recall  f1-score   support\n",
            "\n",
            "       anger       0.56      0.40      0.46       131\n",
            "     disgust       0.10      0.86      0.17         7\n",
            "        fear       0.13      0.31      0.19        29\n",
            "         joy       0.78      0.30      0.43       280\n",
            "     sadness       0.00      0.00      0.00         0\n",
            "    surprise       0.02      0.50      0.03         2\n",
            "\n",
            "    accuracy                           0.34       449\n",
            "   macro avg       0.26      0.39      0.21       449\n",
            "weighted avg       0.66      0.34      0.42       449\n",
            "\n",
            "\n"
          ]
        },
        {
          "output_type": "stream",
          "name": "stderr",
          "text": [
            "\u001b[34m\u001b[1mwandb\u001b[0m: \u001b[33mWARNING\u001b[0m wandb.plots.* functions are deprecated and will be removed in a future release. Please use wandb.plot.* instead.\n"
          ]
        },
        {
          "output_type": "display_data",
          "data": {
            "text/plain": [
              "<IPython.core.display.HTML object>"
            ],
            "text/html": [
              "Waiting for W&B process to finish... <strong style=\"color:green\">(success).</strong>"
            ]
          },
          "metadata": {}
        },
        {
          "output_type": "display_data",
          "data": {
            "text/plain": [
              "<IPython.core.display.HTML object>"
            ],
            "text/html": [
              "<style>\n",
              "    table.wandb td:nth-child(1) { padding: 0 10px; text-align: left ; width: auto;} td:nth-child(2) {text-align: left ; width: 100%}\n",
              "    .wandb-row { display: flex; flex-direction: row; flex-wrap: wrap; justify-content: flex-start; width: 100% }\n",
              "    .wandb-col { display: flex; flex-direction: column; flex-basis: 100%; flex: 1; padding: 10px; }\n",
              "    </style>\n",
              "<div class=\"wandb-row\"><div class=\"wandb-col\"><h3>Run history:</h3><br/><table class=\"wandb\"><tr><td>cross_validation_accuracy</td><td>▁</td></tr><tr><td>cross_validation_score</td><td>▄▁███▇▁▃▄▄</td></tr><tr><td>test_accuracy</td><td>▁</td></tr><tr><td>test_f1score</td><td>▁</td></tr><tr><td>test_precision</td><td>▁</td></tr><tr><td>test_recall</td><td>▁</td></tr><tr><td>train_accuracy</td><td>▁</td></tr><tr><td>train_f1score</td><td>▁</td></tr><tr><td>train_precision</td><td>▁</td></tr><tr><td>train_recall</td><td>▁</td></tr></table><br/></div><div class=\"wandb-col\"><h3>Run summary:</h3><br/><table class=\"wandb\"><tr><td>cross_validation_accuracy</td><td>0.32869</td></tr><tr><td>cross_validation_score</td><td>0.32869</td></tr><tr><td>test_accuracy</td><td>0.3363</td></tr><tr><td>test_f1score</td><td>0.25481</td></tr><tr><td>test_precision</td><td>0.38281</td></tr><tr><td>test_recall</td><td>0.3363</td></tr><tr><td>train_accuracy</td><td>0.53512</td></tr><tr><td>train_f1score</td><td>0.48089</td></tr><tr><td>train_precision</td><td>0.74104</td></tr><tr><td>train_recall</td><td>0.53512</td></tr></table><br/></div></div>"
            ]
          },
          "metadata": {}
        },
        {
          "output_type": "display_data",
          "data": {
            "text/plain": [
              "<IPython.core.display.HTML object>"
            ],
            "text/html": [
              "Synced <strong style=\"color:#cdcd00\">KNeighborsClassifier</strong>: <a href=\"https://wandb.ai/indoemobert/model-baseline-machine-learning/runs/1iki6chr\" target=\"_blank\">https://wandb.ai/indoemobert/model-baseline-machine-learning/runs/1iki6chr</a><br/>Synced 5 W&B file(s), 6 media file(s), 8 artifact file(s) and 1 other file(s)"
            ]
          },
          "metadata": {}
        },
        {
          "output_type": "display_data",
          "data": {
            "text/plain": [
              "<IPython.core.display.HTML object>"
            ],
            "text/html": [
              "Find logs at: <code>./wandb/run-20230101_170429-1iki6chr/logs</code>"
            ]
          },
          "metadata": {}
        },
        {
          "output_type": "stream",
          "name": "stdout",
          "text": [
            "[INFO] KNN Done ...\n",
            "\n",
            "[INFO] Loading using NAIVE BAYES ...\n",
            "\n"
          ]
        },
        {
          "output_type": "display_data",
          "data": {
            "text/plain": [
              "<IPython.core.display.HTML object>"
            ],
            "text/html": [
              "Tracking run with wandb version 0.13.7"
            ]
          },
          "metadata": {}
        },
        {
          "output_type": "display_data",
          "data": {
            "text/plain": [
              "<IPython.core.display.HTML object>"
            ],
            "text/html": [
              "Run data is saved locally in <code>/content/drive/.shortcut-targets-by-id/1of66RueJPg6brfoSy1p4Wv3bofi-IrI5/tesis/wandb/run-20230101_170523-2ac20884</code>"
            ]
          },
          "metadata": {}
        },
        {
          "output_type": "display_data",
          "data": {
            "text/plain": [
              "<IPython.core.display.HTML object>"
            ],
            "text/html": [
              "Syncing run <strong><a href=\"https://wandb.ai/indoemobert/model-baseline-machine-learning/runs/2ac20884\" target=\"_blank\">MultinomialNB</a></strong> to <a href=\"https://wandb.ai/indoemobert/model-baseline-machine-learning\" target=\"_blank\">Weights & Biases</a> (<a href=\"https://wandb.me/run\" target=\"_blank\">docs</a>)<br/>"
            ]
          },
          "metadata": {}
        },
        {
          "output_type": "stream",
          "name": "stdout",
          "text": [
            "\n",
            "[INFO] NAIVE BAYES Cross validation:\n",
            "\tAccuracy for the fold no. 0 on the test set: 0.306\n",
            "\tAccuracy for the fold no. 1 on the test set: 0.337\n",
            "\tAccuracy for the fold no. 2 on the test set: 0.348\n",
            "\tAccuracy for the fold no. 3 on the test set: 0.415\n",
            "\tAccuracy for the fold no. 4 on the test set: 0.42\n",
            "\tAccuracy for the fold no. 5 on the test set: 0.406\n",
            "\tAccuracy for the fold no. 6 on the test set: 0.345\n",
            "\tAccuracy for the fold no. 7 on the test set: 0.339\n",
            "\tAccuracy for the fold no. 8 on the test set: 0.378\n",
            "\tAccuracy for the fold no. 9 on the test set: 0.331\n",
            "\n",
            "[INFO] NAIVE BAYES Training accuracy: 0.715\n",
            "[INFO] NAIVE BAYES Training f1 score: 0.729\n",
            "[INFO] NAIVE BAYES Cross validation accuracy: 0.331\n",
            "[INFO] NAIVE BAYES Testing accuracy: 0.38\n",
            "[INFO] NAIVE BAYES Testing f1 score: 0.333\n",
            "[INFO] NAIVE BAYES Classfication report:\n",
            "               precision    recall  f1-score   support\n",
            "\n",
            "       anger       0.30      0.90      0.45        31\n",
            "     disgust       0.23      0.88      0.36        16\n",
            "        fear       0.29      0.91      0.44        22\n",
            "         joy       0.97      0.28      0.43       375\n",
            "     sadness       0.00      0.00      0.00         0\n",
            "    surprise       0.09      1.00      0.16         5\n",
            "\n",
            "    accuracy                           0.38       449\n",
            "   macro avg       0.31      0.66      0.31       449\n",
            "weighted avg       0.86      0.38      0.43       449\n",
            "\n",
            "\n"
          ]
        },
        {
          "output_type": "display_data",
          "data": {
            "text/plain": [
              "<IPython.core.display.HTML object>"
            ],
            "text/html": [
              "Waiting for W&B process to finish... <strong style=\"color:green\">(success).</strong>"
            ]
          },
          "metadata": {}
        },
        {
          "output_type": "display_data",
          "data": {
            "text/plain": [
              "<IPython.core.display.HTML object>"
            ],
            "text/html": [
              "<style>\n",
              "    table.wandb td:nth-child(1) { padding: 0 10px; text-align: left ; width: auto;} td:nth-child(2) {text-align: left ; width: 100%}\n",
              "    .wandb-row { display: flex; flex-direction: row; flex-wrap: wrap; justify-content: flex-start; width: 100% }\n",
              "    .wandb-col { display: flex; flex-direction: column; flex-basis: 100%; flex: 1; padding: 10px; }\n",
              "    </style>\n",
              "<div class=\"wandb-row\"><div class=\"wandb-col\"><h3>Run history:</h3><br/><table class=\"wandb\"><tr><td>cross_validation_accuracy</td><td>▁</td></tr><tr><td>cross_validation_score</td><td>▁▃▄██▇▃▃▅▃</td></tr><tr><td>test_accuracy</td><td>▁</td></tr><tr><td>test_f1score</td><td>▁</td></tr><tr><td>test_precision</td><td>▁</td></tr><tr><td>test_recall</td><td>▁</td></tr><tr><td>train_accuracy</td><td>▁</td></tr><tr><td>train_f1score</td><td>▁</td></tr><tr><td>train_precision</td><td>▁</td></tr><tr><td>train_recall</td><td>▁</td></tr></table><br/></div><div class=\"wandb-col\"><h3>Run summary:</h3><br/><table class=\"wandb\"><tr><td>cross_validation_accuracy</td><td>0.33148</td></tr><tr><td>cross_validation_score</td><td>0.33148</td></tr><tr><td>test_accuracy</td><td>0.38085</td></tr><tr><td>test_f1score</td><td>0.33376</td></tr><tr><td>test_precision</td><td>0.64085</td></tr><tr><td>test_recall</td><td>0.38085</td></tr><tr><td>train_accuracy</td><td>0.71516</td></tr><tr><td>train_f1score</td><td>0.72939</td></tr><tr><td>train_precision</td><td>0.85842</td></tr><tr><td>train_recall</td><td>0.71516</td></tr></table><br/></div></div>"
            ]
          },
          "metadata": {}
        },
        {
          "output_type": "display_data",
          "data": {
            "text/plain": [
              "<IPython.core.display.HTML object>"
            ],
            "text/html": [
              "Synced <strong style=\"color:#cdcd00\">MultinomialNB</strong>: <a href=\"https://wandb.ai/indoemobert/model-baseline-machine-learning/runs/2ac20884\" target=\"_blank\">https://wandb.ai/indoemobert/model-baseline-machine-learning/runs/2ac20884</a><br/>Synced 5 W&B file(s), 6 media file(s), 8 artifact file(s) and 1 other file(s)"
            ]
          },
          "metadata": {}
        },
        {
          "output_type": "display_data",
          "data": {
            "text/plain": [
              "<IPython.core.display.HTML object>"
            ],
            "text/html": [
              "Find logs at: <code>./wandb/run-20230101_170523-2ac20884/logs</code>"
            ]
          },
          "metadata": {}
        },
        {
          "output_type": "stream",
          "name": "stdout",
          "text": [
            "[INFO] NAIVE BAYES Done ...\n",
            "\n",
            "[INFO] Loading using SVM ...\n",
            "\n"
          ]
        },
        {
          "output_type": "display_data",
          "data": {
            "text/plain": [
              "VBox(children=(Label(value='Waiting for wandb.init()...\\r'), FloatProgress(value=0.016669258233332585, max=1.0…"
            ],
            "application/vnd.jupyter.widget-view+json": {
              "version_major": 2,
              "version_minor": 0,
              "model_id": "0fcebc0f4b59413ca6c21f3eb73daa8f"
            }
          },
          "metadata": {}
        },
        {
          "output_type": "display_data",
          "data": {
            "text/plain": [
              "<IPython.core.display.HTML object>"
            ],
            "text/html": [
              "Tracking run with wandb version 0.13.7"
            ]
          },
          "metadata": {}
        },
        {
          "output_type": "display_data",
          "data": {
            "text/plain": [
              "<IPython.core.display.HTML object>"
            ],
            "text/html": [
              "Run data is saved locally in <code>/content/drive/.shortcut-targets-by-id/1of66RueJPg6brfoSy1p4Wv3bofi-IrI5/tesis/wandb/run-20230101_170552-20gpdz99</code>"
            ]
          },
          "metadata": {}
        },
        {
          "output_type": "display_data",
          "data": {
            "text/plain": [
              "<IPython.core.display.HTML object>"
            ],
            "text/html": [
              "Syncing run <strong><a href=\"https://wandb.ai/indoemobert/model-baseline-machine-learning/runs/20gpdz99\" target=\"_blank\">SVC</a></strong> to <a href=\"https://wandb.ai/indoemobert/model-baseline-machine-learning\" target=\"_blank\">Weights & Biases</a> (<a href=\"https://wandb.me/run\" target=\"_blank\">docs</a>)<br/>"
            ]
          },
          "metadata": {}
        },
        {
          "output_type": "stream",
          "name": "stdout",
          "text": [
            "\n",
            "[INFO] SVM Cross validation:\n",
            "\tAccuracy for the fold no. 0 on the test set: 0.593\n",
            "\tAccuracy for the fold no. 1 on the test set: 0.629\n",
            "\tAccuracy for the fold no. 2 on the test set: 0.568\n",
            "\tAccuracy for the fold no. 3 on the test set: 0.679\n",
            "\tAccuracy for the fold no. 4 on the test set: 0.651\n",
            "\tAccuracy for the fold no. 5 on the test set: 0.618\n",
            "\tAccuracy for the fold no. 6 on the test set: 0.623\n",
            "\tAccuracy for the fold no. 7 on the test set: 0.568\n",
            "\tAccuracy for the fold no. 8 on the test set: 0.615\n",
            "\tAccuracy for the fold no. 9 on the test set: 0.529\n",
            "\n",
            "[INFO] SVM Training accuracy: 0.881\n",
            "[INFO] SVM Training f1 score: 0.885\n",
            "[INFO] SVM Cross validation accuracy: 0.529\n",
            "[INFO] SVM Testing accuracy: 0.612\n",
            "[INFO] SVM Testing f1 score: 0.605\n",
            "[INFO] SVM Classfication report:\n",
            "               precision    recall  f1-score   support\n",
            "\n",
            "       anger       0.44      0.72      0.55        57\n",
            "     disgust       0.81      0.56      0.66        90\n",
            "        fear       0.54      0.67      0.60        55\n",
            "         joy       0.83      0.49      0.62       182\n",
            "     sadness       0.34      0.88      0.49        24\n",
            "    surprise       0.64      0.90      0.75        41\n",
            "\n",
            "    accuracy                           0.61       449\n",
            "   macro avg       0.60      0.70      0.61       449\n",
            "weighted avg       0.70      0.61      0.62       449\n",
            "\n",
            "\n"
          ]
        },
        {
          "output_type": "display_data",
          "data": {
            "text/plain": [
              "<IPython.core.display.HTML object>"
            ],
            "text/html": [
              "Waiting for W&B process to finish... <strong style=\"color:green\">(success).</strong>"
            ]
          },
          "metadata": {}
        },
        {
          "output_type": "display_data",
          "data": {
            "text/plain": [
              "<IPython.core.display.HTML object>"
            ],
            "text/html": [
              "<style>\n",
              "    table.wandb td:nth-child(1) { padding: 0 10px; text-align: left ; width: auto;} td:nth-child(2) {text-align: left ; width: 100%}\n",
              "    .wandb-row { display: flex; flex-direction: row; flex-wrap: wrap; justify-content: flex-start; width: 100% }\n",
              "    .wandb-col { display: flex; flex-direction: column; flex-basis: 100%; flex: 1; padding: 10px; }\n",
              "    </style>\n",
              "<div class=\"wandb-row\"><div class=\"wandb-col\"><h3>Run history:</h3><br/><table class=\"wandb\"><tr><td>cross_validation_accuracy</td><td>▁</td></tr><tr><td>cross_validation_score</td><td>▄▆▃█▇▅▅▃▅▁</td></tr><tr><td>test_accuracy</td><td>▁</td></tr><tr><td>test_f1score</td><td>▁</td></tr><tr><td>test_precision</td><td>▁</td></tr><tr><td>test_recall</td><td>▁</td></tr><tr><td>train_accuracy</td><td>▁</td></tr><tr><td>train_f1score</td><td>▁</td></tr><tr><td>train_precision</td><td>▁</td></tr><tr><td>train_recall</td><td>▁</td></tr></table><br/></div><div class=\"wandb-col\"><h3>Run summary:</h3><br/><table class=\"wandb\"><tr><td>cross_validation_accuracy</td><td>0.52925</td></tr><tr><td>cross_validation_score</td><td>0.52925</td></tr><tr><td>test_accuracy</td><td>0.61247</td></tr><tr><td>test_f1score</td><td>0.60565</td></tr><tr><td>test_precision</td><td>0.67957</td></tr><tr><td>test_recall</td><td>0.61247</td></tr><tr><td>train_accuracy</td><td>0.88127</td></tr><tr><td>train_f1score</td><td>0.88585</td></tr><tr><td>train_precision</td><td>0.91261</td></tr><tr><td>train_recall</td><td>0.88127</td></tr></table><br/></div></div>"
            ]
          },
          "metadata": {}
        },
        {
          "output_type": "display_data",
          "data": {
            "text/plain": [
              "<IPython.core.display.HTML object>"
            ],
            "text/html": [
              "Synced <strong style=\"color:#cdcd00\">SVC</strong>: <a href=\"https://wandb.ai/indoemobert/model-baseline-machine-learning/runs/20gpdz99\" target=\"_blank\">https://wandb.ai/indoemobert/model-baseline-machine-learning/runs/20gpdz99</a><br/>Synced 5 W&B file(s), 6 media file(s), 8 artifact file(s) and 1 other file(s)"
            ]
          },
          "metadata": {}
        },
        {
          "output_type": "display_data",
          "data": {
            "text/plain": [
              "<IPython.core.display.HTML object>"
            ],
            "text/html": [
              "Find logs at: <code>./wandb/run-20230101_170552-20gpdz99/logs</code>"
            ]
          },
          "metadata": {}
        },
        {
          "output_type": "stream",
          "name": "stdout",
          "text": [
            "[INFO] SVM Done ...\n",
            "\n",
            "[INFO] Loading using DECISION TREE ...\n",
            "\n"
          ]
        },
        {
          "output_type": "display_data",
          "data": {
            "text/plain": [
              "VBox(children=(Label(value='Waiting for wandb.init()...\\r'), FloatProgress(value=0.016669357166665576, max=1.0…"
            ],
            "application/vnd.jupyter.widget-view+json": {
              "version_major": 2,
              "version_minor": 0,
              "model_id": "d9af3d8481bc4466aab411d1a8e7fead"
            }
          },
          "metadata": {}
        },
        {
          "output_type": "display_data",
          "data": {
            "text/plain": [
              "<IPython.core.display.HTML object>"
            ],
            "text/html": [
              "Tracking run with wandb version 0.13.7"
            ]
          },
          "metadata": {}
        },
        {
          "output_type": "display_data",
          "data": {
            "text/plain": [
              "<IPython.core.display.HTML object>"
            ],
            "text/html": [
              "Run data is saved locally in <code>/content/drive/.shortcut-targets-by-id/1of66RueJPg6brfoSy1p4Wv3bofi-IrI5/tesis/wandb/run-20230101_171313-29ppz91p</code>"
            ]
          },
          "metadata": {}
        },
        {
          "output_type": "display_data",
          "data": {
            "text/plain": [
              "<IPython.core.display.HTML object>"
            ],
            "text/html": [
              "Syncing run <strong><a href=\"https://wandb.ai/indoemobert/model-baseline-machine-learning/runs/29ppz91p\" target=\"_blank\">DecisionTreeClassifier</a></strong> to <a href=\"https://wandb.ai/indoemobert/model-baseline-machine-learning\" target=\"_blank\">Weights & Biases</a> (<a href=\"https://wandb.me/run\" target=\"_blank\">docs</a>)<br/>"
            ]
          },
          "metadata": {}
        },
        {
          "output_type": "stream",
          "name": "stdout",
          "text": [
            "\n",
            "[INFO] DECISION TREE Cross validation:\n",
            "\tAccuracy for the fold no. 0 on the test set: 0.66\n",
            "\tAccuracy for the fold no. 1 on the test set: 0.688\n",
            "\tAccuracy for the fold no. 2 on the test set: 0.676\n",
            "\tAccuracy for the fold no. 3 on the test set: 0.676\n",
            "\tAccuracy for the fold no. 4 on the test set: 0.679\n",
            "\tAccuracy for the fold no. 5 on the test set: 0.649\n",
            "\tAccuracy for the fold no. 6 on the test set: 0.676\n",
            "\tAccuracy for the fold no. 7 on the test set: 0.671\n",
            "\tAccuracy for the fold no. 8 on the test set: 0.657\n",
            "\tAccuracy for the fold no. 9 on the test set: 0.61\n",
            "\n",
            "[INFO] DECISION TREE Training accuracy: 0.997\n",
            "[INFO] DECISION TREE Training f1 score: 0.997\n",
            "[INFO] DECISION TREE Cross validation accuracy: 0.61\n",
            "[INFO] DECISION TREE Testing accuracy: 0.639\n",
            "[INFO] DECISION TREE Testing f1 score: 0.64\n",
            "[INFO] DECISION TREE Classfication report:\n",
            "               precision    recall  f1-score   support\n",
            "\n",
            "       anger       0.61      0.59      0.60        97\n",
            "     disgust       0.73      0.64      0.68        70\n",
            "        fear       0.68      0.77      0.72        60\n",
            "         joy       0.62      0.55      0.58       119\n",
            "     sadness       0.51      0.61      0.55        51\n",
            "    surprise       0.72      0.81      0.76        52\n",
            "\n",
            "    accuracy                           0.64       449\n",
            "   macro avg       0.64      0.66      0.65       449\n",
            "weighted avg       0.64      0.64      0.64       449\n",
            "\n",
            "\n"
          ]
        },
        {
          "output_type": "display_data",
          "data": {
            "text/plain": [
              "<IPython.core.display.HTML object>"
            ],
            "text/html": [
              "Waiting for W&B process to finish... <strong style=\"color:green\">(success).</strong>"
            ]
          },
          "metadata": {}
        },
        {
          "output_type": "display_data",
          "data": {
            "text/plain": [
              "<IPython.core.display.HTML object>"
            ],
            "text/html": [
              "<style>\n",
              "    table.wandb td:nth-child(1) { padding: 0 10px; text-align: left ; width: auto;} td:nth-child(2) {text-align: left ; width: 100%}\n",
              "    .wandb-row { display: flex; flex-direction: row; flex-wrap: wrap; justify-content: flex-start; width: 100% }\n",
              "    .wandb-col { display: flex; flex-direction: column; flex-basis: 100%; flex: 1; padding: 10px; }\n",
              "    </style>\n",
              "<div class=\"wandb-row\"><div class=\"wandb-col\"><h3>Run history:</h3><br/><table class=\"wandb\"><tr><td>cross_validation_accuracy</td><td>▁</td></tr><tr><td>cross_validation_score</td><td>▆█▇▇▇▅▇▇▅▁</td></tr><tr><td>test_accuracy</td><td>▁</td></tr><tr><td>test_f1score</td><td>▁</td></tr><tr><td>test_precision</td><td>▁</td></tr><tr><td>test_recall</td><td>▁</td></tr><tr><td>train_accuracy</td><td>▁</td></tr><tr><td>train_f1score</td><td>▁</td></tr><tr><td>train_precision</td><td>▁</td></tr><tr><td>train_recall</td><td>▁</td></tr></table><br/></div><div class=\"wandb-col\"><h3>Run summary:</h3><br/><table class=\"wandb\"><tr><td>cross_validation_accuracy</td><td>0.61003</td></tr><tr><td>cross_validation_score</td><td>0.61003</td></tr><tr><td>test_accuracy</td><td>0.6392</td></tr><tr><td>test_f1score</td><td>0.64032</td></tr><tr><td>test_precision</td><td>0.64568</td></tr><tr><td>test_recall</td><td>0.6392</td></tr><tr><td>train_accuracy</td><td>0.99721</td></tr><tr><td>train_f1score</td><td>0.99721</td></tr><tr><td>train_precision</td><td>0.99723</td></tr><tr><td>train_recall</td><td>0.99721</td></tr></table><br/></div></div>"
            ]
          },
          "metadata": {}
        },
        {
          "output_type": "display_data",
          "data": {
            "text/plain": [
              "<IPython.core.display.HTML object>"
            ],
            "text/html": [
              "Synced <strong style=\"color:#cdcd00\">DecisionTreeClassifier</strong>: <a href=\"https://wandb.ai/indoemobert/model-baseline-machine-learning/runs/29ppz91p\" target=\"_blank\">https://wandb.ai/indoemobert/model-baseline-machine-learning/runs/29ppz91p</a><br/>Synced 5 W&B file(s), 6 media file(s), 8 artifact file(s) and 1 other file(s)"
            ]
          },
          "metadata": {}
        },
        {
          "output_type": "display_data",
          "data": {
            "text/plain": [
              "<IPython.core.display.HTML object>"
            ],
            "text/html": [
              "Find logs at: <code>./wandb/run-20230101_171313-29ppz91p/logs</code>"
            ]
          },
          "metadata": {}
        },
        {
          "output_type": "stream",
          "name": "stdout",
          "text": [
            "[INFO] DECISION TREE Done ...\n",
            "\n",
            "[INFO] All done ...\n",
            "CPU times: user 8min 54s, sys: 26.4 s, total: 9min 21s\n",
            "Wall time: 9min 44s\n"
          ]
        }
      ],
      "source": [
        "%%time\n",
        "\n",
        "for name, model in models:\n",
        "  print(f'\\n[INFO] Loading using {name} ...\\n')\n",
        "\n",
        "  MODEL_NAME = type(model).__name__   \n",
        "  MODEL_PARAMS = model.get_params()    \n",
        "\n",
        "  wandb_run = wandb.init(project=f'{WANDB_PROJECT}',\n",
        "                         name=f'{MODEL_NAME}',\n",
        "                         entity=f'{WANDB_ENTITY}', \n",
        "                         config=MODEL_PARAMS,\n",
        "                         save_code=True)\n",
        "\n",
        "  clf = model.fit(X_train, y_train)\n",
        "\n",
        "  y_pred = clf.predict(X_test)             \n",
        "  y_prob = clf.predict_proba(X_test)       \n",
        "  y_true = y_test\n",
        "\n",
        "  train_accuracy = accuracy_score(y_train, clf.predict(X_train))                        \n",
        "  train_precision = precision_score(y_train, clf.predict(X_train), average='weighted')  \n",
        "  train_recall = recall_score(y_train, clf.predict(X_train), average='weighted')        \n",
        "  train_f1score = f1_score(y_train, clf.predict(X_train), average='weighted')           \n",
        "\n",
        "  wandb.config.update({\"dataset\": DATASET,\n",
        "      \"full_feature\": X_tf_idf.shape[1],\n",
        "      \"selected_feature\": X_kbest_features.shape[1],\n",
        "      \"test_size\": TEST_SIZE,\n",
        "      \"train_len\": len(X_train),\n",
        "      \"test_len\": len(X_test)})\n",
        "  \n",
        "  print(f'\\n[INFO] {name} Cross validation:')\n",
        "  cross_validation = ShuffleSplit(n_splits=10, test_size=0.2, random_state=SEED)\n",
        "  for i, score in enumerate(cross_val_score(model, X_train, y_train, scoring='accuracy', cv=cross_validation)):\n",
        "    cv_accuracy_mean = score.mean()\n",
        "\n",
        "    wandb.log({'cross_validation_score': score})\n",
        "\n",
        "    print(f'\\tAccuracy for the fold no. {i} on the test set: {truncate(score, 3)}')\n",
        "\n",
        "  test_accuracy = accuracy_score(y_true, y_pred)                                        \n",
        "  test_precision = precision_score(y_true, y_pred, average='weighted')                   \n",
        "  test_recall = recall_score(y_true, y_pred, average='weighted')\n",
        "  test_f1score = f1_score(y_true, y_pred, average='weighted')                        \n",
        "\n",
        "  print(f'\\n[INFO] {name} Training accuracy: {truncate(train_accuracy, 3)}')\n",
        "  print(f'[INFO] {name} Training f1 score: {truncate(train_f1score, 3)}')\n",
        "  print(f'[INFO] {name} Cross validation accuracy: {truncate(cv_accuracy_mean, 3)}')\n",
        "  print(f'[INFO] {name} Testing accuracy: {truncate(test_accuracy, 3)}')\n",
        "  print(f'[INFO] {name} Testing f1 score: {truncate(test_f1score, 3)}')\n",
        "  print(f'[INFO] {name} Classfication report:\\n {classification_report(y_pred, y_true, target_names=LABEL_NAME)}\\n')\n",
        "\n",
        "  wandb.log({'train_accuracy': train_accuracy, \n",
        "            'train_precision': train_precision,\n",
        "            'train_recall': train_recall,\n",
        "            'train_f1score': train_f1score,\n",
        "            'cross_validation_accuracy': cv_accuracy_mean,\n",
        "            'test_accuracy': test_accuracy,\n",
        "            'test_precision': test_precision,\n",
        "            'test_recall': test_recall,\n",
        "            'test_f1score': test_f1score})\n",
        "  \n",
        "  plot_confusion_matrix(y_true, y_pred, LABEL_NAME)\n",
        "  plot_class_proportions(y_true, y_test, LABEL_NAME)\n",
        "  plot_roc(y_test, y_prob, LABEL_NAME)\n",
        "  plot_precision_recall(y_test, y_prob, LABEL_NAME)\n",
        "  plot_learning_curve(model, X_train, y_train)\n",
        "  plot_summary_metrics(model, X_train, y_train, X_test, y_test)\n",
        "\n",
        "  wandb_run.finish()\n",
        "\n",
        "  print(f'[INFO] {name} Done ...')\n",
        "print('\\n[INFO] All done ...')"
      ]
    }
  ],
  "metadata": {
    "colab": {
      "machine_shape": "hm",
      "provenance": [],
      "toc_visible": true,
      "include_colab_link": true
    },
    "kernelspec": {
      "display_name": "Python 3",
      "name": "python3"
    },
    "language_info": {
      "name": "python"
    },
    "widgets": {
      "application/vnd.jupyter.widget-state+json": {
        "0fcebc0f4b59413ca6c21f3eb73daa8f": {
          "model_module": "@jupyter-widgets/controls",
          "model_name": "VBoxModel",
          "model_module_version": "1.5.0",
          "state": {
            "_dom_classes": [],
            "_model_module": "@jupyter-widgets/controls",
            "_model_module_version": "1.5.0",
            "_model_name": "VBoxModel",
            "_view_count": null,
            "_view_module": "@jupyter-widgets/controls",
            "_view_module_version": "1.5.0",
            "_view_name": "VBoxView",
            "box_style": "",
            "children": [
              "IPY_MODEL_8455f6e9916a4378b3f1cb4ab334b2bb",
              "IPY_MODEL_0477a6fe4e834264bcd990771efb3c6f"
            ],
            "layout": "IPY_MODEL_ca3b8277e10c4d61b1156761668c21ca"
          }
        },
        "8455f6e9916a4378b3f1cb4ab334b2bb": {
          "model_module": "@jupyter-widgets/controls",
          "model_name": "LabelModel",
          "model_module_version": "1.5.0",
          "state": {
            "_dom_classes": [],
            "_model_module": "@jupyter-widgets/controls",
            "_model_module_version": "1.5.0",
            "_model_name": "LabelModel",
            "_view_count": null,
            "_view_module": "@jupyter-widgets/controls",
            "_view_module_version": "1.5.0",
            "_view_name": "LabelView",
            "description": "",
            "description_tooltip": null,
            "layout": "IPY_MODEL_df5e04a351ee4f07a7c90b74c17802f9",
            "placeholder": "​",
            "style": "IPY_MODEL_f2004adfe45f494facfffed3aaba037f",
            "value": "Waiting for wandb.init()...\r"
          }
        },
        "0477a6fe4e834264bcd990771efb3c6f": {
          "model_module": "@jupyter-widgets/controls",
          "model_name": "FloatProgressModel",
          "model_module_version": "1.5.0",
          "state": {
            "_dom_classes": [],
            "_model_module": "@jupyter-widgets/controls",
            "_model_module_version": "1.5.0",
            "_model_name": "FloatProgressModel",
            "_view_count": null,
            "_view_module": "@jupyter-widgets/controls",
            "_view_module_version": "1.5.0",
            "_view_name": "ProgressView",
            "bar_style": "",
            "description": "",
            "description_tooltip": null,
            "layout": "IPY_MODEL_33ee89392f2d48f6b32d7e58ff56f6b8",
            "max": 1,
            "min": 0,
            "orientation": "horizontal",
            "style": "IPY_MODEL_aa047e39eab244beb59a5582d13c7b1e",
            "value": 1
          }
        },
        "ca3b8277e10c4d61b1156761668c21ca": {
          "model_module": "@jupyter-widgets/base",
          "model_name": "LayoutModel",
          "model_module_version": "1.2.0",
          "state": {
            "_model_module": "@jupyter-widgets/base",
            "_model_module_version": "1.2.0",
            "_model_name": "LayoutModel",
            "_view_count": null,
            "_view_module": "@jupyter-widgets/base",
            "_view_module_version": "1.2.0",
            "_view_name": "LayoutView",
            "align_content": null,
            "align_items": null,
            "align_self": null,
            "border": null,
            "bottom": null,
            "display": null,
            "flex": null,
            "flex_flow": null,
            "grid_area": null,
            "grid_auto_columns": null,
            "grid_auto_flow": null,
            "grid_auto_rows": null,
            "grid_column": null,
            "grid_gap": null,
            "grid_row": null,
            "grid_template_areas": null,
            "grid_template_columns": null,
            "grid_template_rows": null,
            "height": null,
            "justify_content": null,
            "justify_items": null,
            "left": null,
            "margin": null,
            "max_height": null,
            "max_width": null,
            "min_height": null,
            "min_width": null,
            "object_fit": null,
            "object_position": null,
            "order": null,
            "overflow": null,
            "overflow_x": null,
            "overflow_y": null,
            "padding": null,
            "right": null,
            "top": null,
            "visibility": null,
            "width": null
          }
        },
        "df5e04a351ee4f07a7c90b74c17802f9": {
          "model_module": "@jupyter-widgets/base",
          "model_name": "LayoutModel",
          "model_module_version": "1.2.0",
          "state": {
            "_model_module": "@jupyter-widgets/base",
            "_model_module_version": "1.2.0",
            "_model_name": "LayoutModel",
            "_view_count": null,
            "_view_module": "@jupyter-widgets/base",
            "_view_module_version": "1.2.0",
            "_view_name": "LayoutView",
            "align_content": null,
            "align_items": null,
            "align_self": null,
            "border": null,
            "bottom": null,
            "display": null,
            "flex": null,
            "flex_flow": null,
            "grid_area": null,
            "grid_auto_columns": null,
            "grid_auto_flow": null,
            "grid_auto_rows": null,
            "grid_column": null,
            "grid_gap": null,
            "grid_row": null,
            "grid_template_areas": null,
            "grid_template_columns": null,
            "grid_template_rows": null,
            "height": null,
            "justify_content": null,
            "justify_items": null,
            "left": null,
            "margin": null,
            "max_height": null,
            "max_width": null,
            "min_height": null,
            "min_width": null,
            "object_fit": null,
            "object_position": null,
            "order": null,
            "overflow": null,
            "overflow_x": null,
            "overflow_y": null,
            "padding": null,
            "right": null,
            "top": null,
            "visibility": null,
            "width": null
          }
        },
        "f2004adfe45f494facfffed3aaba037f": {
          "model_module": "@jupyter-widgets/controls",
          "model_name": "DescriptionStyleModel",
          "model_module_version": "1.5.0",
          "state": {
            "_model_module": "@jupyter-widgets/controls",
            "_model_module_version": "1.5.0",
            "_model_name": "DescriptionStyleModel",
            "_view_count": null,
            "_view_module": "@jupyter-widgets/base",
            "_view_module_version": "1.2.0",
            "_view_name": "StyleView",
            "description_width": ""
          }
        },
        "33ee89392f2d48f6b32d7e58ff56f6b8": {
          "model_module": "@jupyter-widgets/base",
          "model_name": "LayoutModel",
          "model_module_version": "1.2.0",
          "state": {
            "_model_module": "@jupyter-widgets/base",
            "_model_module_version": "1.2.0",
            "_model_name": "LayoutModel",
            "_view_count": null,
            "_view_module": "@jupyter-widgets/base",
            "_view_module_version": "1.2.0",
            "_view_name": "LayoutView",
            "align_content": null,
            "align_items": null,
            "align_self": null,
            "border": null,
            "bottom": null,
            "display": null,
            "flex": null,
            "flex_flow": null,
            "grid_area": null,
            "grid_auto_columns": null,
            "grid_auto_flow": null,
            "grid_auto_rows": null,
            "grid_column": null,
            "grid_gap": null,
            "grid_row": null,
            "grid_template_areas": null,
            "grid_template_columns": null,
            "grid_template_rows": null,
            "height": null,
            "justify_content": null,
            "justify_items": null,
            "left": null,
            "margin": null,
            "max_height": null,
            "max_width": null,
            "min_height": null,
            "min_width": null,
            "object_fit": null,
            "object_position": null,
            "order": null,
            "overflow": null,
            "overflow_x": null,
            "overflow_y": null,
            "padding": null,
            "right": null,
            "top": null,
            "visibility": null,
            "width": null
          }
        },
        "aa047e39eab244beb59a5582d13c7b1e": {
          "model_module": "@jupyter-widgets/controls",
          "model_name": "ProgressStyleModel",
          "model_module_version": "1.5.0",
          "state": {
            "_model_module": "@jupyter-widgets/controls",
            "_model_module_version": "1.5.0",
            "_model_name": "ProgressStyleModel",
            "_view_count": null,
            "_view_module": "@jupyter-widgets/base",
            "_view_module_version": "1.2.0",
            "_view_name": "StyleView",
            "bar_color": null,
            "description_width": ""
          }
        },
        "d9af3d8481bc4466aab411d1a8e7fead": {
          "model_module": "@jupyter-widgets/controls",
          "model_name": "VBoxModel",
          "model_module_version": "1.5.0",
          "state": {
            "_dom_classes": [],
            "_model_module": "@jupyter-widgets/controls",
            "_model_module_version": "1.5.0",
            "_model_name": "VBoxModel",
            "_view_count": null,
            "_view_module": "@jupyter-widgets/controls",
            "_view_module_version": "1.5.0",
            "_view_name": "VBoxView",
            "box_style": "",
            "children": [
              "IPY_MODEL_44c46fccfb9d4512b5ed0db03620199d",
              "IPY_MODEL_abcd246de46d4863acb1a07a54b84523"
            ],
            "layout": "IPY_MODEL_0b4b92f6fc2b446bb7ee3f504b41e843"
          }
        },
        "44c46fccfb9d4512b5ed0db03620199d": {
          "model_module": "@jupyter-widgets/controls",
          "model_name": "LabelModel",
          "model_module_version": "1.5.0",
          "state": {
            "_dom_classes": [],
            "_model_module": "@jupyter-widgets/controls",
            "_model_module_version": "1.5.0",
            "_model_name": "LabelModel",
            "_view_count": null,
            "_view_module": "@jupyter-widgets/controls",
            "_view_module_version": "1.5.0",
            "_view_name": "LabelView",
            "description": "",
            "description_tooltip": null,
            "layout": "IPY_MODEL_19ff924b7a714aba8bc08af2dc818782",
            "placeholder": "​",
            "style": "IPY_MODEL_5c1c8ef1f51142beb7159299f4d0cf37",
            "value": "Waiting for wandb.init()...\r"
          }
        },
        "abcd246de46d4863acb1a07a54b84523": {
          "model_module": "@jupyter-widgets/controls",
          "model_name": "FloatProgressModel",
          "model_module_version": "1.5.0",
          "state": {
            "_dom_classes": [],
            "_model_module": "@jupyter-widgets/controls",
            "_model_module_version": "1.5.0",
            "_model_name": "FloatProgressModel",
            "_view_count": null,
            "_view_module": "@jupyter-widgets/controls",
            "_view_module_version": "1.5.0",
            "_view_name": "ProgressView",
            "bar_style": "",
            "description": "",
            "description_tooltip": null,
            "layout": "IPY_MODEL_2a2d08aa8e384d3b8b0f7bd116dd924c",
            "max": 1,
            "min": 0,
            "orientation": "horizontal",
            "style": "IPY_MODEL_ddf6ce41f7424ad5a1147f724957660a",
            "value": 1
          }
        },
        "0b4b92f6fc2b446bb7ee3f504b41e843": {
          "model_module": "@jupyter-widgets/base",
          "model_name": "LayoutModel",
          "model_module_version": "1.2.0",
          "state": {
            "_model_module": "@jupyter-widgets/base",
            "_model_module_version": "1.2.0",
            "_model_name": "LayoutModel",
            "_view_count": null,
            "_view_module": "@jupyter-widgets/base",
            "_view_module_version": "1.2.0",
            "_view_name": "LayoutView",
            "align_content": null,
            "align_items": null,
            "align_self": null,
            "border": null,
            "bottom": null,
            "display": null,
            "flex": null,
            "flex_flow": null,
            "grid_area": null,
            "grid_auto_columns": null,
            "grid_auto_flow": null,
            "grid_auto_rows": null,
            "grid_column": null,
            "grid_gap": null,
            "grid_row": null,
            "grid_template_areas": null,
            "grid_template_columns": null,
            "grid_template_rows": null,
            "height": null,
            "justify_content": null,
            "justify_items": null,
            "left": null,
            "margin": null,
            "max_height": null,
            "max_width": null,
            "min_height": null,
            "min_width": null,
            "object_fit": null,
            "object_position": null,
            "order": null,
            "overflow": null,
            "overflow_x": null,
            "overflow_y": null,
            "padding": null,
            "right": null,
            "top": null,
            "visibility": null,
            "width": null
          }
        },
        "19ff924b7a714aba8bc08af2dc818782": {
          "model_module": "@jupyter-widgets/base",
          "model_name": "LayoutModel",
          "model_module_version": "1.2.0",
          "state": {
            "_model_module": "@jupyter-widgets/base",
            "_model_module_version": "1.2.0",
            "_model_name": "LayoutModel",
            "_view_count": null,
            "_view_module": "@jupyter-widgets/base",
            "_view_module_version": "1.2.0",
            "_view_name": "LayoutView",
            "align_content": null,
            "align_items": null,
            "align_self": null,
            "border": null,
            "bottom": null,
            "display": null,
            "flex": null,
            "flex_flow": null,
            "grid_area": null,
            "grid_auto_columns": null,
            "grid_auto_flow": null,
            "grid_auto_rows": null,
            "grid_column": null,
            "grid_gap": null,
            "grid_row": null,
            "grid_template_areas": null,
            "grid_template_columns": null,
            "grid_template_rows": null,
            "height": null,
            "justify_content": null,
            "justify_items": null,
            "left": null,
            "margin": null,
            "max_height": null,
            "max_width": null,
            "min_height": null,
            "min_width": null,
            "object_fit": null,
            "object_position": null,
            "order": null,
            "overflow": null,
            "overflow_x": null,
            "overflow_y": null,
            "padding": null,
            "right": null,
            "top": null,
            "visibility": null,
            "width": null
          }
        },
        "5c1c8ef1f51142beb7159299f4d0cf37": {
          "model_module": "@jupyter-widgets/controls",
          "model_name": "DescriptionStyleModel",
          "model_module_version": "1.5.0",
          "state": {
            "_model_module": "@jupyter-widgets/controls",
            "_model_module_version": "1.5.0",
            "_model_name": "DescriptionStyleModel",
            "_view_count": null,
            "_view_module": "@jupyter-widgets/base",
            "_view_module_version": "1.2.0",
            "_view_name": "StyleView",
            "description_width": ""
          }
        },
        "2a2d08aa8e384d3b8b0f7bd116dd924c": {
          "model_module": "@jupyter-widgets/base",
          "model_name": "LayoutModel",
          "model_module_version": "1.2.0",
          "state": {
            "_model_module": "@jupyter-widgets/base",
            "_model_module_version": "1.2.0",
            "_model_name": "LayoutModel",
            "_view_count": null,
            "_view_module": "@jupyter-widgets/base",
            "_view_module_version": "1.2.0",
            "_view_name": "LayoutView",
            "align_content": null,
            "align_items": null,
            "align_self": null,
            "border": null,
            "bottom": null,
            "display": null,
            "flex": null,
            "flex_flow": null,
            "grid_area": null,
            "grid_auto_columns": null,
            "grid_auto_flow": null,
            "grid_auto_rows": null,
            "grid_column": null,
            "grid_gap": null,
            "grid_row": null,
            "grid_template_areas": null,
            "grid_template_columns": null,
            "grid_template_rows": null,
            "height": null,
            "justify_content": null,
            "justify_items": null,
            "left": null,
            "margin": null,
            "max_height": null,
            "max_width": null,
            "min_height": null,
            "min_width": null,
            "object_fit": null,
            "object_position": null,
            "order": null,
            "overflow": null,
            "overflow_x": null,
            "overflow_y": null,
            "padding": null,
            "right": null,
            "top": null,
            "visibility": null,
            "width": null
          }
        },
        "ddf6ce41f7424ad5a1147f724957660a": {
          "model_module": "@jupyter-widgets/controls",
          "model_name": "ProgressStyleModel",
          "model_module_version": "1.5.0",
          "state": {
            "_model_module": "@jupyter-widgets/controls",
            "_model_module_version": "1.5.0",
            "_model_name": "ProgressStyleModel",
            "_view_count": null,
            "_view_module": "@jupyter-widgets/base",
            "_view_module_version": "1.2.0",
            "_view_name": "StyleView",
            "bar_color": null,
            "description_width": ""
          }
        }
      }
    }
  },
  "nbformat": 4,
  "nbformat_minor": 0
}