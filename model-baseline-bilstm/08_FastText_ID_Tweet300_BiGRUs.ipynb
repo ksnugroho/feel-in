{
  "cells": [
    {
      "cell_type": "markdown",
      "metadata": {
        "colab_type": "text",
        "id": "view-in-github"
      },
      "source": [
        "<a href=\"https://colab.research.google.com/github/ksnugroho/feel-in/blob/main/model-baseline-bilstm/08_FastText_ID_Tweet300_BiGRUs.ipynb\" target=\"_parent\"><img src=\"https://colab.research.google.com/assets/colab-badge.svg\" alt=\"Open In Colab\"/></a>"
      ]
    },
    {
      "cell_type": "markdown",
      "id": "a1bf2cd2-5a23-41fa-a4b7-71dfd3b0adb8",
      "metadata": {
        "id": "a1bf2cd2-5a23-41fa-a4b7-71dfd3b0adb8"
      },
      "source": [
        "# **FastText (ID Tweet) + Bidirectional GRU**\n",
        "\n",
        "**Thesis: Emotion Detection in Indonesian Text**\n",
        "\n",
        "Kuncahyo Setyo Nugroho<br>\n",
        "Supervisor:\n",
        "1. Dr. Eng. Fitra A. Bachtiar, S.T., M.Eng.\n",
        "2. Prof. Ir. Wayan Firdaus Mahmudy, S.Si., M.T., Ph.D.\n",
        "\n",
        "Faculty of Computer Science, Brawijaya University, Indonesia &copy; 2021-2022"
      ]
    },
    {
      "cell_type": "markdown",
      "id": "c2711406-ec5a-4ae2-bb51-ee6e38d2e14d",
      "metadata": {
        "id": "c2711406-ec5a-4ae2-bb51-ee6e38d2e14d"
      },
      "source": [
        "# 01 Setup"
      ]
    },
    {
      "cell_type": "code",
      "execution_count": 1,
      "id": "AVwTm6ZzVRuK",
      "metadata": {
        "colab": {
          "base_uri": "https://localhost:8080/"
        },
        "id": "AVwTm6ZzVRuK",
        "outputId": "02ef4ff8-2e72-49e8-8d3c-73544eed554c"
      },
      "outputs": [
        {
          "name": "stdout",
          "output_type": "stream",
          "text": [
            "Mounted at /content/drive\n"
          ]
        }
      ],
      "source": [
        "from google.colab import drive\n",
        "drive.mount('/content/drive', force_remount=True)"
      ]
    },
    {
      "cell_type": "code",
      "execution_count": null,
      "id": "wFUHxFRwVT1W",
      "metadata": {
        "colab": {
          "base_uri": "https://localhost:8080/"
        },
        "id": "wFUHxFRwVT1W",
        "outputId": "28131d42-27dc-4416-adf6-340d03528647"
      },
      "outputs": [],
      "source": [
        "# Path to google drive folder\n",
        "%cd /content/drive/MyDrive/"
      ]
    },
    {
      "cell_type": "code",
      "execution_count": 3,
      "id": "1d9e59eb-577c-41f1-91e7-ad35cb47e990",
      "metadata": {
        "id": "1d9e59eb-577c-41f1-91e7-ad35cb47e990",
        "tags": []
      },
      "outputs": [],
      "source": [
        "import re\n",
        "import os\n",
        "import datetime\n",
        "import numpy as np\n",
        "import pandas as pd\n",
        "import matplotlib.pyplot as plt\n",
        "import seaborn as sns\n",
        "\n",
        "from itertools import cycle\n",
        "from sklearn.preprocessing import LabelEncoder, label_binarize\n",
        "from sklearn.model_selection import train_test_split\n",
        "from sklearn.metrics import roc_curve, auc, confusion_matrix, classification_report\n",
        "\n",
        "from gensim.models import KeyedVectors\n",
        "\n",
        "import tensorflow as tf\n",
        "from tensorflow.keras.preprocessing.text import Tokenizer\n",
        "from tensorflow.keras.preprocessing.sequence import pad_sequences\n",
        "from tensorflow.keras.utils import to_categorical, plot_model\n",
        "from tensorflow.keras.optimizers import Adam\n",
        "from tensorflow.keras.losses import CategoricalCrossentropy\n",
        "from tensorflow.keras.callbacks import EarlyStopping, ModelCheckpoint, TensorBoard\n",
        "from tensorflow.keras.initializers import Constant\n",
        "from tensorflow.keras.models import Sequential \n",
        "from tensorflow.keras.layers import Embedding, Bidirectional, GRU, Dropout, Dense\n",
        "\n",
        "from tqdm import tqdm\n",
        "tqdm.pandas()\n",
        "\n",
        "import warnings\n",
        "warnings.filterwarnings('ignore')\n",
        "\n",
        "SEED = 50\n",
        "MODEL = 'id-tweet-fasstext-bigru'\n",
        "FOLDER_PATH = 'model-baseline-bilstm'\n",
        "\n",
        "np.random.seed(SEED)\n",
        "tf.random.set_seed(SEED)\n",
        "colors = plt.rcParams['axes.prop_cycle'].by_key()['color']\n",
        "\n",
        "%matplotlib inline"
      ]
    },
    {
      "cell_type": "code",
      "execution_count": 4,
      "id": "2Y-QoBKiVGcU",
      "metadata": {
        "colab": {
          "base_uri": "https://localhost:8080/"
        },
        "id": "2Y-QoBKiVGcU",
        "outputId": "75b65d8b-04e3-4c8d-a3ab-2c7ef56af3e1"
      },
      "outputs": [
        {
          "name": "stdout",
          "output_type": "stream",
          "text": [
            "\u001b[K     |████████████████████████████████| 1.8 MB 3.3 MB/s \n",
            "\u001b[K     |████████████████████████████████| 147 kB 87.7 MB/s \n",
            "\u001b[K     |████████████████████████████████| 181 kB 95.7 MB/s \n",
            "\u001b[K     |████████████████████████████████| 63 kB 2.2 MB/s \n",
            "\u001b[?25h  Building wheel for pathtools (setup.py) ... \u001b[?25l\u001b[?25hdone\n"
          ]
        }
      ],
      "source": [
        "!pip install -q wandb"
      ]
    },
    {
      "cell_type": "code",
      "execution_count": 5,
      "id": "48b9555b-8ac9-42ce-ab47-039461f7ddcc",
      "metadata": {
        "colab": {
          "base_uri": "https://localhost:8080/"
        },
        "id": "48b9555b-8ac9-42ce-ab47-039461f7ddcc",
        "outputId": "5482a29b-0435-4a98-afc5-0dcb5e7b8147"
      },
      "outputs": [
        {
          "name": "stderr",
          "output_type": "stream",
          "text": [
            "\u001b[34m\u001b[1mwandb\u001b[0m: W&B API key is configured. Use \u001b[1m`wandb login --relogin`\u001b[0m to force relogin\n",
            "\u001b[34m\u001b[1mwandb\u001b[0m: \u001b[33mWARNING\u001b[0m If you're specifying your api key in code, ensure this code is not shared publicly.\n",
            "\u001b[34m\u001b[1mwandb\u001b[0m: \u001b[33mWARNING\u001b[0m Consider setting the WANDB_API_KEY environment variable, or running `wandb login` from the command line.\n",
            "\u001b[34m\u001b[1mwandb\u001b[0m: Appending key for api.wandb.ai to your netrc file: /root/.netrc\n"
          ]
        },
        {
          "data": {
            "text/plain": [
              "True"
            ]
          },
          "execution_count": 5,
          "metadata": {},
          "output_type": "execute_result"
        }
      ],
      "source": [
        "import wandb\n",
        "from wandb.keras import WandbCallback\n",
        "\n",
        "wandb.login(key='API_KEY')"
      ]
    },
    {
      "cell_type": "code",
      "execution_count": 6,
      "id": "7GDeOKZeFvEk",
      "metadata": {
        "colab": {
          "base_uri": "https://localhost:8080/"
        },
        "id": "7GDeOKZeFvEk",
        "outputId": "44829b02-fcf6-4e40-c9b5-64612554002e"
      },
      "outputs": [
        {
          "name": "stdout",
          "output_type": "stream",
          "text": [
            "07-15-2022-18:00\n"
          ]
        }
      ],
      "source": [
        "TODAY = datetime.datetime.now().strftime(\"%m-%d-%Y-%H:%M\")\n",
        "print(TODAY)"
      ]
    },
    {
      "cell_type": "markdown",
      "id": "68399df4-1ece-42be-926c-40c9c494d0d1",
      "metadata": {
        "id": "68399df4-1ece-42be-926c-40c9c494d0d1"
      },
      "source": [
        "# 02 Load Data"
      ]
    },
    {
      "cell_type": "code",
      "execution_count": 7,
      "id": "7ab9c55e-af81-4952-9736-b3f87045cfa2",
      "metadata": {
        "colab": {
          "base_uri": "https://localhost:8080/"
        },
        "id": "7ab9c55e-af81-4952-9736-b3f87045cfa2",
        "outputId": "156214d2-5408-4fa3-8e1f-d4bf5b8ead6c"
      },
      "outputs": [
        {
          "name": "stdout",
          "output_type": "stream",
          "text": [
            "                                               tweet    label\n",
            "0        wah belom liat muka gue lagi murka hahahaha      joy\n",
            "1  Mungkin kurang piknik adrenalin. Mereka yg ske...    anger\n",
            "2  maaf kalo tersinggung \"orang kurus cepet mati\"...    anger\n",
            "3  berserah pada maha esa paling tabah dan sabar ...      joy\n",
            "4                       Ehekk malu la hahahahahahaha  sadness\n"
          ]
        }
      ],
      "source": [
        "df = pd.read_csv('data/final-tweet-anotasi.csv', index_col=0)\n",
        "# df = df.sample(frac=1, random_state=SEED).reset_index(drop=True)   # For shuffle\n",
        "print(df.head())"
      ]
    },
    {
      "cell_type": "code",
      "execution_count": 8,
      "id": "jSyeoBWmVtkA",
      "metadata": {
        "id": "jSyeoBWmVtkA"
      },
      "outputs": [],
      "source": [
        "# df = df.dropna()"
      ]
    },
    {
      "cell_type": "code",
      "execution_count": 9,
      "id": "eeb8fd22-5a2b-48a9-8d5e-e5b569cb856a",
      "metadata": {
        "colab": {
          "base_uri": "https://localhost:8080/"
        },
        "id": "eeb8fd22-5a2b-48a9-8d5e-e5b569cb856a",
        "outputId": "20b6a6b2-d56c-42aa-d94d-aa4bd1f38c72"
      },
      "outputs": [
        {
          "data": {
            "text/plain": [
              "(2243, 2)"
            ]
          },
          "execution_count": 9,
          "metadata": {},
          "output_type": "execute_result"
        }
      ],
      "source": [
        "df.shape"
      ]
    },
    {
      "cell_type": "code",
      "execution_count": 10,
      "id": "ad238655-95be-4598-b60a-5aa5ee3a27be",
      "metadata": {
        "colab": {
          "base_uri": "https://localhost:8080/",
          "height": 456
        },
        "id": "ad238655-95be-4598-b60a-5aa5ee3a27be",
        "outputId": "fc42106c-1352-4f28-9a91-d9e5af028f6f"
      },
      "outputs": [
        {
          "data": {
            "image/png": "[encoded data removed]",
            "text/plain": [
              "<Figure size 576x360 with 1 Axes>"
            ]
          },
          "metadata": {
            "needs_background": "light"
          },
          "output_type": "display_data"
        },
        {
          "data": {
            "text/plain": [
              "anger       475\n",
              "disgust     355\n",
              "fear        395\n",
              "joy         429\n",
              "sadness     303\n",
              "surprise    286\n",
              "Name: label, dtype: int64"
            ]
          },
          "execution_count": 10,
          "metadata": {},
          "output_type": "execute_result"
        }
      ],
      "source": [
        "plt.figure(figsize=(8, 5))\n",
        "sns.countplot(x='label', data=df, order=df['label'].value_counts().index)\n",
        "plt.xlabel('Distribution of Emotion Label')\n",
        "plt.show()\n",
        "\n",
        "df['label'].value_counts().sort_index()"
      ]
    },
    {
      "cell_type": "markdown",
      "id": "c8468e98-5632-450d-8b96-4542508142e9",
      "metadata": {
        "id": "c8468e98-5632-450d-8b96-4542508142e9"
      },
      "source": [
        "# 03 Preprocessing"
      ]
    },
    {
      "cell_type": "markdown",
      "id": "S64juGuYEw1q",
      "metadata": {
        "id": "S64juGuYEw1q"
      },
      "source": [
        "## Text Cleaning"
      ]
    },
    {
      "cell_type": "code",
      "execution_count": 11,
      "id": "ebe49f47-6c6a-4f61-8d6c-770106d96043",
      "metadata": {
        "id": "ebe49f47-6c6a-4f61-8d6c-770106d96043"
      },
      "outputs": [],
      "source": [
        "def text_cleaning(text):\n",
        "    text = text.lower()                               # Mengubah teks menjadi lower case\n",
        "    text = re.sub(r'https?://\\S+|www\\.\\S+', '', text) # Menghapus URL\n",
        "    text = re.sub(r'[-+]?[0-9]+', '', text)           # Menghapus angka\n",
        "    text = re.sub(r'[^\\w\\s]','', text)                # Menghapus karakter tanda baca\n",
        "    text = re.sub(r'\\s+', ' ', text).strip()          # Menghapus whitespaces\n",
        "\n",
        "    return text"
      ]
    },
    {
      "cell_type": "code",
      "execution_count": 12,
      "id": "ae27a972-17de-4d33-b15c-987de9ee00ca",
      "metadata": {
        "colab": {
          "base_uri": "https://localhost:8080/"
        },
        "id": "ae27a972-17de-4d33-b15c-987de9ee00ca",
        "outputId": "35532ae4-577d-40da-9390-f559281d6631"
      },
      "outputs": [
        {
          "name": "stderr",
          "output_type": "stream",
          "text": [
            "100%|██████████| 2243/2243 [00:00<00:00, 56027.63it/s]"
          ]
        },
        {
          "name": "stdout",
          "output_type": "stream",
          "text": [
            "CPU times: user 43.3 ms, sys: 3.02 ms, total: 46.4 ms\n",
            "Wall time: 45.3 ms\n"
          ]
        },
        {
          "name": "stderr",
          "output_type": "stream",
          "text": [
            "\n"
          ]
        }
      ],
      "source": [
        "%%time \n",
        "df['tweet'] = df['tweet'].progress_apply(text_cleaning)"
      ]
    },
    {
      "cell_type": "markdown",
      "id": "96d70e1e-0b16-4ee5-87ab-39f14bccc3cb",
      "metadata": {
        "id": "96d70e1e-0b16-4ee5-87ab-39f14bccc3cb"
      },
      "source": [
        "## Label Encoder"
      ]
    },
    {
      "cell_type": "code",
      "execution_count": 13,
      "id": "446e9785-ddc4-4674-a3ec-ccf3a96be135",
      "metadata": {
        "colab": {
          "base_uri": "https://localhost:8080/"
        },
        "id": "446e9785-ddc4-4674-a3ec-ccf3a96be135",
        "outputId": "ca4f4ba7-c92b-45c5-e5d6-20dc943240d8"
      },
      "outputs": [
        {
          "name": "stdout",
          "output_type": "stream",
          "text": [
            "                                               tweet    label  label_encode\n",
            "0        wah belom liat muka gue lagi murka hahahaha      joy             3\n",
            "1  mungkin kurang piknik adrenalin mereka yg skep...    anger             0\n",
            "2  maaf kalo tersinggung orang kurus cepet mati w...    anger             0\n",
            "3  berserah pada maha esa paling tabah dan sabar ...      joy             3\n",
            "4                       ehekk malu la hahahahahahaha  sadness             4\n"
          ]
        }
      ],
      "source": [
        "le = LabelEncoder()\n",
        "\n",
        "df['label_encode'] = le.fit_transform(df['label'])\n",
        "print(df.head())"
      ]
    },
    {
      "cell_type": "code",
      "execution_count": 14,
      "id": "dNTuKMAtCC3O",
      "metadata": {
        "colab": {
          "base_uri": "https://localhost:8080/"
        },
        "id": "dNTuKMAtCC3O",
        "outputId": "ed975c66-f37b-437c-8c13-9f6af4fe017e"
      },
      "outputs": [
        {
          "name": "stdout",
          "output_type": "stream",
          "text": [
            "{'anger': 0, 'disgust': 1, 'fear': 2, 'joy': 3, 'sadness': 4, 'surprise': 5}\n"
          ]
        }
      ],
      "source": [
        "le_mapping = dict(zip(le.classes_, le.transform(le.classes_)))\n",
        "print(le_mapping)"
      ]
    },
    {
      "cell_type": "code",
      "execution_count": 15,
      "id": "sMvamEW5g-MB",
      "metadata": {
        "colab": {
          "base_uri": "https://localhost:8080/"
        },
        "id": "sMvamEW5g-MB",
        "outputId": "4059c07e-afc2-4b10-92db-5885b0f9f02e"
      },
      "outputs": [
        {
          "name": "stdout",
          "output_type": "stream",
          "text": [
            "['anger' 'disgust' 'fear' 'joy' 'sadness' 'surprise']\n"
          ]
        }
      ],
      "source": [
        "LABEL_NAME = le.classes_\n",
        "print(LABEL_NAME)"
      ]
    },
    {
      "cell_type": "markdown",
      "id": "51563912-e1a5-4196-ba6d-6c9b34de840c",
      "metadata": {
        "id": "51563912-e1a5-4196-ba6d-6c9b34de840c"
      },
      "source": [
        "# 04 Load Pre-Trained Word Vectors (FastText)"
      ]
    },
    {
      "cell_type": "code",
      "execution_count": 16,
      "id": "0d84c2b8-95d5-4649-a929-153d16de7791",
      "metadata": {
        "colab": {
          "base_uri": "https://localhost:8080/"
        },
        "id": "0d84c2b8-95d5-4649-a929-153d16de7791",
        "outputId": "b6fc5350-f0a1-4e49-b33f-513737ba4d85"
      },
      "outputs": [
        {
          "name": "stdout",
          "output_type": "stream",
          "text": [
            "The numbers of words in vocabulary:  156312\n",
            "CPU times: user 443 ms, sys: 81 ms, total: 524 ms\n",
            "Wall time: 5.53 s\n"
          ]
        }
      ],
      "source": [
        "%%time\n",
        "WORD_EMBEDDING_PATH = 'model-word-embedding/checkpoint/idtweet-fasttext/idtweet-fasttext-300.wordvectors'\n",
        "\n",
        "word2vec = KeyedVectors.load(WORD_EMBEDDING_PATH,  mmap='r')\n",
        "vocabulary = word2vec.wv.vocab     # gensim 3\n",
        "# vocabulary = word2vec.index_to_key # gensim 4\n",
        "print('The numbers of words in vocabulary: ', len(vocabulary))\n",
        "\n",
        "VOCAB_SIZE = len(vocabulary)\n",
        "EMBEDDING_SIZE = word2vec.vector_size"
      ]
    },
    {
      "cell_type": "code",
      "execution_count": 17,
      "id": "60938380-45dd-4fed-a8f8-5db2f37897db",
      "metadata": {
        "colab": {
          "base_uri": "https://localhost:8080/"
        },
        "id": "60938380-45dd-4fed-a8f8-5db2f37897db",
        "outputId": "94687ef1-8122-4779-adff-e5efb2dc622d"
      },
      "outputs": [
        {
          "name": "stdout",
          "output_type": "stream",
          "text": [
            "The numbers of key-value pairs:  156312\n"
          ]
        }
      ],
      "source": [
        "word2vec_dict = {}\n",
        "\n",
        "for word in vocabulary:\n",
        "    word2vec_dict[word] = word2vec.wv.get_vector(word)   # gensim 3\n",
        "    # word2vec_dict[word] = word2vec.get_vector(word)\n",
        "    \n",
        "print('The numbers of key-value pairs: ', len(word2vec_dict)) # should come equal to vocab size"
      ]
    },
    {
      "cell_type": "code",
      "execution_count": 18,
      "id": "197d2a58-5a2d-4cbe-a0c9-834c97e3fb08",
      "metadata": {
        "colab": {
          "base_uri": "https://localhost:8080/"
        },
        "id": "197d2a58-5a2d-4cbe-a0c9-834c97e3fb08",
        "outputId": "ff6d511b-4e14-4a69-dcc1-7ffc95400cd7"
      },
      "outputs": [
        {
          "name": "stdout",
          "output_type": "stream",
          "text": [
            "[ 2.01440174e-02  2.78031111e-01 -1.47899911e-01 -3.21347594e-01\n",
            "  1.17490798e-01  1.11041553e-01 -1.31117880e-01  1.83312431e-01\n",
            " -6.62141889e-02 -1.24978153e-02 -2.10252292e-02 -1.32364005e-01\n",
            " -8.29517841e-02 -1.67127311e-01  9.77338478e-02 -1.27265200e-01\n",
            "  8.83917883e-02 -2.80060172e-01  3.59284766e-02 -1.56981826e-01\n",
            "  2.36393705e-01  1.66466787e-01 -2.39523426e-01  1.99188903e-01\n",
            " -1.79063857e-01  3.48030746e-01  2.03895763e-01  1.55139919e-02\n",
            " -3.47288162e-01  1.68919742e-01  3.43442596e-02  3.60827804e-01\n",
            " -2.06457093e-01  1.76926151e-01  4.50417101e-02 -2.74600744e-01\n",
            " -1.97765306e-01 -1.92809865e-01 -1.37790009e-01  2.68655986e-01\n",
            "  1.75936669e-01  4.79262531e-01 -6.85526654e-02 -1.91018924e-01\n",
            " -3.81934762e-01 -3.37018132e-01 -5.60359061e-01 -5.41820414e-02\n",
            "  2.57673394e-02 -1.74287662e-01 -2.82477238e-03  1.02792293e-01\n",
            " -1.24939367e-01  6.62392825e-02  2.85071522e-01  6.91761002e-02\n",
            " -3.74869317e-01  4.32981253e-02  1.43285617e-01  1.22272231e-01\n",
            " -2.10717157e-01 -1.09732337e-01  1.17341779e-01  2.39560694e-01\n",
            "  6.19564056e-02 -1.31690532e-01 -1.16281182e-01 -3.19395006e-01\n",
            "  6.59232214e-02 -1.19930334e-01 -4.50480431e-01  3.34982485e-01\n",
            "  1.18800685e-01  2.09816560e-01 -3.91874276e-02  1.17619164e-01\n",
            "  8.10692981e-02 -3.48682441e-02 -1.15923859e-01 -2.57717401e-01\n",
            "  2.92718560e-01  4.80931550e-01  7.10676983e-02 -6.78389743e-02\n",
            " -3.62313353e-02  5.43340780e-02  2.77777702e-01 -2.97097892e-01\n",
            "  1.36916682e-01 -1.28472978e-02 -6.48054704e-02 -3.52765471e-01\n",
            "  1.41109407e-01 -6.00316189e-02  1.94213334e-02  1.56710610e-01\n",
            " -8.63550883e-03  4.98622991e-02 -9.70107093e-02  5.66760004e-01\n",
            " -1.42874822e-01  1.56917825e-01 -3.84943709e-02 -1.18762322e-01\n",
            " -2.26077422e-01  3.56565081e-02 -2.49212995e-01  1.89570799e-01\n",
            " -4.08071250e-01  1.17153123e-01 -4.83971201e-02  3.17671508e-01\n",
            " -3.99980545e-01  1.52520046e-01 -1.11545488e-01 -2.93957759e-02\n",
            "  4.62182052e-02 -1.02634868e-03  3.28481078e-01  2.31038034e-01\n",
            " -1.66777179e-01  1.71557352e-01 -2.45362632e-02  3.35294753e-01\n",
            "  6.19384423e-02  6.55380040e-02 -2.74898142e-01  4.15765978e-02\n",
            " -3.57513167e-02  1.78030550e-01  1.40550658e-01 -2.90508643e-02\n",
            " -1.50253043e-01  6.44827336e-02  2.52788544e-01 -3.88501525e-01\n",
            "  1.90776631e-01 -1.28494715e-02  5.03550135e-02 -2.94754803e-01\n",
            "  6.56284094e-02  3.19937244e-02 -2.96037465e-01 -1.89476490e-01\n",
            "  9.55825523e-02  7.58025795e-02  7.47318417e-02  3.68149243e-02\n",
            " -2.55970031e-01  2.43069559e-01 -4.34085667e-01  1.69310570e-02\n",
            "  7.27773011e-02  2.69262604e-02 -8.64839554e-03 -2.18615711e-01\n",
            "  1.65376142e-01  8.86280462e-03 -3.16920966e-01  2.42235810e-01\n",
            " -7.75274113e-02 -1.04093403e-01  3.69938053e-02 -1.52433291e-01\n",
            " -6.50546849e-01 -1.63626239e-01 -1.96712255e-01 -7.64869899e-02\n",
            "  3.21173072e-01  3.08501720e-01  3.85764122e-01 -5.53529486e-02\n",
            "  1.03583857e-01 -9.49673951e-02  3.65091205e-01 -2.04465151e-01\n",
            "  1.73505217e-01  2.23573148e-01  1.23168500e-02 -1.01925775e-01\n",
            "  1.88956428e-02  2.09158078e-01  3.10606688e-01 -8.22362825e-02\n",
            " -1.25448883e-01  1.85766444e-01  4.17018145e-01 -6.43662065e-02\n",
            "  2.28001475e-02 -3.10940091e-02 -6.14674995e-03  4.42006409e-01\n",
            "  5.28398573e-01  2.05486163e-01  1.02504760e-01  4.30568773e-03\n",
            " -1.00027109e-02 -1.82541072e-01  1.18848018e-01  2.15710104e-01\n",
            " -2.19957441e-01  3.31737399e-01  1.16851084e-01 -1.09724840e-02\n",
            " -3.84115726e-01 -2.64740646e-01 -2.13613942e-01  1.38257399e-01\n",
            " -2.33463243e-01  1.02074593e-01  4.99042012e-02 -4.55840617e-01\n",
            "  6.44835055e-01  5.15840352e-01  3.81548971e-01 -5.11275530e-01\n",
            " -1.24219589e-01  1.56230584e-01 -4.62446846e-02  1.82301581e-01\n",
            " -5.41925319e-02  2.49244466e-01 -2.28138059e-01  1.46189794e-01\n",
            " -1.65064380e-01 -2.66750932e-01  2.88861543e-01 -1.44129664e-01\n",
            "  4.39774990e-01 -6.10197138e-04 -1.43808782e-01 -1.20376021e-01\n",
            " -3.19993943e-01  1.42457724e-01 -4.97255147e-01 -6.32114187e-02\n",
            "  1.25948712e-01 -2.05302939e-01 -1.32998332e-01 -2.63312072e-01\n",
            "  1.19021624e-01 -1.31216615e-01 -6.84364736e-02 -2.61045038e-03\n",
            " -4.38451581e-02  2.89174691e-02 -8.95213559e-02 -1.44497249e-02\n",
            "  5.26783913e-02  2.30955899e-01 -1.81311831e-01 -1.73646271e-01\n",
            " -3.39313477e-01  1.36917189e-01  1.20840766e-01 -3.95574957e-01\n",
            " -1.31908329e-02  1.33629307e-01 -1.56449527e-01 -1.80112064e-01\n",
            " -1.71311319e-01 -1.80855021e-01 -1.42418623e-01 -9.72459391e-02\n",
            " -1.25641689e-01  1.95838600e-01  1.30613759e-01  5.17906770e-02\n",
            " -6.69360459e-02  1.55625254e-01 -2.43434563e-01 -3.51937473e-01\n",
            " -2.91530311e-01  3.39311332e-01  6.30711094e-02  2.72128612e-01\n",
            " -1.24856927e-01  6.80159628e-02  1.90412521e-01 -1.80849940e-01\n",
            "  1.84221745e-01  1.69419572e-01 -1.95391942e-02 -9.27941129e-02\n",
            "  1.60584539e-01 -2.02672482e-01  7.28496835e-02  2.84618974e-01\n",
            " -5.31045973e-01 -1.14709251e-01  1.95460357e-02 -2.28817120e-01\n",
            " -8.17149356e-02  4.42413628e-01  7.10556805e-01 -2.04195261e-01\n",
            "  5.05957156e-02 -2.12934956e-01 -5.82947508e-02  1.32861122e-01]\n",
            "Embedding size:  (300,)\n"
          ]
        }
      ],
      "source": [
        "# Cek vektor embedding dan dimensi dari suatu kata\n",
        "word = 'saya'\n",
        "\n",
        "print(word2vec[word])\n",
        "print('Embedding size: ', word2vec[word].shape)"
      ]
    },
    {
      "cell_type": "markdown",
      "id": "6f99d1fe-fc94-4fdb-a5ca-fbee429e755a",
      "metadata": {
        "id": "6f99d1fe-fc94-4fdb-a5ca-fbee429e755a"
      },
      "source": [
        "# 05 Choosing Maximum Length of the Sequence  "
      ]
    },
    {
      "cell_type": "code",
      "execution_count": 19,
      "id": "25a90ec6-381d-4a00-870f-1d5c99f482a6",
      "metadata": {
        "colab": {
          "base_uri": "https://localhost:8080/",
          "height": 334
        },
        "id": "25a90ec6-381d-4a00-870f-1d5c99f482a6",
        "outputId": "62f935a6-773e-4b95-c186-befa59ca8399"
      },
      "outputs": [
        {
          "data": {
            "image/png": "[encoded data removed]",
            "text/plain": [
              "<Figure size 576x360 with 1 Axes>"
            ]
          },
          "metadata": {
            "needs_background": "light"
          },
          "output_type": "display_data"
        }
      ],
      "source": [
        "token_lens = []\n",
        "\n",
        "for text in df['tweet']:\n",
        "    tokens = text.split()\n",
        "    token_lens.append(len(tokens))\n",
        "\n",
        "plt.figure(figsize=(8, 5))\n",
        "sns.histplot(token_lens, kde=True, stat='density', linewidth=0)\n",
        "plt.xlim([0, 100]);\n",
        "plt.xlabel('Token count');"
      ]
    },
    {
      "cell_type": "code",
      "execution_count": 20,
      "id": "8706c818-5743-474d-ab06-8e80796626dd",
      "metadata": {
        "id": "8706c818-5743-474d-ab06-8e80796626dd"
      },
      "outputs": [],
      "source": [
        "MAX_SEQ_LENGTH = 80"
      ]
    },
    {
      "cell_type": "markdown",
      "id": "709501e2-9810-43d1-876e-7a5a90c7baf2",
      "metadata": {
        "id": "709501e2-9810-43d1-876e-7a5a90c7baf2"
      },
      "source": [
        "# 06 Preparing Data for Embedding Layer"
      ]
    },
    {
      "cell_type": "markdown",
      "id": "f286a91d-879d-4794-9751-9f2ba0913fdc",
      "metadata": {
        "id": "f286a91d-879d-4794-9751-9f2ba0913fdc"
      },
      "source": [
        "## Tokenizing Data"
      ]
    },
    {
      "cell_type": "code",
      "execution_count": 21,
      "id": "e53fc8e9-8259-4d61-8df5-637be49b96be",
      "metadata": {
        "colab": {
          "base_uri": "https://localhost:8080/"
        },
        "id": "e53fc8e9-8259-4d61-8df5-637be49b96be",
        "outputId": "99d4faa6-2410-4258-ad2a-ba5bf2a0bdb5"
      },
      "outputs": [
        {
          "name": "stdout",
          "output_type": "stream",
          "text": [
            "8831\n"
          ]
        }
      ],
      "source": [
        "NUM_WORDS = 100       # Frekuensi kemunculan kata. Hanya num_words-1 yang akan disimpan pada dictionary. Berarti kata dengan kemunculan <=num_words tidak digunakan.\n",
        "OOV_TOKEN = '<unk>'   # Token khusus untuk mengganti kata yang tidak terdaftar dalam dictionary.\n",
        "\n",
        "tokenizer = Tokenizer(num_words=NUM_WORDS, oov_token=OOV_TOKEN, lower=True, split=' ')\n",
        "tokenizer.fit_on_texts(df['tweet'])\n",
        "\n",
        "# Tambahkan token padding untuk menyamakan ukuran dimensi embedding layer\n",
        "tokenizer.word_index['<pad>'] = 0\n",
        "tokenizer.index_word[0] = '<pad>'\n",
        "\n",
        "WV_DICTIONARY = tokenizer.word_index\n",
        "\n",
        "WV_DICTIONARY_SIZE = len(WV_DICTIONARY)\n",
        "print(WV_DICTIONARY_SIZE) # Lihat kata unik pada dictionary yang dihasilkan"
      ]
    },
    {
      "cell_type": "markdown",
      "id": "afe05251-9fb7-4a86-94b0-869f4444b2f6",
      "metadata": {
        "id": "afe05251-9fb7-4a86-94b0-869f4444b2f6"
      },
      "source": [
        "## Text To Sequence"
      ]
    },
    {
      "cell_type": "code",
      "execution_count": 22,
      "id": "80f209a0-4faf-44d6-bf92-ed5ec139ea37",
      "metadata": {
        "id": "80f209a0-4faf-44d6-bf92-ed5ec139ea37"
      },
      "outputs": [],
      "source": [
        "# Proses mengubah token menjadi urutan bilangan int berdasarkan dictionary.\n",
        "data_seq = tokenizer.texts_to_sequences(df['tweet'])"
      ]
    },
    {
      "cell_type": "code",
      "execution_count": 23,
      "id": "b2d087a4-35a8-4429-b8b5-2cb18357ca4b",
      "metadata": {
        "colab": {
          "base_uri": "https://localhost:8080/"
        },
        "id": "b2d087a4-35a8-4429-b8b5-2cb18357ca4b",
        "outputId": "d8be5ad3-33f4-4922-e00d-99db5b14c6a0"
      },
      "outputs": [
        {
          "name": "stdout",
          "output_type": "stream",
          "text": [
            "apalagi yg jualan spotify premium banyak banget lamalama bikin risih\n",
            "[1, 3, 1, 1, 1, 62, 31, 1, 56, 50]\n"
          ]
        }
      ],
      "source": [
        "print(df['tweet'][10])\n",
        "print(data_seq[10])"
      ]
    },
    {
      "cell_type": "markdown",
      "id": "7182169c-1be1-4f76-aa94-71e93eac77fc",
      "metadata": {
        "id": "7182169c-1be1-4f76-aa94-71e93eac77fc"
      },
      "source": [
        "## Add padding & Truncation"
      ]
    },
    {
      "cell_type": "code",
      "execution_count": 24,
      "id": "a4c16583-8e21-4a66-a07b-0a6b4caef10e",
      "metadata": {
        "id": "a4c16583-8e21-4a66-a07b-0a6b4caef10e"
      },
      "outputs": [],
      "source": [
        "# Proses mengubah data dari sequence menjadi array bentuk 2D Numpy (num_samples, num_timesteps). \n",
        "PADDING = 'post'        # Berikan padding untuk setiap sequences. Terdapat dua pilihan dalam melakukan padding 'pre' or 'post'.\n",
        "TRUNCATING = 'post'     # Menghapus token dari sequences yang lebih besar dari max_lenght. Terdapat dua pilihan dalam melakukan truncanting 'pre' or 'post'.\n",
        "\n",
        "data_pad = pad_sequences(data_seq, maxlen=MAX_SEQ_LENGTH, padding=PADDING, truncating=TRUNCATING)"
      ]
    },
    {
      "cell_type": "code",
      "execution_count": 25,
      "id": "59c1587a-a2eb-48db-92a2-7f8ca3003bfe",
      "metadata": {
        "colab": {
          "base_uri": "https://localhost:8080/"
        },
        "id": "59c1587a-a2eb-48db-92a2-7f8ca3003bfe",
        "outputId": "0f2d3660-7b94-40da-e7eb-5c8881d192f6"
      },
      "outputs": [
        {
          "name": "stdout",
          "output_type": "stream",
          "text": [
            "apalagi yg jualan spotify premium banyak banget lamalama bikin risih\n",
            "[1, 3, 1, 1, 1, 62, 31, 1, 56, 50]\n",
            "[ 1  3  1  1  1 62 31  1 56 50  0  0  0  0  0  0  0  0  0  0  0  0  0  0\n",
            "  0  0  0  0  0  0  0  0  0  0  0  0  0  0  0  0  0  0  0  0  0  0  0  0\n",
            "  0  0  0  0  0  0  0  0  0  0  0  0  0  0  0  0  0  0  0  0  0  0  0  0\n",
            "  0  0  0  0  0  0  0  0]\n"
          ]
        }
      ],
      "source": [
        "print(df['tweet'][10])\n",
        "print(data_seq[10])\n",
        "print(data_pad[10])"
      ]
    },
    {
      "cell_type": "code",
      "execution_count": 26,
      "id": "d4ab9d67-1fbc-4031-80dd-ad3df3768b92",
      "metadata": {
        "colab": {
          "base_uri": "https://localhost:8080/"
        },
        "id": "d4ab9d67-1fbc-4031-80dd-ad3df3768b92",
        "outputId": "c6132e4e-2084-4463-84a3-731e9fe498da"
      },
      "outputs": [
        {
          "data": {
            "text/plain": [
              "(2243, 80)"
            ]
          },
          "execution_count": 26,
          "metadata": {},
          "output_type": "execute_result"
        }
      ],
      "source": [
        "data_pad.shape"
      ]
    },
    {
      "cell_type": "markdown",
      "id": "d6dad3ff-1bea-488b-a240-e66adaedc29d",
      "metadata": {
        "id": "d6dad3ff-1bea-488b-a240-e66adaedc29d"
      },
      "source": [
        "## Create Embedding Matrix"
      ]
    },
    {
      "cell_type": "code",
      "execution_count": 27,
      "id": "3e4548d2-3d62-4ac6-9660-5640f8c38599",
      "metadata": {
        "id": "3e4548d2-3d62-4ac6-9660-5640f8c38599"
      },
      "outputs": [],
      "source": [
        "EMBEDDING_MATRIX = np.zeros(shape=(WV_DICTIONARY_SIZE, EMBEDDING_SIZE))\n",
        "\n",
        "for word, i in tokenizer.word_index.items():\n",
        "    embed_vector = word2vec_dict.get(word)\n",
        "    if embed_vector is not None:               # Word is in the vocabulary learned by the w2v model\n",
        "        EMBEDDING_MATRIX[i] = embed_vector"
      ]
    },
    {
      "cell_type": "code",
      "execution_count": 28,
      "id": "24bb1134-d5db-4e75-9ca8-8f4c8f73f4e4",
      "metadata": {
        "colab": {
          "base_uri": "https://localhost:8080/"
        },
        "id": "24bb1134-d5db-4e75-9ca8-8f4c8f73f4e4",
        "outputId": "dbcb9bc8-ce99-4b0e-88e8-f5b71a56b687"
      },
      "outputs": [
        {
          "name": "stdout",
          "output_type": "stream",
          "text": [
            "33\n"
          ]
        }
      ],
      "source": [
        "print(WV_DICTIONARY.get('saya'))"
      ]
    },
    {
      "cell_type": "code",
      "execution_count": 29,
      "id": "bc0d7357-a633-4b3a-a39c-badca10dc53f",
      "metadata": {
        "colab": {
          "base_uri": "https://localhost:8080/"
        },
        "id": "bc0d7357-a633-4b3a-a39c-badca10dc53f",
        "outputId": "29d707a2-c0ca-4f0f-dd37-bef0c1d7c896"
      },
      "outputs": [
        {
          "name": "stdout",
          "output_type": "stream",
          "text": [
            "[ 2.01440174e-02  2.78031111e-01 -1.47899911e-01 -3.21347594e-01\n",
            "  1.17490798e-01  1.11041553e-01 -1.31117880e-01  1.83312431e-01\n",
            " -6.62141889e-02 -1.24978153e-02 -2.10252292e-02 -1.32364005e-01\n",
            " -8.29517841e-02 -1.67127311e-01  9.77338478e-02 -1.27265200e-01\n",
            "  8.83917883e-02 -2.80060172e-01  3.59284766e-02 -1.56981826e-01\n",
            "  2.36393705e-01  1.66466787e-01 -2.39523426e-01  1.99188903e-01\n",
            " -1.79063857e-01  3.48030746e-01  2.03895763e-01  1.55139919e-02\n",
            " -3.47288162e-01  1.68919742e-01  3.43442596e-02  3.60827804e-01\n",
            " -2.06457093e-01  1.76926151e-01  4.50417101e-02 -2.74600744e-01\n",
            " -1.97765306e-01 -1.92809865e-01 -1.37790009e-01  2.68655986e-01\n",
            "  1.75936669e-01  4.79262531e-01 -6.85526654e-02 -1.91018924e-01\n",
            " -3.81934762e-01 -3.37018132e-01 -5.60359061e-01 -5.41820414e-02\n",
            "  2.57673394e-02 -1.74287662e-01 -2.82477238e-03  1.02792293e-01\n",
            " -1.24939367e-01  6.62392825e-02  2.85071522e-01  6.91761002e-02\n",
            " -3.74869317e-01  4.32981253e-02  1.43285617e-01  1.22272231e-01\n",
            " -2.10717157e-01 -1.09732337e-01  1.17341779e-01  2.39560694e-01\n",
            "  6.19564056e-02 -1.31690532e-01 -1.16281182e-01 -3.19395006e-01\n",
            "  6.59232214e-02 -1.19930334e-01 -4.50480431e-01  3.34982485e-01\n",
            "  1.18800685e-01  2.09816560e-01 -3.91874276e-02  1.17619164e-01\n",
            "  8.10692981e-02 -3.48682441e-02 -1.15923859e-01 -2.57717401e-01\n",
            "  2.92718560e-01  4.80931550e-01  7.10676983e-02 -6.78389743e-02\n",
            " -3.62313353e-02  5.43340780e-02  2.77777702e-01 -2.97097892e-01\n",
            "  1.36916682e-01 -1.28472978e-02 -6.48054704e-02 -3.52765471e-01\n",
            "  1.41109407e-01 -6.00316189e-02  1.94213334e-02  1.56710610e-01\n",
            " -8.63550883e-03  4.98622991e-02 -9.70107093e-02  5.66760004e-01\n",
            " -1.42874822e-01  1.56917825e-01 -3.84943709e-02 -1.18762322e-01\n",
            " -2.26077422e-01  3.56565081e-02 -2.49212995e-01  1.89570799e-01\n",
            " -4.08071250e-01  1.17153123e-01 -4.83971201e-02  3.17671508e-01\n",
            " -3.99980545e-01  1.52520046e-01 -1.11545488e-01 -2.93957759e-02\n",
            "  4.62182052e-02 -1.02634868e-03  3.28481078e-01  2.31038034e-01\n",
            " -1.66777179e-01  1.71557352e-01 -2.45362632e-02  3.35294753e-01\n",
            "  6.19384423e-02  6.55380040e-02 -2.74898142e-01  4.15765978e-02\n",
            " -3.57513167e-02  1.78030550e-01  1.40550658e-01 -2.90508643e-02\n",
            " -1.50253043e-01  6.44827336e-02  2.52788544e-01 -3.88501525e-01\n",
            "  1.90776631e-01 -1.28494715e-02  5.03550135e-02 -2.94754803e-01\n",
            "  6.56284094e-02  3.19937244e-02 -2.96037465e-01 -1.89476490e-01\n",
            "  9.55825523e-02  7.58025795e-02  7.47318417e-02  3.68149243e-02\n",
            " -2.55970031e-01  2.43069559e-01 -4.34085667e-01  1.69310570e-02\n",
            "  7.27773011e-02  2.69262604e-02 -8.64839554e-03 -2.18615711e-01\n",
            "  1.65376142e-01  8.86280462e-03 -3.16920966e-01  2.42235810e-01\n",
            " -7.75274113e-02 -1.04093403e-01  3.69938053e-02 -1.52433291e-01\n",
            " -6.50546849e-01 -1.63626239e-01 -1.96712255e-01 -7.64869899e-02\n",
            "  3.21173072e-01  3.08501720e-01  3.85764122e-01 -5.53529486e-02\n",
            "  1.03583857e-01 -9.49673951e-02  3.65091205e-01 -2.04465151e-01\n",
            "  1.73505217e-01  2.23573148e-01  1.23168500e-02 -1.01925775e-01\n",
            "  1.88956428e-02  2.09158078e-01  3.10606688e-01 -8.22362825e-02\n",
            " -1.25448883e-01  1.85766444e-01  4.17018145e-01 -6.43662065e-02\n",
            "  2.28001475e-02 -3.10940091e-02 -6.14674995e-03  4.42006409e-01\n",
            "  5.28398573e-01  2.05486163e-01  1.02504760e-01  4.30568773e-03\n",
            " -1.00027109e-02 -1.82541072e-01  1.18848018e-01  2.15710104e-01\n",
            " -2.19957441e-01  3.31737399e-01  1.16851084e-01 -1.09724840e-02\n",
            " -3.84115726e-01 -2.64740646e-01 -2.13613942e-01  1.38257399e-01\n",
            " -2.33463243e-01  1.02074593e-01  4.99042012e-02 -4.55840617e-01\n",
            "  6.44835055e-01  5.15840352e-01  3.81548971e-01 -5.11275530e-01\n",
            " -1.24219589e-01  1.56230584e-01 -4.62446846e-02  1.82301581e-01\n",
            " -5.41925319e-02  2.49244466e-01 -2.28138059e-01  1.46189794e-01\n",
            " -1.65064380e-01 -2.66750932e-01  2.88861543e-01 -1.44129664e-01\n",
            "  4.39774990e-01 -6.10197138e-04 -1.43808782e-01 -1.20376021e-01\n",
            " -3.19993943e-01  1.42457724e-01 -4.97255147e-01 -6.32114187e-02\n",
            "  1.25948712e-01 -2.05302939e-01 -1.32998332e-01 -2.63312072e-01\n",
            "  1.19021624e-01 -1.31216615e-01 -6.84364736e-02 -2.61045038e-03\n",
            " -4.38451581e-02  2.89174691e-02 -8.95213559e-02 -1.44497249e-02\n",
            "  5.26783913e-02  2.30955899e-01 -1.81311831e-01 -1.73646271e-01\n",
            " -3.39313477e-01  1.36917189e-01  1.20840766e-01 -3.95574957e-01\n",
            " -1.31908329e-02  1.33629307e-01 -1.56449527e-01 -1.80112064e-01\n",
            " -1.71311319e-01 -1.80855021e-01 -1.42418623e-01 -9.72459391e-02\n",
            " -1.25641689e-01  1.95838600e-01  1.30613759e-01  5.17906770e-02\n",
            " -6.69360459e-02  1.55625254e-01 -2.43434563e-01 -3.51937473e-01\n",
            " -2.91530311e-01  3.39311332e-01  6.30711094e-02  2.72128612e-01\n",
            " -1.24856927e-01  6.80159628e-02  1.90412521e-01 -1.80849940e-01\n",
            "  1.84221745e-01  1.69419572e-01 -1.95391942e-02 -9.27941129e-02\n",
            "  1.60584539e-01 -2.02672482e-01  7.28496835e-02  2.84618974e-01\n",
            " -5.31045973e-01 -1.14709251e-01  1.95460357e-02 -2.28817120e-01\n",
            " -8.17149356e-02  4.42413628e-01  7.10556805e-01 -2.04195261e-01\n",
            "  5.05957156e-02 -2.12934956e-01 -5.82947508e-02  1.32861122e-01]\n"
          ]
        }
      ],
      "source": [
        "print(EMBEDDING_MATRIX[33])"
      ]
    },
    {
      "cell_type": "code",
      "execution_count": 30,
      "id": "7BTbLj8F5yyL",
      "metadata": {
        "colab": {
          "base_uri": "https://localhost:8080/"
        },
        "id": "7BTbLj8F5yyL",
        "outputId": "bccbc236-b0e8-4063-db21-7441d8a14881"
      },
      "outputs": [
        {
          "data": {
            "text/plain": [
              "(8831, 300)"
            ]
          },
          "execution_count": 30,
          "metadata": {},
          "output_type": "execute_result"
        }
      ],
      "source": [
        "EMBEDDING_MATRIX.shape"
      ]
    },
    {
      "cell_type": "markdown",
      "id": "b64e75c2-f657-4e8d-998b-84ddebe4317a",
      "metadata": {
        "id": "b64e75c2-f657-4e8d-998b-84ddebe4317a"
      },
      "source": [
        "# 07 Train & Test Data Splitting"
      ]
    },
    {
      "cell_type": "code",
      "execution_count": 31,
      "id": "24fc5d77-1f3d-40cd-8384-f2e22fbe4858",
      "metadata": {
        "id": "24fc5d77-1f3d-40cd-8384-f2e22fbe4858"
      },
      "outputs": [],
      "source": [
        "NUM_CLASS = len(df['label_encode'].unique())\n",
        "\n",
        "Y = to_categorical(df['label_encode'], num_classes=NUM_CLASS)  # Lakukan one-hot encoding pada label (y)"
      ]
    },
    {
      "cell_type": "code",
      "execution_count": 32,
      "id": "0761adda-6df1-466b-ad04-c1c43459ff21",
      "metadata": {
        "colab": {
          "base_uri": "https://localhost:8080/"
        },
        "id": "0761adda-6df1-466b-ad04-c1c43459ff21",
        "outputId": "af2c23d0-8e86-40a1-f6ec-69e7980e6e5f"
      },
      "outputs": [
        {
          "data": {
            "text/plain": [
              "((1794, 80), (449, 80), (1794, 6), (449, 6))"
            ]
          },
          "execution_count": 32,
          "metadata": {},
          "output_type": "execute_result"
        }
      ],
      "source": [
        "X_train, X_test, y_train, y_test = train_test_split(data_pad, Y, test_size=0.20, stratify=Y, random_state=SEED)\n",
        "X_train.shape, X_test.shape, y_train.shape, y_test.shape"
      ]
    },
    {
      "cell_type": "markdown",
      "id": "af13d223-d8c9-43ac-9c2d-8352f980f022",
      "metadata": {
        "id": "af13d223-d8c9-43ac-9c2d-8352f980f022"
      },
      "source": [
        "# 08 Define Model (Bidirectional GRU)"
      ]
    },
    {
      "cell_type": "markdown",
      "id": "HL4PZ8cdQb1P",
      "metadata": {
        "id": "HL4PZ8cdQb1P"
      },
      "source": [
        "## Architecture"
      ]
    },
    {
      "cell_type": "code",
      "execution_count": 33,
      "id": "aff3f131-58dc-4207-b051-e9b2f67b8f38",
      "metadata": {
        "id": "aff3f131-58dc-4207-b051-e9b2f67b8f38"
      },
      "outputs": [],
      "source": [
        "# https://www.tensorflow.org/api_docs/python/tf/keras/layers/Bidirectional\n",
        "# https://www.tensorflow.org/api_docs/python/tf/keras/layers/GRU\n",
        "\n",
        "UNITS = 64\n",
        "\n",
        "tf.keras.backend.clear_session()\n",
        "\n",
        "model = Sequential()\n",
        "model.add(Embedding(\n",
        "    input_dim = WV_DICTIONARY_SIZE,                                \n",
        "    output_dim = EMBEDDING_SIZE,                           \n",
        "    input_length = MAX_SEQ_LENGTH,  \n",
        "    trainable = False,\n",
        "    embeddings_initializer=Constant(EMBEDDING_MATRIX)))\n",
        "model.add(Bidirectional(GRU(UNITS*2, dropout=0.5, return_sequences=False)))\n",
        "model.add(Dense(UNITS, activation='relu'))\n",
        "model.add(Dropout(0.5))\n",
        "model.add(Dense(NUM_CLASS, activation='softmax'))"
      ]
    },
    {
      "cell_type": "code",
      "execution_count": 34,
      "id": "512cae56-10ae-4c03-8aee-2706eb27632f",
      "metadata": {
        "colab": {
          "base_uri": "https://localhost:8080/"
        },
        "id": "512cae56-10ae-4c03-8aee-2706eb27632f",
        "outputId": "7eddd8da-0581-420f-d0c8-ad78a9a4ae70"
      },
      "outputs": [
        {
          "name": "stdout",
          "output_type": "stream",
          "text": [
            "Model: \"sequential\"\n",
            "_________________________________________________________________\n",
            " Layer (type)                Output Shape              Param #   \n",
            "=================================================================\n",
            " embedding (Embedding)       (None, 80, 300)           2649300   \n",
            "                                                                 \n",
            " bidirectional (Bidirectiona  (None, 256)              330240    \n",
            " l)                                                              \n",
            "                                                                 \n",
            " dense (Dense)               (None, 64)                16448     \n",
            "                                                                 \n",
            " dropout (Dropout)           (None, 64)                0         \n",
            "                                                                 \n",
            " dense_1 (Dense)             (None, 6)                 390       \n",
            "                                                                 \n",
            "=================================================================\n",
            "Total params: 2,996,378\n",
            "Trainable params: 347,078\n",
            "Non-trainable params: 2,649,300\n",
            "_________________________________________________________________\n"
          ]
        }
      ],
      "source": [
        "model.summary()"
      ]
    },
    {
      "cell_type": "code",
      "execution_count": 35,
      "id": "nkvBqETlErwO",
      "metadata": {
        "colab": {
          "base_uri": "https://localhost:8080/",
          "height": 605
        },
        "id": "nkvBqETlErwO",
        "outputId": "61de8340-d8dd-4df3-99a2-faaffd7832bb"
      },
      "outputs": [
        {
          "data": {
            "image/png": "[encoded data removed]",
            "text/plain": [
              "<IPython.core.display.Image object>"
            ]
          },
          "execution_count": 35,
          "metadata": {},
          "output_type": "execute_result"
        }
      ],
      "source": [
        "plot_model(model, show_shapes=True, show_layer_activations=True, show_dtype=False, dpi=90, to_file=f'{FOLDER_PATH}/model-plot/{MODEL}-model.png')"
      ]
    },
    {
      "cell_type": "markdown",
      "id": "wgQN-l4rQgRq",
      "metadata": {
        "id": "wgQN-l4rQgRq"
      },
      "source": [
        "## Compile"
      ]
    },
    {
      "cell_type": "code",
      "execution_count": 36,
      "id": "Ny3DK1On_-OP",
      "metadata": {
        "id": "Ny3DK1On_-OP"
      },
      "outputs": [],
      "source": [
        "# https://www.tensorflow.org/api_docs/python/tf/keras/metrics\n",
        "\n",
        "METRICS = [\n",
        "           tf.keras.metrics.CategoricalAccuracy(name='accuracy'),\n",
        "           tf.keras.metrics.Precision(name='precision'),\n",
        "           tf.keras.metrics.Recall(name='recall'),\n",
        "]\n",
        "\n",
        "LEARNING_RATE = 0.001"
      ]
    },
    {
      "cell_type": "code",
      "execution_count": 37,
      "id": "3fd3ef04-ea26-4988-a4fb-0cd63be04a11",
      "metadata": {
        "id": "3fd3ef04-ea26-4988-a4fb-0cd63be04a11"
      },
      "outputs": [],
      "source": [
        "OPTIMIZER = Adam(learning_rate=LEARNING_RATE)\n",
        "LOSS_FUNCTION = CategoricalCrossentropy(name='categorical_crossentropy')\n",
        "\n",
        "model.compile(loss=LOSS_FUNCTION, optimizer=OPTIMIZER, metrics=METRICS)"
      ]
    },
    {
      "cell_type": "markdown",
      "id": "ac8708d7-5d3f-49b6-b28a-5a4969e160f1",
      "metadata": {
        "id": "ac8708d7-5d3f-49b6-b28a-5a4969e160f1"
      },
      "source": [
        "# 09 Early Stopping & Model Checkpoint"
      ]
    },
    {
      "cell_type": "code",
      "execution_count": 38,
      "id": "14a556fb-a4fa-46c2-85b2-f1d7731ac148",
      "metadata": {
        "id": "14a556fb-a4fa-46c2-85b2-f1d7731ac148"
      },
      "outputs": [],
      "source": [
        "# Early stopping criteria\n",
        "early_stopping = EarlyStopping(monitor='val_loss', mode='auto', verbose=1, patience=5)\n",
        "\n",
        "# Path to model checkpoint\n",
        "checkpoint_dir = f'{FOLDER_PATH}/model-checkpoint/{MODEL}/cp.ckpt'\n",
        "model_checkpoint = ModelCheckpoint(checkpoint_dir, monitor='val_accuracy', save_weights_only=True, verbose=1, save_freq='epoch', save_best_only=True)"
      ]
    },
    {
      "cell_type": "code",
      "execution_count": 39,
      "id": "SfBzZKiLA7k5",
      "metadata": {
        "colab": {
          "base_uri": "https://localhost:8080/"
        },
        "id": "SfBzZKiLA7k5",
        "outputId": "ff70cdff-02c8-4f5e-d2c7-d91ecc838337"
      },
      "outputs": [
        {
          "name": "stdout",
          "output_type": "stream",
          "text": [
            "model-baseline-bilstm/model-log/id-tweet-fasstext-bigru/20220715-180025\n"
          ]
        }
      ],
      "source": [
        "# Path to model log\n",
        "log_dir = f'{FOLDER_PATH}/model-log/{MODEL}/' + datetime.datetime.now().strftime('%Y%m%d-%H%M%S')\n",
        "print(log_dir)"
      ]
    },
    {
      "cell_type": "code",
      "execution_count": 40,
      "id": "4000c916-de1c-4eb8-86c4-9118bb24888e",
      "metadata": {
        "id": "4000c916-de1c-4eb8-86c4-9118bb24888e"
      },
      "outputs": [],
      "source": [
        "tensorboard_callback = TensorBoard(log_dir=log_dir ,update_freq='epoch', histogram_freq=1, embeddings_freq=1)"
      ]
    },
    {
      "cell_type": "markdown",
      "id": "345bb69d-1998-4891-ae17-47932870a21d",
      "metadata": {
        "id": "345bb69d-1998-4891-ae17-47932870a21d"
      },
      "source": [
        "# 10 Training"
      ]
    },
    {
      "cell_type": "code",
      "execution_count": 41,
      "id": "bdd7ff34-3e39-4c62-a25d-af2b1e1e35e7",
      "metadata": {
        "id": "bdd7ff34-3e39-4c62-a25d-af2b1e1e35e7"
      },
      "outputs": [],
      "source": [
        "EPOCHS = 10\n",
        "BATCH_SIZE = 16\n",
        "\n",
        "# Config for wandb\n",
        "config = {\n",
        "    'type': 'baseline',\n",
        "    'architecture': 'BiGRU',\n",
        "    'word_embedding': 'FastText-ID-tweet-300',\n",
        "    'dataset': 'indo-tweet-emotion',\n",
        "    'learning_rate': LEARNING_RATE,\n",
        "    'batch_size': BATCH_SIZE,\n",
        "    'epochs': EPOCHS,\n",
        "    'loss_function': LOSS_FUNCTION.name,\n",
        "    'optimizer': OPTIMIZER._name\n",
        "}"
      ]
    },
    {
      "cell_type": "code",
      "execution_count": 42,
      "id": "50c487c3-da7b-4161-8e63-f8edc3ee6a44",
      "metadata": {
        "colab": {
          "base_uri": "https://localhost:8080/",
          "height": 1000,
          "referenced_widgets": [
            "1031502737fc46ed99f127949b822b30",
            "a6887b0ba2154665b0bb9affb7bd06d5",
            "bca8b8b35ad04c10834b88642de88abb",
            "c92c6a2a4fde4455a786784c749caef6",
            "5d29b0296c66433ebae837561b3688e7",
            "0c729a419a814c3a8743f5fcd84c299d",
            "cbad64947036429280fc0d2cbf711076",
            "2a850a100c5f4228bca2e70250359a5a"
          ]
        },
        "id": "50c487c3-da7b-4161-8e63-f8edc3ee6a44",
        "outputId": "92c2f2a2-a816-406f-f606-cecabdcdbd9b",
        "tags": []
      },
      "outputs": [
        {
          "name": "stderr",
          "output_type": "stream",
          "text": [
            "\u001b[34m\u001b[1mwandb\u001b[0m: Currently logged in as: \u001b[33mindoemobert\u001b[0m. Use \u001b[1m`wandb login --relogin`\u001b[0m to force relogin\n"
          ]
        },
        {
          "data": {
            "text/html": [
              "Tracking run with wandb version 0.12.21"
            ],
            "text/plain": [
              "<IPython.core.display.HTML object>"
            ]
          },
          "metadata": {},
          "output_type": "display_data"
        },
        {
          "data": {
            "text/html": [
              "Run data is saved locally in <code>/content/drive/MyDrive/Code/tesis/wandb/run-20220715_180027-2o5r9bsm</code>"
            ],
            "text/plain": [
              "<IPython.core.display.HTML object>"
            ]
          },
          "metadata": {},
          "output_type": "display_data"
        },
        {
          "data": {
            "text/html": [
              "Syncing run <strong><a href=\"https://wandb.ai/indoemobert/baseline-bilstm/runs/2o5r9bsm\" target=\"_blank\">id-tweet-fasstext-bigru</a></strong> to <a href=\"https://wandb.ai/indoemobert/baseline-bilstm\" target=\"_blank\">Weights & Biases</a> (<a href=\"https://wandb.me/run\" target=\"_blank\">docs</a>)<br/>"
            ],
            "text/plain": [
              "<IPython.core.display.HTML object>"
            ]
          },
          "metadata": {},
          "output_type": "display_data"
        },
        {
          "name": "stdout",
          "output_type": "stream",
          "text": [
            "WARNING:tensorflow:From /usr/local/lib/python3.7/dist-packages/tensorflow/python/profiler/internal/flops_registry.py:138: tensor_shape_from_node_def_name (from tensorflow.python.framework.graph_util_impl) is deprecated and will be removed in a future version.\n",
            "Instructions for updating:\n",
            "Use `tf.compat.v1.graph_util.tensor_shape_from_node_def_name`\n",
            "Epoch 1/10\n",
            "  4/113 [>.............................] - ETA: 2s - loss: 1.8298 - accuracy: 0.1250 - precision: 0.0000e+00 - recall: 0.0000e+00   WARNING:tensorflow:Callback method `on_train_batch_end` is slow compared to the batch time (batch time: 0.0126s vs `on_train_batch_end` time: 0.0219s). Check your callbacks.\n",
            "113/113 [==============================] - ETA: 0s - loss: 1.6184 - accuracy: 0.3372 - precision: 0.7705 - recall: 0.0524\n",
            "Epoch 1: val_accuracy improved from -inf to 0.65479, saving model to model-baseline-bilstm/model-checkpoint/id-tweet-fasstext-bigru/cp.ckpt\n",
            "113/113 [==============================] - 17s 69ms/step - loss: 1.6184 - accuracy: 0.3372 - precision: 0.7705 - recall: 0.0524 - val_loss: 1.0651 - val_accuracy: 0.6548 - val_precision: 0.9143 - val_recall: 0.3563 - _timestamp: 1657908051.0000 - _runtime: 24.0000\n",
            "Epoch 2/10\n",
            "113/113 [==============================] - ETA: 0s - loss: 1.0707 - accuracy: 0.6187 - precision: 0.8133 - recall: 0.4370\n",
            "Epoch 2: val_accuracy improved from 0.65479 to 0.75278, saving model to model-baseline-bilstm/model-checkpoint/id-tweet-fasstext-bigru/cp.ckpt\n",
            "113/113 [==============================] - 3s 27ms/step - loss: 1.0707 - accuracy: 0.6187 - precision: 0.8133 - recall: 0.4370 - val_loss: 0.7355 - val_accuracy: 0.7528 - val_precision: 0.8567 - val_recall: 0.6793 - _timestamp: 1657908054.0000 - _runtime: 27.0000\n",
            "Epoch 3/10\n",
            "112/113 [============================>.] - ETA: 0s - loss: 0.7926 - accuracy: 0.7310 - precision: 0.8348 - recall: 0.6289\n",
            "Epoch 3: val_accuracy improved from 0.75278 to 0.83519, saving model to model-baseline-bilstm/model-checkpoint/id-tweet-fasstext-bigru/cp.ckpt\n",
            "113/113 [==============================] - 3s 27ms/step - loss: 0.7940 - accuracy: 0.7308 - precision: 0.8343 - recall: 0.6288 - val_loss: 0.6586 - val_accuracy: 0.8352 - val_precision: 0.8731 - val_recall: 0.7661 - _timestamp: 1657908057.0000 - _runtime: 30.0000\n",
            "Epoch 4/10\n",
            "110/113 [============================>.] - ETA: 0s - loss: 0.7057 - accuracy: 0.7739 - precision: 0.8458 - recall: 0.6920\n",
            "Epoch 4: val_accuracy did not improve from 0.83519\n",
            "113/113 [==============================] - 3s 26ms/step - loss: 0.7057 - accuracy: 0.7737 - precision: 0.8467 - recall: 0.6929 - val_loss: 0.7061 - val_accuracy: 0.7884 - val_precision: 0.8171 - val_recall: 0.7661 - _timestamp: 1657908060.0000 - _runtime: 33.0000\n",
            "Epoch 5/10\n",
            "110/113 [============================>.] - ETA: 0s - loss: 0.6570 - accuracy: 0.7955 - precision: 0.8532 - recall: 0.7398\n",
            "Epoch 5: val_accuracy did not improve from 0.83519\n",
            "113/113 [==============================] - 3s 26ms/step - loss: 0.6550 - accuracy: 0.7965 - precision: 0.8531 - recall: 0.7414 - val_loss: 0.5723 - val_accuracy: 0.8263 - val_precision: 0.8759 - val_recall: 0.8018 - _timestamp: 1657908063.0000 - _runtime: 36.0000\n",
            "Epoch 6/10\n",
            "111/113 [============================>.] - ETA: 0s - loss: 0.6329 - accuracy: 0.7950 - precision: 0.8579 - recall: 0.7410\n",
            "Epoch 6: val_accuracy did not improve from 0.83519\n",
            "113/113 [==============================] - 3s 25ms/step - loss: 0.6327 - accuracy: 0.7949 - precision: 0.8575 - recall: 0.7414 - val_loss: 0.5785 - val_accuracy: 0.8174 - val_precision: 0.8750 - val_recall: 0.7951 - _timestamp: 1657908066.0000 - _runtime: 39.0000\n",
            "Epoch 7/10\n",
            "112/113 [============================>.] - ETA: 0s - loss: 0.6031 - accuracy: 0.8075 - precision: 0.8574 - recall: 0.7617\n",
            "Epoch 7: val_accuracy did not improve from 0.83519\n",
            "113/113 [==============================] - 3s 26ms/step - loss: 0.6026 - accuracy: 0.8077 - precision: 0.8576 - recall: 0.7620 - val_loss: 0.5760 - val_accuracy: 0.8330 - val_precision: 0.8699 - val_recall: 0.8040 - _timestamp: 1657908069.0000 - _runtime: 42.0000\n",
            "Epoch 8/10\n",
            "110/113 [============================>.] - ETA: 0s - loss: 0.5994 - accuracy: 0.8153 - precision: 0.8624 - recall: 0.7653\n",
            "Epoch 8: val_accuracy improved from 0.83519 to 0.83742, saving model to model-baseline-bilstm/model-checkpoint/id-tweet-fasstext-bigru/cp.ckpt\n",
            "113/113 [==============================] - 3s 27ms/step - loss: 0.5925 - accuracy: 0.8183 - precision: 0.8651 - recall: 0.7687 - val_loss: 0.5714 - val_accuracy: 0.8374 - val_precision: 0.8684 - val_recall: 0.8085 - _timestamp: 1657908072.0000 - _runtime: 45.0000\n",
            "Epoch 9/10\n",
            "111/113 [============================>.] - ETA: 0s - loss: 0.5794 - accuracy: 0.8187 - precision: 0.8691 - recall: 0.7663\n",
            "Epoch 9: val_accuracy did not improve from 0.83742\n",
            "113/113 [==============================] - 3s 26ms/step - loss: 0.5785 - accuracy: 0.8188 - precision: 0.8686 - recall: 0.7664 - val_loss: 0.5600 - val_accuracy: 0.8307 - val_precision: 0.8668 - val_recall: 0.7973 - _timestamp: 1657908075.0000 - _runtime: 48.0000\n",
            "Epoch 10/10\n",
            "108/113 [===========================>..] - ETA: 0s - loss: 0.5828 - accuracy: 0.8131 - precision: 0.8618 - recall: 0.7650\n",
            "Epoch 10: val_accuracy did not improve from 0.83742\n",
            "113/113 [==============================] - 3s 26ms/step - loss: 0.5740 - accuracy: 0.8161 - precision: 0.8655 - recall: 0.7676 - val_loss: 0.5795 - val_accuracy: 0.8263 - val_precision: 0.8719 - val_recall: 0.7884 - _timestamp: 1657908078.0000 - _runtime: 51.0000\n"
          ]
        },
        {
          "data": {
            "text/html": [
              "Waiting for W&B process to finish... <strong style=\"color:green\">(success).</strong>"
            ],
            "text/plain": [
              "<IPython.core.display.HTML object>"
            ]
          },
          "metadata": {},
          "output_type": "display_data"
        },
        {
          "data": {
            "application/vnd.jupyter.widget-view+json": {
              "model_id": "1031502737fc46ed99f127949b822b30",
              "version_major": 2,
              "version_minor": 0
            },
            "text/plain": [
              "VBox(children=(Label(value='0.001 MB of 0.001 MB uploaded (0.000 MB deduped)\\r'), FloatProgress(value=1.0, max…"
            ]
          },
          "metadata": {},
          "output_type": "display_data"
        },
        {
          "data": {
            "text/html": [
              "<style>\n",
              "    table.wandb td:nth-child(1) { padding: 0 10px; text-align: left ; width: auto;} td:nth-child(2) {text-align: left ; width: 100%}\n",
              "    .wandb-row { display: flex; flex-direction: row; flex-wrap: wrap; justify-content: flex-start; width: 100% }\n",
              "    .wandb-col { display: flex; flex-direction: column; flex-basis: 100%; flex: 1; padding: 10px; }\n",
              "    </style>\n",
              "<div class=\"wandb-row\"><div class=\"wandb-col\"><h3>Run history:</h3><br/><table class=\"wandb\"><tr><td>accuracy</td><td>▁▅▇▇██████</td></tr><tr><td>epoch</td><td>▁▂▃▃▄▅▆▆▇█</td></tr><tr><td>loss</td><td>█▄▂▂▂▁▁▁▁▁</td></tr><tr><td>precision</td><td>▁▄▆▆▇▇▇███</td></tr><tr><td>recall</td><td>▁▅▇▇██████</td></tr><tr><td>val_accuracy</td><td>▁▅█▆█▇████</td></tr><tr><td>val_loss</td><td>█▃▂▃▁▁▁▁▁▁</td></tr><tr><td>val_precision</td><td>█▄▅▁▅▅▅▅▅▅</td></tr><tr><td>val_recall</td><td>▁▆▇▇██████</td></tr></table><br/></div><div class=\"wandb-col\"><h3>Run summary:</h3><br/><table class=\"wandb\"><tr><td>GFLOPS</td><td>4e-05</td></tr><tr><td>accuracy</td><td>0.81605</td></tr><tr><td>best_epoch</td><td>8</td></tr><tr><td>best_val_loss</td><td>0.55998</td></tr><tr><td>epoch</td><td>9</td></tr><tr><td>loss</td><td>0.57397</td></tr><tr><td>precision</td><td>0.86549</td></tr><tr><td>recall</td><td>0.76756</td></tr><tr><td>val_accuracy</td><td>0.82628</td></tr><tr><td>val_loss</td><td>0.57945</td></tr><tr><td>val_precision</td><td>0.87192</td></tr><tr><td>val_recall</td><td>0.78842</td></tr></table><br/></div></div>"
            ],
            "text/plain": [
              "<IPython.core.display.HTML object>"
            ]
          },
          "metadata": {},
          "output_type": "display_data"
        },
        {
          "data": {
            "text/html": [
              "Synced <strong style=\"color:#cdcd00\">id-tweet-fasstext-bigru</strong>: <a href=\"https://wandb.ai/indoemobert/baseline-bilstm/runs/2o5r9bsm\" target=\"_blank\">https://wandb.ai/indoemobert/baseline-bilstm/runs/2o5r9bsm</a><br/>Synced 5 W&B file(s), 1 media file(s), 0 artifact file(s) and 0 other file(s)"
            ],
            "text/plain": [
              "<IPython.core.display.HTML object>"
            ]
          },
          "metadata": {},
          "output_type": "display_data"
        },
        {
          "data": {
            "text/html": [
              "Find logs at: <code>./wandb/run-20220715_180027-2o5r9bsm/logs</code>"
            ],
            "text/plain": [
              "<IPython.core.display.HTML object>"
            ]
          },
          "metadata": {},
          "output_type": "display_data"
        },
        {
          "name": "stdout",
          "output_type": "stream",
          "text": [
            "CPU times: user 52.7 s, sys: 5.65 s, total: 58.3 s\n",
            "Wall time: 1min 4s\n"
          ]
        }
      ],
      "source": [
        "%%time\n",
        "\n",
        "# Initialize wandb \n",
        "wandb.tensorboard.patch(root_logdir=log_dir)\n",
        "wandb_run = wandb.init(project='baseline-bilstm', name=f'{MODEL}', entity='indoemobert', config=config, sync_tensorboard=True)\n",
        "\n",
        "# Training\n",
        "model_history = model.fit(\n",
        "    X_train, \n",
        "    y_train, \n",
        "    epochs=EPOCHS,\n",
        "    batch_size=BATCH_SIZE, \n",
        "    validation_data=(X_test, y_test), \n",
        "    verbose=1, \n",
        "    steps_per_epoch=int(np.ceil(X_train.shape[0] / BATCH_SIZE)),\n",
        "    callbacks=[\n",
        "        # early_stopping, \n",
        "        model_checkpoint,\n",
        "        tensorboard_callback,\n",
        "        WandbCallback(\n",
        "            input_type='text',\n",
        "            training_data=(X_train, y_train),\n",
        "            validation_data=(X_test, y_test),\n",
        "            labels=LABEL_NAME,\n",
        "            monitor='val_loss',\n",
        "            log_best_prefix='best_',\n",
        "            log_gradients=True,\n",
        "            log_weights=True,\n",
        "            save_weights_only=True,\n",
        "            save_model=False\n",
        "        )]\n",
        ")\n",
        "\n",
        "wandb_run.finish()"
      ]
    },
    {
      "cell_type": "code",
      "execution_count": 43,
      "id": "6d6cee9e-aa4d-4173-8379-ad699aae24ba",
      "metadata": {
        "id": "6d6cee9e-aa4d-4173-8379-ad699aae24ba"
      },
      "outputs": [],
      "source": [
        "def plot_metrics(history):\n",
        "  metrics = ['loss', 'accuracy', 'precision', 'recall']\n",
        "  plt.figure(figsize=(12, 10))\n",
        "  for n, metric in enumerate(metrics):\n",
        "    name = metric.replace('_',' ').capitalize()\n",
        "    plt.subplot(2,2,n+1)\n",
        "    plt.plot(history.epoch, history.history[metric], color=colors[0], label='Train')\n",
        "    plt.plot(history.epoch, history.history['val_'+metric], color=colors[0], linestyle='--', label='Validation')\n",
        "    plt.xlabel('Epoch')\n",
        "    plt.ylabel(name)\n",
        "\n",
        "    if metric == 'loss':\n",
        "      plt.ylim([0, plt.ylim()[1]])\n",
        "    else:\n",
        "      plt.ylim([0,1])\n",
        "\n",
        "    plt.legend(loc='lower right');"
      ]
    },
    {
      "cell_type": "code",
      "execution_count": 44,
      "id": "2ba75740-9a75-4722-aee2-70b220527fee",
      "metadata": {
        "colab": {
          "base_uri": "https://localhost:8080/",
          "height": 610
        },
        "id": "2ba75740-9a75-4722-aee2-70b220527fee",
        "outputId": "8385e630-90a7-40b8-b55f-abfcf6d0b2ac"
      },
      "outputs": [
        {
          "data": {
            "image/png": "[encoded data removed]",
            "text/plain": [
              "<Figure size 864x720 with 4 Axes>"
            ]
          },
          "metadata": {
            "needs_background": "light"
          },
          "output_type": "display_data"
        }
      ],
      "source": [
        "plot_metrics(model_history)"
      ]
    },
    {
      "cell_type": "code",
      "execution_count": 45,
      "id": "ilmk1XTu9Xt7",
      "metadata": {
        "colab": {
          "base_uri": "https://localhost:8080/"
        },
        "id": "ilmk1XTu9Xt7",
        "outputId": "dd0dfed8-74fb-4261-fbdb-f4bd4c7fc9aa"
      },
      "outputs": [
        {
          "name": "stdout",
          "output_type": "stream",
          "text": [
            "       loss  accuracy  precision    recall  val_loss  val_accuracy  \\\n",
            "0  1.618392  0.337235   0.770492  0.052397  1.065063      0.654788   \n",
            "1  1.070662  0.618729   0.813278  0.437012  0.735539      0.752784   \n",
            "2  0.794049  0.730769   0.834320  0.628763  0.658592      0.835189   \n",
            "3  0.705722  0.773690   0.846730  0.692865  0.706137      0.788419   \n",
            "4  0.655041  0.796544   0.853111  0.741360  0.572345      0.826281   \n",
            "5  0.632660  0.794872   0.857511  0.741360  0.578489      0.817372   \n",
            "6  0.602579  0.807692   0.857591  0.761984  0.575970      0.832962   \n",
            "7  0.592550  0.818283   0.865119  0.768673  0.571393      0.837416   \n",
            "8  0.578513  0.818841   0.868604  0.766444  0.559985      0.830735   \n",
            "9  0.573966  0.816054   0.865493  0.767559  0.579452      0.826281   \n",
            "\n",
            "   val_precision  val_recall  _timestamp  _runtime  \n",
            "0       0.914286    0.356347  1657908051        24  \n",
            "1       0.856742    0.679287  1657908054        27  \n",
            "2       0.873096    0.766147  1657908057        30  \n",
            "3       0.817102    0.766147  1657908060        33  \n",
            "4       0.875912    0.801782  1657908063        36  \n",
            "5       0.875000    0.795100  1657908066        39  \n",
            "6       0.869880    0.804009  1657908069        42  \n",
            "7       0.868421    0.808463  1657908072        45  \n",
            "8       0.866828    0.797327  1657908075        48  \n",
            "9       0.871921    0.788419  1657908078        51  \n"
          ]
        }
      ],
      "source": [
        "hist_df = pd.DataFrame(model_history.history)\n",
        "print(hist_df)\n",
        "\n",
        "hist_df.to_csv(f'{FOLDER_PATH}/model-history/{MODEL}-{TODAY}.csv')"
      ]
    },
    {
      "cell_type": "code",
      "execution_count": 46,
      "id": "88a1e276-1197-4331-b387-db867bb8a6f2",
      "metadata": {
        "id": "88a1e276-1197-4331-b387-db867bb8a6f2"
      },
      "outputs": [],
      "source": [
        "# save model\n",
        "model.save(f'{FOLDER_PATH}/model-fit/{MODEL}/{MODEL}.h5')"
      ]
    },
    {
      "cell_type": "markdown",
      "id": "f47228a0-2b5c-4ccd-8374-f6606913add2",
      "metadata": {
        "id": "f47228a0-2b5c-4ccd-8374-f6606913add2"
      },
      "source": [
        "# 11 Evaluation"
      ]
    },
    {
      "cell_type": "code",
      "execution_count": 47,
      "id": "4b70a8d2-ac47-47f5-be3a-557e8dfee000",
      "metadata": {
        "colab": {
          "base_uri": "https://localhost:8080/"
        },
        "id": "4b70a8d2-ac47-47f5-be3a-557e8dfee000",
        "outputId": "9deacd77-f870-436b-eaec-c3bc82d3622f"
      },
      "outputs": [
        {
          "name": "stdout",
          "output_type": "stream",
          "text": [
            "15/15 [==============================] - 0s 8ms/step - loss: 0.5795 - accuracy: 0.8263 - precision: 0.8719 - recall: 0.7884\n",
            "Accuracy: 82.63%\n"
          ]
        }
      ],
      "source": [
        "y_pred = np.argmax(model.predict(X_test), axis=1)\n",
        "y_true = np.argmax(y_test, axis=1)\n",
        "\n",
        "loss, accuracy, precision, recall = model.evaluate(X_test, y_test)\n",
        "print(\"Accuracy: %.2f%%\" % (accuracy*100))"
      ]
    },
    {
      "cell_type": "code",
      "execution_count": 48,
      "id": "yDfdvYRmCsxk",
      "metadata": {
        "colab": {
          "base_uri": "https://localhost:8080/",
          "height": 441
        },
        "id": "yDfdvYRmCsxk",
        "outputId": "d1d0ec3c-ab27-4c83-b66f-cc828b786dc7"
      },
      "outputs": [
        {
          "data": {
            "image/png": "[encoded data removed]",
            "text/plain": [
              "<Figure size 576x432 with 2 Axes>"
            ]
          },
          "metadata": {
            "needs_background": "light"
          },
          "output_type": "display_data"
        }
      ],
      "source": [
        "cm = confusion_matrix(y_true, y_pred)\n",
        "\n",
        "plt.figure(figsize=(8, 6))\n",
        "ax = plt.subplot()\n",
        "sns.heatmap(cm, annot=True, fmt='g', ax=ax, cmap='Blues')  # annot=True to annotate cells, ftm='g' to disable scientific notation\n",
        "\n",
        "ax.set_xlabel('Predicted labels')\n",
        "ax.set_ylabel('True labels') \n",
        "ax.set_title('Confusion Matrix')\n",
        "ax.xaxis.set_ticklabels(LABEL_NAME)\n",
        "ax.yaxis.set_ticklabels(LABEL_NAME)\n",
        "plt.tight_layout()"
      ]
    },
    {
      "cell_type": "code",
      "execution_count": 49,
      "id": "4990b17c-b31c-44d7-af33-1c408dc09407",
      "metadata": {
        "colab": {
          "base_uri": "https://localhost:8080/"
        },
        "id": "4990b17c-b31c-44d7-af33-1c408dc09407",
        "outputId": "848a86b0-9be4-49a6-8c53-6833730efd53"
      },
      "outputs": [
        {
          "name": "stdout",
          "output_type": "stream",
          "text": [
            "              precision    recall  f1-score   support\n",
            "\n",
            "       anger       0.78      0.80      0.79        92\n",
            "     disgust       0.97      0.90      0.93        77\n",
            "        fear       0.81      0.93      0.86        69\n",
            "         joy       0.74      0.77      0.76        83\n",
            "     sadness       0.84      0.81      0.82        63\n",
            "    surprise       0.86      0.75      0.80        65\n",
            "\n",
            "    accuracy                           0.83       449\n",
            "   macro avg       0.83      0.83      0.83       449\n",
            "weighted avg       0.83      0.83      0.83       449\n",
            "\n"
          ]
        }
      ],
      "source": [
        "print(classification_report(y_pred, y_true, target_names=LABEL_NAME))"
      ]
    },
    {
      "cell_type": "code",
      "execution_count": 50,
      "id": "z4Mco0KzAIu7",
      "metadata": {
        "id": "z4Mco0KzAIu7"
      },
      "outputs": [],
      "source": [
        "def plot_roc_curve(y_test, y_pred):\n",
        "  \n",
        "  n_classes = len(np.unique(y_test))\n",
        "  y_test = label_binarize(y_test, classes=np.arange(len(LABEL_NAME)))\n",
        "  y_pred = label_binarize(y_pred, classes=np.arange(len(LABEL_NAME)))\n",
        "\n",
        "  # Compute ROC curve and ROC area for each class\n",
        "  fpr = dict()\n",
        "  tpr = dict()\n",
        "  roc_auc = dict()\n",
        "  for i in range(n_classes):\n",
        "    fpr[i], tpr[i], _ = roc_curve(y_test[:, i], y_pred[:, i])\n",
        "    roc_auc[i] = auc(fpr[i], tpr[i])\n",
        "  \n",
        "  # Compute micro-average ROC curve and ROC area\n",
        "  fpr['micro'], tpr['micro'], _ = roc_curve(y_test.ravel(), y_pred.ravel())\n",
        "  roc_auc['micro'] = auc(fpr['micro'], tpr['micro'])\n",
        "\n",
        "  # First aggregate all false positive rates\n",
        "  all_fpr = np.unique(np.concatenate([fpr[i] for i in range(n_classes)]))\n",
        "\n",
        "  # Then interpolate all ROC curves at this points\n",
        "  mean_tpr = np.zeros_like(all_fpr)\n",
        "  for i in range(n_classes):\n",
        "    mean_tpr += np.interp(all_fpr, fpr[i], tpr[i])\n",
        "\n",
        "  # Finally average it and compute AUC\n",
        "  mean_tpr /= n_classes\n",
        "\n",
        "  fpr['macro'] = all_fpr\n",
        "  tpr['macro'] = mean_tpr\n",
        "  roc_auc['macro'] = auc(fpr['macro'], tpr['macro'])\n",
        "\n",
        "  # Plot all ROC curves\n",
        "  plt.figure(figsize=(10, 7))\n",
        "  lw = 2\n",
        "  plt.plot(fpr['micro'], tpr['micro'],\n",
        "    label='micro-average ROC curve (area = {0:0.2f})'.format(roc_auc['micro']),\n",
        "    color='deeppink', linestyle=':', linewidth=4,)\n",
        "\n",
        "  plt.plot(fpr['macro'], tpr['macro'],\n",
        "    label='macro-average ROC curve (area = {0:0.2f})'.format(roc_auc['macro']),\n",
        "    color='navy', linestyle=':', linewidth=4,)\n",
        "\n",
        "  colors = cycle(['aqua', 'darkorange', 'darkgreen', 'yellow', 'blue', 'red'])\n",
        "  for i, color, label in zip(range(n_classes), colors, LABEL_NAME):\n",
        "    plt.plot(fpr[i], tpr[i], color=color, lw=lw,\n",
        "        label=\"ROC curve of class {0} (area = {1:0.2f})\".format(label, roc_auc[i]))\n",
        "\n",
        "  plt.plot([0, 1], [0, 1], 'k--', lw=lw)\n",
        "  plt.xlim([0.0, 1.0])\n",
        "  plt.ylim([0.0, 1.05])\n",
        "  plt.xlabel('False Positive Rate')\n",
        "  plt.ylabel('True Positive Rate')\n",
        "  plt.title('Receiver Operating Characteristic (ROC) curve')\n",
        "  plt.legend()\n",
        "  plt.show()"
      ]
    },
    {
      "cell_type": "code",
      "execution_count": 51,
      "id": "C4uN5NOuAKDw",
      "metadata": {
        "colab": {
          "base_uri": "https://localhost:8080/",
          "height": 458
        },
        "id": "C4uN5NOuAKDw",
        "outputId": "7ffcf162-7e39-41f1-ac47-fdc59f086e86"
      },
      "outputs": [
        {
          "data": {
            "image/png": "[encoded data removed]",
            "text/plain": [
              "<Figure size 720x504 with 1 Axes>"
            ]
          },
          "metadata": {
            "needs_background": "light"
          },
          "output_type": "display_data"
        }
      ],
      "source": [
        "plot_roc_curve(y_pred, y_true)"
      ]
    },
    {
      "cell_type": "markdown",
      "id": "9vw4g3s-z-Rw",
      "metadata": {
        "id": "9vw4g3s-z-Rw"
      },
      "source": [
        "# 12 Predict on New Data"
      ]
    },
    {
      "cell_type": "code",
      "execution_count": 52,
      "id": "ZxfTw0Kk0DTW",
      "metadata": {
        "colab": {
          "base_uri": "https://localhost:8080/"
        },
        "id": "ZxfTw0Kk0DTW",
        "outputId": "7162fd20-b4bc-4165-9c54-c8bcc796bb52"
      },
      "outputs": [
        {
          "name": "stdout",
          "output_type": "stream",
          "text": [
            "[[0.11725759 0.00207392 0.00768186 0.0644526  0.80168164 0.00685241]] ['sadness']\n"
          ]
        }
      ],
      "source": [
        "new_text = ['Hargai kebahagiaan jika kamu pernah sedih']\n",
        "\n",
        "text_seq = tokenizer.texts_to_sequences(new_text,)\n",
        "text_padded = pad_sequences(text_seq, maxlen=MAX_SEQ_LENGTH, padding=PADDING, truncating=TRUNCATING)\n",
        "\n",
        "pred = model.predict(text_padded)\n",
        "\n",
        "print(pred, LABEL_NAME[np.argmax(pred, axis=1)])"
      ]
    }
  ],
  "metadata": {
    "accelerator": "GPU",
    "colab": {
      "collapsed_sections": [],
      "include_colab_link": true,
      "machine_shape": "hm",
      "name": "08-FastText-ID-Tweet300-BiGRUs.ipynb",
      "provenance": [],
      "toc_visible": true
    },
    "kernelspec": {
      "display_name": "Python 3 (ipykernel)",
      "language": "python",
      "name": "python3"
    },
    "language_info": {
      "codemirror_mode": {
        "name": "ipython",
        "version": 3
      },
      "file_extension": ".py",
      "mimetype": "text/x-python",
      "name": "python",
      "nbconvert_exporter": "python",
      "pygments_lexer": "ipython3",
      "version": "3.8.13"
    },
    "widgets": {
      "application/vnd.jupyter.widget-state+json": {
        "0c729a419a814c3a8743f5fcd84c299d": {
          "model_module": "@jupyter-widgets/controls",
          "model_module_version": "1.5.0",
          "model_name": "DescriptionStyleModel",
          "state": {
            "_model_module": "@jupyter-widgets/controls",
            "_model_module_version": "1.5.0",
            "_model_name": "DescriptionStyleModel",
            "_view_count": null,
            "_view_module": "@jupyter-widgets/base",
            "_view_module_version": "1.2.0",
            "_view_name": "StyleView",
            "description_width": ""
          }
        },
        "1031502737fc46ed99f127949b822b30": {
          "model_module": "@jupyter-widgets/controls",
          "model_module_version": "1.5.0",
          "model_name": "VBoxModel",
          "state": {
            "_dom_classes": [],
            "_model_module": "@jupyter-widgets/controls",
            "_model_module_version": "1.5.0",
            "_model_name": "VBoxModel",
            "_view_count": null,
            "_view_module": "@jupyter-widgets/controls",
            "_view_module_version": "1.5.0",
            "_view_name": "VBoxView",
            "box_style": "",
            "children": [
              "IPY_MODEL_a6887b0ba2154665b0bb9affb7bd06d5",
              "IPY_MODEL_bca8b8b35ad04c10834b88642de88abb"
            ],
            "layout": "IPY_MODEL_c92c6a2a4fde4455a786784c749caef6"
          }
        },
        "2a850a100c5f4228bca2e70250359a5a": {
          "model_module": "@jupyter-widgets/controls",
          "model_module_version": "1.5.0",
          "model_name": "ProgressStyleModel",
          "state": {
            "_model_module": "@jupyter-widgets/controls",
            "_model_module_version": "1.5.0",
            "_model_name": "ProgressStyleModel",
            "_view_count": null,
            "_view_module": "@jupyter-widgets/base",
            "_view_module_version": "1.2.0",
            "_view_name": "StyleView",
            "bar_color": null,
            "description_width": ""
          }
        },
        "5d29b0296c66433ebae837561b3688e7": {
          "model_module": "@jupyter-widgets/base",
          "model_module_version": "1.2.0",
          "model_name": "LayoutModel",
          "state": {
            "_model_module": "@jupyter-widgets/base",
            "_model_module_version": "1.2.0",
            "_model_name": "LayoutModel",
            "_view_count": null,
            "_view_module": "@jupyter-widgets/base",
            "_view_module_version": "1.2.0",
            "_view_name": "LayoutView",
            "align_content": null,
            "align_items": null,
            "align_self": null,
            "border": null,
            "bottom": null,
            "display": null,
            "flex": null,
            "flex_flow": null,
            "grid_area": null,
            "grid_auto_columns": null,
            "grid_auto_flow": null,
            "grid_auto_rows": null,
            "grid_column": null,
            "grid_gap": null,
            "grid_row": null,
            "grid_template_areas": null,
            "grid_template_columns": null,
            "grid_template_rows": null,
            "height": null,
            "justify_content": null,
            "justify_items": null,
            "left": null,
            "margin": null,
            "max_height": null,
            "max_width": null,
            "min_height": null,
            "min_width": null,
            "object_fit": null,
            "object_position": null,
            "order": null,
            "overflow": null,
            "overflow_x": null,
            "overflow_y": null,
            "padding": null,
            "right": null,
            "top": null,
            "visibility": null,
            "width": null
          }
        },
        "a6887b0ba2154665b0bb9affb7bd06d5": {
          "model_module": "@jupyter-widgets/controls",
          "model_module_version": "1.5.0",
          "model_name": "LabelModel",
          "state": {
            "_dom_classes": [],
            "_model_module": "@jupyter-widgets/controls",
            "_model_module_version": "1.5.0",
            "_model_name": "LabelModel",
            "_view_count": null,
            "_view_module": "@jupyter-widgets/controls",
            "_view_module_version": "1.5.0",
            "_view_name": "LabelView",
            "description": "",
            "description_tooltip": null,
            "layout": "IPY_MODEL_5d29b0296c66433ebae837561b3688e7",
            "placeholder": "​",
            "style": "IPY_MODEL_0c729a419a814c3a8743f5fcd84c299d",
            "value": "0.040 MB of 0.040 MB uploaded (0.000 MB deduped)\r"
          }
        },
        "bca8b8b35ad04c10834b88642de88abb": {
          "model_module": "@jupyter-widgets/controls",
          "model_module_version": "1.5.0",
          "model_name": "FloatProgressModel",
          "state": {
            "_dom_classes": [],
            "_model_module": "@jupyter-widgets/controls",
            "_model_module_version": "1.5.0",
            "_model_name": "FloatProgressModel",
            "_view_count": null,
            "_view_module": "@jupyter-widgets/controls",
            "_view_module_version": "1.5.0",
            "_view_name": "ProgressView",
            "bar_style": "",
            "description": "",
            "description_tooltip": null,
            "layout": "IPY_MODEL_cbad64947036429280fc0d2cbf711076",
            "max": 1,
            "min": 0,
            "orientation": "horizontal",
            "style": "IPY_MODEL_2a850a100c5f4228bca2e70250359a5a",
            "value": 1
          }
        },
        "c92c6a2a4fde4455a786784c749caef6": {
          "model_module": "@jupyter-widgets/base",
          "model_module_version": "1.2.0",
          "model_name": "LayoutModel",
          "state": {
            "_model_module": "@jupyter-widgets/base",
            "_model_module_version": "1.2.0",
            "_model_name": "LayoutModel",
            "_view_count": null,
            "_view_module": "@jupyter-widgets/base",
            "_view_module_version": "1.2.0",
            "_view_name": "LayoutView",
            "align_content": null,
            "align_items": null,
            "align_self": null,
            "border": null,
            "bottom": null,
            "display": null,
            "flex": null,
            "flex_flow": null,
            "grid_area": null,
            "grid_auto_columns": null,
            "grid_auto_flow": null,
            "grid_auto_rows": null,
            "grid_column": null,
            "grid_gap": null,
            "grid_row": null,
            "grid_template_areas": null,
            "grid_template_columns": null,
            "grid_template_rows": null,
            "height": null,
            "justify_content": null,
            "justify_items": null,
            "left": null,
            "margin": null,
            "max_height": null,
            "max_width": null,
            "min_height": null,
            "min_width": null,
            "object_fit": null,
            "object_position": null,
            "order": null,
            "overflow": null,
            "overflow_x": null,
            "overflow_y": null,
            "padding": null,
            "right": null,
            "top": null,
            "visibility": null,
            "width": null
          }
        },
        "cbad64947036429280fc0d2cbf711076": {
          "model_module": "@jupyter-widgets/base",
          "model_module_version": "1.2.0",
          "model_name": "LayoutModel",
          "state": {
            "_model_module": "@jupyter-widgets/base",
            "_model_module_version": "1.2.0",
            "_model_name": "LayoutModel",
            "_view_count": null,
            "_view_module": "@jupyter-widgets/base",
            "_view_module_version": "1.2.0",
            "_view_name": "LayoutView",
            "align_content": null,
            "align_items": null,
            "align_self": null,
            "border": null,
            "bottom": null,
            "display": null,
            "flex": null,
            "flex_flow": null,
            "grid_area": null,
            "grid_auto_columns": null,
            "grid_auto_flow": null,
            "grid_auto_rows": null,
            "grid_column": null,
            "grid_gap": null,
            "grid_row": null,
            "grid_template_areas": null,
            "grid_template_columns": null,
            "grid_template_rows": null,
            "height": null,
            "justify_content": null,
            "justify_items": null,
            "left": null,
            "margin": null,
            "max_height": null,
            "max_width": null,
            "min_height": null,
            "min_width": null,
            "object_fit": null,
            "object_position": null,
            "order": null,
            "overflow": null,
            "overflow_x": null,
            "overflow_y": null,
            "padding": null,
            "right": null,
            "top": null,
            "visibility": null,
            "width": null
          }
        }
      }
    }
  },
  "nbformat": 4,
  "nbformat_minor": 5
}
