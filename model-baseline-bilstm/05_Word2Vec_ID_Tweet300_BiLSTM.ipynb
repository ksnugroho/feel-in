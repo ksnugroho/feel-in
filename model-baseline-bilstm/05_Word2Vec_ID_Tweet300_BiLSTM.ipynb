{
  "cells": [
    {
      "cell_type": "markdown",
      "metadata": {
        "colab_type": "text",
        "id": "view-in-github"
      },
      "source": [
        "<a href=\"https://colab.research.google.com/github/ksnugroho/feel-in/blob/main/model-baseline-bilstm/05_Word2Vec_ID_Tweet300_BiLSTM.ipynb\" target=\"_parent\"><img src=\"https://colab.research.google.com/assets/colab-badge.svg\" alt=\"Open In Colab\"/></a>"
      ]
    },
    {
      "cell_type": "markdown",
      "id": "a1bf2cd2-5a23-41fa-a4b7-71dfd3b0adb8",
      "metadata": {
        "id": "a1bf2cd2-5a23-41fa-a4b7-71dfd3b0adb8"
      },
      "source": [
        "# **Word2Vec (ID Tweet) + Bidirectional LSTM**\n",
        "\n",
        "**Thesis: Emotion Detection in Indonesian Text**\n",
        "\n",
        "Kuncahyo Setyo Nugroho<br>\n",
        "Supervisor:\n",
        "1. Dr. Eng. Fitra A. Bachtiar, S.T., M.Eng.\n",
        "2. Prof. Ir. Wayan Firdaus Mahmudy, S.Si., M.T., Ph.D.\n",
        "\n",
        "Faculty of Computer Science, Brawijaya University, Indonesia &copy; 2021-2022"
      ]
    },
    {
      "cell_type": "markdown",
      "id": "c2711406-ec5a-4ae2-bb51-ee6e38d2e14d",
      "metadata": {
        "id": "c2711406-ec5a-4ae2-bb51-ee6e38d2e14d"
      },
      "source": [
        "# 01 Setup"
      ]
    },
    {
      "cell_type": "code",
      "execution_count": 1,
      "id": "AVwTm6ZzVRuK",
      "metadata": {
        "colab": {
          "base_uri": "https://localhost:8080/"
        },
        "id": "AVwTm6ZzVRuK",
        "outputId": "4e75ebb7-0baf-4b7d-95aa-d703963d6094"
      },
      "outputs": [
        {
          "name": "stdout",
          "output_type": "stream",
          "text": [
            "Mounted at /content/drive\n"
          ]
        }
      ],
      "source": [
        "from google.colab import drive\n",
        "drive.mount('/content/drive', force_remount=True)"
      ]
    },
    {
      "cell_type": "code",
      "execution_count": null,
      "id": "wFUHxFRwVT1W",
      "metadata": {
        "colab": {
          "base_uri": "https://localhost:8080/"
        },
        "id": "wFUHxFRwVT1W",
        "outputId": "5c300d34-5203-4396-c82b-58e7240100d7"
      },
      "outputs": [],
      "source": [
        "# Path to google drive folder\n",
        "%cd /content/drive/MyDrive/"
      ]
    },
    {
      "cell_type": "code",
      "execution_count": 3,
      "id": "1d9e59eb-577c-41f1-91e7-ad35cb47e990",
      "metadata": {
        "id": "1d9e59eb-577c-41f1-91e7-ad35cb47e990",
        "tags": []
      },
      "outputs": [],
      "source": [
        "import re\n",
        "import os\n",
        "import datetime\n",
        "import numpy as np\n",
        "import pandas as pd\n",
        "import matplotlib.pyplot as plt\n",
        "import seaborn as sns\n",
        "\n",
        "from itertools import cycle\n",
        "from sklearn.preprocessing import LabelEncoder, label_binarize\n",
        "from sklearn.model_selection import train_test_split\n",
        "from sklearn.metrics import roc_curve, auc, confusion_matrix, classification_report\n",
        "\n",
        "from gensim.models import KeyedVectors\n",
        "\n",
        "import tensorflow as tf\n",
        "from tensorflow.keras.preprocessing.text import Tokenizer\n",
        "from tensorflow.keras.preprocessing.sequence import pad_sequences\n",
        "from tensorflow.keras.utils import to_categorical, plot_model\n",
        "from tensorflow.keras.optimizers import Adam\n",
        "from tensorflow.keras.losses import CategoricalCrossentropy\n",
        "from tensorflow.keras.callbacks import EarlyStopping, ModelCheckpoint, TensorBoard\n",
        "from tensorflow.keras.initializers import Constant\n",
        "from tensorflow.keras.models import Sequential \n",
        "from tensorflow.keras.layers import Embedding, Bidirectional, LSTM, Dropout, Dense\n",
        "\n",
        "from tqdm import tqdm\n",
        "tqdm.pandas()\n",
        "\n",
        "import warnings\n",
        "warnings.filterwarnings('ignore')\n",
        "\n",
        "SEED = 50\n",
        "MODEL = 'id-tweet-word2vec-bilstm'\n",
        "FOLDER_PATH = 'model-baseline-bilstm'\n",
        "\n",
        "np.random.seed(SEED)\n",
        "tf.random.set_seed(SEED)\n",
        "colors = plt.rcParams['axes.prop_cycle'].by_key()['color']\n",
        "\n",
        "%matplotlib inline"
      ]
    },
    {
      "cell_type": "code",
      "execution_count": 4,
      "id": "2Y-QoBKiVGcU",
      "metadata": {
        "colab": {
          "base_uri": "https://localhost:8080/"
        },
        "id": "2Y-QoBKiVGcU",
        "outputId": "30491a41-46b3-4645-b690-b8af9f90992b"
      },
      "outputs": [
        {
          "name": "stdout",
          "output_type": "stream",
          "text": [
            "\u001b[K     |████████████████████████████████| 1.8 MB 6.7 MB/s \n",
            "\u001b[K     |████████████████████████████████| 181 kB 69.7 MB/s \n",
            "\u001b[K     |████████████████████████████████| 147 kB 76.5 MB/s \n",
            "\u001b[K     |████████████████████████████████| 63 kB 2.1 MB/s \n",
            "\u001b[?25h  Building wheel for pathtools (setup.py) ... \u001b[?25l\u001b[?25hdone\n"
          ]
        }
      ],
      "source": [
        "!pip install -q wandb"
      ]
    },
    {
      "cell_type": "code",
      "execution_count": 5,
      "id": "48b9555b-8ac9-42ce-ab47-039461f7ddcc",
      "metadata": {
        "colab": {
          "base_uri": "https://localhost:8080/"
        },
        "id": "48b9555b-8ac9-42ce-ab47-039461f7ddcc",
        "outputId": "fab2a6ae-ae22-4b9a-cfc1-9ad4882dcd0f"
      },
      "outputs": [
        {
          "name": "stderr",
          "output_type": "stream",
          "text": [
            "\u001b[34m\u001b[1mwandb\u001b[0m: W&B API key is configured. Use \u001b[1m`wandb login --relogin`\u001b[0m to force relogin\n",
            "\u001b[34m\u001b[1mwandb\u001b[0m: \u001b[33mWARNING\u001b[0m If you're specifying your api key in code, ensure this code is not shared publicly.\n",
            "\u001b[34m\u001b[1mwandb\u001b[0m: \u001b[33mWARNING\u001b[0m Consider setting the WANDB_API_KEY environment variable, or running `wandb login` from the command line.\n",
            "\u001b[34m\u001b[1mwandb\u001b[0m: Appending key for api.wandb.ai to your netrc file: /root/.netrc\n"
          ]
        },
        {
          "data": {
            "text/plain": [
              "True"
            ]
          },
          "execution_count": 5,
          "metadata": {},
          "output_type": "execute_result"
        }
      ],
      "source": [
        "import wandb\n",
        "from wandb.keras import WandbCallback\n",
        "\n",
        "wandb.login(key='API_KEY')"
      ]
    },
    {
      "cell_type": "code",
      "execution_count": 6,
      "id": "7GDeOKZeFvEk",
      "metadata": {
        "colab": {
          "base_uri": "https://localhost:8080/"
        },
        "id": "7GDeOKZeFvEk",
        "outputId": "197b10a8-f595-46cd-e173-f38c804f865d"
      },
      "outputs": [
        {
          "name": "stdout",
          "output_type": "stream",
          "text": [
            "07-15-2022-17:47\n"
          ]
        }
      ],
      "source": [
        "TODAY = datetime.datetime.now().strftime(\"%m-%d-%Y-%H:%M\")\n",
        "print(TODAY)"
      ]
    },
    {
      "cell_type": "markdown",
      "id": "68399df4-1ece-42be-926c-40c9c494d0d1",
      "metadata": {
        "id": "68399df4-1ece-42be-926c-40c9c494d0d1"
      },
      "source": [
        "# 02 Load Data"
      ]
    },
    {
      "cell_type": "code",
      "execution_count": 7,
      "id": "7ab9c55e-af81-4952-9736-b3f87045cfa2",
      "metadata": {
        "colab": {
          "base_uri": "https://localhost:8080/"
        },
        "id": "7ab9c55e-af81-4952-9736-b3f87045cfa2",
        "outputId": "e5659284-21f3-45b8-adf9-16c21e51dad9"
      },
      "outputs": [
        {
          "name": "stdout",
          "output_type": "stream",
          "text": [
            "                                               tweet    label\n",
            "0        wah belom liat muka gue lagi murka hahahaha      joy\n",
            "1  Mungkin kurang piknik adrenalin. Mereka yg ske...    anger\n",
            "2  maaf kalo tersinggung \"orang kurus cepet mati\"...    anger\n",
            "3  berserah pada maha esa paling tabah dan sabar ...      joy\n",
            "4                       Ehekk malu la hahahahahahaha  sadness\n"
          ]
        }
      ],
      "source": [
        "df = pd.read_csv('data/final-tweet-anotasi.csv', index_col=0)\n",
        "# df = df.sample(frac=1, random_state=SEED).reset_index(drop=True)   # For shuffle\n",
        "print(df.head())"
      ]
    },
    {
      "cell_type": "code",
      "execution_count": 8,
      "id": "jSyeoBWmVtkA",
      "metadata": {
        "id": "jSyeoBWmVtkA"
      },
      "outputs": [],
      "source": [
        "# df = df.dropna()"
      ]
    },
    {
      "cell_type": "code",
      "execution_count": 9,
      "id": "eeb8fd22-5a2b-48a9-8d5e-e5b569cb856a",
      "metadata": {
        "colab": {
          "base_uri": "https://localhost:8080/"
        },
        "id": "eeb8fd22-5a2b-48a9-8d5e-e5b569cb856a",
        "outputId": "84bd3017-ec7f-4ea4-cf7f-a571a90404ae"
      },
      "outputs": [
        {
          "data": {
            "text/plain": [
              "(2243, 2)"
            ]
          },
          "execution_count": 9,
          "metadata": {},
          "output_type": "execute_result"
        }
      ],
      "source": [
        "df.shape"
      ]
    },
    {
      "cell_type": "code",
      "execution_count": 10,
      "id": "ad238655-95be-4598-b60a-5aa5ee3a27be",
      "metadata": {
        "colab": {
          "base_uri": "https://localhost:8080/",
          "height": 456
        },
        "id": "ad238655-95be-4598-b60a-5aa5ee3a27be",
        "outputId": "d1111dc6-b160-4656-e782-8dfb66306186"
      },
      "outputs": [
        {
          "data": {
            "image/png": "[encoded data removed]",
            "text/plain": [
              "<Figure size 576x360 with 1 Axes>"
            ]
          },
          "metadata": {
            "needs_background": "light"
          },
          "output_type": "display_data"
        },
        {
          "data": {
            "text/plain": [
              "anger       475\n",
              "disgust     355\n",
              "fear        395\n",
              "joy         429\n",
              "sadness     303\n",
              "surprise    286\n",
              "Name: label, dtype: int64"
            ]
          },
          "execution_count": 10,
          "metadata": {},
          "output_type": "execute_result"
        }
      ],
      "source": [
        "plt.figure(figsize=(8, 5))\n",
        "sns.countplot(x='label', data=df, order=df['label'].value_counts().index)\n",
        "plt.xlabel('Distribution of Emotion Label')\n",
        "plt.show()\n",
        "\n",
        "df['label'].value_counts().sort_index()"
      ]
    },
    {
      "cell_type": "markdown",
      "id": "c8468e98-5632-450d-8b96-4542508142e9",
      "metadata": {
        "id": "c8468e98-5632-450d-8b96-4542508142e9"
      },
      "source": [
        "# 03 Preprocessing"
      ]
    },
    {
      "cell_type": "markdown",
      "id": "KD-oQ7hzEj_7",
      "metadata": {
        "id": "KD-oQ7hzEj_7"
      },
      "source": [
        "## Text Cleaning"
      ]
    },
    {
      "cell_type": "code",
      "execution_count": 11,
      "id": "ebe49f47-6c6a-4f61-8d6c-770106d96043",
      "metadata": {
        "id": "ebe49f47-6c6a-4f61-8d6c-770106d96043"
      },
      "outputs": [],
      "source": [
        "def text_cleaning(text):\n",
        "    text = text.lower()                               # Mengubah teks menjadi lower case\n",
        "    text = re.sub(r'https?://\\S+|www\\.\\S+', '', text) # Menghapus URL\n",
        "    text = re.sub(r'[-+]?[0-9]+', '', text)           # Menghapus angka\n",
        "    text = re.sub(r'[^\\w\\s]','', text)                # Menghapus karakter tanda baca\n",
        "    text = re.sub(r'\\s+', ' ', text).strip()          # Menghapus whitespaces\n",
        "\n",
        "    return text"
      ]
    },
    {
      "cell_type": "code",
      "execution_count": 12,
      "id": "ae27a972-17de-4d33-b15c-987de9ee00ca",
      "metadata": {
        "colab": {
          "base_uri": "https://localhost:8080/"
        },
        "id": "ae27a972-17de-4d33-b15c-987de9ee00ca",
        "outputId": "34bca7d5-2a96-4502-b48f-e4aa76603908"
      },
      "outputs": [
        {
          "name": "stderr",
          "output_type": "stream",
          "text": [
            "100%|██████████| 2243/2243 [00:00<00:00, 57107.79it/s]"
          ]
        },
        {
          "name": "stdout",
          "output_type": "stream",
          "text": [
            "CPU times: user 45.3 ms, sys: 46 µs, total: 45.3 ms\n",
            "Wall time: 43.9 ms\n"
          ]
        },
        {
          "name": "stderr",
          "output_type": "stream",
          "text": [
            "\n"
          ]
        }
      ],
      "source": [
        "%%time \n",
        "df['tweet'] = df['tweet'].progress_apply(text_cleaning)"
      ]
    },
    {
      "cell_type": "markdown",
      "id": "96d70e1e-0b16-4ee5-87ab-39f14bccc3cb",
      "metadata": {
        "id": "96d70e1e-0b16-4ee5-87ab-39f14bccc3cb"
      },
      "source": [
        "## Label Encoder"
      ]
    },
    {
      "cell_type": "code",
      "execution_count": 13,
      "id": "446e9785-ddc4-4674-a3ec-ccf3a96be135",
      "metadata": {
        "colab": {
          "base_uri": "https://localhost:8080/"
        },
        "id": "446e9785-ddc4-4674-a3ec-ccf3a96be135",
        "outputId": "8193152b-550d-4b7f-9d2c-9bebe79d5709"
      },
      "outputs": [
        {
          "name": "stdout",
          "output_type": "stream",
          "text": [
            "                                               tweet    label  label_encode\n",
            "0        wah belom liat muka gue lagi murka hahahaha      joy             3\n",
            "1  mungkin kurang piknik adrenalin mereka yg skep...    anger             0\n",
            "2  maaf kalo tersinggung orang kurus cepet mati w...    anger             0\n",
            "3  berserah pada maha esa paling tabah dan sabar ...      joy             3\n",
            "4                       ehekk malu la hahahahahahaha  sadness             4\n"
          ]
        }
      ],
      "source": [
        "le = LabelEncoder()\n",
        "\n",
        "df['label_encode'] = le.fit_transform(df['label'])\n",
        "print(df.head())"
      ]
    },
    {
      "cell_type": "code",
      "execution_count": 14,
      "id": "dNTuKMAtCC3O",
      "metadata": {
        "colab": {
          "base_uri": "https://localhost:8080/"
        },
        "id": "dNTuKMAtCC3O",
        "outputId": "fab26154-8876-47d2-a016-3d1e7f3fb544"
      },
      "outputs": [
        {
          "name": "stdout",
          "output_type": "stream",
          "text": [
            "{'anger': 0, 'disgust': 1, 'fear': 2, 'joy': 3, 'sadness': 4, 'surprise': 5}\n"
          ]
        }
      ],
      "source": [
        "le_mapping = dict(zip(le.classes_, le.transform(le.classes_)))\n",
        "print(le_mapping)"
      ]
    },
    {
      "cell_type": "code",
      "execution_count": 15,
      "id": "sMvamEW5g-MB",
      "metadata": {
        "colab": {
          "base_uri": "https://localhost:8080/"
        },
        "id": "sMvamEW5g-MB",
        "outputId": "67a40362-fcee-443d-b387-b7404e24413e"
      },
      "outputs": [
        {
          "name": "stdout",
          "output_type": "stream",
          "text": [
            "['anger' 'disgust' 'fear' 'joy' 'sadness' 'surprise']\n"
          ]
        }
      ],
      "source": [
        "LABEL_NAME = le.classes_\n",
        "print(LABEL_NAME)"
      ]
    },
    {
      "cell_type": "markdown",
      "id": "51563912-e1a5-4196-ba6d-6c9b34de840c",
      "metadata": {
        "id": "51563912-e1a5-4196-ba6d-6c9b34de840c"
      },
      "source": [
        "# 04 Load Pre-Trained Word Vectors (Word2Vec)"
      ]
    },
    {
      "cell_type": "code",
      "execution_count": 16,
      "id": "0d84c2b8-95d5-4649-a929-153d16de7791",
      "metadata": {
        "colab": {
          "base_uri": "https://localhost:8080/"
        },
        "id": "0d84c2b8-95d5-4649-a929-153d16de7791",
        "outputId": "38c5b008-a7c7-4a71-9785-be58dbef141f"
      },
      "outputs": [
        {
          "name": "stdout",
          "output_type": "stream",
          "text": [
            "The numbers of words in vocabulary:  156312\n",
            "CPU times: user 341 ms, sys: 47.2 ms, total: 389 ms\n",
            "Wall time: 1.69 s\n"
          ]
        }
      ],
      "source": [
        "%%time\n",
        "WORD_EMBEDDING_PATH = 'model-word-embedding/checkpoint/idtweet-word2vec/idtweet-word2vec-300.wordvectors'\n",
        "\n",
        "word2vec = KeyedVectors.load(WORD_EMBEDDING_PATH,  mmap='r')\n",
        "vocabulary = word2vec.wv.vocab     # gensim 3\n",
        "# vocabulary = word2vec.index_to_key # gensim 4\n",
        "print('The numbers of words in vocabulary: ', len(vocabulary))\n",
        "\n",
        "VOCAB_SIZE = len(vocabulary)\n",
        "EMBEDDING_SIZE = word2vec.vector_size"
      ]
    },
    {
      "cell_type": "code",
      "execution_count": 17,
      "id": "60938380-45dd-4fed-a8f8-5db2f37897db",
      "metadata": {
        "colab": {
          "base_uri": "https://localhost:8080/"
        },
        "id": "60938380-45dd-4fed-a8f8-5db2f37897db",
        "outputId": "62f3ee81-3434-4783-85d0-9d333a05d831"
      },
      "outputs": [
        {
          "name": "stdout",
          "output_type": "stream",
          "text": [
            "The numbers of key-value pairs:  156312\n"
          ]
        }
      ],
      "source": [
        "word2vec_dict = {}\n",
        "\n",
        "for word in vocabulary:\n",
        "    word2vec_dict[word] = word2vec.wv.get_vector(word)   # gensim 3\n",
        "    # word2vec_dict[word] = word2vec.get_vector(word)\n",
        "    \n",
        "print('The numbers of key-value pairs: ', len(word2vec_dict)) # should come equal to vocab size"
      ]
    },
    {
      "cell_type": "code",
      "execution_count": 18,
      "id": "197d2a58-5a2d-4cbe-a0c9-834c97e3fb08",
      "metadata": {
        "colab": {
          "base_uri": "https://localhost:8080/"
        },
        "id": "197d2a58-5a2d-4cbe-a0c9-834c97e3fb08",
        "outputId": "3d41d6ee-d240-4d0b-ad5e-263c777d88d0"
      },
      "outputs": [
        {
          "name": "stdout",
          "output_type": "stream",
          "text": [
            "[-0.00196746  0.09941631 -0.15455686  0.3142614   0.41066077 -0.03517361\n",
            "  0.26521245 -0.03657137  0.3173049  -0.18076545 -0.21691021 -0.09863748\n",
            "  0.05417929  0.05028491  0.20421515  0.47201592 -0.07448783 -0.19730976\n",
            "  0.23256293 -0.3501546   0.29862374 -0.08062083  0.1474152   0.16452017\n",
            "  0.08921923 -0.0515116  -0.02296514  0.03125457  0.21018551  0.17645973\n",
            " -0.42446497  0.14217879  0.12172476  0.14507127  0.02638973  0.0277294\n",
            " -0.05690918  0.15437318 -0.11035231 -0.11839799 -0.29085988 -0.01823551\n",
            " -0.17403328 -0.27379602  0.55877054 -0.26623386  0.23594622  0.01485427\n",
            " -0.13379507  0.31024277 -0.09457285 -0.16680506 -0.09147608  0.07846192\n",
            " -0.06219688  0.36456916  0.1809628   0.00432387 -0.1508676  -0.02532905\n",
            "  0.210815   -0.05091454  0.20892504  0.14765981  0.13505444  0.18222973\n",
            " -0.24667571  0.14310431 -0.5898385   0.188767   -0.2937882  -0.16072911\n",
            " -0.02532982  0.18123326  0.09687859 -0.30978984  0.23164721  0.02654802\n",
            " -0.00515777 -0.09863718 -0.28871697 -0.17984474 -0.1791253  -0.13523315\n",
            " -0.02699924 -0.10515414 -0.0774438   0.14253087 -0.06346101 -0.10814686\n",
            "  0.03821967 -0.3415311   0.02059648 -0.21652883  0.20984906 -0.3046252\n",
            "  0.00557893 -0.3383995   0.06727238  0.1390731   0.41802737 -0.3555691\n",
            "  0.26084775  0.13458708 -0.13611145 -0.46991715  0.07691464  0.10068592\n",
            " -0.12844403  0.25859153 -0.07433514 -0.3030529  -0.12796086 -0.15235263\n",
            " -0.10133021  0.10233904  0.0893489  -0.02254504  0.03144475 -0.03962939\n",
            " -0.14959474 -0.00862284  0.15197591  0.09838568 -0.08675906 -0.03342807\n",
            " -0.15047604 -0.22253615  0.0527344   0.15647641 -0.46184102  0.44713342\n",
            " -0.10813344  0.27355984  0.09305717 -0.3164296  -0.28012735 -0.17244847\n",
            " -0.43788457  0.12861612 -0.22931272 -0.06682344  0.213323   -0.17965393\n",
            "  0.10089138 -0.05627592 -0.07990745 -0.14037648 -0.05770059  0.28259474\n",
            " -0.11115965  0.17981423  0.36766574  0.21772973 -0.12249158 -0.0572255\n",
            "  0.18227015  0.0226469  -0.30706945 -0.06614678  0.39244795 -0.15980715\n",
            " -0.5756804   0.14590846  0.22349489  0.15938325  0.02330099 -0.36020988\n",
            " -0.12981063  0.10379656  0.21089065  0.4969174  -0.11853307  0.11194625\n",
            "  0.09772873  0.10007204  0.10776247 -0.17880593 -0.34114397 -0.31294996\n",
            "  0.19621459 -0.10985828  0.01570268  0.0399006   0.03526429  0.08849299\n",
            " -0.00429244 -0.1910251   0.31559506 -0.19463101 -0.11103807  0.00788246\n",
            "  0.05194834  0.13712771  0.04483375 -0.09872919 -0.18121818  0.80398166\n",
            " -0.06988551 -0.248721    0.31101564 -0.02033579  0.16793272 -0.18863072\n",
            "  0.18232144  0.12354255 -0.06997249  0.23781484  0.29375306 -0.08274834\n",
            " -0.19978161 -0.46208367 -0.13172415  0.23014683  0.02951297  0.08093934\n",
            " -0.00512241  0.404629   -0.23778817  0.0041728  -0.4103301   0.12452042\n",
            "  0.12841822  0.42620134  0.02879177  0.60438263  0.09209468 -0.12990178\n",
            "  0.04693441  0.12807503  0.48006672 -0.22024633  0.20719887  0.10627816\n",
            " -0.13176103  0.32831588 -0.08137257  0.20595913  0.09253846  0.22972037\n",
            " -0.1479267   0.22502136 -0.2032065  -0.00145926 -0.33807424  0.39947745\n",
            " -0.07094193 -0.05825693  0.15685937  0.03124512 -0.42333144  0.10611657\n",
            "  0.24448174 -0.34210998  0.3499627  -0.43613598 -0.21510062  0.34473634\n",
            " -0.459489    0.09486131 -0.05199184  0.01918725  0.03373222 -0.45030048\n",
            " -0.1304521  -0.16087233 -0.0536949   0.09745058  0.00920493 -0.04541222\n",
            " -0.5177379   0.08808757 -0.06182846 -0.12986508  0.13809496 -0.43758646\n",
            " -0.1130822   0.02309198 -0.2112952  -0.40423608  0.10618789 -0.0298728\n",
            " -0.01723661  0.16292828 -0.10800014  0.07239259  0.11717251  0.06718413\n",
            " -0.36132556 -0.08936956 -0.2603396   0.01810128 -0.33735657 -0.04027461\n",
            " -0.30895835 -0.4625067  -0.14921342 -0.17995067 -0.13973847  0.10003744]\n",
            "Embedding size:  (300,)\n"
          ]
        }
      ],
      "source": [
        "# Cek vektor embedding dan dimensi dari suatu kata\n",
        "word = 'saya'\n",
        "\n",
        "print(word2vec[word])\n",
        "print('Embedding size: ', word2vec[word].shape)"
      ]
    },
    {
      "cell_type": "markdown",
      "id": "6f99d1fe-fc94-4fdb-a5ca-fbee429e755a",
      "metadata": {
        "id": "6f99d1fe-fc94-4fdb-a5ca-fbee429e755a"
      },
      "source": [
        "# 05 Choosing Maximum Length of the Sequence  "
      ]
    },
    {
      "cell_type": "code",
      "execution_count": 19,
      "id": "25a90ec6-381d-4a00-870f-1d5c99f482a6",
      "metadata": {
        "colab": {
          "base_uri": "https://localhost:8080/",
          "height": 334
        },
        "id": "25a90ec6-381d-4a00-870f-1d5c99f482a6",
        "outputId": "a92753b9-0d09-4de3-93b1-5a5e7c630853"
      },
      "outputs": [
        {
          "data": {
            "image/png": "[encoded data removed]",
            "text/plain": [
              "<Figure size 576x360 with 1 Axes>"
            ]
          },
          "metadata": {
            "needs_background": "light"
          },
          "output_type": "display_data"
        }
      ],
      "source": [
        "token_lens = []\n",
        "\n",
        "for text in df['tweet']:\n",
        "    tokens = text.split()\n",
        "    token_lens.append(len(tokens))\n",
        "\n",
        "plt.figure(figsize=(8, 5))\n",
        "sns.histplot(token_lens, kde=True, stat='density', linewidth=0)\n",
        "plt.xlim([0, 100]);\n",
        "plt.xlabel('Token count');"
      ]
    },
    {
      "cell_type": "code",
      "execution_count": 20,
      "id": "8706c818-5743-474d-ab06-8e80796626dd",
      "metadata": {
        "id": "8706c818-5743-474d-ab06-8e80796626dd"
      },
      "outputs": [],
      "source": [
        "MAX_SEQ_LENGTH = 80"
      ]
    },
    {
      "cell_type": "markdown",
      "id": "709501e2-9810-43d1-876e-7a5a90c7baf2",
      "metadata": {
        "id": "709501e2-9810-43d1-876e-7a5a90c7baf2"
      },
      "source": [
        "# 06 Preparing Data for Embedding Layer"
      ]
    },
    {
      "cell_type": "markdown",
      "id": "f286a91d-879d-4794-9751-9f2ba0913fdc",
      "metadata": {
        "id": "f286a91d-879d-4794-9751-9f2ba0913fdc"
      },
      "source": [
        "## Tokenizing Data"
      ]
    },
    {
      "cell_type": "code",
      "execution_count": 21,
      "id": "e53fc8e9-8259-4d61-8df5-637be49b96be",
      "metadata": {
        "colab": {
          "base_uri": "https://localhost:8080/"
        },
        "id": "e53fc8e9-8259-4d61-8df5-637be49b96be",
        "outputId": "a6e868f1-a079-4ad6-ec1d-5b97b44e98a7"
      },
      "outputs": [
        {
          "name": "stdout",
          "output_type": "stream",
          "text": [
            "8831\n"
          ]
        }
      ],
      "source": [
        "NUM_WORDS = 100       # Frekuensi kemunculan kata. Hanya num_words-1 yang akan disimpan pada dictionary. Berarti kata dengan kemunculan <=num_words tidak digunakan.\n",
        "OOV_TOKEN = '<unk>'   # Token khusus untuk mengganti kata yang tidak terdaftar dalam dictionary.\n",
        "\n",
        "tokenizer = Tokenizer(num_words=NUM_WORDS, oov_token=OOV_TOKEN, lower=True, split=' ')\n",
        "tokenizer.fit_on_texts(df['tweet'])\n",
        "\n",
        "# Tambahkan token padding untuk menyamakan ukuran dimensi embedding layer\n",
        "tokenizer.word_index['<pad>'] = 0\n",
        "tokenizer.index_word[0] = '<pad>'\n",
        "\n",
        "WV_DICTIONARY = tokenizer.word_index\n",
        "\n",
        "WV_DICTIONARY_SIZE = len(WV_DICTIONARY)\n",
        "print(WV_DICTIONARY_SIZE) # Lihat kata unik pada dictionary yang dihasilkan"
      ]
    },
    {
      "cell_type": "markdown",
      "id": "afe05251-9fb7-4a86-94b0-869f4444b2f6",
      "metadata": {
        "id": "afe05251-9fb7-4a86-94b0-869f4444b2f6"
      },
      "source": [
        "## Text To Sequence"
      ]
    },
    {
      "cell_type": "code",
      "execution_count": 22,
      "id": "80f209a0-4faf-44d6-bf92-ed5ec139ea37",
      "metadata": {
        "id": "80f209a0-4faf-44d6-bf92-ed5ec139ea37"
      },
      "outputs": [],
      "source": [
        "# Proses mengubah token menjadi urutan bilangan int berdasarkan dictionary.\n",
        "data_seq = tokenizer.texts_to_sequences(df['tweet'])"
      ]
    },
    {
      "cell_type": "code",
      "execution_count": 23,
      "id": "b2d087a4-35a8-4429-b8b5-2cb18357ca4b",
      "metadata": {
        "colab": {
          "base_uri": "https://localhost:8080/"
        },
        "id": "b2d087a4-35a8-4429-b8b5-2cb18357ca4b",
        "outputId": "de653739-e0b4-41a8-8088-0e280d91a355"
      },
      "outputs": [
        {
          "name": "stdout",
          "output_type": "stream",
          "text": [
            "apalagi yg jualan spotify premium banyak banget lamalama bikin risih\n",
            "[1, 3, 1, 1, 1, 62, 31, 1, 56, 50]\n"
          ]
        }
      ],
      "source": [
        "print(df['tweet'][10])\n",
        "print(data_seq[10])"
      ]
    },
    {
      "cell_type": "markdown",
      "id": "7182169c-1be1-4f76-aa94-71e93eac77fc",
      "metadata": {
        "id": "7182169c-1be1-4f76-aa94-71e93eac77fc"
      },
      "source": [
        "## Add padding & Truncation"
      ]
    },
    {
      "cell_type": "code",
      "execution_count": 24,
      "id": "a4c16583-8e21-4a66-a07b-0a6b4caef10e",
      "metadata": {
        "id": "a4c16583-8e21-4a66-a07b-0a6b4caef10e"
      },
      "outputs": [],
      "source": [
        "# Proses mengubah data dari sequence menjadi array bentuk 2D Numpy (num_samples, num_timesteps). \n",
        "PADDING = 'post'        # Berikan padding untuk setiap sequences. Terdapat dua pilihan dalam melakukan padding 'pre' or 'post'.\n",
        "TRUNCATING = 'post'     # Menghapus token dari sequences yang lebih besar dari max_lenght. Terdapat dua pilihan dalam melakukan truncanting 'pre' or 'post'.\n",
        "\n",
        "data_pad = pad_sequences(data_seq, maxlen=MAX_SEQ_LENGTH, padding=PADDING, truncating=TRUNCATING)"
      ]
    },
    {
      "cell_type": "code",
      "execution_count": 25,
      "id": "59c1587a-a2eb-48db-92a2-7f8ca3003bfe",
      "metadata": {
        "colab": {
          "base_uri": "https://localhost:8080/"
        },
        "id": "59c1587a-a2eb-48db-92a2-7f8ca3003bfe",
        "outputId": "048d2cda-f86d-434a-f7da-3974cd366557"
      },
      "outputs": [
        {
          "name": "stdout",
          "output_type": "stream",
          "text": [
            "apalagi yg jualan spotify premium banyak banget lamalama bikin risih\n",
            "[1, 3, 1, 1, 1, 62, 31, 1, 56, 50]\n",
            "[ 1  3  1  1  1 62 31  1 56 50  0  0  0  0  0  0  0  0  0  0  0  0  0  0\n",
            "  0  0  0  0  0  0  0  0  0  0  0  0  0  0  0  0  0  0  0  0  0  0  0  0\n",
            "  0  0  0  0  0  0  0  0  0  0  0  0  0  0  0  0  0  0  0  0  0  0  0  0\n",
            "  0  0  0  0  0  0  0  0]\n"
          ]
        }
      ],
      "source": [
        "print(df['tweet'][10])\n",
        "print(data_seq[10])\n",
        "print(data_pad[10])"
      ]
    },
    {
      "cell_type": "code",
      "execution_count": 26,
      "id": "d4ab9d67-1fbc-4031-80dd-ad3df3768b92",
      "metadata": {
        "colab": {
          "base_uri": "https://localhost:8080/"
        },
        "id": "d4ab9d67-1fbc-4031-80dd-ad3df3768b92",
        "outputId": "905ead5a-1af2-46a7-d01a-922ad56b1e75"
      },
      "outputs": [
        {
          "data": {
            "text/plain": [
              "(2243, 80)"
            ]
          },
          "execution_count": 26,
          "metadata": {},
          "output_type": "execute_result"
        }
      ],
      "source": [
        "data_pad.shape"
      ]
    },
    {
      "cell_type": "markdown",
      "id": "d6dad3ff-1bea-488b-a240-e66adaedc29d",
      "metadata": {
        "id": "d6dad3ff-1bea-488b-a240-e66adaedc29d"
      },
      "source": [
        "## Create Embedding Matrix"
      ]
    },
    {
      "cell_type": "code",
      "execution_count": 27,
      "id": "3e4548d2-3d62-4ac6-9660-5640f8c38599",
      "metadata": {
        "id": "3e4548d2-3d62-4ac6-9660-5640f8c38599"
      },
      "outputs": [],
      "source": [
        "EMBEDDING_MATRIX = np.zeros(shape=(WV_DICTIONARY_SIZE, EMBEDDING_SIZE))\n",
        "\n",
        "for word, i in tokenizer.word_index.items():\n",
        "    embed_vector = word2vec_dict.get(word)\n",
        "    if embed_vector is not None:               # Word is in the vocabulary learned by the w2v model\n",
        "        EMBEDDING_MATRIX[i] = embed_vector"
      ]
    },
    {
      "cell_type": "code",
      "execution_count": 28,
      "id": "24bb1134-d5db-4e75-9ca8-8f4c8f73f4e4",
      "metadata": {
        "colab": {
          "base_uri": "https://localhost:8080/"
        },
        "id": "24bb1134-d5db-4e75-9ca8-8f4c8f73f4e4",
        "outputId": "32c0f884-3349-4abd-a4aa-dec3f8afc3de"
      },
      "outputs": [
        {
          "name": "stdout",
          "output_type": "stream",
          "text": [
            "33\n"
          ]
        }
      ],
      "source": [
        "print(WV_DICTIONARY.get('saya'))"
      ]
    },
    {
      "cell_type": "code",
      "execution_count": 29,
      "id": "bc0d7357-a633-4b3a-a39c-badca10dc53f",
      "metadata": {
        "colab": {
          "base_uri": "https://localhost:8080/"
        },
        "id": "bc0d7357-a633-4b3a-a39c-badca10dc53f",
        "outputId": "3e52dad7-f455-420b-ddb5-2db5dbe70451"
      },
      "outputs": [
        {
          "name": "stdout",
          "output_type": "stream",
          "text": [
            "[-0.00196746  0.09941631 -0.15455686  0.31426141  0.41066077 -0.03517361\n",
            "  0.26521245 -0.03657137  0.31730491 -0.18076545 -0.21691021 -0.09863748\n",
            "  0.05417929  0.05028491  0.20421515  0.47201592 -0.07448783 -0.19730976\n",
            "  0.23256293 -0.35015461  0.29862374 -0.08062083  0.14741521  0.16452017\n",
            "  0.08921923 -0.0515116  -0.02296514  0.03125457  0.21018551  0.17645973\n",
            " -0.42446497  0.14217879  0.12172476  0.14507127  0.02638973  0.0277294\n",
            " -0.05690918  0.15437318 -0.11035231 -0.11839799 -0.29085988 -0.01823551\n",
            " -0.17403328 -0.27379602  0.55877054 -0.26623386  0.23594622  0.01485427\n",
            " -0.13379507  0.31024277 -0.09457285 -0.16680506 -0.09147608  0.07846192\n",
            " -0.06219688  0.36456916  0.1809628   0.00432387 -0.1508676  -0.02532905\n",
            "  0.210815   -0.05091454  0.20892504  0.14765981  0.13505444  0.18222973\n",
            " -0.24667571  0.14310431 -0.5898385   0.188767   -0.29378819 -0.16072911\n",
            " -0.02532982  0.18123326  0.09687859 -0.30978984  0.23164721  0.02654802\n",
            " -0.00515777 -0.09863718 -0.28871697 -0.17984474 -0.17912529 -0.13523315\n",
            " -0.02699924 -0.10515414 -0.0774438   0.14253087 -0.06346101 -0.10814686\n",
            "  0.03821967 -0.3415311   0.02059648 -0.21652883  0.20984906 -0.30462521\n",
            "  0.00557893 -0.3383995   0.06727238  0.1390731   0.41802737 -0.35556909\n",
            "  0.26084775  0.13458708 -0.13611145 -0.46991715  0.07691464  0.10068592\n",
            " -0.12844403  0.25859153 -0.07433514 -0.3030529  -0.12796086 -0.15235263\n",
            " -0.10133021  0.10233904  0.0893489  -0.02254504  0.03144475 -0.03962939\n",
            " -0.14959474 -0.00862284  0.15197591  0.09838568 -0.08675906 -0.03342807\n",
            " -0.15047604 -0.22253615  0.0527344   0.15647641 -0.46184102  0.44713342\n",
            " -0.10813344  0.27355984  0.09305717 -0.31642959 -0.28012735 -0.17244847\n",
            " -0.43788457  0.12861612 -0.22931272 -0.06682344  0.213323   -0.17965393\n",
            "  0.10089138 -0.05627592 -0.07990745 -0.14037648 -0.05770059  0.28259474\n",
            " -0.11115965  0.17981423  0.36766574  0.21772973 -0.12249158 -0.0572255\n",
            "  0.18227015  0.0226469  -0.30706945 -0.06614678  0.39244795 -0.15980715\n",
            " -0.57568038  0.14590846  0.22349489  0.15938325  0.02330099 -0.36020988\n",
            " -0.12981063  0.10379656  0.21089065  0.4969174  -0.11853307  0.11194625\n",
            "  0.09772873  0.10007204  0.10776247 -0.17880593 -0.34114397 -0.31294996\n",
            "  0.19621459 -0.10985828  0.01570268  0.0399006   0.03526429  0.08849299\n",
            " -0.00429244 -0.19102509  0.31559506 -0.19463101 -0.11103807  0.00788246\n",
            "  0.05194834  0.13712771  0.04483375 -0.09872919 -0.18121818  0.80398166\n",
            " -0.06988551 -0.248721    0.31101564 -0.02033579  0.16793272 -0.18863072\n",
            "  0.18232144  0.12354255 -0.06997249  0.23781484  0.29375306 -0.08274834\n",
            " -0.19978161 -0.46208367 -0.13172415  0.23014683  0.02951297  0.08093934\n",
            " -0.00512241  0.40462899 -0.23778817  0.0041728  -0.41033009  0.12452042\n",
            "  0.12841822  0.42620134  0.02879177  0.60438263  0.09209468 -0.12990178\n",
            "  0.04693441  0.12807503  0.48006672 -0.22024633  0.20719887  0.10627816\n",
            " -0.13176103  0.32831588 -0.08137257  0.20595913  0.09253846  0.22972037\n",
            " -0.1479267   0.22502136 -0.20320649 -0.00145926 -0.33807424  0.39947745\n",
            " -0.07094193 -0.05825693  0.15685937  0.03124512 -0.42333144  0.10611657\n",
            "  0.24448174 -0.34210998  0.34996271 -0.43613598 -0.21510062  0.34473634\n",
            " -0.45948899  0.09486131 -0.05199184  0.01918725  0.03373222 -0.45030048\n",
            " -0.1304521  -0.16087233 -0.0536949   0.09745058  0.00920493 -0.04541222\n",
            " -0.51773793  0.08808757 -0.06182846 -0.12986508  0.13809496 -0.43758646\n",
            " -0.1130822   0.02309198 -0.2112952  -0.40423608  0.10618789 -0.0298728\n",
            " -0.01723661  0.16292828 -0.10800014  0.07239259  0.11717251  0.06718413\n",
            " -0.36132556 -0.08936956 -0.26033959  0.01810128 -0.33735657 -0.04027461\n",
            " -0.30895835 -0.46250671 -0.14921342 -0.17995067 -0.13973847  0.10003744]\n"
          ]
        }
      ],
      "source": [
        "print(EMBEDDING_MATRIX[33])"
      ]
    },
    {
      "cell_type": "code",
      "execution_count": 30,
      "id": "7BTbLj8F5yyL",
      "metadata": {
        "colab": {
          "base_uri": "https://localhost:8080/"
        },
        "id": "7BTbLj8F5yyL",
        "outputId": "010ed3a7-d9aa-4377-ceec-03ed1b57137f"
      },
      "outputs": [
        {
          "data": {
            "text/plain": [
              "(8831, 300)"
            ]
          },
          "execution_count": 30,
          "metadata": {},
          "output_type": "execute_result"
        }
      ],
      "source": [
        "EMBEDDING_MATRIX.shape"
      ]
    },
    {
      "cell_type": "markdown",
      "id": "b64e75c2-f657-4e8d-998b-84ddebe4317a",
      "metadata": {
        "id": "b64e75c2-f657-4e8d-998b-84ddebe4317a"
      },
      "source": [
        "# 07 Train & Test Data Splitting"
      ]
    },
    {
      "cell_type": "code",
      "execution_count": 31,
      "id": "24fc5d77-1f3d-40cd-8384-f2e22fbe4858",
      "metadata": {
        "id": "24fc5d77-1f3d-40cd-8384-f2e22fbe4858"
      },
      "outputs": [],
      "source": [
        "NUM_CLASS = len(df['label_encode'].unique())\n",
        "\n",
        "Y = to_categorical(df['label_encode'], num_classes=NUM_CLASS)  # Lakukan one-hot encoding pada label (y)"
      ]
    },
    {
      "cell_type": "code",
      "execution_count": 32,
      "id": "0761adda-6df1-466b-ad04-c1c43459ff21",
      "metadata": {
        "colab": {
          "base_uri": "https://localhost:8080/"
        },
        "id": "0761adda-6df1-466b-ad04-c1c43459ff21",
        "outputId": "45c9c30a-d9d2-4bb0-a6f1-c1744133d4db"
      },
      "outputs": [
        {
          "data": {
            "text/plain": [
              "((1794, 80), (449, 80), (1794, 6), (449, 6))"
            ]
          },
          "execution_count": 32,
          "metadata": {},
          "output_type": "execute_result"
        }
      ],
      "source": [
        "X_train, X_test, y_train, y_test = train_test_split(data_pad, Y, test_size=0.20, stratify=Y, random_state=SEED)\n",
        "X_train.shape, X_test.shape, y_train.shape, y_test.shape"
      ]
    },
    {
      "cell_type": "markdown",
      "id": "af13d223-d8c9-43ac-9c2d-8352f980f022",
      "metadata": {
        "id": "af13d223-d8c9-43ac-9c2d-8352f980f022"
      },
      "source": [
        "# 08 Define Model (Bidirectional LSTM)"
      ]
    },
    {
      "cell_type": "markdown",
      "id": "HL4PZ8cdQb1P",
      "metadata": {
        "id": "HL4PZ8cdQb1P"
      },
      "source": [
        "## Architecture"
      ]
    },
    {
      "cell_type": "code",
      "execution_count": 33,
      "id": "aff3f131-58dc-4207-b051-e9b2f67b8f38",
      "metadata": {
        "id": "aff3f131-58dc-4207-b051-e9b2f67b8f38"
      },
      "outputs": [],
      "source": [
        "# https://www.tensorflow.org/api_docs/python/tf/keras/layers/Bidirectional\n",
        "# https://www.tensorflow.org/api_docs/python/tf/keras/layers/LSTM\n",
        "\n",
        "UNITS = 64\n",
        "\n",
        "tf.keras.backend.clear_session()\n",
        "\n",
        "model = Sequential()\n",
        "model.add(Embedding(\n",
        "    input_dim = WV_DICTIONARY_SIZE,                                \n",
        "    output_dim = EMBEDDING_SIZE,                           \n",
        "    input_length = MAX_SEQ_LENGTH,  \n",
        "    trainable = False,\n",
        "    embeddings_initializer=Constant(EMBEDDING_MATRIX)))\n",
        "model.add(Bidirectional(LSTM(UNITS*2, dropout=0.5, return_sequences=False)))\n",
        "model.add(Dense(UNITS, activation='relu'))\n",
        "model.add(Dropout(0.5))\n",
        "model.add(Dense(NUM_CLASS, activation='softmax'))"
      ]
    },
    {
      "cell_type": "code",
      "execution_count": 34,
      "id": "512cae56-10ae-4c03-8aee-2706eb27632f",
      "metadata": {
        "colab": {
          "base_uri": "https://localhost:8080/"
        },
        "id": "512cae56-10ae-4c03-8aee-2706eb27632f",
        "outputId": "59247153-6bb6-4c2b-eef6-5d977e86b105"
      },
      "outputs": [
        {
          "name": "stdout",
          "output_type": "stream",
          "text": [
            "Model: \"sequential\"\n",
            "_________________________________________________________________\n",
            " Layer (type)                Output Shape              Param #   \n",
            "=================================================================\n",
            " embedding (Embedding)       (None, 80, 300)           2649300   \n",
            "                                                                 \n",
            " bidirectional (Bidirectiona  (None, 256)              439296    \n",
            " l)                                                              \n",
            "                                                                 \n",
            " dense (Dense)               (None, 64)                16448     \n",
            "                                                                 \n",
            " dropout (Dropout)           (None, 64)                0         \n",
            "                                                                 \n",
            " dense_1 (Dense)             (None, 6)                 390       \n",
            "                                                                 \n",
            "=================================================================\n",
            "Total params: 3,105,434\n",
            "Trainable params: 456,134\n",
            "Non-trainable params: 2,649,300\n",
            "_________________________________________________________________\n"
          ]
        }
      ],
      "source": [
        "model.summary()"
      ]
    },
    {
      "cell_type": "code",
      "execution_count": 35,
      "id": "nkvBqETlErwO",
      "metadata": {
        "colab": {
          "base_uri": "https://localhost:8080/",
          "height": 605
        },
        "id": "nkvBqETlErwO",
        "outputId": "13a61ec6-b593-47ba-fbb9-41219ff3840e"
      },
      "outputs": [
        {
          "data": {
            "image/png": "[encoded data removed]",
            "text/plain": [
              "<IPython.core.display.Image object>"
            ]
          },
          "execution_count": 35,
          "metadata": {},
          "output_type": "execute_result"
        }
      ],
      "source": [
        "plot_model(model, show_shapes=True, show_layer_activations=True, show_dtype=False, dpi=90, to_file=f'{FOLDER_PATH}/model-plot/{MODEL}-model.png')"
      ]
    },
    {
      "cell_type": "markdown",
      "id": "wgQN-l4rQgRq",
      "metadata": {
        "id": "wgQN-l4rQgRq"
      },
      "source": [
        "## Compile"
      ]
    },
    {
      "cell_type": "code",
      "execution_count": 36,
      "id": "yUGUBXv8hPUu",
      "metadata": {
        "id": "yUGUBXv8hPUu"
      },
      "outputs": [],
      "source": [
        "# https://www.tensorflow.org/api_docs/python/tf/keras/metrics\n",
        "\n",
        "METRICS = [\n",
        "           tf.keras.metrics.CategoricalAccuracy(name='accuracy'),\n",
        "           tf.keras.metrics.Precision(name='precision'),\n",
        "           tf.keras.metrics.Recall(name='recall'),\n",
        "]\n",
        "\n",
        "LEARNING_RATE = 0.001"
      ]
    },
    {
      "cell_type": "code",
      "execution_count": 37,
      "id": "3fd3ef04-ea26-4988-a4fb-0cd63be04a11",
      "metadata": {
        "id": "3fd3ef04-ea26-4988-a4fb-0cd63be04a11"
      },
      "outputs": [],
      "source": [
        "OPTIMIZER = Adam(learning_rate=LEARNING_RATE)\n",
        "LOSS_FUNCTION = CategoricalCrossentropy(name='categorical_crossentropy')\n",
        "\n",
        "model.compile(loss=LOSS_FUNCTION, optimizer=OPTIMIZER, metrics=METRICS)"
      ]
    },
    {
      "cell_type": "markdown",
      "id": "ac8708d7-5d3f-49b6-b28a-5a4969e160f1",
      "metadata": {
        "id": "ac8708d7-5d3f-49b6-b28a-5a4969e160f1"
      },
      "source": [
        "# 09 Early Stopping & Model Checkpoint"
      ]
    },
    {
      "cell_type": "code",
      "execution_count": 38,
      "id": "14a556fb-a4fa-46c2-85b2-f1d7731ac148",
      "metadata": {
        "id": "14a556fb-a4fa-46c2-85b2-f1d7731ac148"
      },
      "outputs": [],
      "source": [
        "# Early stopping criteria\n",
        "early_stopping = EarlyStopping(monitor='val_loss', mode='auto', verbose=1, patience=5)\n",
        "\n",
        "# Path to model checkpoint\n",
        "checkpoint_dir = f'{FOLDER_PATH}/model-checkpoint/{MODEL}/cp.ckpt'\n",
        "model_checkpoint = ModelCheckpoint(checkpoint_dir, monitor='val_accuracy', save_weights_only=True, verbose=1, save_freq='epoch', save_best_only=True)"
      ]
    },
    {
      "cell_type": "code",
      "execution_count": 39,
      "id": "SfBzZKiLA7k5",
      "metadata": {
        "colab": {
          "base_uri": "https://localhost:8080/"
        },
        "id": "SfBzZKiLA7k5",
        "outputId": "1c8e66e3-4a07-46df-9221-c534abccfe21"
      },
      "outputs": [
        {
          "name": "stdout",
          "output_type": "stream",
          "text": [
            "model-baseline-bilstm/model-log/id-tweet-word2vec-bilstm/20220715-174810\n"
          ]
        }
      ],
      "source": [
        "# Path to model log\n",
        "log_dir = f'{FOLDER_PATH}/model-log/{MODEL}/' + datetime.datetime.now().strftime('%Y%m%d-%H%M%S')\n",
        "print(log_dir)"
      ]
    },
    {
      "cell_type": "code",
      "execution_count": 40,
      "id": "4000c916-de1c-4eb8-86c4-9118bb24888e",
      "metadata": {
        "id": "4000c916-de1c-4eb8-86c4-9118bb24888e"
      },
      "outputs": [],
      "source": [
        "tensorboard_callback = TensorBoard(log_dir=log_dir ,update_freq='epoch', histogram_freq=1, embeddings_freq=1)"
      ]
    },
    {
      "cell_type": "markdown",
      "id": "345bb69d-1998-4891-ae17-47932870a21d",
      "metadata": {
        "id": "345bb69d-1998-4891-ae17-47932870a21d"
      },
      "source": [
        "# 10 Training"
      ]
    },
    {
      "cell_type": "code",
      "execution_count": 41,
      "id": "bdd7ff34-3e39-4c62-a25d-af2b1e1e35e7",
      "metadata": {
        "id": "bdd7ff34-3e39-4c62-a25d-af2b1e1e35e7"
      },
      "outputs": [],
      "source": [
        "EPOCHS = 10\n",
        "BATCH_SIZE = 16\n",
        "\n",
        "# Config for wandb\n",
        "config = {\n",
        "    'type': 'baseline',\n",
        "    'model_architecture': 'BiLSTM',\n",
        "    'word_embedding': 'Word2Vec-ID-tweet-300',\n",
        "    'dataset': 'indo-tweet-emotion',\n",
        "    'learning_rate': LEARNING_RATE,\n",
        "    'batch_size': BATCH_SIZE,\n",
        "    'epochs': EPOCHS,\n",
        "    'loss_function': LOSS_FUNCTION.name,\n",
        "    'optimizer': OPTIMIZER._name\n",
        "}"
      ]
    },
    {
      "cell_type": "code",
      "execution_count": 42,
      "id": "50c487c3-da7b-4161-8e63-f8edc3ee6a44",
      "metadata": {
        "colab": {
          "base_uri": "https://localhost:8080/",
          "height": 964,
          "referenced_widgets": [
            "a6abcc9989ef429eb61ac08d40de4625",
            "a02453401cd540efb38c784b92a7d456",
            "2f3737192b2341af9eaf5907bbe6b962",
            "123134b30d104099921706da7f922d88",
            "2c7c9487e6e042dfa2df51b288632e5b",
            "7160ab01c8be4459a5fdd25b7cc35145",
            "c6c55db3981e42c69a5f579f4b89a47b",
            "cf161c7cc656426c9ddba4ff5d1f544e"
          ]
        },
        "id": "50c487c3-da7b-4161-8e63-f8edc3ee6a44",
        "outputId": "b8eac993-b8a8-4fb1-dfa9-218e0a968dec",
        "tags": []
      },
      "outputs": [
        {
          "name": "stderr",
          "output_type": "stream",
          "text": [
            "\u001b[34m\u001b[1mwandb\u001b[0m: Currently logged in as: \u001b[33mindoemobert\u001b[0m. Use \u001b[1m`wandb login --relogin`\u001b[0m to force relogin\n"
          ]
        },
        {
          "data": {
            "text/html": [
              "Tracking run with wandb version 0.12.21"
            ],
            "text/plain": [
              "<IPython.core.display.HTML object>"
            ]
          },
          "metadata": {},
          "output_type": "display_data"
        },
        {
          "data": {
            "text/html": [
              "Run data is saved locally in <code>/content/drive/MyDrive/Code/tesis/wandb/run-20220715_174813-3uo2nj81</code>"
            ],
            "text/plain": [
              "<IPython.core.display.HTML object>"
            ]
          },
          "metadata": {},
          "output_type": "display_data"
        },
        {
          "data": {
            "text/html": [
              "Syncing run <strong><a href=\"https://wandb.ai/indoemobert/baseline-bilstm/runs/3uo2nj81\" target=\"_blank\">id-tweet-word2vec-bilstm</a></strong> to <a href=\"https://wandb.ai/indoemobert/baseline-bilstm\" target=\"_blank\">Weights & Biases</a> (<a href=\"https://wandb.me/run\" target=\"_blank\">docs</a>)<br/>"
            ],
            "text/plain": [
              "<IPython.core.display.HTML object>"
            ]
          },
          "metadata": {},
          "output_type": "display_data"
        },
        {
          "name": "stdout",
          "output_type": "stream",
          "text": [
            "WARNING:tensorflow:From /usr/local/lib/python3.7/dist-packages/tensorflow/python/profiler/internal/flops_registry.py:138: tensor_shape_from_node_def_name (from tensorflow.python.framework.graph_util_impl) is deprecated and will be removed in a future version.\n",
            "Instructions for updating:\n",
            "Use `tf.compat.v1.graph_util.tensor_shape_from_node_def_name`\n",
            "Epoch 1/10\n",
            "113/113 [==============================] - 14s 56ms/step - loss: 1.5697 - accuracy: 0.3880 - precision: 0.8742 - recall: 0.0736 - val_loss: 1.1041 - val_accuracy: 0.6125 - val_precision: 0.8947 - val_recall: 0.3408 - _timestamp: 1657907311.0000 - _runtime: 18.0000\n",
            "Epoch 2/10\n",
            "113/113 [==============================] - 3s 23ms/step - loss: 1.0221 - accuracy: 0.6600 - precision: 0.8327 - recall: 0.4660 - val_loss: 0.8435 - val_accuracy: 0.7639 - val_precision: 0.8593 - val_recall: 0.6392 - _timestamp: 1657907314.0000 - _runtime: 21.0000\n",
            "Epoch 3/10\n",
            "113/113 [==============================] - 3s 23ms/step - loss: 0.8014 - accuracy: 0.7575 - precision: 0.8426 - recall: 0.6594 - val_loss: 0.7120 - val_accuracy: 0.7951 - val_precision: 0.8803 - val_recall: 0.6882 - _timestamp: 1657907316.0000 - _runtime: 23.0000\n",
            "Epoch 4/10\n",
            "113/113 [==============================] - 3s 23ms/step - loss: 0.7553 - accuracy: 0.7765 - precision: 0.8575 - recall: 0.6812 - val_loss: 0.6241 - val_accuracy: 0.8307 - val_precision: 0.8609 - val_recall: 0.7996 - _timestamp: 1657907319.0000 - _runtime: 26.0000\n",
            "Epoch 5/10\n",
            "113/113 [==============================] - 3s 23ms/step - loss: 0.6764 - accuracy: 0.7965 - precision: 0.8548 - recall: 0.7319 - val_loss: 0.5656 - val_accuracy: 0.8285 - val_precision: 0.8837 - val_recall: 0.7951 - _timestamp: 1657907321.0000 - _runtime: 28.0000\n",
            "Epoch 6/10\n",
            "113/113 [==============================] - 3s 23ms/step - loss: 0.6410 - accuracy: 0.8122 - precision: 0.8636 - recall: 0.7553 - val_loss: 0.5984 - val_accuracy: 0.8330 - val_precision: 0.8686 - val_recall: 0.7951 - _timestamp: 1657907324.0000 - _runtime: 31.0000\n",
            "Epoch 7/10\n",
            "113/113 [==============================] - 3s 23ms/step - loss: 0.6254 - accuracy: 0.8038 - precision: 0.8598 - recall: 0.7486 - val_loss: 0.5787 - val_accuracy: 0.8419 - val_precision: 0.8771 - val_recall: 0.7951 - _timestamp: 1657907327.0000 - _runtime: 34.0000\n",
            "Epoch 8/10\n",
            "113/113 [==============================] - 3s 23ms/step - loss: 0.6212 - accuracy: 0.8043 - precision: 0.8603 - recall: 0.7486 - val_loss: 0.5965 - val_accuracy: 0.8307 - val_precision: 0.8911 - val_recall: 0.8018 - _timestamp: 1657907329.0000 - _runtime: 36.0000\n",
            "Epoch 9/10\n",
            "113/113 [==============================] - 3s 23ms/step - loss: 0.5724 - accuracy: 0.8183 - precision: 0.8658 - recall: 0.7698 - val_loss: 0.5852 - val_accuracy: 0.8441 - val_precision: 0.8711 - val_recall: 0.8129 - _timestamp: 1657907332.0000 - _runtime: 39.0000\n",
            "Epoch 10/10\n",
            "113/113 [==============================] - 3s 23ms/step - loss: 0.5806 - accuracy: 0.8172 - precision: 0.8534 - recall: 0.7692 - val_loss: 0.5844 - val_accuracy: 0.8352 - val_precision: 0.8675 - val_recall: 0.8018 - _timestamp: 1657907334.0000 - _runtime: 41.0000\n"
          ]
        },
        {
          "data": {
            "text/html": [
              "Waiting for W&B process to finish... <strong style=\"color:green\">(success).</strong>"
            ],
            "text/plain": [
              "<IPython.core.display.HTML object>"
            ]
          },
          "metadata": {},
          "output_type": "display_data"
        },
        {
          "data": {
            "application/vnd.jupyter.widget-view+json": {
              "model_id": "a6abcc9989ef429eb61ac08d40de4625",
              "version_major": 2,
              "version_minor": 0
            },
            "text/plain": [
              "VBox(children=(Label(value='0.001 MB of 0.001 MB uploaded (0.000 MB deduped)\\r'), FloatProgress(value=1.0, max…"
            ]
          },
          "metadata": {},
          "output_type": "display_data"
        },
        {
          "data": {
            "text/html": [
              "<style>\n",
              "    table.wandb td:nth-child(1) { padding: 0 10px; text-align: left ; width: auto;} td:nth-child(2) {text-align: left ; width: 100%}\n",
              "    .wandb-row { display: flex; flex-direction: row; flex-wrap: wrap; justify-content: flex-start; width: 100% }\n",
              "    .wandb-col { display: flex; flex-direction: column; flex-basis: 100%; flex: 1; padding: 10px; }\n",
              "    </style>\n",
              "<div class=\"wandb-row\"><div class=\"wandb-col\"><h3>Run history:</h3><br/><table class=\"wandb\"><tr><td>accuracy</td><td>▁▅▇▇██████</td></tr><tr><td>epoch</td><td>▁▂▃▃▄▅▆▆▇█</td></tr><tr><td>loss</td><td>█▄▃▂▂▁▁▁▁▁</td></tr><tr><td>precision</td><td>█▁▃▅▅▆▆▆▇▅</td></tr><tr><td>recall</td><td>▁▅▇▇██████</td></tr><tr><td>val_accuracy</td><td>▁▆▇███████</td></tr><tr><td>val_loss</td><td>█▅▃▂▁▁▁▁▁▁</td></tr><tr><td>val_precision</td><td>█▁▅▁▆▃▅▇▃▃</td></tr><tr><td>val_recall</td><td>▁▅▆███████</td></tr></table><br/></div><div class=\"wandb-col\"><h3>Run summary:</h3><br/><table class=\"wandb\"><tr><td>GFLOPS</td><td>4e-05</td></tr><tr><td>accuracy</td><td>0.81717</td></tr><tr><td>best_epoch</td><td>4</td></tr><tr><td>best_val_loss</td><td>0.56559</td></tr><tr><td>epoch</td><td>9</td></tr><tr><td>loss</td><td>0.58058</td></tr><tr><td>precision</td><td>0.85343</td></tr><tr><td>recall</td><td>0.76923</td></tr><tr><td>val_accuracy</td><td>0.83519</td></tr><tr><td>val_loss</td><td>0.5844</td></tr><tr><td>val_precision</td><td>0.86747</td></tr><tr><td>val_recall</td><td>0.80178</td></tr></table><br/></div></div>"
            ],
            "text/plain": [
              "<IPython.core.display.HTML object>"
            ]
          },
          "metadata": {},
          "output_type": "display_data"
        },
        {
          "data": {
            "text/html": [
              "Synced <strong style=\"color:#cdcd00\">id-tweet-word2vec-bilstm</strong>: <a href=\"https://wandb.ai/indoemobert/baseline-bilstm/runs/3uo2nj81\" target=\"_blank\">https://wandb.ai/indoemobert/baseline-bilstm/runs/3uo2nj81</a><br/>Synced 5 W&B file(s), 1 media file(s), 0 artifact file(s) and 0 other file(s)"
            ],
            "text/plain": [
              "<IPython.core.display.HTML object>"
            ]
          },
          "metadata": {},
          "output_type": "display_data"
        },
        {
          "data": {
            "text/html": [
              "Find logs at: <code>./wandb/run-20220715_174813-3uo2nj81/logs</code>"
            ],
            "text/plain": [
              "<IPython.core.display.HTML object>"
            ]
          },
          "metadata": {},
          "output_type": "display_data"
        },
        {
          "name": "stdout",
          "output_type": "stream",
          "text": [
            "CPU times: user 41.4 s, sys: 4.21 s, total: 45.6 s\n",
            "Wall time: 54.6 s\n"
          ]
        }
      ],
      "source": [
        "%%time\n",
        "\n",
        "# Initialize wandb \n",
        "wandb.tensorboard.patch(root_logdir=log_dir)\n",
        "wandb_run = wandb.init(project='baseline-bilstm', name=f'{MODEL}', entity='indoemobert', config=config, sync_tensorboard=True)\n",
        "\n",
        "# Training\n",
        "model_history = model.fit(\n",
        "    X_train, \n",
        "    y_train, \n",
        "    epochs=EPOCHS,\n",
        "    batch_size=BATCH_SIZE, \n",
        "    validation_data=(X_test, y_test), \n",
        "    verbose=1, \n",
        "    steps_per_epoch=int(np.ceil(X_train.shape[0] / BATCH_SIZE)),\n",
        "    callbacks=[\n",
        "        # early_stopping, \n",
        "        # model_checkpoint,\n",
        "        # tensorboard_callback,\n",
        "        WandbCallback(\n",
        "            input_type='text',\n",
        "            training_data=(X_train, y_train),\n",
        "            validation_data=(X_test, y_test),\n",
        "            labels=LABEL_NAME,\n",
        "            monitor='val_loss',\n",
        "            log_best_prefix='best_',\n",
        "            log_gradients=True,\n",
        "            log_weights=True,\n",
        "            save_weights_only=True,\n",
        "            save_model=False\n",
        "        )]\n",
        ")\n",
        "\n",
        "wandb_run.finish()"
      ]
    },
    {
      "cell_type": "code",
      "execution_count": 43,
      "id": "v8JDUWcYkfLx",
      "metadata": {
        "id": "v8JDUWcYkfLx"
      },
      "outputs": [],
      "source": [
        "def plot_metrics(history):\n",
        "  metrics = ['loss', 'accuracy', 'precision', 'recall']\n",
        "  plt.figure(figsize=(12, 10))\n",
        "  for n, metric in enumerate(metrics):\n",
        "    name = metric.replace('_',' ').capitalize()\n",
        "    plt.subplot(2,2,n+1)\n",
        "    plt.plot(history.epoch, history.history[metric], color=colors[0], label='Train')\n",
        "    plt.plot(history.epoch, history.history['val_'+metric], color=colors[0], linestyle='--', label='Validation')\n",
        "    plt.xlabel('Epoch')\n",
        "    plt.ylabel(name)\n",
        "\n",
        "    if metric == 'loss':\n",
        "      plt.ylim([0, plt.ylim()[1]])\n",
        "    else:\n",
        "      plt.ylim([0,1])\n",
        "\n",
        "    plt.legend(loc='lower right');"
      ]
    },
    {
      "cell_type": "code",
      "execution_count": 44,
      "id": "PyuujOGXkwxe",
      "metadata": {
        "colab": {
          "base_uri": "https://localhost:8080/",
          "height": 610
        },
        "id": "PyuujOGXkwxe",
        "outputId": "8e174d1a-5c2c-45f1-8959-92bb6096c09b"
      },
      "outputs": [
        {
          "data": {
            "image/png": "[encoded data removed]",
            "text/plain": [
              "<Figure size 864x720 with 4 Axes>"
            ]
          },
          "metadata": {
            "needs_background": "light"
          },
          "output_type": "display_data"
        }
      ],
      "source": [
        "plot_metrics(model_history)"
      ]
    },
    {
      "cell_type": "code",
      "execution_count": 45,
      "id": "ilmk1XTu9Xt7",
      "metadata": {
        "colab": {
          "base_uri": "https://localhost:8080/"
        },
        "id": "ilmk1XTu9Xt7",
        "outputId": "b6985b5f-eb98-40c4-ede4-18a6a261c772"
      },
      "outputs": [
        {
          "name": "stdout",
          "output_type": "stream",
          "text": [
            "       loss  accuracy  precision    recall  val_loss  val_accuracy  \\\n",
            "0  1.569731  0.387960   0.874172  0.073579  1.104089      0.612472   \n",
            "1  1.022078  0.659978   0.832669  0.465998  0.843500      0.763920   \n",
            "2  0.801377  0.757525   0.842593  0.659420  0.711978      0.795100   \n",
            "3  0.755324  0.776477   0.857544  0.681159  0.624065      0.830735   \n",
            "4  0.676356  0.796544   0.854818  0.731884  0.565592      0.828508   \n",
            "5  0.641008  0.812152   0.863607  0.755295  0.598378      0.832962   \n",
            "6  0.625418  0.803790   0.859795  0.748606  0.578749      0.841871   \n",
            "7  0.621191  0.804348   0.860346  0.748606  0.596456      0.830735   \n",
            "8  0.572380  0.818283   0.865831  0.769788  0.585238      0.844098   \n",
            "9  0.580582  0.817168   0.853432  0.769231  0.584403      0.835189   \n",
            "\n",
            "   val_precision  val_recall  _timestamp  _runtime  \n",
            "0       0.894737    0.340757  1657907311        18  \n",
            "1       0.859281    0.639198  1657907314        21  \n",
            "2       0.880342    0.688196  1657907316        23  \n",
            "3       0.860911    0.799555  1657907319        26  \n",
            "4       0.883663    0.795100  1657907321        28  \n",
            "5       0.868613    0.795100  1657907324        31  \n",
            "6       0.877150    0.795100  1657907327        34  \n",
            "7       0.891089    0.801782  1657907329        36  \n",
            "8       0.871122    0.812918  1657907332        39  \n",
            "9       0.867470    0.801782  1657907334        41  \n"
          ]
        }
      ],
      "source": [
        "hist_df = pd.DataFrame(model_history.history)\n",
        "print(hist_df)\n",
        "\n",
        "hist_df.to_csv(f'{FOLDER_PATH}/model-history/{MODEL}-{TODAY}.csv')"
      ]
    },
    {
      "cell_type": "code",
      "execution_count": 46,
      "id": "88a1e276-1197-4331-b387-db867bb8a6f2",
      "metadata": {
        "id": "88a1e276-1197-4331-b387-db867bb8a6f2"
      },
      "outputs": [],
      "source": [
        "# save model\n",
        "model.save(f'{FOLDER_PATH}/model-fit/{MODEL}/{MODEL}.h5')"
      ]
    },
    {
      "cell_type": "markdown",
      "id": "f47228a0-2b5c-4ccd-8374-f6606913add2",
      "metadata": {
        "id": "f47228a0-2b5c-4ccd-8374-f6606913add2"
      },
      "source": [
        "# 11 Evaluation"
      ]
    },
    {
      "cell_type": "code",
      "execution_count": 47,
      "id": "4b70a8d2-ac47-47f5-be3a-557e8dfee000",
      "metadata": {
        "colab": {
          "base_uri": "https://localhost:8080/"
        },
        "id": "4b70a8d2-ac47-47f5-be3a-557e8dfee000",
        "outputId": "213dbfd1-445e-4f6f-83f7-bc88454eff6e"
      },
      "outputs": [
        {
          "name": "stdout",
          "output_type": "stream",
          "text": [
            "15/15 [==============================] - 0s 6ms/step - loss: 0.5844 - accuracy: 0.8352 - precision: 0.8675 - recall: 0.8018\n",
            "Accuracy: 83.52%\n"
          ]
        }
      ],
      "source": [
        "y_pred = np.argmax(model.predict(X_test), axis=1)\n",
        "y_true = np.argmax(y_test, axis=1)\n",
        "\n",
        "loss, accuracy, precision, recall = model.evaluate(X_test, y_test)\n",
        "print(\"Accuracy: %.2f%%\" % (accuracy*100))"
      ]
    },
    {
      "cell_type": "code",
      "execution_count": 48,
      "id": "yDfdvYRmCsxk",
      "metadata": {
        "colab": {
          "base_uri": "https://localhost:8080/",
          "height": 441
        },
        "id": "yDfdvYRmCsxk",
        "outputId": "2bfd9e15-6653-4dc2-e0c6-c8df2021f0e2"
      },
      "outputs": [
        {
          "data": {
            "image/png": "[encoded data removed]",
            "text/plain": [
              "<Figure size 576x432 with 2 Axes>"
            ]
          },
          "metadata": {
            "needs_background": "light"
          },
          "output_type": "display_data"
        }
      ],
      "source": [
        "cm = confusion_matrix(y_true, y_pred)\n",
        "\n",
        "plt.figure(figsize=(8, 6))\n",
        "ax = plt.subplot()\n",
        "sns.heatmap(cm, annot=True, fmt='g', ax=ax, cmap='Blues')  # annot=True to annotate cells, ftm='g' to disable scientific notation\n",
        "\n",
        "ax.set_xlabel('Predicted labels')\n",
        "ax.set_ylabel('True labels') \n",
        "ax.set_title('Confusion Matrix')\n",
        "ax.xaxis.set_ticklabels(LABEL_NAME)\n",
        "ax.yaxis.set_ticklabels(LABEL_NAME)\n",
        "plt.tight_layout()"
      ]
    },
    {
      "cell_type": "code",
      "execution_count": 49,
      "id": "4990b17c-b31c-44d7-af33-1c408dc09407",
      "metadata": {
        "colab": {
          "base_uri": "https://localhost:8080/"
        },
        "id": "4990b17c-b31c-44d7-af33-1c408dc09407",
        "outputId": "f9b7a62f-6028-46d4-bb7c-e2ee4c86fb58"
      },
      "outputs": [
        {
          "name": "stdout",
          "output_type": "stream",
          "text": [
            "              precision    recall  f1-score   support\n",
            "\n",
            "       anger       0.77      0.86      0.81        85\n",
            "     disgust       0.94      0.89      0.92        75\n",
            "        fear       0.82      0.90      0.86        72\n",
            "         joy       0.77      0.77      0.77        86\n",
            "     sadness       0.90      0.77      0.83        71\n",
            "    surprise       0.86      0.82      0.84        60\n",
            "\n",
            "    accuracy                           0.84       449\n",
            "   macro avg       0.84      0.84      0.84       449\n",
            "weighted avg       0.84      0.84      0.84       449\n",
            "\n"
          ]
        }
      ],
      "source": [
        "print(classification_report(y_pred, y_true, target_names=LABEL_NAME))"
      ]
    },
    {
      "cell_type": "code",
      "execution_count": 50,
      "id": "NJDXzKZh7IsD",
      "metadata": {
        "id": "NJDXzKZh7IsD"
      },
      "outputs": [],
      "source": [
        "def plot_roc_curve(y_test, y_pred):\n",
        "  \n",
        "  n_classes = len(np.unique(y_test))\n",
        "  y_test = label_binarize(y_test, classes=np.arange(len(LABEL_NAME)))\n",
        "  y_pred = label_binarize(y_pred, classes=np.arange(len(LABEL_NAME)))\n",
        "\n",
        "  # Compute ROC curve and ROC area for each class\n",
        "  fpr = dict()\n",
        "  tpr = dict()\n",
        "  roc_auc = dict()\n",
        "  for i in range(n_classes):\n",
        "    fpr[i], tpr[i], _ = roc_curve(y_test[:, i], y_pred[:, i])\n",
        "    roc_auc[i] = auc(fpr[i], tpr[i])\n",
        "  \n",
        "  # Compute micro-average ROC curve and ROC area\n",
        "  fpr['micro'], tpr['micro'], _ = roc_curve(y_test.ravel(), y_pred.ravel())\n",
        "  roc_auc['micro'] = auc(fpr['micro'], tpr['micro'])\n",
        "\n",
        "  # First aggregate all false positive rates\n",
        "  all_fpr = np.unique(np.concatenate([fpr[i] for i in range(n_classes)]))\n",
        "\n",
        "  # Then interpolate all ROC curves at this points\n",
        "  mean_tpr = np.zeros_like(all_fpr)\n",
        "  for i in range(n_classes):\n",
        "    mean_tpr += np.interp(all_fpr, fpr[i], tpr[i])\n",
        "\n",
        "  # Finally average it and compute AUC\n",
        "  mean_tpr /= n_classes\n",
        "\n",
        "  fpr['macro'] = all_fpr\n",
        "  tpr['macro'] = mean_tpr\n",
        "  roc_auc['macro'] = auc(fpr['macro'], tpr['macro'])\n",
        "\n",
        "  # Plot all ROC curves\n",
        "  plt.figure(figsize=(10, 7))\n",
        "  lw = 2\n",
        "  plt.plot(fpr['micro'], tpr['micro'],\n",
        "    label='micro-average ROC curve (area = {0:0.2f})'.format(roc_auc['micro']),\n",
        "    color='deeppink', linestyle=':', linewidth=4,)\n",
        "\n",
        "  plt.plot(fpr['macro'], tpr['macro'],\n",
        "    label='macro-average ROC curve (area = {0:0.2f})'.format(roc_auc['macro']),\n",
        "    color='navy', linestyle=':', linewidth=4,)\n",
        "\n",
        "  colors = cycle(['aqua', 'darkorange', 'darkgreen', 'yellow', 'blue', 'red'])\n",
        "  for i, color, label in zip(range(n_classes), colors, LABEL_NAME):\n",
        "    plt.plot(fpr[i], tpr[i], color=color, lw=lw,\n",
        "        label=\"ROC curve of class {0} (area = {1:0.2f})\".format(label, roc_auc[i]))\n",
        "\n",
        "  plt.plot([0, 1], [0, 1], 'k--', lw=lw)\n",
        "  plt.xlim([0.0, 1.0])\n",
        "  plt.ylim([0.0, 1.05])\n",
        "  plt.xlabel('False Positive Rate')\n",
        "  plt.ylabel('True Positive Rate')\n",
        "  plt.title('Receiver Operating Characteristic (ROC) curve')\n",
        "  plt.legend()\n",
        "  plt.show()"
      ]
    },
    {
      "cell_type": "code",
      "execution_count": 51,
      "id": "pJLKZbNL7Mvn",
      "metadata": {
        "colab": {
          "base_uri": "https://localhost:8080/",
          "height": 458
        },
        "id": "pJLKZbNL7Mvn",
        "outputId": "bc5ad732-6129-4791-a5ec-5110404dc5e9"
      },
      "outputs": [
        {
          "data": {
            "image/png": "[encoded data removed]",
            "text/plain": [
              "<Figure size 720x504 with 1 Axes>"
            ]
          },
          "metadata": {
            "needs_background": "light"
          },
          "output_type": "display_data"
        }
      ],
      "source": [
        "plot_roc_curve(y_pred, y_true)"
      ]
    },
    {
      "cell_type": "markdown",
      "id": "9vw4g3s-z-Rw",
      "metadata": {
        "id": "9vw4g3s-z-Rw"
      },
      "source": [
        "# 12 Predict on New Data"
      ]
    },
    {
      "cell_type": "code",
      "execution_count": 52,
      "id": "ZxfTw0Kk0DTW",
      "metadata": {
        "colab": {
          "base_uri": "https://localhost:8080/"
        },
        "id": "ZxfTw0Kk0DTW",
        "outputId": "3acb9a62-d3da-43a0-e1a0-290c3ea43c34"
      },
      "outputs": [
        {
          "name": "stdout",
          "output_type": "stream",
          "text": [
            "[[1.3927975e-01 7.7854667e-04 6.0694804e-03 4.4490937e-02 8.0713874e-01\n",
            "  2.2425181e-03]] ['sadness']\n"
          ]
        }
      ],
      "source": [
        "new_text = ['Hargai kebahagiaan jika kamu pernah sedih']\n",
        "\n",
        "text_seq = tokenizer.texts_to_sequences(new_text,)\n",
        "text_padded = pad_sequences(text_seq, maxlen=MAX_SEQ_LENGTH, padding=PADDING, truncating=TRUNCATING)\n",
        "\n",
        "pred = model.predict(text_padded)\n",
        "\n",
        "print(pred, LABEL_NAME[np.argmax(pred, axis=1)])"
      ]
    }
  ],
  "metadata": {
    "accelerator": "GPU",
    "colab": {
      "collapsed_sections": [],
      "include_colab_link": true,
      "machine_shape": "hm",
      "name": "05-Word2Vec-ID-Tweet300-BiLSTM.ipynb",
      "provenance": [],
      "toc_visible": true
    },
    "kernelspec": {
      "display_name": "Python 3.8.8 ('base')",
      "language": "python",
      "name": "python3"
    },
    "language_info": {
      "codemirror_mode": {
        "name": "ipython",
        "version": 3
      },
      "file_extension": ".py",
      "mimetype": "text/x-python",
      "name": "python",
      "nbconvert_exporter": "python",
      "pygments_lexer": "ipython3",
      "version": "3.8.8"
    },
    "vscode": {
      "interpreter": {
        "hash": "ad2bdc8ecc057115af97d19610ffacc2b4e99fae6737bb82f5d7fb13d2f2c186"
      }
    },
    "widgets": {
      "application/vnd.jupyter.widget-state+json": {
        "123134b30d104099921706da7f922d88": {
          "model_module": "@jupyter-widgets/base",
          "model_module_version": "1.2.0",
          "model_name": "LayoutModel",
          "state": {
            "_model_module": "@jupyter-widgets/base",
            "_model_module_version": "1.2.0",
            "_model_name": "LayoutModel",
            "_view_count": null,
            "_view_module": "@jupyter-widgets/base",
            "_view_module_version": "1.2.0",
            "_view_name": "LayoutView",
            "align_content": null,
            "align_items": null,
            "align_self": null,
            "border": null,
            "bottom": null,
            "display": null,
            "flex": null,
            "flex_flow": null,
            "grid_area": null,
            "grid_auto_columns": null,
            "grid_auto_flow": null,
            "grid_auto_rows": null,
            "grid_column": null,
            "grid_gap": null,
            "grid_row": null,
            "grid_template_areas": null,
            "grid_template_columns": null,
            "grid_template_rows": null,
            "height": null,
            "justify_content": null,
            "justify_items": null,
            "left": null,
            "margin": null,
            "max_height": null,
            "max_width": null,
            "min_height": null,
            "min_width": null,
            "object_fit": null,
            "object_position": null,
            "order": null,
            "overflow": null,
            "overflow_x": null,
            "overflow_y": null,
            "padding": null,
            "right": null,
            "top": null,
            "visibility": null,
            "width": null
          }
        },
        "2c7c9487e6e042dfa2df51b288632e5b": {
          "model_module": "@jupyter-widgets/base",
          "model_module_version": "1.2.0",
          "model_name": "LayoutModel",
          "state": {
            "_model_module": "@jupyter-widgets/base",
            "_model_module_version": "1.2.0",
            "_model_name": "LayoutModel",
            "_view_count": null,
            "_view_module": "@jupyter-widgets/base",
            "_view_module_version": "1.2.0",
            "_view_name": "LayoutView",
            "align_content": null,
            "align_items": null,
            "align_self": null,
            "border": null,
            "bottom": null,
            "display": null,
            "flex": null,
            "flex_flow": null,
            "grid_area": null,
            "grid_auto_columns": null,
            "grid_auto_flow": null,
            "grid_auto_rows": null,
            "grid_column": null,
            "grid_gap": null,
            "grid_row": null,
            "grid_template_areas": null,
            "grid_template_columns": null,
            "grid_template_rows": null,
            "height": null,
            "justify_content": null,
            "justify_items": null,
            "left": null,
            "margin": null,
            "max_height": null,
            "max_width": null,
            "min_height": null,
            "min_width": null,
            "object_fit": null,
            "object_position": null,
            "order": null,
            "overflow": null,
            "overflow_x": null,
            "overflow_y": null,
            "padding": null,
            "right": null,
            "top": null,
            "visibility": null,
            "width": null
          }
        },
        "2f3737192b2341af9eaf5907bbe6b962": {
          "model_module": "@jupyter-widgets/controls",
          "model_module_version": "1.5.0",
          "model_name": "FloatProgressModel",
          "state": {
            "_dom_classes": [],
            "_model_module": "@jupyter-widgets/controls",
            "_model_module_version": "1.5.0",
            "_model_name": "FloatProgressModel",
            "_view_count": null,
            "_view_module": "@jupyter-widgets/controls",
            "_view_module_version": "1.5.0",
            "_view_name": "ProgressView",
            "bar_style": "",
            "description": "",
            "description_tooltip": null,
            "layout": "IPY_MODEL_c6c55db3981e42c69a5f579f4b89a47b",
            "max": 1,
            "min": 0,
            "orientation": "horizontal",
            "style": "IPY_MODEL_cf161c7cc656426c9ddba4ff5d1f544e",
            "value": 1
          }
        },
        "7160ab01c8be4459a5fdd25b7cc35145": {
          "model_module": "@jupyter-widgets/controls",
          "model_module_version": "1.5.0",
          "model_name": "DescriptionStyleModel",
          "state": {
            "_model_module": "@jupyter-widgets/controls",
            "_model_module_version": "1.5.0",
            "_model_name": "DescriptionStyleModel",
            "_view_count": null,
            "_view_module": "@jupyter-widgets/base",
            "_view_module_version": "1.2.0",
            "_view_name": "StyleView",
            "description_width": ""
          }
        },
        "a02453401cd540efb38c784b92a7d456": {
          "model_module": "@jupyter-widgets/controls",
          "model_module_version": "1.5.0",
          "model_name": "LabelModel",
          "state": {
            "_dom_classes": [],
            "_model_module": "@jupyter-widgets/controls",
            "_model_module_version": "1.5.0",
            "_model_name": "LabelModel",
            "_view_count": null,
            "_view_module": "@jupyter-widgets/controls",
            "_view_module_version": "1.5.0",
            "_view_name": "LabelView",
            "description": "",
            "description_tooltip": null,
            "layout": "IPY_MODEL_2c7c9487e6e042dfa2df51b288632e5b",
            "placeholder": "​",
            "style": "IPY_MODEL_7160ab01c8be4459a5fdd25b7cc35145",
            "value": "0.037 MB of 0.037 MB uploaded (0.000 MB deduped)\r"
          }
        },
        "a6abcc9989ef429eb61ac08d40de4625": {
          "model_module": "@jupyter-widgets/controls",
          "model_module_version": "1.5.0",
          "model_name": "VBoxModel",
          "state": {
            "_dom_classes": [],
            "_model_module": "@jupyter-widgets/controls",
            "_model_module_version": "1.5.0",
            "_model_name": "VBoxModel",
            "_view_count": null,
            "_view_module": "@jupyter-widgets/controls",
            "_view_module_version": "1.5.0",
            "_view_name": "VBoxView",
            "box_style": "",
            "children": [
              "IPY_MODEL_a02453401cd540efb38c784b92a7d456",
              "IPY_MODEL_2f3737192b2341af9eaf5907bbe6b962"
            ],
            "layout": "IPY_MODEL_123134b30d104099921706da7f922d88"
          }
        },
        "c6c55db3981e42c69a5f579f4b89a47b": {
          "model_module": "@jupyter-widgets/base",
          "model_module_version": "1.2.0",
          "model_name": "LayoutModel",
          "state": {
            "_model_module": "@jupyter-widgets/base",
            "_model_module_version": "1.2.0",
            "_model_name": "LayoutModel",
            "_view_count": null,
            "_view_module": "@jupyter-widgets/base",
            "_view_module_version": "1.2.0",
            "_view_name": "LayoutView",
            "align_content": null,
            "align_items": null,
            "align_self": null,
            "border": null,
            "bottom": null,
            "display": null,
            "flex": null,
            "flex_flow": null,
            "grid_area": null,
            "grid_auto_columns": null,
            "grid_auto_flow": null,
            "grid_auto_rows": null,
            "grid_column": null,
            "grid_gap": null,
            "grid_row": null,
            "grid_template_areas": null,
            "grid_template_columns": null,
            "grid_template_rows": null,
            "height": null,
            "justify_content": null,
            "justify_items": null,
            "left": null,
            "margin": null,
            "max_height": null,
            "max_width": null,
            "min_height": null,
            "min_width": null,
            "object_fit": null,
            "object_position": null,
            "order": null,
            "overflow": null,
            "overflow_x": null,
            "overflow_y": null,
            "padding": null,
            "right": null,
            "top": null,
            "visibility": null,
            "width": null
          }
        },
        "cf161c7cc656426c9ddba4ff5d1f544e": {
          "model_module": "@jupyter-widgets/controls",
          "model_module_version": "1.5.0",
          "model_name": "ProgressStyleModel",
          "state": {
            "_model_module": "@jupyter-widgets/controls",
            "_model_module_version": "1.5.0",
            "_model_name": "ProgressStyleModel",
            "_view_count": null,
            "_view_module": "@jupyter-widgets/base",
            "_view_module_version": "1.2.0",
            "_view_name": "StyleView",
            "bar_color": null,
            "description_width": ""
          }
        }
      }
    }
  },
  "nbformat": 4,
  "nbformat_minor": 5
}
