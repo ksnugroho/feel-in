{
  "cells": [
    {
      "cell_type": "markdown",
      "metadata": {
        "colab_type": "text",
        "id": "view-in-github"
      },
      "source": [
        "<a href=\"https://colab.research.google.com/github/ksnugroho/feel-in/blob/main/model-baseline-bilstm/04_FastText_ID_Wiki300_BiGRUs.ipynb\" target=\"_parent\"><img src=\"https://colab.research.google.com/assets/colab-badge.svg\" alt=\"Open In Colab\"/></a>"
      ]
    },
    {
      "cell_type": "markdown",
      "id": "a1bf2cd2-5a23-41fa-a4b7-71dfd3b0adb8",
      "metadata": {
        "id": "a1bf2cd2-5a23-41fa-a4b7-71dfd3b0adb8"
      },
      "source": [
        "# **FastText (ID Wiki) + Bidirectional GRU**\n",
        "\n",
        "**Thesis: Emotion Detection in Indonesian Text**\n",
        "\n",
        "Kuncahyo Setyo Nugroho<br>\n",
        "Supervisor:\n",
        "1. Dr. Eng. Fitra A. Bachtiar, S.T., M.Eng.\n",
        "2. Prof. Ir. Wayan Firdaus Mahmudy, S.Si., M.T., Ph.D.\n",
        "\n",
        "Faculty of Computer Science, Brawijaya University, Indonesia &copy; 2021-2022"
      ]
    },
    {
      "cell_type": "markdown",
      "id": "c2711406-ec5a-4ae2-bb51-ee6e38d2e14d",
      "metadata": {
        "id": "c2711406-ec5a-4ae2-bb51-ee6e38d2e14d"
      },
      "source": [
        "# 01 Setup"
      ]
    },
    {
      "cell_type": "code",
      "execution_count": null,
      "id": "AVwTm6ZzVRuK",
      "metadata": {
        "colab": {
          "base_uri": "https://localhost:8080/"
        },
        "id": "AVwTm6ZzVRuK",
        "outputId": "7347fe85-1dbf-46d7-d696-c4234a6abd0a"
      },
      "outputs": [
        {
          "name": "stdout",
          "output_type": "stream",
          "text": [
            "Mounted at /content/drive\n"
          ]
        }
      ],
      "source": [
        "from google.colab import drive\n",
        "drive.mount('/content/drive', force_remount=True)"
      ]
    },
    {
      "cell_type": "code",
      "execution_count": null,
      "id": "wFUHxFRwVT1W",
      "metadata": {
        "colab": {
          "base_uri": "https://localhost:8080/"
        },
        "id": "wFUHxFRwVT1W",
        "outputId": "4ab1e338-52eb-47d1-e6ad-40ba0ae5296a"
      },
      "outputs": [],
      "source": [
        "# Path to google drive folder\n",
        "%cd /content/drive/MyDrive/"
      ]
    },
    {
      "cell_type": "code",
      "execution_count": null,
      "id": "1d9e59eb-577c-41f1-91e7-ad35cb47e990",
      "metadata": {
        "id": "1d9e59eb-577c-41f1-91e7-ad35cb47e990",
        "tags": []
      },
      "outputs": [],
      "source": [
        "import re\n",
        "import os\n",
        "import datetime\n",
        "import numpy as np\n",
        "import pandas as pd\n",
        "import matplotlib.pyplot as plt\n",
        "import seaborn as sns\n",
        "\n",
        "from itertools import cycle\n",
        "from sklearn.preprocessing import LabelEncoder, label_binarize\n",
        "from sklearn.model_selection import train_test_split\n",
        "from sklearn.metrics import roc_curve, auc, confusion_matrix, classification_report\n",
        "\n",
        "from gensim.models import KeyedVectors\n",
        "\n",
        "import tensorflow as tf\n",
        "from tensorflow.keras.preprocessing.text import Tokenizer\n",
        "from tensorflow.keras.preprocessing.sequence import pad_sequences\n",
        "from tensorflow.keras.utils import to_categorical, plot_model\n",
        "from tensorflow.keras.optimizers import Adam\n",
        "from tensorflow.keras.losses import CategoricalCrossentropy\n",
        "from tensorflow.keras.callbacks import EarlyStopping, ModelCheckpoint, TensorBoard\n",
        "from tensorflow.keras.initializers import Constant\n",
        "from tensorflow.keras.models import Sequential \n",
        "from tensorflow.keras.layers import Embedding, Bidirectional, GRU, Dropout, Dense\n",
        "\n",
        "from tqdm import tqdm\n",
        "tqdm.pandas()\n",
        "\n",
        "import warnings\n",
        "warnings.filterwarnings('ignore')\n",
        "\n",
        "SEED = 50\n",
        "MODEL = 'id-wiki-fasstext-bigru'\n",
        "FOLDER_PATH = 'model-baseline-bilstm'\n",
        "\n",
        "np.random.seed(SEED)\n",
        "tf.random.set_seed(SEED)\n",
        "colors = plt.rcParams['axes.prop_cycle'].by_key()['color']\n",
        "\n",
        "%matplotlib inline"
      ]
    },
    {
      "cell_type": "code",
      "execution_count": null,
      "id": "2Y-QoBKiVGcU",
      "metadata": {
        "colab": {
          "base_uri": "https://localhost:8080/"
        },
        "id": "2Y-QoBKiVGcU",
        "outputId": "a8ad4e8d-1abd-4546-fce1-835d21f49df7"
      },
      "outputs": [
        {
          "name": "stdout",
          "output_type": "stream",
          "text": [
            "\u001b[K     |████████████████████████████████| 1.8 MB 16.5 MB/s \n",
            "\u001b[K     |████████████████████████████████| 181 kB 71.7 MB/s \n",
            "\u001b[K     |████████████████████████████████| 147 kB 58.0 MB/s \n",
            "\u001b[K     |████████████████████████████████| 63 kB 1.6 MB/s \n",
            "\u001b[?25h  Building wheel for pathtools (setup.py) ... \u001b[?25l\u001b[?25hdone\n"
          ]
        }
      ],
      "source": [
        "!pip install -q wandb"
      ]
    },
    {
      "cell_type": "code",
      "execution_count": null,
      "id": "48b9555b-8ac9-42ce-ab47-039461f7ddcc",
      "metadata": {
        "colab": {
          "base_uri": "https://localhost:8080/"
        },
        "id": "48b9555b-8ac9-42ce-ab47-039461f7ddcc",
        "outputId": "6413a00f-3a48-4321-e4e4-6715c2ea164d"
      },
      "outputs": [
        {
          "name": "stderr",
          "output_type": "stream",
          "text": [
            "\u001b[34m\u001b[1mwandb\u001b[0m: W&B API key is configured. Use \u001b[1m`wandb login --relogin`\u001b[0m to force relogin\n",
            "\u001b[34m\u001b[1mwandb\u001b[0m: \u001b[33mWARNING\u001b[0m If you're specifying your api key in code, ensure this code is not shared publicly.\n",
            "\u001b[34m\u001b[1mwandb\u001b[0m: \u001b[33mWARNING\u001b[0m Consider setting the WANDB_API_KEY environment variable, or running `wandb login` from the command line.\n",
            "\u001b[34m\u001b[1mwandb\u001b[0m: Appending key for api.wandb.ai to your netrc file: /root/.netrc\n"
          ]
        },
        {
          "data": {
            "text/plain": [
              "True"
            ]
          },
          "execution_count": 5,
          "metadata": {},
          "output_type": "execute_result"
        }
      ],
      "source": [
        "import wandb\n",
        "from wandb.keras import WandbCallback\n",
        "\n",
        "wandb.login(key='API_KEY')"
      ]
    },
    {
      "cell_type": "code",
      "execution_count": null,
      "id": "7GDeOKZeFvEk",
      "metadata": {
        "colab": {
          "base_uri": "https://localhost:8080/"
        },
        "id": "7GDeOKZeFvEk",
        "outputId": "e16fbb42-214b-4a7b-8f16-a70dffbaf5a6"
      },
      "outputs": [
        {
          "name": "stdout",
          "output_type": "stream",
          "text": [
            "07-15-2022-17:45\n"
          ]
        }
      ],
      "source": [
        "TODAY = datetime.datetime.now().strftime(\"%m-%d-%Y-%H:%M\")\n",
        "print(TODAY)"
      ]
    },
    {
      "cell_type": "markdown",
      "id": "68399df4-1ece-42be-926c-40c9c494d0d1",
      "metadata": {
        "id": "68399df4-1ece-42be-926c-40c9c494d0d1"
      },
      "source": [
        "# 02 Load Data"
      ]
    },
    {
      "cell_type": "code",
      "execution_count": null,
      "id": "7ab9c55e-af81-4952-9736-b3f87045cfa2",
      "metadata": {
        "colab": {
          "base_uri": "https://localhost:8080/"
        },
        "id": "7ab9c55e-af81-4952-9736-b3f87045cfa2",
        "outputId": "f0a1ab88-53d1-489c-c1aa-922b311600c5"
      },
      "outputs": [
        {
          "name": "stdout",
          "output_type": "stream",
          "text": [
            "                                               tweet    label\n",
            "0        wah belom liat muka gue lagi murka hahahaha      joy\n",
            "1  Mungkin kurang piknik adrenalin. Mereka yg ske...    anger\n",
            "2  maaf kalo tersinggung \"orang kurus cepet mati\"...    anger\n",
            "3  berserah pada maha esa paling tabah dan sabar ...      joy\n",
            "4                       Ehekk malu la hahahahahahaha  sadness\n"
          ]
        }
      ],
      "source": [
        "df = pd.read_csv('data/final-tweet-anotasi.csv', index_col=0)\n",
        "# df = df.sample(frac=1, random_state=SEED).reset_index(drop=True)   # For shuffle\n",
        "print(df.head())"
      ]
    },
    {
      "cell_type": "code",
      "execution_count": null,
      "id": "jSyeoBWmVtkA",
      "metadata": {
        "id": "jSyeoBWmVtkA"
      },
      "outputs": [],
      "source": [
        "# df = df.dropna()"
      ]
    },
    {
      "cell_type": "code",
      "execution_count": null,
      "id": "eeb8fd22-5a2b-48a9-8d5e-e5b569cb856a",
      "metadata": {
        "colab": {
          "base_uri": "https://localhost:8080/"
        },
        "id": "eeb8fd22-5a2b-48a9-8d5e-e5b569cb856a",
        "outputId": "3c462b05-55f8-46fc-9664-a58455487d35"
      },
      "outputs": [
        {
          "data": {
            "text/plain": [
              "(2243, 2)"
            ]
          },
          "execution_count": 9,
          "metadata": {},
          "output_type": "execute_result"
        }
      ],
      "source": [
        "df.shape"
      ]
    },
    {
      "cell_type": "code",
      "execution_count": null,
      "id": "ad238655-95be-4598-b60a-5aa5ee3a27be",
      "metadata": {
        "colab": {
          "base_uri": "https://localhost:8080/",
          "height": 456
        },
        "id": "ad238655-95be-4598-b60a-5aa5ee3a27be",
        "outputId": "b20455b3-e131-443e-ed72-4021bf859275"
      },
      "outputs": [
        {
          "data": {
            "image/png": "[encoded data removed]",
            "text/plain": [
              "<Figure size 576x360 with 1 Axes>"
            ]
          },
          "metadata": {
            "needs_background": "light"
          },
          "output_type": "display_data"
        },
        {
          "data": {
            "text/plain": [
              "anger       475\n",
              "disgust     355\n",
              "fear        395\n",
              "joy         429\n",
              "sadness     303\n",
              "surprise    286\n",
              "Name: label, dtype: int64"
            ]
          },
          "execution_count": 10,
          "metadata": {},
          "output_type": "execute_result"
        }
      ],
      "source": [
        "plt.figure(figsize=(8, 5))\n",
        "sns.countplot(x='label', data=df, order=df['label'].value_counts().index)\n",
        "plt.xlabel('Distribution of Emotion Label')\n",
        "plt.show()\n",
        "\n",
        "df['label'].value_counts().sort_index()"
      ]
    },
    {
      "cell_type": "markdown",
      "id": "c8468e98-5632-450d-8b96-4542508142e9",
      "metadata": {
        "id": "c8468e98-5632-450d-8b96-4542508142e9"
      },
      "source": [
        "# 03 Preprocessing"
      ]
    },
    {
      "cell_type": "markdown",
      "id": "S64juGuYEw1q",
      "metadata": {
        "id": "S64juGuYEw1q"
      },
      "source": [
        "## Text Cleaning"
      ]
    },
    {
      "cell_type": "code",
      "execution_count": null,
      "id": "ebe49f47-6c6a-4f61-8d6c-770106d96043",
      "metadata": {
        "id": "ebe49f47-6c6a-4f61-8d6c-770106d96043"
      },
      "outputs": [],
      "source": [
        "def text_cleaning(text):\n",
        "    text = text.lower()                               # Mengubah teks menjadi lower case\n",
        "    text = re.sub(r'https?://\\S+|www\\.\\S+', '', text) # Menghapus URL\n",
        "    text = re.sub(r'[-+]?[0-9]+', '', text)           # Menghapus angka\n",
        "    text = re.sub(r'[^\\w\\s]','', text)                # Menghapus karakter tanda baca\n",
        "    text = re.sub(r'\\s+', ' ', text).strip()          # Menghapus whitespaces\n",
        "\n",
        "    return text"
      ]
    },
    {
      "cell_type": "code",
      "execution_count": null,
      "id": "ae27a972-17de-4d33-b15c-987de9ee00ca",
      "metadata": {
        "colab": {
          "base_uri": "https://localhost:8080/"
        },
        "id": "ae27a972-17de-4d33-b15c-987de9ee00ca",
        "outputId": "e90a696f-59a2-4823-aa87-4a3477a44015"
      },
      "outputs": [
        {
          "name": "stderr",
          "output_type": "stream",
          "text": [
            "100%|██████████| 2243/2243 [00:00<00:00, 57605.39it/s]"
          ]
        },
        {
          "name": "stdout",
          "output_type": "stream",
          "text": [
            "CPU times: user 45.2 ms, sys: 2.86 ms, total: 48.1 ms\n",
            "Wall time: 46.6 ms\n"
          ]
        },
        {
          "name": "stderr",
          "output_type": "stream",
          "text": [
            "\n"
          ]
        }
      ],
      "source": [
        "%%time \n",
        "df['tweet'] = df['tweet'].progress_apply(text_cleaning)"
      ]
    },
    {
      "cell_type": "markdown",
      "id": "96d70e1e-0b16-4ee5-87ab-39f14bccc3cb",
      "metadata": {
        "id": "96d70e1e-0b16-4ee5-87ab-39f14bccc3cb"
      },
      "source": [
        "## Label Encoder"
      ]
    },
    {
      "cell_type": "code",
      "execution_count": null,
      "id": "446e9785-ddc4-4674-a3ec-ccf3a96be135",
      "metadata": {
        "colab": {
          "base_uri": "https://localhost:8080/"
        },
        "id": "446e9785-ddc4-4674-a3ec-ccf3a96be135",
        "outputId": "bc15d882-6e84-482f-a5db-7415408704bf"
      },
      "outputs": [
        {
          "name": "stdout",
          "output_type": "stream",
          "text": [
            "                                               tweet    label  label_encode\n",
            "0        wah belom liat muka gue lagi murka hahahaha      joy             3\n",
            "1  mungkin kurang piknik adrenalin mereka yg skep...    anger             0\n",
            "2  maaf kalo tersinggung orang kurus cepet mati w...    anger             0\n",
            "3  berserah pada maha esa paling tabah dan sabar ...      joy             3\n",
            "4                       ehekk malu la hahahahahahaha  sadness             4\n"
          ]
        }
      ],
      "source": [
        "le = LabelEncoder()\n",
        "\n",
        "df['label_encode'] = le.fit_transform(df['label'])\n",
        "print(df.head())"
      ]
    },
    {
      "cell_type": "code",
      "execution_count": null,
      "id": "dNTuKMAtCC3O",
      "metadata": {
        "colab": {
          "base_uri": "https://localhost:8080/"
        },
        "id": "dNTuKMAtCC3O",
        "outputId": "1163dfef-6e74-4168-90ef-396cb724756e"
      },
      "outputs": [
        {
          "name": "stdout",
          "output_type": "stream",
          "text": [
            "{'anger': 0, 'disgust': 1, 'fear': 2, 'joy': 3, 'sadness': 4, 'surprise': 5}\n"
          ]
        }
      ],
      "source": [
        "le_mapping = dict(zip(le.classes_, le.transform(le.classes_)))\n",
        "print(le_mapping)"
      ]
    },
    {
      "cell_type": "code",
      "execution_count": null,
      "id": "sMvamEW5g-MB",
      "metadata": {
        "colab": {
          "base_uri": "https://localhost:8080/"
        },
        "id": "sMvamEW5g-MB",
        "outputId": "e57639d8-61d5-4398-9438-84510018a3f4"
      },
      "outputs": [
        {
          "name": "stdout",
          "output_type": "stream",
          "text": [
            "['anger' 'disgust' 'fear' 'joy' 'sadness' 'surprise']\n"
          ]
        }
      ],
      "source": [
        "LABEL_NAME = le.classes_\n",
        "print(LABEL_NAME)"
      ]
    },
    {
      "cell_type": "markdown",
      "id": "51563912-e1a5-4196-ba6d-6c9b34de840c",
      "metadata": {
        "id": "51563912-e1a5-4196-ba6d-6c9b34de840c"
      },
      "source": [
        "# 04 Load Pre-Trained Word Vectors (FastText)"
      ]
    },
    {
      "cell_type": "code",
      "execution_count": null,
      "id": "0d84c2b8-95d5-4649-a929-153d16de7791",
      "metadata": {
        "colab": {
          "base_uri": "https://localhost:8080/"
        },
        "id": "0d84c2b8-95d5-4649-a929-153d16de7791",
        "outputId": "b0813a76-b025-492d-d9f5-52d39f7b82d4"
      },
      "outputs": [
        {
          "name": "stdout",
          "output_type": "stream",
          "text": [
            "The numbers of words in vocabulary:  422240\n",
            "CPU times: user 1.31 s, sys: 186 ms, total: 1.49 s\n",
            "Wall time: 5.2 s\n"
          ]
        }
      ],
      "source": [
        "%%time\n",
        "WORD_EMBEDDING_PATH = 'model-word-embedding/checkpoint/idwiki-fasttext/idwiki-fasttext-300.wordvectors'\n",
        "\n",
        "word2vec = KeyedVectors.load(WORD_EMBEDDING_PATH,  mmap='r')\n",
        "vocabulary = word2vec.wv.vocab     # gensim 3\n",
        "# vocabulary = word2vec.index_to_key # gensim 4\n",
        "print('The numbers of words in vocabulary: ', len(vocabulary))\n",
        "\n",
        "VOCAB_SIZE = len(vocabulary)\n",
        "EMBEDDING_SIZE = word2vec.vector_size"
      ]
    },
    {
      "cell_type": "code",
      "execution_count": null,
      "id": "60938380-45dd-4fed-a8f8-5db2f37897db",
      "metadata": {
        "colab": {
          "base_uri": "https://localhost:8080/"
        },
        "id": "60938380-45dd-4fed-a8f8-5db2f37897db",
        "outputId": "fdd08bf1-a1c1-42af-cf87-48bf29e85f9f"
      },
      "outputs": [
        {
          "name": "stdout",
          "output_type": "stream",
          "text": [
            "The numbers of key-value pairs:  422240\n"
          ]
        }
      ],
      "source": [
        "word2vec_dict = {}\n",
        "\n",
        "for word in vocabulary:\n",
        "    word2vec_dict[word] = word2vec.wv.get_vector(word)   # gensim 3\n",
        "    # word2vec_dict[word] = word2vec.get_vector(word)\n",
        "    \n",
        "print('The numbers of key-value pairs: ', len(word2vec_dict)) # should come equal to vocab size"
      ]
    },
    {
      "cell_type": "code",
      "execution_count": null,
      "id": "197d2a58-5a2d-4cbe-a0c9-834c97e3fb08",
      "metadata": {
        "colab": {
          "base_uri": "https://localhost:8080/"
        },
        "id": "197d2a58-5a2d-4cbe-a0c9-834c97e3fb08",
        "outputId": "a2d67770-31ea-459c-81bd-c33199d59164"
      },
      "outputs": [
        {
          "name": "stdout",
          "output_type": "stream",
          "text": [
            "[-0.5206899  -0.03886194  0.21259576  0.39108336 -0.00336347  0.0657659\n",
            " -0.1856659  -0.09403133 -0.06899106  0.18578859  0.11376961  0.24208997\n",
            "  0.01347883  0.36759222  0.30167595  0.00473588  0.03329716 -0.0584637\n",
            "  0.13408193 -0.05326211 -0.161172   -0.10151453 -0.12728819 -0.09164676\n",
            "  0.08545915 -0.01328273 -0.29992536  0.08065679  0.456605   -0.02024722\n",
            "  0.04619703 -0.20973706 -0.07242443  0.13447325  0.19186689 -0.18671797\n",
            "  0.30535308 -0.27752697 -0.07491101  0.06153804  0.20393346  0.28294018\n",
            " -0.12762095  0.27913457  0.5687854  -0.01648332  0.12182    -0.2364767\n",
            "  0.019386   -0.08352346 -0.14319204  0.6706359  -0.1109575  -0.09891835\n",
            "  0.38103068  0.17554684  0.12262594 -0.28864276  0.19758254 -0.26775023\n",
            "  0.53613096  0.29120943 -0.09364449 -0.18214554  0.1242744   0.07172229\n",
            "  0.02245938  0.11638215  0.2868752  -0.29257166 -0.20438853  0.09507407\n",
            "  0.51452553  0.06365854 -0.08418643  0.04976797  0.08881767 -0.12843852\n",
            " -0.16079958 -0.13523671 -0.27919987  0.24849878 -0.06261506  0.03432297\n",
            "  0.02716264 -0.04471603 -0.24590263 -0.07756829 -0.2659019  -0.40393847\n",
            "  0.1348132  -0.0603895   0.09037274  0.23285684  0.03585915 -0.00127208\n",
            "  0.77245164 -0.30654153 -0.21054012  0.08465286  0.532972   -0.11741979\n",
            " -0.11677673  0.18995415 -0.17726709 -0.09321837 -0.21196006 -0.09461202\n",
            "  0.28938696  0.28247377  0.08182839 -0.1692853  -0.18911591  0.1812918\n",
            " -0.49612418 -0.18224043  0.23966889  0.02423565 -0.10935812  0.05503786\n",
            "  0.24265108 -0.05229019 -0.05533783  0.13070887 -0.11646657  0.04480741\n",
            " -0.54456824  0.09698491 -0.1850431  -0.16470024  0.51381487 -0.10916442\n",
            "  0.29534462  0.18078767 -0.0223282   0.04936988 -0.13703713 -0.17997102\n",
            " -0.01609991  0.13998911 -0.12102255  0.44203064  0.01510283  0.33077285\n",
            " -0.43899524 -0.18275766  0.31527522  0.04341306 -0.29193684 -0.49498576\n",
            "  0.03820872  0.20836109 -0.82845324 -0.39437896 -0.03642663  0.39648038\n",
            " -0.24471164  0.21372709 -0.2160625  -0.15268153  0.03296378  0.44911817\n",
            "  0.25423825  0.13410284 -0.10780761  0.11235379 -0.15084839  0.12760182\n",
            "  0.10869496  0.08673125  0.23993272  0.09267194 -0.05572254 -0.08950093\n",
            "  0.01086334  0.12832914  0.08802709  0.1957301   0.1510724  -0.24736108\n",
            " -0.11753275  0.24502133  0.17654854  0.01906143  0.05114042  0.14529991\n",
            " -0.29009554  0.02703149 -0.1097841  -0.19782968 -0.1748587  -0.10871685\n",
            "  0.2483004   0.18920264  0.25616792  0.24901947  0.04047539  0.43552974\n",
            "  0.25772214  0.02910814 -0.18787454  0.01702484  0.2229145   0.19862074\n",
            "  0.07733461 -0.36358935  0.4759885   0.10641754  0.32835975  0.57547027\n",
            " -0.22838388  0.15452753  0.39338958  0.0313251  -0.17083916  0.10650942\n",
            "  0.08791836  0.04786627 -0.15201926 -0.00114951 -0.06131119 -0.09976849\n",
            "  0.21177301 -0.13996102  0.1632401   0.22430088 -0.12942219 -0.0237495\n",
            "  0.52583605 -0.08373105 -0.15055588  0.0908322  -0.04841369  0.32353356\n",
            " -0.14004372 -0.50092596  0.39353606  0.24419008 -0.03637654  0.3032549\n",
            "  0.24221763  0.40237942  0.25268665 -0.44574183 -0.22981387  0.0957607\n",
            "  0.18309663 -0.5422439   0.06711239  0.01116037 -0.3445582   0.09140782\n",
            " -0.11892042  0.162547   -0.29651067 -0.06821108 -0.11329753  0.17224471\n",
            "  0.06303494 -0.07135855  0.36375454 -0.02925962 -0.24024352 -0.0078807\n",
            " -0.06506016  0.20211583 -0.16148998 -0.09003168 -0.05608352  0.16295761\n",
            "  0.02916408  0.16479781  0.08150451  0.00889878  0.36051247 -0.26807913\n",
            "  0.1142348  -0.00132329  0.15805255  0.32178158 -0.10315938  0.1214041\n",
            " -0.09753454 -0.33992484 -0.37053892 -0.34988263  0.25390643  0.13788961\n",
            " -0.13430725  0.48824045 -0.26007095 -0.09048846  0.64903694 -0.16801777\n",
            " -0.02372354 -0.3316619  -0.38385135  0.14027335 -0.20466547  0.38622263]\n",
            "Embedding size:  (300,)\n"
          ]
        }
      ],
      "source": [
        "# Cek vektor embedding dan dimensi dari suatu kata\n",
        "word = 'saya'\n",
        "\n",
        "print(word2vec[word])\n",
        "print('Embedding size: ', word2vec[word].shape)"
      ]
    },
    {
      "cell_type": "markdown",
      "id": "6f99d1fe-fc94-4fdb-a5ca-fbee429e755a",
      "metadata": {
        "id": "6f99d1fe-fc94-4fdb-a5ca-fbee429e755a"
      },
      "source": [
        "# 05 Choosing Maximum Length of the Sequence  "
      ]
    },
    {
      "cell_type": "code",
      "execution_count": null,
      "id": "25a90ec6-381d-4a00-870f-1d5c99f482a6",
      "metadata": {
        "colab": {
          "base_uri": "https://localhost:8080/",
          "height": 334
        },
        "id": "25a90ec6-381d-4a00-870f-1d5c99f482a6",
        "outputId": "aed2de5b-02b7-4d9c-a085-10a745ad928d"
      },
      "outputs": [
        {
          "data": {
            "image/png": "[encoded data removed]",
            "text/plain": [
              "<Figure size 576x360 with 1 Axes>"
            ]
          },
          "metadata": {
            "needs_background": "light"
          },
          "output_type": "display_data"
        }
      ],
      "source": [
        "token_lens = []\n",
        "\n",
        "for text in df['tweet']:\n",
        "    tokens = text.split()\n",
        "    token_lens.append(len(tokens))\n",
        "\n",
        "plt.figure(figsize=(8, 5))\n",
        "sns.histplot(token_lens, kde=True, stat='density', linewidth=0)\n",
        "plt.xlim([0, 100]);\n",
        "plt.xlabel('Token count');"
      ]
    },
    {
      "cell_type": "code",
      "execution_count": null,
      "id": "8706c818-5743-474d-ab06-8e80796626dd",
      "metadata": {
        "id": "8706c818-5743-474d-ab06-8e80796626dd"
      },
      "outputs": [],
      "source": [
        "MAX_SEQ_LENGTH = 80"
      ]
    },
    {
      "cell_type": "markdown",
      "id": "709501e2-9810-43d1-876e-7a5a90c7baf2",
      "metadata": {
        "id": "709501e2-9810-43d1-876e-7a5a90c7baf2"
      },
      "source": [
        "# 06 Preparing Data for Embedding Layer"
      ]
    },
    {
      "cell_type": "markdown",
      "id": "f286a91d-879d-4794-9751-9f2ba0913fdc",
      "metadata": {
        "id": "f286a91d-879d-4794-9751-9f2ba0913fdc"
      },
      "source": [
        "## Tokenizing Data"
      ]
    },
    {
      "cell_type": "code",
      "execution_count": null,
      "id": "e53fc8e9-8259-4d61-8df5-637be49b96be",
      "metadata": {
        "colab": {
          "base_uri": "https://localhost:8080/"
        },
        "id": "e53fc8e9-8259-4d61-8df5-637be49b96be",
        "outputId": "10e61855-c97c-430d-88d7-0d76bda02a89"
      },
      "outputs": [
        {
          "name": "stdout",
          "output_type": "stream",
          "text": [
            "8831\n"
          ]
        }
      ],
      "source": [
        "NUM_WORDS = 100       # Frekuensi kemunculan kata. Hanya num_words-1 yang akan disimpan pada dictionary. Berarti kata dengan kemunculan <=num_words tidak digunakan.\n",
        "OOV_TOKEN = '<unk>'   # Token khusus untuk mengganti kata yang tidak terdaftar dalam dictionary.\n",
        "\n",
        "tokenizer = Tokenizer(num_words=NUM_WORDS, oov_token=OOV_TOKEN, lower=True, split=' ')\n",
        "tokenizer.fit_on_texts(df['tweet'])\n",
        "\n",
        "# Tambahkan token padding untuk menyamakan ukuran dimensi embedding layer\n",
        "tokenizer.word_index['<pad>'] = 0\n",
        "tokenizer.index_word[0] = '<pad>'\n",
        "\n",
        "WV_DICTIONARY = tokenizer.word_index\n",
        "\n",
        "WV_DICTIONARY_SIZE = len(WV_DICTIONARY)\n",
        "print(WV_DICTIONARY_SIZE) # Lihat kata unik pada dictionary yang dihasilkan"
      ]
    },
    {
      "cell_type": "markdown",
      "id": "afe05251-9fb7-4a86-94b0-869f4444b2f6",
      "metadata": {
        "id": "afe05251-9fb7-4a86-94b0-869f4444b2f6"
      },
      "source": [
        "## Text To Sequence"
      ]
    },
    {
      "cell_type": "code",
      "execution_count": null,
      "id": "80f209a0-4faf-44d6-bf92-ed5ec139ea37",
      "metadata": {
        "id": "80f209a0-4faf-44d6-bf92-ed5ec139ea37"
      },
      "outputs": [],
      "source": [
        "# Proses mengubah token menjadi urutan bilangan int berdasarkan dictionary.\n",
        "data_seq = tokenizer.texts_to_sequences(df['tweet'])"
      ]
    },
    {
      "cell_type": "code",
      "execution_count": null,
      "id": "b2d087a4-35a8-4429-b8b5-2cb18357ca4b",
      "metadata": {
        "colab": {
          "base_uri": "https://localhost:8080/"
        },
        "id": "b2d087a4-35a8-4429-b8b5-2cb18357ca4b",
        "outputId": "b81304e4-f28f-457d-e342-029044126a0f"
      },
      "outputs": [
        {
          "name": "stdout",
          "output_type": "stream",
          "text": [
            "apalagi yg jualan spotify premium banyak banget lamalama bikin risih\n",
            "[1, 3, 1, 1, 1, 62, 31, 1, 56, 50]\n"
          ]
        }
      ],
      "source": [
        "print(df['tweet'][10])\n",
        "print(data_seq[10])"
      ]
    },
    {
      "cell_type": "markdown",
      "id": "7182169c-1be1-4f76-aa94-71e93eac77fc",
      "metadata": {
        "id": "7182169c-1be1-4f76-aa94-71e93eac77fc"
      },
      "source": [
        "## Add padding & Truncation"
      ]
    },
    {
      "cell_type": "code",
      "execution_count": null,
      "id": "a4c16583-8e21-4a66-a07b-0a6b4caef10e",
      "metadata": {
        "id": "a4c16583-8e21-4a66-a07b-0a6b4caef10e"
      },
      "outputs": [],
      "source": [
        "# Proses mengubah data dari sequence menjadi array bentuk 2D Numpy (num_samples, num_timesteps). \n",
        "PADDING = 'post'        # Berikan padding untuk setiap sequences. Terdapat dua pilihan dalam melakukan padding 'pre' or 'post'.\n",
        "TRUNCATING = 'post'     # Menghapus token dari sequences yang lebih besar dari max_lenght. Terdapat dua pilihan dalam melakukan truncanting 'pre' or 'post'.\n",
        "\n",
        "data_pad = pad_sequences(data_seq, maxlen=MAX_SEQ_LENGTH, padding=PADDING, truncating=TRUNCATING)"
      ]
    },
    {
      "cell_type": "code",
      "execution_count": null,
      "id": "59c1587a-a2eb-48db-92a2-7f8ca3003bfe",
      "metadata": {
        "colab": {
          "base_uri": "https://localhost:8080/"
        },
        "id": "59c1587a-a2eb-48db-92a2-7f8ca3003bfe",
        "outputId": "4963ed5a-8f6b-4a0e-9189-78690604c1b4"
      },
      "outputs": [
        {
          "name": "stdout",
          "output_type": "stream",
          "text": [
            "apalagi yg jualan spotify premium banyak banget lamalama bikin risih\n",
            "[1, 3, 1, 1, 1, 62, 31, 1, 56, 50]\n",
            "[ 1  3  1  1  1 62 31  1 56 50  0  0  0  0  0  0  0  0  0  0  0  0  0  0\n",
            "  0  0  0  0  0  0  0  0  0  0  0  0  0  0  0  0  0  0  0  0  0  0  0  0\n",
            "  0  0  0  0  0  0  0  0  0  0  0  0  0  0  0  0  0  0  0  0  0  0  0  0\n",
            "  0  0  0  0  0  0  0  0]\n"
          ]
        }
      ],
      "source": [
        "print(df['tweet'][10])\n",
        "print(data_seq[10])\n",
        "print(data_pad[10])"
      ]
    },
    {
      "cell_type": "code",
      "execution_count": null,
      "id": "d4ab9d67-1fbc-4031-80dd-ad3df3768b92",
      "metadata": {
        "colab": {
          "base_uri": "https://localhost:8080/"
        },
        "id": "d4ab9d67-1fbc-4031-80dd-ad3df3768b92",
        "outputId": "12da8cc1-35df-4579-c74c-96adc3a08ebf"
      },
      "outputs": [
        {
          "data": {
            "text/plain": [
              "(2243, 80)"
            ]
          },
          "execution_count": 26,
          "metadata": {},
          "output_type": "execute_result"
        }
      ],
      "source": [
        "data_pad.shape"
      ]
    },
    {
      "cell_type": "markdown",
      "id": "d6dad3ff-1bea-488b-a240-e66adaedc29d",
      "metadata": {
        "id": "d6dad3ff-1bea-488b-a240-e66adaedc29d"
      },
      "source": [
        "## Create Embedding Matrix"
      ]
    },
    {
      "cell_type": "code",
      "execution_count": null,
      "id": "3e4548d2-3d62-4ac6-9660-5640f8c38599",
      "metadata": {
        "id": "3e4548d2-3d62-4ac6-9660-5640f8c38599"
      },
      "outputs": [],
      "source": [
        "EMBEDDING_MATRIX = np.zeros(shape=(WV_DICTIONARY_SIZE, EMBEDDING_SIZE))\n",
        "\n",
        "for word, i in tokenizer.word_index.items():\n",
        "    embed_vector = word2vec_dict.get(word)\n",
        "    if embed_vector is not None:               # Word is in the vocabulary learned by the w2v model\n",
        "        EMBEDDING_MATRIX[i] = embed_vector"
      ]
    },
    {
      "cell_type": "code",
      "execution_count": null,
      "id": "24bb1134-d5db-4e75-9ca8-8f4c8f73f4e4",
      "metadata": {
        "colab": {
          "base_uri": "https://localhost:8080/"
        },
        "id": "24bb1134-d5db-4e75-9ca8-8f4c8f73f4e4",
        "outputId": "12e183dd-7fc7-47f8-bd09-9f031217a44c"
      },
      "outputs": [
        {
          "name": "stdout",
          "output_type": "stream",
          "text": [
            "33\n"
          ]
        }
      ],
      "source": [
        "print(WV_DICTIONARY.get('saya'))"
      ]
    },
    {
      "cell_type": "code",
      "execution_count": null,
      "id": "bc0d7357-a633-4b3a-a39c-badca10dc53f",
      "metadata": {
        "colab": {
          "base_uri": "https://localhost:8080/"
        },
        "id": "bc0d7357-a633-4b3a-a39c-badca10dc53f",
        "outputId": "7e7f722c-3e2a-4d46-dc6a-a65696885c77"
      },
      "outputs": [
        {
          "name": "stdout",
          "output_type": "stream",
          "text": [
            "[-0.5206899  -0.03886194  0.21259576  0.39108336 -0.00336347  0.0657659\n",
            " -0.18566591 -0.09403133 -0.06899106  0.18578859  0.11376961  0.24208997\n",
            "  0.01347883  0.36759222  0.30167595  0.00473588  0.03329716 -0.0584637\n",
            "  0.13408193 -0.05326211 -0.161172   -0.10151453 -0.12728819 -0.09164676\n",
            "  0.08545915 -0.01328273 -0.29992536  0.08065679  0.45660499 -0.02024722\n",
            "  0.04619703 -0.20973706 -0.07242443  0.13447325  0.19186689 -0.18671797\n",
            "  0.30535308 -0.27752697 -0.07491101  0.06153804  0.20393346  0.28294018\n",
            " -0.12762095  0.27913457  0.56878543 -0.01648332  0.12182    -0.2364767\n",
            "  0.019386   -0.08352346 -0.14319204  0.67063588 -0.1109575  -0.09891835\n",
            "  0.38103068  0.17554684  0.12262594 -0.28864276  0.19758254 -0.26775023\n",
            "  0.53613096  0.29120943 -0.09364449 -0.18214554  0.1242744   0.07172229\n",
            "  0.02245938  0.11638215  0.28687519 -0.29257166 -0.20438853  0.09507407\n",
            "  0.51452553  0.06365854 -0.08418643  0.04976797  0.08881767 -0.12843852\n",
            " -0.16079958 -0.13523671 -0.27919987  0.24849878 -0.06261506  0.03432297\n",
            "  0.02716264 -0.04471603 -0.24590263 -0.07756829 -0.26590189 -0.40393847\n",
            "  0.1348132  -0.0603895   0.09037274  0.23285684  0.03585915 -0.00127208\n",
            "  0.77245164 -0.30654153 -0.21054012  0.08465286  0.53297198 -0.11741979\n",
            " -0.11677673  0.18995415 -0.17726709 -0.09321837 -0.21196006 -0.09461202\n",
            "  0.28938696  0.28247377  0.08182839 -0.1692853  -0.18911591  0.1812918\n",
            " -0.49612418 -0.18224043  0.23966889  0.02423565 -0.10935812  0.05503786\n",
            "  0.24265108 -0.05229019 -0.05533783  0.13070887 -0.11646657  0.04480741\n",
            " -0.54456824  0.09698491 -0.1850431  -0.16470024  0.51381487 -0.10916442\n",
            "  0.29534462  0.18078767 -0.0223282   0.04936988 -0.13703713 -0.17997102\n",
            " -0.01609991  0.13998911 -0.12102255  0.44203064  0.01510283  0.33077285\n",
            " -0.43899524 -0.18275766  0.31527522  0.04341306 -0.29193684 -0.49498576\n",
            "  0.03820872  0.20836109 -0.82845324 -0.39437896 -0.03642663  0.39648038\n",
            " -0.24471164  0.21372709 -0.2160625  -0.15268153  0.03296378  0.44911817\n",
            "  0.25423825  0.13410284 -0.10780761  0.11235379 -0.15084839  0.12760182\n",
            "  0.10869496  0.08673125  0.23993272  0.09267194 -0.05572254 -0.08950093\n",
            "  0.01086334  0.12832914  0.08802709  0.19573011  0.1510724  -0.24736108\n",
            " -0.11753275  0.24502133  0.17654854  0.01906143  0.05114042  0.14529991\n",
            " -0.29009554  0.02703149 -0.1097841  -0.19782968 -0.1748587  -0.10871685\n",
            "  0.2483004   0.18920264  0.25616792  0.24901947  0.04047539  0.43552974\n",
            "  0.25772214  0.02910814 -0.18787454  0.01702484  0.2229145   0.19862074\n",
            "  0.07733461 -0.36358935  0.47598851  0.10641754  0.32835975  0.57547027\n",
            " -0.22838388  0.15452753  0.39338958  0.0313251  -0.17083916  0.10650942\n",
            "  0.08791836  0.04786627 -0.15201926 -0.00114951 -0.06131119 -0.09976849\n",
            "  0.21177301 -0.13996102  0.1632401   0.22430088 -0.12942219 -0.0237495\n",
            "  0.52583605 -0.08373105 -0.15055588  0.0908322  -0.04841369  0.32353356\n",
            " -0.14004372 -0.50092596  0.39353606  0.24419008 -0.03637654  0.3032549\n",
            "  0.24221763  0.40237942  0.25268665 -0.44574183 -0.22981387  0.0957607\n",
            "  0.18309663 -0.5422439   0.06711239  0.01116037 -0.34455821  0.09140782\n",
            " -0.11892042  0.16254701 -0.29651067 -0.06821108 -0.11329753  0.17224471\n",
            "  0.06303494 -0.07135855  0.36375454 -0.02925962 -0.24024352 -0.0078807\n",
            " -0.06506016  0.20211583 -0.16148998 -0.09003168 -0.05608352  0.16295761\n",
            "  0.02916408  0.16479781  0.08150451  0.00889878  0.36051247 -0.26807913\n",
            "  0.1142348  -0.00132329  0.15805255  0.32178158 -0.10315938  0.1214041\n",
            " -0.09753454 -0.33992484 -0.37053892 -0.34988263  0.25390643  0.13788961\n",
            " -0.13430725  0.48824045 -0.26007095 -0.09048846  0.64903694 -0.16801777\n",
            " -0.02372354 -0.33166191 -0.38385135  0.14027335 -0.20466547  0.38622263]\n"
          ]
        }
      ],
      "source": [
        "print(EMBEDDING_MATRIX[33])"
      ]
    },
    {
      "cell_type": "code",
      "execution_count": null,
      "id": "7BTbLj8F5yyL",
      "metadata": {
        "colab": {
          "base_uri": "https://localhost:8080/"
        },
        "id": "7BTbLj8F5yyL",
        "outputId": "ee95c249-6e1c-424e-f2f0-f49dad22be49"
      },
      "outputs": [
        {
          "data": {
            "text/plain": [
              "(8831, 300)"
            ]
          },
          "execution_count": 30,
          "metadata": {},
          "output_type": "execute_result"
        }
      ],
      "source": [
        "EMBEDDING_MATRIX.shape"
      ]
    },
    {
      "cell_type": "markdown",
      "id": "b64e75c2-f657-4e8d-998b-84ddebe4317a",
      "metadata": {
        "id": "b64e75c2-f657-4e8d-998b-84ddebe4317a"
      },
      "source": [
        "# 07 Train & Test Data Splitting"
      ]
    },
    {
      "cell_type": "code",
      "execution_count": null,
      "id": "24fc5d77-1f3d-40cd-8384-f2e22fbe4858",
      "metadata": {
        "id": "24fc5d77-1f3d-40cd-8384-f2e22fbe4858"
      },
      "outputs": [],
      "source": [
        "NUM_CLASS = len(df['label_encode'].unique())\n",
        "\n",
        "Y = to_categorical(df['label_encode'], num_classes=NUM_CLASS)  # Lakukan one-hot encoding pada label (y)"
      ]
    },
    {
      "cell_type": "code",
      "execution_count": null,
      "id": "0761adda-6df1-466b-ad04-c1c43459ff21",
      "metadata": {
        "colab": {
          "base_uri": "https://localhost:8080/"
        },
        "id": "0761adda-6df1-466b-ad04-c1c43459ff21",
        "outputId": "9bc7bce9-3296-4423-8a4f-a15d4792a2b9"
      },
      "outputs": [
        {
          "data": {
            "text/plain": [
              "((1794, 80), (449, 80), (1794, 6), (449, 6))"
            ]
          },
          "execution_count": 32,
          "metadata": {},
          "output_type": "execute_result"
        }
      ],
      "source": [
        "X_train, X_test, y_train, y_test = train_test_split(data_pad, Y, test_size=0.20, stratify=Y, random_state=SEED)\n",
        "X_train.shape, X_test.shape, y_train.shape, y_test.shape"
      ]
    },
    {
      "cell_type": "markdown",
      "id": "af13d223-d8c9-43ac-9c2d-8352f980f022",
      "metadata": {
        "id": "af13d223-d8c9-43ac-9c2d-8352f980f022"
      },
      "source": [
        "# 08 Define Model (Bidirectional GRU)"
      ]
    },
    {
      "cell_type": "markdown",
      "id": "HL4PZ8cdQb1P",
      "metadata": {
        "id": "HL4PZ8cdQb1P"
      },
      "source": [
        "## Architecture"
      ]
    },
    {
      "cell_type": "code",
      "execution_count": null,
      "id": "aff3f131-58dc-4207-b051-e9b2f67b8f38",
      "metadata": {
        "id": "aff3f131-58dc-4207-b051-e9b2f67b8f38"
      },
      "outputs": [],
      "source": [
        "# https://www.tensorflow.org/api_docs/python/tf/keras/layers/Bidirectional\n",
        "# https://www.tensorflow.org/api_docs/python/tf/keras/layers/GRU\n",
        "\n",
        "UNITS = 64\n",
        "\n",
        "tf.keras.backend.clear_session()\n",
        "\n",
        "model = Sequential()\n",
        "model.add(Embedding(\n",
        "    input_dim = WV_DICTIONARY_SIZE,                                \n",
        "    output_dim = EMBEDDING_SIZE,                           \n",
        "    input_length = MAX_SEQ_LENGTH,  \n",
        "    trainable = False,\n",
        "    embeddings_initializer=Constant(EMBEDDING_MATRIX)))\n",
        "model.add(Bidirectional(GRU(UNITS*2, dropout=0.5, return_sequences=False)))\n",
        "model.add(Dense(UNITS, activation='relu'))\n",
        "model.add(Dropout(0.5))\n",
        "model.add(Dense(NUM_CLASS, activation='softmax'))"
      ]
    },
    {
      "cell_type": "code",
      "execution_count": null,
      "id": "512cae56-10ae-4c03-8aee-2706eb27632f",
      "metadata": {
        "colab": {
          "base_uri": "https://localhost:8080/"
        },
        "id": "512cae56-10ae-4c03-8aee-2706eb27632f",
        "outputId": "bd046827-fde0-4d6e-d743-7192c6a74f0f"
      },
      "outputs": [
        {
          "name": "stdout",
          "output_type": "stream",
          "text": [
            "Model: \"sequential\"\n",
            "_________________________________________________________________\n",
            " Layer (type)                Output Shape              Param #   \n",
            "=================================================================\n",
            " embedding (Embedding)       (None, 80, 300)           2649300   \n",
            "                                                                 \n",
            " bidirectional (Bidirectiona  (None, 256)              330240    \n",
            " l)                                                              \n",
            "                                                                 \n",
            " dense (Dense)               (None, 64)                16448     \n",
            "                                                                 \n",
            " dropout (Dropout)           (None, 64)                0         \n",
            "                                                                 \n",
            " dense_1 (Dense)             (None, 6)                 390       \n",
            "                                                                 \n",
            "=================================================================\n",
            "Total params: 2,996,378\n",
            "Trainable params: 347,078\n",
            "Non-trainable params: 2,649,300\n",
            "_________________________________________________________________\n"
          ]
        }
      ],
      "source": [
        "model.summary()"
      ]
    },
    {
      "cell_type": "code",
      "execution_count": null,
      "id": "nkvBqETlErwO",
      "metadata": {
        "colab": {
          "base_uri": "https://localhost:8080/",
          "height": 605
        },
        "id": "nkvBqETlErwO",
        "outputId": "8d0f32a7-2716-46f2-b756-29ee651b18f3"
      },
      "outputs": [
        {
          "data": {
            "image/png": "[encoded data removed]",
            "text/plain": [
              "<IPython.core.display.Image object>"
            ]
          },
          "execution_count": 35,
          "metadata": {},
          "output_type": "execute_result"
        }
      ],
      "source": [
        "plot_model(model, show_shapes=True, show_layer_activations=True, show_dtype=False, dpi=90, to_file=f'{FOLDER_PATH}/model-plot/{MODEL}-model.png')"
      ]
    },
    {
      "cell_type": "markdown",
      "id": "wgQN-l4rQgRq",
      "metadata": {
        "id": "wgQN-l4rQgRq"
      },
      "source": [
        "## Compile"
      ]
    },
    {
      "cell_type": "code",
      "execution_count": null,
      "id": "Ny3DK1On_-OP",
      "metadata": {
        "id": "Ny3DK1On_-OP"
      },
      "outputs": [],
      "source": [
        "# https://www.tensorflow.org/api_docs/python/tf/keras/metrics\n",
        "\n",
        "METRICS = [\n",
        "           tf.keras.metrics.CategoricalAccuracy(name='accuracy'),\n",
        "           tf.keras.metrics.Precision(name='precision'),\n",
        "           tf.keras.metrics.Recall(name='recall'),\n",
        "]\n",
        "\n",
        "LEARNING_RATE = 0.001"
      ]
    },
    {
      "cell_type": "code",
      "execution_count": null,
      "id": "3fd3ef04-ea26-4988-a4fb-0cd63be04a11",
      "metadata": {
        "id": "3fd3ef04-ea26-4988-a4fb-0cd63be04a11"
      },
      "outputs": [],
      "source": [
        "OPTIMIZER = Adam(learning_rate=LEARNING_RATE)\n",
        "LOSS_FUNCTION = CategoricalCrossentropy(name='categorical_crossentropy')\n",
        "\n",
        "model.compile(loss=LOSS_FUNCTION, optimizer=OPTIMIZER, metrics=METRICS)"
      ]
    },
    {
      "cell_type": "markdown",
      "id": "ac8708d7-5d3f-49b6-b28a-5a4969e160f1",
      "metadata": {
        "id": "ac8708d7-5d3f-49b6-b28a-5a4969e160f1"
      },
      "source": [
        "# 09 Early Stopping & Model Checkpoint"
      ]
    },
    {
      "cell_type": "code",
      "execution_count": null,
      "id": "14a556fb-a4fa-46c2-85b2-f1d7731ac148",
      "metadata": {
        "id": "14a556fb-a4fa-46c2-85b2-f1d7731ac148"
      },
      "outputs": [],
      "source": [
        "# Early stopping criteria\n",
        "early_stopping = EarlyStopping(monitor='val_loss', mode='auto', verbose=1, patience=5)\n",
        "\n",
        "# Path to model checkpoint\n",
        "checkpoint_dir = f'{FOLDER_PATH}/model-checkpoint/{MODEL}/cp.ckpt'\n",
        "model_checkpoint = ModelCheckpoint(checkpoint_dir, monitor='val_accuracy', save_weights_only=True, verbose=1, save_freq='epoch', save_best_only=True)"
      ]
    },
    {
      "cell_type": "code",
      "execution_count": null,
      "id": "SfBzZKiLA7k5",
      "metadata": {
        "colab": {
          "base_uri": "https://localhost:8080/"
        },
        "id": "SfBzZKiLA7k5",
        "outputId": "dcd5b7a5-9b48-4032-db88-cf4697ac3fe6"
      },
      "outputs": [
        {
          "name": "stdout",
          "output_type": "stream",
          "text": [
            "model-baseline-bilstm/model-log/id-wiki-fasstext-bigru/20220715-174532\n"
          ]
        }
      ],
      "source": [
        "# Path to model log\n",
        "log_dir = f'{FOLDER_PATH}/model-log/{MODEL}/' + datetime.datetime.now().strftime('%Y%m%d-%H%M%S')\n",
        "print(log_dir)"
      ]
    },
    {
      "cell_type": "code",
      "execution_count": null,
      "id": "4000c916-de1c-4eb8-86c4-9118bb24888e",
      "metadata": {
        "id": "4000c916-de1c-4eb8-86c4-9118bb24888e"
      },
      "outputs": [],
      "source": [
        "tensorboard_callback = TensorBoard(log_dir=log_dir ,update_freq='epoch', histogram_freq=1, embeddings_freq=1)"
      ]
    },
    {
      "cell_type": "markdown",
      "id": "345bb69d-1998-4891-ae17-47932870a21d",
      "metadata": {
        "id": "345bb69d-1998-4891-ae17-47932870a21d"
      },
      "source": [
        "# 10 Training"
      ]
    },
    {
      "cell_type": "code",
      "execution_count": null,
      "id": "bdd7ff34-3e39-4c62-a25d-af2b1e1e35e7",
      "metadata": {
        "id": "bdd7ff34-3e39-4c62-a25d-af2b1e1e35e7"
      },
      "outputs": [],
      "source": [
        "EPOCHS = 10\n",
        "BATCH_SIZE = 16\n",
        "\n",
        "# Config for wandb\n",
        "config = {\n",
        "    'type': 'baseline',\n",
        "    'architecture': 'BiGRU',\n",
        "    'word_embedding': 'FastText-ID-wiki-300',\n",
        "    'dataset': 'indo-tweet-emotion',\n",
        "    'learning_rate': LEARNING_RATE,\n",
        "    'batch_size': BATCH_SIZE,\n",
        "    'epochs': EPOCHS,\n",
        "    'loss_function': LOSS_FUNCTION.name,\n",
        "    'optimizer': OPTIMIZER._name\n",
        "}"
      ]
    },
    {
      "cell_type": "code",
      "execution_count": null,
      "id": "50c487c3-da7b-4161-8e63-f8edc3ee6a44",
      "metadata": {
        "colab": {
          "base_uri": "https://localhost:8080/",
          "height": 964,
          "referenced_widgets": [
            "45efa42001c74a69aa13465e3ea6fbbb",
            "be40e0f75eda4e0682b33affad4649bd",
            "a864c771d5744baf8eb611faef3f0109",
            "852f6144e7914d7b9e9c6a8184642d0a",
            "774cfb78972846f980f1e76aa7f089a9",
            "e1c5b8af31704acfb5679b89fdc655b9",
            "6d866c01fe4d4bb19ecd4073e89c16f7",
            "e3d3d8a3e4184e84b9a262f5b1a64c5a"
          ]
        },
        "id": "50c487c3-da7b-4161-8e63-f8edc3ee6a44",
        "outputId": "93ea002e-4391-49cd-fcc8-5916988bd03e",
        "tags": []
      },
      "outputs": [
        {
          "name": "stderr",
          "output_type": "stream",
          "text": [
            "\u001b[34m\u001b[1mwandb\u001b[0m: Currently logged in as: \u001b[33mindoemobert\u001b[0m. Use \u001b[1m`wandb login --relogin`\u001b[0m to force relogin\n"
          ]
        },
        {
          "data": {
            "text/html": [
              "Tracking run with wandb version 0.12.21"
            ],
            "text/plain": [
              "<IPython.core.display.HTML object>"
            ]
          },
          "metadata": {},
          "output_type": "display_data"
        },
        {
          "data": {
            "text/html": [
              "Run data is saved locally in <code>/content/drive/MyDrive/Code/tesis/wandb/run-20220715_174534-22z1gdim</code>"
            ],
            "text/plain": [
              "<IPython.core.display.HTML object>"
            ]
          },
          "metadata": {},
          "output_type": "display_data"
        },
        {
          "data": {
            "text/html": [
              "Syncing run <strong><a href=\"https://wandb.ai/indoemobert/baseline-bilstm/runs/22z1gdim\" target=\"_blank\">id-wiki-fasstext-bigru</a></strong> to <a href=\"https://wandb.ai/indoemobert/baseline-bilstm\" target=\"_blank\">Weights & Biases</a> (<a href=\"https://wandb.me/run\" target=\"_blank\">docs</a>)<br/>"
            ],
            "text/plain": [
              "<IPython.core.display.HTML object>"
            ]
          },
          "metadata": {},
          "output_type": "display_data"
        },
        {
          "name": "stdout",
          "output_type": "stream",
          "text": [
            "WARNING:tensorflow:From /usr/local/lib/python3.7/dist-packages/tensorflow/python/profiler/internal/flops_registry.py:138: tensor_shape_from_node_def_name (from tensorflow.python.framework.graph_util_impl) is deprecated and will be removed in a future version.\n",
            "Instructions for updating:\n",
            "Use `tf.compat.v1.graph_util.tensor_shape_from_node_def_name`\n",
            "Epoch 1/10\n",
            "113/113 [==============================] - 16s 62ms/step - loss: 1.7137 - accuracy: 0.2542 - precision: 1.0000 - recall: 0.0195 - val_loss: 1.5686 - val_accuracy: 0.3608 - val_precision: 1.0000 - val_recall: 0.0490 - _timestamp: 1657907155.0000 - _runtime: 21.0000\n",
            "Epoch 2/10\n",
            "113/113 [==============================] - 3s 26ms/step - loss: 1.3879 - accuracy: 0.4783 - precision: 0.8128 - recall: 0.2057 - val_loss: 1.0712 - val_accuracy: 0.6236 - val_precision: 0.9021 - val_recall: 0.3898 - _timestamp: 1657907158.0000 - _runtime: 24.0000\n",
            "Epoch 3/10\n",
            "113/113 [==============================] - 3s 25ms/step - loss: 1.0413 - accuracy: 0.6304 - precision: 0.8345 - recall: 0.4582 - val_loss: 0.7884 - val_accuracy: 0.7283 - val_precision: 0.9020 - val_recall: 0.5947 - _timestamp: 1657907161.0000 - _runtime: 27.0000\n",
            "Epoch 4/10\n",
            "113/113 [==============================] - 3s 25ms/step - loss: 0.8404 - accuracy: 0.7174 - precision: 0.8508 - recall: 0.5753 - val_loss: 0.6607 - val_accuracy: 0.7929 - val_precision: 0.8781 - val_recall: 0.7060 - _timestamp: 1657907164.0000 - _runtime: 30.0000\n",
            "Epoch 5/10\n",
            "113/113 [==============================] - 3s 25ms/step - loss: 0.7508 - accuracy: 0.7486 - precision: 0.8361 - recall: 0.6538 - val_loss: 0.6078 - val_accuracy: 0.8107 - val_precision: 0.8704 - val_recall: 0.7929 - _timestamp: 1657907166.0000 - _runtime: 32.0000\n",
            "Epoch 6/10\n",
            "113/113 [==============================] - 3s 25ms/step - loss: 0.6956 - accuracy: 0.7843 - precision: 0.8527 - recall: 0.7068 - val_loss: 0.5798 - val_accuracy: 0.8263 - val_precision: 0.8790 - val_recall: 0.7929 - _timestamp: 1657907169.0000 - _runtime: 35.0000\n",
            "Epoch 7/10\n",
            "113/113 [==============================] - 3s 25ms/step - loss: 0.6501 - accuracy: 0.7988 - precision: 0.8574 - recall: 0.7408 - val_loss: 0.5893 - val_accuracy: 0.8352 - val_precision: 0.8759 - val_recall: 0.8018 - _timestamp: 1657907172.0000 - _runtime: 38.0000\n",
            "Epoch 8/10\n",
            "113/113 [==============================] - 3s 27ms/step - loss: 0.6435 - accuracy: 0.8032 - precision: 0.8543 - recall: 0.7453 - val_loss: 0.5614 - val_accuracy: 0.8396 - val_precision: 0.8708 - val_recall: 0.8107 - _timestamp: 1657907175.0000 - _runtime: 41.0000\n",
            "Epoch 9/10\n",
            "113/113 [==============================] - 3s 24ms/step - loss: 0.6088 - accuracy: 0.8211 - precision: 0.8673 - recall: 0.7614 - val_loss: 0.5528 - val_accuracy: 0.8486 - val_precision: 0.8780 - val_recall: 0.8174 - _timestamp: 1657907178.0000 - _runtime: 44.0000\n",
            "Epoch 10/10\n",
            "113/113 [==============================] - 3s 23ms/step - loss: 0.6166 - accuracy: 0.8099 - precision: 0.8544 - recall: 0.7620 - val_loss: 0.5642 - val_accuracy: 0.8307 - val_precision: 0.8759 - val_recall: 0.8018 - _timestamp: 1657907180.0000 - _runtime: 46.0000\n"
          ]
        },
        {
          "data": {
            "text/html": [
              "Waiting for W&B process to finish... <strong style=\"color:green\">(success).</strong>"
            ],
            "text/plain": [
              "<IPython.core.display.HTML object>"
            ]
          },
          "metadata": {},
          "output_type": "display_data"
        },
        {
          "data": {
            "application/vnd.jupyter.widget-view+json": {
              "model_id": "45efa42001c74a69aa13465e3ea6fbbb",
              "version_major": 2,
              "version_minor": 0
            },
            "text/plain": [
              "VBox(children=(Label(value='0.001 MB of 0.001 MB uploaded (0.000 MB deduped)\\r'), FloatProgress(value=1.0, max…"
            ]
          },
          "metadata": {},
          "output_type": "display_data"
        },
        {
          "data": {
            "text/html": [
              "<style>\n",
              "    table.wandb td:nth-child(1) { padding: 0 10px; text-align: left ; width: auto;} td:nth-child(2) {text-align: left ; width: 100%}\n",
              "    .wandb-row { display: flex; flex-direction: row; flex-wrap: wrap; justify-content: flex-start; width: 100% }\n",
              "    .wandb-col { display: flex; flex-direction: column; flex-basis: 100%; flex: 1; padding: 10px; }\n",
              "    </style>\n",
              "<div class=\"wandb-row\"><div class=\"wandb-col\"><h3>Run history:</h3><br/><table class=\"wandb\"><tr><td>accuracy</td><td>▁▄▆▇▇█████</td></tr><tr><td>epoch</td><td>▁▂▃▃▄▅▆▆▇█</td></tr><tr><td>loss</td><td>█▆▄▂▂▂▁▁▁▁</td></tr><tr><td>precision</td><td>█▁▂▂▂▂▃▃▃▃</td></tr><tr><td>recall</td><td>▁▃▅▆▇▇████</td></tr><tr><td>val_accuracy</td><td>▁▅▆▇▇█████</td></tr><tr><td>val_loss</td><td>█▅▃▂▁▁▁▁▁▁</td></tr><tr><td>val_precision</td><td>█▃▃▁▁▁▁▁▁▁</td></tr><tr><td>val_recall</td><td>▁▄▆▇██████</td></tr></table><br/></div><div class=\"wandb-col\"><h3>Run summary:</h3><br/><table class=\"wandb\"><tr><td>GFLOPS</td><td>4e-05</td></tr><tr><td>accuracy</td><td>0.80992</td></tr><tr><td>best_epoch</td><td>8</td></tr><tr><td>best_val_loss</td><td>0.55283</td></tr><tr><td>epoch</td><td>9</td></tr><tr><td>loss</td><td>0.61656</td></tr><tr><td>precision</td><td>0.85438</td></tr><tr><td>recall</td><td>0.76198</td></tr><tr><td>val_accuracy</td><td>0.83073</td></tr><tr><td>val_loss</td><td>0.5642</td></tr><tr><td>val_precision</td><td>0.87591</td></tr><tr><td>val_recall</td><td>0.80178</td></tr></table><br/></div></div>"
            ],
            "text/plain": [
              "<IPython.core.display.HTML object>"
            ]
          },
          "metadata": {},
          "output_type": "display_data"
        },
        {
          "data": {
            "text/html": [
              "Synced <strong style=\"color:#cdcd00\">id-wiki-fasstext-bigru</strong>: <a href=\"https://wandb.ai/indoemobert/baseline-bilstm/runs/22z1gdim\" target=\"_blank\">https://wandb.ai/indoemobert/baseline-bilstm/runs/22z1gdim</a><br/>Synced 5 W&B file(s), 1 media file(s), 0 artifact file(s) and 0 other file(s)"
            ],
            "text/plain": [
              "<IPython.core.display.HTML object>"
            ]
          },
          "metadata": {},
          "output_type": "display_data"
        },
        {
          "data": {
            "text/html": [
              "Find logs at: <code>./wandb/run-20220715_174534-22z1gdim/logs</code>"
            ],
            "text/plain": [
              "<IPython.core.display.HTML object>"
            ]
          },
          "metadata": {},
          "output_type": "display_data"
        },
        {
          "name": "stdout",
          "output_type": "stream",
          "text": [
            "CPU times: user 45.8 s, sys: 4.75 s, total: 50.5 s\n",
            "Wall time: 55.1 s\n"
          ]
        }
      ],
      "source": [
        "%%time\n",
        "\n",
        "# Initialize wandb \n",
        "wandb.tensorboard.patch(root_logdir=log_dir)\n",
        "wandb_run = wandb.init(project='baseline-bilstm', name=f'{MODEL}', entity='indoemobert', config=config, sync_tensorboard=True)\n",
        "\n",
        "# Training\n",
        "model_history = model.fit(\n",
        "    X_train, \n",
        "    y_train, \n",
        "    epochs=EPOCHS,\n",
        "    batch_size=BATCH_SIZE, \n",
        "    validation_data=(X_test, y_test), \n",
        "    verbose=1, \n",
        "    steps_per_epoch=int(np.ceil(X_train.shape[0] / BATCH_SIZE)),\n",
        "    callbacks=[\n",
        "        # early_stopping, \n",
        "        # model_checkpoint,\n",
        "        # tensorboard_callback,\n",
        "        WandbCallback(\n",
        "            input_type='text',\n",
        "            training_data=(X_train, y_train),\n",
        "            validation_data=(X_test, y_test),\n",
        "            labels=LABEL_NAME,\n",
        "            monitor='val_loss',\n",
        "            log_best_prefix='best_',\n",
        "            log_gradients=True,\n",
        "            log_weights=True,\n",
        "            save_weights_only=True,\n",
        "            save_model=False\n",
        "        )]\n",
        ")\n",
        "\n",
        "wandb_run.finish()"
      ]
    },
    {
      "cell_type": "code",
      "execution_count": null,
      "id": "6d6cee9e-aa4d-4173-8379-ad699aae24ba",
      "metadata": {
        "id": "6d6cee9e-aa4d-4173-8379-ad699aae24ba"
      },
      "outputs": [],
      "source": [
        "def plot_metrics(history):\n",
        "  metrics = ['loss', 'accuracy', 'precision', 'recall']\n",
        "  plt.figure(figsize=(12, 10))\n",
        "  for n, metric in enumerate(metrics):\n",
        "    name = metric.replace('_',' ').capitalize()\n",
        "    plt.subplot(2,2,n+1)\n",
        "    plt.plot(history.epoch, history.history[metric], color=colors[0], label='Train')\n",
        "    plt.plot(history.epoch, history.history['val_'+metric], color=colors[0], linestyle='--', label='Validation')\n",
        "    plt.xlabel('Epoch')\n",
        "    plt.ylabel(name)\n",
        "\n",
        "    if metric == 'loss':\n",
        "      plt.ylim([0, plt.ylim()[1]])\n",
        "    else:\n",
        "      plt.ylim([0,1])\n",
        "\n",
        "    plt.legend(loc='lower right');"
      ]
    },
    {
      "cell_type": "code",
      "execution_count": null,
      "id": "2ba75740-9a75-4722-aee2-70b220527fee",
      "metadata": {
        "colab": {
          "base_uri": "https://localhost:8080/",
          "height": 610
        },
        "id": "2ba75740-9a75-4722-aee2-70b220527fee",
        "outputId": "44852944-0337-4679-bfe6-da7f0eb561a0"
      },
      "outputs": [
        {
          "data": {
            "image/png": "[encoded data removed]",
            "text/plain": [
              "<Figure size 864x720 with 4 Axes>"
            ]
          },
          "metadata": {
            "needs_background": "light"
          },
          "output_type": "display_data"
        }
      ],
      "source": [
        "plot_metrics(model_history)"
      ]
    },
    {
      "cell_type": "code",
      "execution_count": null,
      "id": "ilmk1XTu9Xt7",
      "metadata": {
        "colab": {
          "base_uri": "https://localhost:8080/"
        },
        "id": "ilmk1XTu9Xt7",
        "outputId": "a8b75972-955e-4376-f05c-aa4cac0896c9"
      },
      "outputs": [
        {
          "name": "stdout",
          "output_type": "stream",
          "text": [
            "       loss  accuracy  precision    recall  val_loss  val_accuracy  \\\n",
            "0  1.713657  0.254181   1.000000  0.019509  1.568559      0.360802   \n",
            "1  1.387860  0.478261   0.812775  0.205686  1.071164      0.623608   \n",
            "2  1.041285  0.630435   0.834518  0.458194  0.788373      0.728285   \n",
            "3  0.840407  0.717391   0.850783  0.575251  0.660697      0.792873   \n",
            "4  0.750751  0.748606   0.836066  0.653846  0.607849      0.810690   \n",
            "5  0.695570  0.784281   0.852724  0.706800  0.579806      0.826281   \n",
            "6  0.650110  0.798774   0.857419  0.740803  0.589322      0.835189   \n",
            "7  0.643549  0.803233   0.854313  0.745262  0.561412      0.839644   \n",
            "8  0.608844  0.821070   0.867302  0.761427  0.552833      0.848552   \n",
            "9  0.616558  0.809922   0.854375  0.761984  0.564201      0.830735   \n",
            "\n",
            "   val_precision  val_recall  _timestamp  _runtime  \n",
            "0       1.000000    0.048998  1657907155        21  \n",
            "1       0.902062    0.389755  1657907158        24  \n",
            "2       0.902027    0.594655  1657907161        27  \n",
            "3       0.878116    0.706013  1657907164        30  \n",
            "4       0.870416    0.792873  1657907166        32  \n",
            "5       0.879012    0.792873  1657907169        35  \n",
            "6       0.875912    0.801782  1657907172        38  \n",
            "7       0.870813    0.810690  1657907175        41  \n",
            "8       0.877990    0.817372  1657907178        44  \n",
            "9       0.875912    0.801782  1657907180        46  \n"
          ]
        }
      ],
      "source": [
        "hist_df = pd.DataFrame(model_history.history)\n",
        "print(hist_df)\n",
        "\n",
        "hist_df.to_csv(f'{FOLDER_PATH}/model-history/{MODEL}-{TODAY}.csv')"
      ]
    },
    {
      "cell_type": "code",
      "execution_count": null,
      "id": "88a1e276-1197-4331-b387-db867bb8a6f2",
      "metadata": {
        "id": "88a1e276-1197-4331-b387-db867bb8a6f2"
      },
      "outputs": [],
      "source": [
        "# save model\n",
        "model.save(f'{FOLDER_PATH}/model-fit/{MODEL}/{MODEL}.h5')"
      ]
    },
    {
      "cell_type": "markdown",
      "id": "f47228a0-2b5c-4ccd-8374-f6606913add2",
      "metadata": {
        "id": "f47228a0-2b5c-4ccd-8374-f6606913add2"
      },
      "source": [
        "# 11 Evaluation"
      ]
    },
    {
      "cell_type": "code",
      "execution_count": null,
      "id": "4b70a8d2-ac47-47f5-be3a-557e8dfee000",
      "metadata": {
        "colab": {
          "base_uri": "https://localhost:8080/"
        },
        "id": "4b70a8d2-ac47-47f5-be3a-557e8dfee000",
        "outputId": "4c291086-f3dc-40f2-e94d-2c5987705c00"
      },
      "outputs": [
        {
          "name": "stdout",
          "output_type": "stream",
          "text": [
            "15/15 [==============================] - 0s 10ms/step - loss: 0.5642 - accuracy: 0.8307 - precision: 0.8759 - recall: 0.8018\n",
            "Accuracy: 83.07%\n"
          ]
        }
      ],
      "source": [
        "y_pred = np.argmax(model.predict(X_test), axis=1)\n",
        "y_true = np.argmax(y_test, axis=1)\n",
        "\n",
        "loss, accuracy, precision, recall = model.evaluate(X_test, y_test)\n",
        "print(\"Accuracy: %.2f%%\" % (accuracy*100))"
      ]
    },
    {
      "cell_type": "code",
      "execution_count": null,
      "id": "yDfdvYRmCsxk",
      "metadata": {
        "colab": {
          "base_uri": "https://localhost:8080/",
          "height": 441
        },
        "id": "yDfdvYRmCsxk",
        "outputId": "0de3dcf9-1bc2-44e7-9b8e-ad705fbc0754"
      },
      "outputs": [
        {
          "data": {
            "image/png": "[encoded data removed]",
            "text/plain": [
              "<Figure size 576x432 with 2 Axes>"
            ]
          },
          "metadata": {
            "needs_background": "light"
          },
          "output_type": "display_data"
        }
      ],
      "source": [
        "cm = confusion_matrix(y_true, y_pred)\n",
        "\n",
        "plt.figure(figsize=(8, 6))\n",
        "ax = plt.subplot()\n",
        "sns.heatmap(cm, annot=True, fmt='g', ax=ax, cmap='Blues')  # annot=True to annotate cells, ftm='g' to disable scientific notation\n",
        "\n",
        "ax.set_xlabel('Predicted labels')\n",
        "ax.set_ylabel('True labels') \n",
        "ax.set_title('Confusion Matrix')\n",
        "ax.xaxis.set_ticklabels(LABEL_NAME)\n",
        "ax.yaxis.set_ticklabels(LABEL_NAME)\n",
        "plt.tight_layout()"
      ]
    },
    {
      "cell_type": "code",
      "execution_count": null,
      "id": "4990b17c-b31c-44d7-af33-1c408dc09407",
      "metadata": {
        "colab": {
          "base_uri": "https://localhost:8080/"
        },
        "id": "4990b17c-b31c-44d7-af33-1c408dc09407",
        "outputId": "789f5029-97a9-4e41-9188-7749f714729e"
      },
      "outputs": [
        {
          "name": "stdout",
          "output_type": "stream",
          "text": [
            "              precision    recall  f1-score   support\n",
            "\n",
            "       anger       0.79      0.77      0.78        97\n",
            "     disgust       0.97      0.90      0.93        77\n",
            "        fear       0.84      0.89      0.86        74\n",
            "         joy       0.67      0.89      0.77        65\n",
            "     sadness       0.89      0.77      0.82        70\n",
            "    surprise       0.89      0.77      0.83        66\n",
            "\n",
            "    accuracy                           0.83       449\n",
            "   macro avg       0.84      0.83      0.83       449\n",
            "weighted avg       0.84      0.83      0.83       449\n",
            "\n"
          ]
        }
      ],
      "source": [
        "print(classification_report(y_pred, y_true, target_names=LABEL_NAME))"
      ]
    },
    {
      "cell_type": "code",
      "execution_count": null,
      "id": "z4Mco0KzAIu7",
      "metadata": {
        "id": "z4Mco0KzAIu7"
      },
      "outputs": [],
      "source": [
        "def plot_roc_curve(y_test, y_pred):\n",
        "  \n",
        "  n_classes = len(np.unique(y_test))\n",
        "  y_test = label_binarize(y_test, classes=np.arange(len(LABEL_NAME)))\n",
        "  y_pred = label_binarize(y_pred, classes=np.arange(len(LABEL_NAME)))\n",
        "\n",
        "  # Compute ROC curve and ROC area for each class\n",
        "  fpr = dict()\n",
        "  tpr = dict()\n",
        "  roc_auc = dict()\n",
        "  for i in range(n_classes):\n",
        "    fpr[i], tpr[i], _ = roc_curve(y_test[:, i], y_pred[:, i])\n",
        "    roc_auc[i] = auc(fpr[i], tpr[i])\n",
        "  \n",
        "  # Compute micro-average ROC curve and ROC area\n",
        "  fpr['micro'], tpr['micro'], _ = roc_curve(y_test.ravel(), y_pred.ravel())\n",
        "  roc_auc['micro'] = auc(fpr['micro'], tpr['micro'])\n",
        "\n",
        "  # First aggregate all false positive rates\n",
        "  all_fpr = np.unique(np.concatenate([fpr[i] for i in range(n_classes)]))\n",
        "\n",
        "  # Then interpolate all ROC curves at this points\n",
        "  mean_tpr = np.zeros_like(all_fpr)\n",
        "  for i in range(n_classes):\n",
        "    mean_tpr += np.interp(all_fpr, fpr[i], tpr[i])\n",
        "\n",
        "  # Finally average it and compute AUC\n",
        "  mean_tpr /= n_classes\n",
        "\n",
        "  fpr['macro'] = all_fpr\n",
        "  tpr['macro'] = mean_tpr\n",
        "  roc_auc['macro'] = auc(fpr['macro'], tpr['macro'])\n",
        "\n",
        "  # Plot all ROC curves\n",
        "  plt.figure(figsize=(10, 7))\n",
        "  lw = 2\n",
        "  plt.plot(fpr['micro'], tpr['micro'],\n",
        "    label='micro-average ROC curve (area = {0:0.2f})'.format(roc_auc['micro']),\n",
        "    color='deeppink', linestyle=':', linewidth=4,)\n",
        "\n",
        "  plt.plot(fpr['macro'], tpr['macro'],\n",
        "    label='macro-average ROC curve (area = {0:0.2f})'.format(roc_auc['macro']),\n",
        "    color='navy', linestyle=':', linewidth=4,)\n",
        "\n",
        "  colors = cycle(['aqua', 'darkorange', 'darkgreen', 'yellow', 'blue', 'red'])\n",
        "  for i, color, label in zip(range(n_classes), colors, LABEL_NAME):\n",
        "    plt.plot(fpr[i], tpr[i], color=color, lw=lw,\n",
        "        label=\"ROC curve of class {0} (area = {1:0.2f})\".format(label, roc_auc[i]))\n",
        "\n",
        "  plt.plot([0, 1], [0, 1], 'k--', lw=lw)\n",
        "  plt.xlim([0.0, 1.0])\n",
        "  plt.ylim([0.0, 1.05])\n",
        "  plt.xlabel('False Positive Rate')\n",
        "  plt.ylabel('True Positive Rate')\n",
        "  plt.title('Receiver Operating Characteristic (ROC) curve')\n",
        "  plt.legend()\n",
        "  plt.show()"
      ]
    },
    {
      "cell_type": "code",
      "execution_count": null,
      "id": "C4uN5NOuAKDw",
      "metadata": {
        "colab": {
          "base_uri": "https://localhost:8080/",
          "height": 458
        },
        "id": "C4uN5NOuAKDw",
        "outputId": "43417414-40b4-4b3a-fb6f-6430352cc005"
      },
      "outputs": [
        {
          "data": {
            "image/png": "[encoded data removed]",
            "text/plain": [
              "<Figure size 720x504 with 1 Axes>"
            ]
          },
          "metadata": {
            "needs_background": "light"
          },
          "output_type": "display_data"
        }
      ],
      "source": [
        "plot_roc_curve(y_pred, y_true)"
      ]
    },
    {
      "cell_type": "markdown",
      "id": "9vw4g3s-z-Rw",
      "metadata": {
        "id": "9vw4g3s-z-Rw"
      },
      "source": [
        "# 12 Predict on New Data"
      ]
    },
    {
      "cell_type": "code",
      "execution_count": null,
      "id": "ZxfTw0Kk0DTW",
      "metadata": {
        "colab": {
          "base_uri": "https://localhost:8080/"
        },
        "id": "ZxfTw0Kk0DTW",
        "outputId": "89cca2f3-4604-45b5-a962-7484fa967575"
      },
      "outputs": [
        {
          "name": "stdout",
          "output_type": "stream",
          "text": [
            "[[9.9124305e-02 5.3081760e-04 2.6605122e-03 3.6642469e-02 8.5896647e-01\n",
            "  2.0754421e-03]] ['sadness']\n"
          ]
        }
      ],
      "source": [
        "new_text = ['Hargai kebahagiaan jika kamu pernah sedih']\n",
        "\n",
        "text_seq = tokenizer.texts_to_sequences(new_text,)\n",
        "text_padded = pad_sequences(text_seq, maxlen=MAX_SEQ_LENGTH, padding=PADDING, truncating=TRUNCATING)\n",
        "\n",
        "pred = model.predict(text_padded)\n",
        "\n",
        "print(pred, LABEL_NAME[np.argmax(pred, axis=1)])"
      ]
    }
  ],
  "metadata": {
    "accelerator": "GPU",
    "colab": {
      "collapsed_sections": [],
      "include_colab_link": true,
      "machine_shape": "hm",
      "name": "04-FastText-ID-Wiki300-BiGRUs.ipynb",
      "provenance": [],
      "toc_visible": true
    },
    "kernelspec": {
      "display_name": "Python 3.8.8 ('base')",
      "language": "python",
      "name": "python3"
    },
    "language_info": {
      "codemirror_mode": {
        "name": "ipython",
        "version": 3
      },
      "file_extension": ".py",
      "mimetype": "text/x-python",
      "name": "python",
      "nbconvert_exporter": "python",
      "pygments_lexer": "ipython3",
      "version": "3.8.8"
    },
    "vscode": {
      "interpreter": {
        "hash": "ad2bdc8ecc057115af97d19610ffacc2b4e99fae6737bb82f5d7fb13d2f2c186"
      }
    },
    "widgets": {
      "application/vnd.jupyter.widget-state+json": {
        "45efa42001c74a69aa13465e3ea6fbbb": {
          "model_module": "@jupyter-widgets/controls",
          "model_module_version": "1.5.0",
          "model_name": "VBoxModel",
          "state": {
            "_dom_classes": [],
            "_model_module": "@jupyter-widgets/controls",
            "_model_module_version": "1.5.0",
            "_model_name": "VBoxModel",
            "_view_count": null,
            "_view_module": "@jupyter-widgets/controls",
            "_view_module_version": "1.5.0",
            "_view_name": "VBoxView",
            "box_style": "",
            "children": [
              "IPY_MODEL_be40e0f75eda4e0682b33affad4649bd",
              "IPY_MODEL_a864c771d5744baf8eb611faef3f0109"
            ],
            "layout": "IPY_MODEL_852f6144e7914d7b9e9c6a8184642d0a"
          }
        },
        "6d866c01fe4d4bb19ecd4073e89c16f7": {
          "model_module": "@jupyter-widgets/base",
          "model_module_version": "1.2.0",
          "model_name": "LayoutModel",
          "state": {
            "_model_module": "@jupyter-widgets/base",
            "_model_module_version": "1.2.0",
            "_model_name": "LayoutModel",
            "_view_count": null,
            "_view_module": "@jupyter-widgets/base",
            "_view_module_version": "1.2.0",
            "_view_name": "LayoutView",
            "align_content": null,
            "align_items": null,
            "align_self": null,
            "border": null,
            "bottom": null,
            "display": null,
            "flex": null,
            "flex_flow": null,
            "grid_area": null,
            "grid_auto_columns": null,
            "grid_auto_flow": null,
            "grid_auto_rows": null,
            "grid_column": null,
            "grid_gap": null,
            "grid_row": null,
            "grid_template_areas": null,
            "grid_template_columns": null,
            "grid_template_rows": null,
            "height": null,
            "justify_content": null,
            "justify_items": null,
            "left": null,
            "margin": null,
            "max_height": null,
            "max_width": null,
            "min_height": null,
            "min_width": null,
            "object_fit": null,
            "object_position": null,
            "order": null,
            "overflow": null,
            "overflow_x": null,
            "overflow_y": null,
            "padding": null,
            "right": null,
            "top": null,
            "visibility": null,
            "width": null
          }
        },
        "774cfb78972846f980f1e76aa7f089a9": {
          "model_module": "@jupyter-widgets/base",
          "model_module_version": "1.2.0",
          "model_name": "LayoutModel",
          "state": {
            "_model_module": "@jupyter-widgets/base",
            "_model_module_version": "1.2.0",
            "_model_name": "LayoutModel",
            "_view_count": null,
            "_view_module": "@jupyter-widgets/base",
            "_view_module_version": "1.2.0",
            "_view_name": "LayoutView",
            "align_content": null,
            "align_items": null,
            "align_self": null,
            "border": null,
            "bottom": null,
            "display": null,
            "flex": null,
            "flex_flow": null,
            "grid_area": null,
            "grid_auto_columns": null,
            "grid_auto_flow": null,
            "grid_auto_rows": null,
            "grid_column": null,
            "grid_gap": null,
            "grid_row": null,
            "grid_template_areas": null,
            "grid_template_columns": null,
            "grid_template_rows": null,
            "height": null,
            "justify_content": null,
            "justify_items": null,
            "left": null,
            "margin": null,
            "max_height": null,
            "max_width": null,
            "min_height": null,
            "min_width": null,
            "object_fit": null,
            "object_position": null,
            "order": null,
            "overflow": null,
            "overflow_x": null,
            "overflow_y": null,
            "padding": null,
            "right": null,
            "top": null,
            "visibility": null,
            "width": null
          }
        },
        "852f6144e7914d7b9e9c6a8184642d0a": {
          "model_module": "@jupyter-widgets/base",
          "model_module_version": "1.2.0",
          "model_name": "LayoutModel",
          "state": {
            "_model_module": "@jupyter-widgets/base",
            "_model_module_version": "1.2.0",
            "_model_name": "LayoutModel",
            "_view_count": null,
            "_view_module": "@jupyter-widgets/base",
            "_view_module_version": "1.2.0",
            "_view_name": "LayoutView",
            "align_content": null,
            "align_items": null,
            "align_self": null,
            "border": null,
            "bottom": null,
            "display": null,
            "flex": null,
            "flex_flow": null,
            "grid_area": null,
            "grid_auto_columns": null,
            "grid_auto_flow": null,
            "grid_auto_rows": null,
            "grid_column": null,
            "grid_gap": null,
            "grid_row": null,
            "grid_template_areas": null,
            "grid_template_columns": null,
            "grid_template_rows": null,
            "height": null,
            "justify_content": null,
            "justify_items": null,
            "left": null,
            "margin": null,
            "max_height": null,
            "max_width": null,
            "min_height": null,
            "min_width": null,
            "object_fit": null,
            "object_position": null,
            "order": null,
            "overflow": null,
            "overflow_x": null,
            "overflow_y": null,
            "padding": null,
            "right": null,
            "top": null,
            "visibility": null,
            "width": null
          }
        },
        "a864c771d5744baf8eb611faef3f0109": {
          "model_module": "@jupyter-widgets/controls",
          "model_module_version": "1.5.0",
          "model_name": "FloatProgressModel",
          "state": {
            "_dom_classes": [],
            "_model_module": "@jupyter-widgets/controls",
            "_model_module_version": "1.5.0",
            "_model_name": "FloatProgressModel",
            "_view_count": null,
            "_view_module": "@jupyter-widgets/controls",
            "_view_module_version": "1.5.0",
            "_view_name": "ProgressView",
            "bar_style": "",
            "description": "",
            "description_tooltip": null,
            "layout": "IPY_MODEL_6d866c01fe4d4bb19ecd4073e89c16f7",
            "max": 1,
            "min": 0,
            "orientation": "horizontal",
            "style": "IPY_MODEL_e3d3d8a3e4184e84b9a262f5b1a64c5a",
            "value": 1
          }
        },
        "be40e0f75eda4e0682b33affad4649bd": {
          "model_module": "@jupyter-widgets/controls",
          "model_module_version": "1.5.0",
          "model_name": "LabelModel",
          "state": {
            "_dom_classes": [],
            "_model_module": "@jupyter-widgets/controls",
            "_model_module_version": "1.5.0",
            "_model_name": "LabelModel",
            "_view_count": null,
            "_view_module": "@jupyter-widgets/controls",
            "_view_module_version": "1.5.0",
            "_view_name": "LabelView",
            "description": "",
            "description_tooltip": null,
            "layout": "IPY_MODEL_774cfb78972846f980f1e76aa7f089a9",
            "placeholder": "​",
            "style": "IPY_MODEL_e1c5b8af31704acfb5679b89fdc655b9",
            "value": "0.037 MB of 0.037 MB uploaded (0.000 MB deduped)\r"
          }
        },
        "e1c5b8af31704acfb5679b89fdc655b9": {
          "model_module": "@jupyter-widgets/controls",
          "model_module_version": "1.5.0",
          "model_name": "DescriptionStyleModel",
          "state": {
            "_model_module": "@jupyter-widgets/controls",
            "_model_module_version": "1.5.0",
            "_model_name": "DescriptionStyleModel",
            "_view_count": null,
            "_view_module": "@jupyter-widgets/base",
            "_view_module_version": "1.2.0",
            "_view_name": "StyleView",
            "description_width": ""
          }
        },
        "e3d3d8a3e4184e84b9a262f5b1a64c5a": {
          "model_module": "@jupyter-widgets/controls",
          "model_module_version": "1.5.0",
          "model_name": "ProgressStyleModel",
          "state": {
            "_model_module": "@jupyter-widgets/controls",
            "_model_module_version": "1.5.0",
            "_model_name": "ProgressStyleModel",
            "_view_count": null,
            "_view_module": "@jupyter-widgets/base",
            "_view_module_version": "1.2.0",
            "_view_name": "StyleView",
            "bar_color": null,
            "description_width": ""
          }
        }
      }
    }
  },
  "nbformat": 4,
  "nbformat_minor": 5
}
