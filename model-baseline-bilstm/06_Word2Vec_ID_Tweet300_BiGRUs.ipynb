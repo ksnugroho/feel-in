{
  "cells": [
    {
      "cell_type": "markdown",
      "metadata": {
        "id": "view-in-github",
        "colab_type": "text"
      },
      "source": [
        "<a href=\"https://colab.research.google.com/github/ksnugroho/feel-in/blob/main/model-baseline-bilstm/06_Word2Vec_ID_Tweet300_BiGRUs.ipynb\" target=\"_parent\"><img src=\"https://colab.research.google.com/assets/colab-badge.svg\" alt=\"Open In Colab\"/></a>"
      ]
    },
    {
      "cell_type": "markdown",
      "id": "a1bf2cd2-5a23-41fa-a4b7-71dfd3b0adb8",
      "metadata": {
        "id": "a1bf2cd2-5a23-41fa-a4b7-71dfd3b0adb8"
      },
      "source": [
        "# **Word2Vec (ID Tweet) + Bidirectional GRU**\n",
        "\n",
        "**Thesis: Emotion Detection in Indonesian Text**\n",
        "\n",
        "Kuncahyo Setyo Nugroho<br>\n",
        "Supervisor:\n",
        "1. Dr. Eng. Fitra A. Bachtiar, S.T., M.Eng.\n",
        "2. Prof. Ir. Wayan Firdaus Mahmudy, S.Si., M.T., Ph.D.\n",
        "\n",
        "Faculty of Computer Science, Brawijaya University, Indonesia &copy; 2021-2022"
      ]
    },
    {
      "cell_type": "markdown",
      "id": "c2711406-ec5a-4ae2-bb51-ee6e38d2e14d",
      "metadata": {
        "id": "c2711406-ec5a-4ae2-bb51-ee6e38d2e14d"
      },
      "source": [
        "# 01 Setup"
      ]
    },
    {
      "cell_type": "code",
      "source": [
        "from google.colab import drive\n",
        "drive.mount('/content/drive', force_remount=True)"
      ],
      "metadata": {
        "colab": {
          "base_uri": "https://localhost:8080/"
        },
        "id": "AVwTm6ZzVRuK",
        "outputId": "526e90d5-5ea1-4dbd-996b-4e4d58e68323"
      },
      "id": "AVwTm6ZzVRuK",
      "execution_count": 1,
      "outputs": [
        {
          "output_type": "stream",
          "name": "stdout",
          "text": [
            "Mounted at /content/drive\n"
          ]
        }
      ]
    },
    {
      "cell_type": "code",
      "source": [
        "# Path to google drive folder\n",
        "%cd /content/drive/MyDrive/Code/tesis"
      ],
      "metadata": {
        "colab": {
          "base_uri": "https://localhost:8080/"
        },
        "id": "wFUHxFRwVT1W",
        "outputId": "c3b71271-3c2c-4cbe-a1d0-d8664f51d9ea"
      },
      "id": "wFUHxFRwVT1W",
      "execution_count": 2,
      "outputs": [
        {
          "output_type": "stream",
          "name": "stdout",
          "text": [
            "/content/drive/MyDrive/Code/tesis\n"
          ]
        }
      ]
    },
    {
      "cell_type": "code",
      "execution_count": 3,
      "id": "1d9e59eb-577c-41f1-91e7-ad35cb47e990",
      "metadata": {
        "tags": [],
        "id": "1d9e59eb-577c-41f1-91e7-ad35cb47e990"
      },
      "outputs": [],
      "source": [
        "import re\n",
        "import os\n",
        "import datetime\n",
        "import numpy as np\n",
        "import pandas as pd\n",
        "import matplotlib.pyplot as plt\n",
        "import seaborn as sns\n",
        "\n",
        "from itertools import cycle\n",
        "from sklearn.preprocessing import LabelEncoder, label_binarize\n",
        "from sklearn.model_selection import train_test_split\n",
        "from sklearn.metrics import roc_curve, auc, confusion_matrix, classification_report\n",
        "\n",
        "from gensim.models import KeyedVectors\n",
        "\n",
        "import tensorflow as tf\n",
        "from tensorflow.keras.preprocessing.text import Tokenizer\n",
        "from tensorflow.keras.preprocessing.sequence import pad_sequences\n",
        "from tensorflow.keras.utils import to_categorical, plot_model\n",
        "from tensorflow.keras.optimizers import Adam\n",
        "from tensorflow.keras.losses import CategoricalCrossentropy\n",
        "from tensorflow.keras.callbacks import EarlyStopping, ModelCheckpoint, TensorBoard\n",
        "from tensorflow.keras.initializers import Constant\n",
        "from tensorflow.keras.models import Sequential \n",
        "from tensorflow.keras.layers import Embedding, Bidirectional, GRU, Dropout, Dense\n",
        "\n",
        "from tqdm import tqdm\n",
        "tqdm.pandas()\n",
        "\n",
        "import warnings\n",
        "warnings.filterwarnings('ignore')\n",
        "\n",
        "SEED = 50\n",
        "MODEL = 'id-tweet-word2vec-bigru'\n",
        "FOLDER_PATH = 'model-baseline-bilstm'\n",
        "\n",
        "np.random.seed(SEED)\n",
        "tf.random.set_seed(SEED)\n",
        "colors = plt.rcParams['axes.prop_cycle'].by_key()['color']\n",
        "\n",
        "%matplotlib inline"
      ]
    },
    {
      "cell_type": "code",
      "source": [
        "!pip install -q wandb"
      ],
      "metadata": {
        "id": "2Y-QoBKiVGcU",
        "colab": {
          "base_uri": "https://localhost:8080/"
        },
        "outputId": "910367b6-1f54-49cf-fd3c-3de4c8140857"
      },
      "id": "2Y-QoBKiVGcU",
      "execution_count": 4,
      "outputs": [
        {
          "output_type": "stream",
          "name": "stdout",
          "text": [
            "\u001b[K     |████████████████████████████████| 1.8 MB 5.2 MB/s \n",
            "\u001b[K     |████████████████████████████████| 181 kB 67.9 MB/s \n",
            "\u001b[K     |████████████████████████████████| 147 kB 84.6 MB/s \n",
            "\u001b[K     |████████████████████████████████| 63 kB 2.0 MB/s \n",
            "\u001b[?25h  Building wheel for pathtools (setup.py) ... \u001b[?25l\u001b[?25hdone\n"
          ]
        }
      ]
    },
    {
      "cell_type": "code",
      "execution_count": 5,
      "id": "48b9555b-8ac9-42ce-ab47-039461f7ddcc",
      "metadata": {
        "colab": {
          "base_uri": "https://localhost:8080/"
        },
        "id": "48b9555b-8ac9-42ce-ab47-039461f7ddcc",
        "outputId": "a1612d2d-b69f-4eff-e48b-aa87d1756739"
      },
      "outputs": [
        {
          "output_type": "stream",
          "name": "stderr",
          "text": [
            "\u001b[34m\u001b[1mwandb\u001b[0m: W&B API key is configured. Use \u001b[1m`wandb login --relogin`\u001b[0m to force relogin\n",
            "\u001b[34m\u001b[1mwandb\u001b[0m: \u001b[33mWARNING\u001b[0m If you're specifying your api key in code, ensure this code is not shared publicly.\n",
            "\u001b[34m\u001b[1mwandb\u001b[0m: \u001b[33mWARNING\u001b[0m Consider setting the WANDB_API_KEY environment variable, or running `wandb login` from the command line.\n",
            "\u001b[34m\u001b[1mwandb\u001b[0m: Appending key for api.wandb.ai to your netrc file: /root/.netrc\n"
          ]
        },
        {
          "output_type": "execute_result",
          "data": {
            "text/plain": [
              "True"
            ]
          },
          "metadata": {},
          "execution_count": 5
        }
      ],
      "source": [
        "import wandb\n",
        "from wandb.keras import WandbCallback\n",
        "\n",
        "wandb.login(key='bd42e3aab9cac21a2416900b1114532802619de3')"
      ]
    },
    {
      "cell_type": "code",
      "source": [
        "TODAY = datetime.datetime.now().strftime(\"%m-%d-%Y-%H:%M\")\n",
        "print(TODAY)"
      ],
      "metadata": {
        "colab": {
          "base_uri": "https://localhost:8080/"
        },
        "id": "7GDeOKZeFvEk",
        "outputId": "e9b21434-2f0b-4d82-df01-14f08df37019"
      },
      "id": "7GDeOKZeFvEk",
      "execution_count": 6,
      "outputs": [
        {
          "output_type": "stream",
          "name": "stdout",
          "text": [
            "07-15-2022-17:52\n"
          ]
        }
      ]
    },
    {
      "cell_type": "markdown",
      "id": "68399df4-1ece-42be-926c-40c9c494d0d1",
      "metadata": {
        "id": "68399df4-1ece-42be-926c-40c9c494d0d1"
      },
      "source": [
        "# 02 Load Data"
      ]
    },
    {
      "cell_type": "code",
      "execution_count": 7,
      "id": "7ab9c55e-af81-4952-9736-b3f87045cfa2",
      "metadata": {
        "colab": {
          "base_uri": "https://localhost:8080/"
        },
        "id": "7ab9c55e-af81-4952-9736-b3f87045cfa2",
        "outputId": "fc86fbdc-bc03-42ac-c648-1c2c6e0be1e2"
      },
      "outputs": [
        {
          "output_type": "stream",
          "name": "stdout",
          "text": [
            "                                               tweet    label\n",
            "0        wah belom liat muka gue lagi murka hahahaha      joy\n",
            "1  Mungkin kurang piknik adrenalin. Mereka yg ske...    anger\n",
            "2  maaf kalo tersinggung \"orang kurus cepet mati\"...    anger\n",
            "3  berserah pada maha esa paling tabah dan sabar ...      joy\n",
            "4                       Ehekk malu la hahahahahahaha  sadness\n"
          ]
        }
      ],
      "source": [
        "df = pd.read_csv('data/final-tweet-anotasi.csv', index_col=0)\n",
        "# df = df.sample(frac=1, random_state=SEED).reset_index(drop=True)   # For shuffle\n",
        "print(df.head())"
      ]
    },
    {
      "cell_type": "code",
      "source": [
        "# df = df.dropna()"
      ],
      "metadata": {
        "id": "jSyeoBWmVtkA"
      },
      "id": "jSyeoBWmVtkA",
      "execution_count": 8,
      "outputs": []
    },
    {
      "cell_type": "code",
      "execution_count": 9,
      "id": "eeb8fd22-5a2b-48a9-8d5e-e5b569cb856a",
      "metadata": {
        "colab": {
          "base_uri": "https://localhost:8080/"
        },
        "id": "eeb8fd22-5a2b-48a9-8d5e-e5b569cb856a",
        "outputId": "ab9b8678-7a03-4310-aec5-9fc9d2e875ed"
      },
      "outputs": [
        {
          "output_type": "execute_result",
          "data": {
            "text/plain": [
              "(2243, 2)"
            ]
          },
          "metadata": {},
          "execution_count": 9
        }
      ],
      "source": [
        "df.shape"
      ]
    },
    {
      "cell_type": "code",
      "execution_count": 10,
      "id": "ad238655-95be-4598-b60a-5aa5ee3a27be",
      "metadata": {
        "colab": {
          "base_uri": "https://localhost:8080/",
          "height": 456
        },
        "id": "ad238655-95be-4598-b60a-5aa5ee3a27be",
        "outputId": "f63047c3-3408-4e75-a035-ca55a3bc3d7a"
      },
      "outputs": [
        {
          "output_type": "display_data",
          "data": {
            "text/plain": [
              "<Figure size 576x360 with 1 Axes>"
            ],
            "image/png": "[encoded data removed]"
          },
          "metadata": {
            "needs_background": "light"
          }
        },
        {
          "output_type": "execute_result",
          "data": {
            "text/plain": [
              "anger       475\n",
              "disgust     355\n",
              "fear        395\n",
              "joy         429\n",
              "sadness     303\n",
              "surprise    286\n",
              "Name: label, dtype: int64"
            ]
          },
          "metadata": {},
          "execution_count": 10
        }
      ],
      "source": [
        "plt.figure(figsize=(8, 5))\n",
        "sns.countplot(x='label', data=df, order=df['label'].value_counts().index)\n",
        "plt.xlabel('Distribution of Emotion Label')\n",
        "plt.show()\n",
        "\n",
        "df['label'].value_counts().sort_index()"
      ]
    },
    {
      "cell_type": "markdown",
      "id": "c8468e98-5632-450d-8b96-4542508142e9",
      "metadata": {
        "id": "c8468e98-5632-450d-8b96-4542508142e9"
      },
      "source": [
        "# 03 Preprocessing"
      ]
    },
    {
      "cell_type": "markdown",
      "source": [
        "## Text Cleaning"
      ],
      "metadata": {
        "id": "aS9FGYJDEnzR"
      },
      "id": "aS9FGYJDEnzR"
    },
    {
      "cell_type": "code",
      "execution_count": 11,
      "id": "ebe49f47-6c6a-4f61-8d6c-770106d96043",
      "metadata": {
        "id": "ebe49f47-6c6a-4f61-8d6c-770106d96043"
      },
      "outputs": [],
      "source": [
        "def text_cleaning(text):\n",
        "    text = text.lower()                               # Mengubah teks menjadi lower case\n",
        "    text = re.sub(r'https?://\\S+|www\\.\\S+', '', text) # Menghapus URL\n",
        "    text = re.sub(r'[-+]?[0-9]+', '', text)           # Menghapus angka\n",
        "    text = re.sub(r'[^\\w\\s]','', text)                # Menghapus karakter tanda baca\n",
        "    text = re.sub(r'\\s+', ' ', text).strip()          # Menghapus whitespaces\n",
        "\n",
        "    return text"
      ]
    },
    {
      "cell_type": "code",
      "execution_count": 12,
      "id": "ae27a972-17de-4d33-b15c-987de9ee00ca",
      "metadata": {
        "colab": {
          "base_uri": "https://localhost:8080/"
        },
        "id": "ae27a972-17de-4d33-b15c-987de9ee00ca",
        "outputId": "75d335fa-71f0-471a-a64f-02e8c0637afe"
      },
      "outputs": [
        {
          "output_type": "stream",
          "name": "stderr",
          "text": [
            "100%|██████████| 2243/2243 [00:00<00:00, 53618.05it/s]"
          ]
        },
        {
          "output_type": "stream",
          "name": "stdout",
          "text": [
            "CPU times: user 46 ms, sys: 2.83 ms, total: 48.8 ms\n",
            "Wall time: 47.6 ms\n"
          ]
        },
        {
          "output_type": "stream",
          "name": "stderr",
          "text": [
            "\n"
          ]
        }
      ],
      "source": [
        "%%time \n",
        "df['tweet'] = df['tweet'].progress_apply(text_cleaning)"
      ]
    },
    {
      "cell_type": "markdown",
      "id": "96d70e1e-0b16-4ee5-87ab-39f14bccc3cb",
      "metadata": {
        "id": "96d70e1e-0b16-4ee5-87ab-39f14bccc3cb"
      },
      "source": [
        "## Label Encoder"
      ]
    },
    {
      "cell_type": "code",
      "execution_count": 13,
      "id": "446e9785-ddc4-4674-a3ec-ccf3a96be135",
      "metadata": {
        "colab": {
          "base_uri": "https://localhost:8080/"
        },
        "id": "446e9785-ddc4-4674-a3ec-ccf3a96be135",
        "outputId": "c331ce21-fb14-4555-cbb4-7bc07da12e2e"
      },
      "outputs": [
        {
          "output_type": "stream",
          "name": "stdout",
          "text": [
            "                                               tweet    label  label_encode\n",
            "0        wah belom liat muka gue lagi murka hahahaha      joy             3\n",
            "1  mungkin kurang piknik adrenalin mereka yg skep...    anger             0\n",
            "2  maaf kalo tersinggung orang kurus cepet mati w...    anger             0\n",
            "3  berserah pada maha esa paling tabah dan sabar ...      joy             3\n",
            "4                       ehekk malu la hahahahahahaha  sadness             4\n"
          ]
        }
      ],
      "source": [
        "le = LabelEncoder()\n",
        "\n",
        "df['label_encode'] = le.fit_transform(df['label'])\n",
        "print(df.head())"
      ]
    },
    {
      "cell_type": "code",
      "source": [
        "le_mapping = dict(zip(le.classes_, le.transform(le.classes_)))\n",
        "print(le_mapping)"
      ],
      "metadata": {
        "colab": {
          "base_uri": "https://localhost:8080/"
        },
        "id": "dNTuKMAtCC3O",
        "outputId": "4755e2aa-d2f5-4047-d098-67f6a524b539"
      },
      "id": "dNTuKMAtCC3O",
      "execution_count": 14,
      "outputs": [
        {
          "output_type": "stream",
          "name": "stdout",
          "text": [
            "{'anger': 0, 'disgust': 1, 'fear': 2, 'joy': 3, 'sadness': 4, 'surprise': 5}\n"
          ]
        }
      ]
    },
    {
      "cell_type": "code",
      "source": [
        "LABEL_NAME = le.classes_\n",
        "print(LABEL_NAME)"
      ],
      "metadata": {
        "colab": {
          "base_uri": "https://localhost:8080/"
        },
        "id": "sMvamEW5g-MB",
        "outputId": "482c9c5d-08ac-4fc2-b9d5-6564e829c5ea"
      },
      "id": "sMvamEW5g-MB",
      "execution_count": 15,
      "outputs": [
        {
          "output_type": "stream",
          "name": "stdout",
          "text": [
            "['anger' 'disgust' 'fear' 'joy' 'sadness' 'surprise']\n"
          ]
        }
      ]
    },
    {
      "cell_type": "markdown",
      "id": "51563912-e1a5-4196-ba6d-6c9b34de840c",
      "metadata": {
        "id": "51563912-e1a5-4196-ba6d-6c9b34de840c"
      },
      "source": [
        "# 04 Load Pre-Trained Word Vectors (Word2Vec)"
      ]
    },
    {
      "cell_type": "code",
      "execution_count": 16,
      "id": "0d84c2b8-95d5-4649-a929-153d16de7791",
      "metadata": {
        "colab": {
          "base_uri": "https://localhost:8080/"
        },
        "id": "0d84c2b8-95d5-4649-a929-153d16de7791",
        "outputId": "eb0faf66-3cf8-4a93-a7e6-7d15a6f4c564"
      },
      "outputs": [
        {
          "output_type": "stream",
          "name": "stdout",
          "text": [
            "The numbers of words in vocabulary:  156312\n",
            "CPU times: user 354 ms, sys: 55.9 ms, total: 410 ms\n",
            "Wall time: 1.22 s\n"
          ]
        }
      ],
      "source": [
        "%%time\n",
        "WORD_EMBEDDING_PATH = 'model-word-embedding/checkpoint/idtweet-word2vec/idtweet-word2vec-300.wordvectors'\n",
        "\n",
        "word2vec = KeyedVectors.load(WORD_EMBEDDING_PATH,  mmap='r')\n",
        "vocabulary = word2vec.wv.vocab     # gensim 3\n",
        "# vocabulary = word2vec.index_to_key # gensim 4\n",
        "print('The numbers of words in vocabulary: ', len(vocabulary))\n",
        "\n",
        "VOCAB_SIZE = len(vocabulary)\n",
        "EMBEDDING_SIZE = word2vec.vector_size"
      ]
    },
    {
      "cell_type": "code",
      "execution_count": 17,
      "id": "60938380-45dd-4fed-a8f8-5db2f37897db",
      "metadata": {
        "colab": {
          "base_uri": "https://localhost:8080/"
        },
        "id": "60938380-45dd-4fed-a8f8-5db2f37897db",
        "outputId": "6e168c58-2d11-4da9-b225-3338ee5f9f76"
      },
      "outputs": [
        {
          "output_type": "stream",
          "name": "stdout",
          "text": [
            "The numbers of key-value pairs:  156312\n"
          ]
        }
      ],
      "source": [
        "word2vec_dict = {}\n",
        "\n",
        "for word in vocabulary:\n",
        "    word2vec_dict[word] = word2vec.wv.get_vector(word)   # gensim 3\n",
        "    # word2vec_dict[word] = word2vec.get_vector(word)\n",
        "    \n",
        "print('The numbers of key-value pairs: ', len(word2vec_dict)) # should come equal to vocab size"
      ]
    },
    {
      "cell_type": "code",
      "execution_count": 18,
      "id": "197d2a58-5a2d-4cbe-a0c9-834c97e3fb08",
      "metadata": {
        "colab": {
          "base_uri": "https://localhost:8080/"
        },
        "id": "197d2a58-5a2d-4cbe-a0c9-834c97e3fb08",
        "outputId": "4728a3b6-5e09-4c16-d220-610bd17e551a"
      },
      "outputs": [
        {
          "output_type": "stream",
          "name": "stdout",
          "text": [
            "[-0.00196746  0.09941631 -0.15455686  0.3142614   0.41066077 -0.03517361\n",
            "  0.26521245 -0.03657137  0.3173049  -0.18076545 -0.21691021 -0.09863748\n",
            "  0.05417929  0.05028491  0.20421515  0.47201592 -0.07448783 -0.19730976\n",
            "  0.23256293 -0.3501546   0.29862374 -0.08062083  0.1474152   0.16452017\n",
            "  0.08921923 -0.0515116  -0.02296514  0.03125457  0.21018551  0.17645973\n",
            " -0.42446497  0.14217879  0.12172476  0.14507127  0.02638973  0.0277294\n",
            " -0.05690918  0.15437318 -0.11035231 -0.11839799 -0.29085988 -0.01823551\n",
            " -0.17403328 -0.27379602  0.55877054 -0.26623386  0.23594622  0.01485427\n",
            " -0.13379507  0.31024277 -0.09457285 -0.16680506 -0.09147608  0.07846192\n",
            " -0.06219688  0.36456916  0.1809628   0.00432387 -0.1508676  -0.02532905\n",
            "  0.210815   -0.05091454  0.20892504  0.14765981  0.13505444  0.18222973\n",
            " -0.24667571  0.14310431 -0.5898385   0.188767   -0.2937882  -0.16072911\n",
            " -0.02532982  0.18123326  0.09687859 -0.30978984  0.23164721  0.02654802\n",
            " -0.00515777 -0.09863718 -0.28871697 -0.17984474 -0.1791253  -0.13523315\n",
            " -0.02699924 -0.10515414 -0.0774438   0.14253087 -0.06346101 -0.10814686\n",
            "  0.03821967 -0.3415311   0.02059648 -0.21652883  0.20984906 -0.3046252\n",
            "  0.00557893 -0.3383995   0.06727238  0.1390731   0.41802737 -0.3555691\n",
            "  0.26084775  0.13458708 -0.13611145 -0.46991715  0.07691464  0.10068592\n",
            " -0.12844403  0.25859153 -0.07433514 -0.3030529  -0.12796086 -0.15235263\n",
            " -0.10133021  0.10233904  0.0893489  -0.02254504  0.03144475 -0.03962939\n",
            " -0.14959474 -0.00862284  0.15197591  0.09838568 -0.08675906 -0.03342807\n",
            " -0.15047604 -0.22253615  0.0527344   0.15647641 -0.46184102  0.44713342\n",
            " -0.10813344  0.27355984  0.09305717 -0.3164296  -0.28012735 -0.17244847\n",
            " -0.43788457  0.12861612 -0.22931272 -0.06682344  0.213323   -0.17965393\n",
            "  0.10089138 -0.05627592 -0.07990745 -0.14037648 -0.05770059  0.28259474\n",
            " -0.11115965  0.17981423  0.36766574  0.21772973 -0.12249158 -0.0572255\n",
            "  0.18227015  0.0226469  -0.30706945 -0.06614678  0.39244795 -0.15980715\n",
            " -0.5756804   0.14590846  0.22349489  0.15938325  0.02330099 -0.36020988\n",
            " -0.12981063  0.10379656  0.21089065  0.4969174  -0.11853307  0.11194625\n",
            "  0.09772873  0.10007204  0.10776247 -0.17880593 -0.34114397 -0.31294996\n",
            "  0.19621459 -0.10985828  0.01570268  0.0399006   0.03526429  0.08849299\n",
            " -0.00429244 -0.1910251   0.31559506 -0.19463101 -0.11103807  0.00788246\n",
            "  0.05194834  0.13712771  0.04483375 -0.09872919 -0.18121818  0.80398166\n",
            " -0.06988551 -0.248721    0.31101564 -0.02033579  0.16793272 -0.18863072\n",
            "  0.18232144  0.12354255 -0.06997249  0.23781484  0.29375306 -0.08274834\n",
            " -0.19978161 -0.46208367 -0.13172415  0.23014683  0.02951297  0.08093934\n",
            " -0.00512241  0.404629   -0.23778817  0.0041728  -0.4103301   0.12452042\n",
            "  0.12841822  0.42620134  0.02879177  0.60438263  0.09209468 -0.12990178\n",
            "  0.04693441  0.12807503  0.48006672 -0.22024633  0.20719887  0.10627816\n",
            " -0.13176103  0.32831588 -0.08137257  0.20595913  0.09253846  0.22972037\n",
            " -0.1479267   0.22502136 -0.2032065  -0.00145926 -0.33807424  0.39947745\n",
            " -0.07094193 -0.05825693  0.15685937  0.03124512 -0.42333144  0.10611657\n",
            "  0.24448174 -0.34210998  0.3499627  -0.43613598 -0.21510062  0.34473634\n",
            " -0.459489    0.09486131 -0.05199184  0.01918725  0.03373222 -0.45030048\n",
            " -0.1304521  -0.16087233 -0.0536949   0.09745058  0.00920493 -0.04541222\n",
            " -0.5177379   0.08808757 -0.06182846 -0.12986508  0.13809496 -0.43758646\n",
            " -0.1130822   0.02309198 -0.2112952  -0.40423608  0.10618789 -0.0298728\n",
            " -0.01723661  0.16292828 -0.10800014  0.07239259  0.11717251  0.06718413\n",
            " -0.36132556 -0.08936956 -0.2603396   0.01810128 -0.33735657 -0.04027461\n",
            " -0.30895835 -0.4625067  -0.14921342 -0.17995067 -0.13973847  0.10003744]\n",
            "Embedding size:  (300,)\n"
          ]
        }
      ],
      "source": [
        "# Cek vektor embedding dan dimensi dari suatu kata\n",
        "word = 'saya'\n",
        "\n",
        "print(word2vec[word])\n",
        "print('Embedding size: ', word2vec[word].shape)"
      ]
    },
    {
      "cell_type": "markdown",
      "id": "6f99d1fe-fc94-4fdb-a5ca-fbee429e755a",
      "metadata": {
        "id": "6f99d1fe-fc94-4fdb-a5ca-fbee429e755a"
      },
      "source": [
        "# 05 Choosing Maximum Length of the Sequence  "
      ]
    },
    {
      "cell_type": "code",
      "execution_count": 19,
      "id": "25a90ec6-381d-4a00-870f-1d5c99f482a6",
      "metadata": {
        "colab": {
          "base_uri": "https://localhost:8080/",
          "height": 334
        },
        "id": "25a90ec6-381d-4a00-870f-1d5c99f482a6",
        "outputId": "6053ae25-687c-4b8a-8483-0a8043eab31f"
      },
      "outputs": [
        {
          "output_type": "display_data",
          "data": {
            "text/plain": [
              "<Figure size 576x360 with 1 Axes>"
            ],
            "image/png": "[encoded data removed]"
          },
          "metadata": {
            "needs_background": "light"
          }
        }
      ],
      "source": [
        "token_lens = []\n",
        "\n",
        "for text in df['tweet']:\n",
        "    tokens = text.split()\n",
        "    token_lens.append(len(tokens))\n",
        "\n",
        "plt.figure(figsize=(8, 5))\n",
        "sns.histplot(token_lens, kde=True, stat='density', linewidth=0)\n",
        "plt.xlim([0, 100]);\n",
        "plt.xlabel('Token count');"
      ]
    },
    {
      "cell_type": "code",
      "execution_count": 20,
      "id": "8706c818-5743-474d-ab06-8e80796626dd",
      "metadata": {
        "id": "8706c818-5743-474d-ab06-8e80796626dd"
      },
      "outputs": [],
      "source": [
        "MAX_SEQ_LENGTH = 80"
      ]
    },
    {
      "cell_type": "markdown",
      "id": "709501e2-9810-43d1-876e-7a5a90c7baf2",
      "metadata": {
        "id": "709501e2-9810-43d1-876e-7a5a90c7baf2"
      },
      "source": [
        "# 06 Preparing Data for Embedding Layer"
      ]
    },
    {
      "cell_type": "markdown",
      "id": "f286a91d-879d-4794-9751-9f2ba0913fdc",
      "metadata": {
        "id": "f286a91d-879d-4794-9751-9f2ba0913fdc"
      },
      "source": [
        "## Tokenizing Data"
      ]
    },
    {
      "cell_type": "code",
      "execution_count": 21,
      "id": "e53fc8e9-8259-4d61-8df5-637be49b96be",
      "metadata": {
        "colab": {
          "base_uri": "https://localhost:8080/"
        },
        "id": "e53fc8e9-8259-4d61-8df5-637be49b96be",
        "outputId": "9e1c1152-8919-45d3-93eb-2293796ae708"
      },
      "outputs": [
        {
          "output_type": "stream",
          "name": "stdout",
          "text": [
            "8831\n"
          ]
        }
      ],
      "source": [
        "NUM_WORDS = 100       # Frekuensi kemunculan kata. Hanya num_words-1 yang akan disimpan pada dictionary. Berarti kata dengan kemunculan <=num_words tidak digunakan.\n",
        "OOV_TOKEN = '<unk>'   # Token khusus untuk mengganti kata yang tidak terdaftar dalam dictionary.\n",
        "\n",
        "tokenizer = Tokenizer(num_words=NUM_WORDS, oov_token=OOV_TOKEN, lower=True, split=' ')\n",
        "tokenizer.fit_on_texts(df['tweet'])\n",
        "\n",
        "# Tambahkan token padding untuk menyamakan ukuran dimensi embedding layer\n",
        "tokenizer.word_index['<pad>'] = 0\n",
        "tokenizer.index_word[0] = '<pad>'\n",
        "\n",
        "WV_DICTIONARY = tokenizer.word_index\n",
        "\n",
        "WV_DICTIONARY_SIZE = len(WV_DICTIONARY)\n",
        "print(WV_DICTIONARY_SIZE) # Lihat kata unik pada dictionary yang dihasilkan"
      ]
    },
    {
      "cell_type": "markdown",
      "id": "afe05251-9fb7-4a86-94b0-869f4444b2f6",
      "metadata": {
        "id": "afe05251-9fb7-4a86-94b0-869f4444b2f6"
      },
      "source": [
        "## Text To Sequence"
      ]
    },
    {
      "cell_type": "code",
      "execution_count": 22,
      "id": "80f209a0-4faf-44d6-bf92-ed5ec139ea37",
      "metadata": {
        "id": "80f209a0-4faf-44d6-bf92-ed5ec139ea37"
      },
      "outputs": [],
      "source": [
        "# Proses mengubah token menjadi urutan bilangan int berdasarkan dictionary.\n",
        "data_seq = tokenizer.texts_to_sequences(df['tweet'])"
      ]
    },
    {
      "cell_type": "code",
      "execution_count": 23,
      "id": "b2d087a4-35a8-4429-b8b5-2cb18357ca4b",
      "metadata": {
        "colab": {
          "base_uri": "https://localhost:8080/"
        },
        "id": "b2d087a4-35a8-4429-b8b5-2cb18357ca4b",
        "outputId": "90a8f553-aafa-41f8-c00b-ee58fc08ea21"
      },
      "outputs": [
        {
          "output_type": "stream",
          "name": "stdout",
          "text": [
            "apalagi yg jualan spotify premium banyak banget lamalama bikin risih\n",
            "[1, 3, 1, 1, 1, 62, 31, 1, 56, 50]\n"
          ]
        }
      ],
      "source": [
        "print(df['tweet'][10])\n",
        "print(data_seq[10])"
      ]
    },
    {
      "cell_type": "markdown",
      "id": "7182169c-1be1-4f76-aa94-71e93eac77fc",
      "metadata": {
        "id": "7182169c-1be1-4f76-aa94-71e93eac77fc"
      },
      "source": [
        "## Add padding & Truncation"
      ]
    },
    {
      "cell_type": "code",
      "execution_count": 24,
      "id": "a4c16583-8e21-4a66-a07b-0a6b4caef10e",
      "metadata": {
        "id": "a4c16583-8e21-4a66-a07b-0a6b4caef10e"
      },
      "outputs": [],
      "source": [
        "# Proses mengubah data dari sequence menjadi array bentuk 2D Numpy (num_samples, num_timesteps). \n",
        "PADDING = 'post'        # Berikan padding untuk setiap sequences. Terdapat dua pilihan dalam melakukan padding 'pre' or 'post'.\n",
        "TRUNCATING = 'post'     # Menghapus token dari sequences yang lebih besar dari max_lenght. Terdapat dua pilihan dalam melakukan truncanting 'pre' or 'post'.\n",
        "\n",
        "data_pad = pad_sequences(data_seq, maxlen=MAX_SEQ_LENGTH, padding=PADDING, truncating=TRUNCATING)"
      ]
    },
    {
      "cell_type": "code",
      "execution_count": 25,
      "id": "59c1587a-a2eb-48db-92a2-7f8ca3003bfe",
      "metadata": {
        "colab": {
          "base_uri": "https://localhost:8080/"
        },
        "id": "59c1587a-a2eb-48db-92a2-7f8ca3003bfe",
        "outputId": "06a1efe9-62a9-4bbf-8207-e540c35e9761"
      },
      "outputs": [
        {
          "output_type": "stream",
          "name": "stdout",
          "text": [
            "apalagi yg jualan spotify premium banyak banget lamalama bikin risih\n",
            "[1, 3, 1, 1, 1, 62, 31, 1, 56, 50]\n",
            "[ 1  3  1  1  1 62 31  1 56 50  0  0  0  0  0  0  0  0  0  0  0  0  0  0\n",
            "  0  0  0  0  0  0  0  0  0  0  0  0  0  0  0  0  0  0  0  0  0  0  0  0\n",
            "  0  0  0  0  0  0  0  0  0  0  0  0  0  0  0  0  0  0  0  0  0  0  0  0\n",
            "  0  0  0  0  0  0  0  0]\n"
          ]
        }
      ],
      "source": [
        "print(df['tweet'][10])\n",
        "print(data_seq[10])\n",
        "print(data_pad[10])"
      ]
    },
    {
      "cell_type": "code",
      "execution_count": 26,
      "id": "d4ab9d67-1fbc-4031-80dd-ad3df3768b92",
      "metadata": {
        "colab": {
          "base_uri": "https://localhost:8080/"
        },
        "id": "d4ab9d67-1fbc-4031-80dd-ad3df3768b92",
        "outputId": "36467f4e-fc6a-4c76-b0c6-43b1328869d1"
      },
      "outputs": [
        {
          "output_type": "execute_result",
          "data": {
            "text/plain": [
              "(2243, 80)"
            ]
          },
          "metadata": {},
          "execution_count": 26
        }
      ],
      "source": [
        "data_pad.shape"
      ]
    },
    {
      "cell_type": "markdown",
      "id": "d6dad3ff-1bea-488b-a240-e66adaedc29d",
      "metadata": {
        "id": "d6dad3ff-1bea-488b-a240-e66adaedc29d"
      },
      "source": [
        "## Create Embedding Matrix"
      ]
    },
    {
      "cell_type": "code",
      "execution_count": 27,
      "id": "3e4548d2-3d62-4ac6-9660-5640f8c38599",
      "metadata": {
        "id": "3e4548d2-3d62-4ac6-9660-5640f8c38599"
      },
      "outputs": [],
      "source": [
        "EMBEDDING_MATRIX = np.zeros(shape=(WV_DICTIONARY_SIZE, EMBEDDING_SIZE))\n",
        "\n",
        "for word, i in tokenizer.word_index.items():\n",
        "    embed_vector = word2vec_dict.get(word)\n",
        "    if embed_vector is not None:               # Word is in the vocabulary learned by the w2v model\n",
        "        EMBEDDING_MATRIX[i] = embed_vector"
      ]
    },
    {
      "cell_type": "code",
      "execution_count": 28,
      "id": "24bb1134-d5db-4e75-9ca8-8f4c8f73f4e4",
      "metadata": {
        "colab": {
          "base_uri": "https://localhost:8080/"
        },
        "id": "24bb1134-d5db-4e75-9ca8-8f4c8f73f4e4",
        "outputId": "04819d32-c7d8-42d7-e0bf-3ac724f79fd0"
      },
      "outputs": [
        {
          "output_type": "stream",
          "name": "stdout",
          "text": [
            "33\n"
          ]
        }
      ],
      "source": [
        "print(WV_DICTIONARY.get('saya'))"
      ]
    },
    {
      "cell_type": "code",
      "execution_count": 29,
      "id": "bc0d7357-a633-4b3a-a39c-badca10dc53f",
      "metadata": {
        "colab": {
          "base_uri": "https://localhost:8080/"
        },
        "id": "bc0d7357-a633-4b3a-a39c-badca10dc53f",
        "outputId": "8bdca8a1-e992-4573-a409-5c4858cad52c"
      },
      "outputs": [
        {
          "output_type": "stream",
          "name": "stdout",
          "text": [
            "[-0.00196746  0.09941631 -0.15455686  0.31426141  0.41066077 -0.03517361\n",
            "  0.26521245 -0.03657137  0.31730491 -0.18076545 -0.21691021 -0.09863748\n",
            "  0.05417929  0.05028491  0.20421515  0.47201592 -0.07448783 -0.19730976\n",
            "  0.23256293 -0.35015461  0.29862374 -0.08062083  0.14741521  0.16452017\n",
            "  0.08921923 -0.0515116  -0.02296514  0.03125457  0.21018551  0.17645973\n",
            " -0.42446497  0.14217879  0.12172476  0.14507127  0.02638973  0.0277294\n",
            " -0.05690918  0.15437318 -0.11035231 -0.11839799 -0.29085988 -0.01823551\n",
            " -0.17403328 -0.27379602  0.55877054 -0.26623386  0.23594622  0.01485427\n",
            " -0.13379507  0.31024277 -0.09457285 -0.16680506 -0.09147608  0.07846192\n",
            " -0.06219688  0.36456916  0.1809628   0.00432387 -0.1508676  -0.02532905\n",
            "  0.210815   -0.05091454  0.20892504  0.14765981  0.13505444  0.18222973\n",
            " -0.24667571  0.14310431 -0.5898385   0.188767   -0.29378819 -0.16072911\n",
            " -0.02532982  0.18123326  0.09687859 -0.30978984  0.23164721  0.02654802\n",
            " -0.00515777 -0.09863718 -0.28871697 -0.17984474 -0.17912529 -0.13523315\n",
            " -0.02699924 -0.10515414 -0.0774438   0.14253087 -0.06346101 -0.10814686\n",
            "  0.03821967 -0.3415311   0.02059648 -0.21652883  0.20984906 -0.30462521\n",
            "  0.00557893 -0.3383995   0.06727238  0.1390731   0.41802737 -0.35556909\n",
            "  0.26084775  0.13458708 -0.13611145 -0.46991715  0.07691464  0.10068592\n",
            " -0.12844403  0.25859153 -0.07433514 -0.3030529  -0.12796086 -0.15235263\n",
            " -0.10133021  0.10233904  0.0893489  -0.02254504  0.03144475 -0.03962939\n",
            " -0.14959474 -0.00862284  0.15197591  0.09838568 -0.08675906 -0.03342807\n",
            " -0.15047604 -0.22253615  0.0527344   0.15647641 -0.46184102  0.44713342\n",
            " -0.10813344  0.27355984  0.09305717 -0.31642959 -0.28012735 -0.17244847\n",
            " -0.43788457  0.12861612 -0.22931272 -0.06682344  0.213323   -0.17965393\n",
            "  0.10089138 -0.05627592 -0.07990745 -0.14037648 -0.05770059  0.28259474\n",
            " -0.11115965  0.17981423  0.36766574  0.21772973 -0.12249158 -0.0572255\n",
            "  0.18227015  0.0226469  -0.30706945 -0.06614678  0.39244795 -0.15980715\n",
            " -0.57568038  0.14590846  0.22349489  0.15938325  0.02330099 -0.36020988\n",
            " -0.12981063  0.10379656  0.21089065  0.4969174  -0.11853307  0.11194625\n",
            "  0.09772873  0.10007204  0.10776247 -0.17880593 -0.34114397 -0.31294996\n",
            "  0.19621459 -0.10985828  0.01570268  0.0399006   0.03526429  0.08849299\n",
            " -0.00429244 -0.19102509  0.31559506 -0.19463101 -0.11103807  0.00788246\n",
            "  0.05194834  0.13712771  0.04483375 -0.09872919 -0.18121818  0.80398166\n",
            " -0.06988551 -0.248721    0.31101564 -0.02033579  0.16793272 -0.18863072\n",
            "  0.18232144  0.12354255 -0.06997249  0.23781484  0.29375306 -0.08274834\n",
            " -0.19978161 -0.46208367 -0.13172415  0.23014683  0.02951297  0.08093934\n",
            " -0.00512241  0.40462899 -0.23778817  0.0041728  -0.41033009  0.12452042\n",
            "  0.12841822  0.42620134  0.02879177  0.60438263  0.09209468 -0.12990178\n",
            "  0.04693441  0.12807503  0.48006672 -0.22024633  0.20719887  0.10627816\n",
            " -0.13176103  0.32831588 -0.08137257  0.20595913  0.09253846  0.22972037\n",
            " -0.1479267   0.22502136 -0.20320649 -0.00145926 -0.33807424  0.39947745\n",
            " -0.07094193 -0.05825693  0.15685937  0.03124512 -0.42333144  0.10611657\n",
            "  0.24448174 -0.34210998  0.34996271 -0.43613598 -0.21510062  0.34473634\n",
            " -0.45948899  0.09486131 -0.05199184  0.01918725  0.03373222 -0.45030048\n",
            " -0.1304521  -0.16087233 -0.0536949   0.09745058  0.00920493 -0.04541222\n",
            " -0.51773793  0.08808757 -0.06182846 -0.12986508  0.13809496 -0.43758646\n",
            " -0.1130822   0.02309198 -0.2112952  -0.40423608  0.10618789 -0.0298728\n",
            " -0.01723661  0.16292828 -0.10800014  0.07239259  0.11717251  0.06718413\n",
            " -0.36132556 -0.08936956 -0.26033959  0.01810128 -0.33735657 -0.04027461\n",
            " -0.30895835 -0.46250671 -0.14921342 -0.17995067 -0.13973847  0.10003744]\n"
          ]
        }
      ],
      "source": [
        "print(EMBEDDING_MATRIX[33])"
      ]
    },
    {
      "cell_type": "code",
      "source": [
        "EMBEDDING_MATRIX.shape"
      ],
      "metadata": {
        "colab": {
          "base_uri": "https://localhost:8080/"
        },
        "id": "7BTbLj8F5yyL",
        "outputId": "e57a9061-364a-4066-981d-5e83ea9ccdc3"
      },
      "id": "7BTbLj8F5yyL",
      "execution_count": 30,
      "outputs": [
        {
          "output_type": "execute_result",
          "data": {
            "text/plain": [
              "(8831, 300)"
            ]
          },
          "metadata": {},
          "execution_count": 30
        }
      ]
    },
    {
      "cell_type": "markdown",
      "id": "b64e75c2-f657-4e8d-998b-84ddebe4317a",
      "metadata": {
        "id": "b64e75c2-f657-4e8d-998b-84ddebe4317a"
      },
      "source": [
        "# 07 Train & Test Data Splitting"
      ]
    },
    {
      "cell_type": "code",
      "execution_count": 31,
      "id": "24fc5d77-1f3d-40cd-8384-f2e22fbe4858",
      "metadata": {
        "id": "24fc5d77-1f3d-40cd-8384-f2e22fbe4858"
      },
      "outputs": [],
      "source": [
        "NUM_CLASS = len(df['label_encode'].unique())\n",
        "\n",
        "Y = to_categorical(df['label_encode'], num_classes=NUM_CLASS)  # Lakukan one-hot encoding pada label (y)"
      ]
    },
    {
      "cell_type": "code",
      "execution_count": 32,
      "id": "0761adda-6df1-466b-ad04-c1c43459ff21",
      "metadata": {
        "colab": {
          "base_uri": "https://localhost:8080/"
        },
        "id": "0761adda-6df1-466b-ad04-c1c43459ff21",
        "outputId": "5574bf76-2d57-4d76-b9d1-876d3b6fcbc5"
      },
      "outputs": [
        {
          "output_type": "execute_result",
          "data": {
            "text/plain": [
              "((1794, 80), (449, 80), (1794, 6), (449, 6))"
            ]
          },
          "metadata": {},
          "execution_count": 32
        }
      ],
      "source": [
        "X_train, X_test, y_train, y_test = train_test_split(data_pad, Y, test_size=0.20, stratify=Y, random_state=SEED)\n",
        "X_train.shape, X_test.shape, y_train.shape, y_test.shape"
      ]
    },
    {
      "cell_type": "markdown",
      "id": "af13d223-d8c9-43ac-9c2d-8352f980f022",
      "metadata": {
        "id": "af13d223-d8c9-43ac-9c2d-8352f980f022"
      },
      "source": [
        "# 08 Define Model (Bidirectional GRU)"
      ]
    },
    {
      "cell_type": "markdown",
      "source": [
        "## Architecture"
      ],
      "metadata": {
        "id": "HL4PZ8cdQb1P"
      },
      "id": "HL4PZ8cdQb1P"
    },
    {
      "cell_type": "code",
      "execution_count": 33,
      "id": "aff3f131-58dc-4207-b051-e9b2f67b8f38",
      "metadata": {
        "id": "aff3f131-58dc-4207-b051-e9b2f67b8f38"
      },
      "outputs": [],
      "source": [
        "# https://www.tensorflow.org/api_docs/python/tf/keras/layers/Bidirectional\n",
        "# https://www.tensorflow.org/api_docs/python/tf/keras/layers/GRU\n",
        "\n",
        "UNITS = 64\n",
        "\n",
        "tf.keras.backend.clear_session()\n",
        "\n",
        "model = Sequential()\n",
        "model.add(Embedding(\n",
        "    input_dim = WV_DICTIONARY_SIZE,                                \n",
        "    output_dim = EMBEDDING_SIZE,                           \n",
        "    input_length = MAX_SEQ_LENGTH,  \n",
        "    trainable = False,\n",
        "    embeddings_initializer=Constant(EMBEDDING_MATRIX)))\n",
        "model.add(Bidirectional(GRU(UNITS*2, dropout=0.5, return_sequences=False)))\n",
        "model.add(Dense(UNITS, activation='relu'))\n",
        "model.add(Dropout(0.5))\n",
        "model.add(Dense(NUM_CLASS, activation='softmax'))"
      ]
    },
    {
      "cell_type": "code",
      "execution_count": 34,
      "id": "512cae56-10ae-4c03-8aee-2706eb27632f",
      "metadata": {
        "colab": {
          "base_uri": "https://localhost:8080/"
        },
        "id": "512cae56-10ae-4c03-8aee-2706eb27632f",
        "outputId": "78c61afb-bc95-441d-961b-a069803d66b6"
      },
      "outputs": [
        {
          "output_type": "stream",
          "name": "stdout",
          "text": [
            "Model: \"sequential\"\n",
            "_________________________________________________________________\n",
            " Layer (type)                Output Shape              Param #   \n",
            "=================================================================\n",
            " embedding (Embedding)       (None, 80, 300)           2649300   \n",
            "                                                                 \n",
            " bidirectional (Bidirectiona  (None, 256)              330240    \n",
            " l)                                                              \n",
            "                                                                 \n",
            " dense (Dense)               (None, 64)                16448     \n",
            "                                                                 \n",
            " dropout (Dropout)           (None, 64)                0         \n",
            "                                                                 \n",
            " dense_1 (Dense)             (None, 6)                 390       \n",
            "                                                                 \n",
            "=================================================================\n",
            "Total params: 2,996,378\n",
            "Trainable params: 347,078\n",
            "Non-trainable params: 2,649,300\n",
            "_________________________________________________________________\n"
          ]
        }
      ],
      "source": [
        "model.summary()"
      ]
    },
    {
      "cell_type": "code",
      "source": [
        "plot_model(model, show_shapes=True, show_layer_activations=True, show_dtype=False, dpi=90, to_file=f'{FOLDER_PATH}/model-plot/{MODEL}-model.png')"
      ],
      "metadata": {
        "colab": {
          "base_uri": "https://localhost:8080/",
          "height": 605
        },
        "id": "nkvBqETlErwO",
        "outputId": "7241f804-21b4-4d14-f215-7a5c1ae44a62"
      },
      "id": "nkvBqETlErwO",
      "execution_count": 35,
      "outputs": [
        {
          "output_type": "execute_result",
          "data": {
            "text/plain": [
              "<IPython.core.display.Image object>"
            ],
            "image/png": "[encoded data removed]"
          },
          "metadata": {},
          "execution_count": 35
        }
      ]
    },
    {
      "cell_type": "markdown",
      "source": [
        "## Compile"
      ],
      "metadata": {
        "id": "wgQN-l4rQgRq"
      },
      "id": "wgQN-l4rQgRq"
    },
    {
      "cell_type": "code",
      "source": [
        "# https://www.tensorflow.org/api_docs/python/tf/keras/metrics\n",
        "\n",
        "METRICS = [\n",
        "           tf.keras.metrics.CategoricalAccuracy(name='accuracy'),\n",
        "           tf.keras.metrics.Precision(name='precision'),\n",
        "           tf.keras.metrics.Recall(name='recall'),\n",
        "]\n",
        "\n",
        "LEARNING_RATE = 0.001"
      ],
      "metadata": {
        "id": "MkvqE_Ud7frq"
      },
      "id": "MkvqE_Ud7frq",
      "execution_count": 36,
      "outputs": []
    },
    {
      "cell_type": "code",
      "execution_count": 37,
      "id": "3fd3ef04-ea26-4988-a4fb-0cd63be04a11",
      "metadata": {
        "id": "3fd3ef04-ea26-4988-a4fb-0cd63be04a11"
      },
      "outputs": [],
      "source": [
        "OPTIMIZER = Adam(learning_rate=LEARNING_RATE)\n",
        "LOSS_FUNCTION = CategoricalCrossentropy(name='categorical_crossentropy')\n",
        "\n",
        "model.compile(loss=LOSS_FUNCTION, optimizer=OPTIMIZER, metrics=METRICS)"
      ]
    },
    {
      "cell_type": "markdown",
      "id": "ac8708d7-5d3f-49b6-b28a-5a4969e160f1",
      "metadata": {
        "id": "ac8708d7-5d3f-49b6-b28a-5a4969e160f1"
      },
      "source": [
        "# 09 Early Stopping & Model Checkpoint"
      ]
    },
    {
      "cell_type": "code",
      "execution_count": 38,
      "id": "14a556fb-a4fa-46c2-85b2-f1d7731ac148",
      "metadata": {
        "id": "14a556fb-a4fa-46c2-85b2-f1d7731ac148"
      },
      "outputs": [],
      "source": [
        "# Early stopping criteria\n",
        "early_stopping = EarlyStopping(monitor='val_loss', mode='auto', verbose=1, patience=5)\n",
        "\n",
        "# Path to model checkpoint\n",
        "checkpoint_dir = f'{FOLDER_PATH}/model-checkpoint/{MODEL}/cp.ckpt'\n",
        "model_checkpoint = ModelCheckpoint(checkpoint_dir, monitor='val_accuracy', save_weights_only=True, verbose=1, save_freq='epoch', save_best_only=True)"
      ]
    },
    {
      "cell_type": "code",
      "source": [
        "# Path to model log\n",
        "log_dir = f'{FOLDER_PATH}/model-log/{MODEL}/' + datetime.datetime.now().strftime('%Y%m%d-%H%M%S')\n",
        "print(log_dir)"
      ],
      "metadata": {
        "colab": {
          "base_uri": "https://localhost:8080/"
        },
        "id": "SfBzZKiLA7k5",
        "outputId": "527bc996-052c-4830-8ba8-a545272d5372"
      },
      "id": "SfBzZKiLA7k5",
      "execution_count": 39,
      "outputs": [
        {
          "output_type": "stream",
          "name": "stdout",
          "text": [
            "model-baseline-bilstm/model-log/id-tweet-word2vec-bigru/20220715-175227\n"
          ]
        }
      ]
    },
    {
      "cell_type": "code",
      "execution_count": 40,
      "id": "4000c916-de1c-4eb8-86c4-9118bb24888e",
      "metadata": {
        "id": "4000c916-de1c-4eb8-86c4-9118bb24888e"
      },
      "outputs": [],
      "source": [
        "tensorboard_callback = TensorBoard(log_dir=log_dir ,update_freq='epoch', histogram_freq=1, embeddings_freq=1)"
      ]
    },
    {
      "cell_type": "markdown",
      "id": "345bb69d-1998-4891-ae17-47932870a21d",
      "metadata": {
        "id": "345bb69d-1998-4891-ae17-47932870a21d"
      },
      "source": [
        "# 10 Training"
      ]
    },
    {
      "cell_type": "code",
      "execution_count": 41,
      "id": "bdd7ff34-3e39-4c62-a25d-af2b1e1e35e7",
      "metadata": {
        "id": "bdd7ff34-3e39-4c62-a25d-af2b1e1e35e7"
      },
      "outputs": [],
      "source": [
        "EPOCHS = 10\n",
        "BATCH_SIZE = 16\n",
        "\n",
        "# Config for wandb\n",
        "config = {\n",
        "    'type': 'baseline',\n",
        "    'architecture': 'BiGRU',\n",
        "    'word_embedding': 'Word2Vec-ID-tweet-300',\n",
        "    'dataset': 'indo-tweet-emotion',\n",
        "    'learning_rate': LEARNING_RATE,\n",
        "    'batch_size': BATCH_SIZE,\n",
        "    'epochs': EPOCHS,\n",
        "    'loss_function': LOSS_FUNCTION.name,\n",
        "    'optimizer': OPTIMIZER._name\n",
        "}"
      ]
    },
    {
      "cell_type": "code",
      "execution_count": 42,
      "id": "50c487c3-da7b-4161-8e63-f8edc3ee6a44",
      "metadata": {
        "tags": [],
        "colab": {
          "base_uri": "https://localhost:8080/",
          "height": 1000,
          "referenced_widgets": [
            "fff906d6a2dc42f48feb81c8399f1019",
            "050b9faa23274766a14bd1f16df4c593",
            "1d389ab524fe41ae93be9e5d094dd0d7",
            "d3da92fd10904d3b8911e24e51a8444c",
            "fd35ab57c97d474b94841ee6e5d4e400",
            "b411775c40e240dfb52a808551cb2f6b",
            "ac1579f9de63432ca4636e1309e4eec0",
            "072027e3ca714cb09c7bea71f58ffa7d"
          ]
        },
        "id": "50c487c3-da7b-4161-8e63-f8edc3ee6a44",
        "outputId": "7be48639-1064-464a-ade1-b723c2e622e5"
      },
      "outputs": [
        {
          "output_type": "stream",
          "name": "stderr",
          "text": [
            "\u001b[34m\u001b[1mwandb\u001b[0m: Currently logged in as: \u001b[33mindoemobert\u001b[0m. Use \u001b[1m`wandb login --relogin`\u001b[0m to force relogin\n"
          ]
        },
        {
          "output_type": "display_data",
          "data": {
            "text/plain": [
              "<IPython.core.display.HTML object>"
            ],
            "text/html": [
              "Tracking run with wandb version 0.12.21"
            ]
          },
          "metadata": {}
        },
        {
          "output_type": "display_data",
          "data": {
            "text/plain": [
              "<IPython.core.display.HTML object>"
            ],
            "text/html": [
              "Run data is saved locally in <code>/content/drive/MyDrive/Code/tesis/wandb/run-20220715_175230-sysi2rpc</code>"
            ]
          },
          "metadata": {}
        },
        {
          "output_type": "display_data",
          "data": {
            "text/plain": [
              "<IPython.core.display.HTML object>"
            ],
            "text/html": [
              "Syncing run <strong><a href=\"https://wandb.ai/indoemobert/baseline-bilstm/runs/sysi2rpc\" target=\"_blank\">id-tweet-word2vec-bigru</a></strong> to <a href=\"https://wandb.ai/indoemobert/baseline-bilstm\" target=\"_blank\">Weights & Biases</a> (<a href=\"https://wandb.me/run\" target=\"_blank\">docs</a>)<br/>"
            ]
          },
          "metadata": {}
        },
        {
          "output_type": "stream",
          "name": "stdout",
          "text": [
            "WARNING:tensorflow:From /usr/local/lib/python3.7/dist-packages/tensorflow/python/profiler/internal/flops_registry.py:138: tensor_shape_from_node_def_name (from tensorflow.python.framework.graph_util_impl) is deprecated and will be removed in a future version.\n",
            "Instructions for updating:\n",
            "Use `tf.compat.v1.graph_util.tensor_shape_from_node_def_name`\n",
            "Epoch 1/10\n",
            "  4/113 [>.............................] - ETA: 1s - loss: 1.8161 - accuracy: 0.1094 - precision: 0.0000e+00 - recall: 0.0000e+00   WARNING:tensorflow:Callback method `on_train_batch_end` is slow compared to the batch time (batch time: 0.0127s vs `on_train_batch_end` time: 0.0208s). Check your callbacks.\n",
            "113/113 [==============================] - ETA: 0s - loss: 1.6291 - accuracy: 0.3250 - precision: 0.8476 - recall: 0.0496\n",
            "Epoch 1: val_accuracy improved from -inf to 0.58352, saving model to model-baseline-bilstm/model-checkpoint/id-tweet-word2vec-bigru/cp.ckpt\n",
            "113/113 [==============================] - 16s 69ms/step - loss: 1.6291 - accuracy: 0.3250 - precision: 0.8476 - recall: 0.0496 - val_loss: 1.2013 - val_accuracy: 0.5835 - val_precision: 0.9310 - val_recall: 0.2405 - _timestamp: 1657907572.0000 - _runtime: 22.0000\n",
            "Epoch 2/10\n",
            "113/113 [==============================] - ETA: 0s - loss: 1.1308 - accuracy: 0.5987 - precision: 0.8237 - recall: 0.3802\n",
            "Epoch 2: val_accuracy improved from 0.58352 to 0.75947, saving model to model-baseline-bilstm/model-checkpoint/id-tweet-word2vec-bigru/cp.ckpt\n",
            "113/113 [==============================] - 3s 29ms/step - loss: 1.1308 - accuracy: 0.5987 - precision: 0.8237 - recall: 0.3802 - val_loss: 0.7798 - val_accuracy: 0.7595 - val_precision: 0.8613 - val_recall: 0.5947 - _timestamp: 1657907575.0000 - _runtime: 25.0000\n",
            "Epoch 3/10\n",
            "111/113 [============================>.] - ETA: 0s - loss: 0.8088 - accuracy: 0.7399 - precision: 0.8238 - recall: 0.6318\n",
            "Epoch 3: val_accuracy improved from 0.75947 to 0.83742, saving model to model-baseline-bilstm/model-checkpoint/id-tweet-word2vec-bigru/cp.ckpt\n",
            "113/113 [==============================] - 3s 27ms/step - loss: 0.8128 - accuracy: 0.7386 - precision: 0.8219 - recall: 0.6304 - val_loss: 0.5939 - val_accuracy: 0.8374 - val_precision: 0.8775 - val_recall: 0.7817 - _timestamp: 1657907578.0000 - _runtime: 28.0000\n",
            "Epoch 4/10\n",
            "111/113 [============================>.] - ETA: 0s - loss: 0.7261 - accuracy: 0.7815 - precision: 0.8416 - recall: 0.6943\n",
            "Epoch 4: val_accuracy did not improve from 0.83742\n",
            "113/113 [==============================] - 3s 26ms/step - loss: 0.7262 - accuracy: 0.7815 - precision: 0.8408 - recall: 0.6945 - val_loss: 0.5720 - val_accuracy: 0.8307 - val_precision: 0.8662 - val_recall: 0.7929 - _timestamp: 1657907581.0000 - _runtime: 31.0000\n",
            "Epoch 5/10\n",
            "110/113 [============================>.] - ETA: 0s - loss: 0.6614 - accuracy: 0.8000 - precision: 0.8533 - recall: 0.7437\n",
            "Epoch 5: val_accuracy did not improve from 0.83742\n",
            "113/113 [==============================] - 3s 26ms/step - loss: 0.6609 - accuracy: 0.7993 - precision: 0.8523 - recall: 0.7430 - val_loss: 0.5609 - val_accuracy: 0.8352 - val_precision: 0.8805 - val_recall: 0.8040 - _timestamp: 1657907584.0000 - _runtime: 34.0000\n",
            "Epoch 6/10\n",
            "111/113 [============================>.] - ETA: 0s - loss: 0.6204 - accuracy: 0.8131 - precision: 0.8638 - recall: 0.7573\n",
            "Epoch 6: val_accuracy did not improve from 0.83742\n",
            "113/113 [==============================] - 3s 26ms/step - loss: 0.6217 - accuracy: 0.8127 - precision: 0.8629 - recall: 0.7575 - val_loss: 0.5575 - val_accuracy: 0.8374 - val_precision: 0.8622 - val_recall: 0.8085 - _timestamp: 1657907587.0000 - _runtime: 37.0000\n",
            "Epoch 7/10\n",
            "111/113 [============================>.] - ETA: 0s - loss: 0.6117 - accuracy: 0.8080 - precision: 0.8632 - recall: 0.7641\n",
            "Epoch 7: val_accuracy did not improve from 0.83742\n",
            "113/113 [==============================] - 3s 26ms/step - loss: 0.6100 - accuracy: 0.8082 - precision: 0.8640 - recall: 0.7648 - val_loss: 0.5903 - val_accuracy: 0.8352 - val_precision: 0.8759 - val_recall: 0.8018 - _timestamp: 1657907590.0000 - _runtime: 40.0000\n",
            "Epoch 8/10\n",
            "113/113 [==============================] - ETA: 0s - loss: 0.5946 - accuracy: 0.8105 - precision: 0.8564 - recall: 0.7581\n",
            "Epoch 8: val_accuracy did not improve from 0.83742\n",
            "113/113 [==============================] - 3s 26ms/step - loss: 0.5946 - accuracy: 0.8105 - precision: 0.8564 - recall: 0.7581 - val_loss: 0.5585 - val_accuracy: 0.8352 - val_precision: 0.8729 - val_recall: 0.8107 - _timestamp: 1657907593.0000 - _runtime: 43.0000\n",
            "Epoch 9/10\n",
            "111/113 [============================>.] - ETA: 0s - loss: 0.5854 - accuracy: 0.8198 - precision: 0.8707 - recall: 0.7736\n",
            "Epoch 9: val_accuracy improved from 0.83742 to 0.85078, saving model to model-baseline-bilstm/model-checkpoint/id-tweet-word2vec-bigru/cp.ckpt\n",
            "113/113 [==============================] - 3s 27ms/step - loss: 0.5861 - accuracy: 0.8194 - precision: 0.8702 - recall: 0.7737 - val_loss: 0.5570 - val_accuracy: 0.8508 - val_precision: 0.8689 - val_recall: 0.8263 - _timestamp: 1657907596.0000 - _runtime: 46.0000\n",
            "Epoch 10/10\n",
            "113/113 [==============================] - ETA: 0s - loss: 0.5867 - accuracy: 0.8138 - precision: 0.8601 - recall: 0.7642\n",
            "Epoch 10: val_accuracy did not improve from 0.85078\n",
            "113/113 [==============================] - 3s 26ms/step - loss: 0.5867 - accuracy: 0.8138 - precision: 0.8601 - recall: 0.7642 - val_loss: 0.5597 - val_accuracy: 0.8486 - val_precision: 0.8814 - val_recall: 0.8107 - _timestamp: 1657907599.0000 - _runtime: 49.0000\n"
          ]
        },
        {
          "output_type": "display_data",
          "data": {
            "text/plain": [
              "<IPython.core.display.HTML object>"
            ],
            "text/html": [
              "Waiting for W&B process to finish... <strong style=\"color:green\">(success).</strong>"
            ]
          },
          "metadata": {}
        },
        {
          "output_type": "display_data",
          "data": {
            "text/plain": [
              "VBox(children=(Label(value='0.001 MB of 0.001 MB uploaded (0.000 MB deduped)\\r'), FloatProgress(value=1.0, max…"
            ],
            "application/vnd.jupyter.widget-view+json": {
              "version_major": 2,
              "version_minor": 0,
              "model_id": "fff906d6a2dc42f48feb81c8399f1019"
            }
          },
          "metadata": {}
        },
        {
          "output_type": "display_data",
          "data": {
            "text/plain": [
              "<IPython.core.display.HTML object>"
            ],
            "text/html": [
              "<style>\n",
              "    table.wandb td:nth-child(1) { padding: 0 10px; text-align: left ; width: auto;} td:nth-child(2) {text-align: left ; width: 100%}\n",
              "    .wandb-row { display: flex; flex-direction: row; flex-wrap: wrap; justify-content: flex-start; width: 100% }\n",
              "    .wandb-col { display: flex; flex-direction: column; flex-basis: 100%; flex: 1; padding: 10px; }\n",
              "    </style>\n",
              "<div class=\"wandb-row\"><div class=\"wandb-col\"><h3>Run history:</h3><br/><table class=\"wandb\"><tr><td>accuracy</td><td>▁▅▇▇██████</td></tr><tr><td>epoch</td><td>▁▂▃▃▄▅▆▆▇█</td></tr><tr><td>loss</td><td>█▅▃▂▂▁▁▁▁▁</td></tr><tr><td>precision</td><td>▅▁▁▄▅▇▇▆█▇</td></tr><tr><td>recall</td><td>▁▄▇▇██████</td></tr><tr><td>val_accuracy</td><td>▁▆█▇██████</td></tr><tr><td>val_loss</td><td>█▃▁▁▁▁▁▁▁▁</td></tr><tr><td>val_precision</td><td>█▁▃▁▃▁▂▂▂▃</td></tr><tr><td>val_recall</td><td>▁▅▇███████</td></tr></table><br/></div><div class=\"wandb-col\"><h3>Run summary:</h3><br/><table class=\"wandb\"><tr><td>GFLOPS</td><td>4e-05</td></tr><tr><td>accuracy</td><td>0.81382</td></tr><tr><td>best_epoch</td><td>8</td></tr><tr><td>best_val_loss</td><td>0.55698</td></tr><tr><td>epoch</td><td>9</td></tr><tr><td>loss</td><td>0.58669</td></tr><tr><td>precision</td><td>0.8601</td></tr><tr><td>recall</td><td>0.76421</td></tr><tr><td>val_accuracy</td><td>0.84855</td></tr><tr><td>val_loss</td><td>0.55967</td></tr><tr><td>val_precision</td><td>0.88136</td></tr><tr><td>val_recall</td><td>0.81069</td></tr></table><br/></div></div>"
            ]
          },
          "metadata": {}
        },
        {
          "output_type": "display_data",
          "data": {
            "text/plain": [
              "<IPython.core.display.HTML object>"
            ],
            "text/html": [
              "Synced <strong style=\"color:#cdcd00\">id-tweet-word2vec-bigru</strong>: <a href=\"https://wandb.ai/indoemobert/baseline-bilstm/runs/sysi2rpc\" target=\"_blank\">https://wandb.ai/indoemobert/baseline-bilstm/runs/sysi2rpc</a><br/>Synced 5 W&B file(s), 1 media file(s), 0 artifact file(s) and 0 other file(s)"
            ]
          },
          "metadata": {}
        },
        {
          "output_type": "display_data",
          "data": {
            "text/plain": [
              "<IPython.core.display.HTML object>"
            ],
            "text/html": [
              "Find logs at: <code>./wandb/run-20220715_175230-sysi2rpc/logs</code>"
            ]
          },
          "metadata": {}
        },
        {
          "output_type": "stream",
          "name": "stdout",
          "text": [
            "CPU times: user 53.6 s, sys: 5.79 s, total: 59.4 s\n",
            "Wall time: 1min 1s\n"
          ]
        }
      ],
      "source": [
        "%%time\n",
        "\n",
        "# Initialize wandb \n",
        "wandb.tensorboard.patch(root_logdir=log_dir)\n",
        "wandb_run = wandb.init(project='baseline-bilstm', name=f'{MODEL}', entity='indoemobert', config=config, sync_tensorboard=True)\n",
        "\n",
        "# Training\n",
        "model_history = model.fit(\n",
        "    X_train, \n",
        "    y_train, \n",
        "    epochs=EPOCHS,\n",
        "    batch_size=BATCH_SIZE, \n",
        "    validation_data=(X_test, y_test), \n",
        "    verbose=1, \n",
        "    steps_per_epoch=int(np.ceil(X_train.shape[0] / BATCH_SIZE)),\n",
        "    callbacks=[\n",
        "        # early_stopping, \n",
        "        model_checkpoint,\n",
        "        tensorboard_callback,\n",
        "        WandbCallback(\n",
        "            input_type='text',\n",
        "            training_data=(X_train, y_train),\n",
        "            validation_data=(X_test, y_test),\n",
        "            labels=LABEL_NAME,\n",
        "            monitor='val_loss',\n",
        "            log_best_prefix='best_',\n",
        "            log_gradients=True,\n",
        "            log_weights=True,\n",
        "            save_weights_only=True,\n",
        "            save_model=False\n",
        "        )]\n",
        ")\n",
        "\n",
        "wandb_run.finish()"
      ]
    },
    {
      "cell_type": "code",
      "execution_count": 43,
      "id": "6d6cee9e-aa4d-4173-8379-ad699aae24ba",
      "metadata": {
        "id": "6d6cee9e-aa4d-4173-8379-ad699aae24ba"
      },
      "outputs": [],
      "source": [
        "def plot_metrics(history):\n",
        "  metrics = ['loss', 'accuracy', 'precision', 'recall']\n",
        "  plt.figure(figsize=(12, 10))\n",
        "  for n, metric in enumerate(metrics):\n",
        "    name = metric.replace('_',' ').capitalize()\n",
        "    plt.subplot(2,2,n+1)\n",
        "    plt.plot(history.epoch, history.history[metric], color=colors[0], label='Train')\n",
        "    plt.plot(history.epoch, history.history['val_'+metric], color=colors[0], linestyle='--', label='Validation')\n",
        "    plt.xlabel('Epoch')\n",
        "    plt.ylabel(name)\n",
        "\n",
        "    if metric == 'loss':\n",
        "      plt.ylim([0, plt.ylim()[1]])\n",
        "    else:\n",
        "      plt.ylim([0,1])\n",
        "\n",
        "    plt.legend(loc='lower right');"
      ]
    },
    {
      "cell_type": "code",
      "execution_count": 44,
      "id": "2ba75740-9a75-4722-aee2-70b220527fee",
      "metadata": {
        "colab": {
          "base_uri": "https://localhost:8080/",
          "height": 610
        },
        "id": "2ba75740-9a75-4722-aee2-70b220527fee",
        "outputId": "13d24c24-d86d-46f2-e873-9cabdbfc332d"
      },
      "outputs": [
        {
          "output_type": "display_data",
          "data": {
            "text/plain": [
              "<Figure size 864x720 with 4 Axes>"
            ],
            "image/png": "[encoded data removed]"
          },
          "metadata": {
            "needs_background": "light"
          }
        }
      ],
      "source": [
        "plot_metrics(model_history)"
      ]
    },
    {
      "cell_type": "code",
      "source": [
        "hist_df = pd.DataFrame(model_history.history)\n",
        "print(hist_df)\n",
        "\n",
        "hist_df.to_csv(f'{FOLDER_PATH}/model-history/{MODEL}-{TODAY}.csv')"
      ],
      "metadata": {
        "colab": {
          "base_uri": "https://localhost:8080/"
        },
        "id": "ilmk1XTu9Xt7",
        "outputId": "46c974f8-0be7-4f15-9c48-725d65ac5777"
      },
      "id": "ilmk1XTu9Xt7",
      "execution_count": 45,
      "outputs": [
        {
          "output_type": "stream",
          "name": "stdout",
          "text": [
            "       loss  accuracy  precision    recall  val_loss  val_accuracy  \\\n",
            "0  1.629077  0.324972   0.847619  0.049610  1.201259      0.583519   \n",
            "1  1.130838  0.598662   0.823672  0.380156  0.779817      0.759465   \n",
            "2  0.812782  0.738573   0.821948  0.630435  0.593890      0.837416   \n",
            "3  0.726155  0.781494   0.840756  0.694537  0.571990      0.830735   \n",
            "4  0.660911  0.799331   0.852302  0.743032  0.560895      0.835189   \n",
            "5  0.621687  0.812709   0.862857  0.757525  0.557489      0.837416   \n",
            "6  0.610001  0.808250   0.863980  0.764771  0.590269      0.835189   \n",
            "7  0.594590  0.810479   0.856423  0.758083  0.558497      0.835189   \n",
            "8  0.586062  0.819398   0.870219  0.773690  0.556980      0.850780   \n",
            "9  0.586685  0.813824   0.860100  0.764214  0.559674      0.848552   \n",
            "\n",
            "   val_precision  val_recall  _timestamp  _runtime  \n",
            "0       0.931035    0.240535  1657907572        22  \n",
            "1       0.861290    0.594655  1657907575        25  \n",
            "2       0.877500    0.781737  1657907578        28  \n",
            "3       0.866180    0.792873  1657907581        31  \n",
            "4       0.880488    0.804009  1657907584        34  \n",
            "5       0.862233    0.808463  1657907587        37  \n",
            "6       0.875912    0.801782  1657907590        40  \n",
            "7       0.872902    0.810690  1657907593        43  \n",
            "8       0.868852    0.826281  1657907596        46  \n",
            "9       0.881356    0.810690  1657907599        49  \n"
          ]
        }
      ]
    },
    {
      "cell_type": "code",
      "execution_count": 46,
      "id": "88a1e276-1197-4331-b387-db867bb8a6f2",
      "metadata": {
        "id": "88a1e276-1197-4331-b387-db867bb8a6f2"
      },
      "outputs": [],
      "source": [
        "# save model\n",
        "model.save(f'{FOLDER_PATH}/model-fit/{MODEL}/{MODEL}.h5')"
      ]
    },
    {
      "cell_type": "markdown",
      "id": "f47228a0-2b5c-4ccd-8374-f6606913add2",
      "metadata": {
        "id": "f47228a0-2b5c-4ccd-8374-f6606913add2"
      },
      "source": [
        "# 11 Evaluation"
      ]
    },
    {
      "cell_type": "code",
      "execution_count": 47,
      "id": "4b70a8d2-ac47-47f5-be3a-557e8dfee000",
      "metadata": {
        "colab": {
          "base_uri": "https://localhost:8080/"
        },
        "id": "4b70a8d2-ac47-47f5-be3a-557e8dfee000",
        "outputId": "4feca256-512e-4d77-a9e7-8c7b6dc1ea1b"
      },
      "outputs": [
        {
          "output_type": "stream",
          "name": "stdout",
          "text": [
            "15/15 [==============================] - 0s 9ms/step - loss: 0.5597 - accuracy: 0.8486 - precision: 0.8814 - recall: 0.8107\n",
            "Accuracy: 84.86%\n"
          ]
        }
      ],
      "source": [
        "y_pred = np.argmax(model.predict(X_test), axis=1)\n",
        "y_true = np.argmax(y_test, axis=1)\n",
        "\n",
        "loss, accuracy, precision, recall = model.evaluate(X_test, y_test)\n",
        "print(\"Accuracy: %.2f%%\" % (accuracy*100))"
      ]
    },
    {
      "cell_type": "code",
      "source": [
        "cm = confusion_matrix(y_true, y_pred)\n",
        "\n",
        "plt.figure(figsize=(8, 6))\n",
        "ax = plt.subplot()\n",
        "sns.heatmap(cm, annot=True, fmt='g', ax=ax, cmap='Blues')  # annot=True to annotate cells, ftm='g' to disable scientific notation\n",
        "\n",
        "ax.set_xlabel('Predicted labels')\n",
        "ax.set_ylabel('True labels') \n",
        "ax.set_title('Confusion Matrix')\n",
        "ax.xaxis.set_ticklabels(LABEL_NAME)\n",
        "ax.yaxis.set_ticklabels(LABEL_NAME)\n",
        "plt.tight_layout()"
      ],
      "metadata": {
        "colab": {
          "base_uri": "https://localhost:8080/",
          "height": 441
        },
        "id": "yDfdvYRmCsxk",
        "outputId": "3821af32-7f3a-4593-cab6-44a630fe0862"
      },
      "id": "yDfdvYRmCsxk",
      "execution_count": 48,
      "outputs": [
        {
          "output_type": "display_data",
          "data": {
            "text/plain": [
              "<Figure size 576x432 with 2 Axes>"
            ],
            "image/png": "[encoded data removed]"
          },
          "metadata": {
            "needs_background": "light"
          }
        }
      ]
    },
    {
      "cell_type": "code",
      "execution_count": 49,
      "id": "4990b17c-b31c-44d7-af33-1c408dc09407",
      "metadata": {
        "colab": {
          "base_uri": "https://localhost:8080/"
        },
        "id": "4990b17c-b31c-44d7-af33-1c408dc09407",
        "outputId": "5b9ffc4c-5f31-46c2-a1b0-6ba7fa7cc055"
      },
      "outputs": [
        {
          "output_type": "stream",
          "name": "stdout",
          "text": [
            "              precision    recall  f1-score   support\n",
            "\n",
            "       anger       0.83      0.84      0.84        94\n",
            "     disgust       0.97      0.90      0.93        77\n",
            "        fear       0.84      0.92      0.87        72\n",
            "         joy       0.73      0.82      0.77        77\n",
            "     sadness       0.85      0.85      0.85        61\n",
            "    surprise       0.91      0.76      0.83        68\n",
            "\n",
            "    accuracy                           0.85       449\n",
            "   macro avg       0.86      0.85      0.85       449\n",
            "weighted avg       0.85      0.85      0.85       449\n",
            "\n"
          ]
        }
      ],
      "source": [
        "print(classification_report(y_pred, y_true, target_names=LABEL_NAME))"
      ]
    },
    {
      "cell_type": "code",
      "source": [
        "def plot_roc_curve(y_test, y_pred):\n",
        "  \n",
        "  n_classes = len(np.unique(y_test))\n",
        "  y_test = label_binarize(y_test, classes=np.arange(len(LABEL_NAME)))\n",
        "  y_pred = label_binarize(y_pred, classes=np.arange(len(LABEL_NAME)))\n",
        "\n",
        "  # Compute ROC curve and ROC area for each class\n",
        "  fpr = dict()\n",
        "  tpr = dict()\n",
        "  roc_auc = dict()\n",
        "  for i in range(n_classes):\n",
        "    fpr[i], tpr[i], _ = roc_curve(y_test[:, i], y_pred[:, i])\n",
        "    roc_auc[i] = auc(fpr[i], tpr[i])\n",
        "  \n",
        "  # Compute micro-average ROC curve and ROC area\n",
        "  fpr['micro'], tpr['micro'], _ = roc_curve(y_test.ravel(), y_pred.ravel())\n",
        "  roc_auc['micro'] = auc(fpr['micro'], tpr['micro'])\n",
        "\n",
        "  # First aggregate all false positive rates\n",
        "  all_fpr = np.unique(np.concatenate([fpr[i] for i in range(n_classes)]))\n",
        "\n",
        "  # Then interpolate all ROC curves at this points\n",
        "  mean_tpr = np.zeros_like(all_fpr)\n",
        "  for i in range(n_classes):\n",
        "    mean_tpr += np.interp(all_fpr, fpr[i], tpr[i])\n",
        "\n",
        "  # Finally average it and compute AUC\n",
        "  mean_tpr /= n_classes\n",
        "\n",
        "  fpr['macro'] = all_fpr\n",
        "  tpr['macro'] = mean_tpr\n",
        "  roc_auc['macro'] = auc(fpr['macro'], tpr['macro'])\n",
        "\n",
        "  # Plot all ROC curves\n",
        "  plt.figure(figsize=(10, 7))\n",
        "  lw = 2\n",
        "  plt.plot(fpr['micro'], tpr['micro'],\n",
        "    label='micro-average ROC curve (area = {0:0.2f})'.format(roc_auc['micro']),\n",
        "    color='deeppink', linestyle=':', linewidth=4,)\n",
        "\n",
        "  plt.plot(fpr['macro'], tpr['macro'],\n",
        "    label='macro-average ROC curve (area = {0:0.2f})'.format(roc_auc['macro']),\n",
        "    color='navy', linestyle=':', linewidth=4,)\n",
        "\n",
        "  colors = cycle(['aqua', 'darkorange', 'darkgreen', 'yellow', 'blue', 'red'])\n",
        "  for i, color, label in zip(range(n_classes), colors, LABEL_NAME):\n",
        "    plt.plot(fpr[i], tpr[i], color=color, lw=lw,\n",
        "        label=\"ROC curve of class {0} (area = {1:0.2f})\".format(label, roc_auc[i]))\n",
        "\n",
        "  plt.plot([0, 1], [0, 1], 'k--', lw=lw)\n",
        "  plt.xlim([0.0, 1.0])\n",
        "  plt.ylim([0.0, 1.05])\n",
        "  plt.xlabel('False Positive Rate')\n",
        "  plt.ylabel('True Positive Rate')\n",
        "  plt.title('Receiver Operating Characteristic (ROC) curve')\n",
        "  plt.legend()\n",
        "  plt.show()"
      ],
      "metadata": {
        "id": "oOcCQsrv8KSd"
      },
      "id": "oOcCQsrv8KSd",
      "execution_count": 50,
      "outputs": []
    },
    {
      "cell_type": "code",
      "source": [
        "plot_roc_curve(y_pred, y_true)"
      ],
      "metadata": {
        "colab": {
          "base_uri": "https://localhost:8080/",
          "height": 458
        },
        "id": "nU5aEZLi8LSF",
        "outputId": "14c2d731-5ffc-43b0-d49c-e945d1681e78"
      },
      "id": "nU5aEZLi8LSF",
      "execution_count": 51,
      "outputs": [
        {
          "output_type": "display_data",
          "data": {
            "text/plain": [
              "<Figure size 720x504 with 1 Axes>"
            ],
            "image/png": "[encoded data removed]"
          },
          "metadata": {
            "needs_background": "light"
          }
        }
      ]
    },
    {
      "cell_type": "markdown",
      "source": [
        "# 12 Predict on New Data"
      ],
      "metadata": {
        "id": "9vw4g3s-z-Rw"
      },
      "id": "9vw4g3s-z-Rw"
    },
    {
      "cell_type": "code",
      "source": [
        "new_text = ['Hargai kebahagiaan jika kamu pernah sedih']\n",
        "\n",
        "text_seq = tokenizer.texts_to_sequences(new_text,)\n",
        "text_padded = pad_sequences(text_seq, maxlen=MAX_SEQ_LENGTH, padding=PADDING, truncating=TRUNCATING)\n",
        "\n",
        "pred = model.predict(text_padded)\n",
        "\n",
        "print(pred, LABEL_NAME[np.argmax(pred, axis=1)])"
      ],
      "metadata": {
        "colab": {
          "base_uri": "https://localhost:8080/"
        },
        "id": "ZxfTw0Kk0DTW",
        "outputId": "9f020913-526c-4f78-c4bb-bca3f369a006"
      },
      "id": "ZxfTw0Kk0DTW",
      "execution_count": 52,
      "outputs": [
        {
          "output_type": "stream",
          "name": "stdout",
          "text": [
            "[[0.1032793  0.00094672 0.00389855 0.04947125 0.8404431  0.00196113]] ['sadness']\n"
          ]
        }
      ]
    }
  ],
  "metadata": {
    "kernelspec": {
      "display_name": "Python 3 (ipykernel)",
      "language": "python",
      "name": "python3"
    },
    "language_info": {
      "codemirror_mode": {
        "name": "ipython",
        "version": 3
      },
      "file_extension": ".py",
      "mimetype": "text/x-python",
      "name": "python",
      "nbconvert_exporter": "python",
      "pygments_lexer": "ipython3",
      "version": "3.8.13"
    },
    "colab": {
      "name": "06-Word2Vec-ID-Tweet300-BiGRUs.ipynb",
      "provenance": [],
      "collapsed_sections": [],
      "machine_shape": "hm",
      "toc_visible": true,
      "include_colab_link": true
    },
    "accelerator": "GPU",
    "widgets": {
      "application/vnd.jupyter.widget-state+json": {
        "fff906d6a2dc42f48feb81c8399f1019": {
          "model_module": "@jupyter-widgets/controls",
          "model_name": "VBoxModel",
          "model_module_version": "1.5.0",
          "state": {
            "_dom_classes": [],
            "_model_module": "@jupyter-widgets/controls",
            "_model_module_version": "1.5.0",
            "_model_name": "VBoxModel",
            "_view_count": null,
            "_view_module": "@jupyter-widgets/controls",
            "_view_module_version": "1.5.0",
            "_view_name": "VBoxView",
            "box_style": "",
            "children": [
              "IPY_MODEL_050b9faa23274766a14bd1f16df4c593",
              "IPY_MODEL_1d389ab524fe41ae93be9e5d094dd0d7"
            ],
            "layout": "IPY_MODEL_d3da92fd10904d3b8911e24e51a8444c"
          }
        },
        "050b9faa23274766a14bd1f16df4c593": {
          "model_module": "@jupyter-widgets/controls",
          "model_name": "LabelModel",
          "model_module_version": "1.5.0",
          "state": {
            "_dom_classes": [],
            "_model_module": "@jupyter-widgets/controls",
            "_model_module_version": "1.5.0",
            "_model_name": "LabelModel",
            "_view_count": null,
            "_view_module": "@jupyter-widgets/controls",
            "_view_module_version": "1.5.0",
            "_view_name": "LabelView",
            "description": "",
            "description_tooltip": null,
            "layout": "IPY_MODEL_fd35ab57c97d474b94841ee6e5d4e400",
            "placeholder": "​",
            "style": "IPY_MODEL_b411775c40e240dfb52a808551cb2f6b",
            "value": "0.040 MB of 0.040 MB uploaded (0.000 MB deduped)\r"
          }
        },
        "1d389ab524fe41ae93be9e5d094dd0d7": {
          "model_module": "@jupyter-widgets/controls",
          "model_name": "FloatProgressModel",
          "model_module_version": "1.5.0",
          "state": {
            "_dom_classes": [],
            "_model_module": "@jupyter-widgets/controls",
            "_model_module_version": "1.5.0",
            "_model_name": "FloatProgressModel",
            "_view_count": null,
            "_view_module": "@jupyter-widgets/controls",
            "_view_module_version": "1.5.0",
            "_view_name": "ProgressView",
            "bar_style": "",
            "description": "",
            "description_tooltip": null,
            "layout": "IPY_MODEL_ac1579f9de63432ca4636e1309e4eec0",
            "max": 1,
            "min": 0,
            "orientation": "horizontal",
            "style": "IPY_MODEL_072027e3ca714cb09c7bea71f58ffa7d",
            "value": 1
          }
        },
        "d3da92fd10904d3b8911e24e51a8444c": {
          "model_module": "@jupyter-widgets/base",
          "model_name": "LayoutModel",
          "model_module_version": "1.2.0",
          "state": {
            "_model_module": "@jupyter-widgets/base",
            "_model_module_version": "1.2.0",
            "_model_name": "LayoutModel",
            "_view_count": null,
            "_view_module": "@jupyter-widgets/base",
            "_view_module_version": "1.2.0",
            "_view_name": "LayoutView",
            "align_content": null,
            "align_items": null,
            "align_self": null,
            "border": null,
            "bottom": null,
            "display": null,
            "flex": null,
            "flex_flow": null,
            "grid_area": null,
            "grid_auto_columns": null,
            "grid_auto_flow": null,
            "grid_auto_rows": null,
            "grid_column": null,
            "grid_gap": null,
            "grid_row": null,
            "grid_template_areas": null,
            "grid_template_columns": null,
            "grid_template_rows": null,
            "height": null,
            "justify_content": null,
            "justify_items": null,
            "left": null,
            "margin": null,
            "max_height": null,
            "max_width": null,
            "min_height": null,
            "min_width": null,
            "object_fit": null,
            "object_position": null,
            "order": null,
            "overflow": null,
            "overflow_x": null,
            "overflow_y": null,
            "padding": null,
            "right": null,
            "top": null,
            "visibility": null,
            "width": null
          }
        },
        "fd35ab57c97d474b94841ee6e5d4e400": {
          "model_module": "@jupyter-widgets/base",
          "model_name": "LayoutModel",
          "model_module_version": "1.2.0",
          "state": {
            "_model_module": "@jupyter-widgets/base",
            "_model_module_version": "1.2.0",
            "_model_name": "LayoutModel",
            "_view_count": null,
            "_view_module": "@jupyter-widgets/base",
            "_view_module_version": "1.2.0",
            "_view_name": "LayoutView",
            "align_content": null,
            "align_items": null,
            "align_self": null,
            "border": null,
            "bottom": null,
            "display": null,
            "flex": null,
            "flex_flow": null,
            "grid_area": null,
            "grid_auto_columns": null,
            "grid_auto_flow": null,
            "grid_auto_rows": null,
            "grid_column": null,
            "grid_gap": null,
            "grid_row": null,
            "grid_template_areas": null,
            "grid_template_columns": null,
            "grid_template_rows": null,
            "height": null,
            "justify_content": null,
            "justify_items": null,
            "left": null,
            "margin": null,
            "max_height": null,
            "max_width": null,
            "min_height": null,
            "min_width": null,
            "object_fit": null,
            "object_position": null,
            "order": null,
            "overflow": null,
            "overflow_x": null,
            "overflow_y": null,
            "padding": null,
            "right": null,
            "top": null,
            "visibility": null,
            "width": null
          }
        },
        "b411775c40e240dfb52a808551cb2f6b": {
          "model_module": "@jupyter-widgets/controls",
          "model_name": "DescriptionStyleModel",
          "model_module_version": "1.5.0",
          "state": {
            "_model_module": "@jupyter-widgets/controls",
            "_model_module_version": "1.5.0",
            "_model_name": "DescriptionStyleModel",
            "_view_count": null,
            "_view_module": "@jupyter-widgets/base",
            "_view_module_version": "1.2.0",
            "_view_name": "StyleView",
            "description_width": ""
          }
        },
        "ac1579f9de63432ca4636e1309e4eec0": {
          "model_module": "@jupyter-widgets/base",
          "model_name": "LayoutModel",
          "model_module_version": "1.2.0",
          "state": {
            "_model_module": "@jupyter-widgets/base",
            "_model_module_version": "1.2.0",
            "_model_name": "LayoutModel",
            "_view_count": null,
            "_view_module": "@jupyter-widgets/base",
            "_view_module_version": "1.2.0",
            "_view_name": "LayoutView",
            "align_content": null,
            "align_items": null,
            "align_self": null,
            "border": null,
            "bottom": null,
            "display": null,
            "flex": null,
            "flex_flow": null,
            "grid_area": null,
            "grid_auto_columns": null,
            "grid_auto_flow": null,
            "grid_auto_rows": null,
            "grid_column": null,
            "grid_gap": null,
            "grid_row": null,
            "grid_template_areas": null,
            "grid_template_columns": null,
            "grid_template_rows": null,
            "height": null,
            "justify_content": null,
            "justify_items": null,
            "left": null,
            "margin": null,
            "max_height": null,
            "max_width": null,
            "min_height": null,
            "min_width": null,
            "object_fit": null,
            "object_position": null,
            "order": null,
            "overflow": null,
            "overflow_x": null,
            "overflow_y": null,
            "padding": null,
            "right": null,
            "top": null,
            "visibility": null,
            "width": null
          }
        },
        "072027e3ca714cb09c7bea71f58ffa7d": {
          "model_module": "@jupyter-widgets/controls",
          "model_name": "ProgressStyleModel",
          "model_module_version": "1.5.0",
          "state": {
            "_model_module": "@jupyter-widgets/controls",
            "_model_module_version": "1.5.0",
            "_model_name": "ProgressStyleModel",
            "_view_count": null,
            "_view_module": "@jupyter-widgets/base",
            "_view_module_version": "1.2.0",
            "_view_name": "StyleView",
            "bar_color": null,
            "description_width": ""
          }
        }
      }
    }
  },
  "nbformat": 4,
  "nbformat_minor": 5
}