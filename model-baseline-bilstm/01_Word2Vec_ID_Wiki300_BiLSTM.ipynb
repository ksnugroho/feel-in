{
  "cells": [
    {
      "cell_type": "markdown",
      "metadata": {
        "id": "view-in-github",
        "colab_type": "text"
      },
      "source": [
        "<a href=\"https://colab.research.google.com/github/ksnugroho/feel-in/blob/main/model-baseline-bilstm/01_Word2Vec_ID_Wiki300_BiLSTM.ipynb\" target=\"_parent\"><img src=\"https://colab.research.google.com/assets/colab-badge.svg\" alt=\"Open In Colab\"/></a>"
      ]
    },
    {
      "cell_type": "markdown",
      "id": "a1bf2cd2-5a23-41fa-a4b7-71dfd3b0adb8",
      "metadata": {
        "id": "a1bf2cd2-5a23-41fa-a4b7-71dfd3b0adb8"
      },
      "source": [
        "# **Word2Vec (ID Wiki) + Bidirectional LSTM**\n",
        "\n",
        "**Thesis: Emotion Detection in Indonesian Text**\n",
        "\n",
        "Kuncahyo Setyo Nugroho<br>\n",
        "Supervisor:\n",
        "1. Dr. Eng. Fitra A. Bachtiar, S.T., M.Eng.\n",
        "2. Prof. Ir. Wayan Firdaus Mahmudy, S.Si., M.T., Ph.D.\n",
        "\n",
        "Faculty of Computer Science, Brawijaya University, Indonesia &copy; 2021-2022"
      ]
    },
    {
      "cell_type": "markdown",
      "id": "c2711406-ec5a-4ae2-bb51-ee6e38d2e14d",
      "metadata": {
        "id": "c2711406-ec5a-4ae2-bb51-ee6e38d2e14d"
      },
      "source": [
        "# 01 Setup"
      ]
    },
    {
      "cell_type": "code",
      "source": [
        "from google.colab import drive\n",
        "drive.mount('/content/drive', force_remount=True)"
      ],
      "metadata": {
        "id": "AVwTm6ZzVRuK",
        "colab": {
          "base_uri": "https://localhost:8080/"
        },
        "outputId": "9cd2d89f-048b-451a-809a-6a876340d8c6"
      },
      "id": "AVwTm6ZzVRuK",
      "execution_count": 1,
      "outputs": [
        {
          "output_type": "stream",
          "name": "stdout",
          "text": [
            "Mounted at /content/drive\n"
          ]
        }
      ]
    },
    {
      "cell_type": "code",
      "source": [
        "# Path to google drive folder\n",
        "%cd /content/drive/MyDrive/Code/tesis"
      ],
      "metadata": {
        "id": "wFUHxFRwVT1W",
        "colab": {
          "base_uri": "https://localhost:8080/"
        },
        "outputId": "91437792-259d-4ec9-f2f4-cc0e4123426d"
      },
      "id": "wFUHxFRwVT1W",
      "execution_count": 2,
      "outputs": [
        {
          "output_type": "stream",
          "name": "stdout",
          "text": [
            "/content/drive/MyDrive/Code/tesis\n"
          ]
        }
      ]
    },
    {
      "cell_type": "code",
      "execution_count": 3,
      "id": "1d9e59eb-577c-41f1-91e7-ad35cb47e990",
      "metadata": {
        "tags": [],
        "id": "1d9e59eb-577c-41f1-91e7-ad35cb47e990"
      },
      "outputs": [],
      "source": [
        "import re\n",
        "import os\n",
        "import datetime\n",
        "import numpy as np\n",
        "import pandas as pd\n",
        "import matplotlib.pyplot as plt\n",
        "import seaborn as sns\n",
        "\n",
        "from itertools import cycle\n",
        "from sklearn.preprocessing import LabelEncoder, label_binarize\n",
        "from sklearn.model_selection import train_test_split\n",
        "from sklearn.metrics import roc_curve, auc, confusion_matrix, classification_report\n",
        "\n",
        "from gensim.models import KeyedVectors\n",
        "\n",
        "import tensorflow as tf\n",
        "from tensorflow.keras.preprocessing.text import Tokenizer\n",
        "from tensorflow.keras.preprocessing.sequence import pad_sequences\n",
        "from tensorflow.keras.utils import to_categorical, plot_model\n",
        "from tensorflow.keras.optimizers import Adam\n",
        "from tensorflow.keras.losses import CategoricalCrossentropy\n",
        "from tensorflow.keras.callbacks import EarlyStopping, ModelCheckpoint, TensorBoard\n",
        "from tensorflow.keras.initializers import Constant\n",
        "from tensorflow.keras.models import Sequential \n",
        "from tensorflow.keras.layers import Embedding, Bidirectional, LSTM, Dropout, Dense\n",
        "\n",
        "from tqdm import tqdm\n",
        "tqdm.pandas()\n",
        "\n",
        "import warnings\n",
        "warnings.filterwarnings('ignore')\n",
        "\n",
        "SEED = 50\n",
        "MODEL = 'id-wiki-word2vec-bilstm'\n",
        "FOLDER_PATH = 'model-baseline-bilstm'\n",
        "\n",
        "np.random.seed(SEED)\n",
        "tf.random.set_seed(SEED)\n",
        "colors = plt.rcParams['axes.prop_cycle'].by_key()['color']\n",
        "\n",
        "%matplotlib inline"
      ]
    },
    {
      "cell_type": "code",
      "source": [
        "!pip install -q wandb"
      ],
      "metadata": {
        "id": "2Y-QoBKiVGcU",
        "colab": {
          "base_uri": "https://localhost:8080/"
        },
        "outputId": "90380e71-11bf-4fe1-ec64-5314871f7e3f"
      },
      "id": "2Y-QoBKiVGcU",
      "execution_count": 4,
      "outputs": [
        {
          "output_type": "stream",
          "name": "stdout",
          "text": [
            "\u001b[K     |████████████████████████████████| 1.8 MB 15.4 MB/s \n",
            "\u001b[K     |████████████████████████████████| 147 kB 78.9 MB/s \n",
            "\u001b[K     |████████████████████████████████| 181 kB 80.0 MB/s \n",
            "\u001b[K     |████████████████████████████████| 63 kB 2.2 MB/s \n",
            "\u001b[?25h  Building wheel for pathtools (setup.py) ... \u001b[?25l\u001b[?25hdone\n"
          ]
        }
      ]
    },
    {
      "cell_type": "code",
      "execution_count": 5,
      "id": "48b9555b-8ac9-42ce-ab47-039461f7ddcc",
      "metadata": {
        "id": "48b9555b-8ac9-42ce-ab47-039461f7ddcc",
        "colab": {
          "base_uri": "https://localhost:8080/"
        },
        "outputId": "c297288c-1580-460b-fc73-d91d61558e70"
      },
      "outputs": [
        {
          "output_type": "stream",
          "name": "stderr",
          "text": [
            "\u001b[34m\u001b[1mwandb\u001b[0m: W&B API key is configured. Use \u001b[1m`wandb login --relogin`\u001b[0m to force relogin\n",
            "\u001b[34m\u001b[1mwandb\u001b[0m: \u001b[33mWARNING\u001b[0m If you're specifying your api key in code, ensure this code is not shared publicly.\n",
            "\u001b[34m\u001b[1mwandb\u001b[0m: \u001b[33mWARNING\u001b[0m Consider setting the WANDB_API_KEY environment variable, or running `wandb login` from the command line.\n",
            "\u001b[34m\u001b[1mwandb\u001b[0m: Appending key for api.wandb.ai to your netrc file: /root/.netrc\n"
          ]
        },
        {
          "output_type": "execute_result",
          "data": {
            "text/plain": [
              "True"
            ]
          },
          "metadata": {},
          "execution_count": 5
        }
      ],
      "source": [
        "import wandb\n",
        "from wandb.keras import WandbCallback\n",
        "\n",
        "wandb.login(key='bd42e3aab9cac21a2416900b1114532802619de3')"
      ]
    },
    {
      "cell_type": "code",
      "source": [
        "TODAY = datetime.datetime.now().strftime(\"%m-%d-%Y-%H:%M\")\n",
        "print(TODAY)"
      ],
      "metadata": {
        "id": "7GDeOKZeFvEk",
        "colab": {
          "base_uri": "https://localhost:8080/"
        },
        "outputId": "5a7eabb8-eb1c-41c9-9df9-4ea2ada74ba3"
      },
      "id": "7GDeOKZeFvEk",
      "execution_count": 6,
      "outputs": [
        {
          "output_type": "stream",
          "name": "stdout",
          "text": [
            "07-15-2022-17:29\n"
          ]
        }
      ]
    },
    {
      "cell_type": "markdown",
      "id": "68399df4-1ece-42be-926c-40c9c494d0d1",
      "metadata": {
        "id": "68399df4-1ece-42be-926c-40c9c494d0d1"
      },
      "source": [
        "# 02 Load Data"
      ]
    },
    {
      "cell_type": "code",
      "execution_count": 7,
      "id": "7ab9c55e-af81-4952-9736-b3f87045cfa2",
      "metadata": {
        "id": "7ab9c55e-af81-4952-9736-b3f87045cfa2",
        "colab": {
          "base_uri": "https://localhost:8080/"
        },
        "outputId": "63da019e-b5f3-4517-dce4-295c47ac5b8a"
      },
      "outputs": [
        {
          "output_type": "stream",
          "name": "stdout",
          "text": [
            "                                               tweet    label\n",
            "0        wah belom liat muka gue lagi murka hahahaha      joy\n",
            "1  Mungkin kurang piknik adrenalin. Mereka yg ske...    anger\n",
            "2  maaf kalo tersinggung \"orang kurus cepet mati\"...    anger\n",
            "3  berserah pada maha esa paling tabah dan sabar ...      joy\n",
            "4                       Ehekk malu la hahahahahahaha  sadness\n"
          ]
        }
      ],
      "source": [
        "df = pd.read_csv('data/final-tweet-anotasi.csv', index_col=0)\n",
        "# df = df.sample(frac=1, random_state=SEED).reset_index(drop=True)   # For shuffle\n",
        "print(df.head())"
      ]
    },
    {
      "cell_type": "code",
      "source": [
        "# df = df.dropna()"
      ],
      "metadata": {
        "id": "jSyeoBWmVtkA"
      },
      "id": "jSyeoBWmVtkA",
      "execution_count": 8,
      "outputs": []
    },
    {
      "cell_type": "code",
      "execution_count": 9,
      "id": "eeb8fd22-5a2b-48a9-8d5e-e5b569cb856a",
      "metadata": {
        "id": "eeb8fd22-5a2b-48a9-8d5e-e5b569cb856a",
        "colab": {
          "base_uri": "https://localhost:8080/"
        },
        "outputId": "93080e07-164c-46c6-b4eb-901a0ee5fc64"
      },
      "outputs": [
        {
          "output_type": "execute_result",
          "data": {
            "text/plain": [
              "(2243, 2)"
            ]
          },
          "metadata": {},
          "execution_count": 9
        }
      ],
      "source": [
        "df.shape"
      ]
    },
    {
      "cell_type": "code",
      "execution_count": 10,
      "id": "ad238655-95be-4598-b60a-5aa5ee3a27be",
      "metadata": {
        "id": "ad238655-95be-4598-b60a-5aa5ee3a27be",
        "colab": {
          "base_uri": "https://localhost:8080/",
          "height": 456
        },
        "outputId": "ee1d7b8a-b420-4ee2-c38f-dc8554f3736a"
      },
      "outputs": [
        {
          "output_type": "display_data",
          "data": {
            "text/plain": [
              "<Figure size 576x360 with 1 Axes>"
            ],
            "image/png": "[encoded data removed]"
          },
          "metadata": {
            "needs_background": "light"
          }
        },
        {
          "output_type": "execute_result",
          "data": {
            "text/plain": [
              "anger       475\n",
              "disgust     355\n",
              "fear        395\n",
              "joy         429\n",
              "sadness     303\n",
              "surprise    286\n",
              "Name: label, dtype: int64"
            ]
          },
          "metadata": {},
          "execution_count": 10
        }
      ],
      "source": [
        "plt.figure(figsize=(8, 5))\n",
        "sns.countplot(x='label', data=df, order=df['label'].value_counts().index)\n",
        "plt.xlabel('Distribution of Emotion Label')\n",
        "plt.show()\n",
        "\n",
        "df['label'].value_counts().sort_index()"
      ]
    },
    {
      "cell_type": "markdown",
      "id": "c8468e98-5632-450d-8b96-4542508142e9",
      "metadata": {
        "id": "c8468e98-5632-450d-8b96-4542508142e9"
      },
      "source": [
        "# 03 Preprocessing"
      ]
    },
    {
      "cell_type": "markdown",
      "source": [
        "## Text Cleaning"
      ],
      "metadata": {
        "id": "KD-oQ7hzEj_7"
      },
      "id": "KD-oQ7hzEj_7"
    },
    {
      "cell_type": "code",
      "execution_count": 11,
      "id": "ebe49f47-6c6a-4f61-8d6c-770106d96043",
      "metadata": {
        "id": "ebe49f47-6c6a-4f61-8d6c-770106d96043"
      },
      "outputs": [],
      "source": [
        "def text_cleaning(text):\n",
        "    text = text.lower()                               # Mengubah teks menjadi lower case\n",
        "    text = re.sub(r'https?://\\S+|www\\.\\S+', '', text) # Menghapus URL\n",
        "    text = re.sub(r'[-+]?[0-9]+', '', text)           # Menghapus angka\n",
        "    text = re.sub(r'[^\\w\\s]','', text)                # Menghapus karakter tanda baca\n",
        "    text = re.sub(r'\\s+', ' ', text).strip()          # Menghapus whitespaces\n",
        "\n",
        "    return text"
      ]
    },
    {
      "cell_type": "code",
      "execution_count": 12,
      "id": "ae27a972-17de-4d33-b15c-987de9ee00ca",
      "metadata": {
        "id": "ae27a972-17de-4d33-b15c-987de9ee00ca",
        "colab": {
          "base_uri": "https://localhost:8080/"
        },
        "outputId": "20c0ad93-5cf7-4a8f-e021-e396c53687d8"
      },
      "outputs": [
        {
          "output_type": "stream",
          "name": "stderr",
          "text": [
            "100%|██████████| 2243/2243 [00:00<00:00, 57246.45it/s]"
          ]
        },
        {
          "output_type": "stream",
          "name": "stdout",
          "text": [
            "CPU times: user 44.4 ms, sys: 2.75 ms, total: 47.1 ms\n",
            "Wall time: 45.9 ms\n"
          ]
        },
        {
          "output_type": "stream",
          "name": "stderr",
          "text": [
            "\n"
          ]
        }
      ],
      "source": [
        "%%time \n",
        "df['tweet'] = df['tweet'].progress_apply(text_cleaning)"
      ]
    },
    {
      "cell_type": "markdown",
      "id": "96d70e1e-0b16-4ee5-87ab-39f14bccc3cb",
      "metadata": {
        "id": "96d70e1e-0b16-4ee5-87ab-39f14bccc3cb"
      },
      "source": [
        "## Label Encoder"
      ]
    },
    {
      "cell_type": "code",
      "execution_count": 13,
      "id": "446e9785-ddc4-4674-a3ec-ccf3a96be135",
      "metadata": {
        "id": "446e9785-ddc4-4674-a3ec-ccf3a96be135",
        "colab": {
          "base_uri": "https://localhost:8080/"
        },
        "outputId": "fdbe6f32-a403-4cf9-be9c-db9853fd9ffa"
      },
      "outputs": [
        {
          "output_type": "stream",
          "name": "stdout",
          "text": [
            "                                               tweet    label  label_encode\n",
            "0        wah belom liat muka gue lagi murka hahahaha      joy             3\n",
            "1  mungkin kurang piknik adrenalin mereka yg skep...    anger             0\n",
            "2  maaf kalo tersinggung orang kurus cepet mati w...    anger             0\n",
            "3  berserah pada maha esa paling tabah dan sabar ...      joy             3\n",
            "4                       ehekk malu la hahahahahahaha  sadness             4\n"
          ]
        }
      ],
      "source": [
        "le = LabelEncoder()\n",
        "\n",
        "df['label_encode'] = le.fit_transform(df['label'])\n",
        "print(df.head())"
      ]
    },
    {
      "cell_type": "code",
      "source": [
        "le_mapping = dict(zip(le.classes_, le.transform(le.classes_)))\n",
        "print(le_mapping)"
      ],
      "metadata": {
        "id": "dNTuKMAtCC3O",
        "colab": {
          "base_uri": "https://localhost:8080/"
        },
        "outputId": "5c13e18d-bd56-45e0-f7bb-f0d757151c92"
      },
      "id": "dNTuKMAtCC3O",
      "execution_count": 14,
      "outputs": [
        {
          "output_type": "stream",
          "name": "stdout",
          "text": [
            "{'anger': 0, 'disgust': 1, 'fear': 2, 'joy': 3, 'sadness': 4, 'surprise': 5}\n"
          ]
        }
      ]
    },
    {
      "cell_type": "code",
      "source": [
        "LABEL_NAME = le.classes_\n",
        "print(LABEL_NAME)"
      ],
      "metadata": {
        "id": "sMvamEW5g-MB",
        "colab": {
          "base_uri": "https://localhost:8080/"
        },
        "outputId": "45e92006-e9f9-48f3-d8f7-0764f9514bc2"
      },
      "id": "sMvamEW5g-MB",
      "execution_count": 15,
      "outputs": [
        {
          "output_type": "stream",
          "name": "stdout",
          "text": [
            "['anger' 'disgust' 'fear' 'joy' 'sadness' 'surprise']\n"
          ]
        }
      ]
    },
    {
      "cell_type": "markdown",
      "id": "51563912-e1a5-4196-ba6d-6c9b34de840c",
      "metadata": {
        "id": "51563912-e1a5-4196-ba6d-6c9b34de840c"
      },
      "source": [
        "# 04 Load Pre-Trained Word Vectors (Word2Vec)"
      ]
    },
    {
      "cell_type": "code",
      "execution_count": 16,
      "id": "0d84c2b8-95d5-4649-a929-153d16de7791",
      "metadata": {
        "id": "0d84c2b8-95d5-4649-a929-153d16de7791",
        "colab": {
          "base_uri": "https://localhost:8080/"
        },
        "outputId": "043899d7-ccf9-45fd-8386-fc3641e097e3"
      },
      "outputs": [
        {
          "output_type": "stream",
          "name": "stdout",
          "text": [
            "The numbers of words in vocabulary:  422240\n",
            "CPU times: user 1.09 s, sys: 127 ms, total: 1.22 s\n",
            "Wall time: 3.03 s\n"
          ]
        }
      ],
      "source": [
        "%%time\n",
        "WORD_EMBEDDING_PATH = 'model-word-embedding/checkpoint/idwiki-word2vec/idwiki-word2vec-300.wordvectors'\n",
        "\n",
        "word2vec = KeyedVectors.load(WORD_EMBEDDING_PATH,  mmap='r')\n",
        "vocabulary = word2vec.wv.vocab     # gensim 3\n",
        "# vocabulary = word2vec.index_to_key # gensim 4\n",
        "print('The numbers of words in vocabulary: ', len(vocabulary))\n",
        "\n",
        "VOCAB_SIZE = len(vocabulary)\n",
        "EMBEDDING_SIZE = word2vec.vector_size"
      ]
    },
    {
      "cell_type": "code",
      "execution_count": 17,
      "id": "60938380-45dd-4fed-a8f8-5db2f37897db",
      "metadata": {
        "id": "60938380-45dd-4fed-a8f8-5db2f37897db",
        "colab": {
          "base_uri": "https://localhost:8080/"
        },
        "outputId": "fc17d3ff-c039-4738-f8d2-f54c2ea029ed"
      },
      "outputs": [
        {
          "output_type": "stream",
          "name": "stdout",
          "text": [
            "The numbers of key-value pairs:  422240\n"
          ]
        }
      ],
      "source": [
        "word2vec_dict = {}\n",
        "\n",
        "for word in vocabulary:\n",
        "    word2vec_dict[word] = word2vec.wv.get_vector(word)   # gensim 3\n",
        "    # word2vec_dict[word] = word2vec.get_vector(word)\n",
        "    \n",
        "print('The numbers of key-value pairs: ', len(word2vec_dict)) # should come equal to vocab size"
      ]
    },
    {
      "cell_type": "code",
      "execution_count": 18,
      "id": "197d2a58-5a2d-4cbe-a0c9-834c97e3fb08",
      "metadata": {
        "id": "197d2a58-5a2d-4cbe-a0c9-834c97e3fb08",
        "colab": {
          "base_uri": "https://localhost:8080/"
        },
        "outputId": "53d0f4d4-f65b-4b25-bacb-bc848ae39953"
      },
      "outputs": [
        {
          "output_type": "stream",
          "name": "stdout",
          "text": [
            "[ 6.75812364e-02  3.39518279e-01  6.94608688e-02  1.08271278e-01\n",
            "  1.84022978e-01  2.96562672e-01 -3.81502330e-01 -7.48222927e-03\n",
            " -5.04919551e-02  3.02928448e-01  5.22191189e-02 -2.57855028e-01\n",
            "  1.76260576e-01 -2.95605093e-01  5.10009564e-02  9.88978893e-02\n",
            "  1.09668925e-01  5.35296239e-02  1.47750810e-01  7.39202425e-02\n",
            "  1.20023735e-01  2.78929565e-02 -1.75464317e-01  5.84843606e-02\n",
            " -1.29706413e-01  2.33775795e-01 -1.74707830e-01 -3.06156307e-01\n",
            "  7.74664758e-03  2.63089431e-04 -9.33890715e-02  2.00929791e-01\n",
            " -2.58651257e-01  2.62702890e-02 -3.12812150e-01  2.62490362e-01\n",
            " -2.10357904e-01  2.22268179e-02 -2.14812100e-01 -1.54625580e-01\n",
            "  9.13467333e-02 -9.37793124e-03  3.34161341e-01 -1.13048732e-01\n",
            " -1.24602979e-02 -1.20885760e-01  2.13201474e-02 -1.00332431e-01\n",
            " -3.38982701e-01 -1.98508427e-01 -3.51027101e-01 -5.86017873e-03\n",
            "  2.66471714e-01  4.42226091e-03  1.40483379e-01 -3.51466030e-01\n",
            "  9.05994326e-03 -1.54891640e-01  9.23953503e-02 -2.44809806e-01\n",
            "  4.39220399e-01  8.01375210e-02 -2.25704089e-01  3.09850484e-01\n",
            " -2.86513627e-01  4.57599238e-02  3.93176638e-02 -1.02670237e-01\n",
            "  4.12075281e-01 -1.70392931e-01  2.50932068e-01 -3.39006521e-02\n",
            "  4.41575855e-01 -3.42951119e-01 -1.20450109e-01  4.70697552e-01\n",
            "  1.52374923e-01  2.92086661e-01  2.51798034e-01  5.02172038e-02\n",
            " -2.62133151e-01 -1.36651397e-01  1.52262300e-01  1.14801876e-01\n",
            "  9.83074158e-02  3.22206557e-01 -4.48511504e-02  4.62329760e-02\n",
            "  1.40304938e-01 -8.19572583e-02 -4.01723571e-02 -8.45048949e-03\n",
            " -9.15889144e-02 -1.44173190e-01 -1.85628027e-01  9.14694145e-02\n",
            " -2.56502777e-01  1.74113601e-01 -7.58863464e-02  2.03401938e-01\n",
            " -3.94228578e-01  1.83377303e-02 -3.68034959e-01  2.43702248e-01\n",
            " -1.77856967e-01  1.27699941e-01  1.07942991e-01 -1.68931186e-01\n",
            "  4.57269430e-01  1.15296640e-01 -1.15803681e-01 -2.15125084e-01\n",
            " -1.00316949e-01 -7.45920315e-02  2.03192964e-01 -9.71991569e-03\n",
            "  1.67199388e-01  1.25864044e-01  1.71075568e-01  3.72243375e-01\n",
            " -2.74318486e-01 -3.88747633e-01  4.39098358e-01 -2.44922951e-01\n",
            " -1.68180868e-01  2.03411594e-01  5.98781407e-02  9.76161286e-02\n",
            "  1.27953246e-01  4.45722312e-01  7.30838701e-02 -2.79303014e-01\n",
            " -1.32367864e-01  1.68445498e-01  1.64392870e-02  3.06428105e-01\n",
            " -2.61812717e-01  1.05627231e-01 -9.90507752e-02  2.22651899e-01\n",
            "  2.04031006e-01 -8.52899160e-04 -2.63430155e-03  1.92919061e-01\n",
            " -1.61721215e-01  8.45283829e-03  8.00193474e-02 -2.85557747e-01\n",
            "  9.71635208e-02 -8.57655481e-02 -4.58929762e-02 -1.51269257e-01\n",
            "  2.25736737e-01 -4.31535318e-02  1.62760559e-02 -3.84262890e-01\n",
            "  1.37978479e-01  1.06739007e-01 -5.20601496e-02 -2.22148672e-01\n",
            "  1.86245173e-01  1.51300281e-01 -1.19226180e-01  9.37955156e-02\n",
            " -1.67774051e-01 -7.33065531e-02 -1.46726474e-01 -4.65839326e-01\n",
            "  7.25259781e-02  5.96994646e-02 -3.87644202e-01 -2.27806225e-01\n",
            " -7.61700049e-02  6.41782880e-02  1.08431831e-01  1.54653579e-01\n",
            "  8.81231502e-02 -2.39795912e-02 -2.51622319e-01 -3.60191357e-03\n",
            " -4.15692478e-01 -1.52360238e-02 -5.28206117e-02 -1.88392594e-01\n",
            "  1.43469051e-02  8.15131962e-02  8.48577172e-02  1.17757849e-01\n",
            "  3.67168427e-01 -3.61812592e-01  3.05261105e-01  4.09349333e-03\n",
            "  2.47685418e-01 -1.22557715e-01 -1.58722550e-01 -1.92475557e-01\n",
            " -2.15530977e-01  1.66810095e-01  2.10859384e-02 -8.80877376e-02\n",
            " -1.74472004e-01 -2.85018176e-01  6.14557862e-01 -2.59335041e-02\n",
            "  3.27062868e-02  3.52383442e-02 -1.55706376e-01 -2.68232703e-01\n",
            " -1.20821275e-01 -2.87444554e-02 -1.96947068e-01  2.01252475e-01\n",
            "  8.11523423e-02  3.24960649e-01 -2.50925273e-02  2.72729737e-03\n",
            "  2.24925190e-01 -7.58619700e-03  1.96992338e-01  4.75781485e-02\n",
            "  3.42221856e-01 -3.78625780e-01  1.13122970e-01 -2.81907097e-02\n",
            " -1.75136894e-01 -3.66925716e-01 -1.20041341e-01 -3.77299339e-01\n",
            "  1.67003915e-01  2.69479603e-01  3.95874977e-02 -4.16219264e-01\n",
            " -1.02801025e-01  2.23842949e-01  2.14919895e-01 -4.06679183e-01\n",
            "  1.00112334e-01  1.76327631e-01  2.27004334e-01  2.01104909e-01\n",
            " -2.07061335e-01  2.12658718e-01 -1.13839701e-01 -1.32903606e-02\n",
            "  2.65301079e-01 -4.32400286e-01 -4.03120816e-01  4.37718481e-01\n",
            "  3.13041061e-01  6.82858765e-01 -7.47478232e-02  8.26997086e-02\n",
            " -1.25071317e-01  5.08751310e-02 -2.75102884e-01 -1.32645760e-02\n",
            "  1.38492137e-01  4.00138348e-01 -2.87767023e-01 -1.74441367e-01\n",
            "  1.15126871e-01  2.08198264e-01  5.66074774e-02  1.88356593e-01\n",
            "  6.68884143e-02 -9.32007059e-02  7.49563798e-02 -1.78256646e-01\n",
            "  1.83663130e-01  2.17169195e-01  1.11877985e-01  3.40864174e-02\n",
            " -2.08516017e-01 -2.70332158e-01 -2.97827236e-02 -2.24968102e-02\n",
            "  3.28406483e-01 -1.02162667e-01  9.46469009e-02 -4.08658236e-02\n",
            "  1.06695108e-01  2.82374471e-01 -3.56231749e-01  3.53536993e-01\n",
            " -6.73090294e-02 -2.83245035e-02 -3.70086879e-02 -6.19558655e-02\n",
            " -2.29436919e-01  4.85238314e-01 -5.59608757e-01  9.41788182e-02\n",
            " -4.40837681e-01  1.01797298e-01 -3.35491329e-01 -7.74130151e-02\n",
            "  2.63561934e-01  2.30056625e-02  3.39783251e-01 -2.82676697e-01]\n",
            "Embedding size:  (300,)\n"
          ]
        }
      ],
      "source": [
        "# Cek vektor embedding dan dimensi dari suatu kata\n",
        "word = 'saya'\n",
        "\n",
        "print(word2vec[word])\n",
        "print('Embedding size: ', word2vec[word].shape)"
      ]
    },
    {
      "cell_type": "markdown",
      "id": "6f99d1fe-fc94-4fdb-a5ca-fbee429e755a",
      "metadata": {
        "id": "6f99d1fe-fc94-4fdb-a5ca-fbee429e755a"
      },
      "source": [
        "# 05 Choosing Maximum Length of the Sequence  "
      ]
    },
    {
      "cell_type": "code",
      "execution_count": 19,
      "id": "25a90ec6-381d-4a00-870f-1d5c99f482a6",
      "metadata": {
        "id": "25a90ec6-381d-4a00-870f-1d5c99f482a6",
        "colab": {
          "base_uri": "https://localhost:8080/",
          "height": 334
        },
        "outputId": "b23f40ec-46a9-4943-d849-326e0694e36d"
      },
      "outputs": [
        {
          "output_type": "display_data",
          "data": {
            "text/plain": [
              "<Figure size 576x360 with 1 Axes>"
            ],
            "image/png": "[encoded data removed]"
          },
          "metadata": {
            "needs_background": "light"
          }
        }
      ],
      "source": [
        "token_lens = []\n",
        "\n",
        "for text in df['tweet']:\n",
        "    tokens = text.split()\n",
        "    token_lens.append(len(tokens))\n",
        "\n",
        "plt.figure(figsize=(8, 5))\n",
        "sns.histplot(token_lens, kde=True, stat='density', linewidth=0)\n",
        "plt.xlim([0, 100]);\n",
        "plt.xlabel('Token count');"
      ]
    },
    {
      "cell_type": "code",
      "execution_count": 20,
      "id": "8706c818-5743-474d-ab06-8e80796626dd",
      "metadata": {
        "id": "8706c818-5743-474d-ab06-8e80796626dd"
      },
      "outputs": [],
      "source": [
        "MAX_SEQ_LENGTH = 80"
      ]
    },
    {
      "cell_type": "markdown",
      "id": "709501e2-9810-43d1-876e-7a5a90c7baf2",
      "metadata": {
        "id": "709501e2-9810-43d1-876e-7a5a90c7baf2"
      },
      "source": [
        "# 06 Preparing Data for Embedding Layer"
      ]
    },
    {
      "cell_type": "markdown",
      "id": "f286a91d-879d-4794-9751-9f2ba0913fdc",
      "metadata": {
        "id": "f286a91d-879d-4794-9751-9f2ba0913fdc"
      },
      "source": [
        "## Tokenizing Data"
      ]
    },
    {
      "cell_type": "code",
      "execution_count": 21,
      "id": "e53fc8e9-8259-4d61-8df5-637be49b96be",
      "metadata": {
        "id": "e53fc8e9-8259-4d61-8df5-637be49b96be",
        "colab": {
          "base_uri": "https://localhost:8080/"
        },
        "outputId": "b396139b-3df8-481b-910c-310ae0833426"
      },
      "outputs": [
        {
          "output_type": "stream",
          "name": "stdout",
          "text": [
            "8831\n"
          ]
        }
      ],
      "source": [
        "NUM_WORDS = 100       # Frekuensi kemunculan kata. Hanya num_words-1 yang akan disimpan pada dictionary. Berarti kata dengan kemunculan <=num_words tidak digunakan.\n",
        "OOV_TOKEN = '<unk>'   # Token khusus untuk mengganti kata yang tidak terdaftar dalam dictionary.\n",
        "\n",
        "tokenizer = Tokenizer(num_words=NUM_WORDS, oov_token=OOV_TOKEN, lower=True, split=' ')\n",
        "tokenizer.fit_on_texts(df['tweet'])\n",
        "\n",
        "# Tambahkan token padding untuk menyamakan ukuran dimensi embedding layer\n",
        "tokenizer.word_index['<pad>'] = 0\n",
        "tokenizer.index_word[0] = '<pad>'\n",
        "\n",
        "WV_DICTIONARY = tokenizer.word_index\n",
        "\n",
        "WV_DICTIONARY_SIZE = len(WV_DICTIONARY)\n",
        "print(WV_DICTIONARY_SIZE) # Lihat kata unik pada dictionary yang dihasilkan"
      ]
    },
    {
      "cell_type": "markdown",
      "id": "afe05251-9fb7-4a86-94b0-869f4444b2f6",
      "metadata": {
        "id": "afe05251-9fb7-4a86-94b0-869f4444b2f6"
      },
      "source": [
        "## Text To Sequence"
      ]
    },
    {
      "cell_type": "code",
      "execution_count": 22,
      "id": "80f209a0-4faf-44d6-bf92-ed5ec139ea37",
      "metadata": {
        "id": "80f209a0-4faf-44d6-bf92-ed5ec139ea37"
      },
      "outputs": [],
      "source": [
        "# Proses mengubah token menjadi urutan bilangan int berdasarkan dictionary.\n",
        "data_seq = tokenizer.texts_to_sequences(df['tweet'])"
      ]
    },
    {
      "cell_type": "code",
      "execution_count": 23,
      "id": "b2d087a4-35a8-4429-b8b5-2cb18357ca4b",
      "metadata": {
        "id": "b2d087a4-35a8-4429-b8b5-2cb18357ca4b",
        "colab": {
          "base_uri": "https://localhost:8080/"
        },
        "outputId": "c794f9de-2964-4b54-b939-9edca2a3523b"
      },
      "outputs": [
        {
          "output_type": "stream",
          "name": "stdout",
          "text": [
            "apalagi yg jualan spotify premium banyak banget lamalama bikin risih\n",
            "[1, 3, 1, 1, 1, 62, 31, 1, 56, 50]\n"
          ]
        }
      ],
      "source": [
        "print(df['tweet'][10])\n",
        "print(data_seq[10])"
      ]
    },
    {
      "cell_type": "markdown",
      "id": "7182169c-1be1-4f76-aa94-71e93eac77fc",
      "metadata": {
        "id": "7182169c-1be1-4f76-aa94-71e93eac77fc"
      },
      "source": [
        "## Add padding & Truncation"
      ]
    },
    {
      "cell_type": "code",
      "execution_count": 24,
      "id": "a4c16583-8e21-4a66-a07b-0a6b4caef10e",
      "metadata": {
        "id": "a4c16583-8e21-4a66-a07b-0a6b4caef10e"
      },
      "outputs": [],
      "source": [
        "# Proses mengubah data dari sequence menjadi array bentuk 2D Numpy (num_samples, num_timesteps). \n",
        "PADDING = 'post'        # Berikan padding untuk setiap sequences. Terdapat dua pilihan dalam melakukan padding 'pre' or 'post'.\n",
        "TRUNCATING = 'post'     # Menghapus token dari sequences yang lebih besar dari max_lenght. Terdapat dua pilihan dalam melakukan truncanting 'pre' or 'post'.\n",
        "\n",
        "data_pad = pad_sequences(data_seq, maxlen=MAX_SEQ_LENGTH, padding=PADDING, truncating=TRUNCATING)"
      ]
    },
    {
      "cell_type": "code",
      "execution_count": 25,
      "id": "59c1587a-a2eb-48db-92a2-7f8ca3003bfe",
      "metadata": {
        "id": "59c1587a-a2eb-48db-92a2-7f8ca3003bfe",
        "colab": {
          "base_uri": "https://localhost:8080/"
        },
        "outputId": "5a5d821d-8b1a-4d73-9a8c-0e2e5c3dfa1f"
      },
      "outputs": [
        {
          "output_type": "stream",
          "name": "stdout",
          "text": [
            "apalagi yg jualan spotify premium banyak banget lamalama bikin risih\n",
            "[1, 3, 1, 1, 1, 62, 31, 1, 56, 50]\n",
            "[ 1  3  1  1  1 62 31  1 56 50  0  0  0  0  0  0  0  0  0  0  0  0  0  0\n",
            "  0  0  0  0  0  0  0  0  0  0  0  0  0  0  0  0  0  0  0  0  0  0  0  0\n",
            "  0  0  0  0  0  0  0  0  0  0  0  0  0  0  0  0  0  0  0  0  0  0  0  0\n",
            "  0  0  0  0  0  0  0  0]\n"
          ]
        }
      ],
      "source": [
        "print(df['tweet'][10])\n",
        "print(data_seq[10])\n",
        "print(data_pad[10])"
      ]
    },
    {
      "cell_type": "code",
      "execution_count": 26,
      "id": "d4ab9d67-1fbc-4031-80dd-ad3df3768b92",
      "metadata": {
        "id": "d4ab9d67-1fbc-4031-80dd-ad3df3768b92",
        "colab": {
          "base_uri": "https://localhost:8080/"
        },
        "outputId": "66b71e15-a994-4d05-a89c-1eee1160b79f"
      },
      "outputs": [
        {
          "output_type": "execute_result",
          "data": {
            "text/plain": [
              "(2243, 80)"
            ]
          },
          "metadata": {},
          "execution_count": 26
        }
      ],
      "source": [
        "data_pad.shape"
      ]
    },
    {
      "cell_type": "markdown",
      "id": "d6dad3ff-1bea-488b-a240-e66adaedc29d",
      "metadata": {
        "id": "d6dad3ff-1bea-488b-a240-e66adaedc29d"
      },
      "source": [
        "## Create Embedding Matrix"
      ]
    },
    {
      "cell_type": "code",
      "execution_count": 27,
      "id": "3e4548d2-3d62-4ac6-9660-5640f8c38599",
      "metadata": {
        "id": "3e4548d2-3d62-4ac6-9660-5640f8c38599"
      },
      "outputs": [],
      "source": [
        "EMBEDDING_MATRIX = np.zeros(shape=(WV_DICTIONARY_SIZE, EMBEDDING_SIZE))\n",
        "\n",
        "for word, i in tokenizer.word_index.items():\n",
        "    embed_vector = word2vec_dict.get(word)\n",
        "    if embed_vector is not None:               # Word is in the vocabulary learned by the w2v model\n",
        "        EMBEDDING_MATRIX[i] = embed_vector"
      ]
    },
    {
      "cell_type": "code",
      "execution_count": 28,
      "id": "24bb1134-d5db-4e75-9ca8-8f4c8f73f4e4",
      "metadata": {
        "id": "24bb1134-d5db-4e75-9ca8-8f4c8f73f4e4",
        "colab": {
          "base_uri": "https://localhost:8080/"
        },
        "outputId": "7c204177-a959-489c-a27d-33278f106040"
      },
      "outputs": [
        {
          "output_type": "stream",
          "name": "stdout",
          "text": [
            "33\n"
          ]
        }
      ],
      "source": [
        "print(WV_DICTIONARY.get('saya'))"
      ]
    },
    {
      "cell_type": "code",
      "execution_count": 29,
      "id": "bc0d7357-a633-4b3a-a39c-badca10dc53f",
      "metadata": {
        "id": "bc0d7357-a633-4b3a-a39c-badca10dc53f",
        "colab": {
          "base_uri": "https://localhost:8080/"
        },
        "outputId": "23fd324d-037d-43f6-c822-2d81c49fc47a"
      },
      "outputs": [
        {
          "output_type": "stream",
          "name": "stdout",
          "text": [
            "[ 6.75812364e-02  3.39518279e-01  6.94608688e-02  1.08271278e-01\n",
            "  1.84022978e-01  2.96562672e-01 -3.81502330e-01 -7.48222927e-03\n",
            " -5.04919551e-02  3.02928448e-01  5.22191189e-02 -2.57855028e-01\n",
            "  1.76260576e-01 -2.95605093e-01  5.10009564e-02  9.88978893e-02\n",
            "  1.09668925e-01  5.35296239e-02  1.47750810e-01  7.39202425e-02\n",
            "  1.20023735e-01  2.78929565e-02 -1.75464317e-01  5.84843606e-02\n",
            " -1.29706413e-01  2.33775795e-01 -1.74707830e-01 -3.06156307e-01\n",
            "  7.74664758e-03  2.63089431e-04 -9.33890715e-02  2.00929791e-01\n",
            " -2.58651257e-01  2.62702890e-02 -3.12812150e-01  2.62490362e-01\n",
            " -2.10357904e-01  2.22268179e-02 -2.14812100e-01 -1.54625580e-01\n",
            "  9.13467333e-02 -9.37793124e-03  3.34161341e-01 -1.13048732e-01\n",
            " -1.24602979e-02 -1.20885760e-01  2.13201474e-02 -1.00332431e-01\n",
            " -3.38982701e-01 -1.98508427e-01 -3.51027101e-01 -5.86017873e-03\n",
            "  2.66471714e-01  4.42226091e-03  1.40483379e-01 -3.51466030e-01\n",
            "  9.05994326e-03 -1.54891640e-01  9.23953503e-02 -2.44809806e-01\n",
            "  4.39220399e-01  8.01375210e-02 -2.25704089e-01  3.09850484e-01\n",
            " -2.86513627e-01  4.57599238e-02  3.93176638e-02 -1.02670237e-01\n",
            "  4.12075281e-01 -1.70392931e-01  2.50932068e-01 -3.39006521e-02\n",
            "  4.41575855e-01 -3.42951119e-01 -1.20450109e-01  4.70697552e-01\n",
            "  1.52374923e-01  2.92086661e-01  2.51798034e-01  5.02172038e-02\n",
            " -2.62133151e-01 -1.36651397e-01  1.52262300e-01  1.14801876e-01\n",
            "  9.83074158e-02  3.22206557e-01 -4.48511504e-02  4.62329760e-02\n",
            "  1.40304938e-01 -8.19572583e-02 -4.01723571e-02 -8.45048949e-03\n",
            " -9.15889144e-02 -1.44173190e-01 -1.85628027e-01  9.14694145e-02\n",
            " -2.56502777e-01  1.74113601e-01 -7.58863464e-02  2.03401938e-01\n",
            " -3.94228578e-01  1.83377303e-02 -3.68034959e-01  2.43702248e-01\n",
            " -1.77856967e-01  1.27699941e-01  1.07942991e-01 -1.68931186e-01\n",
            "  4.57269430e-01  1.15296640e-01 -1.15803681e-01 -2.15125084e-01\n",
            " -1.00316949e-01 -7.45920315e-02  2.03192964e-01 -9.71991569e-03\n",
            "  1.67199388e-01  1.25864044e-01  1.71075568e-01  3.72243375e-01\n",
            " -2.74318486e-01 -3.88747633e-01  4.39098358e-01 -2.44922951e-01\n",
            " -1.68180868e-01  2.03411594e-01  5.98781407e-02  9.76161286e-02\n",
            "  1.27953246e-01  4.45722312e-01  7.30838701e-02 -2.79303014e-01\n",
            " -1.32367864e-01  1.68445498e-01  1.64392870e-02  3.06428105e-01\n",
            " -2.61812717e-01  1.05627231e-01 -9.90507752e-02  2.22651899e-01\n",
            "  2.04031006e-01 -8.52899160e-04 -2.63430155e-03  1.92919061e-01\n",
            " -1.61721215e-01  8.45283829e-03  8.00193474e-02 -2.85557747e-01\n",
            "  9.71635208e-02 -8.57655481e-02 -4.58929762e-02 -1.51269257e-01\n",
            "  2.25736737e-01 -4.31535318e-02  1.62760559e-02 -3.84262890e-01\n",
            "  1.37978479e-01  1.06739007e-01 -5.20601496e-02 -2.22148672e-01\n",
            "  1.86245173e-01  1.51300281e-01 -1.19226180e-01  9.37955156e-02\n",
            " -1.67774051e-01 -7.33065531e-02 -1.46726474e-01 -4.65839326e-01\n",
            "  7.25259781e-02  5.96994646e-02 -3.87644202e-01 -2.27806225e-01\n",
            " -7.61700049e-02  6.41782880e-02  1.08431831e-01  1.54653579e-01\n",
            "  8.81231502e-02 -2.39795912e-02 -2.51622319e-01 -3.60191357e-03\n",
            " -4.15692478e-01 -1.52360238e-02 -5.28206117e-02 -1.88392594e-01\n",
            "  1.43469051e-02  8.15131962e-02  8.48577172e-02  1.17757849e-01\n",
            "  3.67168427e-01 -3.61812592e-01  3.05261105e-01  4.09349333e-03\n",
            "  2.47685418e-01 -1.22557715e-01 -1.58722550e-01 -1.92475557e-01\n",
            " -2.15530977e-01  1.66810095e-01  2.10859384e-02 -8.80877376e-02\n",
            " -1.74472004e-01 -2.85018176e-01  6.14557862e-01 -2.59335041e-02\n",
            "  3.27062868e-02  3.52383442e-02 -1.55706376e-01 -2.68232703e-01\n",
            " -1.20821275e-01 -2.87444554e-02 -1.96947068e-01  2.01252475e-01\n",
            "  8.11523423e-02  3.24960649e-01 -2.50925273e-02  2.72729737e-03\n",
            "  2.24925190e-01 -7.58619700e-03  1.96992338e-01  4.75781485e-02\n",
            "  3.42221856e-01 -3.78625780e-01  1.13122970e-01 -2.81907097e-02\n",
            " -1.75136894e-01 -3.66925716e-01 -1.20041341e-01 -3.77299339e-01\n",
            "  1.67003915e-01  2.69479603e-01  3.95874977e-02 -4.16219264e-01\n",
            " -1.02801025e-01  2.23842949e-01  2.14919895e-01 -4.06679183e-01\n",
            "  1.00112334e-01  1.76327631e-01  2.27004334e-01  2.01104909e-01\n",
            " -2.07061335e-01  2.12658718e-01 -1.13839701e-01 -1.32903606e-02\n",
            "  2.65301079e-01 -4.32400286e-01 -4.03120816e-01  4.37718481e-01\n",
            "  3.13041061e-01  6.82858765e-01 -7.47478232e-02  8.26997086e-02\n",
            " -1.25071317e-01  5.08751310e-02 -2.75102884e-01 -1.32645760e-02\n",
            "  1.38492137e-01  4.00138348e-01 -2.87767023e-01 -1.74441367e-01\n",
            "  1.15126871e-01  2.08198264e-01  5.66074774e-02  1.88356593e-01\n",
            "  6.68884143e-02 -9.32007059e-02  7.49563798e-02 -1.78256646e-01\n",
            "  1.83663130e-01  2.17169195e-01  1.11877985e-01  3.40864174e-02\n",
            " -2.08516017e-01 -2.70332158e-01 -2.97827236e-02 -2.24968102e-02\n",
            "  3.28406483e-01 -1.02162667e-01  9.46469009e-02 -4.08658236e-02\n",
            "  1.06695108e-01  2.82374471e-01 -3.56231749e-01  3.53536993e-01\n",
            " -6.73090294e-02 -2.83245035e-02 -3.70086879e-02 -6.19558655e-02\n",
            " -2.29436919e-01  4.85238314e-01 -5.59608757e-01  9.41788182e-02\n",
            " -4.40837681e-01  1.01797298e-01 -3.35491329e-01 -7.74130151e-02\n",
            "  2.63561934e-01  2.30056625e-02  3.39783251e-01 -2.82676697e-01]\n"
          ]
        }
      ],
      "source": [
        "print(EMBEDDING_MATRIX[33])"
      ]
    },
    {
      "cell_type": "code",
      "source": [
        "EMBEDDING_MATRIX.shape"
      ],
      "metadata": {
        "id": "7BTbLj8F5yyL",
        "colab": {
          "base_uri": "https://localhost:8080/"
        },
        "outputId": "5f78d6c4-a939-44b9-c618-5b38c5c6735f"
      },
      "id": "7BTbLj8F5yyL",
      "execution_count": 30,
      "outputs": [
        {
          "output_type": "execute_result",
          "data": {
            "text/plain": [
              "(8831, 300)"
            ]
          },
          "metadata": {},
          "execution_count": 30
        }
      ]
    },
    {
      "cell_type": "markdown",
      "id": "b64e75c2-f657-4e8d-998b-84ddebe4317a",
      "metadata": {
        "id": "b64e75c2-f657-4e8d-998b-84ddebe4317a"
      },
      "source": [
        "# 07 Train & Test Data Splitting"
      ]
    },
    {
      "cell_type": "code",
      "execution_count": 31,
      "id": "24fc5d77-1f3d-40cd-8384-f2e22fbe4858",
      "metadata": {
        "id": "24fc5d77-1f3d-40cd-8384-f2e22fbe4858"
      },
      "outputs": [],
      "source": [
        "NUM_CLASS = len(df['label_encode'].unique())\n",
        "\n",
        "Y = to_categorical(df['label_encode'], num_classes=NUM_CLASS)  # Lakukan one-hot encoding pada label (y)"
      ]
    },
    {
      "cell_type": "code",
      "execution_count": 32,
      "id": "0761adda-6df1-466b-ad04-c1c43459ff21",
      "metadata": {
        "id": "0761adda-6df1-466b-ad04-c1c43459ff21",
        "colab": {
          "base_uri": "https://localhost:8080/"
        },
        "outputId": "b61cb050-7634-46d1-af59-4194af8ee3a4"
      },
      "outputs": [
        {
          "output_type": "execute_result",
          "data": {
            "text/plain": [
              "((1794, 80), (449, 80), (1794, 6), (449, 6))"
            ]
          },
          "metadata": {},
          "execution_count": 32
        }
      ],
      "source": [
        "X_train, X_test, y_train, y_test = train_test_split(data_pad, Y, test_size=0.20, stratify=Y, random_state=SEED)\n",
        "X_train.shape, X_test.shape, y_train.shape, y_test.shape"
      ]
    },
    {
      "cell_type": "markdown",
      "id": "af13d223-d8c9-43ac-9c2d-8352f980f022",
      "metadata": {
        "id": "af13d223-d8c9-43ac-9c2d-8352f980f022"
      },
      "source": [
        "# 08 Define Model (Bidirectional LSTM)"
      ]
    },
    {
      "cell_type": "markdown",
      "source": [
        "## Architecture"
      ],
      "metadata": {
        "id": "HL4PZ8cdQb1P"
      },
      "id": "HL4PZ8cdQb1P"
    },
    {
      "cell_type": "code",
      "execution_count": 33,
      "id": "aff3f131-58dc-4207-b051-e9b2f67b8f38",
      "metadata": {
        "id": "aff3f131-58dc-4207-b051-e9b2f67b8f38"
      },
      "outputs": [],
      "source": [
        "# https://www.tensorflow.org/api_docs/python/tf/keras/layers/Bidirectional\n",
        "# https://www.tensorflow.org/api_docs/python/tf/keras/layers/LSTM\n",
        "\n",
        "UNITS = 64\n",
        "\n",
        "tf.keras.backend.clear_session()\n",
        "\n",
        "model = Sequential()\n",
        "model.add(Embedding(\n",
        "    input_dim = WV_DICTIONARY_SIZE,                                \n",
        "    output_dim = EMBEDDING_SIZE,                           \n",
        "    input_length = MAX_SEQ_LENGTH,  \n",
        "    trainable = False,\n",
        "    embeddings_initializer=Constant(EMBEDDING_MATRIX)))\n",
        "model.add(Bidirectional(LSTM(UNITS*2, dropout=0.5, return_sequences=False)))\n",
        "model.add(Dense(UNITS, activation='relu'))\n",
        "model.add(Dropout(0.5))\n",
        "model.add(Dense(NUM_CLASS, activation='softmax'))"
      ]
    },
    {
      "cell_type": "code",
      "execution_count": 34,
      "id": "512cae56-10ae-4c03-8aee-2706eb27632f",
      "metadata": {
        "id": "512cae56-10ae-4c03-8aee-2706eb27632f",
        "colab": {
          "base_uri": "https://localhost:8080/"
        },
        "outputId": "b5bf526c-35d5-4321-ec4c-9a8b5b9cdba5"
      },
      "outputs": [
        {
          "output_type": "stream",
          "name": "stdout",
          "text": [
            "Model: \"sequential\"\n",
            "_________________________________________________________________\n",
            " Layer (type)                Output Shape              Param #   \n",
            "=================================================================\n",
            " embedding (Embedding)       (None, 80, 300)           2649300   \n",
            "                                                                 \n",
            " bidirectional (Bidirectiona  (None, 256)              439296    \n",
            " l)                                                              \n",
            "                                                                 \n",
            " dense (Dense)               (None, 64)                16448     \n",
            "                                                                 \n",
            " dropout (Dropout)           (None, 64)                0         \n",
            "                                                                 \n",
            " dense_1 (Dense)             (None, 6)                 390       \n",
            "                                                                 \n",
            "=================================================================\n",
            "Total params: 3,105,434\n",
            "Trainable params: 456,134\n",
            "Non-trainable params: 2,649,300\n",
            "_________________________________________________________________\n"
          ]
        }
      ],
      "source": [
        "model.summary()"
      ]
    },
    {
      "cell_type": "code",
      "source": [
        "plot_model(model, show_shapes=True, show_layer_activations=True, show_dtype=False, dpi=90, to_file=f'{FOLDER_PATH}/model-plot/{MODEL}-model.png')"
      ],
      "metadata": {
        "id": "nkvBqETlErwO",
        "colab": {
          "base_uri": "https://localhost:8080/",
          "height": 605
        },
        "outputId": "bf84b7c3-c6ff-4e39-aa99-d9016fca2a22"
      },
      "id": "nkvBqETlErwO",
      "execution_count": 35,
      "outputs": [
        {
          "output_type": "execute_result",
          "data": {
            "text/plain": [
              "<IPython.core.display.Image object>"
            ],
            "image/png": "[encoded data removed]"
          },
          "metadata": {},
          "execution_count": 35
        }
      ]
    },
    {
      "cell_type": "markdown",
      "source": [
        "## Compile"
      ],
      "metadata": {
        "id": "wgQN-l4rQgRq"
      },
      "id": "wgQN-l4rQgRq"
    },
    {
      "cell_type": "code",
      "source": [
        "# https://www.tensorflow.org/api_docs/python/tf/keras/metrics\n",
        "\n",
        "METRICS = [\n",
        "           tf.keras.metrics.CategoricalAccuracy(name='accuracy'),\n",
        "           tf.keras.metrics.Precision(name='precision'),\n",
        "           tf.keras.metrics.Recall(name='recall'),\n",
        "]\n",
        "\n",
        "LEARNING_RATE = 0.001"
      ],
      "metadata": {
        "id": "yUGUBXv8hPUu"
      },
      "id": "yUGUBXv8hPUu",
      "execution_count": 36,
      "outputs": []
    },
    {
      "cell_type": "code",
      "execution_count": 37,
      "id": "3fd3ef04-ea26-4988-a4fb-0cd63be04a11",
      "metadata": {
        "id": "3fd3ef04-ea26-4988-a4fb-0cd63be04a11"
      },
      "outputs": [],
      "source": [
        "OPTIMIZER = Adam(learning_rate=LEARNING_RATE)\n",
        "LOSS_FUNCTION = CategoricalCrossentropy(name='categorical_crossentropy')\n",
        "\n",
        "model.compile(loss=LOSS_FUNCTION, optimizer=OPTIMIZER, metrics=METRICS)"
      ]
    },
    {
      "cell_type": "markdown",
      "id": "ac8708d7-5d3f-49b6-b28a-5a4969e160f1",
      "metadata": {
        "id": "ac8708d7-5d3f-49b6-b28a-5a4969e160f1"
      },
      "source": [
        "# 09 Early Stopping & Model Checkpoint"
      ]
    },
    {
      "cell_type": "code",
      "execution_count": 38,
      "id": "14a556fb-a4fa-46c2-85b2-f1d7731ac148",
      "metadata": {
        "id": "14a556fb-a4fa-46c2-85b2-f1d7731ac148"
      },
      "outputs": [],
      "source": [
        "# Early stopping criteria\n",
        "early_stopping = EarlyStopping(monitor='val_loss', mode='auto', verbose=1, patience=5)\n",
        "\n",
        "# Path to model checkpoint\n",
        "checkpoint_dir = f'{FOLDER_PATH}/model-checkpoint/{MODEL}/cp.ckpt'\n",
        "model_checkpoint = ModelCheckpoint(checkpoint_dir, monitor='val_accuracy', save_weights_only=True, verbose=1, save_freq='epoch', save_best_only=True)"
      ]
    },
    {
      "cell_type": "code",
      "source": [
        "# Path to model log\n",
        "log_dir = f'{FOLDER_PATH}/model-log/{MODEL}/' + datetime.datetime.now().strftime('%Y%m%d-%H%M%S')\n",
        "print(log_dir)"
      ],
      "metadata": {
        "id": "SfBzZKiLA7k5",
        "colab": {
          "base_uri": "https://localhost:8080/"
        },
        "outputId": "7564fc08-326e-493c-a102-8335905c6293"
      },
      "id": "SfBzZKiLA7k5",
      "execution_count": 39,
      "outputs": [
        {
          "output_type": "stream",
          "name": "stdout",
          "text": [
            "model-baseline-bilstm/model-log/id-wiki-word2vec-bilstm/20220715-173000\n"
          ]
        }
      ]
    },
    {
      "cell_type": "code",
      "execution_count": 40,
      "id": "4000c916-de1c-4eb8-86c4-9118bb24888e",
      "metadata": {
        "id": "4000c916-de1c-4eb8-86c4-9118bb24888e"
      },
      "outputs": [],
      "source": [
        "tensorboard_callback = TensorBoard(log_dir=log_dir ,update_freq='epoch', histogram_freq=1, embeddings_freq=1)"
      ]
    },
    {
      "cell_type": "markdown",
      "id": "345bb69d-1998-4891-ae17-47932870a21d",
      "metadata": {
        "id": "345bb69d-1998-4891-ae17-47932870a21d"
      },
      "source": [
        "# 10 Training"
      ]
    },
    {
      "cell_type": "code",
      "execution_count": 41,
      "id": "bdd7ff34-3e39-4c62-a25d-af2b1e1e35e7",
      "metadata": {
        "id": "bdd7ff34-3e39-4c62-a25d-af2b1e1e35e7"
      },
      "outputs": [],
      "source": [
        "EPOCHS = 10\n",
        "BATCH_SIZE = 16\n",
        "\n",
        "# Config for wandb\n",
        "config = {\n",
        "    'type': 'baseline',\n",
        "    'model_architecture': 'BiLSTM',\n",
        "    'word_embedding': 'Word2Vec-ID-wiki-300',\n",
        "    'dataset': 'indo-tweet-emotion',\n",
        "    'learning_rate': LEARNING_RATE,\n",
        "    'batch_size': BATCH_SIZE,\n",
        "    'epochs': EPOCHS,\n",
        "    'loss_function': LOSS_FUNCTION.name,\n",
        "    'optimizer': OPTIMIZER._name\n",
        "}"
      ]
    },
    {
      "cell_type": "code",
      "execution_count": 42,
      "id": "50c487c3-da7b-4161-8e63-f8edc3ee6a44",
      "metadata": {
        "tags": [],
        "id": "50c487c3-da7b-4161-8e63-f8edc3ee6a44",
        "colab": {
          "base_uri": "https://localhost:8080/",
          "height": 964,
          "referenced_widgets": [
            "c50216f6d7b34f96a2645bec43afb186",
            "65b11f8253484a4cb88d589393ad3dbb",
            "2d95f5e39bf24ba79c845fd831a5e709",
            "69a674bf78934dc6a07f8c790f1abd10",
            "de754d337fd44024b83bbcf660db3798",
            "2030bff3f7f340fd93050e353bf57308",
            "ee6eff14814b4e4194c79aef34038558",
            "5739bf877f06460fb87ee1ae48c82b7b"
          ]
        },
        "outputId": "e38ba54b-8072-4a9c-a4fb-59868475738b"
      },
      "outputs": [
        {
          "output_type": "stream",
          "name": "stderr",
          "text": [
            "\u001b[34m\u001b[1mwandb\u001b[0m: Currently logged in as: \u001b[33mindoemobert\u001b[0m. Use \u001b[1m`wandb login --relogin`\u001b[0m to force relogin\n"
          ]
        },
        {
          "output_type": "display_data",
          "data": {
            "text/plain": [
              "<IPython.core.display.HTML object>"
            ],
            "text/html": [
              "Tracking run with wandb version 0.12.21"
            ]
          },
          "metadata": {}
        },
        {
          "output_type": "display_data",
          "data": {
            "text/plain": [
              "<IPython.core.display.HTML object>"
            ],
            "text/html": [
              "Run data is saved locally in <code>/content/drive/MyDrive/Code/tesis/wandb/run-20220715_173002-foxx1ia7</code>"
            ]
          },
          "metadata": {}
        },
        {
          "output_type": "display_data",
          "data": {
            "text/plain": [
              "<IPython.core.display.HTML object>"
            ],
            "text/html": [
              "Syncing run <strong><a href=\"https://wandb.ai/indoemobert/baseline-bilstm/runs/foxx1ia7\" target=\"_blank\">id-wiki-word2vec-bilstm</a></strong> to <a href=\"https://wandb.ai/indoemobert/baseline-bilstm\" target=\"_blank\">Weights & Biases</a> (<a href=\"https://wandb.me/run\" target=\"_blank\">docs</a>)<br/>"
            ]
          },
          "metadata": {}
        },
        {
          "output_type": "stream",
          "name": "stdout",
          "text": [
            "WARNING:tensorflow:From /usr/local/lib/python3.7/dist-packages/tensorflow/python/profiler/internal/flops_registry.py:138: tensor_shape_from_node_def_name (from tensorflow.python.framework.graph_util_impl) is deprecated and will be removed in a future version.\n",
            "Instructions for updating:\n",
            "Use `tf.compat.v1.graph_util.tensor_shape_from_node_def_name`\n",
            "Epoch 1/10\n",
            "113/113 [==============================] - 15s 60ms/step - loss: 1.6805 - accuracy: 0.3082 - precision: 0.7778 - recall: 0.0156 - val_loss: 1.3103 - val_accuracy: 0.5924 - val_precision: 0.8696 - val_recall: 0.1782 - _timestamp: 1657906223.0000 - _runtime: 21.0000\n",
            "Epoch 2/10\n",
            "113/113 [==============================] - 3s 25ms/step - loss: 1.2272 - accuracy: 0.5725 - precision: 0.7897 - recall: 0.2910 - val_loss: 0.8174 - val_accuracy: 0.7661 - val_precision: 0.9014 - val_recall: 0.5902 - _timestamp: 1657906226.0000 - _runtime: 24.0000\n",
            "Epoch 3/10\n",
            "113/113 [==============================] - 3s 25ms/step - loss: 0.9527 - accuracy: 0.7062 - precision: 0.8131 - recall: 0.5385 - val_loss: 0.6909 - val_accuracy: 0.8129 - val_precision: 0.8358 - val_recall: 0.7595 - _timestamp: 1657906229.0000 - _runtime: 27.0000\n",
            "Epoch 4/10\n",
            "113/113 [==============================] - 3s 25ms/step - loss: 0.8126 - accuracy: 0.7525 - precision: 0.8326 - recall: 0.6377 - val_loss: 0.6543 - val_accuracy: 0.8352 - val_precision: 0.8898 - val_recall: 0.7194 - _timestamp: 1657906232.0000 - _runtime: 30.0000\n",
            "Epoch 5/10\n",
            "113/113 [==============================] - 3s 29ms/step - loss: 0.7521 - accuracy: 0.7781 - precision: 0.8385 - recall: 0.6828 - val_loss: 0.5727 - val_accuracy: 0.8463 - val_precision: 0.8694 - val_recall: 0.8151 - _timestamp: 1657906235.0000 - _runtime: 33.0000\n",
            "Epoch 6/10\n",
            "113/113 [==============================] - 3s 27ms/step - loss: 0.6967 - accuracy: 0.7943 - precision: 0.8469 - recall: 0.7274 - val_loss: 0.6472 - val_accuracy: 0.8330 - val_precision: 0.8530 - val_recall: 0.7884 - _timestamp: 1657906238.0000 - _runtime: 36.0000\n",
            "Epoch 7/10\n",
            "113/113 [==============================] - 3s 25ms/step - loss: 0.6629 - accuracy: 0.7954 - precision: 0.8404 - recall: 0.7397 - val_loss: 0.6003 - val_accuracy: 0.8330 - val_precision: 0.8675 - val_recall: 0.8018 - _timestamp: 1657906241.0000 - _runtime: 39.0000\n",
            "Epoch 8/10\n",
            "113/113 [==============================] - 3s 25ms/step - loss: 0.6343 - accuracy: 0.8077 - precision: 0.8611 - recall: 0.7531 - val_loss: 0.5886 - val_accuracy: 0.8396 - val_precision: 0.8759 - val_recall: 0.8018 - _timestamp: 1657906244.0000 - _runtime: 42.0000\n",
            "Epoch 9/10\n",
            "113/113 [==============================] - 3s 25ms/step - loss: 0.6009 - accuracy: 0.8149 - precision: 0.8592 - recall: 0.7586 - val_loss: 0.5724 - val_accuracy: 0.8463 - val_precision: 0.8756 - val_recall: 0.7996 - _timestamp: 1657906246.0000 - _runtime: 44.0000\n",
            "Epoch 10/10\n",
            "113/113 [==============================] - 3s 25ms/step - loss: 0.6185 - accuracy: 0.8060 - precision: 0.8520 - recall: 0.7542 - val_loss: 0.6080 - val_accuracy: 0.8285 - val_precision: 0.8438 - val_recall: 0.8062 - _timestamp: 1657906249.0000 - _runtime: 47.0000\n"
          ]
        },
        {
          "output_type": "display_data",
          "data": {
            "text/plain": [
              "<IPython.core.display.HTML object>"
            ],
            "text/html": [
              "Waiting for W&B process to finish... <strong style=\"color:green\">(success).</strong>"
            ]
          },
          "metadata": {}
        },
        {
          "output_type": "display_data",
          "data": {
            "text/plain": [
              "VBox(children=(Label(value='0.001 MB of 0.001 MB uploaded (0.000 MB deduped)\\r'), FloatProgress(value=1.0, max…"
            ],
            "application/vnd.jupyter.widget-view+json": {
              "version_major": 2,
              "version_minor": 0,
              "model_id": "c50216f6d7b34f96a2645bec43afb186"
            }
          },
          "metadata": {}
        },
        {
          "output_type": "display_data",
          "data": {
            "text/plain": [
              "<IPython.core.display.HTML object>"
            ],
            "text/html": [
              "<style>\n",
              "    table.wandb td:nth-child(1) { padding: 0 10px; text-align: left ; width: auto;} td:nth-child(2) {text-align: left ; width: 100%}\n",
              "    .wandb-row { display: flex; flex-direction: row; flex-wrap: wrap; justify-content: flex-start; width: 100% }\n",
              "    .wandb-col { display: flex; flex-direction: column; flex-basis: 100%; flex: 1; padding: 10px; }\n",
              "    </style>\n",
              "<div class=\"wandb-row\"><div class=\"wandb-col\"><h3>Run history:</h3><br/><table class=\"wandb\"><tr><td>accuracy</td><td>▁▅▆▇▇█████</td></tr><tr><td>epoch</td><td>▁▂▃▃▄▅▆▆▇█</td></tr><tr><td>loss</td><td>█▅▃▂▂▂▁▁▁▁</td></tr><tr><td>precision</td><td>▁▂▄▆▆▇▆██▇</td></tr><tr><td>recall</td><td>▁▄▆▇▇█████</td></tr><tr><td>val_accuracy</td><td>▁▆▇███████</td></tr><tr><td>val_loss</td><td>█▃▂▂▁▂▁▁▁▁</td></tr><tr><td>val_precision</td><td>▅█▁▇▅▃▄▅▅▂</td></tr><tr><td>val_recall</td><td>▁▆▇▇██████</td></tr></table><br/></div><div class=\"wandb-col\"><h3>Run summary:</h3><br/><table class=\"wandb\"><tr><td>GFLOPS</td><td>4e-05</td></tr><tr><td>accuracy</td><td>0.80602</td></tr><tr><td>best_epoch</td><td>8</td></tr><tr><td>best_val_loss</td><td>0.57239</td></tr><tr><td>epoch</td><td>9</td></tr><tr><td>loss</td><td>0.61852</td></tr><tr><td>precision</td><td>0.85202</td></tr><tr><td>recall</td><td>0.75418</td></tr><tr><td>val_accuracy</td><td>0.82851</td></tr><tr><td>val_loss</td><td>0.60799</td></tr><tr><td>val_precision</td><td>0.84382</td></tr><tr><td>val_recall</td><td>0.80624</td></tr></table><br/></div></div>"
            ]
          },
          "metadata": {}
        },
        {
          "output_type": "display_data",
          "data": {
            "text/plain": [
              "<IPython.core.display.HTML object>"
            ],
            "text/html": [
              "Synced <strong style=\"color:#cdcd00\">id-wiki-word2vec-bilstm</strong>: <a href=\"https://wandb.ai/indoemobert/baseline-bilstm/runs/foxx1ia7\" target=\"_blank\">https://wandb.ai/indoemobert/baseline-bilstm/runs/foxx1ia7</a><br/>Synced 5 W&B file(s), 1 media file(s), 0 artifact file(s) and 0 other file(s)"
            ]
          },
          "metadata": {}
        },
        {
          "output_type": "display_data",
          "data": {
            "text/plain": [
              "<IPython.core.display.HTML object>"
            ],
            "text/html": [
              "Find logs at: <code>./wandb/run-20220715_173002-foxx1ia7/logs</code>"
            ]
          },
          "metadata": {}
        },
        {
          "output_type": "stream",
          "name": "stdout",
          "text": [
            "CPU times: user 46.5 s, sys: 4.79 s, total: 51.3 s\n",
            "Wall time: 56.8 s\n"
          ]
        }
      ],
      "source": [
        "%%time\n",
        "\n",
        "# Initialize wandb \n",
        "wandb.tensorboard.patch(root_logdir=log_dir)\n",
        "wandb_run = wandb.init(project='baseline-bilstm', name=f'{MODEL}', entity='indoemobert', config=config, sync_tensorboard=True)\n",
        "\n",
        "# Training\n",
        "model_history = model.fit(\n",
        "    X_train, \n",
        "    y_train, \n",
        "    epochs=EPOCHS,\n",
        "    batch_size=BATCH_SIZE, \n",
        "    validation_data=(X_test, y_test), \n",
        "    verbose=1, \n",
        "    steps_per_epoch=int(np.ceil(X_train.shape[0] / BATCH_SIZE)),\n",
        "    callbacks=[\n",
        "        # early_stopping, \n",
        "        # model_checkpoint,\n",
        "        # tensorboard_callback,\n",
        "        WandbCallback(\n",
        "            input_type='text',\n",
        "            training_data=(X_train, y_train),\n",
        "            validation_data=(X_test, y_test),\n",
        "            labels=LABEL_NAME,\n",
        "            monitor='val_loss',\n",
        "            log_best_prefix='best_',\n",
        "            log_gradients=True,\n",
        "            log_weights=True,\n",
        "            save_weights_only=True,\n",
        "            save_model=False\n",
        "        )]\n",
        ")\n",
        "\n",
        "wandb_run.finish()"
      ]
    },
    {
      "cell_type": "code",
      "source": [
        "def plot_metrics(history):\n",
        "  metrics = ['loss', 'accuracy', 'precision', 'recall']\n",
        "  plt.figure(figsize=(12, 10))\n",
        "  for n, metric in enumerate(metrics):\n",
        "    name = metric.replace('_',' ').capitalize()\n",
        "    plt.subplot(2,2,n+1)\n",
        "    plt.plot(history.epoch, history.history[metric], color=colors[0], label='Train')\n",
        "    plt.plot(history.epoch, history.history['val_'+metric], color=colors[0], linestyle='--', label='Validation')\n",
        "    plt.xlabel('Epoch')\n",
        "    plt.ylabel(name)\n",
        "\n",
        "    if metric == 'loss':\n",
        "      plt.ylim([0, plt.ylim()[1]])\n",
        "    else:\n",
        "      plt.ylim([0,1])\n",
        "\n",
        "    plt.legend(loc='lower right');"
      ],
      "metadata": {
        "id": "v8JDUWcYkfLx"
      },
      "id": "v8JDUWcYkfLx",
      "execution_count": 43,
      "outputs": []
    },
    {
      "cell_type": "code",
      "source": [
        "plot_metrics(model_history)"
      ],
      "metadata": {
        "id": "PyuujOGXkwxe",
        "colab": {
          "base_uri": "https://localhost:8080/",
          "height": 610
        },
        "outputId": "a861bf03-3dbc-4c8c-fe74-0b6e0d4fb0a4"
      },
      "id": "PyuujOGXkwxe",
      "execution_count": 44,
      "outputs": [
        {
          "output_type": "display_data",
          "data": {
            "text/plain": [
              "<Figure size 864x720 with 4 Axes>"
            ],
            "image/png": "[encoded data removed]"
          },
          "metadata": {
            "needs_background": "light"
          }
        }
      ]
    },
    {
      "cell_type": "code",
      "source": [
        "hist_df = pd.DataFrame(model_history.history)\n",
        "print(hist_df)\n",
        "\n",
        "hist_df.to_csv(f'{FOLDER_PATH}/model-history/{MODEL}-{TODAY}.csv')"
      ],
      "metadata": {
        "id": "ilmk1XTu9Xt7",
        "colab": {
          "base_uri": "https://localhost:8080/"
        },
        "outputId": "69d34387-f533-4275-f7c7-e048866d3e05"
      },
      "id": "ilmk1XTu9Xt7",
      "execution_count": 45,
      "outputs": [
        {
          "output_type": "stream",
          "name": "stdout",
          "text": [
            "       loss  accuracy  precision    recall  val_loss  val_accuracy  \\\n",
            "0  1.680517  0.308250   0.777778  0.015608  1.310284      0.592428   \n",
            "1  1.227235  0.572464   0.789713  0.290970  0.817386      0.766147   \n",
            "2  0.952662  0.706243   0.813131  0.538462  0.690862      0.812918   \n",
            "3  0.812562  0.752508   0.832606  0.637681  0.654307      0.835189   \n",
            "4  0.752077  0.778149   0.838467  0.682832  0.572718      0.846325   \n",
            "5  0.696741  0.794314   0.846853  0.727425  0.647225      0.832962   \n",
            "6  0.662862  0.795429   0.840405  0.739688  0.600256      0.832962   \n",
            "7  0.634278  0.807692   0.861058  0.753066  0.588574      0.839644   \n",
            "8  0.600859  0.814939   0.859217  0.758640  0.572386      0.846325   \n",
            "9  0.618518  0.806020   0.852015  0.754181  0.607989      0.828508   \n",
            "\n",
            "   val_precision  val_recall  _timestamp  _runtime  \n",
            "0       0.869565    0.178174  1657906223        21  \n",
            "1       0.901361    0.590200  1657906226        24  \n",
            "2       0.835784    0.759465  1657906229        27  \n",
            "3       0.889807    0.719376  1657906232        30  \n",
            "4       0.869359    0.815145  1657906235        33  \n",
            "5       0.853012    0.788419  1657906238        36  \n",
            "6       0.867470    0.801782  1657906241        39  \n",
            "7       0.875912    0.801782  1657906244        42  \n",
            "8       0.875610    0.799555  1657906246        44  \n",
            "9       0.843823    0.806236  1657906249        47  \n"
          ]
        }
      ]
    },
    {
      "cell_type": "code",
      "execution_count": 46,
      "id": "88a1e276-1197-4331-b387-db867bb8a6f2",
      "metadata": {
        "id": "88a1e276-1197-4331-b387-db867bb8a6f2"
      },
      "outputs": [],
      "source": [
        "# save model\n",
        "model.save(f'{FOLDER_PATH}/model-fit/{MODEL}/{MODEL}.h5')"
      ]
    },
    {
      "cell_type": "markdown",
      "id": "f47228a0-2b5c-4ccd-8374-f6606913add2",
      "metadata": {
        "id": "f47228a0-2b5c-4ccd-8374-f6606913add2"
      },
      "source": [
        "# 11 Evaluation"
      ]
    },
    {
      "cell_type": "code",
      "execution_count": 47,
      "id": "4b70a8d2-ac47-47f5-be3a-557e8dfee000",
      "metadata": {
        "id": "4b70a8d2-ac47-47f5-be3a-557e8dfee000",
        "colab": {
          "base_uri": "https://localhost:8080/"
        },
        "outputId": "1c53341b-cb09-4d9c-80da-33557d44763b"
      },
      "outputs": [
        {
          "output_type": "stream",
          "name": "stdout",
          "text": [
            "15/15 [==============================] - 0s 9ms/step - loss: 0.6080 - accuracy: 0.8285 - precision: 0.8438 - recall: 0.8062\n",
            "Accuracy: 82.85%\n"
          ]
        }
      ],
      "source": [
        "y_pred = np.argmax(model.predict(X_test), axis=1)\n",
        "y_true = np.argmax(y_test, axis=1)\n",
        "\n",
        "loss, accuracy, precision, recall = model.evaluate(X_test, y_test)\n",
        "print(\"Accuracy: %.2f%%\" % (accuracy*100))"
      ]
    },
    {
      "cell_type": "code",
      "source": [
        "cm = confusion_matrix(y_true, y_pred)\n",
        "\n",
        "plt.figure(figsize=(8, 6))\n",
        "ax = plt.subplot()\n",
        "sns.heatmap(cm, annot=True, fmt='g', ax=ax, cmap='Blues')  # annot=True to annotate cells, ftm='g' to disable scientific notation\n",
        "\n",
        "ax.set_xlabel('Predicted labels')\n",
        "ax.set_ylabel('True labels') \n",
        "ax.set_title('Confusion Matrix')\n",
        "ax.xaxis.set_ticklabels(LABEL_NAME)\n",
        "ax.yaxis.set_ticklabels(LABEL_NAME)\n",
        "plt.tight_layout()"
      ],
      "metadata": {
        "id": "yDfdvYRmCsxk",
        "colab": {
          "base_uri": "https://localhost:8080/",
          "height": 441
        },
        "outputId": "f1319480-2f2c-420d-b744-ac8e06afb161"
      },
      "id": "yDfdvYRmCsxk",
      "execution_count": 48,
      "outputs": [
        {
          "output_type": "display_data",
          "data": {
            "text/plain": [
              "<Figure size 576x432 with 2 Axes>"
            ],
            "image/png": "[encoded data removed]"
          },
          "metadata": {
            "needs_background": "light"
          }
        }
      ]
    },
    {
      "cell_type": "code",
      "execution_count": 49,
      "id": "4990b17c-b31c-44d7-af33-1c408dc09407",
      "metadata": {
        "id": "4990b17c-b31c-44d7-af33-1c408dc09407",
        "colab": {
          "base_uri": "https://localhost:8080/"
        },
        "outputId": "5f2c3038-4015-464e-de57-27ecec126238"
      },
      "outputs": [
        {
          "output_type": "stream",
          "name": "stdout",
          "text": [
            "              precision    recall  f1-score   support\n",
            "\n",
            "       anger       0.72      0.87      0.79        78\n",
            "     disgust       0.96      0.89      0.93        76\n",
            "        fear       0.84      0.89      0.86        74\n",
            "         joy       0.78      0.76      0.77        88\n",
            "     sadness       0.90      0.73      0.81        75\n",
            "    surprise       0.84      0.83      0.83        58\n",
            "\n",
            "    accuracy                           0.83       449\n",
            "   macro avg       0.84      0.83      0.83       449\n",
            "weighted avg       0.84      0.83      0.83       449\n",
            "\n"
          ]
        }
      ],
      "source": [
        "print(classification_report(y_pred, y_true, target_names=LABEL_NAME))"
      ]
    },
    {
      "cell_type": "code",
      "source": [
        "def plot_roc_curve(y_test, y_pred):\n",
        "  \n",
        "  n_classes = len(np.unique(y_test))\n",
        "  y_test = label_binarize(y_test, classes=np.arange(len(LABEL_NAME)))\n",
        "  y_pred = label_binarize(y_pred, classes=np.arange(len(LABEL_NAME)))\n",
        "\n",
        "  # Compute ROC curve and ROC area for each class\n",
        "  fpr = dict()\n",
        "  tpr = dict()\n",
        "  roc_auc = dict()\n",
        "  for i in range(n_classes):\n",
        "    fpr[i], tpr[i], _ = roc_curve(y_test[:, i], y_pred[:, i])\n",
        "    roc_auc[i] = auc(fpr[i], tpr[i])\n",
        "  \n",
        "  # Compute micro-average ROC curve and ROC area\n",
        "  fpr['micro'], tpr['micro'], _ = roc_curve(y_test.ravel(), y_pred.ravel())\n",
        "  roc_auc['micro'] = auc(fpr['micro'], tpr['micro'])\n",
        "\n",
        "  # First aggregate all false positive rates\n",
        "  all_fpr = np.unique(np.concatenate([fpr[i] for i in range(n_classes)]))\n",
        "\n",
        "  # Then interpolate all ROC curves at this points\n",
        "  mean_tpr = np.zeros_like(all_fpr)\n",
        "  for i in range(n_classes):\n",
        "    mean_tpr += np.interp(all_fpr, fpr[i], tpr[i])\n",
        "\n",
        "  # Finally average it and compute AUC\n",
        "  mean_tpr /= n_classes\n",
        "\n",
        "  fpr['macro'] = all_fpr\n",
        "  tpr['macro'] = mean_tpr\n",
        "  roc_auc['macro'] = auc(fpr['macro'], tpr['macro'])\n",
        "\n",
        "  # Plot all ROC curves\n",
        "  plt.figure(figsize=(10, 7))\n",
        "  lw = 2\n",
        "  plt.plot(fpr['micro'], tpr['micro'],\n",
        "    label='micro-average ROC curve (area = {0:0.2f})'.format(roc_auc['micro']),\n",
        "    color='deeppink', linestyle=':', linewidth=4,)\n",
        "\n",
        "  plt.plot(fpr['macro'], tpr['macro'],\n",
        "    label='macro-average ROC curve (area = {0:0.2f})'.format(roc_auc['macro']),\n",
        "    color='navy', linestyle=':', linewidth=4,)\n",
        "\n",
        "  colors = cycle(['aqua', 'darkorange', 'darkgreen', 'yellow', 'blue', 'red'])\n",
        "  for i, color, label in zip(range(n_classes), colors, LABEL_NAME):\n",
        "    plt.plot(fpr[i], tpr[i], color=color, lw=lw,\n",
        "        label=\"ROC curve of class {0} (area = {1:0.2f})\".format(label, roc_auc[i]))\n",
        "\n",
        "  plt.plot([0, 1], [0, 1], 'k--', lw=lw)\n",
        "  plt.xlim([0.0, 1.0])\n",
        "  plt.ylim([0.0, 1.05])\n",
        "  plt.xlabel('False Positive Rate')\n",
        "  plt.ylabel('True Positive Rate')\n",
        "  plt.title('Receiver Operating Characteristic (ROC) curve')\n",
        "  plt.legend()\n",
        "  plt.show()"
      ],
      "metadata": {
        "id": "NJDXzKZh7IsD"
      },
      "id": "NJDXzKZh7IsD",
      "execution_count": 50,
      "outputs": []
    },
    {
      "cell_type": "code",
      "source": [
        "plot_roc_curve(y_pred, y_true)"
      ],
      "metadata": {
        "id": "pJLKZbNL7Mvn",
        "colab": {
          "base_uri": "https://localhost:8080/",
          "height": 458
        },
        "outputId": "2b8757ec-7fe0-438e-83c4-c0875a43b3d9"
      },
      "id": "pJLKZbNL7Mvn",
      "execution_count": 51,
      "outputs": [
        {
          "output_type": "display_data",
          "data": {
            "text/plain": [
              "<Figure size 720x504 with 1 Axes>"
            ],
            "image/png": "[encoded data removed]"
          },
          "metadata": {
            "needs_background": "light"
          }
        }
      ]
    },
    {
      "cell_type": "markdown",
      "source": [
        "# 12 Predict on New Data"
      ],
      "metadata": {
        "id": "9vw4g3s-z-Rw"
      },
      "id": "9vw4g3s-z-Rw"
    },
    {
      "cell_type": "code",
      "source": [
        "new_text = ['Hargai kebahagiaan jika kamu pernah sedih']\n",
        "\n",
        "text_seq = tokenizer.texts_to_sequences(new_text,)\n",
        "text_padded = pad_sequences(text_seq, maxlen=MAX_SEQ_LENGTH, padding=PADDING, truncating=TRUNCATING)\n",
        "\n",
        "pred = model.predict(text_padded)\n",
        "\n",
        "print(pred, LABEL_NAME[np.argmax(pred, axis=1)])"
      ],
      "metadata": {
        "id": "ZxfTw0Kk0DTW",
        "colab": {
          "base_uri": "https://localhost:8080/"
        },
        "outputId": "117d1006-1421-4b07-bdb7-2d7b79ea6420"
      },
      "id": "ZxfTw0Kk0DTW",
      "execution_count": 52,
      "outputs": [
        {
          "output_type": "stream",
          "name": "stdout",
          "text": [
            "[[1.0898358e-01 3.4008062e-04 4.8047206e-03 4.8485968e-02 8.3450425e-01\n",
            "  2.8813852e-03]] ['sadness']\n"
          ]
        }
      ]
    }
  ],
  "metadata": {
    "kernelspec": {
      "display_name": "Python 3 (ipykernel)",
      "language": "python",
      "name": "python3"
    },
    "language_info": {
      "codemirror_mode": {
        "name": "ipython",
        "version": 3
      },
      "file_extension": ".py",
      "mimetype": "text/x-python",
      "name": "python",
      "nbconvert_exporter": "python",
      "pygments_lexer": "ipython3",
      "version": "3.8.13"
    },
    "colab": {
      "name": "01-Word2Vec-ID-Wiki300-BiLSTM.ipynb",
      "provenance": [],
      "collapsed_sections": [],
      "machine_shape": "hm",
      "toc_visible": true,
      "include_colab_link": true
    },
    "accelerator": "GPU",
    "widgets": {
      "application/vnd.jupyter.widget-state+json": {
        "c50216f6d7b34f96a2645bec43afb186": {
          "model_module": "@jupyter-widgets/controls",
          "model_name": "VBoxModel",
          "model_module_version": "1.5.0",
          "state": {
            "_dom_classes": [],
            "_model_module": "@jupyter-widgets/controls",
            "_model_module_version": "1.5.0",
            "_model_name": "VBoxModel",
            "_view_count": null,
            "_view_module": "@jupyter-widgets/controls",
            "_view_module_version": "1.5.0",
            "_view_name": "VBoxView",
            "box_style": "",
            "children": [
              "IPY_MODEL_65b11f8253484a4cb88d589393ad3dbb",
              "IPY_MODEL_2d95f5e39bf24ba79c845fd831a5e709"
            ],
            "layout": "IPY_MODEL_69a674bf78934dc6a07f8c790f1abd10"
          }
        },
        "65b11f8253484a4cb88d589393ad3dbb": {
          "model_module": "@jupyter-widgets/controls",
          "model_name": "LabelModel",
          "model_module_version": "1.5.0",
          "state": {
            "_dom_classes": [],
            "_model_module": "@jupyter-widgets/controls",
            "_model_module_version": "1.5.0",
            "_model_name": "LabelModel",
            "_view_count": null,
            "_view_module": "@jupyter-widgets/controls",
            "_view_module_version": "1.5.0",
            "_view_name": "LabelView",
            "description": "",
            "description_tooltip": null,
            "layout": "IPY_MODEL_de754d337fd44024b83bbcf660db3798",
            "placeholder": "​",
            "style": "IPY_MODEL_2030bff3f7f340fd93050e353bf57308",
            "value": "0.037 MB of 0.037 MB uploaded (0.000 MB deduped)\r"
          }
        },
        "2d95f5e39bf24ba79c845fd831a5e709": {
          "model_module": "@jupyter-widgets/controls",
          "model_name": "FloatProgressModel",
          "model_module_version": "1.5.0",
          "state": {
            "_dom_classes": [],
            "_model_module": "@jupyter-widgets/controls",
            "_model_module_version": "1.5.0",
            "_model_name": "FloatProgressModel",
            "_view_count": null,
            "_view_module": "@jupyter-widgets/controls",
            "_view_module_version": "1.5.0",
            "_view_name": "ProgressView",
            "bar_style": "",
            "description": "",
            "description_tooltip": null,
            "layout": "IPY_MODEL_ee6eff14814b4e4194c79aef34038558",
            "max": 1,
            "min": 0,
            "orientation": "horizontal",
            "style": "IPY_MODEL_5739bf877f06460fb87ee1ae48c82b7b",
            "value": 1
          }
        },
        "69a674bf78934dc6a07f8c790f1abd10": {
          "model_module": "@jupyter-widgets/base",
          "model_name": "LayoutModel",
          "model_module_version": "1.2.0",
          "state": {
            "_model_module": "@jupyter-widgets/base",
            "_model_module_version": "1.2.0",
            "_model_name": "LayoutModel",
            "_view_count": null,
            "_view_module": "@jupyter-widgets/base",
            "_view_module_version": "1.2.0",
            "_view_name": "LayoutView",
            "align_content": null,
            "align_items": null,
            "align_self": null,
            "border": null,
            "bottom": null,
            "display": null,
            "flex": null,
            "flex_flow": null,
            "grid_area": null,
            "grid_auto_columns": null,
            "grid_auto_flow": null,
            "grid_auto_rows": null,
            "grid_column": null,
            "grid_gap": null,
            "grid_row": null,
            "grid_template_areas": null,
            "grid_template_columns": null,
            "grid_template_rows": null,
            "height": null,
            "justify_content": null,
            "justify_items": null,
            "left": null,
            "margin": null,
            "max_height": null,
            "max_width": null,
            "min_height": null,
            "min_width": null,
            "object_fit": null,
            "object_position": null,
            "order": null,
            "overflow": null,
            "overflow_x": null,
            "overflow_y": null,
            "padding": null,
            "right": null,
            "top": null,
            "visibility": null,
            "width": null
          }
        },
        "de754d337fd44024b83bbcf660db3798": {
          "model_module": "@jupyter-widgets/base",
          "model_name": "LayoutModel",
          "model_module_version": "1.2.0",
          "state": {
            "_model_module": "@jupyter-widgets/base",
            "_model_module_version": "1.2.0",
            "_model_name": "LayoutModel",
            "_view_count": null,
            "_view_module": "@jupyter-widgets/base",
            "_view_module_version": "1.2.0",
            "_view_name": "LayoutView",
            "align_content": null,
            "align_items": null,
            "align_self": null,
            "border": null,
            "bottom": null,
            "display": null,
            "flex": null,
            "flex_flow": null,
            "grid_area": null,
            "grid_auto_columns": null,
            "grid_auto_flow": null,
            "grid_auto_rows": null,
            "grid_column": null,
            "grid_gap": null,
            "grid_row": null,
            "grid_template_areas": null,
            "grid_template_columns": null,
            "grid_template_rows": null,
            "height": null,
            "justify_content": null,
            "justify_items": null,
            "left": null,
            "margin": null,
            "max_height": null,
            "max_width": null,
            "min_height": null,
            "min_width": null,
            "object_fit": null,
            "object_position": null,
            "order": null,
            "overflow": null,
            "overflow_x": null,
            "overflow_y": null,
            "padding": null,
            "right": null,
            "top": null,
            "visibility": null,
            "width": null
          }
        },
        "2030bff3f7f340fd93050e353bf57308": {
          "model_module": "@jupyter-widgets/controls",
          "model_name": "DescriptionStyleModel",
          "model_module_version": "1.5.0",
          "state": {
            "_model_module": "@jupyter-widgets/controls",
            "_model_module_version": "1.5.0",
            "_model_name": "DescriptionStyleModel",
            "_view_count": null,
            "_view_module": "@jupyter-widgets/base",
            "_view_module_version": "1.2.0",
            "_view_name": "StyleView",
            "description_width": ""
          }
        },
        "ee6eff14814b4e4194c79aef34038558": {
          "model_module": "@jupyter-widgets/base",
          "model_name": "LayoutModel",
          "model_module_version": "1.2.0",
          "state": {
            "_model_module": "@jupyter-widgets/base",
            "_model_module_version": "1.2.0",
            "_model_name": "LayoutModel",
            "_view_count": null,
            "_view_module": "@jupyter-widgets/base",
            "_view_module_version": "1.2.0",
            "_view_name": "LayoutView",
            "align_content": null,
            "align_items": null,
            "align_self": null,
            "border": null,
            "bottom": null,
            "display": null,
            "flex": null,
            "flex_flow": null,
            "grid_area": null,
            "grid_auto_columns": null,
            "grid_auto_flow": null,
            "grid_auto_rows": null,
            "grid_column": null,
            "grid_gap": null,
            "grid_row": null,
            "grid_template_areas": null,
            "grid_template_columns": null,
            "grid_template_rows": null,
            "height": null,
            "justify_content": null,
            "justify_items": null,
            "left": null,
            "margin": null,
            "max_height": null,
            "max_width": null,
            "min_height": null,
            "min_width": null,
            "object_fit": null,
            "object_position": null,
            "order": null,
            "overflow": null,
            "overflow_x": null,
            "overflow_y": null,
            "padding": null,
            "right": null,
            "top": null,
            "visibility": null,
            "width": null
          }
        },
        "5739bf877f06460fb87ee1ae48c82b7b": {
          "model_module": "@jupyter-widgets/controls",
          "model_name": "ProgressStyleModel",
          "model_module_version": "1.5.0",
          "state": {
            "_model_module": "@jupyter-widgets/controls",
            "_model_module_version": "1.5.0",
            "_model_name": "ProgressStyleModel",
            "_view_count": null,
            "_view_module": "@jupyter-widgets/base",
            "_view_module_version": "1.2.0",
            "_view_name": "StyleView",
            "bar_color": null,
            "description_width": ""
          }
        }
      }
    }
  },
  "nbformat": 4,
  "nbformat_minor": 5
}