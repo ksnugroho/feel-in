{
  "cells": [
    {
      "cell_type": "markdown",
      "metadata": {
        "id": "view-in-github",
        "colab_type": "text"
      },
      "source": [
        "<a href=\"https://colab.research.google.com/github/ksnugroho/feel-in/blob/main/model-baseline-bilstm/02_Word2Vec_ID_Wiki300_BiGRUs.ipynb\" target=\"_parent\"><img src=\"https://colab.research.google.com/assets/colab-badge.svg\" alt=\"Open In Colab\"/></a>"
      ]
    },
    {
      "cell_type": "markdown",
      "id": "a1bf2cd2-5a23-41fa-a4b7-71dfd3b0adb8",
      "metadata": {
        "id": "a1bf2cd2-5a23-41fa-a4b7-71dfd3b0adb8"
      },
      "source": [
        "# **Word2Vec (ID Wiki) + Bidirectional GRU**\n",
        "\n",
        "**Thesis: Emotion Detection in Indonesian Text**\n",
        "\n",
        "Kuncahyo Setyo Nugroho<br>\n",
        "Supervisor:\n",
        "1. Dr. Eng. Fitra A. Bachtiar, S.T., M.Eng.\n",
        "2. Prof. Ir. Wayan Firdaus Mahmudy, S.Si., M.T., Ph.D.\n",
        "\n",
        "Faculty of Computer Science, Brawijaya University, Indonesia &copy; 2021-2022"
      ]
    },
    {
      "cell_type": "markdown",
      "id": "c2711406-ec5a-4ae2-bb51-ee6e38d2e14d",
      "metadata": {
        "id": "c2711406-ec5a-4ae2-bb51-ee6e38d2e14d"
      },
      "source": [
        "# 01 Setup"
      ]
    },
    {
      "cell_type": "code",
      "source": [
        "from google.colab import drive\n",
        "drive.mount('/content/drive', force_remount=True)"
      ],
      "metadata": {
        "colab": {
          "base_uri": "https://localhost:8080/"
        },
        "id": "AVwTm6ZzVRuK",
        "outputId": "40a3d355-abbb-4f89-8a4b-01f0350312ca"
      },
      "id": "AVwTm6ZzVRuK",
      "execution_count": null,
      "outputs": [
        {
          "output_type": "stream",
          "name": "stdout",
          "text": [
            "Mounted at /content/drive\n"
          ]
        }
      ]
    },
    {
      "cell_type": "code",
      "source": [
        "# Path to google drive folder\n",
        "%cd /content/drive/MyDrive/Code/tesis"
      ],
      "metadata": {
        "colab": {
          "base_uri": "https://localhost:8080/"
        },
        "id": "wFUHxFRwVT1W",
        "outputId": "6066ca7c-a671-415e-da56-c4509380dcc5"
      },
      "id": "wFUHxFRwVT1W",
      "execution_count": null,
      "outputs": [
        {
          "output_type": "stream",
          "name": "stdout",
          "text": [
            "/content/drive/MyDrive/Code/tesis\n"
          ]
        }
      ]
    },
    {
      "cell_type": "code",
      "execution_count": null,
      "id": "1d9e59eb-577c-41f1-91e7-ad35cb47e990",
      "metadata": {
        "tags": [],
        "id": "1d9e59eb-577c-41f1-91e7-ad35cb47e990"
      },
      "outputs": [],
      "source": [
        "import re\n",
        "import os\n",
        "import datetime\n",
        "import numpy as np\n",
        "import pandas as pd\n",
        "import matplotlib.pyplot as plt\n",
        "import seaborn as sns\n",
        "\n",
        "from itertools import cycle\n",
        "from sklearn.preprocessing import LabelEncoder, label_binarize\n",
        "from sklearn.model_selection import train_test_split\n",
        "from sklearn.metrics import roc_curve, auc, confusion_matrix, classification_report\n",
        "\n",
        "from gensim.models import KeyedVectors\n",
        "\n",
        "import tensorflow as tf\n",
        "from tensorflow.keras.preprocessing.text import Tokenizer\n",
        "from tensorflow.keras.preprocessing.sequence import pad_sequences\n",
        "from tensorflow.keras.utils import to_categorical, plot_model\n",
        "from tensorflow.keras.optimizers import Adam\n",
        "from tensorflow.keras.losses import CategoricalCrossentropy\n",
        "from tensorflow.keras.callbacks import EarlyStopping, ModelCheckpoint, TensorBoard\n",
        "from tensorflow.keras.initializers import Constant\n",
        "from tensorflow.keras.models import Sequential \n",
        "from tensorflow.keras.layers import Embedding, Bidirectional, GRU, Dropout, Dense\n",
        "\n",
        "from tqdm import tqdm\n",
        "tqdm.pandas()\n",
        "\n",
        "import warnings\n",
        "warnings.filterwarnings('ignore')\n",
        "\n",
        "SEED = 50\n",
        "MODEL = 'id-wiki-word2vec-bigru'\n",
        "FOLDER_PATH = 'model-baseline-bilstm'\n",
        "\n",
        "np.random.seed(SEED)\n",
        "tf.random.set_seed(SEED)\n",
        "colors = plt.rcParams['axes.prop_cycle'].by_key()['color']\n",
        "\n",
        "%matplotlib inline"
      ]
    },
    {
      "cell_type": "code",
      "source": [
        "!pip install -q wandb"
      ],
      "metadata": {
        "id": "2Y-QoBKiVGcU",
        "colab": {
          "base_uri": "https://localhost:8080/"
        },
        "outputId": "b7119406-09d6-419b-e1ae-a86a8f0486fb"
      },
      "id": "2Y-QoBKiVGcU",
      "execution_count": null,
      "outputs": [
        {
          "output_type": "stream",
          "name": "stdout",
          "text": [
            "\u001b[K     |████████████████████████████████| 1.8 MB 7.4 MB/s \n",
            "\u001b[K     |████████████████████████████████| 181 kB 89.9 MB/s \n",
            "\u001b[K     |████████████████████████████████| 147 kB 81.9 MB/s \n",
            "\u001b[K     |████████████████████████████████| 63 kB 1.9 MB/s \n",
            "\u001b[?25h  Building wheel for pathtools (setup.py) ... \u001b[?25l\u001b[?25hdone\n"
          ]
        }
      ]
    },
    {
      "cell_type": "code",
      "execution_count": null,
      "id": "48b9555b-8ac9-42ce-ab47-039461f7ddcc",
      "metadata": {
        "colab": {
          "base_uri": "https://localhost:8080/"
        },
        "id": "48b9555b-8ac9-42ce-ab47-039461f7ddcc",
        "outputId": "b5cd8f63-2d60-4a21-b5b7-98d976829d46"
      },
      "outputs": [
        {
          "output_type": "stream",
          "name": "stderr",
          "text": [
            "\u001b[34m\u001b[1mwandb\u001b[0m: W&B API key is configured. Use \u001b[1m`wandb login --relogin`\u001b[0m to force relogin\n",
            "\u001b[34m\u001b[1mwandb\u001b[0m: \u001b[33mWARNING\u001b[0m If you're specifying your api key in code, ensure this code is not shared publicly.\n",
            "\u001b[34m\u001b[1mwandb\u001b[0m: \u001b[33mWARNING\u001b[0m Consider setting the WANDB_API_KEY environment variable, or running `wandb login` from the command line.\n",
            "\u001b[34m\u001b[1mwandb\u001b[0m: Appending key for api.wandb.ai to your netrc file: /root/.netrc\n"
          ]
        },
        {
          "output_type": "execute_result",
          "data": {
            "text/plain": [
              "True"
            ]
          },
          "metadata": {},
          "execution_count": 5
        }
      ],
      "source": [
        "import wandb\n",
        "from wandb.keras import WandbCallback\n",
        "\n",
        "wandb.login(key='bd42e3aab9cac21a2416900b1114532802619de3')"
      ]
    },
    {
      "cell_type": "code",
      "source": [
        "TODAY = datetime.datetime.now().strftime(\"%m-%d-%Y-%H:%M\")\n",
        "print(TODAY)"
      ],
      "metadata": {
        "colab": {
          "base_uri": "https://localhost:8080/"
        },
        "id": "7GDeOKZeFvEk",
        "outputId": "059506ce-f472-4aaf-cb42-75a077e20e24"
      },
      "id": "7GDeOKZeFvEk",
      "execution_count": null,
      "outputs": [
        {
          "output_type": "stream",
          "name": "stdout",
          "text": [
            "07-15-2022-17:35\n"
          ]
        }
      ]
    },
    {
      "cell_type": "markdown",
      "id": "68399df4-1ece-42be-926c-40c9c494d0d1",
      "metadata": {
        "id": "68399df4-1ece-42be-926c-40c9c494d0d1"
      },
      "source": [
        "# 02 Load Data"
      ]
    },
    {
      "cell_type": "code",
      "execution_count": null,
      "id": "7ab9c55e-af81-4952-9736-b3f87045cfa2",
      "metadata": {
        "colab": {
          "base_uri": "https://localhost:8080/"
        },
        "id": "7ab9c55e-af81-4952-9736-b3f87045cfa2",
        "outputId": "649774e5-26f9-406c-b96b-3299a1bbaab6"
      },
      "outputs": [
        {
          "output_type": "stream",
          "name": "stdout",
          "text": [
            "                                               tweet    label\n",
            "0        wah belom liat muka gue lagi murka hahahaha      joy\n",
            "1  Mungkin kurang piknik adrenalin. Mereka yg ske...    anger\n",
            "2  maaf kalo tersinggung \"orang kurus cepet mati\"...    anger\n",
            "3  berserah pada maha esa paling tabah dan sabar ...      joy\n",
            "4                       Ehekk malu la hahahahahahaha  sadness\n"
          ]
        }
      ],
      "source": [
        "df = pd.read_csv('data/final-tweet-anotasi.csv', index_col=0)\n",
        "# df = df.sample(frac=1, random_state=SEED).reset_index(drop=True)   # For shuffle\n",
        "print(df.head())"
      ]
    },
    {
      "cell_type": "code",
      "source": [
        "# df = df.dropna()"
      ],
      "metadata": {
        "id": "jSyeoBWmVtkA"
      },
      "id": "jSyeoBWmVtkA",
      "execution_count": null,
      "outputs": []
    },
    {
      "cell_type": "code",
      "execution_count": null,
      "id": "eeb8fd22-5a2b-48a9-8d5e-e5b569cb856a",
      "metadata": {
        "colab": {
          "base_uri": "https://localhost:8080/"
        },
        "id": "eeb8fd22-5a2b-48a9-8d5e-e5b569cb856a",
        "outputId": "0974b166-3453-409e-b0d0-5dae758dc165"
      },
      "outputs": [
        {
          "output_type": "execute_result",
          "data": {
            "text/plain": [
              "(2243, 2)"
            ]
          },
          "metadata": {},
          "execution_count": 9
        }
      ],
      "source": [
        "df.shape"
      ]
    },
    {
      "cell_type": "code",
      "execution_count": null,
      "id": "ad238655-95be-4598-b60a-5aa5ee3a27be",
      "metadata": {
        "colab": {
          "base_uri": "https://localhost:8080/",
          "height": 456
        },
        "id": "ad238655-95be-4598-b60a-5aa5ee3a27be",
        "outputId": "745e6cbc-c14f-4930-eac6-bb8404e62811"
      },
      "outputs": [
        {
          "output_type": "display_data",
          "data": {
            "text/plain": [
              "<Figure size 576x360 with 1 Axes>"
            ],
            "image/png": "[encoded data removed]"
          },
          "metadata": {
            "needs_background": "light"
          }
        },
        {
          "output_type": "execute_result",
          "data": {
            "text/plain": [
              "anger       475\n",
              "disgust     355\n",
              "fear        395\n",
              "joy         429\n",
              "sadness     303\n",
              "surprise    286\n",
              "Name: label, dtype: int64"
            ]
          },
          "metadata": {},
          "execution_count": 10
        }
      ],
      "source": [
        "plt.figure(figsize=(8, 5))\n",
        "sns.countplot(x='label', data=df, order=df['label'].value_counts().index)\n",
        "plt.xlabel('Distribution of Emotion Label')\n",
        "plt.show()\n",
        "\n",
        "df['label'].value_counts().sort_index()"
      ]
    },
    {
      "cell_type": "markdown",
      "id": "c8468e98-5632-450d-8b96-4542508142e9",
      "metadata": {
        "id": "c8468e98-5632-450d-8b96-4542508142e9"
      },
      "source": [
        "# 03 Preprocessing"
      ]
    },
    {
      "cell_type": "markdown",
      "source": [
        "## Text Cleaning"
      ],
      "metadata": {
        "id": "aS9FGYJDEnzR"
      },
      "id": "aS9FGYJDEnzR"
    },
    {
      "cell_type": "code",
      "execution_count": null,
      "id": "ebe49f47-6c6a-4f61-8d6c-770106d96043",
      "metadata": {
        "id": "ebe49f47-6c6a-4f61-8d6c-770106d96043"
      },
      "outputs": [],
      "source": [
        "def text_cleaning(text):\n",
        "    text = text.lower()                               # Mengubah teks menjadi lower case\n",
        "    text = re.sub(r'https?://\\S+|www\\.\\S+', '', text) # Menghapus URL\n",
        "    text = re.sub(r'[-+]?[0-9]+', '', text)           # Menghapus angka\n",
        "    text = re.sub(r'[^\\w\\s]','', text)                # Menghapus karakter tanda baca\n",
        "    text = re.sub(r'\\s+', ' ', text).strip()          # Menghapus whitespaces\n",
        "\n",
        "    return text"
      ]
    },
    {
      "cell_type": "code",
      "execution_count": null,
      "id": "ae27a972-17de-4d33-b15c-987de9ee00ca",
      "metadata": {
        "colab": {
          "base_uri": "https://localhost:8080/"
        },
        "id": "ae27a972-17de-4d33-b15c-987de9ee00ca",
        "outputId": "33f9fcd5-b062-40bf-d46e-47c832c458c6"
      },
      "outputs": [
        {
          "output_type": "stream",
          "name": "stderr",
          "text": [
            "100%|██████████| 2243/2243 [00:00<00:00, 53604.61it/s]"
          ]
        },
        {
          "output_type": "stream",
          "name": "stdout",
          "text": [
            "CPU times: user 48.8 ms, sys: 21 µs, total: 48.8 ms\n",
            "Wall time: 48.1 ms\n"
          ]
        },
        {
          "output_type": "stream",
          "name": "stderr",
          "text": [
            "\n"
          ]
        }
      ],
      "source": [
        "%%time \n",
        "df['tweet'] = df['tweet'].progress_apply(text_cleaning)"
      ]
    },
    {
      "cell_type": "markdown",
      "id": "96d70e1e-0b16-4ee5-87ab-39f14bccc3cb",
      "metadata": {
        "id": "96d70e1e-0b16-4ee5-87ab-39f14bccc3cb"
      },
      "source": [
        "## Label Encoder"
      ]
    },
    {
      "cell_type": "code",
      "execution_count": null,
      "id": "446e9785-ddc4-4674-a3ec-ccf3a96be135",
      "metadata": {
        "colab": {
          "base_uri": "https://localhost:8080/"
        },
        "id": "446e9785-ddc4-4674-a3ec-ccf3a96be135",
        "outputId": "10505a2e-e83e-42d3-c523-079f5152b2ae"
      },
      "outputs": [
        {
          "output_type": "stream",
          "name": "stdout",
          "text": [
            "                                               tweet    label  label_encode\n",
            "0        wah belom liat muka gue lagi murka hahahaha      joy             3\n",
            "1  mungkin kurang piknik adrenalin mereka yg skep...    anger             0\n",
            "2  maaf kalo tersinggung orang kurus cepet mati w...    anger             0\n",
            "3  berserah pada maha esa paling tabah dan sabar ...      joy             3\n",
            "4                       ehekk malu la hahahahahahaha  sadness             4\n"
          ]
        }
      ],
      "source": [
        "le = LabelEncoder()\n",
        "\n",
        "df['label_encode'] = le.fit_transform(df['label'])\n",
        "print(df.head())"
      ]
    },
    {
      "cell_type": "code",
      "source": [
        "le_mapping = dict(zip(le.classes_, le.transform(le.classes_)))\n",
        "print(le_mapping)"
      ],
      "metadata": {
        "colab": {
          "base_uri": "https://localhost:8080/"
        },
        "id": "dNTuKMAtCC3O",
        "outputId": "b33645c5-6c5d-4667-d898-cfab3bc02002"
      },
      "id": "dNTuKMAtCC3O",
      "execution_count": null,
      "outputs": [
        {
          "output_type": "stream",
          "name": "stdout",
          "text": [
            "{'anger': 0, 'disgust': 1, 'fear': 2, 'joy': 3, 'sadness': 4, 'surprise': 5}\n"
          ]
        }
      ]
    },
    {
      "cell_type": "code",
      "source": [
        "LABEL_NAME = le.classes_\n",
        "print(LABEL_NAME)"
      ],
      "metadata": {
        "colab": {
          "base_uri": "https://localhost:8080/"
        },
        "id": "sMvamEW5g-MB",
        "outputId": "2affe6ca-1628-44b0-cc2a-9405a7eab6a1"
      },
      "id": "sMvamEW5g-MB",
      "execution_count": null,
      "outputs": [
        {
          "output_type": "stream",
          "name": "stdout",
          "text": [
            "['anger' 'disgust' 'fear' 'joy' 'sadness' 'surprise']\n"
          ]
        }
      ]
    },
    {
      "cell_type": "markdown",
      "id": "51563912-e1a5-4196-ba6d-6c9b34de840c",
      "metadata": {
        "id": "51563912-e1a5-4196-ba6d-6c9b34de840c"
      },
      "source": [
        "# 04 Load Pre-Trained Word Vectors (Word2Vec)"
      ]
    },
    {
      "cell_type": "code",
      "execution_count": null,
      "id": "0d84c2b8-95d5-4649-a929-153d16de7791",
      "metadata": {
        "colab": {
          "base_uri": "https://localhost:8080/"
        },
        "id": "0d84c2b8-95d5-4649-a929-153d16de7791",
        "outputId": "cc2d3015-0d1b-4d3a-b58e-b7b605cc839a"
      },
      "outputs": [
        {
          "output_type": "stream",
          "name": "stdout",
          "text": [
            "The numbers of words in vocabulary:  422240\n",
            "CPU times: user 1.03 s, sys: 141 ms, total: 1.17 s\n",
            "Wall time: 2.2 s\n"
          ]
        }
      ],
      "source": [
        "%%time\n",
        "WORD_EMBEDDING_PATH = 'model-word-embedding/checkpoint/idwiki-word2vec/idwiki-word2vec-300.wordvectors'\n",
        "\n",
        "word2vec = KeyedVectors.load(WORD_EMBEDDING_PATH,  mmap='r')\n",
        "vocabulary = word2vec.wv.vocab     # gensim 3\n",
        "# vocabulary = word2vec.index_to_key # gensim 4\n",
        "print('The numbers of words in vocabulary: ', len(vocabulary))\n",
        "\n",
        "VOCAB_SIZE = len(vocabulary)\n",
        "EMBEDDING_SIZE = word2vec.vector_size"
      ]
    },
    {
      "cell_type": "code",
      "execution_count": null,
      "id": "60938380-45dd-4fed-a8f8-5db2f37897db",
      "metadata": {
        "colab": {
          "base_uri": "https://localhost:8080/"
        },
        "id": "60938380-45dd-4fed-a8f8-5db2f37897db",
        "outputId": "af811b95-51a9-4e4f-d828-a336a8af9382"
      },
      "outputs": [
        {
          "output_type": "stream",
          "name": "stdout",
          "text": [
            "The numbers of key-value pairs:  422240\n"
          ]
        }
      ],
      "source": [
        "word2vec_dict = {}\n",
        "\n",
        "for word in vocabulary:\n",
        "    word2vec_dict[word] = word2vec.wv.get_vector(word)   # gensim 3\n",
        "    # word2vec_dict[word] = word2vec.get_vector(word)\n",
        "    \n",
        "print('The numbers of key-value pairs: ', len(word2vec_dict)) # should come equal to vocab size"
      ]
    },
    {
      "cell_type": "code",
      "execution_count": null,
      "id": "197d2a58-5a2d-4cbe-a0c9-834c97e3fb08",
      "metadata": {
        "colab": {
          "base_uri": "https://localhost:8080/"
        },
        "id": "197d2a58-5a2d-4cbe-a0c9-834c97e3fb08",
        "outputId": "2481b9be-0340-4e43-9e7d-feea57eb57b4"
      },
      "outputs": [
        {
          "output_type": "stream",
          "name": "stdout",
          "text": [
            "[ 6.75812364e-02  3.39518279e-01  6.94608688e-02  1.08271278e-01\n",
            "  1.84022978e-01  2.96562672e-01 -3.81502330e-01 -7.48222927e-03\n",
            " -5.04919551e-02  3.02928448e-01  5.22191189e-02 -2.57855028e-01\n",
            "  1.76260576e-01 -2.95605093e-01  5.10009564e-02  9.88978893e-02\n",
            "  1.09668925e-01  5.35296239e-02  1.47750810e-01  7.39202425e-02\n",
            "  1.20023735e-01  2.78929565e-02 -1.75464317e-01  5.84843606e-02\n",
            " -1.29706413e-01  2.33775795e-01 -1.74707830e-01 -3.06156307e-01\n",
            "  7.74664758e-03  2.63089431e-04 -9.33890715e-02  2.00929791e-01\n",
            " -2.58651257e-01  2.62702890e-02 -3.12812150e-01  2.62490362e-01\n",
            " -2.10357904e-01  2.22268179e-02 -2.14812100e-01 -1.54625580e-01\n",
            "  9.13467333e-02 -9.37793124e-03  3.34161341e-01 -1.13048732e-01\n",
            " -1.24602979e-02 -1.20885760e-01  2.13201474e-02 -1.00332431e-01\n",
            " -3.38982701e-01 -1.98508427e-01 -3.51027101e-01 -5.86017873e-03\n",
            "  2.66471714e-01  4.42226091e-03  1.40483379e-01 -3.51466030e-01\n",
            "  9.05994326e-03 -1.54891640e-01  9.23953503e-02 -2.44809806e-01\n",
            "  4.39220399e-01  8.01375210e-02 -2.25704089e-01  3.09850484e-01\n",
            " -2.86513627e-01  4.57599238e-02  3.93176638e-02 -1.02670237e-01\n",
            "  4.12075281e-01 -1.70392931e-01  2.50932068e-01 -3.39006521e-02\n",
            "  4.41575855e-01 -3.42951119e-01 -1.20450109e-01  4.70697552e-01\n",
            "  1.52374923e-01  2.92086661e-01  2.51798034e-01  5.02172038e-02\n",
            " -2.62133151e-01 -1.36651397e-01  1.52262300e-01  1.14801876e-01\n",
            "  9.83074158e-02  3.22206557e-01 -4.48511504e-02  4.62329760e-02\n",
            "  1.40304938e-01 -8.19572583e-02 -4.01723571e-02 -8.45048949e-03\n",
            " -9.15889144e-02 -1.44173190e-01 -1.85628027e-01  9.14694145e-02\n",
            " -2.56502777e-01  1.74113601e-01 -7.58863464e-02  2.03401938e-01\n",
            " -3.94228578e-01  1.83377303e-02 -3.68034959e-01  2.43702248e-01\n",
            " -1.77856967e-01  1.27699941e-01  1.07942991e-01 -1.68931186e-01\n",
            "  4.57269430e-01  1.15296640e-01 -1.15803681e-01 -2.15125084e-01\n",
            " -1.00316949e-01 -7.45920315e-02  2.03192964e-01 -9.71991569e-03\n",
            "  1.67199388e-01  1.25864044e-01  1.71075568e-01  3.72243375e-01\n",
            " -2.74318486e-01 -3.88747633e-01  4.39098358e-01 -2.44922951e-01\n",
            " -1.68180868e-01  2.03411594e-01  5.98781407e-02  9.76161286e-02\n",
            "  1.27953246e-01  4.45722312e-01  7.30838701e-02 -2.79303014e-01\n",
            " -1.32367864e-01  1.68445498e-01  1.64392870e-02  3.06428105e-01\n",
            " -2.61812717e-01  1.05627231e-01 -9.90507752e-02  2.22651899e-01\n",
            "  2.04031006e-01 -8.52899160e-04 -2.63430155e-03  1.92919061e-01\n",
            " -1.61721215e-01  8.45283829e-03  8.00193474e-02 -2.85557747e-01\n",
            "  9.71635208e-02 -8.57655481e-02 -4.58929762e-02 -1.51269257e-01\n",
            "  2.25736737e-01 -4.31535318e-02  1.62760559e-02 -3.84262890e-01\n",
            "  1.37978479e-01  1.06739007e-01 -5.20601496e-02 -2.22148672e-01\n",
            "  1.86245173e-01  1.51300281e-01 -1.19226180e-01  9.37955156e-02\n",
            " -1.67774051e-01 -7.33065531e-02 -1.46726474e-01 -4.65839326e-01\n",
            "  7.25259781e-02  5.96994646e-02 -3.87644202e-01 -2.27806225e-01\n",
            " -7.61700049e-02  6.41782880e-02  1.08431831e-01  1.54653579e-01\n",
            "  8.81231502e-02 -2.39795912e-02 -2.51622319e-01 -3.60191357e-03\n",
            " -4.15692478e-01 -1.52360238e-02 -5.28206117e-02 -1.88392594e-01\n",
            "  1.43469051e-02  8.15131962e-02  8.48577172e-02  1.17757849e-01\n",
            "  3.67168427e-01 -3.61812592e-01  3.05261105e-01  4.09349333e-03\n",
            "  2.47685418e-01 -1.22557715e-01 -1.58722550e-01 -1.92475557e-01\n",
            " -2.15530977e-01  1.66810095e-01  2.10859384e-02 -8.80877376e-02\n",
            " -1.74472004e-01 -2.85018176e-01  6.14557862e-01 -2.59335041e-02\n",
            "  3.27062868e-02  3.52383442e-02 -1.55706376e-01 -2.68232703e-01\n",
            " -1.20821275e-01 -2.87444554e-02 -1.96947068e-01  2.01252475e-01\n",
            "  8.11523423e-02  3.24960649e-01 -2.50925273e-02  2.72729737e-03\n",
            "  2.24925190e-01 -7.58619700e-03  1.96992338e-01  4.75781485e-02\n",
            "  3.42221856e-01 -3.78625780e-01  1.13122970e-01 -2.81907097e-02\n",
            " -1.75136894e-01 -3.66925716e-01 -1.20041341e-01 -3.77299339e-01\n",
            "  1.67003915e-01  2.69479603e-01  3.95874977e-02 -4.16219264e-01\n",
            " -1.02801025e-01  2.23842949e-01  2.14919895e-01 -4.06679183e-01\n",
            "  1.00112334e-01  1.76327631e-01  2.27004334e-01  2.01104909e-01\n",
            " -2.07061335e-01  2.12658718e-01 -1.13839701e-01 -1.32903606e-02\n",
            "  2.65301079e-01 -4.32400286e-01 -4.03120816e-01  4.37718481e-01\n",
            "  3.13041061e-01  6.82858765e-01 -7.47478232e-02  8.26997086e-02\n",
            " -1.25071317e-01  5.08751310e-02 -2.75102884e-01 -1.32645760e-02\n",
            "  1.38492137e-01  4.00138348e-01 -2.87767023e-01 -1.74441367e-01\n",
            "  1.15126871e-01  2.08198264e-01  5.66074774e-02  1.88356593e-01\n",
            "  6.68884143e-02 -9.32007059e-02  7.49563798e-02 -1.78256646e-01\n",
            "  1.83663130e-01  2.17169195e-01  1.11877985e-01  3.40864174e-02\n",
            " -2.08516017e-01 -2.70332158e-01 -2.97827236e-02 -2.24968102e-02\n",
            "  3.28406483e-01 -1.02162667e-01  9.46469009e-02 -4.08658236e-02\n",
            "  1.06695108e-01  2.82374471e-01 -3.56231749e-01  3.53536993e-01\n",
            " -6.73090294e-02 -2.83245035e-02 -3.70086879e-02 -6.19558655e-02\n",
            " -2.29436919e-01  4.85238314e-01 -5.59608757e-01  9.41788182e-02\n",
            " -4.40837681e-01  1.01797298e-01 -3.35491329e-01 -7.74130151e-02\n",
            "  2.63561934e-01  2.30056625e-02  3.39783251e-01 -2.82676697e-01]\n",
            "Embedding size:  (300,)\n"
          ]
        }
      ],
      "source": [
        "# Cek vektor embedding dan dimensi dari suatu kata\n",
        "word = 'saya'\n",
        "\n",
        "print(word2vec[word])\n",
        "print('Embedding size: ', word2vec[word].shape)"
      ]
    },
    {
      "cell_type": "markdown",
      "id": "6f99d1fe-fc94-4fdb-a5ca-fbee429e755a",
      "metadata": {
        "id": "6f99d1fe-fc94-4fdb-a5ca-fbee429e755a"
      },
      "source": [
        "# 05 Choosing Maximum Length of the Sequence  "
      ]
    },
    {
      "cell_type": "code",
      "execution_count": null,
      "id": "25a90ec6-381d-4a00-870f-1d5c99f482a6",
      "metadata": {
        "colab": {
          "base_uri": "https://localhost:8080/",
          "height": 334
        },
        "id": "25a90ec6-381d-4a00-870f-1d5c99f482a6",
        "outputId": "eb8e8c47-8776-4393-8f50-4453477e30e3"
      },
      "outputs": [
        {
          "output_type": "display_data",
          "data": {
            "text/plain": [
              "<Figure size 576x360 with 1 Axes>"
            ],
            "image/png": "[encoded data removed]"
          },
          "metadata": {
            "needs_background": "light"
          }
        }
      ],
      "source": [
        "token_lens = []\n",
        "\n",
        "for text in df['tweet']:\n",
        "    tokens = text.split()\n",
        "    token_lens.append(len(tokens))\n",
        "\n",
        "plt.figure(figsize=(8, 5))\n",
        "sns.histplot(token_lens, kde=True, stat='density', linewidth=0)\n",
        "plt.xlim([0, 100]);\n",
        "plt.xlabel('Token count');"
      ]
    },
    {
      "cell_type": "code",
      "execution_count": null,
      "id": "8706c818-5743-474d-ab06-8e80796626dd",
      "metadata": {
        "id": "8706c818-5743-474d-ab06-8e80796626dd"
      },
      "outputs": [],
      "source": [
        "MAX_SEQ_LENGTH = 80"
      ]
    },
    {
      "cell_type": "markdown",
      "id": "709501e2-9810-43d1-876e-7a5a90c7baf2",
      "metadata": {
        "id": "709501e2-9810-43d1-876e-7a5a90c7baf2"
      },
      "source": [
        "# 06 Preparing Data for Embedding Layer"
      ]
    },
    {
      "cell_type": "markdown",
      "id": "f286a91d-879d-4794-9751-9f2ba0913fdc",
      "metadata": {
        "id": "f286a91d-879d-4794-9751-9f2ba0913fdc"
      },
      "source": [
        "## Tokenizing Data"
      ]
    },
    {
      "cell_type": "code",
      "execution_count": null,
      "id": "e53fc8e9-8259-4d61-8df5-637be49b96be",
      "metadata": {
        "colab": {
          "base_uri": "https://localhost:8080/"
        },
        "id": "e53fc8e9-8259-4d61-8df5-637be49b96be",
        "outputId": "72d216f4-4652-47a4-c0c6-2da159b80b8b"
      },
      "outputs": [
        {
          "output_type": "stream",
          "name": "stdout",
          "text": [
            "8831\n"
          ]
        }
      ],
      "source": [
        "NUM_WORDS = 100       # Frekuensi kemunculan kata. Hanya num_words-1 yang akan disimpan pada dictionary. Berarti kata dengan kemunculan <=num_words tidak digunakan.\n",
        "OOV_TOKEN = '<unk>'   # Token khusus untuk mengganti kata yang tidak terdaftar dalam dictionary.\n",
        "\n",
        "tokenizer = Tokenizer(num_words=NUM_WORDS, oov_token=OOV_TOKEN, lower=True, split=' ')\n",
        "tokenizer.fit_on_texts(df['tweet'])\n",
        "\n",
        "# Tambahkan token padding untuk menyamakan ukuran dimensi embedding layer\n",
        "tokenizer.word_index['<pad>'] = 0\n",
        "tokenizer.index_word[0] = '<pad>'\n",
        "\n",
        "WV_DICTIONARY = tokenizer.word_index\n",
        "\n",
        "WV_DICTIONARY_SIZE = len(WV_DICTIONARY)\n",
        "print(WV_DICTIONARY_SIZE) # Lihat kata unik pada dictionary yang dihasilkan"
      ]
    },
    {
      "cell_type": "markdown",
      "id": "afe05251-9fb7-4a86-94b0-869f4444b2f6",
      "metadata": {
        "id": "afe05251-9fb7-4a86-94b0-869f4444b2f6"
      },
      "source": [
        "## Text To Sequence"
      ]
    },
    {
      "cell_type": "code",
      "execution_count": null,
      "id": "80f209a0-4faf-44d6-bf92-ed5ec139ea37",
      "metadata": {
        "id": "80f209a0-4faf-44d6-bf92-ed5ec139ea37"
      },
      "outputs": [],
      "source": [
        "# Proses mengubah token menjadi urutan bilangan int berdasarkan dictionary.\n",
        "data_seq = tokenizer.texts_to_sequences(df['tweet'])"
      ]
    },
    {
      "cell_type": "code",
      "execution_count": null,
      "id": "b2d087a4-35a8-4429-b8b5-2cb18357ca4b",
      "metadata": {
        "colab": {
          "base_uri": "https://localhost:8080/"
        },
        "id": "b2d087a4-35a8-4429-b8b5-2cb18357ca4b",
        "outputId": "1b64bd15-f91b-4094-9c89-f6e26f495d9d"
      },
      "outputs": [
        {
          "output_type": "stream",
          "name": "stdout",
          "text": [
            "apalagi yg jualan spotify premium banyak banget lamalama bikin risih\n",
            "[1, 3, 1, 1, 1, 62, 31, 1, 56, 50]\n"
          ]
        }
      ],
      "source": [
        "print(df['tweet'][10])\n",
        "print(data_seq[10])"
      ]
    },
    {
      "cell_type": "markdown",
      "id": "7182169c-1be1-4f76-aa94-71e93eac77fc",
      "metadata": {
        "id": "7182169c-1be1-4f76-aa94-71e93eac77fc"
      },
      "source": [
        "## Add padding & Truncation"
      ]
    },
    {
      "cell_type": "code",
      "execution_count": null,
      "id": "a4c16583-8e21-4a66-a07b-0a6b4caef10e",
      "metadata": {
        "id": "a4c16583-8e21-4a66-a07b-0a6b4caef10e"
      },
      "outputs": [],
      "source": [
        "# Proses mengubah data dari sequence menjadi array bentuk 2D Numpy (num_samples, num_timesteps). \n",
        "PADDING = 'post'        # Berikan padding untuk setiap sequences. Terdapat dua pilihan dalam melakukan padding 'pre' or 'post'.\n",
        "TRUNCATING = 'post'     # Menghapus token dari sequences yang lebih besar dari max_lenght. Terdapat dua pilihan dalam melakukan truncanting 'pre' or 'post'.\n",
        "\n",
        "data_pad = pad_sequences(data_seq, maxlen=MAX_SEQ_LENGTH, padding=PADDING, truncating=TRUNCATING)"
      ]
    },
    {
      "cell_type": "code",
      "execution_count": null,
      "id": "59c1587a-a2eb-48db-92a2-7f8ca3003bfe",
      "metadata": {
        "colab": {
          "base_uri": "https://localhost:8080/"
        },
        "id": "59c1587a-a2eb-48db-92a2-7f8ca3003bfe",
        "outputId": "3a937128-a6ee-4477-cb59-d36e19cb35a9"
      },
      "outputs": [
        {
          "output_type": "stream",
          "name": "stdout",
          "text": [
            "apalagi yg jualan spotify premium banyak banget lamalama bikin risih\n",
            "[1, 3, 1, 1, 1, 62, 31, 1, 56, 50]\n",
            "[ 1  3  1  1  1 62 31  1 56 50  0  0  0  0  0  0  0  0  0  0  0  0  0  0\n",
            "  0  0  0  0  0  0  0  0  0  0  0  0  0  0  0  0  0  0  0  0  0  0  0  0\n",
            "  0  0  0  0  0  0  0  0  0  0  0  0  0  0  0  0  0  0  0  0  0  0  0  0\n",
            "  0  0  0  0  0  0  0  0]\n"
          ]
        }
      ],
      "source": [
        "print(df['tweet'][10])\n",
        "print(data_seq[10])\n",
        "print(data_pad[10])"
      ]
    },
    {
      "cell_type": "code",
      "execution_count": null,
      "id": "d4ab9d67-1fbc-4031-80dd-ad3df3768b92",
      "metadata": {
        "colab": {
          "base_uri": "https://localhost:8080/"
        },
        "id": "d4ab9d67-1fbc-4031-80dd-ad3df3768b92",
        "outputId": "16ab8206-5288-4a1c-af6f-2d6ad987c056"
      },
      "outputs": [
        {
          "output_type": "execute_result",
          "data": {
            "text/plain": [
              "(2243, 80)"
            ]
          },
          "metadata": {},
          "execution_count": 26
        }
      ],
      "source": [
        "data_pad.shape"
      ]
    },
    {
      "cell_type": "markdown",
      "id": "d6dad3ff-1bea-488b-a240-e66adaedc29d",
      "metadata": {
        "id": "d6dad3ff-1bea-488b-a240-e66adaedc29d"
      },
      "source": [
        "## Create Embedding Matrix"
      ]
    },
    {
      "cell_type": "code",
      "execution_count": null,
      "id": "3e4548d2-3d62-4ac6-9660-5640f8c38599",
      "metadata": {
        "id": "3e4548d2-3d62-4ac6-9660-5640f8c38599"
      },
      "outputs": [],
      "source": [
        "EMBEDDING_MATRIX = np.zeros(shape=(WV_DICTIONARY_SIZE, EMBEDDING_SIZE))\n",
        "\n",
        "for word, i in tokenizer.word_index.items():\n",
        "    embed_vector = word2vec_dict.get(word)\n",
        "    if embed_vector is not None:               # Word is in the vocabulary learned by the w2v model\n",
        "        EMBEDDING_MATRIX[i] = embed_vector"
      ]
    },
    {
      "cell_type": "code",
      "execution_count": null,
      "id": "24bb1134-d5db-4e75-9ca8-8f4c8f73f4e4",
      "metadata": {
        "colab": {
          "base_uri": "https://localhost:8080/"
        },
        "id": "24bb1134-d5db-4e75-9ca8-8f4c8f73f4e4",
        "outputId": "ca2f4e12-b7b9-430a-f5bd-0f8bd85c013f"
      },
      "outputs": [
        {
          "output_type": "stream",
          "name": "stdout",
          "text": [
            "33\n"
          ]
        }
      ],
      "source": [
        "print(WV_DICTIONARY.get('saya'))"
      ]
    },
    {
      "cell_type": "code",
      "execution_count": null,
      "id": "bc0d7357-a633-4b3a-a39c-badca10dc53f",
      "metadata": {
        "colab": {
          "base_uri": "https://localhost:8080/"
        },
        "id": "bc0d7357-a633-4b3a-a39c-badca10dc53f",
        "outputId": "bac8ad4d-8589-44c7-a74d-d02b23092369"
      },
      "outputs": [
        {
          "output_type": "stream",
          "name": "stdout",
          "text": [
            "[ 6.75812364e-02  3.39518279e-01  6.94608688e-02  1.08271278e-01\n",
            "  1.84022978e-01  2.96562672e-01 -3.81502330e-01 -7.48222927e-03\n",
            " -5.04919551e-02  3.02928448e-01  5.22191189e-02 -2.57855028e-01\n",
            "  1.76260576e-01 -2.95605093e-01  5.10009564e-02  9.88978893e-02\n",
            "  1.09668925e-01  5.35296239e-02  1.47750810e-01  7.39202425e-02\n",
            "  1.20023735e-01  2.78929565e-02 -1.75464317e-01  5.84843606e-02\n",
            " -1.29706413e-01  2.33775795e-01 -1.74707830e-01 -3.06156307e-01\n",
            "  7.74664758e-03  2.63089431e-04 -9.33890715e-02  2.00929791e-01\n",
            " -2.58651257e-01  2.62702890e-02 -3.12812150e-01  2.62490362e-01\n",
            " -2.10357904e-01  2.22268179e-02 -2.14812100e-01 -1.54625580e-01\n",
            "  9.13467333e-02 -9.37793124e-03  3.34161341e-01 -1.13048732e-01\n",
            " -1.24602979e-02 -1.20885760e-01  2.13201474e-02 -1.00332431e-01\n",
            " -3.38982701e-01 -1.98508427e-01 -3.51027101e-01 -5.86017873e-03\n",
            "  2.66471714e-01  4.42226091e-03  1.40483379e-01 -3.51466030e-01\n",
            "  9.05994326e-03 -1.54891640e-01  9.23953503e-02 -2.44809806e-01\n",
            "  4.39220399e-01  8.01375210e-02 -2.25704089e-01  3.09850484e-01\n",
            " -2.86513627e-01  4.57599238e-02  3.93176638e-02 -1.02670237e-01\n",
            "  4.12075281e-01 -1.70392931e-01  2.50932068e-01 -3.39006521e-02\n",
            "  4.41575855e-01 -3.42951119e-01 -1.20450109e-01  4.70697552e-01\n",
            "  1.52374923e-01  2.92086661e-01  2.51798034e-01  5.02172038e-02\n",
            " -2.62133151e-01 -1.36651397e-01  1.52262300e-01  1.14801876e-01\n",
            "  9.83074158e-02  3.22206557e-01 -4.48511504e-02  4.62329760e-02\n",
            "  1.40304938e-01 -8.19572583e-02 -4.01723571e-02 -8.45048949e-03\n",
            " -9.15889144e-02 -1.44173190e-01 -1.85628027e-01  9.14694145e-02\n",
            " -2.56502777e-01  1.74113601e-01 -7.58863464e-02  2.03401938e-01\n",
            " -3.94228578e-01  1.83377303e-02 -3.68034959e-01  2.43702248e-01\n",
            " -1.77856967e-01  1.27699941e-01  1.07942991e-01 -1.68931186e-01\n",
            "  4.57269430e-01  1.15296640e-01 -1.15803681e-01 -2.15125084e-01\n",
            " -1.00316949e-01 -7.45920315e-02  2.03192964e-01 -9.71991569e-03\n",
            "  1.67199388e-01  1.25864044e-01  1.71075568e-01  3.72243375e-01\n",
            " -2.74318486e-01 -3.88747633e-01  4.39098358e-01 -2.44922951e-01\n",
            " -1.68180868e-01  2.03411594e-01  5.98781407e-02  9.76161286e-02\n",
            "  1.27953246e-01  4.45722312e-01  7.30838701e-02 -2.79303014e-01\n",
            " -1.32367864e-01  1.68445498e-01  1.64392870e-02  3.06428105e-01\n",
            " -2.61812717e-01  1.05627231e-01 -9.90507752e-02  2.22651899e-01\n",
            "  2.04031006e-01 -8.52899160e-04 -2.63430155e-03  1.92919061e-01\n",
            " -1.61721215e-01  8.45283829e-03  8.00193474e-02 -2.85557747e-01\n",
            "  9.71635208e-02 -8.57655481e-02 -4.58929762e-02 -1.51269257e-01\n",
            "  2.25736737e-01 -4.31535318e-02  1.62760559e-02 -3.84262890e-01\n",
            "  1.37978479e-01  1.06739007e-01 -5.20601496e-02 -2.22148672e-01\n",
            "  1.86245173e-01  1.51300281e-01 -1.19226180e-01  9.37955156e-02\n",
            " -1.67774051e-01 -7.33065531e-02 -1.46726474e-01 -4.65839326e-01\n",
            "  7.25259781e-02  5.96994646e-02 -3.87644202e-01 -2.27806225e-01\n",
            " -7.61700049e-02  6.41782880e-02  1.08431831e-01  1.54653579e-01\n",
            "  8.81231502e-02 -2.39795912e-02 -2.51622319e-01 -3.60191357e-03\n",
            " -4.15692478e-01 -1.52360238e-02 -5.28206117e-02 -1.88392594e-01\n",
            "  1.43469051e-02  8.15131962e-02  8.48577172e-02  1.17757849e-01\n",
            "  3.67168427e-01 -3.61812592e-01  3.05261105e-01  4.09349333e-03\n",
            "  2.47685418e-01 -1.22557715e-01 -1.58722550e-01 -1.92475557e-01\n",
            " -2.15530977e-01  1.66810095e-01  2.10859384e-02 -8.80877376e-02\n",
            " -1.74472004e-01 -2.85018176e-01  6.14557862e-01 -2.59335041e-02\n",
            "  3.27062868e-02  3.52383442e-02 -1.55706376e-01 -2.68232703e-01\n",
            " -1.20821275e-01 -2.87444554e-02 -1.96947068e-01  2.01252475e-01\n",
            "  8.11523423e-02  3.24960649e-01 -2.50925273e-02  2.72729737e-03\n",
            "  2.24925190e-01 -7.58619700e-03  1.96992338e-01  4.75781485e-02\n",
            "  3.42221856e-01 -3.78625780e-01  1.13122970e-01 -2.81907097e-02\n",
            " -1.75136894e-01 -3.66925716e-01 -1.20041341e-01 -3.77299339e-01\n",
            "  1.67003915e-01  2.69479603e-01  3.95874977e-02 -4.16219264e-01\n",
            " -1.02801025e-01  2.23842949e-01  2.14919895e-01 -4.06679183e-01\n",
            "  1.00112334e-01  1.76327631e-01  2.27004334e-01  2.01104909e-01\n",
            " -2.07061335e-01  2.12658718e-01 -1.13839701e-01 -1.32903606e-02\n",
            "  2.65301079e-01 -4.32400286e-01 -4.03120816e-01  4.37718481e-01\n",
            "  3.13041061e-01  6.82858765e-01 -7.47478232e-02  8.26997086e-02\n",
            " -1.25071317e-01  5.08751310e-02 -2.75102884e-01 -1.32645760e-02\n",
            "  1.38492137e-01  4.00138348e-01 -2.87767023e-01 -1.74441367e-01\n",
            "  1.15126871e-01  2.08198264e-01  5.66074774e-02  1.88356593e-01\n",
            "  6.68884143e-02 -9.32007059e-02  7.49563798e-02 -1.78256646e-01\n",
            "  1.83663130e-01  2.17169195e-01  1.11877985e-01  3.40864174e-02\n",
            " -2.08516017e-01 -2.70332158e-01 -2.97827236e-02 -2.24968102e-02\n",
            "  3.28406483e-01 -1.02162667e-01  9.46469009e-02 -4.08658236e-02\n",
            "  1.06695108e-01  2.82374471e-01 -3.56231749e-01  3.53536993e-01\n",
            " -6.73090294e-02 -2.83245035e-02 -3.70086879e-02 -6.19558655e-02\n",
            " -2.29436919e-01  4.85238314e-01 -5.59608757e-01  9.41788182e-02\n",
            " -4.40837681e-01  1.01797298e-01 -3.35491329e-01 -7.74130151e-02\n",
            "  2.63561934e-01  2.30056625e-02  3.39783251e-01 -2.82676697e-01]\n"
          ]
        }
      ],
      "source": [
        "print(EMBEDDING_MATRIX[33])"
      ]
    },
    {
      "cell_type": "code",
      "source": [
        "EMBEDDING_MATRIX.shape"
      ],
      "metadata": {
        "colab": {
          "base_uri": "https://localhost:8080/"
        },
        "id": "7BTbLj8F5yyL",
        "outputId": "d648268d-b320-4a6e-b388-64b6bdb6c742"
      },
      "id": "7BTbLj8F5yyL",
      "execution_count": null,
      "outputs": [
        {
          "output_type": "execute_result",
          "data": {
            "text/plain": [
              "(8831, 300)"
            ]
          },
          "metadata": {},
          "execution_count": 30
        }
      ]
    },
    {
      "cell_type": "markdown",
      "id": "b64e75c2-f657-4e8d-998b-84ddebe4317a",
      "metadata": {
        "id": "b64e75c2-f657-4e8d-998b-84ddebe4317a"
      },
      "source": [
        "# 07 Train & Test Data Splitting"
      ]
    },
    {
      "cell_type": "code",
      "execution_count": null,
      "id": "24fc5d77-1f3d-40cd-8384-f2e22fbe4858",
      "metadata": {
        "id": "24fc5d77-1f3d-40cd-8384-f2e22fbe4858"
      },
      "outputs": [],
      "source": [
        "NUM_CLASS = len(df['label_encode'].unique())\n",
        "\n",
        "Y = to_categorical(df['label_encode'], num_classes=NUM_CLASS)  # Lakukan one-hot encoding pada label (y)"
      ]
    },
    {
      "cell_type": "code",
      "execution_count": null,
      "id": "0761adda-6df1-466b-ad04-c1c43459ff21",
      "metadata": {
        "colab": {
          "base_uri": "https://localhost:8080/"
        },
        "id": "0761adda-6df1-466b-ad04-c1c43459ff21",
        "outputId": "60fe262b-89e7-4974-ee42-b6b9e9fde739"
      },
      "outputs": [
        {
          "output_type": "execute_result",
          "data": {
            "text/plain": [
              "((1794, 80), (449, 80), (1794, 6), (449, 6))"
            ]
          },
          "metadata": {},
          "execution_count": 32
        }
      ],
      "source": [
        "X_train, X_test, y_train, y_test = train_test_split(data_pad, Y, test_size=0.20, stratify=Y, random_state=SEED)\n",
        "X_train.shape, X_test.shape, y_train.shape, y_test.shape"
      ]
    },
    {
      "cell_type": "markdown",
      "id": "af13d223-d8c9-43ac-9c2d-8352f980f022",
      "metadata": {
        "id": "af13d223-d8c9-43ac-9c2d-8352f980f022"
      },
      "source": [
        "# 08 Define Model (Bidirectional GRU)"
      ]
    },
    {
      "cell_type": "markdown",
      "source": [
        "## Architecture"
      ],
      "metadata": {
        "id": "HL4PZ8cdQb1P"
      },
      "id": "HL4PZ8cdQb1P"
    },
    {
      "cell_type": "code",
      "execution_count": null,
      "id": "aff3f131-58dc-4207-b051-e9b2f67b8f38",
      "metadata": {
        "id": "aff3f131-58dc-4207-b051-e9b2f67b8f38"
      },
      "outputs": [],
      "source": [
        "# https://www.tensorflow.org/api_docs/python/tf/keras/layers/Bidirectional\n",
        "# https://www.tensorflow.org/api_docs/python/tf/keras/layers/GRU\n",
        "\n",
        "UNITS = 64\n",
        "\n",
        "tf.keras.backend.clear_session()\n",
        "\n",
        "model = Sequential()\n",
        "model.add(Embedding(\n",
        "    input_dim = WV_DICTIONARY_SIZE,                                \n",
        "    output_dim = EMBEDDING_SIZE,                           \n",
        "    input_length = MAX_SEQ_LENGTH,  \n",
        "    trainable = False,\n",
        "    embeddings_initializer=Constant(EMBEDDING_MATRIX)))\n",
        "model.add(Bidirectional(GRU(UNITS*2, dropout=0.5, return_sequences=False)))\n",
        "model.add(Dense(UNITS, activation='relu'))\n",
        "model.add(Dropout(0.5))\n",
        "model.add(Dense(NUM_CLASS, activation='softmax'))"
      ]
    },
    {
      "cell_type": "code",
      "execution_count": null,
      "id": "512cae56-10ae-4c03-8aee-2706eb27632f",
      "metadata": {
        "colab": {
          "base_uri": "https://localhost:8080/"
        },
        "id": "512cae56-10ae-4c03-8aee-2706eb27632f",
        "outputId": "06c6b2b4-0ddc-445b-cbee-2c7c46d4df17"
      },
      "outputs": [
        {
          "output_type": "stream",
          "name": "stdout",
          "text": [
            "Model: \"sequential\"\n",
            "_________________________________________________________________\n",
            " Layer (type)                Output Shape              Param #   \n",
            "=================================================================\n",
            " embedding (Embedding)       (None, 80, 300)           2649300   \n",
            "                                                                 \n",
            " bidirectional (Bidirectiona  (None, 256)              330240    \n",
            " l)                                                              \n",
            "                                                                 \n",
            " dense (Dense)               (None, 64)                16448     \n",
            "                                                                 \n",
            " dropout (Dropout)           (None, 64)                0         \n",
            "                                                                 \n",
            " dense_1 (Dense)             (None, 6)                 390       \n",
            "                                                                 \n",
            "=================================================================\n",
            "Total params: 2,996,378\n",
            "Trainable params: 347,078\n",
            "Non-trainable params: 2,649,300\n",
            "_________________________________________________________________\n"
          ]
        }
      ],
      "source": [
        "model.summary()"
      ]
    },
    {
      "cell_type": "code",
      "source": [
        "plot_model(model, show_shapes=True, show_layer_activations=True, show_dtype=False, dpi=90, to_file=f'{FOLDER_PATH}/model-plot/{MODEL}-model.png')"
      ],
      "metadata": {
        "colab": {
          "base_uri": "https://localhost:8080/",
          "height": 605
        },
        "id": "nkvBqETlErwO",
        "outputId": "448c5b14-aefe-402e-9715-44888cda5f51"
      },
      "id": "nkvBqETlErwO",
      "execution_count": null,
      "outputs": [
        {
          "output_type": "execute_result",
          "data": {
            "text/plain": [
              "<IPython.core.display.Image object>"
            ],
            "image/png": "[encoded data removed]"
          },
          "metadata": {},
          "execution_count": 35
        }
      ]
    },
    {
      "cell_type": "markdown",
      "source": [
        "## Compile"
      ],
      "metadata": {
        "id": "wgQN-l4rQgRq"
      },
      "id": "wgQN-l4rQgRq"
    },
    {
      "cell_type": "code",
      "source": [
        "# https://www.tensorflow.org/api_docs/python/tf/keras/metrics\n",
        "\n",
        "METRICS = [\n",
        "           tf.keras.metrics.CategoricalAccuracy(name='accuracy'),\n",
        "           tf.keras.metrics.Precision(name='precision'),\n",
        "           tf.keras.metrics.Recall(name='recall'),\n",
        "]\n",
        "\n",
        "LEARNING_RATE = 0.001"
      ],
      "metadata": {
        "id": "MkvqE_Ud7frq"
      },
      "id": "MkvqE_Ud7frq",
      "execution_count": null,
      "outputs": []
    },
    {
      "cell_type": "code",
      "execution_count": null,
      "id": "3fd3ef04-ea26-4988-a4fb-0cd63be04a11",
      "metadata": {
        "id": "3fd3ef04-ea26-4988-a4fb-0cd63be04a11"
      },
      "outputs": [],
      "source": [
        "OPTIMIZER = Adam(learning_rate=LEARNING_RATE)\n",
        "LOSS_FUNCTION = CategoricalCrossentropy(name='categorical_crossentropy')\n",
        "\n",
        "model.compile(loss=LOSS_FUNCTION, optimizer=OPTIMIZER, metrics=METRICS)"
      ]
    },
    {
      "cell_type": "markdown",
      "id": "ac8708d7-5d3f-49b6-b28a-5a4969e160f1",
      "metadata": {
        "id": "ac8708d7-5d3f-49b6-b28a-5a4969e160f1"
      },
      "source": [
        "# 09 Early Stopping & Model Checkpoint"
      ]
    },
    {
      "cell_type": "code",
      "execution_count": null,
      "id": "14a556fb-a4fa-46c2-85b2-f1d7731ac148",
      "metadata": {
        "id": "14a556fb-a4fa-46c2-85b2-f1d7731ac148"
      },
      "outputs": [],
      "source": [
        "# Early stopping criteria\n",
        "early_stopping = EarlyStopping(monitor='val_loss', mode='auto', verbose=1, patience=5)\n",
        "\n",
        "# Path to model checkpoint\n",
        "checkpoint_dir = f'{FOLDER_PATH}/model-checkpoint/{MODEL}/cp.ckpt'\n",
        "model_checkpoint = ModelCheckpoint(checkpoint_dir, monitor='val_accuracy', save_weights_only=True, verbose=1, save_freq='epoch', save_best_only=True)"
      ]
    },
    {
      "cell_type": "code",
      "source": [
        "# Path to model log\n",
        "log_dir = f'{FOLDER_PATH}/model-log/{MODEL}/' + datetime.datetime.now().strftime('%Y%m%d-%H%M%S')\n",
        "print(log_dir)"
      ],
      "metadata": {
        "colab": {
          "base_uri": "https://localhost:8080/"
        },
        "id": "SfBzZKiLA7k5",
        "outputId": "fbd55395-f5bf-4bbc-afbb-8558d6ab4ee8"
      },
      "id": "SfBzZKiLA7k5",
      "execution_count": null,
      "outputs": [
        {
          "output_type": "stream",
          "name": "stdout",
          "text": [
            "model-baseline-bilstm/model-log/id-wiki-word2vec-bigru/20220715-173549\n"
          ]
        }
      ]
    },
    {
      "cell_type": "code",
      "execution_count": null,
      "id": "4000c916-de1c-4eb8-86c4-9118bb24888e",
      "metadata": {
        "id": "4000c916-de1c-4eb8-86c4-9118bb24888e"
      },
      "outputs": [],
      "source": [
        "tensorboard_callback = TensorBoard(log_dir=log_dir ,update_freq='epoch', histogram_freq=1, embeddings_freq=1)"
      ]
    },
    {
      "cell_type": "markdown",
      "id": "345bb69d-1998-4891-ae17-47932870a21d",
      "metadata": {
        "id": "345bb69d-1998-4891-ae17-47932870a21d"
      },
      "source": [
        "# 10 Training"
      ]
    },
    {
      "cell_type": "code",
      "execution_count": null,
      "id": "bdd7ff34-3e39-4c62-a25d-af2b1e1e35e7",
      "metadata": {
        "id": "bdd7ff34-3e39-4c62-a25d-af2b1e1e35e7"
      },
      "outputs": [],
      "source": [
        "EPOCHS = 10\n",
        "BATCH_SIZE = 16\n",
        "\n",
        "# Config for wandb\n",
        "config = {\n",
        "    'type': 'baseline',\n",
        "    'architecture': 'BiGRU',\n",
        "    'word_embedding': 'Word2Vec-ID-wiki-300',\n",
        "    'dataset': 'indo-tweet-emotion',\n",
        "    'learning_rate': LEARNING_RATE,\n",
        "    'batch_size': BATCH_SIZE,\n",
        "    'epochs': EPOCHS,\n",
        "    'loss_function': LOSS_FUNCTION.name,\n",
        "    'optimizer': OPTIMIZER._name\n",
        "}"
      ]
    },
    {
      "cell_type": "code",
      "execution_count": null,
      "id": "50c487c3-da7b-4161-8e63-f8edc3ee6a44",
      "metadata": {
        "tags": [],
        "colab": {
          "base_uri": "https://localhost:8080/",
          "height": 964,
          "referenced_widgets": [
            "04cacb9e790941aba6fa95d88ea5f6d4",
            "0be68e7edc6d433a88dce0694db29e53",
            "139a83e2b4944045a63c02f1c8623675",
            "b1fcc4a7c1e94824921c3183c2de25cc",
            "cc4483b55ba7424396e2e34d7e7f4e3f",
            "c24a2d855ad14d45a5fdd031450d7111",
            "d806a3e1a9bf440ea99f7bc54d03b3d6",
            "b61f05475ee64dba82417a3191cc94e3"
          ]
        },
        "id": "50c487c3-da7b-4161-8e63-f8edc3ee6a44",
        "outputId": "a8c6820d-c8cb-4039-ea67-2e5dddee3b4f"
      },
      "outputs": [
        {
          "output_type": "stream",
          "name": "stderr",
          "text": [
            "\u001b[34m\u001b[1mwandb\u001b[0m: Currently logged in as: \u001b[33mindoemobert\u001b[0m. Use \u001b[1m`wandb login --relogin`\u001b[0m to force relogin\n"
          ]
        },
        {
          "output_type": "display_data",
          "data": {
            "text/plain": [
              "<IPython.core.display.HTML object>"
            ],
            "text/html": [
              "Tracking run with wandb version 0.12.21"
            ]
          },
          "metadata": {}
        },
        {
          "output_type": "display_data",
          "data": {
            "text/plain": [
              "<IPython.core.display.HTML object>"
            ],
            "text/html": [
              "Run data is saved locally in <code>/content/drive/MyDrive/Code/tesis/wandb/run-20220715_173551-2i1h44ta</code>"
            ]
          },
          "metadata": {}
        },
        {
          "output_type": "display_data",
          "data": {
            "text/plain": [
              "<IPython.core.display.HTML object>"
            ],
            "text/html": [
              "Syncing run <strong><a href=\"https://wandb.ai/indoemobert/baseline-model/runs/2i1h44ta\" target=\"_blank\">id-wiki-word2vec-bigru-(07-15-2022-17:35)</a></strong> to <a href=\"https://wandb.ai/indoemobert/baseline-model\" target=\"_blank\">Weights & Biases</a> (<a href=\"https://wandb.me/run\" target=\"_blank\">docs</a>)<br/>"
            ]
          },
          "metadata": {}
        },
        {
          "output_type": "stream",
          "name": "stdout",
          "text": [
            "WARNING:tensorflow:From /usr/local/lib/python3.7/dist-packages/tensorflow/python/profiler/internal/flops_registry.py:138: tensor_shape_from_node_def_name (from tensorflow.python.framework.graph_util_impl) is deprecated and will be removed in a future version.\n",
            "Instructions for updating:\n",
            "Use `tf.compat.v1.graph_util.tensor_shape_from_node_def_name`\n",
            "Epoch 1/10\n",
            "113/113 [==============================] - 14s 55ms/step - loss: 1.7049 - accuracy: 0.2681 - precision: 0.9444 - recall: 0.0190 - val_loss: 1.5059 - val_accuracy: 0.4321 - val_precision: 0.9667 - val_recall: 0.0646 - _timestamp: 1657906569.0000 - _runtime: 18.0000\n",
            "Epoch 2/10\n",
            "113/113 [==============================] - 2s 22ms/step - loss: 1.3130 - accuracy: 0.5223 - precision: 0.8091 - recall: 0.2480 - val_loss: 0.8616 - val_accuracy: 0.7149 - val_precision: 0.8667 - val_recall: 0.5791 - _timestamp: 1657906571.0000 - _runtime: 20.0000\n",
            "Epoch 3/10\n",
            "113/113 [==============================] - 2s 21ms/step - loss: 0.9492 - accuracy: 0.6839 - precision: 0.8376 - recall: 0.5318 - val_loss: 0.6968 - val_accuracy: 0.7906 - val_precision: 0.8829 - val_recall: 0.6882 - _timestamp: 1657906574.0000 - _runtime: 23.0000\n",
            "Epoch 4/10\n",
            "113/113 [==============================] - 2s 21ms/step - loss: 0.7638 - accuracy: 0.7586 - precision: 0.8487 - recall: 0.6600 - val_loss: 0.6151 - val_accuracy: 0.8263 - val_precision: 0.8520 - val_recall: 0.7951 - _timestamp: 1657906576.0000 - _runtime: 25.0000\n",
            "Epoch 5/10\n",
            "113/113 [==============================] - 2s 21ms/step - loss: 0.6912 - accuracy: 0.7860 - precision: 0.8514 - recall: 0.7252 - val_loss: 0.5407 - val_accuracy: 0.8285 - val_precision: 0.8838 - val_recall: 0.8129 - _timestamp: 1657906579.0000 - _runtime: 28.0000\n",
            "Epoch 6/10\n",
            "113/113 [==============================] - 2s 21ms/step - loss: 0.6405 - accuracy: 0.8032 - precision: 0.8547 - recall: 0.7441 - val_loss: 0.5589 - val_accuracy: 0.8419 - val_precision: 0.8708 - val_recall: 0.8107 - _timestamp: 1657906581.0000 - _runtime: 30.0000\n",
            "Epoch 7/10\n",
            "113/113 [==============================] - 2s 22ms/step - loss: 0.6057 - accuracy: 0.8161 - precision: 0.8706 - recall: 0.7653 - val_loss: 0.5887 - val_accuracy: 0.8374 - val_precision: 0.8747 - val_recall: 0.8085 - _timestamp: 1657906583.0000 - _runtime: 32.0000\n",
            "Epoch 8/10\n",
            "113/113 [==============================] - 2s 21ms/step - loss: 0.6116 - accuracy: 0.8127 - precision: 0.8555 - recall: 0.7592 - val_loss: 0.5550 - val_accuracy: 0.8285 - val_precision: 0.8808 - val_recall: 0.8062 - _timestamp: 1657906586.0000 - _runtime: 35.0000\n",
            "Epoch 9/10\n",
            "113/113 [==============================] - 3s 24ms/step - loss: 0.5961 - accuracy: 0.8161 - precision: 0.8652 - recall: 0.7620 - val_loss: 0.5624 - val_accuracy: 0.8352 - val_precision: 0.8703 - val_recall: 0.8218 - _timestamp: 1657906589.0000 - _runtime: 38.0000\n",
            "Epoch 10/10\n",
            "113/113 [==============================] - 2s 22ms/step - loss: 0.5931 - accuracy: 0.8149 - precision: 0.8578 - recall: 0.7631 - val_loss: 0.5668 - val_accuracy: 0.8374 - val_precision: 0.8599 - val_recall: 0.8062 - _timestamp: 1657906591.0000 - _runtime: 40.0000\n"
          ]
        },
        {
          "output_type": "display_data",
          "data": {
            "text/plain": [
              "<IPython.core.display.HTML object>"
            ],
            "text/html": [
              "Waiting for W&B process to finish... <strong style=\"color:green\">(success).</strong>"
            ]
          },
          "metadata": {}
        },
        {
          "output_type": "display_data",
          "data": {
            "text/plain": [
              "VBox(children=(Label(value='0.001 MB of 0.001 MB uploaded (0.000 MB deduped)\\r'), FloatProgress(value=1.0, max…"
            ],
            "application/vnd.jupyter.widget-view+json": {
              "version_major": 2,
              "version_minor": 0,
              "model_id": "04cacb9e790941aba6fa95d88ea5f6d4"
            }
          },
          "metadata": {}
        },
        {
          "output_type": "display_data",
          "data": {
            "text/plain": [
              "<IPython.core.display.HTML object>"
            ],
            "text/html": [
              "<style>\n",
              "    table.wandb td:nth-child(1) { padding: 0 10px; text-align: left ; width: auto;} td:nth-child(2) {text-align: left ; width: 100%}\n",
              "    .wandb-row { display: flex; flex-direction: row; flex-wrap: wrap; justify-content: flex-start; width: 100% }\n",
              "    .wandb-col { display: flex; flex-direction: column; flex-basis: 100%; flex: 1; padding: 10px; }\n",
              "    </style>\n",
              "<div class=\"wandb-row\"><div class=\"wandb-col\"><h3>Run history:</h3><br/><table class=\"wandb\"><tr><td>accuracy</td><td>▁▄▆▇██████</td></tr><tr><td>epoch</td><td>▁▂▃▃▄▅▆▆▇█</td></tr><tr><td>loss</td><td>█▆▃▂▂▁▁▁▁▁</td></tr><tr><td>precision</td><td>█▁▂▃▃▃▄▃▄▄</td></tr><tr><td>recall</td><td>▁▃▆▇██████</td></tr><tr><td>val_accuracy</td><td>▁▆▇███████</td></tr><tr><td>val_loss</td><td>█▃▂▂▁▁▁▁▁▁</td></tr><tr><td>val_precision</td><td>█▂▃▁▃▂▂▃▂▁</td></tr><tr><td>val_recall</td><td>▁▆▇███████</td></tr></table><br/></div><div class=\"wandb-col\"><h3>Run summary:</h3><br/><table class=\"wandb\"><tr><td>GFLOPS</td><td>4e-05</td></tr><tr><td>accuracy</td><td>0.81494</td></tr><tr><td>best_epoch</td><td>4</td></tr><tr><td>best_val_loss</td><td>0.54066</td></tr><tr><td>epoch</td><td>9</td></tr><tr><td>loss</td><td>0.59313</td></tr><tr><td>precision</td><td>0.85777</td></tr><tr><td>recall</td><td>0.7631</td></tr><tr><td>val_accuracy</td><td>0.83742</td></tr><tr><td>val_loss</td><td>0.56682</td></tr><tr><td>val_precision</td><td>0.85986</td></tr><tr><td>val_recall</td><td>0.80624</td></tr></table><br/></div></div>"
            ]
          },
          "metadata": {}
        },
        {
          "output_type": "display_data",
          "data": {
            "text/plain": [
              "<IPython.core.display.HTML object>"
            ],
            "text/html": [
              "Synced <strong style=\"color:#cdcd00\">id-wiki-word2vec-bigru-(07-15-2022-17:35)</strong>: <a href=\"https://wandb.ai/indoemobert/baseline-model/runs/2i1h44ta\" target=\"_blank\">https://wandb.ai/indoemobert/baseline-model/runs/2i1h44ta</a><br/>Synced 5 W&B file(s), 1 media file(s), 0 artifact file(s) and 0 other file(s)"
            ]
          },
          "metadata": {}
        },
        {
          "output_type": "display_data",
          "data": {
            "text/plain": [
              "<IPython.core.display.HTML object>"
            ],
            "text/html": [
              "Find logs at: <code>./wandb/run-20220715_173551-2i1h44ta/logs</code>"
            ]
          },
          "metadata": {}
        },
        {
          "output_type": "stream",
          "name": "stdout",
          "text": [
            "CPU times: user 38.9 s, sys: 3.86 s, total: 42.8 s\n",
            "Wall time: 45.8 s\n"
          ]
        }
      ],
      "source": [
        "%%time\n",
        "\n",
        "# Initialize wandb \n",
        "wandb.tensorboard.patch(root_logdir=log_dir)\n",
        "wandb_run = wandb.init(project='baseline-bilstm', name=f'{MODEL}', entity='indoemobert', config=config, sync_tensorboard=True)\n",
        "\n",
        "# Training\n",
        "model_history = model.fit(\n",
        "    X_train, \n",
        "    y_train, \n",
        "    epochs=EPOCHS,\n",
        "    batch_size=BATCH_SIZE, \n",
        "    validation_data=(X_test, y_test), \n",
        "    verbose=1, \n",
        "    steps_per_epoch=int(np.ceil(X_train.shape[0] / BATCH_SIZE)),\n",
        "    callbacks=[\n",
        "        # early_stopping, \n",
        "        # model_checkpoint,\n",
        "        # tensorboard_callback,\n",
        "        WandbCallback(\n",
        "            input_type='text',\n",
        "            training_data=(X_train, y_train),\n",
        "            validation_data=(X_test, y_test),\n",
        "            labels=LABEL_NAME,\n",
        "            monitor='val_loss',\n",
        "            log_best_prefix='best_',\n",
        "            log_gradients=True,\n",
        "            log_weights=True,\n",
        "            save_weights_only=True,\n",
        "            save_model=False\n",
        "        )]\n",
        ")\n",
        "\n",
        "wandb_run.finish()"
      ]
    },
    {
      "cell_type": "code",
      "execution_count": null,
      "id": "6d6cee9e-aa4d-4173-8379-ad699aae24ba",
      "metadata": {
        "id": "6d6cee9e-aa4d-4173-8379-ad699aae24ba"
      },
      "outputs": [],
      "source": [
        "def plot_metrics(history):\n",
        "  metrics = ['loss', 'accuracy', 'precision', 'recall']\n",
        "  plt.figure(figsize=(12, 10))\n",
        "  for n, metric in enumerate(metrics):\n",
        "    name = metric.replace('_',' ').capitalize()\n",
        "    plt.subplot(2,2,n+1)\n",
        "    plt.plot(history.epoch, history.history[metric], color=colors[0], label='Train')\n",
        "    plt.plot(history.epoch, history.history['val_'+metric], color=colors[0], linestyle='--', label='Validation')\n",
        "    plt.xlabel('Epoch')\n",
        "    plt.ylabel(name)\n",
        "\n",
        "    if metric == 'loss':\n",
        "      plt.ylim([0, plt.ylim()[1]])\n",
        "    else:\n",
        "      plt.ylim([0,1])\n",
        "\n",
        "    plt.legend(loc='lower right');"
      ]
    },
    {
      "cell_type": "code",
      "execution_count": null,
      "id": "2ba75740-9a75-4722-aee2-70b220527fee",
      "metadata": {
        "colab": {
          "base_uri": "https://localhost:8080/",
          "height": 610
        },
        "id": "2ba75740-9a75-4722-aee2-70b220527fee",
        "outputId": "1c675010-0505-43dd-8496-fe4a4958b5bb"
      },
      "outputs": [
        {
          "output_type": "display_data",
          "data": {
            "text/plain": [
              "<Figure size 864x720 with 4 Axes>"
            ],
            "image/png": "[encoded data removed]"
          },
          "metadata": {
            "needs_background": "light"
          }
        }
      ],
      "source": [
        "plot_metrics(model_history)"
      ]
    },
    {
      "cell_type": "code",
      "source": [
        "hist_df = pd.DataFrame(model_history.history)\n",
        "print(hist_df)\n",
        "\n",
        "hist_df.to_csv(f'{FOLDER_PATH}/model-history/{MODEL}-{TODAY}.csv')"
      ],
      "metadata": {
        "colab": {
          "base_uri": "https://localhost:8080/"
        },
        "id": "ilmk1XTu9Xt7",
        "outputId": "3ca75e7f-0688-456e-b25a-b84be383ac67"
      },
      "id": "ilmk1XTu9Xt7",
      "execution_count": null,
      "outputs": [
        {
          "output_type": "stream",
          "name": "stdout",
          "text": [
            "       loss  accuracy  precision    recall  val_loss  val_accuracy  \\\n",
            "0  1.704911  0.268116   0.944444  0.018952  1.505914      0.432071   \n",
            "1  1.313018  0.522297   0.809091  0.248049  0.861629      0.714922   \n",
            "2  0.949201  0.683946   0.837577  0.531773  0.696807      0.790646   \n",
            "3  0.763783  0.758640   0.848746  0.659978  0.615129      0.826281   \n",
            "4  0.691201  0.785953   0.851440  0.725195  0.540655      0.828508   \n",
            "5  0.640497  0.803233   0.854674  0.744147  0.558880      0.841871   \n",
            "6  0.605730  0.816054   0.870640  0.765329  0.588699      0.837416   \n",
            "7  0.611558  0.812709   0.855528  0.759197  0.554982      0.828508   \n",
            "8  0.596114  0.816054   0.865190  0.761984  0.562377      0.835189   \n",
            "9  0.593127  0.814939   0.857769  0.763099  0.566818      0.837416   \n",
            "\n",
            "   val_precision  val_recall  _timestamp  _runtime  \n",
            "0       0.966667    0.064588  1657906569        18  \n",
            "1       0.866667    0.579065  1657906571        20  \n",
            "2       0.882857    0.688196  1657906574        23  \n",
            "3       0.852029    0.795100  1657906576        25  \n",
            "4       0.883777    0.812918  1657906579        28  \n",
            "5       0.870813    0.810690  1657906581        30  \n",
            "6       0.874699    0.808463  1657906583        32  \n",
            "7       0.880779    0.806236  1657906586        35  \n",
            "8       0.870283    0.821826  1657906589        38  \n",
            "9       0.859857    0.806236  1657906591        40  \n"
          ]
        }
      ]
    },
    {
      "cell_type": "code",
      "execution_count": null,
      "id": "88a1e276-1197-4331-b387-db867bb8a6f2",
      "metadata": {
        "id": "88a1e276-1197-4331-b387-db867bb8a6f2"
      },
      "outputs": [],
      "source": [
        "# save model\n",
        "model.save(f'{FOLDER_PATH}/model-fit/{MODEL}/{MODEL}.h5')"
      ]
    },
    {
      "cell_type": "markdown",
      "id": "f47228a0-2b5c-4ccd-8374-f6606913add2",
      "metadata": {
        "id": "f47228a0-2b5c-4ccd-8374-f6606913add2"
      },
      "source": [
        "# 11 Evaluation"
      ]
    },
    {
      "cell_type": "code",
      "execution_count": null,
      "id": "4b70a8d2-ac47-47f5-be3a-557e8dfee000",
      "metadata": {
        "colab": {
          "base_uri": "https://localhost:8080/"
        },
        "id": "4b70a8d2-ac47-47f5-be3a-557e8dfee000",
        "outputId": "0b7de31d-9829-4d83-e755-6960393e12e6"
      },
      "outputs": [
        {
          "output_type": "stream",
          "name": "stdout",
          "text": [
            "15/15 [==============================] - 0s 5ms/step - loss: 0.5668 - accuracy: 0.8374 - precision: 0.8599 - recall: 0.8062\n",
            "Accuracy: 83.74%\n"
          ]
        }
      ],
      "source": [
        "y_pred = np.argmax(model.predict(X_test), axis=1)\n",
        "y_true = np.argmax(y_test, axis=1)\n",
        "\n",
        "loss, accuracy, precision, recall = model.evaluate(X_test, y_test)\n",
        "print(\"Accuracy: %.2f%%\" % (accuracy*100))"
      ]
    },
    {
      "cell_type": "code",
      "source": [
        "cm = confusion_matrix(y_true, y_pred)\n",
        "\n",
        "plt.figure(figsize=(8, 6))\n",
        "ax = plt.subplot()\n",
        "sns.heatmap(cm, annot=True, fmt='g', ax=ax, cmap='Blues')  # annot=True to annotate cells, ftm='g' to disable scientific notation\n",
        "\n",
        "ax.set_xlabel('Predicted labels')\n",
        "ax.set_ylabel('True labels') \n",
        "ax.set_title('Confusion Matrix')\n",
        "ax.xaxis.set_ticklabels(LABEL_NAME)\n",
        "ax.yaxis.set_ticklabels(LABEL_NAME)\n",
        "plt.tight_layout()"
      ],
      "metadata": {
        "colab": {
          "base_uri": "https://localhost:8080/",
          "height": 441
        },
        "id": "yDfdvYRmCsxk",
        "outputId": "22e67f39-67ae-4176-c296-c97204aabeea"
      },
      "id": "yDfdvYRmCsxk",
      "execution_count": null,
      "outputs": [
        {
          "output_type": "display_data",
          "data": {
            "text/plain": [
              "<Figure size 576x432 with 2 Axes>"
            ],
            "image/png": "[encoded data removed]"
          },
          "metadata": {
            "needs_background": "light"
          }
        }
      ]
    },
    {
      "cell_type": "code",
      "execution_count": null,
      "id": "4990b17c-b31c-44d7-af33-1c408dc09407",
      "metadata": {
        "colab": {
          "base_uri": "https://localhost:8080/"
        },
        "id": "4990b17c-b31c-44d7-af33-1c408dc09407",
        "outputId": "4bdd7297-4091-42fe-bfba-dba76ea5a0f7"
      },
      "outputs": [
        {
          "output_type": "stream",
          "name": "stdout",
          "text": [
            "              precision    recall  f1-score   support\n",
            "\n",
            "       anger       0.72      0.85      0.78        80\n",
            "     disgust       0.96      0.89      0.93        76\n",
            "        fear       0.87      0.85      0.86        81\n",
            "         joy       0.76      0.84      0.80        77\n",
            "     sadness       0.93      0.77      0.84        74\n",
            "    surprise       0.86      0.80      0.83        61\n",
            "\n",
            "    accuracy                           0.84       449\n",
            "   macro avg       0.85      0.84      0.84       449\n",
            "weighted avg       0.85      0.84      0.84       449\n",
            "\n"
          ]
        }
      ],
      "source": [
        "print(classification_report(y_pred, y_true, target_names=LABEL_NAME))"
      ]
    },
    {
      "cell_type": "code",
      "source": [
        "def plot_roc_curve(y_test, y_pred):\n",
        "  \n",
        "  n_classes = len(np.unique(y_test))\n",
        "  y_test = label_binarize(y_test, classes=np.arange(len(LABEL_NAME)))\n",
        "  y_pred = label_binarize(y_pred, classes=np.arange(len(LABEL_NAME)))\n",
        "\n",
        "  # Compute ROC curve and ROC area for each class\n",
        "  fpr = dict()\n",
        "  tpr = dict()\n",
        "  roc_auc = dict()\n",
        "  for i in range(n_classes):\n",
        "    fpr[i], tpr[i], _ = roc_curve(y_test[:, i], y_pred[:, i])\n",
        "    roc_auc[i] = auc(fpr[i], tpr[i])\n",
        "  \n",
        "  # Compute micro-average ROC curve and ROC area\n",
        "  fpr['micro'], tpr['micro'], _ = roc_curve(y_test.ravel(), y_pred.ravel())\n",
        "  roc_auc['micro'] = auc(fpr['micro'], tpr['micro'])\n",
        "\n",
        "  # First aggregate all false positive rates\n",
        "  all_fpr = np.unique(np.concatenate([fpr[i] for i in range(n_classes)]))\n",
        "\n",
        "  # Then interpolate all ROC curves at this points\n",
        "  mean_tpr = np.zeros_like(all_fpr)\n",
        "  for i in range(n_classes):\n",
        "    mean_tpr += np.interp(all_fpr, fpr[i], tpr[i])\n",
        "\n",
        "  # Finally average it and compute AUC\n",
        "  mean_tpr /= n_classes\n",
        "\n",
        "  fpr['macro'] = all_fpr\n",
        "  tpr['macro'] = mean_tpr\n",
        "  roc_auc['macro'] = auc(fpr['macro'], tpr['macro'])\n",
        "\n",
        "  # Plot all ROC curves\n",
        "  plt.figure(figsize=(10, 7))\n",
        "  lw = 2\n",
        "  plt.plot(fpr['micro'], tpr['micro'],\n",
        "    label='micro-average ROC curve (area = {0:0.2f})'.format(roc_auc['micro']),\n",
        "    color='deeppink', linestyle=':', linewidth=4,)\n",
        "\n",
        "  plt.plot(fpr['macro'], tpr['macro'],\n",
        "    label='macro-average ROC curve (area = {0:0.2f})'.format(roc_auc['macro']),\n",
        "    color='navy', linestyle=':', linewidth=4,)\n",
        "\n",
        "  colors = cycle(['aqua', 'darkorange', 'darkgreen', 'yellow', 'blue', 'red'])\n",
        "  for i, color, label in zip(range(n_classes), colors, LABEL_NAME):\n",
        "    plt.plot(fpr[i], tpr[i], color=color, lw=lw,\n",
        "        label=\"ROC curve of class {0} (area = {1:0.2f})\".format(label, roc_auc[i]))\n",
        "\n",
        "  plt.plot([0, 1], [0, 1], 'k--', lw=lw)\n",
        "  plt.xlim([0.0, 1.0])\n",
        "  plt.ylim([0.0, 1.05])\n",
        "  plt.xlabel('False Positive Rate')\n",
        "  plt.ylabel('True Positive Rate')\n",
        "  plt.title('Receiver Operating Characteristic (ROC) curve')\n",
        "  plt.legend()\n",
        "  plt.show()"
      ],
      "metadata": {
        "id": "oOcCQsrv8KSd"
      },
      "id": "oOcCQsrv8KSd",
      "execution_count": null,
      "outputs": []
    },
    {
      "cell_type": "code",
      "source": [
        "plot_roc_curve(y_pred, y_true)"
      ],
      "metadata": {
        "colab": {
          "base_uri": "https://localhost:8080/",
          "height": 458
        },
        "id": "nU5aEZLi8LSF",
        "outputId": "0c622f90-fa17-4541-e30c-dfb9d3df1907"
      },
      "id": "nU5aEZLi8LSF",
      "execution_count": null,
      "outputs": [
        {
          "output_type": "display_data",
          "data": {
            "text/plain": [
              "<Figure size 720x504 with 1 Axes>"
            ],
            "image/png": "[encoded data removed]"
          },
          "metadata": {
            "needs_background": "light"
          }
        }
      ]
    },
    {
      "cell_type": "markdown",
      "source": [
        "# 12 Predict on New Data"
      ],
      "metadata": {
        "id": "9vw4g3s-z-Rw"
      },
      "id": "9vw4g3s-z-Rw"
    },
    {
      "cell_type": "code",
      "source": [
        "new_text = ['Hargai kebahagiaan jika kamu pernah sedih']\n",
        "\n",
        "text_seq = tokenizer.texts_to_sequences(new_text,)\n",
        "text_padded = pad_sequences(text_seq, maxlen=MAX_SEQ_LENGTH, padding=PADDING, truncating=TRUNCATING)\n",
        "\n",
        "pred = model.predict(text_padded)\n",
        "\n",
        "print(pred, LABEL_NAME[np.argmax(pred, axis=1)])"
      ],
      "metadata": {
        "colab": {
          "base_uri": "https://localhost:8080/"
        },
        "id": "ZxfTw0Kk0DTW",
        "outputId": "10b004c5-ea9a-4533-f488-d75b8760534a"
      },
      "id": "ZxfTw0Kk0DTW",
      "execution_count": null,
      "outputs": [
        {
          "output_type": "stream",
          "name": "stdout",
          "text": [
            "[[6.3804470e-02 8.2353939e-04 9.7971072e-04 2.7607236e-02 9.0522969e-01\n",
            "  1.5553184e-03]] ['sadness']\n"
          ]
        }
      ]
    }
  ],
  "metadata": {
    "kernelspec": {
      "display_name": "Python 3 (ipykernel)",
      "language": "python",
      "name": "python3"
    },
    "language_info": {
      "codemirror_mode": {
        "name": "ipython",
        "version": 3
      },
      "file_extension": ".py",
      "mimetype": "text/x-python",
      "name": "python",
      "nbconvert_exporter": "python",
      "pygments_lexer": "ipython3",
      "version": "3.8.13"
    },
    "colab": {
      "name": "02-Word2Vec-ID-Wiki300-BiGRUs.ipynb",
      "provenance": [],
      "collapsed_sections": [],
      "machine_shape": "hm",
      "toc_visible": true,
      "include_colab_link": true
    },
    "accelerator": "GPU",
    "widgets": {
      "application/vnd.jupyter.widget-state+json": {
        "04cacb9e790941aba6fa95d88ea5f6d4": {
          "model_module": "@jupyter-widgets/controls",
          "model_name": "VBoxModel",
          "model_module_version": "1.5.0",
          "state": {
            "_dom_classes": [],
            "_model_module": "@jupyter-widgets/controls",
            "_model_module_version": "1.5.0",
            "_model_name": "VBoxModel",
            "_view_count": null,
            "_view_module": "@jupyter-widgets/controls",
            "_view_module_version": "1.5.0",
            "_view_name": "VBoxView",
            "box_style": "",
            "children": [
              "IPY_MODEL_0be68e7edc6d433a88dce0694db29e53",
              "IPY_MODEL_139a83e2b4944045a63c02f1c8623675"
            ],
            "layout": "IPY_MODEL_b1fcc4a7c1e94824921c3183c2de25cc"
          }
        },
        "0be68e7edc6d433a88dce0694db29e53": {
          "model_module": "@jupyter-widgets/controls",
          "model_name": "LabelModel",
          "model_module_version": "1.5.0",
          "state": {
            "_dom_classes": [],
            "_model_module": "@jupyter-widgets/controls",
            "_model_module_version": "1.5.0",
            "_model_name": "LabelModel",
            "_view_count": null,
            "_view_module": "@jupyter-widgets/controls",
            "_view_module_version": "1.5.0",
            "_view_name": "LabelView",
            "description": "",
            "description_tooltip": null,
            "layout": "IPY_MODEL_cc4483b55ba7424396e2e34d7e7f4e3f",
            "placeholder": "​",
            "style": "IPY_MODEL_c24a2d855ad14d45a5fdd031450d7111",
            "value": "0.038 MB of 0.038 MB uploaded (0.000 MB deduped)\r"
          }
        },
        "139a83e2b4944045a63c02f1c8623675": {
          "model_module": "@jupyter-widgets/controls",
          "model_name": "FloatProgressModel",
          "model_module_version": "1.5.0",
          "state": {
            "_dom_classes": [],
            "_model_module": "@jupyter-widgets/controls",
            "_model_module_version": "1.5.0",
            "_model_name": "FloatProgressModel",
            "_view_count": null,
            "_view_module": "@jupyter-widgets/controls",
            "_view_module_version": "1.5.0",
            "_view_name": "ProgressView",
            "bar_style": "",
            "description": "",
            "description_tooltip": null,
            "layout": "IPY_MODEL_d806a3e1a9bf440ea99f7bc54d03b3d6",
            "max": 1,
            "min": 0,
            "orientation": "horizontal",
            "style": "IPY_MODEL_b61f05475ee64dba82417a3191cc94e3",
            "value": 1
          }
        },
        "b1fcc4a7c1e94824921c3183c2de25cc": {
          "model_module": "@jupyter-widgets/base",
          "model_name": "LayoutModel",
          "model_module_version": "1.2.0",
          "state": {
            "_model_module": "@jupyter-widgets/base",
            "_model_module_version": "1.2.0",
            "_model_name": "LayoutModel",
            "_view_count": null,
            "_view_module": "@jupyter-widgets/base",
            "_view_module_version": "1.2.0",
            "_view_name": "LayoutView",
            "align_content": null,
            "align_items": null,
            "align_self": null,
            "border": null,
            "bottom": null,
            "display": null,
            "flex": null,
            "flex_flow": null,
            "grid_area": null,
            "grid_auto_columns": null,
            "grid_auto_flow": null,
            "grid_auto_rows": null,
            "grid_column": null,
            "grid_gap": null,
            "grid_row": null,
            "grid_template_areas": null,
            "grid_template_columns": null,
            "grid_template_rows": null,
            "height": null,
            "justify_content": null,
            "justify_items": null,
            "left": null,
            "margin": null,
            "max_height": null,
            "max_width": null,
            "min_height": null,
            "min_width": null,
            "object_fit": null,
            "object_position": null,
            "order": null,
            "overflow": null,
            "overflow_x": null,
            "overflow_y": null,
            "padding": null,
            "right": null,
            "top": null,
            "visibility": null,
            "width": null
          }
        },
        "cc4483b55ba7424396e2e34d7e7f4e3f": {
          "model_module": "@jupyter-widgets/base",
          "model_name": "LayoutModel",
          "model_module_version": "1.2.0",
          "state": {
            "_model_module": "@jupyter-widgets/base",
            "_model_module_version": "1.2.0",
            "_model_name": "LayoutModel",
            "_view_count": null,
            "_view_module": "@jupyter-widgets/base",
            "_view_module_version": "1.2.0",
            "_view_name": "LayoutView",
            "align_content": null,
            "align_items": null,
            "align_self": null,
            "border": null,
            "bottom": null,
            "display": null,
            "flex": null,
            "flex_flow": null,
            "grid_area": null,
            "grid_auto_columns": null,
            "grid_auto_flow": null,
            "grid_auto_rows": null,
            "grid_column": null,
            "grid_gap": null,
            "grid_row": null,
            "grid_template_areas": null,
            "grid_template_columns": null,
            "grid_template_rows": null,
            "height": null,
            "justify_content": null,
            "justify_items": null,
            "left": null,
            "margin": null,
            "max_height": null,
            "max_width": null,
            "min_height": null,
            "min_width": null,
            "object_fit": null,
            "object_position": null,
            "order": null,
            "overflow": null,
            "overflow_x": null,
            "overflow_y": null,
            "padding": null,
            "right": null,
            "top": null,
            "visibility": null,
            "width": null
          }
        },
        "c24a2d855ad14d45a5fdd031450d7111": {
          "model_module": "@jupyter-widgets/controls",
          "model_name": "DescriptionStyleModel",
          "model_module_version": "1.5.0",
          "state": {
            "_model_module": "@jupyter-widgets/controls",
            "_model_module_version": "1.5.0",
            "_model_name": "DescriptionStyleModel",
            "_view_count": null,
            "_view_module": "@jupyter-widgets/base",
            "_view_module_version": "1.2.0",
            "_view_name": "StyleView",
            "description_width": ""
          }
        },
        "d806a3e1a9bf440ea99f7bc54d03b3d6": {
          "model_module": "@jupyter-widgets/base",
          "model_name": "LayoutModel",
          "model_module_version": "1.2.0",
          "state": {
            "_model_module": "@jupyter-widgets/base",
            "_model_module_version": "1.2.0",
            "_model_name": "LayoutModel",
            "_view_count": null,
            "_view_module": "@jupyter-widgets/base",
            "_view_module_version": "1.2.0",
            "_view_name": "LayoutView",
            "align_content": null,
            "align_items": null,
            "align_self": null,
            "border": null,
            "bottom": null,
            "display": null,
            "flex": null,
            "flex_flow": null,
            "grid_area": null,
            "grid_auto_columns": null,
            "grid_auto_flow": null,
            "grid_auto_rows": null,
            "grid_column": null,
            "grid_gap": null,
            "grid_row": null,
            "grid_template_areas": null,
            "grid_template_columns": null,
            "grid_template_rows": null,
            "height": null,
            "justify_content": null,
            "justify_items": null,
            "left": null,
            "margin": null,
            "max_height": null,
            "max_width": null,
            "min_height": null,
            "min_width": null,
            "object_fit": null,
            "object_position": null,
            "order": null,
            "overflow": null,
            "overflow_x": null,
            "overflow_y": null,
            "padding": null,
            "right": null,
            "top": null,
            "visibility": null,
            "width": null
          }
        },
        "b61f05475ee64dba82417a3191cc94e3": {
          "model_module": "@jupyter-widgets/controls",
          "model_name": "ProgressStyleModel",
          "model_module_version": "1.5.0",
          "state": {
            "_model_module": "@jupyter-widgets/controls",
            "_model_module_version": "1.5.0",
            "_model_name": "ProgressStyleModel",
            "_view_count": null,
            "_view_module": "@jupyter-widgets/base",
            "_view_module_version": "1.2.0",
            "_view_name": "StyleView",
            "bar_color": null,
            "description_width": ""
          }
        }
      }
    }
  },
  "nbformat": 4,
  "nbformat_minor": 5
}