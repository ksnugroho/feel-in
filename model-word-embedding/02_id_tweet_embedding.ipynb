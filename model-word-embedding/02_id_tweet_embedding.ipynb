{
  "cells": [
    {
      "cell_type": "markdown",
      "metadata": {
        "id": "view-in-github",
        "colab_type": "text"
      },
      "source": [
        "<a href=\"https://colab.research.google.com/github/ksnugroho/feel-in/blob/main/model-word-embedding/02_id_tweet_embedding.ipynb\" target=\"_parent\"><img src=\"https://colab.research.google.com/assets/colab-badge.svg\" alt=\"Open In Colab\"/></a>"
      ]
    },
    {
      "cell_type": "markdown",
      "id": "c32e7fe3-7e4c-47a2-8f77-70bc2dda6cb9",
      "metadata": {
        "id": "c32e7fe3-7e4c-47a2-8f77-70bc2dda6cb9"
      },
      "source": [
        "# **Create Word Embedding (Word2Vec & FastText) from ID Tweet**\n",
        "\n",
        "**Thesis: Emotion Detection in Indonesian Text**\n",
        "\n",
        "Kuncahyo Setyo Nugroho<br>\n",
        "Supervisor:\n",
        "1. Dr. Eng. Fitra A. Bachtiar, S.T., M.Eng.\n",
        "2. Prof. Ir. Wayan Firdaus Mahmudy, S.Si., M.T., Ph.D.\n",
        "\n",
        "Faculty of Computer Science, Brawijaya University, Indonesia &copy; 2021-2022"
      ]
    },
    {
      "cell_type": "markdown",
      "id": "8c6765ab-c865-4246-b63f-5e43da2067b3",
      "metadata": {
        "id": "8c6765ab-c865-4246-b63f-5e43da2067b3"
      },
      "source": [
        "# 01 Setup"
      ]
    },
    {
      "cell_type": "code",
      "source": [
        "from google.colab import drive\n",
        "drive.mount('/content/drive', force_remount=True)"
      ],
      "metadata": {
        "id": "Dnwksp88Nse_",
        "colab": {
          "base_uri": "https://localhost:8080/"
        },
        "outputId": "e610c28a-b127-40f7-9233-1e50567617e2"
      },
      "id": "Dnwksp88Nse_",
      "execution_count": null,
      "outputs": [
        {
          "output_type": "stream",
          "name": "stdout",
          "text": [
            "Mounted at /content/drive\n"
          ]
        }
      ]
    },
    {
      "cell_type": "code",
      "source": [
        "# Path to google drive folder\n",
        "%cd /content/drive/MyDrive/Code/tesis"
      ],
      "metadata": {
        "id": "C1wWYKJUNtxE",
        "colab": {
          "base_uri": "https://localhost:8080/"
        },
        "outputId": "a5a72f90-25b9-4f7b-d0b1-53888a8464cf"
      },
      "id": "C1wWYKJUNtxE",
      "execution_count": null,
      "outputs": [
        {
          "output_type": "stream",
          "name": "stdout",
          "text": [
            "/content/drive/MyDrive/Code/tesis\n"
          ]
        }
      ]
    },
    {
      "cell_type": "code",
      "execution_count": null,
      "id": "a8bdc2e4-c0f4-4b9b-8a02-e16855ac22b1",
      "metadata": {
        "id": "a8bdc2e4-c0f4-4b9b-8a02-e16855ac22b1"
      },
      "outputs": [],
      "source": [
        "import re\n",
        "import pandas as pd\n",
        "import multiprocessing\n",
        "import gensim\n",
        "from gensim.models import Word2Vec, FastText, KeyedVectors\n",
        "from gensim.models.callbacks import CallbackAny2Vec\n",
        "\n",
        "from tqdm import tqdm\n",
        "tqdm.pandas()"
      ]
    },
    {
      "cell_type": "code",
      "execution_count": null,
      "id": "84cd822e-ddbd-458b-b58c-33a6867496a6",
      "metadata": {
        "id": "84cd822e-ddbd-458b-b58c-33a6867496a6",
        "colab": {
          "base_uri": "https://localhost:8080/",
          "height": 36
        },
        "outputId": "cec43fd1-e615-4b25-ec8b-2f0490914fc5"
      },
      "outputs": [
        {
          "output_type": "execute_result",
          "data": {
            "text/plain": [
              "'3.6.0'"
            ],
            "application/vnd.google.colaboratory.intrinsic+json": {
              "type": "string"
            }
          },
          "metadata": {},
          "execution_count": 4
        }
      ],
      "source": [
        "gensim.__version__"
      ]
    },
    {
      "cell_type": "markdown",
      "id": "56caacf2-83d8-4f99-879e-23bad841715c",
      "metadata": {
        "id": "56caacf2-83d8-4f99-879e-23bad841715c"
      },
      "source": [
        "# 02 Load & Prepare Data"
      ]
    },
    {
      "cell_type": "code",
      "execution_count": null,
      "id": "85e15762-62c9-460c-aa61-2f272d9029f3",
      "metadata": {
        "id": "85e15762-62c9-460c-aa61-2f272d9029f3"
      },
      "outputs": [],
      "source": [
        "df = pd.read_csv('data/id-tweet-dump/id-tweet-dump-clean.csv', usecols=['tweet'], dtype={'tweet':'str'})"
      ]
    },
    {
      "cell_type": "code",
      "source": [
        "df.shape"
      ],
      "metadata": {
        "colab": {
          "base_uri": "https://localhost:8080/"
        },
        "id": "OQArvVHvmwi6",
        "outputId": "8a9e300c-3476-4ff8-dd4c-4e7dad09514e"
      },
      "id": "OQArvVHvmwi6",
      "execution_count": null,
      "outputs": [
        {
          "output_type": "execute_result",
          "data": {
            "text/plain": [
              "(3126987, 1)"
            ]
          },
          "metadata": {},
          "execution_count": 6
        }
      ]
    },
    {
      "cell_type": "code",
      "execution_count": null,
      "id": "b4d5d16f-eb33-4995-b40f-2cf0c2ddba08",
      "metadata": {
        "id": "b4d5d16f-eb33-4995-b40f-2cf0c2ddba08"
      },
      "outputs": [],
      "source": [
        "def text_preprocessing(text):\n",
        "    text = text.lower()                               # Mengubah teks menjadi lower case\n",
        "    text = re.sub(r'https?://\\S+|www\\.\\S+', '', text) # Menghapus URL\n",
        "    text = re.sub(r'[-+]?[0-9]+', '', text)           # Menghapus angka\n",
        "    text = re.sub(r'[^\\w\\s]','', text)                # Menghapus karakter tanda baca\n",
        "    text = text.strip()                               # Menghapus whitespaces\n",
        "    return text\n",
        "\n",
        "def tokenize(text):\n",
        "    text = re.split('\\W+', text)\n",
        "    return text"
      ]
    },
    {
      "cell_type": "code",
      "execution_count": null,
      "id": "9ae0b2be-2102-4b57-9c11-f192f4e35368",
      "metadata": {
        "id": "9ae0b2be-2102-4b57-9c11-f192f4e35368",
        "colab": {
          "base_uri": "https://localhost:8080/"
        },
        "outputId": "215cd802-784b-4562-b8da-64addcb57d17"
      },
      "outputs": [
        {
          "output_type": "stream",
          "name": "stderr",
          "text": [
            "100%|██████████| 3126987/3126987 [00:30<00:00, 102487.78it/s]\n"
          ]
        },
        {
          "output_type": "stream",
          "name": "stdout",
          "text": [
            "CPU times: user 30.4 s, sys: 487 ms, total: 30.9 s\n",
            "Wall time: 30.7 s\n"
          ]
        }
      ],
      "source": [
        "%%time \n",
        "df['clean_tweet'] = df['tweet'].astype(str).progress_apply(text_preprocessing)"
      ]
    },
    {
      "cell_type": "code",
      "execution_count": null,
      "id": "e849ce3d-572d-4629-a8f8-88781a8798a0",
      "metadata": {
        "id": "e849ce3d-572d-4629-a8f8-88781a8798a0",
        "colab": {
          "base_uri": "https://localhost:8080/"
        },
        "outputId": "d5e89c6c-6185-46d8-c7af-d851c2a38289"
      },
      "outputs": [
        {
          "output_type": "stream",
          "name": "stderr",
          "text": [
            "100%|██████████| 3126987/3126987 [00:23<00:00, 130391.88it/s]"
          ]
        },
        {
          "output_type": "stream",
          "name": "stdout",
          "text": [
            "CPU times: user 22.3 s, sys: 1.86 s, total: 24.2 s\n",
            "Wall time: 24 s\n"
          ]
        },
        {
          "output_type": "stream",
          "name": "stderr",
          "text": [
            "\n"
          ]
        }
      ],
      "source": [
        "%%time\n",
        "sentences = df['clean_tweet'].progress_apply(lambda x: tokenize(x.lower()))"
      ]
    },
    {
      "cell_type": "code",
      "execution_count": null,
      "id": "c9882900-25d1-4dc4-ab57-dda49f554d0d",
      "metadata": {
        "id": "c9882900-25d1-4dc4-ab57-dda49f554d0d",
        "colab": {
          "base_uri": "https://localhost:8080/"
        },
        "outputId": "6ff8bdca-e6ee-4b4d-d210-9ec1dba51203"
      },
      "outputs": [
        {
          "output_type": "stream",
          "name": "stdout",
          "text": [
            "0          [eh, l, nas, l, watya, ely, f, hayaty, dol, ms...\n",
            "1          [lihat, kehidupanku, jauh, lebih, baik, kan, m...\n",
            "2                                           [ramai, nya, dm]\n",
            "3          [udane, kyk, aku, mengagumi, mu, dek, awet, ka...\n",
            "4          [fpi, dibubarkan, kembali, viral, video, tito,...\n",
            "                                 ...                        \n",
            "3126982                           [trims, dinda, km, jg, yh]\n",
            "3126983    [mantap, betul, dbk, udah, engsubbbbb, cus, no...\n",
            "3126984                 [krucukan, adalah, nada, nada, alam]\n",
            "3126985    [ana, belum, yo, tapi, dah, boleh, jalan, naik...\n",
            "3126986                                 [suka, baca, au, ga]\n",
            "Name: clean_tweet, Length: 3126987, dtype: object\n"
          ]
        }
      ],
      "source": [
        "print(sentences)"
      ]
    },
    {
      "cell_type": "markdown",
      "id": "7e27a22a-e9e6-4813-808d-b3c46f0fb86a",
      "metadata": {
        "id": "7e27a22a-e9e6-4813-808d-b3c46f0fb86a"
      },
      "source": [
        "# 03 Define Training Parameter"
      ]
    },
    {
      "cell_type": "code",
      "execution_count": null,
      "id": "aef5fcc6-d8d5-4a31-8c52-7c609602f7b3",
      "metadata": {
        "id": "aef5fcc6-d8d5-4a31-8c52-7c609602f7b3",
        "colab": {
          "base_uri": "https://localhost:8080/"
        },
        "outputId": "e0cdcb4d-4349-4843-8b67-7698eed0156a"
      },
      "outputs": [
        {
          "output_type": "stream",
          "name": "stdout",
          "text": [
            "CPU CORES: 4\n"
          ]
        }
      ],
      "source": [
        "# https://radimrehurek.com/gensim/models/word2vec.html#gensim.models.word2vec.Word2Vec\n",
        "\n",
        "CPU_CORES = multiprocessing.cpu_count()  # Jumlah CPU core pada komputer\n",
        "EMBEDDING_SIZE = 300                     # Dimensi word vektors\n",
        "WINDOW_SIZE = 5                          # Window size. Jarak maksimum antara kata saat ini dan yang diprediksi dalam sebuah kalimat\n",
        "MIN_WORD = 5                             # Model akan mengabaikan semua kata dengan frekuensi total lebih rendah dari ini (opsional)\n",
        "EPOCH = 10                               # Jumlah iterasi (epoch)\n",
        "SG = 1                                   # Strategi algoritma pelatihan: 1 untuk skip-gram, 0 untuk CBOW\n",
        "NEGATIVE = 5                             # Negative sampling. Jika 0, negative sampling tidak digunakan\n",
        "HS = 0                                   # Hierarchical softmax. Jika 1, hierarchical softmax difunakan\n",
        "SEED = 69                                # Number generator\n",
        "\n",
        "print('CPU CORES:', CPU_CORES)"
      ]
    },
    {
      "cell_type": "code",
      "execution_count": null,
      "id": "66211dcc-c114-485c-abd4-1a1b58dce1a0",
      "metadata": {
        "id": "66211dcc-c114-485c-abd4-1a1b58dce1a0"
      },
      "outputs": [],
      "source": [
        "class EpochLogger(CallbackAny2Vec):\n",
        "    '''Callback to log information about training'''\n",
        "\n",
        "    def __init__(self):\n",
        "        self.epoch = 0\n",
        "\n",
        "    def on_epoch_begin(self, model):\n",
        "        print(\"Epoch #{} start\".format(self.epoch))\n",
        "\n",
        "    def on_epoch_end(self, model):\n",
        "        print(\"Epoch #{} end\".format(self.epoch))\n",
        "        self.epoch += 1"
      ]
    },
    {
      "cell_type": "code",
      "source": [
        "# Original source: https://github.com/HichemMaiza/Word2tensor/blob/master/word2vec2tensor.py\n",
        "\n",
        "from smart_open import smart_open\n",
        "\n",
        "def word2vec2tensor(word2vec_model_path, tensor_filename):\n",
        "    \"\"\"Convert file in Word2Vec format and writes two files 2D tensor TSV file.\n",
        "    File \"tensor_filename\"_tensor.tsv contains word-vectors, \"tensor_filename\"_metadata.tsv contains words.\n",
        "    Parameters\n",
        "    ----------\n",
        "    word2vec_model_path : str\n",
        "        Path to file in Word2Vec format.\n",
        "    tensor_filename : str\n",
        "        Prefix for output files.\n",
        "    \"\"\"\n",
        "    model = gensim.models.KeyedVectors.load(word2vec_model_path)\n",
        "    outfiletsv = tensor_filename + '_tensor.tsv'\n",
        "    outfiletsvmeta = tensor_filename + '_metadata.tsv'\n",
        "\n",
        "    with smart_open(outfiletsv, 'wb') as file_vector, smart_open(outfiletsvmeta, 'wb') as file_metadata:\n",
        "        for word in model.wv.index2word:\n",
        "            file_metadata.write(gensim.utils.to_utf8(word) + gensim.utils.to_utf8('\\n'))\n",
        "            vector_row = '\\t'.join(str(x) for x in model[word])\n",
        "            file_vector.write(gensim.utils.to_utf8(vector_row) + gensim.utils.to_utf8('\\n'))"
      ],
      "metadata": {
        "id": "jDIKXWX3Nyrr"
      },
      "id": "jDIKXWX3Nyrr",
      "execution_count": null,
      "outputs": []
    },
    {
      "cell_type": "markdown",
      "id": "c2e3676b-40cf-4065-a660-167f5ddf7c7d",
      "metadata": {
        "id": "c2e3676b-40cf-4065-a660-167f5ddf7c7d"
      },
      "source": [
        "# 04 Word2Vec"
      ]
    },
    {
      "cell_type": "code",
      "execution_count": null,
      "id": "9732c7a6-cab4-4441-ad9b-ab1b597c89ef",
      "metadata": {
        "id": "9732c7a6-cab4-4441-ad9b-ab1b597c89ef",
        "colab": {
          "base_uri": "https://localhost:8080/"
        },
        "outputId": "f402f837-8db2-4d22-e9e6-d3644068968f"
      },
      "outputs": [
        {
          "output_type": "stream",
          "name": "stdout",
          "text": [
            "Epoch #0 start\n",
            "Epoch #0 end\n",
            "Epoch #1 start\n",
            "Epoch #1 end\n",
            "Epoch #2 start\n",
            "Epoch #2 end\n",
            "Epoch #3 start\n",
            "Epoch #3 end\n",
            "Epoch #4 start\n",
            "Epoch #4 end\n",
            "Epoch #5 start\n",
            "Epoch #5 end\n",
            "Epoch #6 start\n",
            "Epoch #6 end\n",
            "Epoch #7 start\n",
            "Epoch #7 end\n",
            "Epoch #8 start\n",
            "Epoch #8 end\n",
            "Epoch #9 start\n",
            "Epoch #9 end\n",
            "CPU times: user 1h 18min 58s, sys: 7.13 s, total: 1h 19min 5s\n",
            "Wall time: 27min 9s\n"
          ]
        }
      ],
      "source": [
        "%%time\n",
        "\n",
        "# Proses training Word2Vec \n",
        "word2vec_model = Word2Vec(\n",
        "    sentences, \n",
        "    # vector_size=EMBEDDING_SIZE, # gensim 4\n",
        "    size=EMBEDDING_SIZE, # gensim 3\n",
        "    sg=SG, \n",
        "    min_count=MIN_WORD, \n",
        "    window=WINDOW_SIZE, \n",
        "    # epochs=EPOCH, # gensim 4\n",
        "    iter=EPOCH, # gensim 3\n",
        "    workers=CPU_CORES-1,\n",
        "    negative=NEGATIVE,\n",
        "    hs=HS,\n",
        "    seed=SEED,\n",
        "    callbacks=[EpochLogger()]\n",
        "  )"
      ]
    },
    {
      "cell_type": "code",
      "execution_count": null,
      "id": "e05042ac-c33c-4152-b658-ebe33de39775",
      "metadata": {
        "id": "e05042ac-c33c-4152-b658-ebe33de39775"
      },
      "outputs": [],
      "source": [
        "# Save sebagai full model\n",
        "word2vec_model.save('model-word-embedding/checkpoint/idtweet-word2vec/idtweet-word2vec-300.model')"
      ]
    },
    {
      "cell_type": "code",
      "execution_count": null,
      "id": "c3a2d8d6-ffb3-4e37-928b-53d7e92e861d",
      "metadata": {
        "id": "c3a2d8d6-ffb3-4e37-928b-53d7e92e861d"
      },
      "outputs": [],
      "source": [
        "# Save sebagai full model dengan binary format (word2vec C format)\n",
        "word2vec_model.save('model-word-embedding/checkpoint/idtweet-word2vec/idtweet-word2vec-300.bin')"
      ]
    },
    {
      "cell_type": "code",
      "execution_count": null,
      "id": "bbb939f0-2f64-4f16-b5af-1c25b9cd8aac",
      "metadata": {
        "id": "bbb939f0-2f64-4f16-b5af-1c25b9cd8aac"
      },
      "outputs": [],
      "source": [
        "# Save sebagai wordvectors. Hanya menyimpan kata & trained embeddingnya\n",
        "word2vec_word_vectors = word2vec_model.wv\n",
        "word2vec_word_vectors.save('model-word-embedding/checkpoint/idtweet-word2vec/idtweet-word2vec-300.wordvectors')"
      ]
    },
    {
      "cell_type": "code",
      "source": [
        "# Convert the word2vec format to Tensorflow 2D tensor\n",
        "word2vec_model_path = 'model-word-embedding/checkpoint/idtweet-word2vec/idtweet-word2vec-300.model'\n",
        "tensor_filename = 'model-word-embedding/checkpoint/idtweet-word2vec/idtweet-word2vec-300'\n",
        "\n",
        "word2vec2tensor(word2vec_model_path, tensor_filename)"
      ],
      "metadata": {
        "id": "6JII7D9pPaV5"
      },
      "id": "6JII7D9pPaV5",
      "execution_count": null,
      "outputs": []
    },
    {
      "cell_type": "markdown",
      "id": "2d8263f5-29fb-45f6-9d0e-fc44ea70f523",
      "metadata": {
        "id": "2d8263f5-29fb-45f6-9d0e-fc44ea70f523"
      },
      "source": [
        "# 05 FastText"
      ]
    },
    {
      "cell_type": "code",
      "execution_count": null,
      "id": "da7f2c34-0639-4fc1-a98b-c6f67b81e504",
      "metadata": {
        "id": "da7f2c34-0639-4fc1-a98b-c6f67b81e504",
        "colab": {
          "base_uri": "https://localhost:8080/"
        },
        "outputId": "c84b1cee-3a1f-4a4d-8881-78227d995edd"
      },
      "outputs": [
        {
          "output_type": "stream",
          "name": "stdout",
          "text": [
            "Epoch #0 start\n",
            "Epoch #0 end\n",
            "Epoch #1 start\n",
            "Epoch #1 end\n",
            "Epoch #2 start\n",
            "Epoch #2 end\n",
            "Epoch #3 start\n",
            "Epoch #3 end\n",
            "Epoch #4 start\n",
            "Epoch #4 end\n",
            "Epoch #5 start\n",
            "Epoch #5 end\n",
            "Epoch #6 start\n",
            "Epoch #6 end\n",
            "Epoch #7 start\n",
            "Epoch #7 end\n",
            "Epoch #8 start\n",
            "Epoch #8 end\n",
            "Epoch #9 start\n",
            "Epoch #9 end\n",
            "CPU times: user 2h 28min 37s, sys: 13.1 s, total: 2h 28min 50s\n",
            "Wall time: 51min 6s\n"
          ]
        }
      ],
      "source": [
        "%%time\n",
        "\n",
        "# Proses training FastText \n",
        "fasttext_model = FastText(\n",
        "    sentences, \n",
        "    # vector_size=EMBEDDING_SIZE, # gensim 4\n",
        "    size=EMBEDDING_SIZE, # gensim 3\n",
        "    sg=SG, \n",
        "    min_count=MIN_WORD, \n",
        "    window=WINDOW_SIZE, \n",
        "    # epochs=EPOCH, # gensim 4\n",
        "    iter=EPOCH, # gensim 3\n",
        "    workers=CPU_CORES-1,\n",
        "    negative=NEGATIVE,\n",
        "    hs=HS,\n",
        "    seed=SEED,\n",
        "    callbacks=[EpochLogger()]\n",
        "  )"
      ]
    },
    {
      "cell_type": "code",
      "execution_count": null,
      "id": "147b28ed-0428-46fb-bd7f-9944045e605d",
      "metadata": {
        "id": "147b28ed-0428-46fb-bd7f-9944045e605d"
      },
      "outputs": [],
      "source": [
        "# Save sebagai full model\n",
        "fasttext_model.save('model-word-embedding/checkpoint/idtweet-fasttext/idtweet-fasttext-300.model')"
      ]
    },
    {
      "cell_type": "code",
      "execution_count": null,
      "id": "dd3a032b-3ae8-4084-94f7-0f131297c030",
      "metadata": {
        "id": "dd3a032b-3ae8-4084-94f7-0f131297c030"
      },
      "outputs": [],
      "source": [
        "# Save sebagai full model dengan binary format (word2vec C format)\n",
        "fasttext_model.save('model-word-embedding/checkpoint/idtweet-fasttext/idtweet-fasttext-300.bin')"
      ]
    },
    {
      "cell_type": "code",
      "execution_count": null,
      "id": "51b02281-a6c0-4ac1-8dba-56ce78233b71",
      "metadata": {
        "id": "51b02281-a6c0-4ac1-8dba-56ce78233b71"
      },
      "outputs": [],
      "source": [
        "# Save sebagai wordvectors. Hanya menyimpan kata & trained embeddingnya\n",
        "fasttext_word_vectors = fasttext_model.wv\n",
        "fasttext_word_vectors.save('model-word-embedding/checkpoint/idtweet-fasttext/idtweet-fasttext-300.wordvectors')"
      ]
    },
    {
      "cell_type": "code",
      "source": [
        "# Convert the word2vec format to Tensorflow 2D tensor\n",
        "word2vec_model_path = 'model-word-embedding/checkpoint/idtweet-fasttext/idtweet-fasttext-300.model'\n",
        "tensor_filename = 'model-word-embedding/checkpoint/idtweet-fasttext/idtweet-fasttext-300'\n",
        "\n",
        "word2vec2tensor(word2vec_model_path, tensor_filename)"
      ],
      "metadata": {
        "id": "bwnzjC7RPRCC"
      },
      "id": "bwnzjC7RPRCC",
      "execution_count": null,
      "outputs": []
    }
  ],
  "metadata": {
    "kernelspec": {
      "display_name": "Python 3 (ipykernel)",
      "language": "python",
      "name": "python3"
    },
    "language_info": {
      "codemirror_mode": {
        "name": "ipython",
        "version": 3
      },
      "file_extension": ".py",
      "mimetype": "text/x-python",
      "name": "python",
      "nbconvert_exporter": "python",
      "pygments_lexer": "ipython3",
      "version": "3.8.13"
    },
    "colab": {
      "name": "02-id-tweet-embedding.ipynb",
      "provenance": [],
      "collapsed_sections": [],
      "toc_visible": true,
      "machine_shape": "hm",
      "include_colab_link": true
    }
  },
  "nbformat": 4,
  "nbformat_minor": 5
}