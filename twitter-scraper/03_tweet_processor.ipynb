{
  "cells": [
    {
      "cell_type": "markdown",
      "metadata": {
        "colab_type": "text",
        "id": "view-in-github"
      },
      "source": [
        "<a href=\"https://colab.research.google.com/github/ksnugroho/feel-in/blob/main/twitter-scraper/03_tweet_processor.ipynb\" target=\"_parent\"><img src=\"https://colab.research.google.com/assets/colab-badge.svg\" alt=\"Open In Colab\"/></a>"
      ]
    },
    {
      "cell_type": "markdown",
      "id": "b7OEaM0lxGlN",
      "metadata": {
        "id": "b7OEaM0lxGlN"
      },
      "source": [
        "# **Tweet Processor**"
      ]
    },
    {
      "cell_type": "code",
      "execution_count": null,
      "id": "pWzh4MLOSB0e",
      "metadata": {
        "colab": {
          "base_uri": "https://localhost:8080/"
        },
        "id": "pWzh4MLOSB0e",
        "outputId": "81f97703-612d-4c3a-89b9-a0457886c9ff"
      },
      "outputs": [
        {
          "name": "stdout",
          "output_type": "stream",
          "text": [
            "Mounted at /content/drive\n"
          ]
        }
      ],
      "source": [
        "from google.colab import drive\n",
        "drive.mount('/content/drive', force_remount=True)"
      ]
    },
    {
      "cell_type": "code",
      "execution_count": null,
      "id": "T23DVMZ9SDVF",
      "metadata": {
        "colab": {
          "base_uri": "https://localhost:8080/"
        },
        "id": "T23DVMZ9SDVF",
        "outputId": "2907ff20-dbf7-4318-98d2-facec6fcd513"
      },
      "outputs": [],
      "source": [
        "# Path to google drive folder\n",
        "%cd /content/drive/MyDrive/"
      ]
    },
    {
      "cell_type": "code",
      "execution_count": null,
      "id": "khIVxXcCSpHi",
      "metadata": {
        "id": "khIVxXcCSpHi"
      },
      "outputs": [],
      "source": [
        "# https://pypi.org/project/tweet-preprocessor/\n",
        "!pip install -q tweet-preprocessor"
      ]
    },
    {
      "cell_type": "code",
      "execution_count": null,
      "id": "MRLmJebjTMDb",
      "metadata": {
        "id": "MRLmJebjTMDb"
      },
      "outputs": [],
      "source": [
        "import glob\n",
        "import os\n",
        "import pandas as pd\n",
        "import preprocessor as p\n",
        "from tqdm import tqdm\n",
        "tqdm.pandas()"
      ]
    },
    {
      "cell_type": "code",
      "execution_count": null,
      "id": "bbfe5dcc-b003-4ef8-9cf4-f1243154e440",
      "metadata": {
        "id": "bbfe5dcc-b003-4ef8-9cf4-f1243154e440"
      },
      "outputs": [],
      "source": [
        "def preprocess_tweet(row):\n",
        "    p.set_options(p.OPT.MENTION, p.OPT.RESERVED, p.OPT.HASHTAG, p.OPT.URL, p.OPT.EMOJI, p.OPT.SMILEY)\n",
        "    text = row['tweet']\n",
        "    text = p.clean(text)\n",
        "    return text"
      ]
    },
    {
      "cell_type": "code",
      "execution_count": null,
      "id": "cd69f9da-216b-4ad9-9efd-b45fb81d04b1",
      "metadata": {
        "colab": {
          "base_uri": "https://localhost:8080/"
        },
        "id": "cd69f9da-216b-4ad9-9efd-b45fb81d04b1",
        "outputId": "be1c2231-f34d-4ca0-ba1a-4bc3868f9a33"
      },
      "outputs": [
        {
          "name": "stderr",
          "output_type": "stream",
          "text": [
            "100%|██████████| 98795/98795 [00:13<00:00, 7267.50it/s]\n",
            "100%|██████████| 98780/98780 [00:09<00:00, 10181.92it/s]\n",
            "100%|██████████| 98839/98839 [00:08<00:00, 11072.90it/s]\n",
            "100%|██████████| 98961/98961 [00:09<00:00, 10990.41it/s]\n",
            "100%|██████████| 99321/99321 [00:09<00:00, 11007.88it/s]\n",
            "100%|██████████| 98823/98823 [00:08<00:00, 11005.87it/s]\n"
          ]
        },
        {
          "name": "stdout",
          "output_type": "stream",
          "text": [
            "Done!\n",
            "CPU times: user 1min 4s, sys: 825 ms, total: 1min 5s\n",
            "Wall time: 1min 17s\n"
          ]
        }
      ],
      "source": [
        "%%time\n",
        "\n",
        "source_folder_path = 'twitter-scraper/data-merge'\n",
        "destination_folder_path = 'twitter-scraper/data-clean'\n",
        "\n",
        "emotion_list = ['anger', 'disgust', 'fear', 'joy', 'sadness', 'surprise']\n",
        "\n",
        "for emotion in emotion_list:\n",
        "    df = pd.read_csv(f'{source_folder_path}/{emotion}.csv', usecols=['tweet'], dtype={'tweet':'str'})\n",
        "    df = df.drop_duplicates()   # dropping duplicates\n",
        "    df = df.dropna()            # dropping rows with NaN values\n",
        "    df['tweet'] = df.progress_apply(preprocess_tweet, axis=1)\n",
        "    df.to_csv(f'{destination_folder_path}/{emotion}.csv')\n",
        "\n",
        "print('Done!')"
      ]
    },
    {
      "cell_type": "code",
      "execution_count": null,
      "id": "K4XSSFY9hSDh",
      "metadata": {
        "colab": {
          "base_uri": "https://localhost:8080/"
        },
        "id": "K4XSSFY9hSDh",
        "outputId": "c4bf17f0-7a02-47dc-cd75-dcefc50d5c9f"
      },
      "outputs": [
        {
          "name": "stderr",
          "output_type": "stream",
          "text": [
            "100%|██████████| 986920/986920 [01:30<00:00, 10907.26it/s]\n"
          ]
        },
        {
          "name": "stdout",
          "output_type": "stream",
          "text": [
            "Done!\n",
            "CPU times: user 1min 33s, sys: 1.03 s, total: 1min 34s\n",
            "Wall time: 1min 37s\n"
          ]
        }
      ],
      "source": [
        "%%time\n",
        "df_1 = pd.read_csv('twitter-scraper/data-raw/1000000-2020-01-01-2020-12-31.csv', usecols=['tweet'], dtype={'tweet':'str'}, lineterminator='\\n')\n",
        "df_1 = df_1.drop_duplicates()   # dropping duplicates\n",
        "df_1 = df_1.dropna()            # dropping rows with NaN values\n",
        "df_1['tweet'] = df_1.progress_apply(preprocess_tweet, axis=1)     # clean tweet\n",
        "\n",
        "df_1.to_csv('twitter-scraper/data-clean/1000000-2020-01-01-2020-12-31-clean.csv')\n",
        "print('Done!')"
      ]
    },
    {
      "cell_type": "code",
      "execution_count": null,
      "id": "6sjzbshNIACd",
      "metadata": {
        "colab": {
          "base_uri": "https://localhost:8080/"
        },
        "id": "6sjzbshNIACd",
        "outputId": "da7bb420-2a54-4276-a596-9a18c468b091"
      },
      "outputs": [
        {
          "data": {
            "text/plain": [
              "(986920, 1)"
            ]
          },
          "execution_count": 8,
          "metadata": {},
          "output_type": "execute_result"
        }
      ],
      "source": [
        "df_1.shape"
      ]
    },
    {
      "cell_type": "code",
      "execution_count": null,
      "id": "P0z7EhV9FsQd",
      "metadata": {
        "colab": {
          "base_uri": "https://localhost:8080/"
        },
        "id": "P0z7EhV9FsQd",
        "outputId": "5b3afed7-9ec0-4e30-df73-e984b87762f3"
      },
      "outputs": [
        {
          "name": "stderr",
          "output_type": "stream",
          "text": [
            "100%|██████████| 2341534/2341534 [03:37<00:00, 10765.78it/s]\n"
          ]
        },
        {
          "name": "stdout",
          "output_type": "stream",
          "text": [
            "Done!\n",
            "CPU times: user 3min 49s, sys: 4.2 s, total: 3min 54s\n",
            "Wall time: 4min 1s\n"
          ]
        }
      ],
      "source": [
        "%%time\n",
        "df_2 = pd.read_csv('twitter-scraper/data-raw/2500000-2019-01-01-2019-12-31.csv', usecols=['tweet'], dtype={'tweet':'str'}, lineterminator='\\n')\n",
        "df_2 = df_2.drop_duplicates()   # dropping duplicates\n",
        "df_2 = df_2.dropna()            # dropping rows with NaN values\n",
        "df_2['tweet'] = df_2.progress_apply(preprocess_tweet, axis=1)     # clean tweet\n",
        "\n",
        "df_2.to_csv('twitter-scraper/data-clean/2500000-2019-01-01-2019-12-31.csv-clean.csv')\n",
        "print('Done!')"
      ]
    },
    {
      "cell_type": "code",
      "execution_count": null,
      "id": "tLF9LfEqIBx_",
      "metadata": {
        "colab": {
          "base_uri": "https://localhost:8080/"
        },
        "id": "tLF9LfEqIBx_",
        "outputId": "58f1586e-817d-4d82-b82a-58779e46f31e"
      },
      "outputs": [
        {
          "data": {
            "text/plain": [
              "(2341534, 1)"
            ]
          },
          "execution_count": 14,
          "metadata": {},
          "output_type": "execute_result"
        }
      ],
      "source": [
        "df_2.shape"
      ]
    },
    {
      "cell_type": "code",
      "execution_count": null,
      "id": "tXeCxh4KWy0r",
      "metadata": {
        "colab": {
          "base_uri": "https://localhost:8080/"
        },
        "id": "tXeCxh4KWy0r",
        "outputId": "6ae4f460-aee4-47e2-f16f-32aa550df78a"
      },
      "outputs": [
        {
          "data": {
            "text/plain": [
              "['twitter-scraper/data-clean/anger.csv',\n",
              " 'twitter-scraper/data-clean/disgust.csv',\n",
              " 'twitter-scraper/data-clean/fear.csv',\n",
              " 'twitter-scraper/data-clean/joy.csv',\n",
              " 'twitter-scraper/data-clean/sadness.csv',\n",
              " 'twitter-scraper/data-clean/surprise.csv',\n",
              " 'twitter-scraper/data-clean/1000000-2020-01-01-2020-12-31-clean.csv',\n",
              " 'twitter-scraper/data-clean/2500000-2019-01-01-2019-12-31.csv-clean.csv']"
            ]
          },
          "execution_count": 15,
          "metadata": {},
          "output_type": "execute_result"
        }
      ],
      "source": [
        "# find all files in data-clean fodler\n",
        "files = os.path.join(destination_folder_path, '*.csv')\n",
        "files = glob.glob(files)\n",
        "files"
      ]
    },
    {
      "cell_type": "code",
      "execution_count": null,
      "id": "uHwRcyG9YOys",
      "metadata": {
        "colab": {
          "base_uri": "https://localhost:8080/"
        },
        "id": "uHwRcyG9YOys",
        "outputId": "788997d0-3a60-4883-9810-1d2acd3ea2b7"
      },
      "outputs": [
        {
          "data": {
            "text/plain": [
              "(3126987, 1)"
            ]
          },
          "execution_count": 16,
          "metadata": {},
          "output_type": "execute_result"
        }
      ],
      "source": [
        "# merge all files\n",
        "df_final = pd.concat(map(pd.read_csv, files), ignore_index=True)\n",
        "df_final = df_final[['tweet']]\n",
        "df_final = df_final.drop_duplicates()   # dropping duplicates\n",
        "df_final = df_final.dropna()            # dropping rows with NaN values\n",
        "df_final.shape"
      ]
    },
    {
      "cell_type": "code",
      "execution_count": null,
      "id": "WOMuNPo3ivDK",
      "metadata": {
        "id": "WOMuNPo3ivDK"
      },
      "outputs": [],
      "source": [
        "df_final.to_csv('data/id-tweet-dump/id-tweet-dump-clean.csv')"
      ]
    }
  ],
  "metadata": {
    "colab": {
      "collapsed_sections": [],
      "include_colab_link": true,
      "name": "03-tweet-processor.ipynb",
      "provenance": []
    },
    "kernelspec": {
      "display_name": "Python 3.8.8 ('base')",
      "language": "python",
      "name": "python3"
    },
    "language_info": {
      "codemirror_mode": {
        "name": "ipython",
        "version": 3
      },
      "file_extension": ".py",
      "mimetype": "text/x-python",
      "name": "python",
      "nbconvert_exporter": "python",
      "pygments_lexer": "ipython3",
      "version": "3.8.8"
    },
    "vscode": {
      "interpreter": {
        "hash": "ad2bdc8ecc057115af97d19610ffacc2b4e99fae6737bb82f5d7fb13d2f2c186"
      }
    }
  },
  "nbformat": 4,
  "nbformat_minor": 5
}
