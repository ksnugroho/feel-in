{
  "cells": [
    {
      "cell_type": "markdown",
      "metadata": {
        "id": "view-in-github",
        "colab_type": "text"
      },
      "source": [
        "<a href=\"https://colab.research.google.com/github/ksnugroho/feel-in/blob/main/twitter-scraper/03_tweet_processor.ipynb\" target=\"_parent\"><img src=\"https://colab.research.google.com/assets/colab-badge.svg\" alt=\"Open In Colab\"/></a>"
      ]
    },
    {
      "cell_type": "markdown",
      "source": [
        "# **Tweet Processor**"
      ],
      "metadata": {
        "id": "b7OEaM0lxGlN"
      },
      "id": "b7OEaM0lxGlN"
    },
    {
      "cell_type": "code",
      "source": [
        "from google.colab import drive\n",
        "drive.mount('/content/drive', force_remount=True)"
      ],
      "metadata": {
        "id": "pWzh4MLOSB0e",
        "colab": {
          "base_uri": "https://localhost:8080/"
        },
        "outputId": "81f97703-612d-4c3a-89b9-a0457886c9ff"
      },
      "id": "pWzh4MLOSB0e",
      "execution_count": null,
      "outputs": [
        {
          "output_type": "stream",
          "name": "stdout",
          "text": [
            "Mounted at /content/drive\n"
          ]
        }
      ]
    },
    {
      "cell_type": "code",
      "source": [
        "# Path to google drive folder\n",
        "%cd /content/drive/MyDrive/Code/tesis"
      ],
      "metadata": {
        "id": "T23DVMZ9SDVF",
        "colab": {
          "base_uri": "https://localhost:8080/"
        },
        "outputId": "2907ff20-dbf7-4318-98d2-facec6fcd513"
      },
      "id": "T23DVMZ9SDVF",
      "execution_count": null,
      "outputs": [
        {
          "output_type": "stream",
          "name": "stdout",
          "text": [
            "/content/drive/MyDrive/Code/tesis\n"
          ]
        }
      ]
    },
    {
      "cell_type": "code",
      "source": [
        "# https://pypi.org/project/tweet-preprocessor/\n",
        "!pip install -q tweet-preprocessor"
      ],
      "metadata": {
        "id": "khIVxXcCSpHi"
      },
      "id": "khIVxXcCSpHi",
      "execution_count": null,
      "outputs": []
    },
    {
      "cell_type": "code",
      "source": [
        "import glob\n",
        "import os\n",
        "import pandas as pd\n",
        "import preprocessor as p\n",
        "from tqdm import tqdm\n",
        "tqdm.pandas()"
      ],
      "metadata": {
        "id": "MRLmJebjTMDb"
      },
      "id": "MRLmJebjTMDb",
      "execution_count": null,
      "outputs": []
    },
    {
      "cell_type": "code",
      "execution_count": null,
      "id": "bbfe5dcc-b003-4ef8-9cf4-f1243154e440",
      "metadata": {
        "id": "bbfe5dcc-b003-4ef8-9cf4-f1243154e440"
      },
      "outputs": [],
      "source": [
        "def preprocess_tweet(row):\n",
        "    p.set_options(p.OPT.MENTION, p.OPT.RESERVED, p.OPT.HASHTAG, p.OPT.URL, p.OPT.EMOJI, p.OPT.SMILEY)\n",
        "    text = row['tweet']\n",
        "    text = p.clean(text)\n",
        "    return text"
      ]
    },
    {
      "cell_type": "code",
      "execution_count": null,
      "id": "cd69f9da-216b-4ad9-9efd-b45fb81d04b1",
      "metadata": {
        "id": "cd69f9da-216b-4ad9-9efd-b45fb81d04b1",
        "colab": {
          "base_uri": "https://localhost:8080/"
        },
        "outputId": "be1c2231-f34d-4ca0-ba1a-4bc3868f9a33"
      },
      "outputs": [
        {
          "output_type": "stream",
          "name": "stderr",
          "text": [
            "100%|██████████| 98795/98795 [00:13<00:00, 7267.50it/s]\n",
            "100%|██████████| 98780/98780 [00:09<00:00, 10181.92it/s]\n",
            "100%|██████████| 98839/98839 [00:08<00:00, 11072.90it/s]\n",
            "100%|██████████| 98961/98961 [00:09<00:00, 10990.41it/s]\n",
            "100%|██████████| 99321/99321 [00:09<00:00, 11007.88it/s]\n",
            "100%|██████████| 98823/98823 [00:08<00:00, 11005.87it/s]\n"
          ]
        },
        {
          "output_type": "stream",
          "name": "stdout",
          "text": [
            "Done!\n",
            "CPU times: user 1min 4s, sys: 825 ms, total: 1min 5s\n",
            "Wall time: 1min 17s\n"
          ]
        }
      ],
      "source": [
        "%%time\n",
        "\n",
        "source_folder_path = 'twitter-scraper/data-merge'\n",
        "destination_folder_path = 'twitter-scraper/data-clean'\n",
        "\n",
        "emotion_list = ['anger', 'disgust', 'fear', 'joy', 'sadness', 'surprise']\n",
        "\n",
        "for emotion in emotion_list:\n",
        "    df = pd.read_csv(f'{source_folder_path}/{emotion}.csv', usecols=['tweet'], dtype={'tweet':'str'})\n",
        "    df = df.drop_duplicates()   # dropping duplicates\n",
        "    df = df.dropna()            # dropping rows with NaN values\n",
        "    df['tweet'] = df.progress_apply(preprocess_tweet, axis=1)\n",
        "    df.to_csv(f'{destination_folder_path}/{emotion}.csv')\n",
        "\n",
        "print('Done!')"
      ]
    },
    {
      "cell_type": "code",
      "source": [
        "%%time\n",
        "df_1 = pd.read_csv('twitter-scraper/data-raw/1000000-2020-01-01-2020-12-31.csv', usecols=['tweet'], dtype={'tweet':'str'}, lineterminator='\\n')\n",
        "df_1 = df_1.drop_duplicates()   # dropping duplicates\n",
        "df_1 = df_1.dropna()            # dropping rows with NaN values\n",
        "df_1['tweet'] = df_1.progress_apply(preprocess_tweet, axis=1)     # clean tweet\n",
        "\n",
        "df_1.to_csv('twitter-scraper/data-clean/1000000-2020-01-01-2020-12-31-clean.csv')\n",
        "print('Done!')"
      ],
      "metadata": {
        "colab": {
          "base_uri": "https://localhost:8080/"
        },
        "id": "K4XSSFY9hSDh",
        "outputId": "c4bf17f0-7a02-47dc-cd75-dcefc50d5c9f"
      },
      "id": "K4XSSFY9hSDh",
      "execution_count": null,
      "outputs": [
        {
          "output_type": "stream",
          "name": "stderr",
          "text": [
            "100%|██████████| 986920/986920 [01:30<00:00, 10907.26it/s]\n"
          ]
        },
        {
          "output_type": "stream",
          "name": "stdout",
          "text": [
            "Done!\n",
            "CPU times: user 1min 33s, sys: 1.03 s, total: 1min 34s\n",
            "Wall time: 1min 37s\n"
          ]
        }
      ]
    },
    {
      "cell_type": "code",
      "source": [
        "df_1.shape"
      ],
      "metadata": {
        "colab": {
          "base_uri": "https://localhost:8080/"
        },
        "id": "6sjzbshNIACd",
        "outputId": "da7bb420-2a54-4276-a596-9a18c468b091"
      },
      "id": "6sjzbshNIACd",
      "execution_count": null,
      "outputs": [
        {
          "output_type": "execute_result",
          "data": {
            "text/plain": [
              "(986920, 1)"
            ]
          },
          "metadata": {},
          "execution_count": 8
        }
      ]
    },
    {
      "cell_type": "code",
      "source": [
        "%%time\n",
        "df_2 = pd.read_csv('twitter-scraper/data-raw/2500000-2019-01-01-2019-12-31.csv', usecols=['tweet'], dtype={'tweet':'str'}, lineterminator='\\n')\n",
        "df_2 = df_2.drop_duplicates()   # dropping duplicates\n",
        "df_2 = df_2.dropna()            # dropping rows with NaN values\n",
        "df_2['tweet'] = df_2.progress_apply(preprocess_tweet, axis=1)     # clean tweet\n",
        "\n",
        "df_2.to_csv('twitter-scraper/data-clean/2500000-2019-01-01-2019-12-31.csv-clean.csv')\n",
        "print('Done!')"
      ],
      "metadata": {
        "colab": {
          "base_uri": "https://localhost:8080/"
        },
        "id": "P0z7EhV9FsQd",
        "outputId": "5b3afed7-9ec0-4e30-df73-e984b87762f3"
      },
      "id": "P0z7EhV9FsQd",
      "execution_count": null,
      "outputs": [
        {
          "output_type": "stream",
          "name": "stderr",
          "text": [
            "100%|██████████| 2341534/2341534 [03:37<00:00, 10765.78it/s]\n"
          ]
        },
        {
          "output_type": "stream",
          "name": "stdout",
          "text": [
            "Done!\n",
            "CPU times: user 3min 49s, sys: 4.2 s, total: 3min 54s\n",
            "Wall time: 4min 1s\n"
          ]
        }
      ]
    },
    {
      "cell_type": "code",
      "source": [
        "df_2.shape"
      ],
      "metadata": {
        "colab": {
          "base_uri": "https://localhost:8080/"
        },
        "id": "tLF9LfEqIBx_",
        "outputId": "58f1586e-817d-4d82-b82a-58779e46f31e"
      },
      "id": "tLF9LfEqIBx_",
      "execution_count": null,
      "outputs": [
        {
          "output_type": "execute_result",
          "data": {
            "text/plain": [
              "(2341534, 1)"
            ]
          },
          "metadata": {},
          "execution_count": 14
        }
      ]
    },
    {
      "cell_type": "code",
      "source": [
        "# find all files in data-clean fodler\n",
        "files = os.path.join(destination_folder_path, '*.csv')\n",
        "files = glob.glob(files)\n",
        "files"
      ],
      "metadata": {
        "colab": {
          "base_uri": "https://localhost:8080/"
        },
        "id": "tXeCxh4KWy0r",
        "outputId": "6ae4f460-aee4-47e2-f16f-32aa550df78a"
      },
      "id": "tXeCxh4KWy0r",
      "execution_count": null,
      "outputs": [
        {
          "output_type": "execute_result",
          "data": {
            "text/plain": [
              "['twitter-scraper/data-clean/anger.csv',\n",
              " 'twitter-scraper/data-clean/disgust.csv',\n",
              " 'twitter-scraper/data-clean/fear.csv',\n",
              " 'twitter-scraper/data-clean/joy.csv',\n",
              " 'twitter-scraper/data-clean/sadness.csv',\n",
              " 'twitter-scraper/data-clean/surprise.csv',\n",
              " 'twitter-scraper/data-clean/1000000-2020-01-01-2020-12-31-clean.csv',\n",
              " 'twitter-scraper/data-clean/2500000-2019-01-01-2019-12-31.csv-clean.csv']"
            ]
          },
          "metadata": {},
          "execution_count": 15
        }
      ]
    },
    {
      "cell_type": "code",
      "source": [
        "# merge all files\n",
        "df_final = pd.concat(map(pd.read_csv, files), ignore_index=True)\n",
        "df_final = df_final[['tweet']]\n",
        "df_final = df_final.drop_duplicates()   # dropping duplicates\n",
        "df_final = df_final.dropna()            # dropping rows with NaN values\n",
        "df_final.shape"
      ],
      "metadata": {
        "colab": {
          "base_uri": "https://localhost:8080/"
        },
        "id": "uHwRcyG9YOys",
        "outputId": "788997d0-3a60-4883-9810-1d2acd3ea2b7"
      },
      "id": "uHwRcyG9YOys",
      "execution_count": null,
      "outputs": [
        {
          "output_type": "execute_result",
          "data": {
            "text/plain": [
              "(3126987, 1)"
            ]
          },
          "metadata": {},
          "execution_count": 16
        }
      ]
    },
    {
      "cell_type": "code",
      "source": [
        "df_final.to_csv('data/id-tweet-dump/id-tweet-dump-clean.csv')"
      ],
      "metadata": {
        "id": "WOMuNPo3ivDK"
      },
      "id": "WOMuNPo3ivDK",
      "execution_count": null,
      "outputs": []
    }
  ],
  "metadata": {
    "kernelspec": {
      "display_name": "Python 3 (ipykernel)",
      "language": "python",
      "name": "python3"
    },
    "language_info": {
      "codemirror_mode": {
        "name": "ipython",
        "version": 3
      },
      "file_extension": ".py",
      "mimetype": "text/x-python",
      "name": "python",
      "nbconvert_exporter": "python",
      "pygments_lexer": "ipython3",
      "version": "3.8.13"
    },
    "colab": {
      "name": "03-tweet-processor.ipynb",
      "provenance": [],
      "collapsed_sections": [],
      "include_colab_link": true
    }
  },
  "nbformat": 4,
  "nbformat_minor": 5
}