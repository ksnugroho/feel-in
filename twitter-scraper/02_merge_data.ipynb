{
  "cells": [
    {
      "cell_type": "markdown",
      "metadata": {
        "colab_type": "text",
        "id": "view-in-github"
      },
      "source": [
        "<a href=\"https://colab.research.google.com/github/ksnugroho/feel-in/blob/main/twitter-scraper/02_merge_data.ipynb\" target=\"_parent\"><img src=\"https://colab.research.google.com/assets/colab-badge.svg\" alt=\"Open In Colab\"/></a>"
      ]
    },
    {
      "cell_type": "markdown",
      "id": "Dq1NecEvxDFo",
      "metadata": {
        "id": "Dq1NecEvxDFo"
      },
      "source": [
        "# **Merge Data**"
      ]
    },
    {
      "cell_type": "code",
      "execution_count": null,
      "id": "FBBpQAP1P04J",
      "metadata": {
        "colab": {
          "base_uri": "https://localhost:8080/"
        },
        "id": "FBBpQAP1P04J",
        "outputId": "02c65ef0-84f9-4926-88e8-d9fb324f5468"
      },
      "outputs": [
        {
          "name": "stdout",
          "output_type": "stream",
          "text": [
            "Mounted at /content/drive\n"
          ]
        }
      ],
      "source": [
        "from google.colab import drive\n",
        "drive.mount('/content/drive', force_remount=True)"
      ]
    },
    {
      "cell_type": "code",
      "execution_count": null,
      "id": "5n2rIsgKP1o9",
      "metadata": {
        "colab": {
          "base_uri": "https://localhost:8080/"
        },
        "id": "5n2rIsgKP1o9",
        "outputId": "60bc6856-7646-40b6-c629-e72913acd649"
      },
      "outputs": [],
      "source": [
        "# Path to google drive folder\n",
        "%cd /content/drive/MyDrive/"
      ]
    },
    {
      "cell_type": "code",
      "execution_count": null,
      "id": "d337c916-7223-42cf-85c7-8928036ef5ff",
      "metadata": {
        "colab": {
          "base_uri": "https://localhost:8080/"
        },
        "id": "d337c916-7223-42cf-85c7-8928036ef5ff",
        "outputId": "9d15e3dd-9a5e-462d-9127-e07e4819c27e"
      },
      "outputs": [
        {
          "name": "stdout",
          "output_type": "stream",
          "text": [
            "Done!\n",
            "CPU times: user 21.3 s, sys: 1.09 s, total: 22.4 s\n",
            "Wall time: 1min\n"
          ]
        }
      ],
      "source": [
        "%%time\n",
        "\n",
        "import glob\n",
        "import pandas as pd\n",
        "\n",
        "emotion_list = ['anger', 'disgust', 'fear', 'joy', 'sadness', 'surprise']\n",
        "\n",
        "source_folder_path = 'twitter-scraper/data-raw'\n",
        "destination_folder_path = 'twitter-scraper/data-merge'\n",
        "\n",
        "for emotion in emotion_list:\n",
        "    df = pd.concat(map(pd.read_csv, glob.glob(f'{source_folder_path}/{emotion}/*.csv')))\n",
        "    df = df[['datetime', 'tweet']]\n",
        "    df = df.sample(frac = 1).reset_index(drop=True) # shuffle\n",
        "    df.to_csv(f'{destination_folder_path}/{emotion}.csv')\n",
        "\n",
        "print('Done!')"
      ]
    }
  ],
  "metadata": {
    "colab": {
      "collapsed_sections": [],
      "include_colab_link": true,
      "name": "02-merge-data.ipynb",
      "provenance": []
    },
    "kernelspec": {
      "display_name": "Python 3.8.8 ('base')",
      "language": "python",
      "name": "python3"
    },
    "language_info": {
      "codemirror_mode": {
        "name": "ipython",
        "version": 3
      },
      "file_extension": ".py",
      "mimetype": "text/x-python",
      "name": "python",
      "nbconvert_exporter": "python",
      "pygments_lexer": "ipython3",
      "version": "3.8.8"
    },
    "vscode": {
      "interpreter": {
        "hash": "ad2bdc8ecc057115af97d19610ffacc2b4e99fae6737bb82f5d7fb13d2f2c186"
      }
    }
  },
  "nbformat": 4,
  "nbformat_minor": 5
}
