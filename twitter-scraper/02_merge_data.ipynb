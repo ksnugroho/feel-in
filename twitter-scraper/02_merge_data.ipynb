{
  "cells": [
    {
      "cell_type": "markdown",
      "metadata": {
        "id": "view-in-github",
        "colab_type": "text"
      },
      "source": [
        "<a href=\"https://colab.research.google.com/github/ksnugroho/feel-in/blob/main/twitter-scraper/02_merge_data.ipynb\" target=\"_parent\"><img src=\"https://colab.research.google.com/assets/colab-badge.svg\" alt=\"Open In Colab\"/></a>"
      ]
    },
    {
      "cell_type": "markdown",
      "source": [
        "# **Merge Data**"
      ],
      "metadata": {
        "id": "Dq1NecEvxDFo"
      },
      "id": "Dq1NecEvxDFo"
    },
    {
      "cell_type": "code",
      "source": [
        "from google.colab import drive\n",
        "drive.mount('/content/drive', force_remount=True)"
      ],
      "metadata": {
        "colab": {
          "base_uri": "https://localhost:8080/"
        },
        "id": "FBBpQAP1P04J",
        "outputId": "02c65ef0-84f9-4926-88e8-d9fb324f5468"
      },
      "id": "FBBpQAP1P04J",
      "execution_count": null,
      "outputs": [
        {
          "output_type": "stream",
          "name": "stdout",
          "text": [
            "Mounted at /content/drive\n"
          ]
        }
      ]
    },
    {
      "cell_type": "code",
      "source": [
        "# Path to google drive folder\n",
        "%cd /content/drive/MyDrive/Code/tesis"
      ],
      "metadata": {
        "colab": {
          "base_uri": "https://localhost:8080/"
        },
        "id": "5n2rIsgKP1o9",
        "outputId": "60bc6856-7646-40b6-c629-e72913acd649"
      },
      "id": "5n2rIsgKP1o9",
      "execution_count": null,
      "outputs": [
        {
          "output_type": "stream",
          "name": "stdout",
          "text": [
            "/content/drive/MyDrive/Code/tesis\n"
          ]
        }
      ]
    },
    {
      "cell_type": "code",
      "execution_count": null,
      "id": "d337c916-7223-42cf-85c7-8928036ef5ff",
      "metadata": {
        "id": "d337c916-7223-42cf-85c7-8928036ef5ff",
        "colab": {
          "base_uri": "https://localhost:8080/"
        },
        "outputId": "9d15e3dd-9a5e-462d-9127-e07e4819c27e"
      },
      "outputs": [
        {
          "output_type": "stream",
          "name": "stdout",
          "text": [
            "Done!\n",
            "CPU times: user 21.3 s, sys: 1.09 s, total: 22.4 s\n",
            "Wall time: 1min\n"
          ]
        }
      ],
      "source": [
        "%%time\n",
        "\n",
        "import glob\n",
        "import pandas as pd\n",
        "\n",
        "emotion_list = ['anger', 'disgust', 'fear', 'joy', 'sadness', 'surprise']\n",
        "\n",
        "source_folder_path = 'twitter-scraper/data-raw'\n",
        "destination_folder_path = 'twitter-scraper/data-merge'\n",
        "\n",
        "for emotion in emotion_list:\n",
        "    df = pd.concat(map(pd.read_csv, glob.glob(f'{source_folder_path}/{emotion}/*.csv')))\n",
        "    df = df[['datetime', 'tweet']]\n",
        "    df = df.sample(frac = 1).reset_index(drop=True) # shuffle\n",
        "    df.to_csv(f'{destination_folder_path}/{emotion}.csv')\n",
        "\n",
        "print('Done!')"
      ]
    }
  ],
  "metadata": {
    "kernelspec": {
      "display_name": "Python 3 (ipykernel)",
      "language": "python",
      "name": "python3"
    },
    "language_info": {
      "codemirror_mode": {
        "name": "ipython",
        "version": 3
      },
      "file_extension": ".py",
      "mimetype": "text/x-python",
      "name": "python",
      "nbconvert_exporter": "python",
      "pygments_lexer": "ipython3",
      "version": "3.8.13"
    },
    "colab": {
      "name": "02-merge-data.ipynb",
      "provenance": [],
      "collapsed_sections": [],
      "include_colab_link": true
    }
  },
  "nbformat": 4,
  "nbformat_minor": 5
}