{
  "cells": [
    {
      "cell_type": "markdown",
      "metadata": {
        "colab_type": "text",
        "id": "view-in-github"
      },
      "source": [
        "<a href=\"https://colab.research.google.com/github/ksnugroho/feel-in/blob/main/model-baseline-bert/06_BERT_fine_tuning_malay_bahasa.ipynb\" target=\"_parent\"><img src=\"https://colab.research.google.com/assets/colab-badge.svg\" alt=\"Open In Colab\"/></a>"
      ]
    },
    {
      "cell_type": "markdown",
      "id": "fK3gIPxS6Wbw",
      "metadata": {
        "id": "fK3gIPxS6Wbw"
      },
      "source": [
        "# **BERT Fine Tuning: Malay BERT Base (Cased)**\n",
        "\n",
        "**Thesis: Emotion Detection in Indonesian Text**\n",
        "\n",
        "Kuncahyo Setyo Nugroho<br>\n",
        "Supervisor:\n",
        "1. Dr. Eng. Fitra A. Bachtiar, S.T., M.Eng.\n",
        "2. Prof. Ir. Wayan Firdaus Mahmudy, S.Si., M.T., Ph.D.\n",
        "\n",
        "Faculty of Computer Science, Brawijaya University, Indonesia &copy; 2021-2022"
      ]
    },
    {
      "cell_type": "markdown",
      "id": "5e9bd0fc-0b80-4ad2-a930-e9de97552ecc",
      "metadata": {
        "id": "5e9bd0fc-0b80-4ad2-a930-e9de97552ecc"
      },
      "source": [
        "# 01 Setup"
      ]
    },
    {
      "cell_type": "code",
      "execution_count": 1,
      "id": "c4L_rfEaIRyU",
      "metadata": {
        "colab": {
          "base_uri": "https://localhost:8080/"
        },
        "id": "c4L_rfEaIRyU",
        "outputId": "2c634100-0b3d-44d2-add7-3b3ffe95066e"
      },
      "outputs": [
        {
          "name": "stdout",
          "output_type": "stream",
          "text": [
            "Mounted at /content/drive\n"
          ]
        }
      ],
      "source": [
        "from google.colab import drive\n",
        "drive.mount('/content/drive', force_remount=True)"
      ]
    },
    {
      "cell_type": "code",
      "execution_count": null,
      "id": "g2mJAf9KIUOW",
      "metadata": {
        "colab": {
          "base_uri": "https://localhost:8080/"
        },
        "id": "g2mJAf9KIUOW",
        "outputId": "63015ea1-805b-4cb7-a2e1-2fb0b9d3d2d5"
      },
      "outputs": [],
      "source": [
        "%cd /content/drive/MyDrive/"
      ]
    },
    {
      "cell_type": "code",
      "execution_count": 3,
      "id": "p6N3DanHIhKI",
      "metadata": {
        "colab": {
          "base_uri": "https://localhost:8080/"
        },
        "id": "p6N3DanHIhKI",
        "outputId": "ca94068e-eb6c-4e6e-a70c-ccf57d2266ee"
      },
      "outputs": [
        {
          "name": "stdout",
          "output_type": "stream",
          "text": [
            "\u001b[K     |████████████████████████████████| 4.4 MB 4.2 MB/s \n",
            "\u001b[K     |████████████████████████████████| 1.1 MB 58.6 MB/s \n",
            "\u001b[K     |████████████████████████████████| 101 kB 12.5 MB/s \n",
            "\u001b[K     |████████████████████████████████| 596 kB 88.7 MB/s \n",
            "\u001b[K     |████████████████████████████████| 6.6 MB 50.1 MB/s \n",
            "\u001b[?25h"
          ]
        }
      ],
      "source": [
        "!pip install -q transformers tensorflow-addons"
      ]
    },
    {
      "cell_type": "code",
      "execution_count": 4,
      "id": "991ebc5e-f3d2-41b1-b81f-e814a9739113",
      "metadata": {
        "id": "991ebc5e-f3d2-41b1-b81f-e814a9739113"
      },
      "outputs": [],
      "source": [
        "import re\n",
        "import os\n",
        "import datetime\n",
        "import numpy as np\n",
        "import pandas as pd\n",
        "import matplotlib.pyplot as plt\n",
        "import seaborn as sns\n",
        "\n",
        "from itertools import cycle\n",
        "from sklearn.preprocessing import LabelEncoder, label_binarize\n",
        "from sklearn.model_selection import train_test_split\n",
        "from sklearn.metrics import roc_curve, auc, confusion_matrix, classification_report\n",
        "\n",
        "import transformers\n",
        "from transformers import BertTokenizer, BertConfig, TFBertModel\n",
        "\n",
        "import tensorflow as tf\n",
        "import tensorflow_addons as tfa\n",
        "from tensorflow.keras.utils import to_categorical, plot_model\n",
        "from tensorflow_addons.optimizers import AdamW\n",
        "from tensorflow.keras.losses import CategoricalCrossentropy\n",
        "from tensorflow.keras.callbacks import EarlyStopping, ModelCheckpoint, TensorBoard\n",
        "\n",
        "from tqdm import tqdm\n",
        "tqdm.pandas()\n",
        "\n",
        "import warnings\n",
        "warnings.filterwarnings('ignore')\n",
        "\n",
        "SEED = 50\n",
        "\n",
        "# Tentukan pre-trained model yang akan digunakan untuk fine-tuning\n",
        "# Daftar model https://huggingface.co\n",
        "\n",
        "PRE_TRAINED_MODEL = 'malay-huggingface/bert-base-bahasa-cased'  # https://huggingface.co/malay-huggingface/bert-base-bahasa-cased\n",
        "MODEL = PRE_TRAINED_MODEL.replace('/', '-')\n",
        "FOLDER_PATH = 'model-baseline-bert'\n",
        "\n",
        "np.random.seed(SEED)\n",
        "tf.random.set_seed(SEED)\n",
        "colors = plt.rcParams['axes.prop_cycle'].by_key()['color']\n",
        "\n",
        "%matplotlib inline"
      ]
    },
    {
      "cell_type": "code",
      "execution_count": 5,
      "id": "df61f621-d3df-4382-b3cb-b8831bba3635",
      "metadata": {
        "colab": {
          "base_uri": "https://localhost:8080/"
        },
        "id": "df61f621-d3df-4382-b3cb-b8831bba3635",
        "outputId": "5e90d1f1-40a8-495b-992a-3f19442e567d"
      },
      "outputs": [
        {
          "name": "stdout",
          "output_type": "stream",
          "text": [
            "Tensorflow: 2.8.2\n",
            "Tensorflow addons: 0.17.1\n",
            "Transformers: 4.20.1\n"
          ]
        }
      ],
      "source": [
        "print('Tensorflow:', tf.__version__)\n",
        "print('Tensorflow addons:',tfa.__version__)\n",
        "print('Transformers:', transformers.__version__)"
      ]
    },
    {
      "cell_type": "code",
      "execution_count": 6,
      "id": "WJ79Jte5EbdK",
      "metadata": {
        "colab": {
          "base_uri": "https://localhost:8080/"
        },
        "id": "WJ79Jte5EbdK",
        "outputId": "341633ef-54f6-4c55-84e3-7a2cb1e94744"
      },
      "outputs": [
        {
          "name": "stdout",
          "output_type": "stream",
          "text": [
            "\u001b[K     |████████████████████████████████| 1.8 MB 4.3 MB/s \n",
            "\u001b[K     |████████████████████████████████| 147 kB 69.5 MB/s \n",
            "\u001b[K     |████████████████████████████████| 181 kB 63.8 MB/s \n",
            "\u001b[K     |████████████████████████████████| 63 kB 1.9 MB/s \n",
            "\u001b[?25h  Building wheel for pathtools (setup.py) ... \u001b[?25l\u001b[?25hdone\n"
          ]
        }
      ],
      "source": [
        "!pip install -q wandb"
      ]
    },
    {
      "cell_type": "code",
      "execution_count": 7,
      "id": "rJJ3XjcZEdFM",
      "metadata": {
        "colab": {
          "base_uri": "https://localhost:8080/"
        },
        "id": "rJJ3XjcZEdFM",
        "outputId": "dcc033ae-4872-45ae-b59d-3eeb42f81784"
      },
      "outputs": [
        {
          "name": "stderr",
          "output_type": "stream",
          "text": [
            "\u001b[34m\u001b[1mwandb\u001b[0m: W&B API key is configured. Use \u001b[1m`wandb login --relogin`\u001b[0m to force relogin\n",
            "\u001b[34m\u001b[1mwandb\u001b[0m: \u001b[33mWARNING\u001b[0m If you're specifying your api key in code, ensure this code is not shared publicly.\n",
            "\u001b[34m\u001b[1mwandb\u001b[0m: \u001b[33mWARNING\u001b[0m Consider setting the WANDB_API_KEY environment variable, or running `wandb login` from the command line.\n",
            "\u001b[34m\u001b[1mwandb\u001b[0m: Appending key for api.wandb.ai to your netrc file: /root/.netrc\n"
          ]
        },
        {
          "data": {
            "text/plain": [
              "True"
            ]
          },
          "execution_count": 7,
          "metadata": {},
          "output_type": "execute_result"
        }
      ],
      "source": [
        "import wandb\n",
        "from wandb.keras import WandbCallback\n",
        "\n",
        "wandb.login(key='API_KEY')"
      ]
    },
    {
      "cell_type": "code",
      "execution_count": 8,
      "id": "vBrj9cNcDnWI",
      "metadata": {
        "colab": {
          "base_uri": "https://localhost:8080/"
        },
        "id": "vBrj9cNcDnWI",
        "outputId": "bbe1f7db-0fd6-4c9e-9d42-9b59aa1c79a3"
      },
      "outputs": [
        {
          "name": "stdout",
          "output_type": "stream",
          "text": [
            "07-15-2022-18:41\n"
          ]
        }
      ],
      "source": [
        "TODAY = datetime.datetime.now().strftime(\"%m-%d-%Y-%H:%M\")\n",
        "print(TODAY)"
      ]
    },
    {
      "cell_type": "markdown",
      "id": "e0cdcc2e-0087-4e50-a3a2-bf19545342be",
      "metadata": {
        "id": "e0cdcc2e-0087-4e50-a3a2-bf19545342be"
      },
      "source": [
        "# 02 Load Data"
      ]
    },
    {
      "cell_type": "code",
      "execution_count": 9,
      "id": "49c107be-7ee7-4ae0-b479-b8bef225e606",
      "metadata": {
        "colab": {
          "base_uri": "https://localhost:8080/"
        },
        "id": "49c107be-7ee7-4ae0-b479-b8bef225e606",
        "outputId": "81b4f62c-1a5a-4d3b-a1c1-ab90ff89b53a",
        "tags": []
      },
      "outputs": [
        {
          "name": "stdout",
          "output_type": "stream",
          "text": [
            "                                               tweet    label\n",
            "0        wah belom liat muka gue lagi murka hahahaha      joy\n",
            "1  Mungkin kurang piknik adrenalin. Mereka yg ske...    anger\n",
            "2  maaf kalo tersinggung \"orang kurus cepet mati\"...    anger\n",
            "3  berserah pada maha esa paling tabah dan sabar ...      joy\n",
            "4                       Ehekk malu la hahahahahahaha  sadness\n"
          ]
        }
      ],
      "source": [
        "df = pd.read_csv('data/final-tweet-anotasi.csv', index_col=0)\n",
        "# df = df.sample(frac=1, random_state=SEED).reset_index(drop=True)   # For shuffle\n",
        "print(df.head())"
      ]
    },
    {
      "cell_type": "code",
      "execution_count": 10,
      "id": "K0YuhMKvI5LO",
      "metadata": {
        "id": "K0YuhMKvI5LO"
      },
      "outputs": [],
      "source": [
        "# df = df.dropna()"
      ]
    },
    {
      "cell_type": "code",
      "execution_count": 11,
      "id": "OaYdDlkBKj2z",
      "metadata": {
        "colab": {
          "base_uri": "https://localhost:8080/"
        },
        "id": "OaYdDlkBKj2z",
        "outputId": "518160e2-d5d9-485a-8940-1126bc0c13cf"
      },
      "outputs": [
        {
          "data": {
            "text/plain": [
              "(2243, 2)"
            ]
          },
          "execution_count": 11,
          "metadata": {},
          "output_type": "execute_result"
        }
      ],
      "source": [
        "df.shape"
      ]
    },
    {
      "cell_type": "code",
      "execution_count": 12,
      "id": "504fb63d-89ec-4fbc-93d5-19ff943dcccf",
      "metadata": {
        "id": "504fb63d-89ec-4fbc-93d5-19ff943dcccf"
      },
      "outputs": [],
      "source": [
        "# Copy data\n",
        "df_raw = df.copy()"
      ]
    },
    {
      "cell_type": "code",
      "execution_count": 13,
      "id": "ibzYUH9NDtk2",
      "metadata": {
        "colab": {
          "base_uri": "https://localhost:8080/",
          "height": 456
        },
        "id": "ibzYUH9NDtk2",
        "outputId": "a8265d78-0ed8-4e7b-bdbf-a2750b9501cb"
      },
      "outputs": [
        {
          "data": {
            "image/png": "[encoded data removed]",
            "text/plain": [
              "<Figure size 576x360 with 1 Axes>"
            ]
          },
          "metadata": {
            "needs_background": "light"
          },
          "output_type": "display_data"
        },
        {
          "data": {
            "text/plain": [
              "anger       475\n",
              "disgust     355\n",
              "fear        395\n",
              "joy         429\n",
              "sadness     303\n",
              "surprise    286\n",
              "Name: label, dtype: int64"
            ]
          },
          "execution_count": 13,
          "metadata": {},
          "output_type": "execute_result"
        }
      ],
      "source": [
        "plt.figure(figsize=(8, 5))\n",
        "sns.countplot(x='label', data=df, order=df['label'].value_counts().index)\n",
        "plt.xlabel('Distribution of Emotion Label')\n",
        "plt.show()\n",
        "\n",
        "df['label'].value_counts().sort_index()"
      ]
    },
    {
      "cell_type": "markdown",
      "id": "1d86ba6e-a227-4cb5-8ea2-a0abc90cf41f",
      "metadata": {
        "id": "1d86ba6e-a227-4cb5-8ea2-a0abc90cf41f"
      },
      "source": [
        "# 03 Preprocessing"
      ]
    },
    {
      "cell_type": "markdown",
      "id": "ySuAUGMND8dU",
      "metadata": {
        "id": "ySuAUGMND8dU"
      },
      "source": [
        "## Text Cleaning"
      ]
    },
    {
      "cell_type": "code",
      "execution_count": 14,
      "id": "80b62680-29bf-4e02-9365-504922a54885",
      "metadata": {
        "id": "80b62680-29bf-4e02-9365-504922a54885"
      },
      "outputs": [],
      "source": [
        "def text_cleaning(text):\n",
        "    text = text.lower()                               # Mengubah teks menjadi lower case\n",
        "    text = re.sub(r'https?://\\S+|www\\.\\S+', '', text) # Menghapus URL\n",
        "    text = re.sub(r'[-+]?[0-9]+', '', text)           # Menghapus angka\n",
        "    text = re.sub(r'[^\\w\\s]','', text)                # Menghapus karakter tanda baca\n",
        "    text = text.strip()                               # Menghapus whitespaces\n",
        "    return text"
      ]
    },
    {
      "cell_type": "code",
      "execution_count": 15,
      "id": "09ccca8e-6dc0-4061-8315-7e32c581a9ac",
      "metadata": {
        "colab": {
          "base_uri": "https://localhost:8080/"
        },
        "id": "09ccca8e-6dc0-4061-8315-7e32c581a9ac",
        "outputId": "972af621-1c11-404e-a5cf-951992b7dfb8"
      },
      "outputs": [
        {
          "name": "stderr",
          "output_type": "stream",
          "text": [
            "100%|██████████| 2243/2243 [00:00<00:00, 81006.26it/s]"
          ]
        },
        {
          "name": "stdout",
          "output_type": "stream",
          "text": [
            "CPU times: user 32 ms, sys: 2.57 ms, total: 34.5 ms\n",
            "Wall time: 33 ms\n"
          ]
        },
        {
          "name": "stderr",
          "output_type": "stream",
          "text": [
            "\n"
          ]
        }
      ],
      "source": [
        "%%time \n",
        "df['tweet'] = df['tweet'].progress_apply(text_cleaning)"
      ]
    },
    {
      "cell_type": "markdown",
      "id": "Jl8B8ViHD9_K",
      "metadata": {
        "id": "Jl8B8ViHD9_K"
      },
      "source": [
        "## Label Encoder"
      ]
    },
    {
      "cell_type": "code",
      "execution_count": 16,
      "id": "ItHDBAOUD_w3",
      "metadata": {
        "colab": {
          "base_uri": "https://localhost:8080/"
        },
        "id": "ItHDBAOUD_w3",
        "outputId": "cc033a77-6df1-4c7d-8192-0edd75eda069"
      },
      "outputs": [
        {
          "name": "stdout",
          "output_type": "stream",
          "text": [
            "                                               tweet    label  label_encode\n",
            "0        wah belom liat muka gue lagi murka hahahaha      joy             3\n",
            "1  mungkin kurang piknik adrenalin mereka yg skep...    anger             0\n",
            "2  maaf kalo tersinggung orang kurus cepet mati w...    anger             0\n",
            "3  berserah pada maha esa paling tabah dan sabar ...      joy             3\n",
            "4                       ehekk malu la hahahahahahaha  sadness             4\n"
          ]
        }
      ],
      "source": [
        "le = LabelEncoder()\n",
        "\n",
        "df['label_encode'] = le.fit_transform(df['label'])\n",
        "print(df.head())"
      ]
    },
    {
      "cell_type": "code",
      "execution_count": 17,
      "id": "bjIwbWZeEAwu",
      "metadata": {
        "colab": {
          "base_uri": "https://localhost:8080/"
        },
        "id": "bjIwbWZeEAwu",
        "outputId": "98d41bc4-f35f-4669-a9ae-c65a1235a55a"
      },
      "outputs": [
        {
          "name": "stdout",
          "output_type": "stream",
          "text": [
            "{'anger': 0, 'disgust': 1, 'fear': 2, 'joy': 3, 'sadness': 4, 'surprise': 5}\n"
          ]
        }
      ],
      "source": [
        "le_mapping = dict(zip(le.classes_, le.transform(le.classes_)))\n",
        "print(le_mapping)"
      ]
    },
    {
      "cell_type": "code",
      "execution_count": 18,
      "id": "7y0Xig8wEB38",
      "metadata": {
        "colab": {
          "base_uri": "https://localhost:8080/"
        },
        "id": "7y0Xig8wEB38",
        "outputId": "41070d85-c5d4-460a-f2bb-8e079dd5bc96"
      },
      "outputs": [
        {
          "name": "stdout",
          "output_type": "stream",
          "text": [
            "['anger' 'disgust' 'fear' 'joy' 'sadness' 'surprise']\n"
          ]
        }
      ],
      "source": [
        "LABEL_NAME = le.classes_\n",
        "print(LABEL_NAME)"
      ]
    },
    {
      "cell_type": "markdown",
      "id": "Y0pcPELxEZ2T",
      "metadata": {
        "id": "Y0pcPELxEZ2T"
      },
      "source": [
        "# 04 Choosing Maximum Lenght of the Sequence"
      ]
    },
    {
      "cell_type": "code",
      "execution_count": 19,
      "id": "rE0V9ZWOEe6N",
      "metadata": {
        "colab": {
          "base_uri": "https://localhost:8080/",
          "height": 334
        },
        "id": "rE0V9ZWOEe6N",
        "outputId": "04faa958-53d8-426e-ed26-85c650a148cc"
      },
      "outputs": [
        {
          "data": {
            "image/png": "[encoded data removed]",
            "text/plain": [
              "<Figure size 576x360 with 1 Axes>"
            ]
          },
          "metadata": {
            "needs_background": "light"
          },
          "output_type": "display_data"
        }
      ],
      "source": [
        "token_lens = []\n",
        "\n",
        "for text in df['tweet']:\n",
        "    tokens = text.split()\n",
        "    token_lens.append(len(tokens))\n",
        "\n",
        "plt.figure(figsize=(8, 5))\n",
        "sns.histplot(token_lens, kde=True, stat='density', linewidth=0)\n",
        "plt.xlim([0, 100]);\n",
        "plt.xlabel('Token count');"
      ]
    },
    {
      "cell_type": "code",
      "execution_count": 20,
      "id": "mdemrg3WEg8c",
      "metadata": {
        "id": "mdemrg3WEg8c"
      },
      "outputs": [],
      "source": [
        "MAX_SEQ_LENGTH = 80"
      ]
    },
    {
      "cell_type": "markdown",
      "id": "dcaf1af3-243c-45f3-9f2d-8620111cca43",
      "metadata": {
        "id": "dcaf1af3-243c-45f3-9f2d-8620111cca43"
      },
      "source": [
        "# 05 Train & Test Data Splitting"
      ]
    },
    {
      "cell_type": "code",
      "execution_count": 21,
      "id": "xWOkDLdbhH_o",
      "metadata": {
        "id": "xWOkDLdbhH_o"
      },
      "outputs": [],
      "source": [
        "NUM_CLASS = len(df['label_encode'].unique())\n",
        "\n",
        "X = df['tweet']\n",
        "y = to_categorical(df['label_encode'], num_classes=NUM_CLASS, dtype='float64')  # Lakukan one-hot encoding pada label (y)"
      ]
    },
    {
      "cell_type": "code",
      "execution_count": 22,
      "id": "EeSa6GgPIiBn",
      "metadata": {
        "colab": {
          "base_uri": "https://localhost:8080/"
        },
        "id": "EeSa6GgPIiBn",
        "outputId": "8f5ed9ba-ba46-4a74-f27b-0c0e1c7a8f96"
      },
      "outputs": [
        {
          "data": {
            "text/plain": [
              "array([[0., 0., 0., 1., 0., 0.],\n",
              "       [1., 0., 0., 0., 0., 0.],\n",
              "       [1., 0., 0., 0., 0., 0.],\n",
              "       ...,\n",
              "       [0., 0., 0., 0., 0., 1.],\n",
              "       [0., 0., 0., 1., 0., 0.],\n",
              "       [1., 0., 0., 0., 0., 0.]])"
            ]
          },
          "execution_count": 22,
          "metadata": {},
          "output_type": "execute_result"
        }
      ],
      "source": [
        "y"
      ]
    },
    {
      "cell_type": "code",
      "execution_count": 23,
      "id": "253e89b8-d884-453a-a7b5-0bf54f91e2df",
      "metadata": {
        "colab": {
          "base_uri": "https://localhost:8080/"
        },
        "id": "253e89b8-d884-453a-a7b5-0bf54f91e2df",
        "outputId": "2f8e7e58-0d15-4251-992e-706f351c2a8d"
      },
      "outputs": [
        {
          "data": {
            "text/plain": [
              "((1794,), (449,), (1794, 6), (449, 6))"
            ]
          },
          "execution_count": 23,
          "metadata": {},
          "output_type": "execute_result"
        }
      ],
      "source": [
        "X_train, X_test, y_train, y_test = train_test_split(X, y, test_size=0.20, stratify=y, random_state=SEED)\n",
        "X_train.shape, X_test.shape, y_train.shape, y_test.shape"
      ]
    },
    {
      "cell_type": "markdown",
      "id": "ab09f872-84db-4dc6-b713-4644c7103ac3",
      "metadata": {
        "id": "ab09f872-84db-4dc6-b713-4644c7103ac3"
      },
      "source": [
        "# 06 Preparing Data for BERT Input"
      ]
    },
    {
      "cell_type": "markdown",
      "id": "yBDB97_M5QZ7",
      "metadata": {
        "id": "yBDB97_M5QZ7"
      },
      "source": [
        "## Load Pre Trained BERT Tokenizer"
      ]
    },
    {
      "cell_type": "code",
      "execution_count": 24,
      "id": "e128a851-f419-4ecd-b3ab-4673dfbde62e",
      "metadata": {
        "colab": {
          "base_uri": "https://localhost:8080/",
          "height": 113,
          "referenced_widgets": [
            "7740608cdffd47adbd72fbe9f9d44dbe",
            "42fd663ba4774d3abffb6c5509ceb8b6",
            "2110ac591df941d483ec1fa0344aff76",
            "2e0fd7ed47da47889ad0ef6db820ccd6",
            "c2abdf6492a2476ebf01587f04406119",
            "68f540f42e0d4d9a9118b07851de6160",
            "8570df36e48d416e8be8f9481068d61c",
            "27ec778f31d746358327ad0db20b8ff8",
            "ef8fe5e319d24e8bafa5b1a16cd33171",
            "0822c0d3c8304366beb79751e1a4f6c6",
            "c5e8bdfe8da74f998ad972f3c670a041",
            "04557e0430bd49e185073a95dd40a490",
            "e10586aa47c4414ea9041c3ee7c6f313",
            "f72f9e327e374f8b89279d9f54a329f7",
            "293126fb5d19462abc37949f072d4261",
            "cfc43c01f3f44b5bbb3bb09787b8765e",
            "e7d82c513c164dd9a37592c98c0a82ab",
            "d19dc0ef732c4af186c6ec65b93c4493",
            "07d3838ce530495989569a2e743a49e7",
            "d601bc8a70564fdf82510461707cef03",
            "c071383423764182a41fa8eb7161c4fc",
            "34c5045645924194b5fe9d8f92573e74",
            "f6a3e2730fe54611bf903f70aa52e9b3",
            "5c98272e2bbc46cf9787da698194fdb9",
            "9dca557a9e9e49aba0affbf8d5f1867d",
            "8c35a82f37314e8bba896c2feb1e2332",
            "6825a41cd338481187a237c9fb3f9faa",
            "c3cafe80f0864ff6ba0bc5b737ebe1c1",
            "4a4bb8cadf394a7fb08b1d7440dee80f",
            "30d4b08600d14dbdbe47e95646941d6f",
            "639f039d74c34710b7a4bea2e6965071",
            "9695b8a64aba4d36b156ec64ac866d12",
            "5521e8229f354dbea578a4611ef5002f"
          ]
        },
        "id": "e128a851-f419-4ecd-b3ab-4673dfbde62e",
        "outputId": "3ae34ff5-2461-49d9-9489-a6385df45a01"
      },
      "outputs": [
        {
          "data": {
            "application/vnd.jupyter.widget-view+json": {
              "model_id": "7740608cdffd47adbd72fbe9f9d44dbe",
              "version_major": 2,
              "version_minor": 0
            },
            "text/plain": [
              "Downloading:   0%|          | 0.00/219k [00:00<?, ?B/s]"
            ]
          },
          "metadata": {},
          "output_type": "display_data"
        },
        {
          "data": {
            "application/vnd.jupyter.widget-view+json": {
              "model_id": "04557e0430bd49e185073a95dd40a490",
              "version_major": 2,
              "version_minor": 0
            },
            "text/plain": [
              "Downloading:   0%|          | 0.00/112 [00:00<?, ?B/s]"
            ]
          },
          "metadata": {},
          "output_type": "display_data"
        },
        {
          "data": {
            "application/vnd.jupyter.widget-view+json": {
              "model_id": "f6a3e2730fe54611bf903f70aa52e9b3",
              "version_major": 2,
              "version_minor": 0
            },
            "text/plain": [
              "Downloading:   0%|          | 0.00/275 [00:00<?, ?B/s]"
            ]
          },
          "metadata": {},
          "output_type": "display_data"
        }
      ],
      "source": [
        "bert_tokenizer = BertTokenizer.from_pretrained(PRE_TRAINED_MODEL)  # Load tokenizer dari pre-trained model"
      ]
    },
    {
      "cell_type": "code",
      "execution_count": null,
      "id": "f2dc357a-b8ea-469a-9868-3efb9a1b5bde",
      "metadata": {
        "colab": {
          "base_uri": "https://localhost:8080/"
        },
        "id": "f2dc357a-b8ea-469a-9868-3efb9a1b5bde",
        "outputId": "b512a003-17f1-4512-e78d-4584fdcab7b3"
      },
      "outputs": [],
      "source": [
        "# Lihat vocabulary dari pre-trained model yang telah di load sebelumnya\n",
        "vocabulary = bert_tokenizer.get_vocab()\n",
        "\n",
        "print(vocabulary)\n",
        "print('Panjang vocabulary:', len(vocabulary))"
      ]
    },
    {
      "cell_type": "markdown",
      "id": "9799bcf3-d621-4a98-af9b-96f6b171fe71",
      "metadata": {
        "id": "9799bcf3-d621-4a98-af9b-96f6b171fe71"
      },
      "source": [
        "## BERT Input Formatting"
      ]
    },
    {
      "cell_type": "code",
      "execution_count": 26,
      "id": "105baf4e-02f5-45fe-a7fb-895da9200ca2",
      "metadata": {
        "colab": {
          "base_uri": "https://localhost:8080/"
        },
        "id": "105baf4e-02f5-45fe-a7fb-895da9200ca2",
        "outputId": "06b15798-74c8-4a77-b0d2-c1cf5c658ccf",
        "tags": []
      },
      "outputs": [
        {
          "data": {
            "text/plain": [
              "dict_keys(['input_ids', 'token_type_ids', 'attention_mask'])"
            ]
          },
          "execution_count": 26,
          "metadata": {},
          "output_type": "execute_result"
        }
      ],
      "source": [
        "id_data = 5 # Mengambil sampe data indeks ke-5 pada dataframe\n",
        "\n",
        "# Contoh input formatting untuk BERT. Input formating dapat menggunakan fungsi `encode_plus`\n",
        "bert_input = bert_tokenizer.encode_plus(\n",
        "    df.tweet[id_data],              # Sample kalimat                \n",
        "    add_special_tokens = True,      # Tambahkan token [CLS] pada awal kalimat dan token [SEP] pada akhir kalimat\n",
        "    padding = 'max_length',         # Tambahkan padding ke max_length menggunakan token [PAD] jika kalimat kurang dari max_length\n",
        "    truncation = 'longest_first',   # Truncate jika kalimat lebih dari max_length\n",
        "    max_length = 50,                # Tentukan max_length dari seluruh kalimat\n",
        "    return_attention_mask = True,   # Mengembalikan nilai attention mask\n",
        "    return_token_type_ids =True     # Mengembalikan nilai token type id (segment embedding)\n",
        "    )\n",
        "\n",
        "# Fungsi `encode_plus` mengembalikan 3 nilai: input_ids, token_type_ids, attention_mask\n",
        "bert_input.keys()"
      ]
    },
    {
      "cell_type": "code",
      "execution_count": 27,
      "id": "5a66aa9e-b96e-4523-90c5-877b5a493475",
      "metadata": {
        "colab": {
          "base_uri": "https://localhost:8080/"
        },
        "id": "5a66aa9e-b96e-4523-90c5-877b5a493475",
        "outputId": "52535e95-f1be-44bb-d1eb-067718c20f7c"
      },
      "outputs": [
        {
          "name": "stdout",
          "output_type": "stream",
          "text": [
            "Kalimat\t\t: WKWKWKWK KESAL AKU BACANYA TAPI KOK SENYUM2\n",
            "Tokenizer\t: ['[CLS]', 'w', '##k', '##w', '##k', '##w', '##k', '##w', '##k', 'kesal', 'aku', 'baca', '##nya', 'tapi', 'kok', 'senyum', '[SEP]', '[PAD]', '[PAD]', '[PAD]', '[PAD]', '[PAD]', '[PAD]', '[PAD]', '[PAD]', '[PAD]', '[PAD]', '[PAD]', '[PAD]', '[PAD]', '[PAD]', '[PAD]', '[PAD]', '[PAD]', '[PAD]', '[PAD]', '[PAD]', '[PAD]', '[PAD]', '[PAD]', '[PAD]', '[PAD]', '[PAD]', '[PAD]', '[PAD]', '[PAD]', '[PAD]', '[PAD]', '[PAD]', '[PAD]']\n",
            "Input IDs\t: [2, 91, 1028, 1027, 1028, 1027, 1028, 1027, 1028, 15032, 1925, 4576, 1821, 2825, 10986, 12985, 3, 0, 0, 0, 0, 0, 0, 0, 0, 0, 0, 0, 0, 0, 0, 0, 0, 0, 0, 0, 0, 0, 0, 0, 0, 0, 0, 0, 0, 0, 0, 0, 0, 0]\n",
            "Token Type IDs\t: [0, 0, 0, 0, 0, 0, 0, 0, 0, 0, 0, 0, 0, 0, 0, 0, 0, 0, 0, 0, 0, 0, 0, 0, 0, 0, 0, 0, 0, 0, 0, 0, 0, 0, 0, 0, 0, 0, 0, 0, 0, 0, 0, 0, 0, 0, 0, 0, 0, 0]\n",
            "Attention Mask\t: [1, 1, 1, 1, 1, 1, 1, 1, 1, 1, 1, 1, 1, 1, 1, 1, 1, 0, 0, 0, 0, 0, 0, 0, 0, 0, 0, 0, 0, 0, 0, 0, 0, 0, 0, 0, 0, 0, 0, 0, 0, 0, 0, 0, 0, 0, 0, 0, 0, 0]\n"
          ]
        }
      ],
      "source": [
        "print('Kalimat\\t\\t:', df_raw.tweet[id_data])                                            # Data asli\n",
        "print('Tokenizer\\t:', bert_tokenizer.convert_ids_to_tokens(bert_input['input_ids']))    # Hasil input formatting + tokenizer\n",
        "print('Input IDs\\t:', bert_input['input_ids'])                                          # Input IDs : indeks token pada vocabulary tokenizer\n",
        "print('Token Type IDs\\t:', bert_input['token_type_ids'])                                # Token type IDs : menunjukkan urutan kalimat pada sequence (segment embedding)\n",
        "print('Attention Mask\\t:', bert_input['attention_mask'])                                # Attention mask : mengembalikan nilai [0,1]. 1 artinya token yang di masking, 0 token yang tidak di masking (diabaikan)"
      ]
    },
    {
      "cell_type": "code",
      "execution_count": 28,
      "id": "E3bKnVvWi0y2",
      "metadata": {
        "id": "E3bKnVvWi0y2"
      },
      "outputs": [],
      "source": [
        "# Buat fungsi untuk melakukan encode pada semua data\n",
        "def tokenize(data):\n",
        "    input_ids = []\n",
        "    attention_masks = []\n",
        "    \n",
        "    for i, text in tqdm(enumerate(data)):\n",
        "        tokens = bert_tokenizer.encode_plus(\n",
        "            text, \n",
        "            max_length=MAX_SEQ_LENGTH,\n",
        "            truncation='longest_first',\n",
        "            padding='max_length',\n",
        "            add_special_tokens=True, \n",
        "            return_attention_mask=True,\n",
        "            return_token_type_ids=False, \n",
        "            return_tensors='tf'\n",
        "          )   \n",
        "         \n",
        "        input_ids.append(np.asarray(tokens['input_ids']).reshape(MAX_SEQ_LENGTH,))\n",
        "        attention_masks.append(np.asarray(tokens['attention_mask']).reshape(MAX_SEQ_LENGTH,))\n",
        "\n",
        "    return (np.asarray(input_ids), np.asarray(attention_masks))"
      ]
    },
    {
      "cell_type": "code",
      "execution_count": 29,
      "id": "lVd3CfmUjtaB",
      "metadata": {
        "colab": {
          "base_uri": "https://localhost:8080/"
        },
        "id": "lVd3CfmUjtaB",
        "outputId": "2e52ce45-d553-4f09-be6e-4023710f3006"
      },
      "outputs": [
        {
          "name": "stderr",
          "output_type": "stream",
          "text": [
            "1794it [00:01, 1273.92it/s]\n",
            "449it [00:00, 1326.51it/s]\n"
          ]
        }
      ],
      "source": [
        "train_input_ids, train_attention_masks = tokenize(X_train)\n",
        "test_input_ids, test_attention_masks = tokenize(X_test)"
      ]
    },
    {
      "cell_type": "code",
      "execution_count": 30,
      "id": "hMVnCtiuksmR",
      "metadata": {
        "colab": {
          "base_uri": "https://localhost:8080/"
        },
        "id": "hMVnCtiuksmR",
        "outputId": "344c5e31-dd9b-4910-cbcd-0b116620f07b"
      },
      "outputs": [
        {
          "data": {
            "text/plain": [
              "((1794, 80), (1794, 80), (449, 80), (449, 80))"
            ]
          },
          "execution_count": 30,
          "metadata": {},
          "output_type": "execute_result"
        }
      ],
      "source": [
        "train_input_ids.shape, train_attention_masks.shape, test_input_ids.shape, test_attention_masks.shape"
      ]
    },
    {
      "cell_type": "markdown",
      "id": "n2Wy6AXdmA8p",
      "metadata": {
        "id": "n2Wy6AXdmA8p"
      },
      "source": [
        "# 07 Define Model (BERT)"
      ]
    },
    {
      "cell_type": "markdown",
      "id": "rT2w8uq4mZqq",
      "metadata": {
        "id": "rT2w8uq4mZqq"
      },
      "source": [
        "## Load Pre-Trained BERT Model"
      ]
    },
    {
      "cell_type": "code",
      "execution_count": 32,
      "id": "DnBidYYUAg6A",
      "metadata": {
        "colab": {
          "base_uri": "https://localhost:8080/",
          "height": 347,
          "referenced_widgets": [
            "0d4476adbc29428dba3f9edd4fe39cdb",
            "3639da1586704e83b5ba9e775f9ada07",
            "b3ec46b1dc544c43878dae152ecd3bda",
            "2395420f8a4b426c988dd0318dd6f2f6",
            "0e0dad18fc534b648fec561393945209",
            "bc95eefe660a4a33a73b8471a472825f",
            "f4fbc7fa8d6e4d1489971a3cb0791195",
            "a169394562364e3390775a14edb68645",
            "f6718eb6c0124391bd47deaa32bff540",
            "0c8e0661bd9b4783a1ce5f3004c88d00",
            "51f8156cc01544b4a0470862a1edf1c6"
          ]
        },
        "id": "DnBidYYUAg6A",
        "outputId": "1c26f106-6891-451b-ef7c-ad6da04ac602"
      },
      "outputs": [
        {
          "data": {
            "application/vnd.jupyter.widget-view+json": {
              "model_id": "0d4476adbc29428dba3f9edd4fe39cdb",
              "version_major": 2,
              "version_minor": 0
            },
            "text/plain": [
              "Downloading:   0%|          | 0.00/422M [00:00<?, ?B/s]"
            ]
          },
          "metadata": {},
          "output_type": "display_data"
        },
        {
          "name": "stderr",
          "output_type": "stream",
          "text": [
            "Some weights of the PyTorch model were not used when initializing the TF 2.0 model TFBertModel: ['cls.predictions.bias', 'bert.embeddings.position_ids', 'cls.predictions.transform.LayerNorm.bias', 'cls.predictions.transform.LayerNorm.weight', 'cls.predictions.decoder.bias', 'cls.predictions.transform.dense.weight', 'cls.predictions.transform.dense.bias', 'cls.predictions.decoder.weight']\n",
            "- This IS expected if you are initializing TFBertModel from a PyTorch model trained on another task or with another architecture (e.g. initializing a TFBertForSequenceClassification model from a BertForPreTraining model).\n",
            "- This IS NOT expected if you are initializing TFBertModel from a PyTorch model that you expect to be exactly identical (e.g. initializing a TFBertForSequenceClassification model from a BertForSequenceClassification model).\n",
            "Some weights or buffers of the TF 2.0 model TFBertModel were not initialized from the PyTorch model and are newly initialized: ['bert.pooler.dense.weight', 'bert.pooler.dense.bias']\n",
            "You should probably TRAIN this model on a down-stream task to be able to use it for predictions and inference.\n"
          ]
        },
        {
          "name": "stdout",
          "output_type": "stream",
          "text": [
            "Model: \"tf_bert_model\"\n",
            "_________________________________________________________________\n",
            " Layer (type)                Output Shape              Param #   \n",
            "=================================================================\n",
            " bert (TFBertMainLayer)      multiple                  110617344 \n",
            "                                                                 \n",
            "=================================================================\n",
            "Total params: 110,617,344\n",
            "Trainable params: 110,617,344\n",
            "Non-trainable params: 0\n",
            "_________________________________________________________________\n"
          ]
        }
      ],
      "source": [
        "bert_config = BertConfig.from_pretrained(PRE_TRAINED_MODEL, output_hidden_states=True, num_labels=NUM_CLASS)\n",
        "bert = TFBertModel.from_pretrained(PRE_TRAINED_MODEL, config=bert_config, from_pt=True)\n",
        "bert.summary()"
      ]
    },
    {
      "cell_type": "markdown",
      "id": "WkPNcJYGmdWh",
      "metadata": {
        "id": "WkPNcJYGmdWh"
      },
      "source": [
        "## Architecture"
      ]
    },
    {
      "cell_type": "code",
      "execution_count": 33,
      "id": "jJSI_MWxA3eW",
      "metadata": {
        "id": "jJSI_MWxA3eW"
      },
      "outputs": [],
      "source": [
        "tf.keras.backend.clear_session()\n",
        "\n",
        "# Defining 2 input layers for input_ids and attn_masks\n",
        "input_ids = tf.keras.layers.Input(shape=(MAX_SEQ_LENGTH,), name='input_ids', dtype='int32')\n",
        "attn_mask = tf.keras.layers.Input(shape=(MAX_SEQ_LENGTH,), name='attention_mask', dtype='int32')\n",
        "\n",
        "# We access the transformer model within our bert object using the bert attribute (eg bert.bert instead of bert)\n",
        "# Access final activations (alread max-pooled) [1] 0 -> activation layer (3D), 1 -> pooled output layer (2D)\n",
        "bert_embedding = bert(input_ids, attention_mask=attn_mask)[1]  \n",
        "\n",
        "x = tf.keras.layers.Dense(512, activation='relu')(bert_embedding)\n",
        "x = tf.keras.layers.Dropout(0.5)(x)\n",
        "output_layer = tf.keras.layers.Dense(NUM_CLASS, activation='softmax', name='output_layer')(x)\n",
        "\n",
        "# Initialize model\n",
        "model = tf.keras.Model(inputs=[input_ids, attn_mask], outputs=output_layer)\n",
        "\n",
        "# Trainable=False to freeze bert layer for feature extraction (optional)\n",
        "model.layers[2].trainable = True"
      ]
    },
    {
      "cell_type": "code",
      "execution_count": 34,
      "id": "OCBOPaPTBICA",
      "metadata": {
        "colab": {
          "base_uri": "https://localhost:8080/"
        },
        "id": "OCBOPaPTBICA",
        "outputId": "5f77149f-5185-492f-9086-f6e2028ee4df"
      },
      "outputs": [
        {
          "name": "stdout",
          "output_type": "stream",
          "text": [
            "Model: \"model\"\n",
            "__________________________________________________________________________________________________\n",
            " Layer (type)                   Output Shape         Param #     Connected to                     \n",
            "==================================================================================================\n",
            " input_ids (InputLayer)         [(None, 80)]         0           []                               \n",
            "                                                                                                  \n",
            " attention_mask (InputLayer)    [(None, 80)]         0           []                               \n",
            "                                                                                                  \n",
            " tf_bert_model (TFBertModel)    TFBaseModelOutputWi  110617344   ['input_ids[0][0]',              \n",
            "                                thPoolingAndCrossAt               'attention_mask[0][0]']         \n",
            "                                tentions(last_hidde                                               \n",
            "                                n_state=(None, 80,                                                \n",
            "                                768),                                                             \n",
            "                                 pooler_output=(Non                                               \n",
            "                                e, 768),                                                          \n",
            "                                 past_key_values=No                                               \n",
            "                                ne, hidden_states=(                                               \n",
            "                                (None, 80, 768),                                                  \n",
            "                                 (None, 80, 768),                                                 \n",
            "                                 (None, 80, 768),                                                 \n",
            "                                 (None, 80, 768),                                                 \n",
            "                                 (None, 80, 768),                                                 \n",
            "                                 (None, 80, 768),                                                 \n",
            "                                 (None, 80, 768),                                                 \n",
            "                                 (None, 80, 768),                                                 \n",
            "                                 (None, 80, 768),                                                 \n",
            "                                 (None, 80, 768),                                                 \n",
            "                                 (None, 80, 768),                                                 \n",
            "                                 (None, 80, 768),                                                 \n",
            "                                 (None, 80, 768)),                                                \n",
            "                                 attentions=None, c                                               \n",
            "                                ross_attentions=Non                                               \n",
            "                                e)                                                                \n",
            "                                                                                                  \n",
            " dense (Dense)                  (None, 512)          393728      ['tf_bert_model[0][14]']         \n",
            "                                                                                                  \n",
            " dropout (Dropout)              (None, 512)          0           ['dense[0][0]']                  \n",
            "                                                                                                  \n",
            " output_layer (Dense)           (None, 6)            3078        ['dropout[0][0]']                \n",
            "                                                                                                  \n",
            "==================================================================================================\n",
            "Total params: 111,014,150\n",
            "Trainable params: 111,014,150\n",
            "Non-trainable params: 0\n",
            "__________________________________________________________________________________________________\n"
          ]
        }
      ],
      "source": [
        "model.summary()"
      ]
    },
    {
      "cell_type": "code",
      "execution_count": 35,
      "id": "2dZfl_4xBSgl",
      "metadata": {
        "colab": {
          "base_uri": "https://localhost:8080/",
          "height": 229
        },
        "id": "2dZfl_4xBSgl",
        "outputId": "0df8e739-01b0-45b8-edc8-aa489c9fc2c7"
      },
      "outputs": [
        {
          "data": {
            "image/png": "[encoded data removed]",
            "text/plain": [
              "<IPython.core.display.Image object>"
            ]
          },
          "execution_count": 35,
          "metadata": {},
          "output_type": "execute_result"
        }
      ],
      "source": [
        "plot_model(model, show_shapes=True, show_layer_activations=True, show_dtype=False, dpi=90, to_file=f'{FOLDER_PATH}/model-plot/{MODEL}-model.png')"
      ]
    },
    {
      "cell_type": "markdown",
      "id": "l1GB60YFmrYr",
      "metadata": {
        "id": "l1GB60YFmrYr"
      },
      "source": [
        "## Compile"
      ]
    },
    {
      "cell_type": "code",
      "execution_count": 36,
      "id": "snXwbgV1NRn0",
      "metadata": {
        "id": "snXwbgV1NRn0"
      },
      "outputs": [],
      "source": [
        "# https://www.tensorflow.org/api_docs/python/tf/keras/metrics\n",
        "\n",
        "METRICS = [\n",
        "           tf.keras.metrics.CategoricalAccuracy(name='accuracy'),\n",
        "           tf.keras.metrics.Precision(name='precision'),\n",
        "           tf.keras.metrics.Recall(name='recall'),\n",
        "]\n",
        "\n",
        "LEARNING_RATE = 2e-5 # Recommended learning rate (AdamW): [5e-5, 3e-5, 2e-5] in orginal paper"
      ]
    },
    {
      "cell_type": "code",
      "execution_count": 37,
      "id": "6IQtndlVNU4j",
      "metadata": {
        "id": "6IQtndlVNU4j"
      },
      "outputs": [],
      "source": [
        "OPTIMIZER = AdamW(learning_rate=LEARNING_RATE, beta_1=0.8, beta_2=0.9, weight_decay=0.0001)\n",
        "LOSS_FUNCTION = CategoricalCrossentropy(name='categorical_crossentropy')\n",
        "\n",
        "model.compile(loss=LOSS_FUNCTION, optimizer=OPTIMIZER, metrics=METRICS)"
      ]
    },
    {
      "cell_type": "markdown",
      "id": "fN2EQ51pGGY1",
      "metadata": {
        "id": "fN2EQ51pGGY1"
      },
      "source": [
        "# 08 Early Stopping & Model Checkpoint"
      ]
    },
    {
      "cell_type": "code",
      "execution_count": 38,
      "id": "8zSNXUoRGT8z",
      "metadata": {
        "id": "8zSNXUoRGT8z"
      },
      "outputs": [],
      "source": [
        "# Early stopping criteria\n",
        "early_stopping = EarlyStopping(monitor='val_loss', mode='auto', verbose=1, patience=5)\n",
        "\n",
        "# Path to model checkpoint\n",
        "checkpoint_dir = f'{FOLDER_PATH}/model-checkpoint/{MODEL}/cp.ckpt'\n",
        "model_checkpoint = ModelCheckpoint(checkpoint_dir, monitor='val_accuracy', save_weights_only=True, verbose=1, save_freq='epoch', save_best_only=True)"
      ]
    },
    {
      "cell_type": "code",
      "execution_count": 39,
      "id": "aOAo9dieGYak",
      "metadata": {
        "colab": {
          "base_uri": "https://localhost:8080/"
        },
        "id": "aOAo9dieGYak",
        "outputId": "23ff7024-2328-4d45-e3f4-8f7d44e8d8d8"
      },
      "outputs": [
        {
          "name": "stdout",
          "output_type": "stream",
          "text": [
            "model-baseline-bert/model-log/malay-huggingface-bert-base-bahasa-cased/20220715-184245\n"
          ]
        }
      ],
      "source": [
        "# Path to model log\n",
        "log_dir = f'{FOLDER_PATH}/model-log/{MODEL}/' + datetime.datetime.now().strftime('%Y%m%d-%H%M%S')\n",
        "print(log_dir)"
      ]
    },
    {
      "cell_type": "markdown",
      "id": "MqkhywHwHmob",
      "metadata": {
        "id": "MqkhywHwHmob"
      },
      "source": [
        "Tensorflow Callback"
      ]
    },
    {
      "cell_type": "code",
      "execution_count": 40,
      "id": "jQiRzldvGZzt",
      "metadata": {
        "id": "jQiRzldvGZzt"
      },
      "outputs": [],
      "source": [
        "tensorboard_callback = TensorBoard(log_dir=log_dir ,update_freq='epoch', histogram_freq=1, embeddings_freq=1)"
      ]
    },
    {
      "cell_type": "markdown",
      "id": "kO_3G0C-nSi4",
      "metadata": {
        "id": "kO_3G0C-nSi4"
      },
      "source": [
        "# 09 Training (Fine-Tuning)"
      ]
    },
    {
      "cell_type": "code",
      "execution_count": 41,
      "id": "tJ87c7OuntP3",
      "metadata": {
        "id": "tJ87c7OuntP3"
      },
      "outputs": [],
      "source": [
        "EPOCHS = 4        # Recommended number of epochs: [2, 3, 4] in orginal paper\n",
        "BATCH_SIZE = 32   # Recommended batch size: [16, 32] in orginal paper\n",
        "\n",
        "# Config for wandb\n",
        "config = {\n",
        "    'type': 'baseline',\n",
        "    'model_architecture': 'BERT',\n",
        "    'dataset': 'indo-tweet-emotion',\n",
        "    'learning_rate': LEARNING_RATE,\n",
        "    'batch_size': BATCH_SIZE,\n",
        "    'epochs': EPOCHS,\n",
        "    'loss_function': LOSS_FUNCTION.name,\n",
        "    'optimizer': OPTIMIZER._name\n",
        "}"
      ]
    },
    {
      "cell_type": "code",
      "execution_count": 42,
      "id": "cWka8B-5BSu-",
      "metadata": {
        "colab": {
          "base_uri": "https://localhost:8080/",
          "height": 755,
          "referenced_widgets": [
            "2ade9db286614115a817e2dfe4879520",
            "f2cd6ba6995b49f88e3e8f5294510ec9",
            "e57741be85f84bbdadb41452f61cd083",
            "66371b8c9f5b43d5b4e6f4e79dac7ea8",
            "f095c1c59ccc4b05a82c639ae1f7c1ce",
            "ea5b2a05a0fa447b9a50b419942b7e76",
            "6f1efbecc17845869c00492ca9541687",
            "87e50e1388e243ceb7f0b3046bc80895"
          ]
        },
        "id": "cWka8B-5BSu-",
        "outputId": "8a7e46f3-324b-44a3-bf60-a381cd7b6eb3"
      },
      "outputs": [
        {
          "name": "stderr",
          "output_type": "stream",
          "text": [
            "\u001b[34m\u001b[1mwandb\u001b[0m: Currently logged in as: \u001b[33mindoemobert\u001b[0m. Use \u001b[1m`wandb login --relogin`\u001b[0m to force relogin\n"
          ]
        },
        {
          "data": {
            "text/html": [
              "Tracking run with wandb version 0.12.21"
            ],
            "text/plain": [
              "<IPython.core.display.HTML object>"
            ]
          },
          "metadata": {},
          "output_type": "display_data"
        },
        {
          "data": {
            "text/html": [
              "Run data is saved locally in <code>/content/drive/MyDrive/Code/tesis/wandb/run-20220715_184245-1d302xg7</code>"
            ],
            "text/plain": [
              "<IPython.core.display.HTML object>"
            ]
          },
          "metadata": {},
          "output_type": "display_data"
        },
        {
          "data": {
            "text/html": [
              "Syncing run <strong><a href=\"https://wandb.ai/indoemobert/baseline-bert/runs/1d302xg7\" target=\"_blank\">malay-huggingface-bert-base-bahasa-cased</a></strong> to <a href=\"https://wandb.ai/indoemobert/baseline-bert\" target=\"_blank\">Weights & Biases</a> (<a href=\"https://wandb.me/run\" target=\"_blank\">docs</a>)<br/>"
            ],
            "text/plain": [
              "<IPython.core.display.HTML object>"
            ]
          },
          "metadata": {},
          "output_type": "display_data"
        },
        {
          "name": "stdout",
          "output_type": "stream",
          "text": [
            "WARNING:tensorflow:From /usr/local/lib/python3.7/dist-packages/tensorflow/python/profiler/internal/flops_registry.py:239: tensor_shape_from_node_def_name (from tensorflow.python.framework.graph_util_impl) is deprecated and will be removed in a future version.\n",
            "Instructions for updating:\n",
            "Use `tf.compat.v1.graph_util.tensor_shape_from_node_def_name`\n",
            "Epoch 1/4\n",
            "57/57 [==============================] - 114s 2s/step - loss: 1.6510 - accuracy: 0.3278 - precision: 0.7442 - recall: 0.0535 - val_loss: 0.9495 - val_accuracy: 0.7261 - val_precision: 0.8935 - val_recall: 0.4298 - _timestamp: 1657910697.0000 - _runtime: 131.0000\n",
            "Epoch 2/4\n",
            "57/57 [==============================] - 76s 1s/step - loss: 0.7502 - accuracy: 0.7726 - precision: 0.8496 - recall: 0.6611 - val_loss: 0.5182 - val_accuracy: 0.8374 - val_precision: 0.8605 - val_recall: 0.8107 - _timestamp: 1657910772.0000 - _runtime: 206.0000\n",
            "Epoch 3/4\n",
            "57/57 [==============================] - 75s 1s/step - loss: 0.5174 - accuracy: 0.8489 - precision: 0.8710 - recall: 0.8166 - val_loss: 0.5564 - val_accuracy: 0.8174 - val_precision: 0.8392 - val_recall: 0.8018 - _timestamp: 1657910847.0000 - _runtime: 281.0000\n",
            "Epoch 4/4\n",
            "57/57 [==============================] - 76s 1s/step - loss: 0.4070 - accuracy: 0.8724 - precision: 0.8896 - recall: 0.8534 - val_loss: 0.6265 - val_accuracy: 0.8129 - val_precision: 0.8245 - val_recall: 0.7951 - _timestamp: 1657910923.0000 - _runtime: 357.0000\n"
          ]
        },
        {
          "data": {
            "text/html": [
              "Waiting for W&B process to finish... <strong style=\"color:green\">(success).</strong>"
            ],
            "text/plain": [
              "<IPython.core.display.HTML object>"
            ]
          },
          "metadata": {},
          "output_type": "display_data"
        },
        {
          "data": {
            "application/vnd.jupyter.widget-view+json": {
              "model_id": "2ade9db286614115a817e2dfe4879520",
              "version_major": 2,
              "version_minor": 0
            },
            "text/plain": [
              "VBox(children=(Label(value='0.002 MB of 0.002 MB uploaded (0.000 MB deduped)\\r'), FloatProgress(value=1.0, max…"
            ]
          },
          "metadata": {},
          "output_type": "display_data"
        },
        {
          "data": {
            "text/html": [
              "<style>\n",
              "    table.wandb td:nth-child(1) { padding: 0 10px; text-align: left ; width: auto;} td:nth-child(2) {text-align: left ; width: 100%}\n",
              "    .wandb-row { display: flex; flex-direction: row; flex-wrap: wrap; justify-content: flex-start; width: 100% }\n",
              "    .wandb-col { display: flex; flex-direction: column; flex-basis: 100%; flex: 1; padding: 10px; }\n",
              "    </style>\n",
              "<div class=\"wandb-row\"><div class=\"wandb-col\"><h3>Run history:</h3><br/><table class=\"wandb\"><tr><td>accuracy</td><td>▁▇██</td></tr><tr><td>epoch</td><td>▁▃▆█</td></tr><tr><td>loss</td><td>█▃▂▁</td></tr><tr><td>precision</td><td>▁▆▇█</td></tr><tr><td>recall</td><td>▁▆██</td></tr><tr><td>val_accuracy</td><td>▁█▇▆</td></tr><tr><td>val_loss</td><td>█▁▂▃</td></tr><tr><td>val_precision</td><td>█▅▂▁</td></tr><tr><td>val_recall</td><td>▁███</td></tr></table><br/></div><div class=\"wandb-col\"><h3>Run summary:</h3><br/><table class=\"wandb\"><tr><td>GFLOPS</td><td>6.93038</td></tr><tr><td>accuracy</td><td>0.87235</td></tr><tr><td>best_epoch</td><td>1</td></tr><tr><td>best_val_loss</td><td>0.51818</td></tr><tr><td>epoch</td><td>3</td></tr><tr><td>loss</td><td>0.40698</td></tr><tr><td>precision</td><td>0.8896</td></tr><tr><td>recall</td><td>0.8534</td></tr><tr><td>val_accuracy</td><td>0.81292</td></tr><tr><td>val_loss</td><td>0.62648</td></tr><tr><td>val_precision</td><td>0.82448</td></tr><tr><td>val_recall</td><td>0.7951</td></tr></table><br/></div></div>"
            ],
            "text/plain": [
              "<IPython.core.display.HTML object>"
            ]
          },
          "metadata": {},
          "output_type": "display_data"
        },
        {
          "data": {
            "text/html": [
              "Synced <strong style=\"color:#cdcd00\">malay-huggingface-bert-base-bahasa-cased</strong>: <a href=\"https://wandb.ai/indoemobert/baseline-bert/runs/1d302xg7\" target=\"_blank\">https://wandb.ai/indoemobert/baseline-bert/runs/1d302xg7</a><br/>Synced 5 W&B file(s), 1 media file(s), 0 artifact file(s) and 0 other file(s)"
            ],
            "text/plain": [
              "<IPython.core.display.HTML object>"
            ]
          },
          "metadata": {},
          "output_type": "display_data"
        },
        {
          "data": {
            "text/html": [
              "Find logs at: <code>./wandb/run-20220715_184245-1d302xg7/logs</code>"
            ],
            "text/plain": [
              "<IPython.core.display.HTML object>"
            ]
          },
          "metadata": {},
          "output_type": "display_data"
        },
        {
          "name": "stdout",
          "output_type": "stream",
          "text": [
            "CPU times: user 5min, sys: 21.9 s, total: 5min 22s\n",
            "Wall time: 7min\n"
          ]
        }
      ],
      "source": [
        "%%time\n",
        "\n",
        "# Initialize wandb \n",
        "wandb.tensorboard.patch(root_logdir=log_dir)\n",
        "wandb_run = wandb.init(project='baseline-bert', name=f'{MODEL}', entity='indoemobert', config=config, sync_tensorboard=True)\n",
        "\n",
        "# Training\n",
        "model_history = model.fit(\n",
        "    (train_input_ids, train_attention_masks),\n",
        "    y_train,\n",
        "    validation_data=((test_input_ids, test_attention_masks), y_test),\n",
        "    epochs=EPOCHS,\n",
        "    batch_size=BATCH_SIZE,\n",
        "    verbose=1,\n",
        "    steps_per_epoch=int(np.ceil(X_train.shape[0] / BATCH_SIZE)),\n",
        "    callbacks=[\n",
        "      # early_stopping, \n",
        "      # model_checkpoint,\n",
        "      # tensorboard_callback,\n",
        "      WandbCallback(\n",
        "          input_type='text',\n",
        "          training_data=((train_input_ids, train_attention_masks), y_train),\n",
        "          validation_data=((test_input_ids, test_attention_masks), y_test),\n",
        "          labels=LABEL_NAME,\n",
        "          monitor='val_loss',\n",
        "          log_best_prefix='best_',\n",
        "          log_gradients=True,\n",
        "          log_weights=True,\n",
        "          save_weights_only=True,\n",
        "          save_model=False\n",
        "      )]\n",
        ")\n",
        "\n",
        "wandb_run.finish()"
      ]
    },
    {
      "cell_type": "code",
      "execution_count": 43,
      "id": "RU7eHqEXBSxQ",
      "metadata": {
        "id": "RU7eHqEXBSxQ"
      },
      "outputs": [],
      "source": [
        "def plot_metrics(history):\n",
        "  metrics = ['loss', 'accuracy', 'precision', 'recall']\n",
        "  plt.figure(figsize=(12, 10))\n",
        "  for n, metric in enumerate(metrics):\n",
        "    name = metric.replace('_',' ').capitalize()\n",
        "    plt.subplot(2,2,n+1)\n",
        "    plt.plot(history.epoch, history.history[metric], color=colors[0], label='Train')\n",
        "    plt.plot(history.epoch, history.history['val_'+metric], color=colors[0], linestyle='--', label='Validation')\n",
        "    plt.xlabel('Epoch')\n",
        "    plt.ylabel(name)\n",
        "\n",
        "    if metric == 'loss':\n",
        "      plt.ylim([0, plt.ylim()[1]])\n",
        "    else:\n",
        "      plt.ylim([0,1])\n",
        "\n",
        "    plt.legend(loc='lower right');"
      ]
    },
    {
      "cell_type": "code",
      "execution_count": 44,
      "id": "1QGGUhg2OqL8",
      "metadata": {
        "colab": {
          "base_uri": "https://localhost:8080/",
          "height": 610
        },
        "id": "1QGGUhg2OqL8",
        "outputId": "2f87a50c-947b-4580-c69f-2225dcf84e03"
      },
      "outputs": [
        {
          "data": {
            "image/png": "[encoded data removed]",
            "text/plain": [
              "<Figure size 864x720 with 4 Axes>"
            ]
          },
          "metadata": {
            "needs_background": "light"
          },
          "output_type": "display_data"
        }
      ],
      "source": [
        "plot_metrics(model_history)"
      ]
    },
    {
      "cell_type": "code",
      "execution_count": 45,
      "id": "_jE_n990pYZO",
      "metadata": {
        "colab": {
          "base_uri": "https://localhost:8080/"
        },
        "id": "_jE_n990pYZO",
        "outputId": "ec1b5ce7-e715-4d99-b6bc-061856ac3b4c"
      },
      "outputs": [
        {
          "name": "stdout",
          "output_type": "stream",
          "text": [
            "       loss  accuracy  precision    recall  val_loss  val_accuracy  \\\n",
            "0  1.651026  0.327759   0.744186  0.053512  0.949536      0.726058   \n",
            "1  0.750223  0.772575   0.849570  0.661093  0.518181      0.837416   \n",
            "2  0.517372  0.848941   0.870987  0.816611  0.556442      0.817372   \n",
            "3  0.406978  0.872352   0.889599  0.853400  0.626477      0.812918   \n",
            "\n",
            "   val_precision  val_recall  _timestamp  _runtime  \n",
            "0       0.893519    0.429844  1657910697       131  \n",
            "1       0.860520    0.810690  1657910772       206  \n",
            "2       0.839161    0.801782  1657910847       281  \n",
            "3       0.824480    0.795100  1657910923       357  \n"
          ]
        }
      ],
      "source": [
        "hist_df = pd.DataFrame(model_history.history)\n",
        "print(hist_df)\n",
        "\n",
        "hist_df.to_csv(f'{FOLDER_PATH}/model-history/{MODEL}-{TODAY}.csv')"
      ]
    },
    {
      "cell_type": "code",
      "execution_count": 46,
      "id": "kx8hmByG-NV6",
      "metadata": {
        "id": "kx8hmByG-NV6"
      },
      "outputs": [],
      "source": [
        "# save model\n",
        "# model.save(f'{FOLDER_PATH}/model-fit/{MODEL}/{MODEL}.h5')"
      ]
    },
    {
      "cell_type": "markdown",
      "id": "ce4d8e05-fc4a-4e7c-bbff-59c45de7679b",
      "metadata": {
        "id": "ce4d8e05-fc4a-4e7c-bbff-59c45de7679b"
      },
      "source": [
        "# 09 Evaluation"
      ]
    },
    {
      "cell_type": "code",
      "execution_count": 47,
      "id": "-i_zX-ZK5q8r",
      "metadata": {
        "colab": {
          "base_uri": "https://localhost:8080/"
        },
        "id": "-i_zX-ZK5q8r",
        "outputId": "08fd9bc6-5cbb-4e2a-9bff-579dcbfc3d29"
      },
      "outputs": [
        {
          "name": "stdout",
          "output_type": "stream",
          "text": [
            "15/15 [==============================] - 2s 121ms/step - loss: 0.6265 - accuracy: 0.8129 - precision: 0.8245 - recall: 0.7951\n",
            "Accuracy: 81.29%\n"
          ]
        }
      ],
      "source": [
        "y_pred = np.argmax(model.predict((test_input_ids, test_attention_masks)), axis=1)\n",
        "y_true = np.argmax(y_test, axis=1)\n",
        "\n",
        "loss, accuracy, precision, recall = model.evaluate((test_input_ids, test_attention_masks), y_test)\n",
        "print(\"Accuracy: %.2f%%\" % (accuracy*100))"
      ]
    },
    {
      "cell_type": "code",
      "execution_count": 48,
      "id": "7d59d95c-908f-48f0-904a-7cee24eab7c3",
      "metadata": {
        "colab": {
          "base_uri": "https://localhost:8080/",
          "height": 441
        },
        "id": "7d59d95c-908f-48f0-904a-7cee24eab7c3",
        "outputId": "64e11265-e403-4ba8-bec3-2652c85527c5"
      },
      "outputs": [
        {
          "data": {
            "image/png": "[encoded data removed]",
            "text/plain": [
              "<Figure size 576x432 with 2 Axes>"
            ]
          },
          "metadata": {
            "needs_background": "light"
          },
          "output_type": "display_data"
        }
      ],
      "source": [
        "cm = confusion_matrix(y_true, y_pred)\n",
        "\n",
        "plt.figure(figsize=(8, 6))\n",
        "ax = plt.subplot()\n",
        "sns.heatmap(cm, annot=True, fmt='g', ax=ax, cmap='Blues')  # annot=True to annotate cells, ftm='g' to disable scientific notation\n",
        "\n",
        "ax.set_xlabel('Predicted labels')\n",
        "ax.set_ylabel('True labels') \n",
        "ax.set_title('Confusion Matrix')\n",
        "ax.xaxis.set_ticklabels(LABEL_NAME)\n",
        "ax.yaxis.set_ticklabels(LABEL_NAME)\n",
        "plt.tight_layout()"
      ]
    },
    {
      "cell_type": "code",
      "execution_count": 49,
      "id": "TSq65s3o5710",
      "metadata": {
        "colab": {
          "base_uri": "https://localhost:8080/"
        },
        "id": "TSq65s3o5710",
        "outputId": "c7deeffe-11da-4f74-b79c-6376baf37b8f"
      },
      "outputs": [
        {
          "name": "stdout",
          "output_type": "stream",
          "text": [
            "              precision    recall  f1-score   support\n",
            "\n",
            "       anger       0.71      0.82      0.76        82\n",
            "     disgust       0.86      0.94      0.90        65\n",
            "        fear       0.89      0.89      0.89        79\n",
            "         joy       0.85      0.66      0.74       111\n",
            "     sadness       0.72      0.85      0.78        52\n",
            "    surprise       0.88      0.83      0.85        60\n",
            "\n",
            "    accuracy                           0.81       449\n",
            "   macro avg       0.82      0.83      0.82       449\n",
            "weighted avg       0.82      0.81      0.81       449\n",
            "\n"
          ]
        }
      ],
      "source": [
        "print(classification_report(y_pred, y_true, target_names=LABEL_NAME))"
      ]
    },
    {
      "cell_type": "code",
      "execution_count": 50,
      "id": "L5Dq9WNj9a-O",
      "metadata": {
        "id": "L5Dq9WNj9a-O"
      },
      "outputs": [],
      "source": [
        "def plot_roc_curve(y_test, y_pred):\n",
        "  \n",
        "  n_classes = len(np.unique(y_test))\n",
        "  y_test = label_binarize(y_test, classes=np.arange(len(LABEL_NAME)))\n",
        "  y_pred = label_binarize(y_pred, classes=np.arange(len(LABEL_NAME)))\n",
        "\n",
        "  # Compute ROC curve and ROC area for each class\n",
        "  fpr = dict()\n",
        "  tpr = dict()\n",
        "  roc_auc = dict()\n",
        "  for i in range(n_classes):\n",
        "    fpr[i], tpr[i], _ = roc_curve(y_test[:, i], y_pred[:, i])\n",
        "    roc_auc[i] = auc(fpr[i], tpr[i])\n",
        "  \n",
        "  # Compute micro-average ROC curve and ROC area\n",
        "  fpr['micro'], tpr['micro'], _ = roc_curve(y_test.ravel(), y_pred.ravel())\n",
        "  roc_auc['micro'] = auc(fpr['micro'], tpr['micro'])\n",
        "\n",
        "  # First aggregate all false positive rates\n",
        "  all_fpr = np.unique(np.concatenate([fpr[i] for i in range(n_classes)]))\n",
        "\n",
        "  # Then interpolate all ROC curves at this points\n",
        "  mean_tpr = np.zeros_like(all_fpr)\n",
        "  for i in range(n_classes):\n",
        "    mean_tpr += np.interp(all_fpr, fpr[i], tpr[i])\n",
        "\n",
        "  # Finally average it and compute AUC\n",
        "  mean_tpr /= n_classes\n",
        "\n",
        "  fpr['macro'] = all_fpr\n",
        "  tpr['macro'] = mean_tpr\n",
        "  roc_auc['macro'] = auc(fpr['macro'], tpr['macro'])\n",
        "\n",
        "  # Plot all ROC curves\n",
        "  plt.figure(figsize=(10, 7))\n",
        "  lw = 2\n",
        "  plt.plot(fpr['micro'], tpr['micro'],\n",
        "    label='micro-average ROC curve (area = {0:0.2f})'.format(roc_auc['micro']),\n",
        "    color='deeppink', linestyle=':', linewidth=4,)\n",
        "\n",
        "  plt.plot(fpr['macro'], tpr['macro'],\n",
        "    label='macro-average ROC curve (area = {0:0.2f})'.format(roc_auc['macro']),\n",
        "    color='navy', linestyle=':', linewidth=4,)\n",
        "\n",
        "  colors = cycle(['aqua', 'darkorange', 'darkgreen', 'yellow', 'blue', 'red'])\n",
        "  for i, color, label in zip(range(n_classes), colors, LABEL_NAME):\n",
        "    plt.plot(fpr[i], tpr[i], color=color, lw=lw,\n",
        "        label=\"ROC curve of class {0} (area = {1:0.2f})\".format(label, roc_auc[i]))\n",
        "\n",
        "  plt.plot([0, 1], [0, 1], 'k--', lw=lw)\n",
        "  plt.xlim([0.0, 1.0])\n",
        "  plt.ylim([0.0, 1.05])\n",
        "  plt.xlabel('False Positive Rate')\n",
        "  plt.ylabel('True Positive Rate')\n",
        "  plt.title('Receiver Operating Characteristic (ROC) curve')\n",
        "  plt.legend()\n",
        "  plt.show()"
      ]
    },
    {
      "cell_type": "code",
      "execution_count": 51,
      "id": "bFHTASmo9b4q",
      "metadata": {
        "colab": {
          "base_uri": "https://localhost:8080/",
          "height": 458
        },
        "id": "bFHTASmo9b4q",
        "outputId": "f07257a2-ce26-46f6-86a5-32f1d5defe70"
      },
      "outputs": [
        {
          "data": {
            "image/png": "[encoded data removed]",
            "text/plain": [
              "<Figure size 720x504 with 1 Axes>"
            ]
          },
          "metadata": {
            "needs_background": "light"
          },
          "output_type": "display_data"
        }
      ],
      "source": [
        "plot_roc_curve(y_pred, y_true)"
      ]
    },
    {
      "cell_type": "markdown",
      "id": "4d56cf94-89bd-4bac-aaa8-2efafabfb891",
      "metadata": {
        "id": "4d56cf94-89bd-4bac-aaa8-2efafabfb891"
      },
      "source": [
        "# 10 Predict on New Data"
      ]
    },
    {
      "cell_type": "code",
      "execution_count": 52,
      "id": "oI94z-EfBkzL",
      "metadata": {
        "id": "oI94z-EfBkzL"
      },
      "outputs": [],
      "source": [
        "# Sample text\n",
        "input_text = 'Hargai kebahagiaan jika kamu pernah sedih'\n",
        "\n",
        "def prep_data(text):\n",
        "    tokens = bert_tokenizer.encode_plus(\n",
        "        text, \n",
        "        max_length=MAX_SEQ_LENGTH,\n",
        "        truncation=True, \n",
        "        padding='max_length',\n",
        "        add_special_tokens=True, \n",
        "        return_token_type_ids=False,\n",
        "        return_tensors='tf'\n",
        "      )\n",
        "    \n",
        "    # Tokenizer returns int32 tensors, we need to return float64, so we use tf.cast\n",
        "    return {'input_ids': tf.cast(tokens['input_ids'], tf.float64), 'attention_mask': tf.cast(tokens['attention_mask'], tf.float64)}"
      ]
    },
    {
      "cell_type": "code",
      "execution_count": 53,
      "id": "G4eBP4s4BwIE",
      "metadata": {
        "colab": {
          "base_uri": "https://localhost:8080/"
        },
        "id": "G4eBP4s4BwIE",
        "outputId": "0846a0d5-8acd-40f1-d0dd-d9c45da76a21"
      },
      "outputs": [
        {
          "name": "stdout",
          "output_type": "stream",
          "text": [
            "[[0.01738489 0.0017806  0.00394533 0.79668885 0.17354132 0.006659  ]] ['joy']\n"
          ]
        }
      ],
      "source": [
        "pred = model.predict(prep_data(input_text))\n",
        "print(pred, LABEL_NAME[np.argmax(pred, axis=1)])"
      ]
    }
  ],
  "metadata": {
    "accelerator": "GPU",
    "colab": {
      "collapsed_sections": [],
      "include_colab_link": true,
      "machine_shape": "hm",
      "name": "06-BERT-fine-tuning-malay-bahasa.ipynb",
      "provenance": [],
      "toc_visible": true
    },
    "kernelspec": {
      "display_name": "Python 3.8.8 ('base')",
      "language": "python",
      "name": "python3"
    },
    "language_info": {
      "codemirror_mode": {
        "name": "ipython",
        "version": 3
      },
      "file_extension": ".py",
      "mimetype": "text/x-python",
      "name": "python",
      "nbconvert_exporter": "python",
      "pygments_lexer": "ipython3",
      "version": "3.8.8"
    },
    "vscode": {
      "interpreter": {
        "hash": "ad2bdc8ecc057115af97d19610ffacc2b4e99fae6737bb82f5d7fb13d2f2c186"
      }
    },
    "widgets": {
      "application/vnd.jupyter.widget-state+json": {
        "04557e0430bd49e185073a95dd40a490": {
          "model_module": "@jupyter-widgets/controls",
          "model_module_version": "1.5.0",
          "model_name": "HBoxModel",
          "state": {
            "_dom_classes": [],
            "_model_module": "@jupyter-widgets/controls",
            "_model_module_version": "1.5.0",
            "_model_name": "HBoxModel",
            "_view_count": null,
            "_view_module": "@jupyter-widgets/controls",
            "_view_module_version": "1.5.0",
            "_view_name": "HBoxView",
            "box_style": "",
            "children": [
              "IPY_MODEL_e10586aa47c4414ea9041c3ee7c6f313",
              "IPY_MODEL_f72f9e327e374f8b89279d9f54a329f7",
              "IPY_MODEL_293126fb5d19462abc37949f072d4261"
            ],
            "layout": "IPY_MODEL_cfc43c01f3f44b5bbb3bb09787b8765e"
          }
        },
        "07d3838ce530495989569a2e743a49e7": {
          "model_module": "@jupyter-widgets/base",
          "model_module_version": "1.2.0",
          "model_name": "LayoutModel",
          "state": {
            "_model_module": "@jupyter-widgets/base",
            "_model_module_version": "1.2.0",
            "_model_name": "LayoutModel",
            "_view_count": null,
            "_view_module": "@jupyter-widgets/base",
            "_view_module_version": "1.2.0",
            "_view_name": "LayoutView",
            "align_content": null,
            "align_items": null,
            "align_self": null,
            "border": null,
            "bottom": null,
            "display": null,
            "flex": null,
            "flex_flow": null,
            "grid_area": null,
            "grid_auto_columns": null,
            "grid_auto_flow": null,
            "grid_auto_rows": null,
            "grid_column": null,
            "grid_gap": null,
            "grid_row": null,
            "grid_template_areas": null,
            "grid_template_columns": null,
            "grid_template_rows": null,
            "height": null,
            "justify_content": null,
            "justify_items": null,
            "left": null,
            "margin": null,
            "max_height": null,
            "max_width": null,
            "min_height": null,
            "min_width": null,
            "object_fit": null,
            "object_position": null,
            "order": null,
            "overflow": null,
            "overflow_x": null,
            "overflow_y": null,
            "padding": null,
            "right": null,
            "top": null,
            "visibility": null,
            "width": null
          }
        },
        "0822c0d3c8304366beb79751e1a4f6c6": {
          "model_module": "@jupyter-widgets/base",
          "model_module_version": "1.2.0",
          "model_name": "LayoutModel",
          "state": {
            "_model_module": "@jupyter-widgets/base",
            "_model_module_version": "1.2.0",
            "_model_name": "LayoutModel",
            "_view_count": null,
            "_view_module": "@jupyter-widgets/base",
            "_view_module_version": "1.2.0",
            "_view_name": "LayoutView",
            "align_content": null,
            "align_items": null,
            "align_self": null,
            "border": null,
            "bottom": null,
            "display": null,
            "flex": null,
            "flex_flow": null,
            "grid_area": null,
            "grid_auto_columns": null,
            "grid_auto_flow": null,
            "grid_auto_rows": null,
            "grid_column": null,
            "grid_gap": null,
            "grid_row": null,
            "grid_template_areas": null,
            "grid_template_columns": null,
            "grid_template_rows": null,
            "height": null,
            "justify_content": null,
            "justify_items": null,
            "left": null,
            "margin": null,
            "max_height": null,
            "max_width": null,
            "min_height": null,
            "min_width": null,
            "object_fit": null,
            "object_position": null,
            "order": null,
            "overflow": null,
            "overflow_x": null,
            "overflow_y": null,
            "padding": null,
            "right": null,
            "top": null,
            "visibility": null,
            "width": null
          }
        },
        "0c8e0661bd9b4783a1ce5f3004c88d00": {
          "model_module": "@jupyter-widgets/base",
          "model_module_version": "1.2.0",
          "model_name": "LayoutModel",
          "state": {
            "_model_module": "@jupyter-widgets/base",
            "_model_module_version": "1.2.0",
            "_model_name": "LayoutModel",
            "_view_count": null,
            "_view_module": "@jupyter-widgets/base",
            "_view_module_version": "1.2.0",
            "_view_name": "LayoutView",
            "align_content": null,
            "align_items": null,
            "align_self": null,
            "border": null,
            "bottom": null,
            "display": null,
            "flex": null,
            "flex_flow": null,
            "grid_area": null,
            "grid_auto_columns": null,
            "grid_auto_flow": null,
            "grid_auto_rows": null,
            "grid_column": null,
            "grid_gap": null,
            "grid_row": null,
            "grid_template_areas": null,
            "grid_template_columns": null,
            "grid_template_rows": null,
            "height": null,
            "justify_content": null,
            "justify_items": null,
            "left": null,
            "margin": null,
            "max_height": null,
            "max_width": null,
            "min_height": null,
            "min_width": null,
            "object_fit": null,
            "object_position": null,
            "order": null,
            "overflow": null,
            "overflow_x": null,
            "overflow_y": null,
            "padding": null,
            "right": null,
            "top": null,
            "visibility": null,
            "width": null
          }
        },
        "0d4476adbc29428dba3f9edd4fe39cdb": {
          "model_module": "@jupyter-widgets/controls",
          "model_module_version": "1.5.0",
          "model_name": "HBoxModel",
          "state": {
            "_dom_classes": [],
            "_model_module": "@jupyter-widgets/controls",
            "_model_module_version": "1.5.0",
            "_model_name": "HBoxModel",
            "_view_count": null,
            "_view_module": "@jupyter-widgets/controls",
            "_view_module_version": "1.5.0",
            "_view_name": "HBoxView",
            "box_style": "",
            "children": [
              "IPY_MODEL_3639da1586704e83b5ba9e775f9ada07",
              "IPY_MODEL_b3ec46b1dc544c43878dae152ecd3bda",
              "IPY_MODEL_2395420f8a4b426c988dd0318dd6f2f6"
            ],
            "layout": "IPY_MODEL_0e0dad18fc534b648fec561393945209"
          }
        },
        "0e0dad18fc534b648fec561393945209": {
          "model_module": "@jupyter-widgets/base",
          "model_module_version": "1.2.0",
          "model_name": "LayoutModel",
          "state": {
            "_model_module": "@jupyter-widgets/base",
            "_model_module_version": "1.2.0",
            "_model_name": "LayoutModel",
            "_view_count": null,
            "_view_module": "@jupyter-widgets/base",
            "_view_module_version": "1.2.0",
            "_view_name": "LayoutView",
            "align_content": null,
            "align_items": null,
            "align_self": null,
            "border": null,
            "bottom": null,
            "display": null,
            "flex": null,
            "flex_flow": null,
            "grid_area": null,
            "grid_auto_columns": null,
            "grid_auto_flow": null,
            "grid_auto_rows": null,
            "grid_column": null,
            "grid_gap": null,
            "grid_row": null,
            "grid_template_areas": null,
            "grid_template_columns": null,
            "grid_template_rows": null,
            "height": null,
            "justify_content": null,
            "justify_items": null,
            "left": null,
            "margin": null,
            "max_height": null,
            "max_width": null,
            "min_height": null,
            "min_width": null,
            "object_fit": null,
            "object_position": null,
            "order": null,
            "overflow": null,
            "overflow_x": null,
            "overflow_y": null,
            "padding": null,
            "right": null,
            "top": null,
            "visibility": null,
            "width": null
          }
        },
        "2110ac591df941d483ec1fa0344aff76": {
          "model_module": "@jupyter-widgets/controls",
          "model_module_version": "1.5.0",
          "model_name": "FloatProgressModel",
          "state": {
            "_dom_classes": [],
            "_model_module": "@jupyter-widgets/controls",
            "_model_module_version": "1.5.0",
            "_model_name": "FloatProgressModel",
            "_view_count": null,
            "_view_module": "@jupyter-widgets/controls",
            "_view_module_version": "1.5.0",
            "_view_name": "ProgressView",
            "bar_style": "success",
            "description": "",
            "description_tooltip": null,
            "layout": "IPY_MODEL_27ec778f31d746358327ad0db20b8ff8",
            "max": 224153,
            "min": 0,
            "orientation": "horizontal",
            "style": "IPY_MODEL_ef8fe5e319d24e8bafa5b1a16cd33171",
            "value": 224153
          }
        },
        "2395420f8a4b426c988dd0318dd6f2f6": {
          "model_module": "@jupyter-widgets/controls",
          "model_module_version": "1.5.0",
          "model_name": "HTMLModel",
          "state": {
            "_dom_classes": [],
            "_model_module": "@jupyter-widgets/controls",
            "_model_module_version": "1.5.0",
            "_model_name": "HTMLModel",
            "_view_count": null,
            "_view_module": "@jupyter-widgets/controls",
            "_view_module_version": "1.5.0",
            "_view_name": "HTMLView",
            "description": "",
            "description_tooltip": null,
            "layout": "IPY_MODEL_0c8e0661bd9b4783a1ce5f3004c88d00",
            "placeholder": "​",
            "style": "IPY_MODEL_51f8156cc01544b4a0470862a1edf1c6",
            "value": " 422M/422M [00:25&lt;00:00, 18.5MB/s]"
          }
        },
        "27ec778f31d746358327ad0db20b8ff8": {
          "model_module": "@jupyter-widgets/base",
          "model_module_version": "1.2.0",
          "model_name": "LayoutModel",
          "state": {
            "_model_module": "@jupyter-widgets/base",
            "_model_module_version": "1.2.0",
            "_model_name": "LayoutModel",
            "_view_count": null,
            "_view_module": "@jupyter-widgets/base",
            "_view_module_version": "1.2.0",
            "_view_name": "LayoutView",
            "align_content": null,
            "align_items": null,
            "align_self": null,
            "border": null,
            "bottom": null,
            "display": null,
            "flex": null,
            "flex_flow": null,
            "grid_area": null,
            "grid_auto_columns": null,
            "grid_auto_flow": null,
            "grid_auto_rows": null,
            "grid_column": null,
            "grid_gap": null,
            "grid_row": null,
            "grid_template_areas": null,
            "grid_template_columns": null,
            "grid_template_rows": null,
            "height": null,
            "justify_content": null,
            "justify_items": null,
            "left": null,
            "margin": null,
            "max_height": null,
            "max_width": null,
            "min_height": null,
            "min_width": null,
            "object_fit": null,
            "object_position": null,
            "order": null,
            "overflow": null,
            "overflow_x": null,
            "overflow_y": null,
            "padding": null,
            "right": null,
            "top": null,
            "visibility": null,
            "width": null
          }
        },
        "293126fb5d19462abc37949f072d4261": {
          "model_module": "@jupyter-widgets/controls",
          "model_module_version": "1.5.0",
          "model_name": "HTMLModel",
          "state": {
            "_dom_classes": [],
            "_model_module": "@jupyter-widgets/controls",
            "_model_module_version": "1.5.0",
            "_model_name": "HTMLModel",
            "_view_count": null,
            "_view_module": "@jupyter-widgets/controls",
            "_view_module_version": "1.5.0",
            "_view_name": "HTMLView",
            "description": "",
            "description_tooltip": null,
            "layout": "IPY_MODEL_c071383423764182a41fa8eb7161c4fc",
            "placeholder": "​",
            "style": "IPY_MODEL_34c5045645924194b5fe9d8f92573e74",
            "value": " 112/112 [00:00&lt;00:00, 4.35kB/s]"
          }
        },
        "2ade9db286614115a817e2dfe4879520": {
          "model_module": "@jupyter-widgets/controls",
          "model_module_version": "1.5.0",
          "model_name": "VBoxModel",
          "state": {
            "_dom_classes": [],
            "_model_module": "@jupyter-widgets/controls",
            "_model_module_version": "1.5.0",
            "_model_name": "VBoxModel",
            "_view_count": null,
            "_view_module": "@jupyter-widgets/controls",
            "_view_module_version": "1.5.0",
            "_view_name": "VBoxView",
            "box_style": "",
            "children": [
              "IPY_MODEL_f2cd6ba6995b49f88e3e8f5294510ec9",
              "IPY_MODEL_e57741be85f84bbdadb41452f61cd083"
            ],
            "layout": "IPY_MODEL_66371b8c9f5b43d5b4e6f4e79dac7ea8"
          }
        },
        "2e0fd7ed47da47889ad0ef6db820ccd6": {
          "model_module": "@jupyter-widgets/controls",
          "model_module_version": "1.5.0",
          "model_name": "HTMLModel",
          "state": {
            "_dom_classes": [],
            "_model_module": "@jupyter-widgets/controls",
            "_model_module_version": "1.5.0",
            "_model_name": "HTMLModel",
            "_view_count": null,
            "_view_module": "@jupyter-widgets/controls",
            "_view_module_version": "1.5.0",
            "_view_name": "HTMLView",
            "description": "",
            "description_tooltip": null,
            "layout": "IPY_MODEL_0822c0d3c8304366beb79751e1a4f6c6",
            "placeholder": "​",
            "style": "IPY_MODEL_c5e8bdfe8da74f998ad972f3c670a041",
            "value": " 219k/219k [00:00&lt;00:00, 323kB/s]"
          }
        },
        "30d4b08600d14dbdbe47e95646941d6f": {
          "model_module": "@jupyter-widgets/base",
          "model_module_version": "1.2.0",
          "model_name": "LayoutModel",
          "state": {
            "_model_module": "@jupyter-widgets/base",
            "_model_module_version": "1.2.0",
            "_model_name": "LayoutModel",
            "_view_count": null,
            "_view_module": "@jupyter-widgets/base",
            "_view_module_version": "1.2.0",
            "_view_name": "LayoutView",
            "align_content": null,
            "align_items": null,
            "align_self": null,
            "border": null,
            "bottom": null,
            "display": null,
            "flex": null,
            "flex_flow": null,
            "grid_area": null,
            "grid_auto_columns": null,
            "grid_auto_flow": null,
            "grid_auto_rows": null,
            "grid_column": null,
            "grid_gap": null,
            "grid_row": null,
            "grid_template_areas": null,
            "grid_template_columns": null,
            "grid_template_rows": null,
            "height": null,
            "justify_content": null,
            "justify_items": null,
            "left": null,
            "margin": null,
            "max_height": null,
            "max_width": null,
            "min_height": null,
            "min_width": null,
            "object_fit": null,
            "object_position": null,
            "order": null,
            "overflow": null,
            "overflow_x": null,
            "overflow_y": null,
            "padding": null,
            "right": null,
            "top": null,
            "visibility": null,
            "width": null
          }
        },
        "34c5045645924194b5fe9d8f92573e74": {
          "model_module": "@jupyter-widgets/controls",
          "model_module_version": "1.5.0",
          "model_name": "DescriptionStyleModel",
          "state": {
            "_model_module": "@jupyter-widgets/controls",
            "_model_module_version": "1.5.0",
            "_model_name": "DescriptionStyleModel",
            "_view_count": null,
            "_view_module": "@jupyter-widgets/base",
            "_view_module_version": "1.2.0",
            "_view_name": "StyleView",
            "description_width": ""
          }
        },
        "3639da1586704e83b5ba9e775f9ada07": {
          "model_module": "@jupyter-widgets/controls",
          "model_module_version": "1.5.0",
          "model_name": "HTMLModel",
          "state": {
            "_dom_classes": [],
            "_model_module": "@jupyter-widgets/controls",
            "_model_module_version": "1.5.0",
            "_model_name": "HTMLModel",
            "_view_count": null,
            "_view_module": "@jupyter-widgets/controls",
            "_view_module_version": "1.5.0",
            "_view_name": "HTMLView",
            "description": "",
            "description_tooltip": null,
            "layout": "IPY_MODEL_bc95eefe660a4a33a73b8471a472825f",
            "placeholder": "​",
            "style": "IPY_MODEL_f4fbc7fa8d6e4d1489971a3cb0791195",
            "value": "Downloading: 100%"
          }
        },
        "42fd663ba4774d3abffb6c5509ceb8b6": {
          "model_module": "@jupyter-widgets/controls",
          "model_module_version": "1.5.0",
          "model_name": "HTMLModel",
          "state": {
            "_dom_classes": [],
            "_model_module": "@jupyter-widgets/controls",
            "_model_module_version": "1.5.0",
            "_model_name": "HTMLModel",
            "_view_count": null,
            "_view_module": "@jupyter-widgets/controls",
            "_view_module_version": "1.5.0",
            "_view_name": "HTMLView",
            "description": "",
            "description_tooltip": null,
            "layout": "IPY_MODEL_68f540f42e0d4d9a9118b07851de6160",
            "placeholder": "​",
            "style": "IPY_MODEL_8570df36e48d416e8be8f9481068d61c",
            "value": "Downloading: 100%"
          }
        },
        "4a4bb8cadf394a7fb08b1d7440dee80f": {
          "model_module": "@jupyter-widgets/controls",
          "model_module_version": "1.5.0",
          "model_name": "DescriptionStyleModel",
          "state": {
            "_model_module": "@jupyter-widgets/controls",
            "_model_module_version": "1.5.0",
            "_model_name": "DescriptionStyleModel",
            "_view_count": null,
            "_view_module": "@jupyter-widgets/base",
            "_view_module_version": "1.2.0",
            "_view_name": "StyleView",
            "description_width": ""
          }
        },
        "51f8156cc01544b4a0470862a1edf1c6": {
          "model_module": "@jupyter-widgets/controls",
          "model_module_version": "1.5.0",
          "model_name": "DescriptionStyleModel",
          "state": {
            "_model_module": "@jupyter-widgets/controls",
            "_model_module_version": "1.5.0",
            "_model_name": "DescriptionStyleModel",
            "_view_count": null,
            "_view_module": "@jupyter-widgets/base",
            "_view_module_version": "1.2.0",
            "_view_name": "StyleView",
            "description_width": ""
          }
        },
        "5521e8229f354dbea578a4611ef5002f": {
          "model_module": "@jupyter-widgets/controls",
          "model_module_version": "1.5.0",
          "model_name": "DescriptionStyleModel",
          "state": {
            "_model_module": "@jupyter-widgets/controls",
            "_model_module_version": "1.5.0",
            "_model_name": "DescriptionStyleModel",
            "_view_count": null,
            "_view_module": "@jupyter-widgets/base",
            "_view_module_version": "1.2.0",
            "_view_name": "StyleView",
            "description_width": ""
          }
        },
        "5c98272e2bbc46cf9787da698194fdb9": {
          "model_module": "@jupyter-widgets/controls",
          "model_module_version": "1.5.0",
          "model_name": "HTMLModel",
          "state": {
            "_dom_classes": [],
            "_model_module": "@jupyter-widgets/controls",
            "_model_module_version": "1.5.0",
            "_model_name": "HTMLModel",
            "_view_count": null,
            "_view_module": "@jupyter-widgets/controls",
            "_view_module_version": "1.5.0",
            "_view_name": "HTMLView",
            "description": "",
            "description_tooltip": null,
            "layout": "IPY_MODEL_c3cafe80f0864ff6ba0bc5b737ebe1c1",
            "placeholder": "​",
            "style": "IPY_MODEL_4a4bb8cadf394a7fb08b1d7440dee80f",
            "value": "Downloading: 100%"
          }
        },
        "639f039d74c34710b7a4bea2e6965071": {
          "model_module": "@jupyter-widgets/controls",
          "model_module_version": "1.5.0",
          "model_name": "ProgressStyleModel",
          "state": {
            "_model_module": "@jupyter-widgets/controls",
            "_model_module_version": "1.5.0",
            "_model_name": "ProgressStyleModel",
            "_view_count": null,
            "_view_module": "@jupyter-widgets/base",
            "_view_module_version": "1.2.0",
            "_view_name": "StyleView",
            "bar_color": null,
            "description_width": ""
          }
        },
        "66371b8c9f5b43d5b4e6f4e79dac7ea8": {
          "model_module": "@jupyter-widgets/base",
          "model_module_version": "1.2.0",
          "model_name": "LayoutModel",
          "state": {
            "_model_module": "@jupyter-widgets/base",
            "_model_module_version": "1.2.0",
            "_model_name": "LayoutModel",
            "_view_count": null,
            "_view_module": "@jupyter-widgets/base",
            "_view_module_version": "1.2.0",
            "_view_name": "LayoutView",
            "align_content": null,
            "align_items": null,
            "align_self": null,
            "border": null,
            "bottom": null,
            "display": null,
            "flex": null,
            "flex_flow": null,
            "grid_area": null,
            "grid_auto_columns": null,
            "grid_auto_flow": null,
            "grid_auto_rows": null,
            "grid_column": null,
            "grid_gap": null,
            "grid_row": null,
            "grid_template_areas": null,
            "grid_template_columns": null,
            "grid_template_rows": null,
            "height": null,
            "justify_content": null,
            "justify_items": null,
            "left": null,
            "margin": null,
            "max_height": null,
            "max_width": null,
            "min_height": null,
            "min_width": null,
            "object_fit": null,
            "object_position": null,
            "order": null,
            "overflow": null,
            "overflow_x": null,
            "overflow_y": null,
            "padding": null,
            "right": null,
            "top": null,
            "visibility": null,
            "width": null
          }
        },
        "6825a41cd338481187a237c9fb3f9faa": {
          "model_module": "@jupyter-widgets/base",
          "model_module_version": "1.2.0",
          "model_name": "LayoutModel",
          "state": {
            "_model_module": "@jupyter-widgets/base",
            "_model_module_version": "1.2.0",
            "_model_name": "LayoutModel",
            "_view_count": null,
            "_view_module": "@jupyter-widgets/base",
            "_view_module_version": "1.2.0",
            "_view_name": "LayoutView",
            "align_content": null,
            "align_items": null,
            "align_self": null,
            "border": null,
            "bottom": null,
            "display": null,
            "flex": null,
            "flex_flow": null,
            "grid_area": null,
            "grid_auto_columns": null,
            "grid_auto_flow": null,
            "grid_auto_rows": null,
            "grid_column": null,
            "grid_gap": null,
            "grid_row": null,
            "grid_template_areas": null,
            "grid_template_columns": null,
            "grid_template_rows": null,
            "height": null,
            "justify_content": null,
            "justify_items": null,
            "left": null,
            "margin": null,
            "max_height": null,
            "max_width": null,
            "min_height": null,
            "min_width": null,
            "object_fit": null,
            "object_position": null,
            "order": null,
            "overflow": null,
            "overflow_x": null,
            "overflow_y": null,
            "padding": null,
            "right": null,
            "top": null,
            "visibility": null,
            "width": null
          }
        },
        "68f540f42e0d4d9a9118b07851de6160": {
          "model_module": "@jupyter-widgets/base",
          "model_module_version": "1.2.0",
          "model_name": "LayoutModel",
          "state": {
            "_model_module": "@jupyter-widgets/base",
            "_model_module_version": "1.2.0",
            "_model_name": "LayoutModel",
            "_view_count": null,
            "_view_module": "@jupyter-widgets/base",
            "_view_module_version": "1.2.0",
            "_view_name": "LayoutView",
            "align_content": null,
            "align_items": null,
            "align_self": null,
            "border": null,
            "bottom": null,
            "display": null,
            "flex": null,
            "flex_flow": null,
            "grid_area": null,
            "grid_auto_columns": null,
            "grid_auto_flow": null,
            "grid_auto_rows": null,
            "grid_column": null,
            "grid_gap": null,
            "grid_row": null,
            "grid_template_areas": null,
            "grid_template_columns": null,
            "grid_template_rows": null,
            "height": null,
            "justify_content": null,
            "justify_items": null,
            "left": null,
            "margin": null,
            "max_height": null,
            "max_width": null,
            "min_height": null,
            "min_width": null,
            "object_fit": null,
            "object_position": null,
            "order": null,
            "overflow": null,
            "overflow_x": null,
            "overflow_y": null,
            "padding": null,
            "right": null,
            "top": null,
            "visibility": null,
            "width": null
          }
        },
        "6f1efbecc17845869c00492ca9541687": {
          "model_module": "@jupyter-widgets/base",
          "model_module_version": "1.2.0",
          "model_name": "LayoutModel",
          "state": {
            "_model_module": "@jupyter-widgets/base",
            "_model_module_version": "1.2.0",
            "_model_name": "LayoutModel",
            "_view_count": null,
            "_view_module": "@jupyter-widgets/base",
            "_view_module_version": "1.2.0",
            "_view_name": "LayoutView",
            "align_content": null,
            "align_items": null,
            "align_self": null,
            "border": null,
            "bottom": null,
            "display": null,
            "flex": null,
            "flex_flow": null,
            "grid_area": null,
            "grid_auto_columns": null,
            "grid_auto_flow": null,
            "grid_auto_rows": null,
            "grid_column": null,
            "grid_gap": null,
            "grid_row": null,
            "grid_template_areas": null,
            "grid_template_columns": null,
            "grid_template_rows": null,
            "height": null,
            "justify_content": null,
            "justify_items": null,
            "left": null,
            "margin": null,
            "max_height": null,
            "max_width": null,
            "min_height": null,
            "min_width": null,
            "object_fit": null,
            "object_position": null,
            "order": null,
            "overflow": null,
            "overflow_x": null,
            "overflow_y": null,
            "padding": null,
            "right": null,
            "top": null,
            "visibility": null,
            "width": null
          }
        },
        "7740608cdffd47adbd72fbe9f9d44dbe": {
          "model_module": "@jupyter-widgets/controls",
          "model_module_version": "1.5.0",
          "model_name": "HBoxModel",
          "state": {
            "_dom_classes": [],
            "_model_module": "@jupyter-widgets/controls",
            "_model_module_version": "1.5.0",
            "_model_name": "HBoxModel",
            "_view_count": null,
            "_view_module": "@jupyter-widgets/controls",
            "_view_module_version": "1.5.0",
            "_view_name": "HBoxView",
            "box_style": "",
            "children": [
              "IPY_MODEL_42fd663ba4774d3abffb6c5509ceb8b6",
              "IPY_MODEL_2110ac591df941d483ec1fa0344aff76",
              "IPY_MODEL_2e0fd7ed47da47889ad0ef6db820ccd6"
            ],
            "layout": "IPY_MODEL_c2abdf6492a2476ebf01587f04406119"
          }
        },
        "8570df36e48d416e8be8f9481068d61c": {
          "model_module": "@jupyter-widgets/controls",
          "model_module_version": "1.5.0",
          "model_name": "DescriptionStyleModel",
          "state": {
            "_model_module": "@jupyter-widgets/controls",
            "_model_module_version": "1.5.0",
            "_model_name": "DescriptionStyleModel",
            "_view_count": null,
            "_view_module": "@jupyter-widgets/base",
            "_view_module_version": "1.2.0",
            "_view_name": "StyleView",
            "description_width": ""
          }
        },
        "87e50e1388e243ceb7f0b3046bc80895": {
          "model_module": "@jupyter-widgets/controls",
          "model_module_version": "1.5.0",
          "model_name": "ProgressStyleModel",
          "state": {
            "_model_module": "@jupyter-widgets/controls",
            "_model_module_version": "1.5.0",
            "_model_name": "ProgressStyleModel",
            "_view_count": null,
            "_view_module": "@jupyter-widgets/base",
            "_view_module_version": "1.2.0",
            "_view_name": "StyleView",
            "bar_color": null,
            "description_width": ""
          }
        },
        "8c35a82f37314e8bba896c2feb1e2332": {
          "model_module": "@jupyter-widgets/controls",
          "model_module_version": "1.5.0",
          "model_name": "HTMLModel",
          "state": {
            "_dom_classes": [],
            "_model_module": "@jupyter-widgets/controls",
            "_model_module_version": "1.5.0",
            "_model_name": "HTMLModel",
            "_view_count": null,
            "_view_module": "@jupyter-widgets/controls",
            "_view_module_version": "1.5.0",
            "_view_name": "HTMLView",
            "description": "",
            "description_tooltip": null,
            "layout": "IPY_MODEL_9695b8a64aba4d36b156ec64ac866d12",
            "placeholder": "​",
            "style": "IPY_MODEL_5521e8229f354dbea578a4611ef5002f",
            "value": " 275/275 [00:00&lt;00:00, 7.91kB/s]"
          }
        },
        "9695b8a64aba4d36b156ec64ac866d12": {
          "model_module": "@jupyter-widgets/base",
          "model_module_version": "1.2.0",
          "model_name": "LayoutModel",
          "state": {
            "_model_module": "@jupyter-widgets/base",
            "_model_module_version": "1.2.0",
            "_model_name": "LayoutModel",
            "_view_count": null,
            "_view_module": "@jupyter-widgets/base",
            "_view_module_version": "1.2.0",
            "_view_name": "LayoutView",
            "align_content": null,
            "align_items": null,
            "align_self": null,
            "border": null,
            "bottom": null,
            "display": null,
            "flex": null,
            "flex_flow": null,
            "grid_area": null,
            "grid_auto_columns": null,
            "grid_auto_flow": null,
            "grid_auto_rows": null,
            "grid_column": null,
            "grid_gap": null,
            "grid_row": null,
            "grid_template_areas": null,
            "grid_template_columns": null,
            "grid_template_rows": null,
            "height": null,
            "justify_content": null,
            "justify_items": null,
            "left": null,
            "margin": null,
            "max_height": null,
            "max_width": null,
            "min_height": null,
            "min_width": null,
            "object_fit": null,
            "object_position": null,
            "order": null,
            "overflow": null,
            "overflow_x": null,
            "overflow_y": null,
            "padding": null,
            "right": null,
            "top": null,
            "visibility": null,
            "width": null
          }
        },
        "9dca557a9e9e49aba0affbf8d5f1867d": {
          "model_module": "@jupyter-widgets/controls",
          "model_module_version": "1.5.0",
          "model_name": "FloatProgressModel",
          "state": {
            "_dom_classes": [],
            "_model_module": "@jupyter-widgets/controls",
            "_model_module_version": "1.5.0",
            "_model_name": "FloatProgressModel",
            "_view_count": null,
            "_view_module": "@jupyter-widgets/controls",
            "_view_module_version": "1.5.0",
            "_view_name": "ProgressView",
            "bar_style": "success",
            "description": "",
            "description_tooltip": null,
            "layout": "IPY_MODEL_30d4b08600d14dbdbe47e95646941d6f",
            "max": 275,
            "min": 0,
            "orientation": "horizontal",
            "style": "IPY_MODEL_639f039d74c34710b7a4bea2e6965071",
            "value": 275
          }
        },
        "a169394562364e3390775a14edb68645": {
          "model_module": "@jupyter-widgets/base",
          "model_module_version": "1.2.0",
          "model_name": "LayoutModel",
          "state": {
            "_model_module": "@jupyter-widgets/base",
            "_model_module_version": "1.2.0",
            "_model_name": "LayoutModel",
            "_view_count": null,
            "_view_module": "@jupyter-widgets/base",
            "_view_module_version": "1.2.0",
            "_view_name": "LayoutView",
            "align_content": null,
            "align_items": null,
            "align_self": null,
            "border": null,
            "bottom": null,
            "display": null,
            "flex": null,
            "flex_flow": null,
            "grid_area": null,
            "grid_auto_columns": null,
            "grid_auto_flow": null,
            "grid_auto_rows": null,
            "grid_column": null,
            "grid_gap": null,
            "grid_row": null,
            "grid_template_areas": null,
            "grid_template_columns": null,
            "grid_template_rows": null,
            "height": null,
            "justify_content": null,
            "justify_items": null,
            "left": null,
            "margin": null,
            "max_height": null,
            "max_width": null,
            "min_height": null,
            "min_width": null,
            "object_fit": null,
            "object_position": null,
            "order": null,
            "overflow": null,
            "overflow_x": null,
            "overflow_y": null,
            "padding": null,
            "right": null,
            "top": null,
            "visibility": null,
            "width": null
          }
        },
        "b3ec46b1dc544c43878dae152ecd3bda": {
          "model_module": "@jupyter-widgets/controls",
          "model_module_version": "1.5.0",
          "model_name": "FloatProgressModel",
          "state": {
            "_dom_classes": [],
            "_model_module": "@jupyter-widgets/controls",
            "_model_module_version": "1.5.0",
            "_model_name": "FloatProgressModel",
            "_view_count": null,
            "_view_module": "@jupyter-widgets/controls",
            "_view_module_version": "1.5.0",
            "_view_name": "ProgressView",
            "bar_style": "success",
            "description": "",
            "description_tooltip": null,
            "layout": "IPY_MODEL_a169394562364e3390775a14edb68645",
            "max": 442685483,
            "min": 0,
            "orientation": "horizontal",
            "style": "IPY_MODEL_f6718eb6c0124391bd47deaa32bff540",
            "value": 442685483
          }
        },
        "bc95eefe660a4a33a73b8471a472825f": {
          "model_module": "@jupyter-widgets/base",
          "model_module_version": "1.2.0",
          "model_name": "LayoutModel",
          "state": {
            "_model_module": "@jupyter-widgets/base",
            "_model_module_version": "1.2.0",
            "_model_name": "LayoutModel",
            "_view_count": null,
            "_view_module": "@jupyter-widgets/base",
            "_view_module_version": "1.2.0",
            "_view_name": "LayoutView",
            "align_content": null,
            "align_items": null,
            "align_self": null,
            "border": null,
            "bottom": null,
            "display": null,
            "flex": null,
            "flex_flow": null,
            "grid_area": null,
            "grid_auto_columns": null,
            "grid_auto_flow": null,
            "grid_auto_rows": null,
            "grid_column": null,
            "grid_gap": null,
            "grid_row": null,
            "grid_template_areas": null,
            "grid_template_columns": null,
            "grid_template_rows": null,
            "height": null,
            "justify_content": null,
            "justify_items": null,
            "left": null,
            "margin": null,
            "max_height": null,
            "max_width": null,
            "min_height": null,
            "min_width": null,
            "object_fit": null,
            "object_position": null,
            "order": null,
            "overflow": null,
            "overflow_x": null,
            "overflow_y": null,
            "padding": null,
            "right": null,
            "top": null,
            "visibility": null,
            "width": null
          }
        },
        "c071383423764182a41fa8eb7161c4fc": {
          "model_module": "@jupyter-widgets/base",
          "model_module_version": "1.2.0",
          "model_name": "LayoutModel",
          "state": {
            "_model_module": "@jupyter-widgets/base",
            "_model_module_version": "1.2.0",
            "_model_name": "LayoutModel",
            "_view_count": null,
            "_view_module": "@jupyter-widgets/base",
            "_view_module_version": "1.2.0",
            "_view_name": "LayoutView",
            "align_content": null,
            "align_items": null,
            "align_self": null,
            "border": null,
            "bottom": null,
            "display": null,
            "flex": null,
            "flex_flow": null,
            "grid_area": null,
            "grid_auto_columns": null,
            "grid_auto_flow": null,
            "grid_auto_rows": null,
            "grid_column": null,
            "grid_gap": null,
            "grid_row": null,
            "grid_template_areas": null,
            "grid_template_columns": null,
            "grid_template_rows": null,
            "height": null,
            "justify_content": null,
            "justify_items": null,
            "left": null,
            "margin": null,
            "max_height": null,
            "max_width": null,
            "min_height": null,
            "min_width": null,
            "object_fit": null,
            "object_position": null,
            "order": null,
            "overflow": null,
            "overflow_x": null,
            "overflow_y": null,
            "padding": null,
            "right": null,
            "top": null,
            "visibility": null,
            "width": null
          }
        },
        "c2abdf6492a2476ebf01587f04406119": {
          "model_module": "@jupyter-widgets/base",
          "model_module_version": "1.2.0",
          "model_name": "LayoutModel",
          "state": {
            "_model_module": "@jupyter-widgets/base",
            "_model_module_version": "1.2.0",
            "_model_name": "LayoutModel",
            "_view_count": null,
            "_view_module": "@jupyter-widgets/base",
            "_view_module_version": "1.2.0",
            "_view_name": "LayoutView",
            "align_content": null,
            "align_items": null,
            "align_self": null,
            "border": null,
            "bottom": null,
            "display": null,
            "flex": null,
            "flex_flow": null,
            "grid_area": null,
            "grid_auto_columns": null,
            "grid_auto_flow": null,
            "grid_auto_rows": null,
            "grid_column": null,
            "grid_gap": null,
            "grid_row": null,
            "grid_template_areas": null,
            "grid_template_columns": null,
            "grid_template_rows": null,
            "height": null,
            "justify_content": null,
            "justify_items": null,
            "left": null,
            "margin": null,
            "max_height": null,
            "max_width": null,
            "min_height": null,
            "min_width": null,
            "object_fit": null,
            "object_position": null,
            "order": null,
            "overflow": null,
            "overflow_x": null,
            "overflow_y": null,
            "padding": null,
            "right": null,
            "top": null,
            "visibility": null,
            "width": null
          }
        },
        "c3cafe80f0864ff6ba0bc5b737ebe1c1": {
          "model_module": "@jupyter-widgets/base",
          "model_module_version": "1.2.0",
          "model_name": "LayoutModel",
          "state": {
            "_model_module": "@jupyter-widgets/base",
            "_model_module_version": "1.2.0",
            "_model_name": "LayoutModel",
            "_view_count": null,
            "_view_module": "@jupyter-widgets/base",
            "_view_module_version": "1.2.0",
            "_view_name": "LayoutView",
            "align_content": null,
            "align_items": null,
            "align_self": null,
            "border": null,
            "bottom": null,
            "display": null,
            "flex": null,
            "flex_flow": null,
            "grid_area": null,
            "grid_auto_columns": null,
            "grid_auto_flow": null,
            "grid_auto_rows": null,
            "grid_column": null,
            "grid_gap": null,
            "grid_row": null,
            "grid_template_areas": null,
            "grid_template_columns": null,
            "grid_template_rows": null,
            "height": null,
            "justify_content": null,
            "justify_items": null,
            "left": null,
            "margin": null,
            "max_height": null,
            "max_width": null,
            "min_height": null,
            "min_width": null,
            "object_fit": null,
            "object_position": null,
            "order": null,
            "overflow": null,
            "overflow_x": null,
            "overflow_y": null,
            "padding": null,
            "right": null,
            "top": null,
            "visibility": null,
            "width": null
          }
        },
        "c5e8bdfe8da74f998ad972f3c670a041": {
          "model_module": "@jupyter-widgets/controls",
          "model_module_version": "1.5.0",
          "model_name": "DescriptionStyleModel",
          "state": {
            "_model_module": "@jupyter-widgets/controls",
            "_model_module_version": "1.5.0",
            "_model_name": "DescriptionStyleModel",
            "_view_count": null,
            "_view_module": "@jupyter-widgets/base",
            "_view_module_version": "1.2.0",
            "_view_name": "StyleView",
            "description_width": ""
          }
        },
        "cfc43c01f3f44b5bbb3bb09787b8765e": {
          "model_module": "@jupyter-widgets/base",
          "model_module_version": "1.2.0",
          "model_name": "LayoutModel",
          "state": {
            "_model_module": "@jupyter-widgets/base",
            "_model_module_version": "1.2.0",
            "_model_name": "LayoutModel",
            "_view_count": null,
            "_view_module": "@jupyter-widgets/base",
            "_view_module_version": "1.2.0",
            "_view_name": "LayoutView",
            "align_content": null,
            "align_items": null,
            "align_self": null,
            "border": null,
            "bottom": null,
            "display": null,
            "flex": null,
            "flex_flow": null,
            "grid_area": null,
            "grid_auto_columns": null,
            "grid_auto_flow": null,
            "grid_auto_rows": null,
            "grid_column": null,
            "grid_gap": null,
            "grid_row": null,
            "grid_template_areas": null,
            "grid_template_columns": null,
            "grid_template_rows": null,
            "height": null,
            "justify_content": null,
            "justify_items": null,
            "left": null,
            "margin": null,
            "max_height": null,
            "max_width": null,
            "min_height": null,
            "min_width": null,
            "object_fit": null,
            "object_position": null,
            "order": null,
            "overflow": null,
            "overflow_x": null,
            "overflow_y": null,
            "padding": null,
            "right": null,
            "top": null,
            "visibility": null,
            "width": null
          }
        },
        "d19dc0ef732c4af186c6ec65b93c4493": {
          "model_module": "@jupyter-widgets/controls",
          "model_module_version": "1.5.0",
          "model_name": "DescriptionStyleModel",
          "state": {
            "_model_module": "@jupyter-widgets/controls",
            "_model_module_version": "1.5.0",
            "_model_name": "DescriptionStyleModel",
            "_view_count": null,
            "_view_module": "@jupyter-widgets/base",
            "_view_module_version": "1.2.0",
            "_view_name": "StyleView",
            "description_width": ""
          }
        },
        "d601bc8a70564fdf82510461707cef03": {
          "model_module": "@jupyter-widgets/controls",
          "model_module_version": "1.5.0",
          "model_name": "ProgressStyleModel",
          "state": {
            "_model_module": "@jupyter-widgets/controls",
            "_model_module_version": "1.5.0",
            "_model_name": "ProgressStyleModel",
            "_view_count": null,
            "_view_module": "@jupyter-widgets/base",
            "_view_module_version": "1.2.0",
            "_view_name": "StyleView",
            "bar_color": null,
            "description_width": ""
          }
        },
        "e10586aa47c4414ea9041c3ee7c6f313": {
          "model_module": "@jupyter-widgets/controls",
          "model_module_version": "1.5.0",
          "model_name": "HTMLModel",
          "state": {
            "_dom_classes": [],
            "_model_module": "@jupyter-widgets/controls",
            "_model_module_version": "1.5.0",
            "_model_name": "HTMLModel",
            "_view_count": null,
            "_view_module": "@jupyter-widgets/controls",
            "_view_module_version": "1.5.0",
            "_view_name": "HTMLView",
            "description": "",
            "description_tooltip": null,
            "layout": "IPY_MODEL_e7d82c513c164dd9a37592c98c0a82ab",
            "placeholder": "​",
            "style": "IPY_MODEL_d19dc0ef732c4af186c6ec65b93c4493",
            "value": "Downloading: 100%"
          }
        },
        "e57741be85f84bbdadb41452f61cd083": {
          "model_module": "@jupyter-widgets/controls",
          "model_module_version": "1.5.0",
          "model_name": "FloatProgressModel",
          "state": {
            "_dom_classes": [],
            "_model_module": "@jupyter-widgets/controls",
            "_model_module_version": "1.5.0",
            "_model_name": "FloatProgressModel",
            "_view_count": null,
            "_view_module": "@jupyter-widgets/controls",
            "_view_module_version": "1.5.0",
            "_view_name": "ProgressView",
            "bar_style": "",
            "description": "",
            "description_tooltip": null,
            "layout": "IPY_MODEL_6f1efbecc17845869c00492ca9541687",
            "max": 1,
            "min": 0,
            "orientation": "horizontal",
            "style": "IPY_MODEL_87e50e1388e243ceb7f0b3046bc80895",
            "value": 1
          }
        },
        "e7d82c513c164dd9a37592c98c0a82ab": {
          "model_module": "@jupyter-widgets/base",
          "model_module_version": "1.2.0",
          "model_name": "LayoutModel",
          "state": {
            "_model_module": "@jupyter-widgets/base",
            "_model_module_version": "1.2.0",
            "_model_name": "LayoutModel",
            "_view_count": null,
            "_view_module": "@jupyter-widgets/base",
            "_view_module_version": "1.2.0",
            "_view_name": "LayoutView",
            "align_content": null,
            "align_items": null,
            "align_self": null,
            "border": null,
            "bottom": null,
            "display": null,
            "flex": null,
            "flex_flow": null,
            "grid_area": null,
            "grid_auto_columns": null,
            "grid_auto_flow": null,
            "grid_auto_rows": null,
            "grid_column": null,
            "grid_gap": null,
            "grid_row": null,
            "grid_template_areas": null,
            "grid_template_columns": null,
            "grid_template_rows": null,
            "height": null,
            "justify_content": null,
            "justify_items": null,
            "left": null,
            "margin": null,
            "max_height": null,
            "max_width": null,
            "min_height": null,
            "min_width": null,
            "object_fit": null,
            "object_position": null,
            "order": null,
            "overflow": null,
            "overflow_x": null,
            "overflow_y": null,
            "padding": null,
            "right": null,
            "top": null,
            "visibility": null,
            "width": null
          }
        },
        "ea5b2a05a0fa447b9a50b419942b7e76": {
          "model_module": "@jupyter-widgets/controls",
          "model_module_version": "1.5.0",
          "model_name": "DescriptionStyleModel",
          "state": {
            "_model_module": "@jupyter-widgets/controls",
            "_model_module_version": "1.5.0",
            "_model_name": "DescriptionStyleModel",
            "_view_count": null,
            "_view_module": "@jupyter-widgets/base",
            "_view_module_version": "1.2.0",
            "_view_name": "StyleView",
            "description_width": ""
          }
        },
        "ef8fe5e319d24e8bafa5b1a16cd33171": {
          "model_module": "@jupyter-widgets/controls",
          "model_module_version": "1.5.0",
          "model_name": "ProgressStyleModel",
          "state": {
            "_model_module": "@jupyter-widgets/controls",
            "_model_module_version": "1.5.0",
            "_model_name": "ProgressStyleModel",
            "_view_count": null,
            "_view_module": "@jupyter-widgets/base",
            "_view_module_version": "1.2.0",
            "_view_name": "StyleView",
            "bar_color": null,
            "description_width": ""
          }
        },
        "f095c1c59ccc4b05a82c639ae1f7c1ce": {
          "model_module": "@jupyter-widgets/base",
          "model_module_version": "1.2.0",
          "model_name": "LayoutModel",
          "state": {
            "_model_module": "@jupyter-widgets/base",
            "_model_module_version": "1.2.0",
            "_model_name": "LayoutModel",
            "_view_count": null,
            "_view_module": "@jupyter-widgets/base",
            "_view_module_version": "1.2.0",
            "_view_name": "LayoutView",
            "align_content": null,
            "align_items": null,
            "align_self": null,
            "border": null,
            "bottom": null,
            "display": null,
            "flex": null,
            "flex_flow": null,
            "grid_area": null,
            "grid_auto_columns": null,
            "grid_auto_flow": null,
            "grid_auto_rows": null,
            "grid_column": null,
            "grid_gap": null,
            "grid_row": null,
            "grid_template_areas": null,
            "grid_template_columns": null,
            "grid_template_rows": null,
            "height": null,
            "justify_content": null,
            "justify_items": null,
            "left": null,
            "margin": null,
            "max_height": null,
            "max_width": null,
            "min_height": null,
            "min_width": null,
            "object_fit": null,
            "object_position": null,
            "order": null,
            "overflow": null,
            "overflow_x": null,
            "overflow_y": null,
            "padding": null,
            "right": null,
            "top": null,
            "visibility": null,
            "width": null
          }
        },
        "f2cd6ba6995b49f88e3e8f5294510ec9": {
          "model_module": "@jupyter-widgets/controls",
          "model_module_version": "1.5.0",
          "model_name": "LabelModel",
          "state": {
            "_dom_classes": [],
            "_model_module": "@jupyter-widgets/controls",
            "_model_module_version": "1.5.0",
            "_model_name": "LabelModel",
            "_view_count": null,
            "_view_module": "@jupyter-widgets/controls",
            "_view_module_version": "1.5.0",
            "_view_name": "LabelView",
            "description": "",
            "description_tooltip": null,
            "layout": "IPY_MODEL_f095c1c59ccc4b05a82c639ae1f7c1ce",
            "placeholder": "​",
            "style": "IPY_MODEL_ea5b2a05a0fa447b9a50b419942b7e76",
            "value": "0.361 MB of 0.361 MB uploaded (0.000 MB deduped)\r"
          }
        },
        "f4fbc7fa8d6e4d1489971a3cb0791195": {
          "model_module": "@jupyter-widgets/controls",
          "model_module_version": "1.5.0",
          "model_name": "DescriptionStyleModel",
          "state": {
            "_model_module": "@jupyter-widgets/controls",
            "_model_module_version": "1.5.0",
            "_model_name": "DescriptionStyleModel",
            "_view_count": null,
            "_view_module": "@jupyter-widgets/base",
            "_view_module_version": "1.2.0",
            "_view_name": "StyleView",
            "description_width": ""
          }
        },
        "f6718eb6c0124391bd47deaa32bff540": {
          "model_module": "@jupyter-widgets/controls",
          "model_module_version": "1.5.0",
          "model_name": "ProgressStyleModel",
          "state": {
            "_model_module": "@jupyter-widgets/controls",
            "_model_module_version": "1.5.0",
            "_model_name": "ProgressStyleModel",
            "_view_count": null,
            "_view_module": "@jupyter-widgets/base",
            "_view_module_version": "1.2.0",
            "_view_name": "StyleView",
            "bar_color": null,
            "description_width": ""
          }
        },
        "f6a3e2730fe54611bf903f70aa52e9b3": {
          "model_module": "@jupyter-widgets/controls",
          "model_module_version": "1.5.0",
          "model_name": "HBoxModel",
          "state": {
            "_dom_classes": [],
            "_model_module": "@jupyter-widgets/controls",
            "_model_module_version": "1.5.0",
            "_model_name": "HBoxModel",
            "_view_count": null,
            "_view_module": "@jupyter-widgets/controls",
            "_view_module_version": "1.5.0",
            "_view_name": "HBoxView",
            "box_style": "",
            "children": [
              "IPY_MODEL_5c98272e2bbc46cf9787da698194fdb9",
              "IPY_MODEL_9dca557a9e9e49aba0affbf8d5f1867d",
              "IPY_MODEL_8c35a82f37314e8bba896c2feb1e2332"
            ],
            "layout": "IPY_MODEL_6825a41cd338481187a237c9fb3f9faa"
          }
        },
        "f72f9e327e374f8b89279d9f54a329f7": {
          "model_module": "@jupyter-widgets/controls",
          "model_module_version": "1.5.0",
          "model_name": "FloatProgressModel",
          "state": {
            "_dom_classes": [],
            "_model_module": "@jupyter-widgets/controls",
            "_model_module_version": "1.5.0",
            "_model_name": "FloatProgressModel",
            "_view_count": null,
            "_view_module": "@jupyter-widgets/controls",
            "_view_module_version": "1.5.0",
            "_view_name": "ProgressView",
            "bar_style": "success",
            "description": "",
            "description_tooltip": null,
            "layout": "IPY_MODEL_07d3838ce530495989569a2e743a49e7",
            "max": 112,
            "min": 0,
            "orientation": "horizontal",
            "style": "IPY_MODEL_d601bc8a70564fdf82510461707cef03",
            "value": 112
          }
        }
      }
    }
  },
  "nbformat": 4,
  "nbformat_minor": 5
}
