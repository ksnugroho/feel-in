{
  "cells": [
    {
      "cell_type": "markdown",
      "metadata": {
        "colab_type": "text",
        "id": "view-in-github"
      },
      "source": [
        "<a href=\"https://colab.research.google.com/github/ksnugroho/feel-in/blob/main/model-baseline-bert/05_BERT_fine_tuning_base.ipynb\" target=\"_parent\"><img src=\"https://colab.research.google.com/assets/colab-badge.svg\" alt=\"Open In Colab\"/></a>"
      ]
    },
    {
      "cell_type": "markdown",
      "id": "fK3gIPxS6Wbw",
      "metadata": {
        "id": "fK3gIPxS6Wbw"
      },
      "source": [
        "# **BERT Fine Tuning: BERT Base (Uncased)**\n",
        "\n",
        "**Thesis: Emotion Detection in Indonesian Text**\n",
        "\n",
        "Kuncahyo Setyo Nugroho<br>\n",
        "Supervisor:\n",
        "1. Dr. Eng. Fitra A. Bachtiar, S.T., M.Eng.\n",
        "2. Prof. Ir. Wayan Firdaus Mahmudy, S.Si., M.T., Ph.D.\n",
        "\n",
        "Faculty of Computer Science, Brawijaya University, Indonesia &copy; 2021-2022"
      ]
    },
    {
      "cell_type": "markdown",
      "id": "5e9bd0fc-0b80-4ad2-a930-e9de97552ecc",
      "metadata": {
        "id": "5e9bd0fc-0b80-4ad2-a930-e9de97552ecc"
      },
      "source": [
        "# 01 Setup"
      ]
    },
    {
      "cell_type": "code",
      "execution_count": null,
      "id": "c4L_rfEaIRyU",
      "metadata": {
        "colab": {
          "base_uri": "https://localhost:8080/"
        },
        "id": "c4L_rfEaIRyU",
        "outputId": "5dcc0439-5534-4f8b-e84f-168ee92e0518"
      },
      "outputs": [
        {
          "name": "stdout",
          "output_type": "stream",
          "text": [
            "Mounted at /content/drive\n"
          ]
        }
      ],
      "source": [
        "from google.colab import drive\n",
        "drive.mount('/content/drive', force_remount=True)"
      ]
    },
    {
      "cell_type": "code",
      "execution_count": null,
      "id": "g2mJAf9KIUOW",
      "metadata": {
        "colab": {
          "base_uri": "https://localhost:8080/"
        },
        "id": "g2mJAf9KIUOW",
        "outputId": "e979d269-4204-43d7-adde-d9bb1fa50f75"
      },
      "outputs": [],
      "source": [
        "%cd /content/drive/MyDrive/"
      ]
    },
    {
      "cell_type": "code",
      "execution_count": null,
      "id": "p6N3DanHIhKI",
      "metadata": {
        "colab": {
          "base_uri": "https://localhost:8080/"
        },
        "id": "p6N3DanHIhKI",
        "outputId": "297cc8f3-ad14-4a7b-e5c4-5c898400a054"
      },
      "outputs": [
        {
          "name": "stdout",
          "output_type": "stream",
          "text": [
            "\u001b[K     |████████████████████████████████| 4.4 MB 8.0 MB/s \n",
            "\u001b[K     |████████████████████████████████| 1.1 MB 56.1 MB/s \n",
            "\u001b[K     |████████████████████████████████| 101 kB 14.4 MB/s \n",
            "\u001b[K     |████████████████████████████████| 596 kB 96.7 MB/s \n",
            "\u001b[K     |████████████████████████████████| 6.6 MB 77.4 MB/s \n",
            "\u001b[?25h"
          ]
        }
      ],
      "source": [
        "!pip install -q transformers tensorflow-addons"
      ]
    },
    {
      "cell_type": "code",
      "execution_count": null,
      "id": "991ebc5e-f3d2-41b1-b81f-e814a9739113",
      "metadata": {
        "id": "991ebc5e-f3d2-41b1-b81f-e814a9739113"
      },
      "outputs": [],
      "source": [
        "import re\n",
        "import os\n",
        "import datetime\n",
        "import numpy as np\n",
        "import pandas as pd\n",
        "import matplotlib.pyplot as plt\n",
        "import seaborn as sns\n",
        "\n",
        "from itertools import cycle\n",
        "from sklearn.preprocessing import LabelEncoder, label_binarize\n",
        "from sklearn.model_selection import train_test_split\n",
        "from sklearn.metrics import roc_curve, auc, confusion_matrix, classification_report\n",
        "\n",
        "import transformers\n",
        "from transformers import BertTokenizer, BertConfig, TFBertModel\n",
        "\n",
        "import tensorflow as tf\n",
        "import tensorflow_addons as tfa\n",
        "from tensorflow.keras.utils import to_categorical, plot_model\n",
        "from tensorflow_addons.optimizers import AdamW\n",
        "from tensorflow.keras.losses import CategoricalCrossentropy\n",
        "from tensorflow.keras.callbacks import EarlyStopping, ModelCheckpoint, TensorBoard\n",
        "\n",
        "from tqdm import tqdm\n",
        "tqdm.pandas()\n",
        "\n",
        "import warnings\n",
        "warnings.filterwarnings('ignore')\n",
        "\n",
        "SEED = 50\n",
        "\n",
        "# Tentukan pre-trained model yang akan digunakan untuk fine-tuning\n",
        "# Daftar model https://huggingface.co\n",
        "\n",
        "PRE_TRAINED_MODEL = 'bert-base-uncased'  # https://huggingface.co/bert-base-uncased\n",
        "MODEL = PRE_TRAINED_MODEL.replace('/', '-')\n",
        "FOLDER_PATH = 'model-baseline-bert'\n",
        "\n",
        "np.random.seed(SEED)\n",
        "tf.random.set_seed(SEED)\n",
        "colors = plt.rcParams['axes.prop_cycle'].by_key()['color']\n",
        "\n",
        "%matplotlib inline"
      ]
    },
    {
      "cell_type": "code",
      "execution_count": null,
      "id": "df61f621-d3df-4382-b3cb-b8831bba3635",
      "metadata": {
        "colab": {
          "base_uri": "https://localhost:8080/"
        },
        "id": "df61f621-d3df-4382-b3cb-b8831bba3635",
        "outputId": "ffaf142e-00c8-4e95-9002-ee75b459296d"
      },
      "outputs": [
        {
          "name": "stdout",
          "output_type": "stream",
          "text": [
            "Tensorflow: 2.8.2\n",
            "Tensorflow addons: 0.17.1\n",
            "Transformers: 4.20.1\n"
          ]
        }
      ],
      "source": [
        "print('Tensorflow:', tf.__version__)\n",
        "print('Tensorflow addons:',tfa.__version__)\n",
        "print('Transformers:', transformers.__version__)"
      ]
    },
    {
      "cell_type": "code",
      "execution_count": null,
      "id": "WJ79Jte5EbdK",
      "metadata": {
        "colab": {
          "base_uri": "https://localhost:8080/"
        },
        "id": "WJ79Jte5EbdK",
        "outputId": "ca9de724-0c90-40a3-a9cb-e4dffe19a1e4"
      },
      "outputs": [
        {
          "name": "stdout",
          "output_type": "stream",
          "text": [
            "\u001b[K     |████████████████████████████████| 1.8 MB 9.7 MB/s \n",
            "\u001b[K     |████████████████████████████████| 147 kB 89.6 MB/s \n",
            "\u001b[K     |████████████████████████████████| 181 kB 79.2 MB/s \n",
            "\u001b[K     |████████████████████████████████| 63 kB 1.8 MB/s \n",
            "\u001b[?25h  Building wheel for pathtools (setup.py) ... \u001b[?25l\u001b[?25hdone\n"
          ]
        }
      ],
      "source": [
        "!pip install -q wandb"
      ]
    },
    {
      "cell_type": "code",
      "execution_count": null,
      "id": "rJJ3XjcZEdFM",
      "metadata": {
        "colab": {
          "base_uri": "https://localhost:8080/"
        },
        "id": "rJJ3XjcZEdFM",
        "outputId": "578b3627-7a1f-4725-c4b9-d55133e6f5fd"
      },
      "outputs": [
        {
          "name": "stderr",
          "output_type": "stream",
          "text": [
            "\u001b[34m\u001b[1mwandb\u001b[0m: W&B API key is configured. Use \u001b[1m`wandb login --relogin`\u001b[0m to force relogin\n",
            "\u001b[34m\u001b[1mwandb\u001b[0m: \u001b[33mWARNING\u001b[0m If you're specifying your api key in code, ensure this code is not shared publicly.\n",
            "\u001b[34m\u001b[1mwandb\u001b[0m: \u001b[33mWARNING\u001b[0m Consider setting the WANDB_API_KEY environment variable, or running `wandb login` from the command line.\n",
            "\u001b[34m\u001b[1mwandb\u001b[0m: Appending key for api.wandb.ai to your netrc file: /root/.netrc\n"
          ]
        },
        {
          "data": {
            "text/plain": [
              "True"
            ]
          },
          "execution_count": 7,
          "metadata": {},
          "output_type": "execute_result"
        }
      ],
      "source": [
        "import wandb\n",
        "from wandb.keras import WandbCallback\n",
        "\n",
        "wandb.login(key='API_KEY')"
      ]
    },
    {
      "cell_type": "code",
      "execution_count": null,
      "id": "vBrj9cNcDnWI",
      "metadata": {
        "colab": {
          "base_uri": "https://localhost:8080/"
        },
        "id": "vBrj9cNcDnWI",
        "outputId": "f68f5a6a-9cc7-4e9c-dfb1-a29cb1807c4a"
      },
      "outputs": [
        {
          "name": "stdout",
          "output_type": "stream",
          "text": [
            "07-15-2022-18:26\n"
          ]
        }
      ],
      "source": [
        "TODAY = datetime.datetime.now().strftime(\"%m-%d-%Y-%H:%M\")\n",
        "print(TODAY)"
      ]
    },
    {
      "cell_type": "markdown",
      "id": "e0cdcc2e-0087-4e50-a3a2-bf19545342be",
      "metadata": {
        "id": "e0cdcc2e-0087-4e50-a3a2-bf19545342be"
      },
      "source": [
        "# 02 Load Data"
      ]
    },
    {
      "cell_type": "code",
      "execution_count": null,
      "id": "49c107be-7ee7-4ae0-b479-b8bef225e606",
      "metadata": {
        "colab": {
          "base_uri": "https://localhost:8080/"
        },
        "id": "49c107be-7ee7-4ae0-b479-b8bef225e606",
        "outputId": "08128167-9441-47b8-eb04-f13adbc54117",
        "tags": []
      },
      "outputs": [
        {
          "name": "stdout",
          "output_type": "stream",
          "text": [
            "                                               tweet    label\n",
            "0        wah belom liat muka gue lagi murka hahahaha      joy\n",
            "1  Mungkin kurang piknik adrenalin. Mereka yg ske...    anger\n",
            "2  maaf kalo tersinggung \"orang kurus cepet mati\"...    anger\n",
            "3  berserah pada maha esa paling tabah dan sabar ...      joy\n",
            "4                       Ehekk malu la hahahahahahaha  sadness\n"
          ]
        }
      ],
      "source": [
        "df = pd.read_csv('data/final-tweet-anotasi.csv', index_col=0)\n",
        "# df = df.sample(frac=1, random_state=SEED).reset_index(drop=True)   # For shuffle\n",
        "print(df.head())"
      ]
    },
    {
      "cell_type": "code",
      "execution_count": null,
      "id": "K0YuhMKvI5LO",
      "metadata": {
        "id": "K0YuhMKvI5LO"
      },
      "outputs": [],
      "source": [
        "# df = df.dropna()"
      ]
    },
    {
      "cell_type": "code",
      "execution_count": null,
      "id": "OaYdDlkBKj2z",
      "metadata": {
        "colab": {
          "base_uri": "https://localhost:8080/"
        },
        "id": "OaYdDlkBKj2z",
        "outputId": "94108884-a436-4c94-8090-7415c0580725"
      },
      "outputs": [
        {
          "data": {
            "text/plain": [
              "(2243, 2)"
            ]
          },
          "execution_count": 11,
          "metadata": {},
          "output_type": "execute_result"
        }
      ],
      "source": [
        "df.shape"
      ]
    },
    {
      "cell_type": "code",
      "execution_count": null,
      "id": "504fb63d-89ec-4fbc-93d5-19ff943dcccf",
      "metadata": {
        "id": "504fb63d-89ec-4fbc-93d5-19ff943dcccf"
      },
      "outputs": [],
      "source": [
        "# Copy data\n",
        "df_raw = df.copy()"
      ]
    },
    {
      "cell_type": "code",
      "execution_count": null,
      "id": "ibzYUH9NDtk2",
      "metadata": {
        "colab": {
          "base_uri": "https://localhost:8080/",
          "height": 456
        },
        "id": "ibzYUH9NDtk2",
        "outputId": "f35e9ea5-65b5-4c37-f6e0-7b913c86b33d"
      },
      "outputs": [
        {
          "data": {
            "image/png": "[encoded data removed]",
            "text/plain": [
              "<Figure size 576x360 with 1 Axes>"
            ]
          },
          "metadata": {
            "needs_background": "light"
          },
          "output_type": "display_data"
        },
        {
          "data": {
            "text/plain": [
              "anger       475\n",
              "disgust     355\n",
              "fear        395\n",
              "joy         429\n",
              "sadness     303\n",
              "surprise    286\n",
              "Name: label, dtype: int64"
            ]
          },
          "execution_count": 13,
          "metadata": {},
          "output_type": "execute_result"
        }
      ],
      "source": [
        "plt.figure(figsize=(8, 5))\n",
        "sns.countplot(x='label', data=df, order=df['label'].value_counts().index)\n",
        "plt.xlabel('Distribution of Emotion Label')\n",
        "plt.show()\n",
        "\n",
        "df['label'].value_counts().sort_index()"
      ]
    },
    {
      "cell_type": "markdown",
      "id": "1d86ba6e-a227-4cb5-8ea2-a0abc90cf41f",
      "metadata": {
        "id": "1d86ba6e-a227-4cb5-8ea2-a0abc90cf41f"
      },
      "source": [
        "# 03 Preprocessing"
      ]
    },
    {
      "cell_type": "markdown",
      "id": "ySuAUGMND8dU",
      "metadata": {
        "id": "ySuAUGMND8dU"
      },
      "source": [
        "## Text Cleaning"
      ]
    },
    {
      "cell_type": "code",
      "execution_count": null,
      "id": "80b62680-29bf-4e02-9365-504922a54885",
      "metadata": {
        "id": "80b62680-29bf-4e02-9365-504922a54885"
      },
      "outputs": [],
      "source": [
        "def text_cleaning(text):\n",
        "    text = text.lower()                               # Mengubah teks menjadi lower case\n",
        "    text = re.sub(r'https?://\\S+|www\\.\\S+', '', text) # Menghapus URL\n",
        "    text = re.sub(r'[-+]?[0-9]+', '', text)           # Menghapus angka\n",
        "    text = re.sub(r'[^\\w\\s]','', text)                # Menghapus karakter tanda baca\n",
        "    text = text.strip()                               # Menghapus whitespaces\n",
        "    return text"
      ]
    },
    {
      "cell_type": "code",
      "execution_count": null,
      "id": "09ccca8e-6dc0-4061-8315-7e32c581a9ac",
      "metadata": {
        "colab": {
          "base_uri": "https://localhost:8080/"
        },
        "id": "09ccca8e-6dc0-4061-8315-7e32c581a9ac",
        "outputId": "dd9be15e-934e-4ab3-8d9e-10708f77a86e"
      },
      "outputs": [
        {
          "name": "stderr",
          "output_type": "stream",
          "text": [
            "100%|██████████| 2243/2243 [00:00<00:00, 76919.12it/s]"
          ]
        },
        {
          "name": "stdout",
          "output_type": "stream",
          "text": [
            "CPU times: user 35.3 ms, sys: 0 ns, total: 35.3 ms\n",
            "Wall time: 34.1 ms\n"
          ]
        },
        {
          "name": "stderr",
          "output_type": "stream",
          "text": [
            "\n"
          ]
        }
      ],
      "source": [
        "%%time \n",
        "df['tweet'] = df['tweet'].progress_apply(text_cleaning)"
      ]
    },
    {
      "cell_type": "markdown",
      "id": "Jl8B8ViHD9_K",
      "metadata": {
        "id": "Jl8B8ViHD9_K"
      },
      "source": [
        "## Label Encoder"
      ]
    },
    {
      "cell_type": "code",
      "execution_count": null,
      "id": "ItHDBAOUD_w3",
      "metadata": {
        "colab": {
          "base_uri": "https://localhost:8080/"
        },
        "id": "ItHDBAOUD_w3",
        "outputId": "493bc2c6-6472-40c2-d3d5-91719f23481a"
      },
      "outputs": [
        {
          "name": "stdout",
          "output_type": "stream",
          "text": [
            "                                               tweet    label  label_encode\n",
            "0        wah belom liat muka gue lagi murka hahahaha      joy             3\n",
            "1  mungkin kurang piknik adrenalin mereka yg skep...    anger             0\n",
            "2  maaf kalo tersinggung orang kurus cepet mati w...    anger             0\n",
            "3  berserah pada maha esa paling tabah dan sabar ...      joy             3\n",
            "4                       ehekk malu la hahahahahahaha  sadness             4\n"
          ]
        }
      ],
      "source": [
        "le = LabelEncoder()\n",
        "\n",
        "df['label_encode'] = le.fit_transform(df['label'])\n",
        "print(df.head())"
      ]
    },
    {
      "cell_type": "code",
      "execution_count": null,
      "id": "bjIwbWZeEAwu",
      "metadata": {
        "colab": {
          "base_uri": "https://localhost:8080/"
        },
        "id": "bjIwbWZeEAwu",
        "outputId": "beff6398-6c36-4520-c6ea-9f4342e89153"
      },
      "outputs": [
        {
          "name": "stdout",
          "output_type": "stream",
          "text": [
            "{'anger': 0, 'disgust': 1, 'fear': 2, 'joy': 3, 'sadness': 4, 'surprise': 5}\n"
          ]
        }
      ],
      "source": [
        "le_mapping = dict(zip(le.classes_, le.transform(le.classes_)))\n",
        "print(le_mapping)"
      ]
    },
    {
      "cell_type": "code",
      "execution_count": null,
      "id": "7y0Xig8wEB38",
      "metadata": {
        "colab": {
          "base_uri": "https://localhost:8080/"
        },
        "id": "7y0Xig8wEB38",
        "outputId": "9e3e01d5-b46d-4891-e7c6-2ff91dc9afdf"
      },
      "outputs": [
        {
          "name": "stdout",
          "output_type": "stream",
          "text": [
            "['anger' 'disgust' 'fear' 'joy' 'sadness' 'surprise']\n"
          ]
        }
      ],
      "source": [
        "LABEL_NAME = le.classes_\n",
        "print(LABEL_NAME)"
      ]
    },
    {
      "cell_type": "markdown",
      "id": "Y0pcPELxEZ2T",
      "metadata": {
        "id": "Y0pcPELxEZ2T"
      },
      "source": [
        "# 04 Choosing Maximum Lenght of the Sequence"
      ]
    },
    {
      "cell_type": "code",
      "execution_count": null,
      "id": "rE0V9ZWOEe6N",
      "metadata": {
        "colab": {
          "base_uri": "https://localhost:8080/",
          "height": 334
        },
        "id": "rE0V9ZWOEe6N",
        "outputId": "1de4fb6f-4bda-4f36-b9e4-76cadc871ae0"
      },
      "outputs": [
        {
          "data": {
            "image/png": "[encoded data removed]",
            "text/plain": [
              "<Figure size 576x360 with 1 Axes>"
            ]
          },
          "metadata": {
            "needs_background": "light"
          },
          "output_type": "display_data"
        }
      ],
      "source": [
        "token_lens = []\n",
        "\n",
        "for text in df['tweet']:\n",
        "    tokens = text.split()\n",
        "    token_lens.append(len(tokens))\n",
        "\n",
        "plt.figure(figsize=(8, 5))\n",
        "sns.histplot(token_lens, kde=True, stat='density', linewidth=0)\n",
        "plt.xlim([0, 100]);\n",
        "plt.xlabel('Token count');"
      ]
    },
    {
      "cell_type": "code",
      "execution_count": null,
      "id": "mdemrg3WEg8c",
      "metadata": {
        "id": "mdemrg3WEg8c"
      },
      "outputs": [],
      "source": [
        "MAX_SEQ_LENGTH = 80"
      ]
    },
    {
      "cell_type": "markdown",
      "id": "dcaf1af3-243c-45f3-9f2d-8620111cca43",
      "metadata": {
        "id": "dcaf1af3-243c-45f3-9f2d-8620111cca43"
      },
      "source": [
        "# 05 Train & Test Data Splitting"
      ]
    },
    {
      "cell_type": "code",
      "execution_count": null,
      "id": "xWOkDLdbhH_o",
      "metadata": {
        "id": "xWOkDLdbhH_o"
      },
      "outputs": [],
      "source": [
        "NUM_CLASS = len(df['label_encode'].unique())\n",
        "\n",
        "X = df['tweet']\n",
        "y = to_categorical(df['label_encode'], num_classes=NUM_CLASS, dtype='float64')  # Lakukan one-hot encoding pada label (y)"
      ]
    },
    {
      "cell_type": "code",
      "execution_count": null,
      "id": "EeSa6GgPIiBn",
      "metadata": {
        "colab": {
          "base_uri": "https://localhost:8080/"
        },
        "id": "EeSa6GgPIiBn",
        "outputId": "4cad380d-a3dd-49cd-d251-193e7846523c"
      },
      "outputs": [
        {
          "data": {
            "text/plain": [
              "array([[0., 0., 0., 1., 0., 0.],\n",
              "       [1., 0., 0., 0., 0., 0.],\n",
              "       [1., 0., 0., 0., 0., 0.],\n",
              "       ...,\n",
              "       [0., 0., 0., 0., 0., 1.],\n",
              "       [0., 0., 0., 1., 0., 0.],\n",
              "       [1., 0., 0., 0., 0., 0.]])"
            ]
          },
          "execution_count": 22,
          "metadata": {},
          "output_type": "execute_result"
        }
      ],
      "source": [
        "y"
      ]
    },
    {
      "cell_type": "code",
      "execution_count": null,
      "id": "253e89b8-d884-453a-a7b5-0bf54f91e2df",
      "metadata": {
        "colab": {
          "base_uri": "https://localhost:8080/"
        },
        "id": "253e89b8-d884-453a-a7b5-0bf54f91e2df",
        "outputId": "699d5b8e-c12a-4ee9-cdbe-3f651c6c2627"
      },
      "outputs": [
        {
          "data": {
            "text/plain": [
              "((1794,), (449,), (1794, 6), (449, 6))"
            ]
          },
          "execution_count": 23,
          "metadata": {},
          "output_type": "execute_result"
        }
      ],
      "source": [
        "X_train, X_test, y_train, y_test = train_test_split(X, y, test_size=0.20, stratify=y, random_state=SEED)\n",
        "X_train.shape, X_test.shape, y_train.shape, y_test.shape"
      ]
    },
    {
      "cell_type": "markdown",
      "id": "ab09f872-84db-4dc6-b713-4644c7103ac3",
      "metadata": {
        "id": "ab09f872-84db-4dc6-b713-4644c7103ac3"
      },
      "source": [
        "# 06 Preparing Data for BERT Input"
      ]
    },
    {
      "cell_type": "markdown",
      "id": "yBDB97_M5QZ7",
      "metadata": {
        "id": "yBDB97_M5QZ7"
      },
      "source": [
        "## Load Pre Trained BERT Tokenizer"
      ]
    },
    {
      "cell_type": "code",
      "execution_count": null,
      "id": "e128a851-f419-4ecd-b3ab-4673dfbde62e",
      "metadata": {
        "colab": {
          "base_uri": "https://localhost:8080/",
          "height": 113,
          "referenced_widgets": [
            "58591ee0701c48778567c07a7e3f7fa1",
            "2dbbffbe865c48a390c738805b6a87fa",
            "adeeb5c4dc0a4e419ae7ee98280c2030",
            "fffad02bd224405d9df8e37db4b38b37",
            "8edfd5f922794dfab2f73ef129e5e535",
            "42de03761d794251a214d5676df817ec",
            "6732b7b371884d24a0f2fbccb0d7a691",
            "d5c7c2d048cf4baba5ea923fa42cbd04",
            "758978c0f25e4cf7a6cb398ebb2e123e",
            "03af3a66d249447f87be1f3e51d819f7",
            "fdb2e22d3f324155b017352b5def39a3",
            "37e0d71bb8814c37a02c131e37fd5e9a",
            "aaa0b49a018144bdad259a5551825e6a",
            "aa5246a369114be19401e00377e68fd3",
            "2fb680e0634c4b5cad589f49f6139f98",
            "71e67017cc244fc889297454fdf77e63",
            "0857227d75ca4e139088a37ec4d98a91",
            "f94b8a34b4a446088068a2de80ef9fd2",
            "828177f1899c4f3b974206af22fea29d",
            "94d04cf78ffc430facc7300dd740fae2",
            "b837b56ef54f42c7a8679b8b7d23347a",
            "14391857bccf4e87b99825e6ee381920",
            "56f9845f87c34026b2f7c0f1596ff987",
            "de3f1b3114c6458baf42d049915f87bb",
            "56071f2d1c3442e1950d9a2225537b2a",
            "f9117686cc604209aa37ba1c73c2619c",
            "86e2b9a482a94bdba35ce5e1362d254c",
            "4f5063b305f842138c21113acaf5d1f4",
            "c2ea870cf10a40dd8e2297df5ce6f2a2",
            "1825f5a61bd149f4b3c8e5e0bd4bc7dc",
            "5c53ea76ad6142408796eb93233d3a1d",
            "dded4d5b4762475eab05ce0fdbcc4df2",
            "e3efc7660dea4b5f936817d1793e268c"
          ]
        },
        "id": "e128a851-f419-4ecd-b3ab-4673dfbde62e",
        "outputId": "26bcb38f-ffd6-4b55-c02c-f421dd51cff3"
      },
      "outputs": [
        {
          "data": {
            "application/vnd.jupyter.widget-view+json": {
              "model_id": "58591ee0701c48778567c07a7e3f7fa1",
              "version_major": 2,
              "version_minor": 0
            },
            "text/plain": [
              "Downloading:   0%|          | 0.00/226k [00:00<?, ?B/s]"
            ]
          },
          "metadata": {},
          "output_type": "display_data"
        },
        {
          "data": {
            "application/vnd.jupyter.widget-view+json": {
              "model_id": "37e0d71bb8814c37a02c131e37fd5e9a",
              "version_major": 2,
              "version_minor": 0
            },
            "text/plain": [
              "Downloading:   0%|          | 0.00/28.0 [00:00<?, ?B/s]"
            ]
          },
          "metadata": {},
          "output_type": "display_data"
        },
        {
          "data": {
            "application/vnd.jupyter.widget-view+json": {
              "model_id": "56f9845f87c34026b2f7c0f1596ff987",
              "version_major": 2,
              "version_minor": 0
            },
            "text/plain": [
              "Downloading:   0%|          | 0.00/570 [00:00<?, ?B/s]"
            ]
          },
          "metadata": {},
          "output_type": "display_data"
        }
      ],
      "source": [
        "bert_tokenizer = BertTokenizer.from_pretrained(PRE_TRAINED_MODEL)  # Load tokenizer dari pre-trained model"
      ]
    },
    {
      "cell_type": "code",
      "execution_count": null,
      "id": "f2dc357a-b8ea-469a-9868-3efb9a1b5bde",
      "metadata": {
        "colab": {
          "base_uri": "https://localhost:8080/"
        },
        "id": "f2dc357a-b8ea-469a-9868-3efb9a1b5bde",
        "outputId": "8bc2430d-3036-4874-9270-2a226cd5b446"
      },
      "outputs": [],
      "source": [
        "# Lihat vocabulary dari pre-trained model yang telah di load sebelumnya\n",
        "vocabulary = bert_tokenizer.get_vocab()\n",
        "\n",
        "print(vocabulary)\n",
        "print('Panjang vocabulary:', len(vocabulary))"
      ]
    },
    {
      "cell_type": "markdown",
      "id": "9799bcf3-d621-4a98-af9b-96f6b171fe71",
      "metadata": {
        "id": "9799bcf3-d621-4a98-af9b-96f6b171fe71"
      },
      "source": [
        "## BERT Input Formatting"
      ]
    },
    {
      "cell_type": "code",
      "execution_count": null,
      "id": "105baf4e-02f5-45fe-a7fb-895da9200ca2",
      "metadata": {
        "colab": {
          "base_uri": "https://localhost:8080/"
        },
        "id": "105baf4e-02f5-45fe-a7fb-895da9200ca2",
        "outputId": "a01b8c20-22ec-4798-f1c4-99142a16e932",
        "tags": []
      },
      "outputs": [
        {
          "data": {
            "text/plain": [
              "dict_keys(['input_ids', 'token_type_ids', 'attention_mask'])"
            ]
          },
          "execution_count": 26,
          "metadata": {},
          "output_type": "execute_result"
        }
      ],
      "source": [
        "id_data = 5 # Mengambil sampe data indeks ke-5 pada dataframe\n",
        "\n",
        "# Contoh input formatting untuk BERT. Input formating dapat menggunakan fungsi `encode_plus`\n",
        "bert_input = bert_tokenizer.encode_plus(\n",
        "    df.tweet[id_data],              # Sample kalimat                \n",
        "    add_special_tokens = True,      # Tambahkan token [CLS] pada awal kalimat dan token [SEP] pada akhir kalimat\n",
        "    padding = 'max_length',         # Tambahkan padding ke max_length menggunakan token [PAD] jika kalimat kurang dari max_length\n",
        "    truncation = 'longest_first',   # Truncate jika kalimat lebih dari max_length\n",
        "    max_length = 50,                # Tentukan max_length dari seluruh kalimat\n",
        "    return_attention_mask = True,   # Mengembalikan nilai attention mask\n",
        "    return_token_type_ids =True     # Mengembalikan nilai token type id (segment embedding)\n",
        "    )\n",
        "\n",
        "# Fungsi `encode_plus` mengembalikan 3 nilai: input_ids, token_type_ids, attention_mask\n",
        "bert_input.keys()"
      ]
    },
    {
      "cell_type": "code",
      "execution_count": null,
      "id": "5a66aa9e-b96e-4523-90c5-877b5a493475",
      "metadata": {
        "colab": {
          "base_uri": "https://localhost:8080/"
        },
        "id": "5a66aa9e-b96e-4523-90c5-877b5a493475",
        "outputId": "9dd9ba4d-9d0a-47b3-bb9e-4dcbbf83cde2"
      },
      "outputs": [
        {
          "name": "stdout",
          "output_type": "stream",
          "text": [
            "Kalimat\t\t: WKWKWKWK KESAL AKU BACANYA TAPI KOK SENYUM2\n",
            "Tokenizer\t: ['[CLS]', 'w', '##k', '##wk', '##wk', '##wk', 'ke', '##sal', 'ak', '##u', 'ba', '##can', '##ya', 'tap', '##i', 'ko', '##k', 'sen', '##yu', '##m', '[SEP]', '[PAD]', '[PAD]', '[PAD]', '[PAD]', '[PAD]', '[PAD]', '[PAD]', '[PAD]', '[PAD]', '[PAD]', '[PAD]', '[PAD]', '[PAD]', '[PAD]', '[PAD]', '[PAD]', '[PAD]', '[PAD]', '[PAD]', '[PAD]', '[PAD]', '[PAD]', '[PAD]', '[PAD]', '[PAD]', '[PAD]', '[PAD]', '[PAD]', '[PAD]']\n",
            "Input IDs\t: [101, 1059, 2243, 26291, 26291, 26291, 17710, 12002, 17712, 2226, 8670, 9336, 3148, 11112, 2072, 12849, 2243, 12411, 10513, 2213, 102, 0, 0, 0, 0, 0, 0, 0, 0, 0, 0, 0, 0, 0, 0, 0, 0, 0, 0, 0, 0, 0, 0, 0, 0, 0, 0, 0, 0, 0]\n",
            "Token Type IDs\t: [0, 0, 0, 0, 0, 0, 0, 0, 0, 0, 0, 0, 0, 0, 0, 0, 0, 0, 0, 0, 0, 0, 0, 0, 0, 0, 0, 0, 0, 0, 0, 0, 0, 0, 0, 0, 0, 0, 0, 0, 0, 0, 0, 0, 0, 0, 0, 0, 0, 0]\n",
            "Attention Mask\t: [1, 1, 1, 1, 1, 1, 1, 1, 1, 1, 1, 1, 1, 1, 1, 1, 1, 1, 1, 1, 1, 0, 0, 0, 0, 0, 0, 0, 0, 0, 0, 0, 0, 0, 0, 0, 0, 0, 0, 0, 0, 0, 0, 0, 0, 0, 0, 0, 0, 0]\n"
          ]
        }
      ],
      "source": [
        "print('Kalimat\\t\\t:', df_raw.tweet[id_data])                                            # Data asli\n",
        "print('Tokenizer\\t:', bert_tokenizer.convert_ids_to_tokens(bert_input['input_ids']))    # Hasil input formatting + tokenizer\n",
        "print('Input IDs\\t:', bert_input['input_ids'])                                          # Input IDs : indeks token pada vocabulary tokenizer\n",
        "print('Token Type IDs\\t:', bert_input['token_type_ids'])                                # Token type IDs : menunjukkan urutan kalimat pada sequence (segment embedding)\n",
        "print('Attention Mask\\t:', bert_input['attention_mask'])                                # Attention mask : mengembalikan nilai [0,1]. 1 artinya token yang di masking, 0 token yang tidak di masking (diabaikan)"
      ]
    },
    {
      "cell_type": "code",
      "execution_count": null,
      "id": "E3bKnVvWi0y2",
      "metadata": {
        "id": "E3bKnVvWi0y2"
      },
      "outputs": [],
      "source": [
        "# Buat fungsi untuk melakukan encode pada semua data\n",
        "def tokenize(data):\n",
        "    input_ids = []\n",
        "    attention_masks = []\n",
        "    \n",
        "    for i, text in tqdm(enumerate(data)):\n",
        "        tokens = bert_tokenizer.encode_plus(\n",
        "            text, \n",
        "            max_length=MAX_SEQ_LENGTH,\n",
        "            truncation='longest_first',\n",
        "            padding='max_length',\n",
        "            add_special_tokens=True, \n",
        "            return_attention_mask=True,\n",
        "            return_token_type_ids=False, \n",
        "            return_tensors='tf'\n",
        "          )   \n",
        "         \n",
        "        input_ids.append(np.asarray(tokens['input_ids']).reshape(MAX_SEQ_LENGTH,))\n",
        "        attention_masks.append(np.asarray(tokens['attention_mask']).reshape(MAX_SEQ_LENGTH,))\n",
        "\n",
        "    return (np.asarray(input_ids), np.asarray(attention_masks))"
      ]
    },
    {
      "cell_type": "code",
      "execution_count": null,
      "id": "lVd3CfmUjtaB",
      "metadata": {
        "colab": {
          "base_uri": "https://localhost:8080/"
        },
        "id": "lVd3CfmUjtaB",
        "outputId": "cd3d8fc6-e5d4-49ff-833d-f5dfbc9c0fd6"
      },
      "outputs": [
        {
          "name": "stderr",
          "output_type": "stream",
          "text": [
            "1794it [00:01, 1339.16it/s]\n",
            "449it [00:00, 1396.27it/s]\n"
          ]
        }
      ],
      "source": [
        "train_input_ids, train_attention_masks = tokenize(X_train)\n",
        "test_input_ids, test_attention_masks = tokenize(X_test)"
      ]
    },
    {
      "cell_type": "code",
      "execution_count": null,
      "id": "hMVnCtiuksmR",
      "metadata": {
        "colab": {
          "base_uri": "https://localhost:8080/"
        },
        "id": "hMVnCtiuksmR",
        "outputId": "4331dc67-96af-4d9e-ef4c-54839f1ab342"
      },
      "outputs": [
        {
          "data": {
            "text/plain": [
              "((1794, 80), (1794, 80), (449, 80), (449, 80))"
            ]
          },
          "execution_count": 30,
          "metadata": {},
          "output_type": "execute_result"
        }
      ],
      "source": [
        "train_input_ids.shape, train_attention_masks.shape, test_input_ids.shape, test_attention_masks.shape"
      ]
    },
    {
      "cell_type": "markdown",
      "id": "n2Wy6AXdmA8p",
      "metadata": {
        "id": "n2Wy6AXdmA8p"
      },
      "source": [
        "# 07 Define Model (BERT)"
      ]
    },
    {
      "cell_type": "markdown",
      "id": "rT2w8uq4mZqq",
      "metadata": {
        "id": "rT2w8uq4mZqq"
      },
      "source": [
        "## Load Pre-Trained BERT Model"
      ]
    },
    {
      "cell_type": "code",
      "execution_count": null,
      "id": "DnBidYYUAg6A",
      "metadata": {
        "colab": {
          "base_uri": "https://localhost:8080/",
          "height": 347,
          "referenced_widgets": [
            "e624fe6108234ddb924bc2bd06478e0e",
            "880ed6e7e8834a3ebccdcebb07949de9",
            "8eb79e0b7c26476f81331d8abfbd3c2a",
            "32d41b3a01ae41ce9163b4713f53f293",
            "06287184cc80404383f91052fe31915d",
            "a8c1344bc1d8448ea2a821d0993e1128",
            "4ba315abea3c4bdfb49c04235819cb12",
            "bb37794eda4b4d66a0b78250acd082f1",
            "df0473d9901644b3b4245b8c00fd001a",
            "a0e45331d35f4cec9c59c2ca3c5f090d",
            "fa02a0b264c0471b8bbaa3227622aaad"
          ]
        },
        "id": "DnBidYYUAg6A",
        "outputId": "74c05d4a-9c3d-4c82-cde4-4219958ed1c1"
      },
      "outputs": [
        {
          "data": {
            "application/vnd.jupyter.widget-view+json": {
              "model_id": "e624fe6108234ddb924bc2bd06478e0e",
              "version_major": 2,
              "version_minor": 0
            },
            "text/plain": [
              "Downloading:   0%|          | 0.00/511M [00:00<?, ?B/s]"
            ]
          },
          "metadata": {},
          "output_type": "display_data"
        },
        {
          "name": "stderr",
          "output_type": "stream",
          "text": [
            "Some layers from the model checkpoint at bert-base-uncased were not used when initializing TFBertModel: ['nsp___cls', 'mlm___cls']\n",
            "- This IS expected if you are initializing TFBertModel from the checkpoint of a model trained on another task or with another architecture (e.g. initializing a BertForSequenceClassification model from a BertForPreTraining model).\n",
            "- This IS NOT expected if you are initializing TFBertModel from the checkpoint of a model that you expect to be exactly identical (initializing a BertForSequenceClassification model from a BertForSequenceClassification model).\n",
            "All the layers of TFBertModel were initialized from the model checkpoint at bert-base-uncased.\n",
            "If your task is similar to the task the model of the checkpoint was trained on, you can already use TFBertModel for predictions without further training.\n"
          ]
        },
        {
          "name": "stdout",
          "output_type": "stream",
          "text": [
            "Model: \"tf_bert_model\"\n",
            "_________________________________________________________________\n",
            " Layer (type)                Output Shape              Param #   \n",
            "=================================================================\n",
            " bert (TFBertMainLayer)      multiple                  109482240 \n",
            "                                                                 \n",
            "=================================================================\n",
            "Total params: 109,482,240\n",
            "Trainable params: 109,482,240\n",
            "Non-trainable params: 0\n",
            "_________________________________________________________________\n"
          ]
        }
      ],
      "source": [
        "bert_config = BertConfig.from_pretrained(PRE_TRAINED_MODEL, output_hidden_states=True, num_labels=NUM_CLASS)\n",
        "bert = TFBertModel.from_pretrained(PRE_TRAINED_MODEL, config=bert_config)\n",
        "bert.summary()"
      ]
    },
    {
      "cell_type": "markdown",
      "id": "WkPNcJYGmdWh",
      "metadata": {
        "id": "WkPNcJYGmdWh"
      },
      "source": [
        "## Architecture"
      ]
    },
    {
      "cell_type": "code",
      "execution_count": null,
      "id": "jJSI_MWxA3eW",
      "metadata": {
        "id": "jJSI_MWxA3eW"
      },
      "outputs": [],
      "source": [
        "tf.keras.backend.clear_session()\n",
        "\n",
        "# Defining 2 input layers for input_ids and attn_masks\n",
        "input_ids = tf.keras.layers.Input(shape=(MAX_SEQ_LENGTH,), name='input_ids', dtype='int32')\n",
        "attn_mask = tf.keras.layers.Input(shape=(MAX_SEQ_LENGTH,), name='attention_mask', dtype='int32')\n",
        "\n",
        "# We access the transformer model within our bert object using the bert attribute (eg bert.bert instead of bert)\n",
        "# Access final activations (alread max-pooled) [1] 0 -> activation layer (3D), 1 -> pooled output layer (2D)\n",
        "bert_embedding = bert(input_ids, attention_mask=attn_mask)[1]  \n",
        "\n",
        "x = tf.keras.layers.Dense(512, activation='relu')(bert_embedding)\n",
        "x = tf.keras.layers.Dropout(0.5)(x)\n",
        "output_layer = tf.keras.layers.Dense(NUM_CLASS, activation='softmax', name='output_layer')(x)\n",
        "\n",
        "# Initialize model\n",
        "model = tf.keras.Model(inputs=[input_ids, attn_mask], outputs=output_layer)\n",
        "\n",
        "# Trainable=False to freeze bert layer for feature extraction (optional)\n",
        "model.layers[2].trainable = True"
      ]
    },
    {
      "cell_type": "code",
      "execution_count": null,
      "id": "OCBOPaPTBICA",
      "metadata": {
        "colab": {
          "base_uri": "https://localhost:8080/"
        },
        "id": "OCBOPaPTBICA",
        "outputId": "3c0a01a9-6f5c-416c-ba6e-4265f5ba3b17"
      },
      "outputs": [
        {
          "name": "stdout",
          "output_type": "stream",
          "text": [
            "Model: \"model\"\n",
            "__________________________________________________________________________________________________\n",
            " Layer (type)                   Output Shape         Param #     Connected to                     \n",
            "==================================================================================================\n",
            " input_ids (InputLayer)         [(None, 80)]         0           []                               \n",
            "                                                                                                  \n",
            " attention_mask (InputLayer)    [(None, 80)]         0           []                               \n",
            "                                                                                                  \n",
            " tf_bert_model (TFBertModel)    TFBaseModelOutputWi  109482240   ['input_ids[0][0]',              \n",
            "                                thPoolingAndCrossAt               'attention_mask[0][0]']         \n",
            "                                tentions(last_hidde                                               \n",
            "                                n_state=(None, 80,                                                \n",
            "                                768),                                                             \n",
            "                                 pooler_output=(Non                                               \n",
            "                                e, 768),                                                          \n",
            "                                 past_key_values=No                                               \n",
            "                                ne, hidden_states=(                                               \n",
            "                                (None, 80, 768),                                                  \n",
            "                                 (None, 80, 768),                                                 \n",
            "                                 (None, 80, 768),                                                 \n",
            "                                 (None, 80, 768),                                                 \n",
            "                                 (None, 80, 768),                                                 \n",
            "                                 (None, 80, 768),                                                 \n",
            "                                 (None, 80, 768),                                                 \n",
            "                                 (None, 80, 768),                                                 \n",
            "                                 (None, 80, 768),                                                 \n",
            "                                 (None, 80, 768),                                                 \n",
            "                                 (None, 80, 768),                                                 \n",
            "                                 (None, 80, 768),                                                 \n",
            "                                 (None, 80, 768)),                                                \n",
            "                                 attentions=None, c                                               \n",
            "                                ross_attentions=Non                                               \n",
            "                                e)                                                                \n",
            "                                                                                                  \n",
            " dense (Dense)                  (None, 512)          393728      ['tf_bert_model[0][14]']         \n",
            "                                                                                                  \n",
            " dropout (Dropout)              (None, 512)          0           ['dense[0][0]']                  \n",
            "                                                                                                  \n",
            " output_layer (Dense)           (None, 6)            3078        ['dropout[0][0]']                \n",
            "                                                                                                  \n",
            "==================================================================================================\n",
            "Total params: 109,879,046\n",
            "Trainable params: 109,879,046\n",
            "Non-trainable params: 0\n",
            "__________________________________________________________________________________________________\n"
          ]
        }
      ],
      "source": [
        "model.summary()"
      ]
    },
    {
      "cell_type": "code",
      "execution_count": null,
      "id": "2dZfl_4xBSgl",
      "metadata": {
        "colab": {
          "base_uri": "https://localhost:8080/",
          "height": 229
        },
        "id": "2dZfl_4xBSgl",
        "outputId": "1d611868-158e-4993-ab18-9f4faa92196d"
      },
      "outputs": [
        {
          "data": {
            "image/png": "[encoded data removed]",
            "text/plain": [
              "<IPython.core.display.Image object>"
            ]
          },
          "execution_count": 34,
          "metadata": {},
          "output_type": "execute_result"
        }
      ],
      "source": [
        "plot_model(model, show_shapes=True, show_layer_activations=True, show_dtype=False, dpi=90, to_file=f'{FOLDER_PATH}/model-plot/{MODEL}-model.png')"
      ]
    },
    {
      "cell_type": "markdown",
      "id": "l1GB60YFmrYr",
      "metadata": {
        "id": "l1GB60YFmrYr"
      },
      "source": [
        "## Compile"
      ]
    },
    {
      "cell_type": "code",
      "execution_count": null,
      "id": "snXwbgV1NRn0",
      "metadata": {
        "id": "snXwbgV1NRn0"
      },
      "outputs": [],
      "source": [
        "# https://www.tensorflow.org/api_docs/python/tf/keras/metrics\n",
        "\n",
        "METRICS = [\n",
        "           tf.keras.metrics.CategoricalAccuracy(name='accuracy'),\n",
        "           tf.keras.metrics.Precision(name='precision'),\n",
        "           tf.keras.metrics.Recall(name='recall'),\n",
        "]\n",
        "\n",
        "LEARNING_RATE = 2e-5 # Recommended learning rate (AdamW): [5e-5, 3e-5, 2e-5] in orginal paper"
      ]
    },
    {
      "cell_type": "code",
      "execution_count": null,
      "id": "6IQtndlVNU4j",
      "metadata": {
        "id": "6IQtndlVNU4j"
      },
      "outputs": [],
      "source": [
        "OPTIMIZER = AdamW(learning_rate=LEARNING_RATE, beta_1=0.8, beta_2=0.9, weight_decay=0.0001)\n",
        "LOSS_FUNCTION = CategoricalCrossentropy(name='categorical_crossentropy')\n",
        "\n",
        "model.compile(loss=LOSS_FUNCTION, optimizer=OPTIMIZER, metrics=METRICS)"
      ]
    },
    {
      "cell_type": "markdown",
      "id": "fN2EQ51pGGY1",
      "metadata": {
        "id": "fN2EQ51pGGY1"
      },
      "source": [
        "# 08 Early Stopping & Model Checkpoint"
      ]
    },
    {
      "cell_type": "code",
      "execution_count": null,
      "id": "8zSNXUoRGT8z",
      "metadata": {
        "id": "8zSNXUoRGT8z"
      },
      "outputs": [],
      "source": [
        "# Early stopping criteria\n",
        "early_stopping = EarlyStopping(monitor='val_loss', mode='auto', verbose=1, patience=5)\n",
        "\n",
        "# Path to model checkpoint\n",
        "checkpoint_dir = f'{FOLDER_PATH}/model-checkpoint/{MODEL}/cp.ckpt'\n",
        "model_checkpoint = ModelCheckpoint(checkpoint_dir, monitor='val_accuracy', save_weights_only=True, verbose=1, save_freq='epoch', save_best_only=True)"
      ]
    },
    {
      "cell_type": "code",
      "execution_count": null,
      "id": "aOAo9dieGYak",
      "metadata": {
        "colab": {
          "base_uri": "https://localhost:8080/"
        },
        "id": "aOAo9dieGYak",
        "outputId": "f4bd9335-5302-447b-c3b1-daf48847bd76"
      },
      "outputs": [
        {
          "name": "stdout",
          "output_type": "stream",
          "text": [
            "model-baseline-bert/model-log/bert-base-uncased/20220715-182641\n"
          ]
        }
      ],
      "source": [
        "# Path to model log\n",
        "log_dir = f'{FOLDER_PATH}/model-log/{MODEL}/' + datetime.datetime.now().strftime('%Y%m%d-%H%M%S')\n",
        "print(log_dir)"
      ]
    },
    {
      "cell_type": "markdown",
      "id": "MqkhywHwHmob",
      "metadata": {
        "id": "MqkhywHwHmob"
      },
      "source": [
        "Tensorflow Callback"
      ]
    },
    {
      "cell_type": "code",
      "execution_count": null,
      "id": "jQiRzldvGZzt",
      "metadata": {
        "id": "jQiRzldvGZzt"
      },
      "outputs": [],
      "source": [
        "tensorboard_callback = TensorBoard(log_dir=log_dir ,update_freq='epoch', histogram_freq=1, embeddings_freq=1)"
      ]
    },
    {
      "cell_type": "markdown",
      "id": "kO_3G0C-nSi4",
      "metadata": {
        "id": "kO_3G0C-nSi4"
      },
      "source": [
        "# 09 Training (Fine-Tuning)"
      ]
    },
    {
      "cell_type": "code",
      "execution_count": null,
      "id": "tJ87c7OuntP3",
      "metadata": {
        "id": "tJ87c7OuntP3"
      },
      "outputs": [],
      "source": [
        "EPOCHS = 4        # Recommended number of epochs: [2, 3, 4] in orginal paper\n",
        "BATCH_SIZE = 32   # Recommended batch size: [16, 32] in orginal paper\n",
        "\n",
        "# Config for wandb\n",
        "config = {\n",
        "    'type': 'baseline',\n",
        "    'model_architecture': 'BERT',\n",
        "    'dataset': 'indo-tweet-emotion',\n",
        "    'learning_rate': LEARNING_RATE,\n",
        "    'batch_size': BATCH_SIZE,\n",
        "    'epochs': EPOCHS,\n",
        "    'loss_function': LOSS_FUNCTION.name,\n",
        "    'optimizer': OPTIMIZER._name\n",
        "}"
      ]
    },
    {
      "cell_type": "code",
      "execution_count": null,
      "id": "cWka8B-5BSu-",
      "metadata": {
        "colab": {
          "base_uri": "https://localhost:8080/",
          "height": 755,
          "referenced_widgets": [
            "952eeed11d024c3f998f7f113a90c4bb",
            "860719664e554a689f016f057357dc73",
            "3bd8614eeae743c39b20ae9285dffc61",
            "8ee7369cc66a40bdb55214ee39d2b4f4",
            "171dd82c9d4544ed856a677b0b34fb51",
            "5938da8924664a0e9beace30c34d7f7f",
            "794e2f44ea50423cacb56c299f852bf6",
            "1a9f913661f44e34ad428a482a0d0613"
          ]
        },
        "id": "cWka8B-5BSu-",
        "outputId": "7238c514-d738-4cdd-a042-e7362ee757fd"
      },
      "outputs": [
        {
          "name": "stderr",
          "output_type": "stream",
          "text": [
            "\u001b[34m\u001b[1mwandb\u001b[0m: Currently logged in as: \u001b[33mindoemobert\u001b[0m. Use \u001b[1m`wandb login --relogin`\u001b[0m to force relogin\n"
          ]
        },
        {
          "data": {
            "text/html": [
              "Tracking run with wandb version 0.12.21"
            ],
            "text/plain": [
              "<IPython.core.display.HTML object>"
            ]
          },
          "metadata": {},
          "output_type": "display_data"
        },
        {
          "data": {
            "text/html": [
              "Run data is saved locally in <code>/content/drive/MyDrive/Code/tesis/wandb/run-20220715_182641-2g887mi7</code>"
            ],
            "text/plain": [
              "<IPython.core.display.HTML object>"
            ]
          },
          "metadata": {},
          "output_type": "display_data"
        },
        {
          "data": {
            "text/html": [
              "Syncing run <strong><a href=\"https://wandb.ai/indoemobert/baseline-bert/runs/2g887mi7\" target=\"_blank\">bert-base-uncased</a></strong> to <a href=\"https://wandb.ai/indoemobert/baseline-bert\" target=\"_blank\">Weights & Biases</a> (<a href=\"https://wandb.me/run\" target=\"_blank\">docs</a>)<br/>"
            ],
            "text/plain": [
              "<IPython.core.display.HTML object>"
            ]
          },
          "metadata": {},
          "output_type": "display_data"
        },
        {
          "name": "stdout",
          "output_type": "stream",
          "text": [
            "WARNING:tensorflow:From /usr/local/lib/python3.7/dist-packages/tensorflow/python/profiler/internal/flops_registry.py:239: tensor_shape_from_node_def_name (from tensorflow.python.framework.graph_util_impl) is deprecated and will be removed in a future version.\n",
            "Instructions for updating:\n",
            "Use `tf.compat.v1.graph_util.tensor_shape_from_node_def_name`\n",
            "Epoch 1/4\n",
            "57/57 [==============================] - 113s 2s/step - loss: 1.8480 - accuracy: 0.1845 - precision: 0.1111 - recall: 5.5741e-04 - val_loss: 1.7499 - val_accuracy: 0.2205 - val_precision: 0.0000e+00 - val_recall: 0.0000e+00 - _timestamp: 1657909731.0000 - _runtime: 130.0000\n",
            "Epoch 2/4\n",
            "57/57 [==============================] - 74s 1s/step - loss: 1.7036 - accuracy: 0.2882 - precision: 0.8293 - recall: 0.0190 - val_loss: 1.3587 - val_accuracy: 0.5278 - val_precision: 0.8605 - val_recall: 0.1648 - _timestamp: 1657909805.0000 - _runtime: 204.0000\n",
            "Epoch 3/4\n",
            "57/57 [==============================] - 75s 1s/step - loss: 1.2127 - accuracy: 0.5686 - precision: 0.8324 - recall: 0.3322 - val_loss: 0.8023 - val_accuracy: 0.7506 - val_precision: 0.8631 - val_recall: 0.6036 - _timestamp: 1657909880.0000 - _runtime: 279.0000\n",
            "Epoch 4/4\n",
            "57/57 [==============================] - 74s 1s/step - loss: 0.7729 - accuracy: 0.7787 - precision: 0.8630 - recall: 0.6639 - val_loss: 0.7078 - val_accuracy: 0.7840 - val_precision: 0.8188 - val_recall: 0.7550 - _timestamp: 1657909954.0000 - _runtime: 353.0000\n"
          ]
        },
        {
          "data": {
            "text/html": [
              "Waiting for W&B process to finish... <strong style=\"color:green\">(success).</strong>"
            ],
            "text/plain": [
              "<IPython.core.display.HTML object>"
            ]
          },
          "metadata": {},
          "output_type": "display_data"
        },
        {
          "data": {
            "application/vnd.jupyter.widget-view+json": {
              "model_id": "952eeed11d024c3f998f7f113a90c4bb",
              "version_major": 2,
              "version_minor": 0
            },
            "text/plain": [
              "VBox(children=(Label(value='0.002 MB of 0.002 MB uploaded (0.000 MB deduped)\\r'), FloatProgress(value=1.0, max…"
            ]
          },
          "metadata": {},
          "output_type": "display_data"
        },
        {
          "data": {
            "text/html": [
              "<style>\n",
              "    table.wandb td:nth-child(1) { padding: 0 10px; text-align: left ; width: auto;} td:nth-child(2) {text-align: left ; width: 100%}\n",
              "    .wandb-row { display: flex; flex-direction: row; flex-wrap: wrap; justify-content: flex-start; width: 100% }\n",
              "    .wandb-col { display: flex; flex-direction: column; flex-basis: 100%; flex: 1; padding: 10px; }\n",
              "    </style>\n",
              "<div class=\"wandb-row\"><div class=\"wandb-col\"><h3>Run history:</h3><br/><table class=\"wandb\"><tr><td>accuracy</td><td>▁▂▆█</td></tr><tr><td>epoch</td><td>▁▃▆█</td></tr><tr><td>loss</td><td>█▇▄▁</td></tr><tr><td>precision</td><td>▁███</td></tr><tr><td>recall</td><td>▁▁▅█</td></tr><tr><td>val_accuracy</td><td>▁▅██</td></tr><tr><td>val_loss</td><td>█▅▂▁</td></tr><tr><td>val_precision</td><td>▁███</td></tr><tr><td>val_recall</td><td>▁▃▇█</td></tr></table><br/></div><div class=\"wandb-col\"><h3>Run summary:</h3><br/><table class=\"wandb\"><tr><td>GFLOPS</td><td>6.93038</td></tr><tr><td>accuracy</td><td>0.77871</td></tr><tr><td>best_epoch</td><td>3</td></tr><tr><td>best_val_loss</td><td>0.70781</td></tr><tr><td>epoch</td><td>3</td></tr><tr><td>loss</td><td>0.77292</td></tr><tr><td>precision</td><td>0.86304</td></tr><tr><td>recall</td><td>0.66388</td></tr><tr><td>val_accuracy</td><td>0.78396</td></tr><tr><td>val_loss</td><td>0.70781</td></tr><tr><td>val_precision</td><td>0.81884</td></tr><tr><td>val_recall</td><td>0.75501</td></tr></table><br/></div></div>"
            ],
            "text/plain": [
              "<IPython.core.display.HTML object>"
            ]
          },
          "metadata": {},
          "output_type": "display_data"
        },
        {
          "data": {
            "text/html": [
              "Synced <strong style=\"color:#cdcd00\">bert-base-uncased</strong>: <a href=\"https://wandb.ai/indoemobert/baseline-bert/runs/2g887mi7\" target=\"_blank\">https://wandb.ai/indoemobert/baseline-bert/runs/2g887mi7</a><br/>Synced 5 W&B file(s), 1 media file(s), 0 artifact file(s) and 0 other file(s)"
            ],
            "text/plain": [
              "<IPython.core.display.HTML object>"
            ]
          },
          "metadata": {},
          "output_type": "display_data"
        },
        {
          "data": {
            "text/html": [
              "Find logs at: <code>./wandb/run-20220715_182641-2g887mi7/logs</code>"
            ],
            "text/plain": [
              "<IPython.core.display.HTML object>"
            ]
          },
          "metadata": {},
          "output_type": "display_data"
        },
        {
          "name": "stdout",
          "output_type": "stream",
          "text": [
            "CPU times: user 4min 51s, sys: 23.4 s, total: 5min 14s\n",
            "Wall time: 5min 56s\n"
          ]
        }
      ],
      "source": [
        "%%time\n",
        "\n",
        "# Initialize wandb \n",
        "wandb.tensorboard.patch(root_logdir=log_dir)\n",
        "wandb_run = wandb.init(project='baseline-bert', name=f'{MODEL}', entity='indoemobert', config=config, sync_tensorboard=True)\n",
        "\n",
        "# Training\n",
        "model_history = model.fit(\n",
        "    (train_input_ids, train_attention_masks),\n",
        "    y_train,\n",
        "    validation_data=((test_input_ids, test_attention_masks), y_test),\n",
        "    epochs=EPOCHS,\n",
        "    batch_size=BATCH_SIZE,\n",
        "    verbose=1,\n",
        "    steps_per_epoch=int(np.ceil(X_train.shape[0] / BATCH_SIZE)),\n",
        "    callbacks=[\n",
        "      # early_stopping, \n",
        "      # model_checkpoint,\n",
        "      # tensorboard_callback,\n",
        "      WandbCallback(\n",
        "          input_type='text',\n",
        "          training_data=((train_input_ids, train_attention_masks), y_train),\n",
        "          validation_data=((test_input_ids, test_attention_masks), y_test),\n",
        "          labels=LABEL_NAME,\n",
        "          monitor='val_loss',\n",
        "          log_best_prefix='best_',\n",
        "          log_gradients=True,\n",
        "          log_weights=True,\n",
        "          save_weights_only=True,\n",
        "          save_model=False\n",
        "      )]\n",
        ")\n",
        "\n",
        "wandb_run.finish()"
      ]
    },
    {
      "cell_type": "code",
      "execution_count": null,
      "id": "RU7eHqEXBSxQ",
      "metadata": {
        "id": "RU7eHqEXBSxQ"
      },
      "outputs": [],
      "source": [
        "def plot_metrics(history):\n",
        "  metrics = ['loss', 'accuracy', 'precision', 'recall']\n",
        "  plt.figure(figsize=(12, 10))\n",
        "  for n, metric in enumerate(metrics):\n",
        "    name = metric.replace('_',' ').capitalize()\n",
        "    plt.subplot(2,2,n+1)\n",
        "    plt.plot(history.epoch, history.history[metric], color=colors[0], label='Train')\n",
        "    plt.plot(history.epoch, history.history['val_'+metric], color=colors[0], linestyle='--', label='Validation')\n",
        "    plt.xlabel('Epoch')\n",
        "    plt.ylabel(name)\n",
        "\n",
        "    if metric == 'loss':\n",
        "      plt.ylim([0, plt.ylim()[1]])\n",
        "    else:\n",
        "      plt.ylim([0,1])\n",
        "\n",
        "    plt.legend(loc='lower right');"
      ]
    },
    {
      "cell_type": "code",
      "execution_count": null,
      "id": "1QGGUhg2OqL8",
      "metadata": {
        "colab": {
          "base_uri": "https://localhost:8080/",
          "height": 610
        },
        "id": "1QGGUhg2OqL8",
        "outputId": "c0c44b1a-2603-4d56-c7b5-e9ec223e5d21"
      },
      "outputs": [
        {
          "data": {
            "image/png": "[encoded data removed]",
            "text/plain": [
              "<Figure size 864x720 with 4 Axes>"
            ]
          },
          "metadata": {
            "needs_background": "light"
          },
          "output_type": "display_data"
        }
      ],
      "source": [
        "plot_metrics(model_history)"
      ]
    },
    {
      "cell_type": "code",
      "execution_count": null,
      "id": "_jE_n990pYZO",
      "metadata": {
        "colab": {
          "base_uri": "https://localhost:8080/"
        },
        "id": "_jE_n990pYZO",
        "outputId": "8f29f7cd-8545-4002-ab56-9501b0fbb2b1"
      },
      "outputs": [
        {
          "name": "stdout",
          "output_type": "stream",
          "text": [
            "       loss  accuracy  precision    recall  val_loss  val_accuracy  \\\n",
            "0  1.848000  0.184504   0.111111  0.000557  1.749917      0.220490   \n",
            "1  1.703580  0.288183   0.829268  0.018952  1.358704      0.527840   \n",
            "2  1.212726  0.568562   0.832402  0.332218  0.802321      0.750557   \n",
            "3  0.772924  0.778707   0.863043  0.663880  0.707815      0.783964   \n",
            "\n",
            "   val_precision  val_recall  _timestamp  _runtime  \n",
            "0       0.000000    0.000000  1657909731       130  \n",
            "1       0.860465    0.164811  1657909805       204  \n",
            "2       0.863057    0.603563  1657909880       279  \n",
            "3       0.818841    0.755011  1657909954       353  \n"
          ]
        }
      ],
      "source": [
        "hist_df = pd.DataFrame(model_history.history)\n",
        "print(hist_df)\n",
        "\n",
        "hist_df.to_csv(f'{FOLDER_PATH}/model-history/{MODEL}-{TODAY}.csv')"
      ]
    },
    {
      "cell_type": "code",
      "execution_count": null,
      "id": "kx8hmByG-NV6",
      "metadata": {
        "id": "kx8hmByG-NV6"
      },
      "outputs": [],
      "source": [
        "# save model\n",
        "# model.save(f'{FOLDER_PATH}/model-fit/{MODEL}/{MODEL}.h5')"
      ]
    },
    {
      "cell_type": "markdown",
      "id": "ce4d8e05-fc4a-4e7c-bbff-59c45de7679b",
      "metadata": {
        "id": "ce4d8e05-fc4a-4e7c-bbff-59c45de7679b"
      },
      "source": [
        "# 10 Evaluation"
      ]
    },
    {
      "cell_type": "code",
      "execution_count": null,
      "id": "-i_zX-ZK5q8r",
      "metadata": {
        "colab": {
          "base_uri": "https://localhost:8080/"
        },
        "id": "-i_zX-ZK5q8r",
        "outputId": "a142ef7a-b8ea-49e4-e58f-9ef3ad6ac009"
      },
      "outputs": [
        {
          "name": "stdout",
          "output_type": "stream",
          "text": [
            "15/15 [==============================] - 2s 119ms/step - loss: 0.7078 - accuracy: 0.7840 - precision: 0.8188 - recall: 0.7550\n",
            "Accuracy: 78.40%\n"
          ]
        }
      ],
      "source": [
        "y_pred = np.argmax(model.predict((test_input_ids, test_attention_masks)), axis=1)\n",
        "y_true = np.argmax(y_test, axis=1)\n",
        "\n",
        "loss, accuracy, precision, recall = model.evaluate((test_input_ids, test_attention_masks), y_test)\n",
        "print(\"Accuracy: %.2f%%\" % (accuracy*100))"
      ]
    },
    {
      "cell_type": "code",
      "execution_count": null,
      "id": "7d59d95c-908f-48f0-904a-7cee24eab7c3",
      "metadata": {
        "colab": {
          "base_uri": "https://localhost:8080/",
          "height": 441
        },
        "id": "7d59d95c-908f-48f0-904a-7cee24eab7c3",
        "outputId": "9534e13e-1338-4e3b-c464-9fc13c510835"
      },
      "outputs": [
        {
          "data": {
            "image/png": "[encoded data removed]",
            "text/plain": [
              "<Figure size 576x432 with 2 Axes>"
            ]
          },
          "metadata": {
            "needs_background": "light"
          },
          "output_type": "display_data"
        }
      ],
      "source": [
        "cm = confusion_matrix(y_true, y_pred)\n",
        "\n",
        "plt.figure(figsize=(8, 6))\n",
        "ax = plt.subplot()\n",
        "sns.heatmap(cm, annot=True, fmt='g', ax=ax, cmap='Blues')  # annot=True to annotate cells, ftm='g' to disable scientific notation\n",
        "\n",
        "ax.set_xlabel('Predicted labels')\n",
        "ax.set_ylabel('True labels') \n",
        "ax.set_title('Confusion Matrix')\n",
        "ax.xaxis.set_ticklabels(LABEL_NAME)\n",
        "ax.yaxis.set_ticklabels(LABEL_NAME)\n",
        "plt.tight_layout()"
      ]
    },
    {
      "cell_type": "code",
      "execution_count": null,
      "id": "TSq65s3o5710",
      "metadata": {
        "colab": {
          "base_uri": "https://localhost:8080/"
        },
        "id": "TSq65s3o5710",
        "outputId": "ba8f5cb5-841a-4699-88aa-2fc150c7c7dc"
      },
      "outputs": [
        {
          "name": "stdout",
          "output_type": "stream",
          "text": [
            "              precision    recall  f1-score   support\n",
            "\n",
            "       anger       0.83      0.71      0.76       112\n",
            "     disgust       0.94      0.89      0.92        75\n",
            "        fear       0.84      0.89      0.86        74\n",
            "         joy       0.83      0.67      0.74       106\n",
            "     sadness       0.46      0.88      0.60        32\n",
            "    surprise       0.72      0.82      0.77        50\n",
            "\n",
            "    accuracy                           0.78       449\n",
            "   macro avg       0.77      0.81      0.78       449\n",
            "weighted avg       0.81      0.78      0.79       449\n",
            "\n"
          ]
        }
      ],
      "source": [
        "print(classification_report(y_pred, y_true, target_names=LABEL_NAME))"
      ]
    },
    {
      "cell_type": "code",
      "execution_count": null,
      "id": "L5Dq9WNj9a-O",
      "metadata": {
        "id": "L5Dq9WNj9a-O"
      },
      "outputs": [],
      "source": [
        "def plot_roc_curve(y_test, y_pred):\n",
        "  \n",
        "  n_classes = len(np.unique(y_test))\n",
        "  y_test = label_binarize(y_test, classes=np.arange(len(LABEL_NAME)))\n",
        "  y_pred = label_binarize(y_pred, classes=np.arange(len(LABEL_NAME)))\n",
        "\n",
        "  # Compute ROC curve and ROC area for each class\n",
        "  fpr = dict()\n",
        "  tpr = dict()\n",
        "  roc_auc = dict()\n",
        "  for i in range(n_classes):\n",
        "    fpr[i], tpr[i], _ = roc_curve(y_test[:, i], y_pred[:, i])\n",
        "    roc_auc[i] = auc(fpr[i], tpr[i])\n",
        "  \n",
        "  # Compute micro-average ROC curve and ROC area\n",
        "  fpr['micro'], tpr['micro'], _ = roc_curve(y_test.ravel(), y_pred.ravel())\n",
        "  roc_auc['micro'] = auc(fpr['micro'], tpr['micro'])\n",
        "\n",
        "  # First aggregate all false positive rates\n",
        "  all_fpr = np.unique(np.concatenate([fpr[i] for i in range(n_classes)]))\n",
        "\n",
        "  # Then interpolate all ROC curves at this points\n",
        "  mean_tpr = np.zeros_like(all_fpr)\n",
        "  for i in range(n_classes):\n",
        "    mean_tpr += np.interp(all_fpr, fpr[i], tpr[i])\n",
        "\n",
        "  # Finally average it and compute AUC\n",
        "  mean_tpr /= n_classes\n",
        "\n",
        "  fpr['macro'] = all_fpr\n",
        "  tpr['macro'] = mean_tpr\n",
        "  roc_auc['macro'] = auc(fpr['macro'], tpr['macro'])\n",
        "\n",
        "  # Plot all ROC curves\n",
        "  plt.figure(figsize=(10, 7))\n",
        "  lw = 2\n",
        "  plt.plot(fpr['micro'], tpr['micro'],\n",
        "    label='micro-average ROC curve (area = {0:0.2f})'.format(roc_auc['micro']),\n",
        "    color='deeppink', linestyle=':', linewidth=4,)\n",
        "\n",
        "  plt.plot(fpr['macro'], tpr['macro'],\n",
        "    label='macro-average ROC curve (area = {0:0.2f})'.format(roc_auc['macro']),\n",
        "    color='navy', linestyle=':', linewidth=4,)\n",
        "\n",
        "  colors = cycle(['aqua', 'darkorange', 'darkgreen', 'yellow', 'blue', 'red'])\n",
        "  for i, color, label in zip(range(n_classes), colors, LABEL_NAME):\n",
        "    plt.plot(fpr[i], tpr[i], color=color, lw=lw,\n",
        "        label=\"ROC curve of class {0} (area = {1:0.2f})\".format(label, roc_auc[i]))\n",
        "\n",
        "  plt.plot([0, 1], [0, 1], 'k--', lw=lw)\n",
        "  plt.xlim([0.0, 1.0])\n",
        "  plt.ylim([0.0, 1.05])\n",
        "  plt.xlabel('False Positive Rate')\n",
        "  plt.ylabel('True Positive Rate')\n",
        "  plt.title('Receiver Operating Characteristic (ROC) curve')\n",
        "  plt.legend()\n",
        "  plt.show()"
      ]
    },
    {
      "cell_type": "code",
      "execution_count": null,
      "id": "bFHTASmo9b4q",
      "metadata": {
        "colab": {
          "base_uri": "https://localhost:8080/",
          "height": 458
        },
        "id": "bFHTASmo9b4q",
        "outputId": "bf3364ad-9439-4071-a2b7-b15fe8a8425e"
      },
      "outputs": [
        {
          "data": {
            "image/png": "[encoded data removed]",
            "text/plain": [
              "<Figure size 720x504 with 1 Axes>"
            ]
          },
          "metadata": {
            "needs_background": "light"
          },
          "output_type": "display_data"
        }
      ],
      "source": [
        "plot_roc_curve(y_pred, y_true)"
      ]
    },
    {
      "cell_type": "markdown",
      "id": "4d56cf94-89bd-4bac-aaa8-2efafabfb891",
      "metadata": {
        "id": "4d56cf94-89bd-4bac-aaa8-2efafabfb891"
      },
      "source": [
        "# 11 Predict on New Data"
      ]
    },
    {
      "cell_type": "code",
      "execution_count": null,
      "id": "oI94z-EfBkzL",
      "metadata": {
        "id": "oI94z-EfBkzL"
      },
      "outputs": [],
      "source": [
        "# Sample text\n",
        "input_text = 'Hargai kebahagiaan jika kamu pernah sedih'\n",
        "\n",
        "def prep_data(text):\n",
        "    tokens = bert_tokenizer.encode_plus(\n",
        "        text, \n",
        "        max_length=MAX_SEQ_LENGTH,\n",
        "        truncation=True, \n",
        "        padding='max_length',\n",
        "        add_special_tokens=True, \n",
        "        return_token_type_ids=False,\n",
        "        return_tensors='tf'\n",
        "      )\n",
        "    \n",
        "    # Tokenizer returns int32 tensors, we need to return float64, so we use tf.cast\n",
        "    return {'input_ids': tf.cast(tokens['input_ids'], tf.float64), 'attention_mask': tf.cast(tokens['attention_mask'], tf.float64)}"
      ]
    },
    {
      "cell_type": "code",
      "execution_count": null,
      "id": "G4eBP4s4BwIE",
      "metadata": {
        "colab": {
          "base_uri": "https://localhost:8080/"
        },
        "id": "G4eBP4s4BwIE",
        "outputId": "6e383b1b-1031-4111-9479-3dadaa941589"
      },
      "outputs": [
        {
          "name": "stdout",
          "output_type": "stream",
          "text": [
            "[[0.45347005 0.04248498 0.00733683 0.27252832 0.19856174 0.02561802]] ['anger']\n"
          ]
        }
      ],
      "source": [
        "pred = model.predict(prep_data(input_text))\n",
        "print(pred, LABEL_NAME[np.argmax(pred, axis=1)])"
      ]
    }
  ],
  "metadata": {
    "accelerator": "GPU",
    "colab": {
      "collapsed_sections": [],
      "include_colab_link": true,
      "machine_shape": "hm",
      "name": "05-BERT-fine-tuning-base.ipynb",
      "provenance": [],
      "toc_visible": true
    },
    "kernelspec": {
      "display_name": "Python 3.8.8 ('base')",
      "language": "python",
      "name": "python3"
    },
    "language_info": {
      "codemirror_mode": {
        "name": "ipython",
        "version": 3
      },
      "file_extension": ".py",
      "mimetype": "text/x-python",
      "name": "python",
      "nbconvert_exporter": "python",
      "pygments_lexer": "ipython3",
      "version": "3.8.8"
    },
    "vscode": {
      "interpreter": {
        "hash": "ad2bdc8ecc057115af97d19610ffacc2b4e99fae6737bb82f5d7fb13d2f2c186"
      }
    },
    "widgets": {
      "application/vnd.jupyter.widget-state+json": {
        "03af3a66d249447f87be1f3e51d819f7": {
          "model_module": "@jupyter-widgets/base",
          "model_module_version": "1.2.0",
          "model_name": "LayoutModel",
          "state": {
            "_model_module": "@jupyter-widgets/base",
            "_model_module_version": "1.2.0",
            "_model_name": "LayoutModel",
            "_view_count": null,
            "_view_module": "@jupyter-widgets/base",
            "_view_module_version": "1.2.0",
            "_view_name": "LayoutView",
            "align_content": null,
            "align_items": null,
            "align_self": null,
            "border": null,
            "bottom": null,
            "display": null,
            "flex": null,
            "flex_flow": null,
            "grid_area": null,
            "grid_auto_columns": null,
            "grid_auto_flow": null,
            "grid_auto_rows": null,
            "grid_column": null,
            "grid_gap": null,
            "grid_row": null,
            "grid_template_areas": null,
            "grid_template_columns": null,
            "grid_template_rows": null,
            "height": null,
            "justify_content": null,
            "justify_items": null,
            "left": null,
            "margin": null,
            "max_height": null,
            "max_width": null,
            "min_height": null,
            "min_width": null,
            "object_fit": null,
            "object_position": null,
            "order": null,
            "overflow": null,
            "overflow_x": null,
            "overflow_y": null,
            "padding": null,
            "right": null,
            "top": null,
            "visibility": null,
            "width": null
          }
        },
        "06287184cc80404383f91052fe31915d": {
          "model_module": "@jupyter-widgets/base",
          "model_module_version": "1.2.0",
          "model_name": "LayoutModel",
          "state": {
            "_model_module": "@jupyter-widgets/base",
            "_model_module_version": "1.2.0",
            "_model_name": "LayoutModel",
            "_view_count": null,
            "_view_module": "@jupyter-widgets/base",
            "_view_module_version": "1.2.0",
            "_view_name": "LayoutView",
            "align_content": null,
            "align_items": null,
            "align_self": null,
            "border": null,
            "bottom": null,
            "display": null,
            "flex": null,
            "flex_flow": null,
            "grid_area": null,
            "grid_auto_columns": null,
            "grid_auto_flow": null,
            "grid_auto_rows": null,
            "grid_column": null,
            "grid_gap": null,
            "grid_row": null,
            "grid_template_areas": null,
            "grid_template_columns": null,
            "grid_template_rows": null,
            "height": null,
            "justify_content": null,
            "justify_items": null,
            "left": null,
            "margin": null,
            "max_height": null,
            "max_width": null,
            "min_height": null,
            "min_width": null,
            "object_fit": null,
            "object_position": null,
            "order": null,
            "overflow": null,
            "overflow_x": null,
            "overflow_y": null,
            "padding": null,
            "right": null,
            "top": null,
            "visibility": null,
            "width": null
          }
        },
        "0857227d75ca4e139088a37ec4d98a91": {
          "model_module": "@jupyter-widgets/base",
          "model_module_version": "1.2.0",
          "model_name": "LayoutModel",
          "state": {
            "_model_module": "@jupyter-widgets/base",
            "_model_module_version": "1.2.0",
            "_model_name": "LayoutModel",
            "_view_count": null,
            "_view_module": "@jupyter-widgets/base",
            "_view_module_version": "1.2.0",
            "_view_name": "LayoutView",
            "align_content": null,
            "align_items": null,
            "align_self": null,
            "border": null,
            "bottom": null,
            "display": null,
            "flex": null,
            "flex_flow": null,
            "grid_area": null,
            "grid_auto_columns": null,
            "grid_auto_flow": null,
            "grid_auto_rows": null,
            "grid_column": null,
            "grid_gap": null,
            "grid_row": null,
            "grid_template_areas": null,
            "grid_template_columns": null,
            "grid_template_rows": null,
            "height": null,
            "justify_content": null,
            "justify_items": null,
            "left": null,
            "margin": null,
            "max_height": null,
            "max_width": null,
            "min_height": null,
            "min_width": null,
            "object_fit": null,
            "object_position": null,
            "order": null,
            "overflow": null,
            "overflow_x": null,
            "overflow_y": null,
            "padding": null,
            "right": null,
            "top": null,
            "visibility": null,
            "width": null
          }
        },
        "14391857bccf4e87b99825e6ee381920": {
          "model_module": "@jupyter-widgets/controls",
          "model_module_version": "1.5.0",
          "model_name": "DescriptionStyleModel",
          "state": {
            "_model_module": "@jupyter-widgets/controls",
            "_model_module_version": "1.5.0",
            "_model_name": "DescriptionStyleModel",
            "_view_count": null,
            "_view_module": "@jupyter-widgets/base",
            "_view_module_version": "1.2.0",
            "_view_name": "StyleView",
            "description_width": ""
          }
        },
        "171dd82c9d4544ed856a677b0b34fb51": {
          "model_module": "@jupyter-widgets/base",
          "model_module_version": "1.2.0",
          "model_name": "LayoutModel",
          "state": {
            "_model_module": "@jupyter-widgets/base",
            "_model_module_version": "1.2.0",
            "_model_name": "LayoutModel",
            "_view_count": null,
            "_view_module": "@jupyter-widgets/base",
            "_view_module_version": "1.2.0",
            "_view_name": "LayoutView",
            "align_content": null,
            "align_items": null,
            "align_self": null,
            "border": null,
            "bottom": null,
            "display": null,
            "flex": null,
            "flex_flow": null,
            "grid_area": null,
            "grid_auto_columns": null,
            "grid_auto_flow": null,
            "grid_auto_rows": null,
            "grid_column": null,
            "grid_gap": null,
            "grid_row": null,
            "grid_template_areas": null,
            "grid_template_columns": null,
            "grid_template_rows": null,
            "height": null,
            "justify_content": null,
            "justify_items": null,
            "left": null,
            "margin": null,
            "max_height": null,
            "max_width": null,
            "min_height": null,
            "min_width": null,
            "object_fit": null,
            "object_position": null,
            "order": null,
            "overflow": null,
            "overflow_x": null,
            "overflow_y": null,
            "padding": null,
            "right": null,
            "top": null,
            "visibility": null,
            "width": null
          }
        },
        "1825f5a61bd149f4b3c8e5e0bd4bc7dc": {
          "model_module": "@jupyter-widgets/base",
          "model_module_version": "1.2.0",
          "model_name": "LayoutModel",
          "state": {
            "_model_module": "@jupyter-widgets/base",
            "_model_module_version": "1.2.0",
            "_model_name": "LayoutModel",
            "_view_count": null,
            "_view_module": "@jupyter-widgets/base",
            "_view_module_version": "1.2.0",
            "_view_name": "LayoutView",
            "align_content": null,
            "align_items": null,
            "align_self": null,
            "border": null,
            "bottom": null,
            "display": null,
            "flex": null,
            "flex_flow": null,
            "grid_area": null,
            "grid_auto_columns": null,
            "grid_auto_flow": null,
            "grid_auto_rows": null,
            "grid_column": null,
            "grid_gap": null,
            "grid_row": null,
            "grid_template_areas": null,
            "grid_template_columns": null,
            "grid_template_rows": null,
            "height": null,
            "justify_content": null,
            "justify_items": null,
            "left": null,
            "margin": null,
            "max_height": null,
            "max_width": null,
            "min_height": null,
            "min_width": null,
            "object_fit": null,
            "object_position": null,
            "order": null,
            "overflow": null,
            "overflow_x": null,
            "overflow_y": null,
            "padding": null,
            "right": null,
            "top": null,
            "visibility": null,
            "width": null
          }
        },
        "1a9f913661f44e34ad428a482a0d0613": {
          "model_module": "@jupyter-widgets/controls",
          "model_module_version": "1.5.0",
          "model_name": "ProgressStyleModel",
          "state": {
            "_model_module": "@jupyter-widgets/controls",
            "_model_module_version": "1.5.0",
            "_model_name": "ProgressStyleModel",
            "_view_count": null,
            "_view_module": "@jupyter-widgets/base",
            "_view_module_version": "1.2.0",
            "_view_name": "StyleView",
            "bar_color": null,
            "description_width": ""
          }
        },
        "2dbbffbe865c48a390c738805b6a87fa": {
          "model_module": "@jupyter-widgets/controls",
          "model_module_version": "1.5.0",
          "model_name": "HTMLModel",
          "state": {
            "_dom_classes": [],
            "_model_module": "@jupyter-widgets/controls",
            "_model_module_version": "1.5.0",
            "_model_name": "HTMLModel",
            "_view_count": null,
            "_view_module": "@jupyter-widgets/controls",
            "_view_module_version": "1.5.0",
            "_view_name": "HTMLView",
            "description": "",
            "description_tooltip": null,
            "layout": "IPY_MODEL_42de03761d794251a214d5676df817ec",
            "placeholder": "​",
            "style": "IPY_MODEL_6732b7b371884d24a0f2fbccb0d7a691",
            "value": "Downloading: 100%"
          }
        },
        "2fb680e0634c4b5cad589f49f6139f98": {
          "model_module": "@jupyter-widgets/controls",
          "model_module_version": "1.5.0",
          "model_name": "HTMLModel",
          "state": {
            "_dom_classes": [],
            "_model_module": "@jupyter-widgets/controls",
            "_model_module_version": "1.5.0",
            "_model_name": "HTMLModel",
            "_view_count": null,
            "_view_module": "@jupyter-widgets/controls",
            "_view_module_version": "1.5.0",
            "_view_name": "HTMLView",
            "description": "",
            "description_tooltip": null,
            "layout": "IPY_MODEL_b837b56ef54f42c7a8679b8b7d23347a",
            "placeholder": "​",
            "style": "IPY_MODEL_14391857bccf4e87b99825e6ee381920",
            "value": " 28.0/28.0 [00:00&lt;00:00, 1.02kB/s]"
          }
        },
        "32d41b3a01ae41ce9163b4713f53f293": {
          "model_module": "@jupyter-widgets/controls",
          "model_module_version": "1.5.0",
          "model_name": "HTMLModel",
          "state": {
            "_dom_classes": [],
            "_model_module": "@jupyter-widgets/controls",
            "_model_module_version": "1.5.0",
            "_model_name": "HTMLModel",
            "_view_count": null,
            "_view_module": "@jupyter-widgets/controls",
            "_view_module_version": "1.5.0",
            "_view_name": "HTMLView",
            "description": "",
            "description_tooltip": null,
            "layout": "IPY_MODEL_a0e45331d35f4cec9c59c2ca3c5f090d",
            "placeholder": "​",
            "style": "IPY_MODEL_fa02a0b264c0471b8bbaa3227622aaad",
            "value": " 511M/511M [00:10&lt;00:00, 39.4MB/s]"
          }
        },
        "37e0d71bb8814c37a02c131e37fd5e9a": {
          "model_module": "@jupyter-widgets/controls",
          "model_module_version": "1.5.0",
          "model_name": "HBoxModel",
          "state": {
            "_dom_classes": [],
            "_model_module": "@jupyter-widgets/controls",
            "_model_module_version": "1.5.0",
            "_model_name": "HBoxModel",
            "_view_count": null,
            "_view_module": "@jupyter-widgets/controls",
            "_view_module_version": "1.5.0",
            "_view_name": "HBoxView",
            "box_style": "",
            "children": [
              "IPY_MODEL_aaa0b49a018144bdad259a5551825e6a",
              "IPY_MODEL_aa5246a369114be19401e00377e68fd3",
              "IPY_MODEL_2fb680e0634c4b5cad589f49f6139f98"
            ],
            "layout": "IPY_MODEL_71e67017cc244fc889297454fdf77e63"
          }
        },
        "3bd8614eeae743c39b20ae9285dffc61": {
          "model_module": "@jupyter-widgets/controls",
          "model_module_version": "1.5.0",
          "model_name": "FloatProgressModel",
          "state": {
            "_dom_classes": [],
            "_model_module": "@jupyter-widgets/controls",
            "_model_module_version": "1.5.0",
            "_model_name": "FloatProgressModel",
            "_view_count": null,
            "_view_module": "@jupyter-widgets/controls",
            "_view_module_version": "1.5.0",
            "_view_name": "ProgressView",
            "bar_style": "",
            "description": "",
            "description_tooltip": null,
            "layout": "IPY_MODEL_794e2f44ea50423cacb56c299f852bf6",
            "max": 1,
            "min": 0,
            "orientation": "horizontal",
            "style": "IPY_MODEL_1a9f913661f44e34ad428a482a0d0613",
            "value": 1
          }
        },
        "42de03761d794251a214d5676df817ec": {
          "model_module": "@jupyter-widgets/base",
          "model_module_version": "1.2.0",
          "model_name": "LayoutModel",
          "state": {
            "_model_module": "@jupyter-widgets/base",
            "_model_module_version": "1.2.0",
            "_model_name": "LayoutModel",
            "_view_count": null,
            "_view_module": "@jupyter-widgets/base",
            "_view_module_version": "1.2.0",
            "_view_name": "LayoutView",
            "align_content": null,
            "align_items": null,
            "align_self": null,
            "border": null,
            "bottom": null,
            "display": null,
            "flex": null,
            "flex_flow": null,
            "grid_area": null,
            "grid_auto_columns": null,
            "grid_auto_flow": null,
            "grid_auto_rows": null,
            "grid_column": null,
            "grid_gap": null,
            "grid_row": null,
            "grid_template_areas": null,
            "grid_template_columns": null,
            "grid_template_rows": null,
            "height": null,
            "justify_content": null,
            "justify_items": null,
            "left": null,
            "margin": null,
            "max_height": null,
            "max_width": null,
            "min_height": null,
            "min_width": null,
            "object_fit": null,
            "object_position": null,
            "order": null,
            "overflow": null,
            "overflow_x": null,
            "overflow_y": null,
            "padding": null,
            "right": null,
            "top": null,
            "visibility": null,
            "width": null
          }
        },
        "4ba315abea3c4bdfb49c04235819cb12": {
          "model_module": "@jupyter-widgets/controls",
          "model_module_version": "1.5.0",
          "model_name": "DescriptionStyleModel",
          "state": {
            "_model_module": "@jupyter-widgets/controls",
            "_model_module_version": "1.5.0",
            "_model_name": "DescriptionStyleModel",
            "_view_count": null,
            "_view_module": "@jupyter-widgets/base",
            "_view_module_version": "1.2.0",
            "_view_name": "StyleView",
            "description_width": ""
          }
        },
        "4f5063b305f842138c21113acaf5d1f4": {
          "model_module": "@jupyter-widgets/base",
          "model_module_version": "1.2.0",
          "model_name": "LayoutModel",
          "state": {
            "_model_module": "@jupyter-widgets/base",
            "_model_module_version": "1.2.0",
            "_model_name": "LayoutModel",
            "_view_count": null,
            "_view_module": "@jupyter-widgets/base",
            "_view_module_version": "1.2.0",
            "_view_name": "LayoutView",
            "align_content": null,
            "align_items": null,
            "align_self": null,
            "border": null,
            "bottom": null,
            "display": null,
            "flex": null,
            "flex_flow": null,
            "grid_area": null,
            "grid_auto_columns": null,
            "grid_auto_flow": null,
            "grid_auto_rows": null,
            "grid_column": null,
            "grid_gap": null,
            "grid_row": null,
            "grid_template_areas": null,
            "grid_template_columns": null,
            "grid_template_rows": null,
            "height": null,
            "justify_content": null,
            "justify_items": null,
            "left": null,
            "margin": null,
            "max_height": null,
            "max_width": null,
            "min_height": null,
            "min_width": null,
            "object_fit": null,
            "object_position": null,
            "order": null,
            "overflow": null,
            "overflow_x": null,
            "overflow_y": null,
            "padding": null,
            "right": null,
            "top": null,
            "visibility": null,
            "width": null
          }
        },
        "56071f2d1c3442e1950d9a2225537b2a": {
          "model_module": "@jupyter-widgets/controls",
          "model_module_version": "1.5.0",
          "model_name": "FloatProgressModel",
          "state": {
            "_dom_classes": [],
            "_model_module": "@jupyter-widgets/controls",
            "_model_module_version": "1.5.0",
            "_model_name": "FloatProgressModel",
            "_view_count": null,
            "_view_module": "@jupyter-widgets/controls",
            "_view_module_version": "1.5.0",
            "_view_name": "ProgressView",
            "bar_style": "success",
            "description": "",
            "description_tooltip": null,
            "layout": "IPY_MODEL_1825f5a61bd149f4b3c8e5e0bd4bc7dc",
            "max": 570,
            "min": 0,
            "orientation": "horizontal",
            "style": "IPY_MODEL_5c53ea76ad6142408796eb93233d3a1d",
            "value": 570
          }
        },
        "56f9845f87c34026b2f7c0f1596ff987": {
          "model_module": "@jupyter-widgets/controls",
          "model_module_version": "1.5.0",
          "model_name": "HBoxModel",
          "state": {
            "_dom_classes": [],
            "_model_module": "@jupyter-widgets/controls",
            "_model_module_version": "1.5.0",
            "_model_name": "HBoxModel",
            "_view_count": null,
            "_view_module": "@jupyter-widgets/controls",
            "_view_module_version": "1.5.0",
            "_view_name": "HBoxView",
            "box_style": "",
            "children": [
              "IPY_MODEL_de3f1b3114c6458baf42d049915f87bb",
              "IPY_MODEL_56071f2d1c3442e1950d9a2225537b2a",
              "IPY_MODEL_f9117686cc604209aa37ba1c73c2619c"
            ],
            "layout": "IPY_MODEL_86e2b9a482a94bdba35ce5e1362d254c"
          }
        },
        "58591ee0701c48778567c07a7e3f7fa1": {
          "model_module": "@jupyter-widgets/controls",
          "model_module_version": "1.5.0",
          "model_name": "HBoxModel",
          "state": {
            "_dom_classes": [],
            "_model_module": "@jupyter-widgets/controls",
            "_model_module_version": "1.5.0",
            "_model_name": "HBoxModel",
            "_view_count": null,
            "_view_module": "@jupyter-widgets/controls",
            "_view_module_version": "1.5.0",
            "_view_name": "HBoxView",
            "box_style": "",
            "children": [
              "IPY_MODEL_2dbbffbe865c48a390c738805b6a87fa",
              "IPY_MODEL_adeeb5c4dc0a4e419ae7ee98280c2030",
              "IPY_MODEL_fffad02bd224405d9df8e37db4b38b37"
            ],
            "layout": "IPY_MODEL_8edfd5f922794dfab2f73ef129e5e535"
          }
        },
        "5938da8924664a0e9beace30c34d7f7f": {
          "model_module": "@jupyter-widgets/controls",
          "model_module_version": "1.5.0",
          "model_name": "DescriptionStyleModel",
          "state": {
            "_model_module": "@jupyter-widgets/controls",
            "_model_module_version": "1.5.0",
            "_model_name": "DescriptionStyleModel",
            "_view_count": null,
            "_view_module": "@jupyter-widgets/base",
            "_view_module_version": "1.2.0",
            "_view_name": "StyleView",
            "description_width": ""
          }
        },
        "5c53ea76ad6142408796eb93233d3a1d": {
          "model_module": "@jupyter-widgets/controls",
          "model_module_version": "1.5.0",
          "model_name": "ProgressStyleModel",
          "state": {
            "_model_module": "@jupyter-widgets/controls",
            "_model_module_version": "1.5.0",
            "_model_name": "ProgressStyleModel",
            "_view_count": null,
            "_view_module": "@jupyter-widgets/base",
            "_view_module_version": "1.2.0",
            "_view_name": "StyleView",
            "bar_color": null,
            "description_width": ""
          }
        },
        "6732b7b371884d24a0f2fbccb0d7a691": {
          "model_module": "@jupyter-widgets/controls",
          "model_module_version": "1.5.0",
          "model_name": "DescriptionStyleModel",
          "state": {
            "_model_module": "@jupyter-widgets/controls",
            "_model_module_version": "1.5.0",
            "_model_name": "DescriptionStyleModel",
            "_view_count": null,
            "_view_module": "@jupyter-widgets/base",
            "_view_module_version": "1.2.0",
            "_view_name": "StyleView",
            "description_width": ""
          }
        },
        "71e67017cc244fc889297454fdf77e63": {
          "model_module": "@jupyter-widgets/base",
          "model_module_version": "1.2.0",
          "model_name": "LayoutModel",
          "state": {
            "_model_module": "@jupyter-widgets/base",
            "_model_module_version": "1.2.0",
            "_model_name": "LayoutModel",
            "_view_count": null,
            "_view_module": "@jupyter-widgets/base",
            "_view_module_version": "1.2.0",
            "_view_name": "LayoutView",
            "align_content": null,
            "align_items": null,
            "align_self": null,
            "border": null,
            "bottom": null,
            "display": null,
            "flex": null,
            "flex_flow": null,
            "grid_area": null,
            "grid_auto_columns": null,
            "grid_auto_flow": null,
            "grid_auto_rows": null,
            "grid_column": null,
            "grid_gap": null,
            "grid_row": null,
            "grid_template_areas": null,
            "grid_template_columns": null,
            "grid_template_rows": null,
            "height": null,
            "justify_content": null,
            "justify_items": null,
            "left": null,
            "margin": null,
            "max_height": null,
            "max_width": null,
            "min_height": null,
            "min_width": null,
            "object_fit": null,
            "object_position": null,
            "order": null,
            "overflow": null,
            "overflow_x": null,
            "overflow_y": null,
            "padding": null,
            "right": null,
            "top": null,
            "visibility": null,
            "width": null
          }
        },
        "758978c0f25e4cf7a6cb398ebb2e123e": {
          "model_module": "@jupyter-widgets/controls",
          "model_module_version": "1.5.0",
          "model_name": "ProgressStyleModel",
          "state": {
            "_model_module": "@jupyter-widgets/controls",
            "_model_module_version": "1.5.0",
            "_model_name": "ProgressStyleModel",
            "_view_count": null,
            "_view_module": "@jupyter-widgets/base",
            "_view_module_version": "1.2.0",
            "_view_name": "StyleView",
            "bar_color": null,
            "description_width": ""
          }
        },
        "794e2f44ea50423cacb56c299f852bf6": {
          "model_module": "@jupyter-widgets/base",
          "model_module_version": "1.2.0",
          "model_name": "LayoutModel",
          "state": {
            "_model_module": "@jupyter-widgets/base",
            "_model_module_version": "1.2.0",
            "_model_name": "LayoutModel",
            "_view_count": null,
            "_view_module": "@jupyter-widgets/base",
            "_view_module_version": "1.2.0",
            "_view_name": "LayoutView",
            "align_content": null,
            "align_items": null,
            "align_self": null,
            "border": null,
            "bottom": null,
            "display": null,
            "flex": null,
            "flex_flow": null,
            "grid_area": null,
            "grid_auto_columns": null,
            "grid_auto_flow": null,
            "grid_auto_rows": null,
            "grid_column": null,
            "grid_gap": null,
            "grid_row": null,
            "grid_template_areas": null,
            "grid_template_columns": null,
            "grid_template_rows": null,
            "height": null,
            "justify_content": null,
            "justify_items": null,
            "left": null,
            "margin": null,
            "max_height": null,
            "max_width": null,
            "min_height": null,
            "min_width": null,
            "object_fit": null,
            "object_position": null,
            "order": null,
            "overflow": null,
            "overflow_x": null,
            "overflow_y": null,
            "padding": null,
            "right": null,
            "top": null,
            "visibility": null,
            "width": null
          }
        },
        "828177f1899c4f3b974206af22fea29d": {
          "model_module": "@jupyter-widgets/base",
          "model_module_version": "1.2.0",
          "model_name": "LayoutModel",
          "state": {
            "_model_module": "@jupyter-widgets/base",
            "_model_module_version": "1.2.0",
            "_model_name": "LayoutModel",
            "_view_count": null,
            "_view_module": "@jupyter-widgets/base",
            "_view_module_version": "1.2.0",
            "_view_name": "LayoutView",
            "align_content": null,
            "align_items": null,
            "align_self": null,
            "border": null,
            "bottom": null,
            "display": null,
            "flex": null,
            "flex_flow": null,
            "grid_area": null,
            "grid_auto_columns": null,
            "grid_auto_flow": null,
            "grid_auto_rows": null,
            "grid_column": null,
            "grid_gap": null,
            "grid_row": null,
            "grid_template_areas": null,
            "grid_template_columns": null,
            "grid_template_rows": null,
            "height": null,
            "justify_content": null,
            "justify_items": null,
            "left": null,
            "margin": null,
            "max_height": null,
            "max_width": null,
            "min_height": null,
            "min_width": null,
            "object_fit": null,
            "object_position": null,
            "order": null,
            "overflow": null,
            "overflow_x": null,
            "overflow_y": null,
            "padding": null,
            "right": null,
            "top": null,
            "visibility": null,
            "width": null
          }
        },
        "860719664e554a689f016f057357dc73": {
          "model_module": "@jupyter-widgets/controls",
          "model_module_version": "1.5.0",
          "model_name": "LabelModel",
          "state": {
            "_dom_classes": [],
            "_model_module": "@jupyter-widgets/controls",
            "_model_module_version": "1.5.0",
            "_model_name": "LabelModel",
            "_view_count": null,
            "_view_module": "@jupyter-widgets/controls",
            "_view_module_version": "1.5.0",
            "_view_name": "LabelView",
            "description": "",
            "description_tooltip": null,
            "layout": "IPY_MODEL_171dd82c9d4544ed856a677b0b34fb51",
            "placeholder": "​",
            "style": "IPY_MODEL_5938da8924664a0e9beace30c34d7f7f",
            "value": "0.350 MB of 0.350 MB uploaded (0.000 MB deduped)\r"
          }
        },
        "86e2b9a482a94bdba35ce5e1362d254c": {
          "model_module": "@jupyter-widgets/base",
          "model_module_version": "1.2.0",
          "model_name": "LayoutModel",
          "state": {
            "_model_module": "@jupyter-widgets/base",
            "_model_module_version": "1.2.0",
            "_model_name": "LayoutModel",
            "_view_count": null,
            "_view_module": "@jupyter-widgets/base",
            "_view_module_version": "1.2.0",
            "_view_name": "LayoutView",
            "align_content": null,
            "align_items": null,
            "align_self": null,
            "border": null,
            "bottom": null,
            "display": null,
            "flex": null,
            "flex_flow": null,
            "grid_area": null,
            "grid_auto_columns": null,
            "grid_auto_flow": null,
            "grid_auto_rows": null,
            "grid_column": null,
            "grid_gap": null,
            "grid_row": null,
            "grid_template_areas": null,
            "grid_template_columns": null,
            "grid_template_rows": null,
            "height": null,
            "justify_content": null,
            "justify_items": null,
            "left": null,
            "margin": null,
            "max_height": null,
            "max_width": null,
            "min_height": null,
            "min_width": null,
            "object_fit": null,
            "object_position": null,
            "order": null,
            "overflow": null,
            "overflow_x": null,
            "overflow_y": null,
            "padding": null,
            "right": null,
            "top": null,
            "visibility": null,
            "width": null
          }
        },
        "880ed6e7e8834a3ebccdcebb07949de9": {
          "model_module": "@jupyter-widgets/controls",
          "model_module_version": "1.5.0",
          "model_name": "HTMLModel",
          "state": {
            "_dom_classes": [],
            "_model_module": "@jupyter-widgets/controls",
            "_model_module_version": "1.5.0",
            "_model_name": "HTMLModel",
            "_view_count": null,
            "_view_module": "@jupyter-widgets/controls",
            "_view_module_version": "1.5.0",
            "_view_name": "HTMLView",
            "description": "",
            "description_tooltip": null,
            "layout": "IPY_MODEL_a8c1344bc1d8448ea2a821d0993e1128",
            "placeholder": "​",
            "style": "IPY_MODEL_4ba315abea3c4bdfb49c04235819cb12",
            "value": "Downloading: 100%"
          }
        },
        "8eb79e0b7c26476f81331d8abfbd3c2a": {
          "model_module": "@jupyter-widgets/controls",
          "model_module_version": "1.5.0",
          "model_name": "FloatProgressModel",
          "state": {
            "_dom_classes": [],
            "_model_module": "@jupyter-widgets/controls",
            "_model_module_version": "1.5.0",
            "_model_name": "FloatProgressModel",
            "_view_count": null,
            "_view_module": "@jupyter-widgets/controls",
            "_view_module_version": "1.5.0",
            "_view_name": "ProgressView",
            "bar_style": "success",
            "description": "",
            "description_tooltip": null,
            "layout": "IPY_MODEL_bb37794eda4b4d66a0b78250acd082f1",
            "max": 536063208,
            "min": 0,
            "orientation": "horizontal",
            "style": "IPY_MODEL_df0473d9901644b3b4245b8c00fd001a",
            "value": 536063208
          }
        },
        "8edfd5f922794dfab2f73ef129e5e535": {
          "model_module": "@jupyter-widgets/base",
          "model_module_version": "1.2.0",
          "model_name": "LayoutModel",
          "state": {
            "_model_module": "@jupyter-widgets/base",
            "_model_module_version": "1.2.0",
            "_model_name": "LayoutModel",
            "_view_count": null,
            "_view_module": "@jupyter-widgets/base",
            "_view_module_version": "1.2.0",
            "_view_name": "LayoutView",
            "align_content": null,
            "align_items": null,
            "align_self": null,
            "border": null,
            "bottom": null,
            "display": null,
            "flex": null,
            "flex_flow": null,
            "grid_area": null,
            "grid_auto_columns": null,
            "grid_auto_flow": null,
            "grid_auto_rows": null,
            "grid_column": null,
            "grid_gap": null,
            "grid_row": null,
            "grid_template_areas": null,
            "grid_template_columns": null,
            "grid_template_rows": null,
            "height": null,
            "justify_content": null,
            "justify_items": null,
            "left": null,
            "margin": null,
            "max_height": null,
            "max_width": null,
            "min_height": null,
            "min_width": null,
            "object_fit": null,
            "object_position": null,
            "order": null,
            "overflow": null,
            "overflow_x": null,
            "overflow_y": null,
            "padding": null,
            "right": null,
            "top": null,
            "visibility": null,
            "width": null
          }
        },
        "8ee7369cc66a40bdb55214ee39d2b4f4": {
          "model_module": "@jupyter-widgets/base",
          "model_module_version": "1.2.0",
          "model_name": "LayoutModel",
          "state": {
            "_model_module": "@jupyter-widgets/base",
            "_model_module_version": "1.2.0",
            "_model_name": "LayoutModel",
            "_view_count": null,
            "_view_module": "@jupyter-widgets/base",
            "_view_module_version": "1.2.0",
            "_view_name": "LayoutView",
            "align_content": null,
            "align_items": null,
            "align_self": null,
            "border": null,
            "bottom": null,
            "display": null,
            "flex": null,
            "flex_flow": null,
            "grid_area": null,
            "grid_auto_columns": null,
            "grid_auto_flow": null,
            "grid_auto_rows": null,
            "grid_column": null,
            "grid_gap": null,
            "grid_row": null,
            "grid_template_areas": null,
            "grid_template_columns": null,
            "grid_template_rows": null,
            "height": null,
            "justify_content": null,
            "justify_items": null,
            "left": null,
            "margin": null,
            "max_height": null,
            "max_width": null,
            "min_height": null,
            "min_width": null,
            "object_fit": null,
            "object_position": null,
            "order": null,
            "overflow": null,
            "overflow_x": null,
            "overflow_y": null,
            "padding": null,
            "right": null,
            "top": null,
            "visibility": null,
            "width": null
          }
        },
        "94d04cf78ffc430facc7300dd740fae2": {
          "model_module": "@jupyter-widgets/controls",
          "model_module_version": "1.5.0",
          "model_name": "ProgressStyleModel",
          "state": {
            "_model_module": "@jupyter-widgets/controls",
            "_model_module_version": "1.5.0",
            "_model_name": "ProgressStyleModel",
            "_view_count": null,
            "_view_module": "@jupyter-widgets/base",
            "_view_module_version": "1.2.0",
            "_view_name": "StyleView",
            "bar_color": null,
            "description_width": ""
          }
        },
        "952eeed11d024c3f998f7f113a90c4bb": {
          "model_module": "@jupyter-widgets/controls",
          "model_module_version": "1.5.0",
          "model_name": "VBoxModel",
          "state": {
            "_dom_classes": [],
            "_model_module": "@jupyter-widgets/controls",
            "_model_module_version": "1.5.0",
            "_model_name": "VBoxModel",
            "_view_count": null,
            "_view_module": "@jupyter-widgets/controls",
            "_view_module_version": "1.5.0",
            "_view_name": "VBoxView",
            "box_style": "",
            "children": [
              "IPY_MODEL_860719664e554a689f016f057357dc73",
              "IPY_MODEL_3bd8614eeae743c39b20ae9285dffc61"
            ],
            "layout": "IPY_MODEL_8ee7369cc66a40bdb55214ee39d2b4f4"
          }
        },
        "a0e45331d35f4cec9c59c2ca3c5f090d": {
          "model_module": "@jupyter-widgets/base",
          "model_module_version": "1.2.0",
          "model_name": "LayoutModel",
          "state": {
            "_model_module": "@jupyter-widgets/base",
            "_model_module_version": "1.2.0",
            "_model_name": "LayoutModel",
            "_view_count": null,
            "_view_module": "@jupyter-widgets/base",
            "_view_module_version": "1.2.0",
            "_view_name": "LayoutView",
            "align_content": null,
            "align_items": null,
            "align_self": null,
            "border": null,
            "bottom": null,
            "display": null,
            "flex": null,
            "flex_flow": null,
            "grid_area": null,
            "grid_auto_columns": null,
            "grid_auto_flow": null,
            "grid_auto_rows": null,
            "grid_column": null,
            "grid_gap": null,
            "grid_row": null,
            "grid_template_areas": null,
            "grid_template_columns": null,
            "grid_template_rows": null,
            "height": null,
            "justify_content": null,
            "justify_items": null,
            "left": null,
            "margin": null,
            "max_height": null,
            "max_width": null,
            "min_height": null,
            "min_width": null,
            "object_fit": null,
            "object_position": null,
            "order": null,
            "overflow": null,
            "overflow_x": null,
            "overflow_y": null,
            "padding": null,
            "right": null,
            "top": null,
            "visibility": null,
            "width": null
          }
        },
        "a8c1344bc1d8448ea2a821d0993e1128": {
          "model_module": "@jupyter-widgets/base",
          "model_module_version": "1.2.0",
          "model_name": "LayoutModel",
          "state": {
            "_model_module": "@jupyter-widgets/base",
            "_model_module_version": "1.2.0",
            "_model_name": "LayoutModel",
            "_view_count": null,
            "_view_module": "@jupyter-widgets/base",
            "_view_module_version": "1.2.0",
            "_view_name": "LayoutView",
            "align_content": null,
            "align_items": null,
            "align_self": null,
            "border": null,
            "bottom": null,
            "display": null,
            "flex": null,
            "flex_flow": null,
            "grid_area": null,
            "grid_auto_columns": null,
            "grid_auto_flow": null,
            "grid_auto_rows": null,
            "grid_column": null,
            "grid_gap": null,
            "grid_row": null,
            "grid_template_areas": null,
            "grid_template_columns": null,
            "grid_template_rows": null,
            "height": null,
            "justify_content": null,
            "justify_items": null,
            "left": null,
            "margin": null,
            "max_height": null,
            "max_width": null,
            "min_height": null,
            "min_width": null,
            "object_fit": null,
            "object_position": null,
            "order": null,
            "overflow": null,
            "overflow_x": null,
            "overflow_y": null,
            "padding": null,
            "right": null,
            "top": null,
            "visibility": null,
            "width": null
          }
        },
        "aa5246a369114be19401e00377e68fd3": {
          "model_module": "@jupyter-widgets/controls",
          "model_module_version": "1.5.0",
          "model_name": "FloatProgressModel",
          "state": {
            "_dom_classes": [],
            "_model_module": "@jupyter-widgets/controls",
            "_model_module_version": "1.5.0",
            "_model_name": "FloatProgressModel",
            "_view_count": null,
            "_view_module": "@jupyter-widgets/controls",
            "_view_module_version": "1.5.0",
            "_view_name": "ProgressView",
            "bar_style": "success",
            "description": "",
            "description_tooltip": null,
            "layout": "IPY_MODEL_828177f1899c4f3b974206af22fea29d",
            "max": 28,
            "min": 0,
            "orientation": "horizontal",
            "style": "IPY_MODEL_94d04cf78ffc430facc7300dd740fae2",
            "value": 28
          }
        },
        "aaa0b49a018144bdad259a5551825e6a": {
          "model_module": "@jupyter-widgets/controls",
          "model_module_version": "1.5.0",
          "model_name": "HTMLModel",
          "state": {
            "_dom_classes": [],
            "_model_module": "@jupyter-widgets/controls",
            "_model_module_version": "1.5.0",
            "_model_name": "HTMLModel",
            "_view_count": null,
            "_view_module": "@jupyter-widgets/controls",
            "_view_module_version": "1.5.0",
            "_view_name": "HTMLView",
            "description": "",
            "description_tooltip": null,
            "layout": "IPY_MODEL_0857227d75ca4e139088a37ec4d98a91",
            "placeholder": "​",
            "style": "IPY_MODEL_f94b8a34b4a446088068a2de80ef9fd2",
            "value": "Downloading: 100%"
          }
        },
        "adeeb5c4dc0a4e419ae7ee98280c2030": {
          "model_module": "@jupyter-widgets/controls",
          "model_module_version": "1.5.0",
          "model_name": "FloatProgressModel",
          "state": {
            "_dom_classes": [],
            "_model_module": "@jupyter-widgets/controls",
            "_model_module_version": "1.5.0",
            "_model_name": "FloatProgressModel",
            "_view_count": null,
            "_view_module": "@jupyter-widgets/controls",
            "_view_module_version": "1.5.0",
            "_view_name": "ProgressView",
            "bar_style": "success",
            "description": "",
            "description_tooltip": null,
            "layout": "IPY_MODEL_d5c7c2d048cf4baba5ea923fa42cbd04",
            "max": 231508,
            "min": 0,
            "orientation": "horizontal",
            "style": "IPY_MODEL_758978c0f25e4cf7a6cb398ebb2e123e",
            "value": 231508
          }
        },
        "b837b56ef54f42c7a8679b8b7d23347a": {
          "model_module": "@jupyter-widgets/base",
          "model_module_version": "1.2.0",
          "model_name": "LayoutModel",
          "state": {
            "_model_module": "@jupyter-widgets/base",
            "_model_module_version": "1.2.0",
            "_model_name": "LayoutModel",
            "_view_count": null,
            "_view_module": "@jupyter-widgets/base",
            "_view_module_version": "1.2.0",
            "_view_name": "LayoutView",
            "align_content": null,
            "align_items": null,
            "align_self": null,
            "border": null,
            "bottom": null,
            "display": null,
            "flex": null,
            "flex_flow": null,
            "grid_area": null,
            "grid_auto_columns": null,
            "grid_auto_flow": null,
            "grid_auto_rows": null,
            "grid_column": null,
            "grid_gap": null,
            "grid_row": null,
            "grid_template_areas": null,
            "grid_template_columns": null,
            "grid_template_rows": null,
            "height": null,
            "justify_content": null,
            "justify_items": null,
            "left": null,
            "margin": null,
            "max_height": null,
            "max_width": null,
            "min_height": null,
            "min_width": null,
            "object_fit": null,
            "object_position": null,
            "order": null,
            "overflow": null,
            "overflow_x": null,
            "overflow_y": null,
            "padding": null,
            "right": null,
            "top": null,
            "visibility": null,
            "width": null
          }
        },
        "bb37794eda4b4d66a0b78250acd082f1": {
          "model_module": "@jupyter-widgets/base",
          "model_module_version": "1.2.0",
          "model_name": "LayoutModel",
          "state": {
            "_model_module": "@jupyter-widgets/base",
            "_model_module_version": "1.2.0",
            "_model_name": "LayoutModel",
            "_view_count": null,
            "_view_module": "@jupyter-widgets/base",
            "_view_module_version": "1.2.0",
            "_view_name": "LayoutView",
            "align_content": null,
            "align_items": null,
            "align_self": null,
            "border": null,
            "bottom": null,
            "display": null,
            "flex": null,
            "flex_flow": null,
            "grid_area": null,
            "grid_auto_columns": null,
            "grid_auto_flow": null,
            "grid_auto_rows": null,
            "grid_column": null,
            "grid_gap": null,
            "grid_row": null,
            "grid_template_areas": null,
            "grid_template_columns": null,
            "grid_template_rows": null,
            "height": null,
            "justify_content": null,
            "justify_items": null,
            "left": null,
            "margin": null,
            "max_height": null,
            "max_width": null,
            "min_height": null,
            "min_width": null,
            "object_fit": null,
            "object_position": null,
            "order": null,
            "overflow": null,
            "overflow_x": null,
            "overflow_y": null,
            "padding": null,
            "right": null,
            "top": null,
            "visibility": null,
            "width": null
          }
        },
        "c2ea870cf10a40dd8e2297df5ce6f2a2": {
          "model_module": "@jupyter-widgets/controls",
          "model_module_version": "1.5.0",
          "model_name": "DescriptionStyleModel",
          "state": {
            "_model_module": "@jupyter-widgets/controls",
            "_model_module_version": "1.5.0",
            "_model_name": "DescriptionStyleModel",
            "_view_count": null,
            "_view_module": "@jupyter-widgets/base",
            "_view_module_version": "1.2.0",
            "_view_name": "StyleView",
            "description_width": ""
          }
        },
        "d5c7c2d048cf4baba5ea923fa42cbd04": {
          "model_module": "@jupyter-widgets/base",
          "model_module_version": "1.2.0",
          "model_name": "LayoutModel",
          "state": {
            "_model_module": "@jupyter-widgets/base",
            "_model_module_version": "1.2.0",
            "_model_name": "LayoutModel",
            "_view_count": null,
            "_view_module": "@jupyter-widgets/base",
            "_view_module_version": "1.2.0",
            "_view_name": "LayoutView",
            "align_content": null,
            "align_items": null,
            "align_self": null,
            "border": null,
            "bottom": null,
            "display": null,
            "flex": null,
            "flex_flow": null,
            "grid_area": null,
            "grid_auto_columns": null,
            "grid_auto_flow": null,
            "grid_auto_rows": null,
            "grid_column": null,
            "grid_gap": null,
            "grid_row": null,
            "grid_template_areas": null,
            "grid_template_columns": null,
            "grid_template_rows": null,
            "height": null,
            "justify_content": null,
            "justify_items": null,
            "left": null,
            "margin": null,
            "max_height": null,
            "max_width": null,
            "min_height": null,
            "min_width": null,
            "object_fit": null,
            "object_position": null,
            "order": null,
            "overflow": null,
            "overflow_x": null,
            "overflow_y": null,
            "padding": null,
            "right": null,
            "top": null,
            "visibility": null,
            "width": null
          }
        },
        "dded4d5b4762475eab05ce0fdbcc4df2": {
          "model_module": "@jupyter-widgets/base",
          "model_module_version": "1.2.0",
          "model_name": "LayoutModel",
          "state": {
            "_model_module": "@jupyter-widgets/base",
            "_model_module_version": "1.2.0",
            "_model_name": "LayoutModel",
            "_view_count": null,
            "_view_module": "@jupyter-widgets/base",
            "_view_module_version": "1.2.0",
            "_view_name": "LayoutView",
            "align_content": null,
            "align_items": null,
            "align_self": null,
            "border": null,
            "bottom": null,
            "display": null,
            "flex": null,
            "flex_flow": null,
            "grid_area": null,
            "grid_auto_columns": null,
            "grid_auto_flow": null,
            "grid_auto_rows": null,
            "grid_column": null,
            "grid_gap": null,
            "grid_row": null,
            "grid_template_areas": null,
            "grid_template_columns": null,
            "grid_template_rows": null,
            "height": null,
            "justify_content": null,
            "justify_items": null,
            "left": null,
            "margin": null,
            "max_height": null,
            "max_width": null,
            "min_height": null,
            "min_width": null,
            "object_fit": null,
            "object_position": null,
            "order": null,
            "overflow": null,
            "overflow_x": null,
            "overflow_y": null,
            "padding": null,
            "right": null,
            "top": null,
            "visibility": null,
            "width": null
          }
        },
        "de3f1b3114c6458baf42d049915f87bb": {
          "model_module": "@jupyter-widgets/controls",
          "model_module_version": "1.5.0",
          "model_name": "HTMLModel",
          "state": {
            "_dom_classes": [],
            "_model_module": "@jupyter-widgets/controls",
            "_model_module_version": "1.5.0",
            "_model_name": "HTMLModel",
            "_view_count": null,
            "_view_module": "@jupyter-widgets/controls",
            "_view_module_version": "1.5.0",
            "_view_name": "HTMLView",
            "description": "",
            "description_tooltip": null,
            "layout": "IPY_MODEL_4f5063b305f842138c21113acaf5d1f4",
            "placeholder": "​",
            "style": "IPY_MODEL_c2ea870cf10a40dd8e2297df5ce6f2a2",
            "value": "Downloading: 100%"
          }
        },
        "df0473d9901644b3b4245b8c00fd001a": {
          "model_module": "@jupyter-widgets/controls",
          "model_module_version": "1.5.0",
          "model_name": "ProgressStyleModel",
          "state": {
            "_model_module": "@jupyter-widgets/controls",
            "_model_module_version": "1.5.0",
            "_model_name": "ProgressStyleModel",
            "_view_count": null,
            "_view_module": "@jupyter-widgets/base",
            "_view_module_version": "1.2.0",
            "_view_name": "StyleView",
            "bar_color": null,
            "description_width": ""
          }
        },
        "e3efc7660dea4b5f936817d1793e268c": {
          "model_module": "@jupyter-widgets/controls",
          "model_module_version": "1.5.0",
          "model_name": "DescriptionStyleModel",
          "state": {
            "_model_module": "@jupyter-widgets/controls",
            "_model_module_version": "1.5.0",
            "_model_name": "DescriptionStyleModel",
            "_view_count": null,
            "_view_module": "@jupyter-widgets/base",
            "_view_module_version": "1.2.0",
            "_view_name": "StyleView",
            "description_width": ""
          }
        },
        "e624fe6108234ddb924bc2bd06478e0e": {
          "model_module": "@jupyter-widgets/controls",
          "model_module_version": "1.5.0",
          "model_name": "HBoxModel",
          "state": {
            "_dom_classes": [],
            "_model_module": "@jupyter-widgets/controls",
            "_model_module_version": "1.5.0",
            "_model_name": "HBoxModel",
            "_view_count": null,
            "_view_module": "@jupyter-widgets/controls",
            "_view_module_version": "1.5.0",
            "_view_name": "HBoxView",
            "box_style": "",
            "children": [
              "IPY_MODEL_880ed6e7e8834a3ebccdcebb07949de9",
              "IPY_MODEL_8eb79e0b7c26476f81331d8abfbd3c2a",
              "IPY_MODEL_32d41b3a01ae41ce9163b4713f53f293"
            ],
            "layout": "IPY_MODEL_06287184cc80404383f91052fe31915d"
          }
        },
        "f9117686cc604209aa37ba1c73c2619c": {
          "model_module": "@jupyter-widgets/controls",
          "model_module_version": "1.5.0",
          "model_name": "HTMLModel",
          "state": {
            "_dom_classes": [],
            "_model_module": "@jupyter-widgets/controls",
            "_model_module_version": "1.5.0",
            "_model_name": "HTMLModel",
            "_view_count": null,
            "_view_module": "@jupyter-widgets/controls",
            "_view_module_version": "1.5.0",
            "_view_name": "HTMLView",
            "description": "",
            "description_tooltip": null,
            "layout": "IPY_MODEL_dded4d5b4762475eab05ce0fdbcc4df2",
            "placeholder": "​",
            "style": "IPY_MODEL_e3efc7660dea4b5f936817d1793e268c",
            "value": " 570/570 [00:00&lt;00:00, 22.0kB/s]"
          }
        },
        "f94b8a34b4a446088068a2de80ef9fd2": {
          "model_module": "@jupyter-widgets/controls",
          "model_module_version": "1.5.0",
          "model_name": "DescriptionStyleModel",
          "state": {
            "_model_module": "@jupyter-widgets/controls",
            "_model_module_version": "1.5.0",
            "_model_name": "DescriptionStyleModel",
            "_view_count": null,
            "_view_module": "@jupyter-widgets/base",
            "_view_module_version": "1.2.0",
            "_view_name": "StyleView",
            "description_width": ""
          }
        },
        "fa02a0b264c0471b8bbaa3227622aaad": {
          "model_module": "@jupyter-widgets/controls",
          "model_module_version": "1.5.0",
          "model_name": "DescriptionStyleModel",
          "state": {
            "_model_module": "@jupyter-widgets/controls",
            "_model_module_version": "1.5.0",
            "_model_name": "DescriptionStyleModel",
            "_view_count": null,
            "_view_module": "@jupyter-widgets/base",
            "_view_module_version": "1.2.0",
            "_view_name": "StyleView",
            "description_width": ""
          }
        },
        "fdb2e22d3f324155b017352b5def39a3": {
          "model_module": "@jupyter-widgets/controls",
          "model_module_version": "1.5.0",
          "model_name": "DescriptionStyleModel",
          "state": {
            "_model_module": "@jupyter-widgets/controls",
            "_model_module_version": "1.5.0",
            "_model_name": "DescriptionStyleModel",
            "_view_count": null,
            "_view_module": "@jupyter-widgets/base",
            "_view_module_version": "1.2.0",
            "_view_name": "StyleView",
            "description_width": ""
          }
        },
        "fffad02bd224405d9df8e37db4b38b37": {
          "model_module": "@jupyter-widgets/controls",
          "model_module_version": "1.5.0",
          "model_name": "HTMLModel",
          "state": {
            "_dom_classes": [],
            "_model_module": "@jupyter-widgets/controls",
            "_model_module_version": "1.5.0",
            "_model_name": "HTMLModel",
            "_view_count": null,
            "_view_module": "@jupyter-widgets/controls",
            "_view_module_version": "1.5.0",
            "_view_name": "HTMLView",
            "description": "",
            "description_tooltip": null,
            "layout": "IPY_MODEL_03af3a66d249447f87be1f3e51d819f7",
            "placeholder": "​",
            "style": "IPY_MODEL_fdb2e22d3f324155b017352b5def39a3",
            "value": " 226k/226k [00:00&lt;00:00, 875kB/s]"
          }
        }
      }
    }
  },
  "nbformat": 4,
  "nbformat_minor": 5
}
