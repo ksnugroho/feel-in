{
  "cells": [
    {
      "cell_type": "markdown",
      "metadata": {
        "colab_type": "text",
        "id": "view-in-github"
      },
      "source": [
        "<a href=\"https://colab.research.google.com/github/ksnugroho/feel-in/blob/main/model-baseline-bert/03_BERT_fine_tuning_indolem_indobert_base.ipynb\" target=\"_parent\"><img src=\"https://colab.research.google.com/assets/colab-badge.svg\" alt=\"Open In Colab\"/></a>"
      ]
    },
    {
      "cell_type": "markdown",
      "id": "fK3gIPxS6Wbw",
      "metadata": {
        "id": "fK3gIPxS6Wbw"
      },
      "source": [
        "# **BERT Fine Tuning: Indolem Indobert Base (Uncased)**\n",
        "\n",
        "**Thesis: Emotion Detection in Indonesian Text**\n",
        "\n",
        "Kuncahyo Setyo Nugroho<br>\n",
        "Supervisor:\n",
        "1. Dr. Eng. Fitra A. Bachtiar, S.T., M.Eng.\n",
        "2. Prof. Ir. Wayan Firdaus Mahmudy, S.Si., M.T., Ph.D.\n",
        "\n",
        "Faculty of Computer Science, Brawijaya University, Indonesia &copy; 2021-2022"
      ]
    },
    {
      "cell_type": "markdown",
      "id": "5e9bd0fc-0b80-4ad2-a930-e9de97552ecc",
      "metadata": {
        "id": "5e9bd0fc-0b80-4ad2-a930-e9de97552ecc"
      },
      "source": [
        "# 01 Setup"
      ]
    },
    {
      "cell_type": "code",
      "execution_count": 1,
      "id": "c4L_rfEaIRyU",
      "metadata": {
        "colab": {
          "base_uri": "https://localhost:8080/"
        },
        "id": "c4L_rfEaIRyU",
        "outputId": "f7297bbb-b48c-46b9-f932-b23a5907dd0f"
      },
      "outputs": [
        {
          "name": "stdout",
          "output_type": "stream",
          "text": [
            "Mounted at /content/drive\n"
          ]
        }
      ],
      "source": [
        "from google.colab import drive\n",
        "drive.mount('/content/drive', force_remount=True)"
      ]
    },
    {
      "cell_type": "code",
      "execution_count": null,
      "id": "g2mJAf9KIUOW",
      "metadata": {
        "colab": {
          "base_uri": "https://localhost:8080/"
        },
        "id": "g2mJAf9KIUOW",
        "outputId": "342437be-8fdb-4fd9-c2aa-b1ce05776453"
      },
      "outputs": [],
      "source": [
        "%cd /content/drive/MyDrive/"
      ]
    },
    {
      "cell_type": "code",
      "execution_count": 3,
      "id": "p6N3DanHIhKI",
      "metadata": {
        "colab": {
          "base_uri": "https://localhost:8080/"
        },
        "id": "p6N3DanHIhKI",
        "outputId": "e6d67d9e-4b06-44d1-faa9-8b7d5074a1c3"
      },
      "outputs": [
        {
          "name": "stdout",
          "output_type": "stream",
          "text": [
            "\u001b[K     |████████████████████████████████| 4.4 MB 9.7 MB/s \n",
            "\u001b[K     |████████████████████████████████| 1.1 MB 68.7 MB/s \n",
            "\u001b[K     |████████████████████████████████| 101 kB 14.5 MB/s \n",
            "\u001b[K     |████████████████████████████████| 6.6 MB 86.1 MB/s \n",
            "\u001b[K     |████████████████████████████████| 596 kB 88.8 MB/s \n",
            "\u001b[?25h"
          ]
        }
      ],
      "source": [
        "!pip install -q transformers tensorflow-addons"
      ]
    },
    {
      "cell_type": "code",
      "execution_count": 4,
      "id": "991ebc5e-f3d2-41b1-b81f-e814a9739113",
      "metadata": {
        "id": "991ebc5e-f3d2-41b1-b81f-e814a9739113"
      },
      "outputs": [],
      "source": [
        "import re\n",
        "import os\n",
        "import datetime\n",
        "import numpy as np\n",
        "import pandas as pd\n",
        "import matplotlib.pyplot as plt\n",
        "import seaborn as sns\n",
        "\n",
        "from itertools import cycle\n",
        "from sklearn.preprocessing import LabelEncoder, label_binarize\n",
        "from sklearn.model_selection import train_test_split\n",
        "from sklearn.metrics import roc_curve, auc, confusion_matrix, classification_report\n",
        "\n",
        "import transformers\n",
        "from transformers import BertTokenizer, BertConfig, TFBertModel\n",
        "\n",
        "import tensorflow as tf\n",
        "import tensorflow_addons as tfa\n",
        "from tensorflow.keras.utils import to_categorical, plot_model\n",
        "from tensorflow_addons.optimizers import AdamW\n",
        "from tensorflow.keras.losses import CategoricalCrossentropy\n",
        "from tensorflow.keras.callbacks import EarlyStopping, ModelCheckpoint, TensorBoard\n",
        "\n",
        "from tqdm import tqdm\n",
        "tqdm.pandas()\n",
        "\n",
        "import warnings\n",
        "warnings.filterwarnings('ignore')\n",
        "\n",
        "SEED = 50\n",
        "\n",
        "# Tentukan pre-trained model yang akan digunakan untuk fine-tuning\n",
        "# Daftar model https://huggingface.co\n",
        "\n",
        "PRE_TRAINED_MODEL = 'indolem/indobert-base-uncased'  # https://huggingface.co/indolem/indobert-base-uncased\n",
        "MODEL = PRE_TRAINED_MODEL.replace('/', '-')\n",
        "FOLDER_PATH = 'model-baseline-bert'\n",
        "\n",
        "np.random.seed(SEED)\n",
        "tf.random.set_seed(SEED)\n",
        "colors = plt.rcParams['axes.prop_cycle'].by_key()['color']\n",
        "\n",
        "%matplotlib inline"
      ]
    },
    {
      "cell_type": "code",
      "execution_count": 5,
      "id": "df61f621-d3df-4382-b3cb-b8831bba3635",
      "metadata": {
        "colab": {
          "base_uri": "https://localhost:8080/"
        },
        "id": "df61f621-d3df-4382-b3cb-b8831bba3635",
        "outputId": "a0de43fa-a384-4c04-d729-bd03df60547c"
      },
      "outputs": [
        {
          "name": "stdout",
          "output_type": "stream",
          "text": [
            "Tensorflow: 2.8.2\n",
            "Tensorflow addons: 0.17.1\n",
            "Transformers: 4.20.1\n"
          ]
        }
      ],
      "source": [
        "print('Tensorflow:', tf.__version__)\n",
        "print('Tensorflow addons:',tfa.__version__)\n",
        "print('Transformers:', transformers.__version__)"
      ]
    },
    {
      "cell_type": "code",
      "execution_count": 6,
      "id": "WJ79Jte5EbdK",
      "metadata": {
        "colab": {
          "base_uri": "https://localhost:8080/"
        },
        "id": "WJ79Jte5EbdK",
        "outputId": "9690f09e-aef4-4dcd-f66f-e06fcaa6dce7"
      },
      "outputs": [
        {
          "name": "stdout",
          "output_type": "stream",
          "text": [
            "\u001b[K     |████████████████████████████████| 1.8 MB 9.4 MB/s \n",
            "\u001b[K     |████████████████████████████████| 181 kB 82.5 MB/s \n",
            "\u001b[K     |████████████████████████████████| 147 kB 89.2 MB/s \n",
            "\u001b[K     |████████████████████████████████| 63 kB 2.0 MB/s \n",
            "\u001b[?25h  Building wheel for pathtools (setup.py) ... \u001b[?25l\u001b[?25hdone\n"
          ]
        }
      ],
      "source": [
        "!pip install -q wandb"
      ]
    },
    {
      "cell_type": "code",
      "execution_count": 7,
      "id": "rJJ3XjcZEdFM",
      "metadata": {
        "colab": {
          "base_uri": "https://localhost:8080/"
        },
        "id": "rJJ3XjcZEdFM",
        "outputId": "7dc7d038-3920-465a-dd38-815b590eb93d"
      },
      "outputs": [
        {
          "name": "stderr",
          "output_type": "stream",
          "text": [
            "\u001b[34m\u001b[1mwandb\u001b[0m: W&B API key is configured. Use \u001b[1m`wandb login --relogin`\u001b[0m to force relogin\n",
            "\u001b[34m\u001b[1mwandb\u001b[0m: \u001b[33mWARNING\u001b[0m If you're specifying your api key in code, ensure this code is not shared publicly.\n",
            "\u001b[34m\u001b[1mwandb\u001b[0m: \u001b[33mWARNING\u001b[0m Consider setting the WANDB_API_KEY environment variable, or running `wandb login` from the command line.\n",
            "\u001b[34m\u001b[1mwandb\u001b[0m: Appending key for api.wandb.ai to your netrc file: /root/.netrc\n"
          ]
        },
        {
          "data": {
            "text/plain": [
              "True"
            ]
          },
          "execution_count": 7,
          "metadata": {},
          "output_type": "execute_result"
        }
      ],
      "source": [
        "import wandb\n",
        "from wandb.keras import WandbCallback\n",
        "\n",
        "wandb.login(key='API_KEY')"
      ]
    },
    {
      "cell_type": "code",
      "execution_count": 8,
      "id": "vBrj9cNcDnWI",
      "metadata": {
        "colab": {
          "base_uri": "https://localhost:8080/"
        },
        "id": "vBrj9cNcDnWI",
        "outputId": "046cfbe4-a0e5-4815-91dc-339a231f61e3"
      },
      "outputs": [
        {
          "name": "stdout",
          "output_type": "stream",
          "text": [
            "07-15-2022-15:25\n"
          ]
        }
      ],
      "source": [
        "TODAY = datetime.datetime.now().strftime(\"%m-%d-%Y-%H:%M\")\n",
        "print(TODAY)"
      ]
    },
    {
      "cell_type": "markdown",
      "id": "e0cdcc2e-0087-4e50-a3a2-bf19545342be",
      "metadata": {
        "id": "e0cdcc2e-0087-4e50-a3a2-bf19545342be"
      },
      "source": [
        "# 02 Load Data"
      ]
    },
    {
      "cell_type": "code",
      "execution_count": 9,
      "id": "49c107be-7ee7-4ae0-b479-b8bef225e606",
      "metadata": {
        "colab": {
          "base_uri": "https://localhost:8080/"
        },
        "id": "49c107be-7ee7-4ae0-b479-b8bef225e606",
        "outputId": "4fb3f875-5d6f-451d-e9c8-12680d41b2c7",
        "tags": []
      },
      "outputs": [
        {
          "name": "stdout",
          "output_type": "stream",
          "text": [
            "                                               tweet    label\n",
            "0        wah belom liat muka gue lagi murka hahahaha      joy\n",
            "1  Mungkin kurang piknik adrenalin. Mereka yg ske...    anger\n",
            "2  maaf kalo tersinggung \"orang kurus cepet mati\"...    anger\n",
            "3  berserah pada maha esa paling tabah dan sabar ...      joy\n",
            "4                       Ehekk malu la hahahahahahaha  sadness\n"
          ]
        }
      ],
      "source": [
        "df = pd.read_csv('data/final-tweet-anotasi.csv', index_col=0)\n",
        "# df = df.sample(frac=1, random_state=SEED).reset_index(drop=True)   # For shuffle\n",
        "print(df.head())"
      ]
    },
    {
      "cell_type": "code",
      "execution_count": 10,
      "id": "K0YuhMKvI5LO",
      "metadata": {
        "id": "K0YuhMKvI5LO"
      },
      "outputs": [],
      "source": [
        "# df = df.dropna()"
      ]
    },
    {
      "cell_type": "code",
      "execution_count": 11,
      "id": "OaYdDlkBKj2z",
      "metadata": {
        "colab": {
          "base_uri": "https://localhost:8080/"
        },
        "id": "OaYdDlkBKj2z",
        "outputId": "a89f2803-ec08-486d-dfcc-7ea1e31346a6"
      },
      "outputs": [
        {
          "data": {
            "text/plain": [
              "(2243, 2)"
            ]
          },
          "execution_count": 11,
          "metadata": {},
          "output_type": "execute_result"
        }
      ],
      "source": [
        "df.shape"
      ]
    },
    {
      "cell_type": "code",
      "execution_count": 12,
      "id": "504fb63d-89ec-4fbc-93d5-19ff943dcccf",
      "metadata": {
        "id": "504fb63d-89ec-4fbc-93d5-19ff943dcccf"
      },
      "outputs": [],
      "source": [
        "# Copy data\n",
        "df_raw = df.copy()"
      ]
    },
    {
      "cell_type": "code",
      "execution_count": 13,
      "id": "ibzYUH9NDtk2",
      "metadata": {
        "colab": {
          "base_uri": "https://localhost:8080/",
          "height": 456
        },
        "id": "ibzYUH9NDtk2",
        "outputId": "431639b6-f321-4a2a-b7b9-77c361b90ff8"
      },
      "outputs": [
        {
          "data": {
            "image/png": "[encoded data removed]",
            "text/plain": [
              "<Figure size 576x360 with 1 Axes>"
            ]
          },
          "metadata": {
            "needs_background": "light"
          },
          "output_type": "display_data"
        },
        {
          "data": {
            "text/plain": [
              "anger       475\n",
              "disgust     355\n",
              "fear        395\n",
              "joy         429\n",
              "sadness     303\n",
              "surprise    286\n",
              "Name: label, dtype: int64"
            ]
          },
          "execution_count": 13,
          "metadata": {},
          "output_type": "execute_result"
        }
      ],
      "source": [
        "plt.figure(figsize=(8, 5))\n",
        "sns.countplot(x='label', data=df, order=df['label'].value_counts().index)\n",
        "plt.xlabel('Distribution of Emotion Label')\n",
        "plt.show()\n",
        "\n",
        "df['label'].value_counts().sort_index()"
      ]
    },
    {
      "cell_type": "markdown",
      "id": "1d86ba6e-a227-4cb5-8ea2-a0abc90cf41f",
      "metadata": {
        "id": "1d86ba6e-a227-4cb5-8ea2-a0abc90cf41f"
      },
      "source": [
        "# 03 Preprocessing"
      ]
    },
    {
      "cell_type": "markdown",
      "id": "ySuAUGMND8dU",
      "metadata": {
        "id": "ySuAUGMND8dU"
      },
      "source": [
        "## Text Cleaning"
      ]
    },
    {
      "cell_type": "code",
      "execution_count": 14,
      "id": "80b62680-29bf-4e02-9365-504922a54885",
      "metadata": {
        "id": "80b62680-29bf-4e02-9365-504922a54885"
      },
      "outputs": [],
      "source": [
        "def text_cleaning(text):\n",
        "    text = text.lower()                               # Mengubah teks menjadi lower case\n",
        "    text = re.sub(r'https?://\\S+|www\\.\\S+', '', text) # Menghapus URL\n",
        "    text = re.sub(r'[-+]?[0-9]+', '', text)           # Menghapus angka\n",
        "    text = re.sub(r'[^\\w\\s]','', text)                # Menghapus karakter tanda baca\n",
        "    text = text.strip()                               # Menghapus whitespaces\n",
        "    return text"
      ]
    },
    {
      "cell_type": "code",
      "execution_count": 15,
      "id": "09ccca8e-6dc0-4061-8315-7e32c581a9ac",
      "metadata": {
        "colab": {
          "base_uri": "https://localhost:8080/"
        },
        "id": "09ccca8e-6dc0-4061-8315-7e32c581a9ac",
        "outputId": "eef7bf53-a871-4b06-f50e-968b1187caf2"
      },
      "outputs": [
        {
          "name": "stderr",
          "output_type": "stream",
          "text": [
            "100%|██████████| 2243/2243 [00:00<00:00, 83019.98it/s]"
          ]
        },
        {
          "name": "stdout",
          "output_type": "stream",
          "text": [
            "CPU times: user 33.5 ms, sys: 947 µs, total: 34.5 ms\n",
            "Wall time: 33 ms\n"
          ]
        },
        {
          "name": "stderr",
          "output_type": "stream",
          "text": [
            "\n"
          ]
        }
      ],
      "source": [
        "%%time \n",
        "df['tweet'] = df['tweet'].progress_apply(text_cleaning)"
      ]
    },
    {
      "cell_type": "markdown",
      "id": "Jl8B8ViHD9_K",
      "metadata": {
        "id": "Jl8B8ViHD9_K"
      },
      "source": [
        "## Label Encoder"
      ]
    },
    {
      "cell_type": "code",
      "execution_count": 16,
      "id": "ItHDBAOUD_w3",
      "metadata": {
        "colab": {
          "base_uri": "https://localhost:8080/"
        },
        "id": "ItHDBAOUD_w3",
        "outputId": "9de73779-ead9-4b22-85e9-196df850988c"
      },
      "outputs": [
        {
          "name": "stdout",
          "output_type": "stream",
          "text": [
            "                                               tweet    label  label_encode\n",
            "0        wah belom liat muka gue lagi murka hahahaha      joy             3\n",
            "1  mungkin kurang piknik adrenalin mereka yg skep...    anger             0\n",
            "2  maaf kalo tersinggung orang kurus cepet mati w...    anger             0\n",
            "3  berserah pada maha esa paling tabah dan sabar ...      joy             3\n",
            "4                       ehekk malu la hahahahahahaha  sadness             4\n"
          ]
        }
      ],
      "source": [
        "le = LabelEncoder()\n",
        "\n",
        "df['label_encode'] = le.fit_transform(df['label'])\n",
        "print(df.head())"
      ]
    },
    {
      "cell_type": "code",
      "execution_count": 17,
      "id": "bjIwbWZeEAwu",
      "metadata": {
        "colab": {
          "base_uri": "https://localhost:8080/"
        },
        "id": "bjIwbWZeEAwu",
        "outputId": "c60dcd06-0c77-437d-f3b8-504d71449f31"
      },
      "outputs": [
        {
          "name": "stdout",
          "output_type": "stream",
          "text": [
            "{'anger': 0, 'disgust': 1, 'fear': 2, 'joy': 3, 'sadness': 4, 'surprise': 5}\n"
          ]
        }
      ],
      "source": [
        "le_mapping = dict(zip(le.classes_, le.transform(le.classes_)))\n",
        "print(le_mapping)"
      ]
    },
    {
      "cell_type": "code",
      "execution_count": 18,
      "id": "7y0Xig8wEB38",
      "metadata": {
        "colab": {
          "base_uri": "https://localhost:8080/"
        },
        "id": "7y0Xig8wEB38",
        "outputId": "0dc708f0-c33c-4bb1-ed50-52b69153be28"
      },
      "outputs": [
        {
          "name": "stdout",
          "output_type": "stream",
          "text": [
            "['anger' 'disgust' 'fear' 'joy' 'sadness' 'surprise']\n"
          ]
        }
      ],
      "source": [
        "LABEL_NAME = le.classes_\n",
        "print(LABEL_NAME)"
      ]
    },
    {
      "cell_type": "markdown",
      "id": "Y0pcPELxEZ2T",
      "metadata": {
        "id": "Y0pcPELxEZ2T"
      },
      "source": [
        "# 04 Choosing Maximum Lenght of the Sequence"
      ]
    },
    {
      "cell_type": "code",
      "execution_count": 19,
      "id": "rE0V9ZWOEe6N",
      "metadata": {
        "colab": {
          "base_uri": "https://localhost:8080/",
          "height": 334
        },
        "id": "rE0V9ZWOEe6N",
        "outputId": "188d3d83-04ee-4cd4-ae0a-05a54962e0b5"
      },
      "outputs": [
        {
          "data": {
            "image/png": "[encoded data removed]",
            "text/plain": [
              "<Figure size 576x360 with 1 Axes>"
            ]
          },
          "metadata": {
            "needs_background": "light"
          },
          "output_type": "display_data"
        }
      ],
      "source": [
        "token_lens = []\n",
        "\n",
        "for text in df['tweet']:\n",
        "    tokens = text.split()\n",
        "    token_lens.append(len(tokens))\n",
        "\n",
        "plt.figure(figsize=(8, 5))\n",
        "sns.histplot(token_lens, kde=True, stat='density', linewidth=0)\n",
        "plt.xlim([0, 100]);\n",
        "plt.xlabel('Token count');"
      ]
    },
    {
      "cell_type": "code",
      "execution_count": 20,
      "id": "mdemrg3WEg8c",
      "metadata": {
        "id": "mdemrg3WEg8c"
      },
      "outputs": [],
      "source": [
        "MAX_SEQ_LENGTH = 80"
      ]
    },
    {
      "cell_type": "markdown",
      "id": "dcaf1af3-243c-45f3-9f2d-8620111cca43",
      "metadata": {
        "id": "dcaf1af3-243c-45f3-9f2d-8620111cca43"
      },
      "source": [
        "# 05 Train & Test Data Splitting"
      ]
    },
    {
      "cell_type": "code",
      "execution_count": 21,
      "id": "xWOkDLdbhH_o",
      "metadata": {
        "id": "xWOkDLdbhH_o"
      },
      "outputs": [],
      "source": [
        "NUM_CLASS = len(df['label_encode'].unique())\n",
        "\n",
        "X = df['tweet']\n",
        "y = to_categorical(df['label_encode'], num_classes=NUM_CLASS, dtype='float64')  # Lakukan one-hot encoding pada label (y)"
      ]
    },
    {
      "cell_type": "code",
      "execution_count": 22,
      "id": "EeSa6GgPIiBn",
      "metadata": {
        "colab": {
          "base_uri": "https://localhost:8080/"
        },
        "id": "EeSa6GgPIiBn",
        "outputId": "8e15e1fc-b394-4572-ff8d-64270b355789"
      },
      "outputs": [
        {
          "data": {
            "text/plain": [
              "array([[0., 0., 0., 1., 0., 0.],\n",
              "       [1., 0., 0., 0., 0., 0.],\n",
              "       [1., 0., 0., 0., 0., 0.],\n",
              "       ...,\n",
              "       [0., 0., 0., 0., 0., 1.],\n",
              "       [0., 0., 0., 1., 0., 0.],\n",
              "       [1., 0., 0., 0., 0., 0.]])"
            ]
          },
          "execution_count": 22,
          "metadata": {},
          "output_type": "execute_result"
        }
      ],
      "source": [
        "y"
      ]
    },
    {
      "cell_type": "code",
      "execution_count": 23,
      "id": "253e89b8-d884-453a-a7b5-0bf54f91e2df",
      "metadata": {
        "colab": {
          "base_uri": "https://localhost:8080/"
        },
        "id": "253e89b8-d884-453a-a7b5-0bf54f91e2df",
        "outputId": "c9227c43-1d70-45c9-d0da-6c2d31eb36fb"
      },
      "outputs": [
        {
          "data": {
            "text/plain": [
              "((1794,), (449,), (1794, 6), (449, 6))"
            ]
          },
          "execution_count": 23,
          "metadata": {},
          "output_type": "execute_result"
        }
      ],
      "source": [
        "X_train, X_test, y_train, y_test = train_test_split(X, y, test_size=0.20, stratify=y, random_state=SEED)\n",
        "X_train.shape, X_test.shape, y_train.shape, y_test.shape"
      ]
    },
    {
      "cell_type": "markdown",
      "id": "ab09f872-84db-4dc6-b713-4644c7103ac3",
      "metadata": {
        "id": "ab09f872-84db-4dc6-b713-4644c7103ac3"
      },
      "source": [
        "# 06 Preparing Data for BERT Input"
      ]
    },
    {
      "cell_type": "markdown",
      "id": "yBDB97_M5QZ7",
      "metadata": {
        "id": "yBDB97_M5QZ7"
      },
      "source": [
        "## Load Pre Trained BERT Tokenizer"
      ]
    },
    {
      "cell_type": "code",
      "execution_count": 24,
      "id": "e128a851-f419-4ecd-b3ab-4673dfbde62e",
      "metadata": {
        "colab": {
          "base_uri": "https://localhost:8080/",
          "height": 177,
          "referenced_widgets": [
            "1037e3f435c84a0d8a9bbf60ba117a70",
            "9565975894e24a19bab7daae5e905882",
            "8fa48883ee4642069fd0b9dcf0b7ba53",
            "79b6102537b948a9af4f6cb4632190cc",
            "210605aa33bb4cae81bc509a3efe50e4",
            "b1465b4d3480471d8f1ee1af7ee389b3",
            "1a7b3c15ec094d0a974f9b81f65977db",
            "047969f92771482aa5c3f9976a6e14ca",
            "6a5bab5ef6ff43e28dc1cda961b041c5",
            "ad67909580814c019e8c15782eeeb053",
            "a8f188fb12c74942b3d9d15057123a0e",
            "7b1940e266b24c4f9cf3e1ac31cae868",
            "6304d194ba8f4a0f8a9a97d9d13c5ff8",
            "529cb336653a484f9c5e10c3fadab08b",
            "18acd3cf313e49278bf287f098e357bc",
            "5956fdaaf1dd42a0aae830c031884f07",
            "e86c5cdd90e449e193e73a2f94eac34c",
            "a1ea0cdd08314c7799d7428c5f9ae0ea",
            "da819c0fd2124caeafdd2c334307b715",
            "bd0f7c6650e74166834f34f8ea7dd515",
            "3eb6256730184adf9bf60430e3ecb2b7",
            "310088e52a75471a8fef590cea6792f3",
            "9a27cb6702464bbabfae623c56c89d6c",
            "ad70bb174b33412a9abba417c30509c4",
            "a968d4bde9614e3bab9bf98e76aacbd5",
            "176b423e26a949639d04c0303131ef45",
            "03cf4e269d364e7584bdadab648e330f",
            "aec4f6cafd1b4dd7b151dfd13cde2053",
            "4dedcd608869485f859b583554f9dcca",
            "f1dc29811e434abdaa5d5aa770768e42",
            "3ea8745930514fa69cdf891ec0e12747",
            "51bcf925e09b4daebbcf2ad08c8bca7c",
            "94282bc83dd84a81844c4f3b175250f0",
            "ce9f03e12c4341cdbe6b493263551b8a",
            "7c492f1881584d0e8b8b954224f69d89",
            "38f25428744c495ca54b88e41f6157b9",
            "22eb2e5ea85e4e26ada61f2fe0e30938",
            "f0f32e4ffe2841039b6c2e2dc5793c10",
            "a58964c247794e5ab74962934e033877",
            "67bc1ae2e1ed47d69547b58d0ffca664",
            "26084333768d47208a830e03b93cae2c",
            "dd15e08fb27e4372aeac1d56ebe897a4",
            "53cdd05653144b4bbd98a8ade094d872",
            "9a16f7aab415434091f740c9c9827f7a",
            "eec4a5ad997041c49686cbe93c5adfe9",
            "b79e1e0432e44d2a9620ea1069652acb",
            "381400f65d8842dfad2f9a155b6b9135",
            "12d6463ee2f14d5d8614153a16fef8a3",
            "71475decf85e4283b88d2104276a8698",
            "f574db3c54d5499a9815d581261cecf4",
            "f13149cf669143f6a8b6e8925f3d920f",
            "c90c67851d904fa4ab9cc23f0417e248",
            "5a8cb39f46ef4e988702a74a5f214806",
            "4f20c95203f047b1840f0a5d2cb45ebf",
            "953ac874f40d48d5a5d543bd97ca5843"
          ]
        },
        "id": "e128a851-f419-4ecd-b3ab-4673dfbde62e",
        "outputId": "73f4e982-a4a7-49a0-bcd9-cae8117bda27"
      },
      "outputs": [
        {
          "data": {
            "application/vnd.jupyter.widget-view+json": {
              "model_id": "1037e3f435c84a0d8a9bbf60ba117a70",
              "version_major": 2,
              "version_minor": 0
            },
            "text/plain": [
              "Downloading:   0%|          | 0.00/229k [00:00<?, ?B/s]"
            ]
          },
          "metadata": {},
          "output_type": "display_data"
        },
        {
          "data": {
            "application/vnd.jupyter.widget-view+json": {
              "model_id": "7b1940e266b24c4f9cf3e1ac31cae868",
              "version_major": 2,
              "version_minor": 0
            },
            "text/plain": [
              "Downloading:   0%|          | 0.00/2.00 [00:00<?, ?B/s]"
            ]
          },
          "metadata": {},
          "output_type": "display_data"
        },
        {
          "data": {
            "application/vnd.jupyter.widget-view+json": {
              "model_id": "9a27cb6702464bbabfae623c56c89d6c",
              "version_major": 2,
              "version_minor": 0
            },
            "text/plain": [
              "Downloading:   0%|          | 0.00/112 [00:00<?, ?B/s]"
            ]
          },
          "metadata": {},
          "output_type": "display_data"
        },
        {
          "data": {
            "application/vnd.jupyter.widget-view+json": {
              "model_id": "ce9f03e12c4341cdbe6b493263551b8a",
              "version_major": 2,
              "version_minor": 0
            },
            "text/plain": [
              "Downloading:   0%|          | 0.00/42.0 [00:00<?, ?B/s]"
            ]
          },
          "metadata": {},
          "output_type": "display_data"
        },
        {
          "data": {
            "application/vnd.jupyter.widget-view+json": {
              "model_id": "eec4a5ad997041c49686cbe93c5adfe9",
              "version_major": 2,
              "version_minor": 0
            },
            "text/plain": [
              "Downloading:   0%|          | 0.00/0.99k [00:00<?, ?B/s]"
            ]
          },
          "metadata": {},
          "output_type": "display_data"
        }
      ],
      "source": [
        "bert_tokenizer = BertTokenizer.from_pretrained(PRE_TRAINED_MODEL)  # Load tokenizer dari pre-trained model"
      ]
    },
    {
      "cell_type": "code",
      "execution_count": null,
      "id": "f2dc357a-b8ea-469a-9868-3efb9a1b5bde",
      "metadata": {
        "colab": {
          "base_uri": "https://localhost:8080/"
        },
        "id": "f2dc357a-b8ea-469a-9868-3efb9a1b5bde",
        "outputId": "dabc46b5-f4ba-421b-d344-2636a05c5452"
      },
      "outputs": [],
      "source": [
        "# Lihat vocabulary dari pre-trained model yang telah di load sebelumnya\n",
        "vocabulary = bert_tokenizer.get_vocab()\n",
        "\n",
        "print(vocabulary)\n",
        "print('Panjang vocabulary:', len(vocabulary))"
      ]
    },
    {
      "cell_type": "markdown",
      "id": "9799bcf3-d621-4a98-af9b-96f6b171fe71",
      "metadata": {
        "id": "9799bcf3-d621-4a98-af9b-96f6b171fe71"
      },
      "source": [
        "## BERT Input Formatting"
      ]
    },
    {
      "cell_type": "code",
      "execution_count": 26,
      "id": "105baf4e-02f5-45fe-a7fb-895da9200ca2",
      "metadata": {
        "colab": {
          "base_uri": "https://localhost:8080/"
        },
        "id": "105baf4e-02f5-45fe-a7fb-895da9200ca2",
        "outputId": "f8731908-45b7-4894-e507-cc20ba6aefac",
        "tags": []
      },
      "outputs": [
        {
          "data": {
            "text/plain": [
              "dict_keys(['input_ids', 'token_type_ids', 'attention_mask'])"
            ]
          },
          "execution_count": 26,
          "metadata": {},
          "output_type": "execute_result"
        }
      ],
      "source": [
        "id_data = 5 # Mengambil sampe data indeks ke-5 pada dataframe\n",
        "\n",
        "# Contoh input formatting untuk BERT. Input formating dapat menggunakan fungsi `encode_plus`\n",
        "bert_input = bert_tokenizer.encode_plus(\n",
        "    df.tweet[id_data],              # Sample kalimat                \n",
        "    add_special_tokens = True,      # Tambahkan token [CLS] pada awal kalimat dan token [SEP] pada akhir kalimat\n",
        "    padding = 'max_length',         # Tambahkan padding ke max_length menggunakan token [PAD] jika kalimat kurang dari max_length\n",
        "    truncation = 'longest_first',   # Truncate jika kalimat lebih dari max_length\n",
        "    max_length = 50,                # Tentukan max_length dari seluruh kalimat\n",
        "    return_attention_mask = True,   # Mengembalikan nilai attention mask\n",
        "    return_token_type_ids =True     # Mengembalikan nilai token type id (segment embedding)\n",
        "    )\n",
        "\n",
        "# Fungsi `encode_plus` mengembalikan 3 nilai: input_ids, token_type_ids, attention_mask\n",
        "bert_input.keys()"
      ]
    },
    {
      "cell_type": "code",
      "execution_count": 27,
      "id": "5a66aa9e-b96e-4523-90c5-877b5a493475",
      "metadata": {
        "colab": {
          "base_uri": "https://localhost:8080/"
        },
        "id": "5a66aa9e-b96e-4523-90c5-877b5a493475",
        "outputId": "4e26878e-bce9-450a-9aae-c03a6a73cfb4"
      },
      "outputs": [
        {
          "name": "stdout",
          "output_type": "stream",
          "text": [
            "Kalimat\t\t: WKWKWKWK KESAL AKU BACANYA TAPI KOK SENYUM2\n",
            "Tokenizer\t: ['[CLS]', 'w', '##k', '##w', '##k', '##w', '##k', '##w', '##k', 'kesal', 'aku', 'baca', '##nya', 'tapi', 'kok', 'senyum', '[SEP]', '[PAD]', '[PAD]', '[PAD]', '[PAD]', '[PAD]', '[PAD]', '[PAD]', '[PAD]', '[PAD]', '[PAD]', '[PAD]', '[PAD]', '[PAD]', '[PAD]', '[PAD]', '[PAD]', '[PAD]', '[PAD]', '[PAD]', '[PAD]', '[PAD]', '[PAD]', '[PAD]', '[PAD]', '[PAD]', '[PAD]', '[PAD]', '[PAD]', '[PAD]', '[PAD]', '[PAD]', '[PAD]', '[PAD]']\n",
            "Input IDs\t: [3, 65, 942, 941, 942, 941, 942, 941, 942, 10825, 2254, 2472, 1519, 2167, 5303, 11340, 4, 0, 0, 0, 0, 0, 0, 0, 0, 0, 0, 0, 0, 0, 0, 0, 0, 0, 0, 0, 0, 0, 0, 0, 0, 0, 0, 0, 0, 0, 0, 0, 0, 0]\n",
            "Token Type IDs\t: [0, 0, 0, 0, 0, 0, 0, 0, 0, 0, 0, 0, 0, 0, 0, 0, 0, 0, 0, 0, 0, 0, 0, 0, 0, 0, 0, 0, 0, 0, 0, 0, 0, 0, 0, 0, 0, 0, 0, 0, 0, 0, 0, 0, 0, 0, 0, 0, 0, 0]\n",
            "Attention Mask\t: [1, 1, 1, 1, 1, 1, 1, 1, 1, 1, 1, 1, 1, 1, 1, 1, 1, 0, 0, 0, 0, 0, 0, 0, 0, 0, 0, 0, 0, 0, 0, 0, 0, 0, 0, 0, 0, 0, 0, 0, 0, 0, 0, 0, 0, 0, 0, 0, 0, 0]\n"
          ]
        }
      ],
      "source": [
        "print('Kalimat\\t\\t:', df_raw.tweet[id_data])                                            # Data asli\n",
        "print('Tokenizer\\t:', bert_tokenizer.convert_ids_to_tokens(bert_input['input_ids']))    # Hasil input formatting + tokenizer\n",
        "print('Input IDs\\t:', bert_input['input_ids'])                                          # Input IDs : indeks token pada vocabulary tokenizer\n",
        "print('Token Type IDs\\t:', bert_input['token_type_ids'])                                # Token type IDs : menunjukkan urutan kalimat pada sequence (segment embedding)\n",
        "print('Attention Mask\\t:', bert_input['attention_mask'])                                # Attention mask : mengembalikan nilai [0,1]. 1 artinya token yang di masking, 0 token yang tidak di masking (diabaikan)"
      ]
    },
    {
      "cell_type": "code",
      "execution_count": 28,
      "id": "E3bKnVvWi0y2",
      "metadata": {
        "id": "E3bKnVvWi0y2"
      },
      "outputs": [],
      "source": [
        "# Buat fungsi untuk melakukan encode pada semua data\n",
        "def tokenize(data):\n",
        "    input_ids = []\n",
        "    attention_masks = []\n",
        "    \n",
        "    for i, text in tqdm(enumerate(data)):\n",
        "        tokens = bert_tokenizer.encode_plus(\n",
        "            text, \n",
        "            max_length=MAX_SEQ_LENGTH,\n",
        "            truncation='longest_first',\n",
        "            padding='max_length',\n",
        "            add_special_tokens=True, \n",
        "            return_attention_mask=True,\n",
        "            return_token_type_ids=False, \n",
        "            return_tensors='tf'\n",
        "          )   \n",
        "         \n",
        "        input_ids.append(np.asarray(tokens['input_ids']).reshape(MAX_SEQ_LENGTH,))\n",
        "        attention_masks.append(np.asarray(tokens['attention_mask']).reshape(MAX_SEQ_LENGTH,))\n",
        "\n",
        "    return (np.asarray(input_ids), np.asarray(attention_masks))"
      ]
    },
    {
      "cell_type": "code",
      "execution_count": 29,
      "id": "lVd3CfmUjtaB",
      "metadata": {
        "colab": {
          "base_uri": "https://localhost:8080/"
        },
        "id": "lVd3CfmUjtaB",
        "outputId": "3cadb63c-7b69-4185-cb4f-9746bbf339ed"
      },
      "outputs": [
        {
          "name": "stderr",
          "output_type": "stream",
          "text": [
            "1794it [00:01, 1411.56it/s]\n",
            "449it [00:00, 1486.69it/s]\n"
          ]
        }
      ],
      "source": [
        "train_input_ids, train_attention_masks = tokenize(X_train)\n",
        "test_input_ids, test_attention_masks = tokenize(X_test)"
      ]
    },
    {
      "cell_type": "code",
      "execution_count": 30,
      "id": "hMVnCtiuksmR",
      "metadata": {
        "colab": {
          "base_uri": "https://localhost:8080/"
        },
        "id": "hMVnCtiuksmR",
        "outputId": "4953ef6e-5d62-4ae0-b228-1a7e4773f1b2"
      },
      "outputs": [
        {
          "data": {
            "text/plain": [
              "((1794, 80), (1794, 80), (449, 80), (449, 80))"
            ]
          },
          "execution_count": 30,
          "metadata": {},
          "output_type": "execute_result"
        }
      ],
      "source": [
        "train_input_ids.shape, train_attention_masks.shape, test_input_ids.shape, test_attention_masks.shape"
      ]
    },
    {
      "cell_type": "markdown",
      "id": "n2Wy6AXdmA8p",
      "metadata": {
        "id": "n2Wy6AXdmA8p"
      },
      "source": [
        "# 07 Define Model (BERT)"
      ]
    },
    {
      "cell_type": "markdown",
      "id": "rT2w8uq4mZqq",
      "metadata": {
        "id": "rT2w8uq4mZqq"
      },
      "source": [
        "## Load Pre-Trained BERT Model"
      ]
    },
    {
      "cell_type": "code",
      "execution_count": 32,
      "id": "DnBidYYUAg6A",
      "metadata": {
        "colab": {
          "base_uri": "https://localhost:8080/",
          "height": 347,
          "referenced_widgets": [
            "27274e48d90f48dab2c1e8be7f828ff4",
            "543a646f3eeb4a67bd3c44e589a82a33",
            "7e45987730704dfa87b5a32095d50f0b",
            "466e3c7fb3db4481a897b79e92f55724",
            "90833ea3f05c499f99d8bca2e443aa19",
            "07396b36117a497f8b5e54dc100cbba6",
            "97a6da102c2c41908b7ded32287184cc",
            "c49abd7bd1cb46b99fd61b9254e95cc9",
            "235a2dc7326e4bdea107accd9d992580",
            "087a9b5b103b4a9c9dfbf35530b90158",
            "25b283307de7458690ef1a87960c3ee2"
          ]
        },
        "id": "DnBidYYUAg6A",
        "outputId": "46816f47-d525-4654-b8c2-33ccf05c7972"
      },
      "outputs": [
        {
          "data": {
            "application/vnd.jupyter.widget-view+json": {
              "model_id": "27274e48d90f48dab2c1e8be7f828ff4",
              "version_major": 2,
              "version_minor": 0
            },
            "text/plain": [
              "Downloading:   0%|          | 0.00/424M [00:00<?, ?B/s]"
            ]
          },
          "metadata": {},
          "output_type": "display_data"
        },
        {
          "name": "stderr",
          "output_type": "stream",
          "text": [
            "Some weights of the PyTorch model were not used when initializing the TF 2.0 model TFBertModel: ['cls.predictions.transform.dense.weight', 'cls.predictions.decoder.bias', 'cls.predictions.decoder.weight', 'cls.predictions.transform.LayerNorm.bias', 'cls.predictions.transform.dense.bias', 'cls.predictions.transform.LayerNorm.weight', 'cls.predictions.bias']\n",
            "- This IS expected if you are initializing TFBertModel from a PyTorch model trained on another task or with another architecture (e.g. initializing a TFBertForSequenceClassification model from a BertForPreTraining model).\n",
            "- This IS NOT expected if you are initializing TFBertModel from a PyTorch model that you expect to be exactly identical (e.g. initializing a TFBertForSequenceClassification model from a BertForSequenceClassification model).\n",
            "All the weights of TFBertModel were initialized from the PyTorch model.\n",
            "If your task is similar to the task the model of the checkpoint was trained on, you can already use TFBertModel for predictions without further training.\n"
          ]
        },
        {
          "name": "stdout",
          "output_type": "stream",
          "text": [
            "Model: \"tf_bert_model\"\n",
            "_________________________________________________________________\n",
            " Layer (type)                Output Shape              Param #   \n",
            "=================================================================\n",
            " bert (TFBertMainLayer)      multiple                  110558208 \n",
            "                                                                 \n",
            "=================================================================\n",
            "Total params: 110,558,208\n",
            "Trainable params: 110,558,208\n",
            "Non-trainable params: 0\n",
            "_________________________________________________________________\n"
          ]
        }
      ],
      "source": [
        "bert_config = BertConfig.from_pretrained(PRE_TRAINED_MODEL, output_hidden_states=True, num_labels=NUM_CLASS)\n",
        "bert = TFBertModel.from_pretrained(PRE_TRAINED_MODEL, config=bert_config, from_pt=True)\n",
        "bert.summary()"
      ]
    },
    {
      "cell_type": "markdown",
      "id": "WkPNcJYGmdWh",
      "metadata": {
        "id": "WkPNcJYGmdWh"
      },
      "source": [
        "## Architecture"
      ]
    },
    {
      "cell_type": "code",
      "execution_count": 33,
      "id": "jJSI_MWxA3eW",
      "metadata": {
        "id": "jJSI_MWxA3eW"
      },
      "outputs": [],
      "source": [
        "tf.keras.backend.clear_session()\n",
        "\n",
        "# Defining 2 input layers for input_ids and attn_masks\n",
        "input_ids = tf.keras.layers.Input(shape=(MAX_SEQ_LENGTH,), name='input_ids', dtype='int32')\n",
        "attn_mask = tf.keras.layers.Input(shape=(MAX_SEQ_LENGTH,), name='attention_mask', dtype='int32')\n",
        "\n",
        "# We access the transformer model within our bert object using the bert attribute (eg bert.bert instead of bert)\n",
        "# Access final activations (alread max-pooled) [1] 0 -> activation layer (3D), 1 -> pooled output layer (2D)\n",
        "bert_embedding = bert(input_ids, attention_mask=attn_mask)[1]  \n",
        "\n",
        "x = tf.keras.layers.Dense(512, activation='relu')(bert_embedding)\n",
        "x = tf.keras.layers.Dropout(0.5)(x)\n",
        "output_layer = tf.keras.layers.Dense(NUM_CLASS, activation='softmax', name='output_layer')(x)\n",
        "\n",
        "# Initialize model\n",
        "model = tf.keras.Model(inputs=[input_ids, attn_mask], outputs=output_layer)\n",
        "\n",
        "# Trainable=False to freeze bert layer for feature extraction (optional)\n",
        "model.layers[2].trainable = True"
      ]
    },
    {
      "cell_type": "code",
      "execution_count": 34,
      "id": "OCBOPaPTBICA",
      "metadata": {
        "colab": {
          "base_uri": "https://localhost:8080/"
        },
        "id": "OCBOPaPTBICA",
        "outputId": "7cc1661f-ac69-491a-f892-50215400b725"
      },
      "outputs": [
        {
          "name": "stdout",
          "output_type": "stream",
          "text": [
            "Model: \"model\"\n",
            "__________________________________________________________________________________________________\n",
            " Layer (type)                   Output Shape         Param #     Connected to                     \n",
            "==================================================================================================\n",
            " input_ids (InputLayer)         [(None, 80)]         0           []                               \n",
            "                                                                                                  \n",
            " attention_mask (InputLayer)    [(None, 80)]         0           []                               \n",
            "                                                                                                  \n",
            " tf_bert_model (TFBertModel)    TFBaseModelOutputWi  110558208   ['input_ids[0][0]',              \n",
            "                                thPoolingAndCrossAt               'attention_mask[0][0]']         \n",
            "                                tentions(last_hidde                                               \n",
            "                                n_state=(None, 80,                                                \n",
            "                                768),                                                             \n",
            "                                 pooler_output=(Non                                               \n",
            "                                e, 768),                                                          \n",
            "                                 past_key_values=No                                               \n",
            "                                ne, hidden_states=(                                               \n",
            "                                (None, 80, 768),                                                  \n",
            "                                 (None, 80, 768),                                                 \n",
            "                                 (None, 80, 768),                                                 \n",
            "                                 (None, 80, 768),                                                 \n",
            "                                 (None, 80, 768),                                                 \n",
            "                                 (None, 80, 768),                                                 \n",
            "                                 (None, 80, 768),                                                 \n",
            "                                 (None, 80, 768),                                                 \n",
            "                                 (None, 80, 768),                                                 \n",
            "                                 (None, 80, 768),                                                 \n",
            "                                 (None, 80, 768),                                                 \n",
            "                                 (None, 80, 768),                                                 \n",
            "                                 (None, 80, 768)),                                                \n",
            "                                 attentions=None, c                                               \n",
            "                                ross_attentions=Non                                               \n",
            "                                e)                                                                \n",
            "                                                                                                  \n",
            " dense (Dense)                  (None, 512)          393728      ['tf_bert_model[0][14]']         \n",
            "                                                                                                  \n",
            " dropout (Dropout)              (None, 512)          0           ['dense[0][0]']                  \n",
            "                                                                                                  \n",
            " output_layer (Dense)           (None, 6)            3078        ['dropout[0][0]']                \n",
            "                                                                                                  \n",
            "==================================================================================================\n",
            "Total params: 110,955,014\n",
            "Trainable params: 110,955,014\n",
            "Non-trainable params: 0\n",
            "__________________________________________________________________________________________________\n"
          ]
        }
      ],
      "source": [
        "model.summary()"
      ]
    },
    {
      "cell_type": "code",
      "execution_count": 35,
      "id": "2dZfl_4xBSgl",
      "metadata": {
        "colab": {
          "base_uri": "https://localhost:8080/",
          "height": 229
        },
        "id": "2dZfl_4xBSgl",
        "outputId": "eb799327-7ba9-4133-b04a-7b1cbd1862a2"
      },
      "outputs": [
        {
          "data": {
            "image/png": "[encoded data removed]",
            "text/plain": [
              "<IPython.core.display.Image object>"
            ]
          },
          "execution_count": 35,
          "metadata": {},
          "output_type": "execute_result"
        }
      ],
      "source": [
        "plot_model(model, show_shapes=True, show_layer_activations=True, show_dtype=False, dpi=90, to_file=f'{FOLDER_PATH}/model-plot/{MODEL}-model.png')"
      ]
    },
    {
      "cell_type": "markdown",
      "id": "l1GB60YFmrYr",
      "metadata": {
        "id": "l1GB60YFmrYr"
      },
      "source": [
        "## Compile"
      ]
    },
    {
      "cell_type": "code",
      "execution_count": 36,
      "id": "snXwbgV1NRn0",
      "metadata": {
        "id": "snXwbgV1NRn0"
      },
      "outputs": [],
      "source": [
        "# https://www.tensorflow.org/api_docs/python/tf/keras/metrics\n",
        "\n",
        "METRICS = [\n",
        "           tf.keras.metrics.CategoricalAccuracy(name='accuracy'),\n",
        "           tf.keras.metrics.Precision(name='precision'),\n",
        "           tf.keras.metrics.Recall(name='recall'),\n",
        "]\n",
        "\n",
        "LEARNING_RATE = 2e-5 # Recommended learning rate (AdamW): [5e-5, 3e-5, 2e-5] in orginal paper"
      ]
    },
    {
      "cell_type": "code",
      "execution_count": 37,
      "id": "6IQtndlVNU4j",
      "metadata": {
        "id": "6IQtndlVNU4j"
      },
      "outputs": [],
      "source": [
        "OPTIMIZER = AdamW(learning_rate=LEARNING_RATE, beta_1=0.8, beta_2=0.9, weight_decay=0.0001)\n",
        "LOSS_FUNCTION = CategoricalCrossentropy(name='categorical_crossentropy')\n",
        "\n",
        "model.compile(loss=LOSS_FUNCTION, optimizer=OPTIMIZER, metrics=METRICS)"
      ]
    },
    {
      "cell_type": "markdown",
      "id": "fN2EQ51pGGY1",
      "metadata": {
        "id": "fN2EQ51pGGY1"
      },
      "source": [
        "# 08 Early Stopping & Model Checkpoint"
      ]
    },
    {
      "cell_type": "code",
      "execution_count": 38,
      "id": "8zSNXUoRGT8z",
      "metadata": {
        "id": "8zSNXUoRGT8z"
      },
      "outputs": [],
      "source": [
        "# Early stopping criteria\n",
        "early_stopping = EarlyStopping(monitor='val_loss', mode='auto', verbose=1, patience=5)\n",
        "\n",
        "# Path to model checkpoint\n",
        "checkpoint_dir = f'{FOLDER_PATH}/model-checkpoint/{MODEL}/cp.ckpt'\n",
        "model_checkpoint = ModelCheckpoint(checkpoint_dir, monitor='val_accuracy', save_weights_only=True, verbose=1, save_freq='epoch', save_best_only=True)"
      ]
    },
    {
      "cell_type": "code",
      "execution_count": 39,
      "id": "aOAo9dieGYak",
      "metadata": {
        "colab": {
          "base_uri": "https://localhost:8080/"
        },
        "id": "aOAo9dieGYak",
        "outputId": "83d91bba-54da-4c7a-80c0-73fbdc0d9dc2"
      },
      "outputs": [
        {
          "name": "stdout",
          "output_type": "stream",
          "text": [
            "model-baseline-bert/model-log/indolem-indobert-base-uncased/20220715-153023\n"
          ]
        }
      ],
      "source": [
        "# Path to model log\n",
        "log_dir = f'{FOLDER_PATH}/model-log/{MODEL}/' + datetime.datetime.now().strftime('%Y%m%d-%H%M%S')\n",
        "print(log_dir)"
      ]
    },
    {
      "cell_type": "markdown",
      "id": "MqkhywHwHmob",
      "metadata": {
        "id": "MqkhywHwHmob"
      },
      "source": [
        "Tensorflow Callback"
      ]
    },
    {
      "cell_type": "code",
      "execution_count": 40,
      "id": "jQiRzldvGZzt",
      "metadata": {
        "id": "jQiRzldvGZzt"
      },
      "outputs": [],
      "source": [
        "tensorboard_callback = TensorBoard(log_dir=log_dir ,update_freq='epoch', histogram_freq=1, embeddings_freq=1)"
      ]
    },
    {
      "cell_type": "markdown",
      "id": "kO_3G0C-nSi4",
      "metadata": {
        "id": "kO_3G0C-nSi4"
      },
      "source": [
        "# 09 Training (Fine-Tuning)"
      ]
    },
    {
      "cell_type": "code",
      "execution_count": 41,
      "id": "tJ87c7OuntP3",
      "metadata": {
        "id": "tJ87c7OuntP3"
      },
      "outputs": [],
      "source": [
        "EPOCHS = 4        # Recommended number of epochs: [2, 3, 4] in orginal paper\n",
        "BATCH_SIZE = 32   # Recommended batch size: [16, 32] in orginal paper\n",
        "\n",
        "# Config for wandb\n",
        "config = {\n",
        "    'type': 'baseline',\n",
        "    'model_architecture': 'BERT',\n",
        "    'dataset': 'indo-tweet-emotion',\n",
        "    'learning_rate': LEARNING_RATE,\n",
        "    'batch_size': BATCH_SIZE,\n",
        "    'epochs': EPOCHS,\n",
        "    'loss_function': LOSS_FUNCTION.name,\n",
        "    'optimizer': OPTIMIZER._name\n",
        "}"
      ]
    },
    {
      "cell_type": "code",
      "execution_count": 42,
      "id": "cWka8B-5BSu-",
      "metadata": {
        "colab": {
          "base_uri": "https://localhost:8080/",
          "height": 755,
          "referenced_widgets": [
            "f4c462aee400417aada1747e57daa303",
            "e3d354d537cc48b2b0c573cf88dd9fa3",
            "2e8264490aa04f0c89ed2a37994fcf77",
            "945bfa049e5941dd8dfa3435d3b572c9",
            "f85581c225494f02afd7d8193d90ecaa",
            "7ad8b00970d24cf3b43e0f8dbdb36e3e",
            "378d532b20d445d0b0de570bb2181269",
            "2f8d762eb6214e878aeed89dba486129"
          ]
        },
        "id": "cWka8B-5BSu-",
        "outputId": "06b0a3b7-fbd0-46a8-ce4c-785d685f76c5"
      },
      "outputs": [
        {
          "name": "stderr",
          "output_type": "stream",
          "text": [
            "\u001b[34m\u001b[1mwandb\u001b[0m: Currently logged in as: \u001b[33mindoemobert\u001b[0m. Use \u001b[1m`wandb login --relogin`\u001b[0m to force relogin\n"
          ]
        },
        {
          "data": {
            "text/html": [
              "Tracking run with wandb version 0.12.21"
            ],
            "text/plain": [
              "<IPython.core.display.HTML object>"
            ]
          },
          "metadata": {},
          "output_type": "display_data"
        },
        {
          "data": {
            "text/html": [
              "Run data is saved locally in <code>/content/drive/MyDrive/Code/tesis/wandb/run-20220715_153027-3pm916fs</code>"
            ],
            "text/plain": [
              "<IPython.core.display.HTML object>"
            ]
          },
          "metadata": {},
          "output_type": "display_data"
        },
        {
          "data": {
            "text/html": [
              "Syncing run <strong><a href=\"https://wandb.ai/indoemobert/baseline-bert/runs/3pm916fs\" target=\"_blank\">indolem-indobert-base-uncased</a></strong> to <a href=\"https://wandb.ai/indoemobert/baseline-bert\" target=\"_blank\">Weights & Biases</a> (<a href=\"https://wandb.me/run\" target=\"_blank\">docs</a>)<br/>"
            ],
            "text/plain": [
              "<IPython.core.display.HTML object>"
            ]
          },
          "metadata": {},
          "output_type": "display_data"
        },
        {
          "name": "stdout",
          "output_type": "stream",
          "text": [
            "WARNING:tensorflow:From /usr/local/lib/python3.7/dist-packages/tensorflow/python/profiler/internal/flops_registry.py:239: tensor_shape_from_node_def_name (from tensorflow.python.framework.graph_util_impl) is deprecated and will be removed in a future version.\n",
            "Instructions for updating:\n",
            "Use `tf.compat.v1.graph_util.tensor_shape_from_node_def_name`\n",
            "Epoch 1/4\n",
            "57/57 [==============================] - 122s 2s/step - loss: 1.8543 - accuracy: 0.1962 - precision: 0.1852 - recall: 0.0028 - val_loss: 1.7493 - val_accuracy: 0.2361 - val_precision: 0.0000e+00 - val_recall: 0.0000e+00 - _timestamp: 1657899166.0000 - _runtime: 139.0000\n",
            "Epoch 2/4\n",
            "57/57 [==============================] - 76s 1s/step - loss: 1.7990 - accuracy: 0.2196 - precision: 0.3077 - recall: 0.0022 - val_loss: 1.6724 - val_accuracy: 0.2873 - val_precision: 0.0000e+00 - val_recall: 0.0000e+00 - _timestamp: 1657899242.0000 - _runtime: 215.0000\n",
            "Epoch 3/4\n",
            "57/57 [==============================] - 77s 1s/step - loss: 1.6123 - accuracy: 0.3411 - precision: 0.7447 - recall: 0.0195 - val_loss: 1.1908 - val_accuracy: 0.6503 - val_precision: 0.9294 - val_recall: 0.1759 - _timestamp: 1657899318.0000 - _runtime: 291.0000\n",
            "Epoch 4/4\n",
            "57/57 [==============================] - 75s 1s/step - loss: 0.8901 - accuracy: 0.7302 - precision: 0.8540 - recall: 0.5056 - val_loss: 0.5407 - val_accuracy: 0.8374 - val_precision: 0.8479 - val_recall: 0.8196 - _timestamp: 1657899393.0000 - _runtime: 366.0000\n"
          ]
        },
        {
          "data": {
            "text/html": [
              "Waiting for W&B process to finish... <strong style=\"color:green\">(success).</strong>"
            ],
            "text/plain": [
              "<IPython.core.display.HTML object>"
            ]
          },
          "metadata": {},
          "output_type": "display_data"
        },
        {
          "data": {
            "application/vnd.jupyter.widget-view+json": {
              "model_id": "f4c462aee400417aada1747e57daa303",
              "version_major": 2,
              "version_minor": 0
            },
            "text/plain": [
              "VBox(children=(Label(value='0.002 MB of 0.002 MB uploaded (0.000 MB deduped)\\r'), FloatProgress(value=1.0, max…"
            ]
          },
          "metadata": {},
          "output_type": "display_data"
        },
        {
          "data": {
            "text/html": [
              "<style>\n",
              "    table.wandb td:nth-child(1) { padding: 0 10px; text-align: left ; width: auto;} td:nth-child(2) {text-align: left ; width: 100%}\n",
              "    .wandb-row { display: flex; flex-direction: row; flex-wrap: wrap; justify-content: flex-start; width: 100% }\n",
              "    .wandb-col { display: flex; flex-direction: column; flex-basis: 100%; flex: 1; padding: 10px; }\n",
              "    </style>\n",
              "<div class=\"wandb-row\"><div class=\"wandb-col\"><h3>Run history:</h3><br/><table class=\"wandb\"><tr><td>accuracy</td><td>▁▁▃█</td></tr><tr><td>epoch</td><td>▁▃▆█</td></tr><tr><td>loss</td><td>██▆▁</td></tr><tr><td>precision</td><td>▁▂▇█</td></tr><tr><td>recall</td><td>▁▁▁█</td></tr><tr><td>val_accuracy</td><td>▁▂▆█</td></tr><tr><td>val_loss</td><td>██▅▁</td></tr><tr><td>val_precision</td><td>▁▁█▇</td></tr><tr><td>val_recall</td><td>▁▁▃█</td></tr></table><br/></div><div class=\"wandb-col\"><h3>Run summary:</h3><br/><table class=\"wandb\"><tr><td>GFLOPS</td><td>6.93038</td></tr><tr><td>accuracy</td><td>0.73021</td></tr><tr><td>best_epoch</td><td>3</td></tr><tr><td>best_val_loss</td><td>0.54071</td></tr><tr><td>epoch</td><td>3</td></tr><tr><td>loss</td><td>0.89013</td></tr><tr><td>precision</td><td>0.85405</td></tr><tr><td>recall</td><td>0.50557</td></tr><tr><td>val_accuracy</td><td>0.83742</td></tr><tr><td>val_loss</td><td>0.54071</td></tr><tr><td>val_precision</td><td>0.84793</td></tr><tr><td>val_recall</td><td>0.8196</td></tr></table><br/></div></div>"
            ],
            "text/plain": [
              "<IPython.core.display.HTML object>"
            ]
          },
          "metadata": {},
          "output_type": "display_data"
        },
        {
          "data": {
            "text/html": [
              "Synced <strong style=\"color:#cdcd00\">indolem-indobert-base-uncased</strong>: <a href=\"https://wandb.ai/indoemobert/baseline-bert/runs/3pm916fs\" target=\"_blank\">https://wandb.ai/indoemobert/baseline-bert/runs/3pm916fs</a><br/>Synced 5 W&B file(s), 1 media file(s), 0 artifact file(s) and 0 other file(s)"
            ],
            "text/plain": [
              "<IPython.core.display.HTML object>"
            ]
          },
          "metadata": {},
          "output_type": "display_data"
        },
        {
          "data": {
            "text/html": [
              "Find logs at: <code>./wandb/run-20220715_153027-3pm916fs/logs</code>"
            ],
            "text/plain": [
              "<IPython.core.display.HTML object>"
            ]
          },
          "metadata": {},
          "output_type": "display_data"
        },
        {
          "name": "stdout",
          "output_type": "stream",
          "text": [
            "CPU times: user 5min, sys: 30.1 s, total: 5min 30s\n",
            "Wall time: 7min\n"
          ]
        }
      ],
      "source": [
        "%%time\n",
        "\n",
        "# Initialize wandb \n",
        "wandb.tensorboard.patch(root_logdir=log_dir)\n",
        "wandb_run = wandb.init(project='baseline-bert', name=f'{MODEL}', entity='indoemobert', config=config, sync_tensorboard=True)\n",
        "\n",
        "# Training\n",
        "model_history = model.fit(\n",
        "    (train_input_ids, train_attention_masks),\n",
        "    y_train,\n",
        "    validation_data=((test_input_ids, test_attention_masks), y_test),\n",
        "    epochs=EPOCHS,\n",
        "    batch_size=BATCH_SIZE,\n",
        "    verbose=1,\n",
        "    steps_per_epoch=int(np.ceil(X_train.shape[0] / BATCH_SIZE)),\n",
        "    callbacks=[\n",
        "      # early_stopping, \n",
        "      # model_checkpoint,\n",
        "      # tensorboard_callback,\n",
        "      WandbCallback(\n",
        "          input_type='text',\n",
        "          training_data=((train_input_ids, train_attention_masks), y_train),\n",
        "          validation_data=((test_input_ids, test_attention_masks), y_test),\n",
        "          labels=LABEL_NAME,\n",
        "          monitor='val_loss',\n",
        "          log_best_prefix='best_',\n",
        "          log_gradients=True,\n",
        "          log_weights=True,\n",
        "          save_weights_only=True,\n",
        "          save_model=False\n",
        "      )]\n",
        ")\n",
        "\n",
        "wandb_run.finish()"
      ]
    },
    {
      "cell_type": "code",
      "execution_count": 43,
      "id": "RU7eHqEXBSxQ",
      "metadata": {
        "id": "RU7eHqEXBSxQ"
      },
      "outputs": [],
      "source": [
        "def plot_metrics(history):\n",
        "  metrics = ['loss', 'accuracy', 'precision', 'recall']\n",
        "  plt.figure(figsize=(12, 10))\n",
        "  for n, metric in enumerate(metrics):\n",
        "    name = metric.replace('_',' ').capitalize()\n",
        "    plt.subplot(2,2,n+1)\n",
        "    plt.plot(history.epoch, history.history[metric], color=colors[0], label='Train')\n",
        "    plt.plot(history.epoch, history.history['val_'+metric], color=colors[0], linestyle='--', label='Validation')\n",
        "    plt.xlabel('Epoch')\n",
        "    plt.ylabel(name)\n",
        "\n",
        "    if metric == 'loss':\n",
        "      plt.ylim([0, plt.ylim()[1]])\n",
        "    else:\n",
        "      plt.ylim([0,1])\n",
        "\n",
        "    plt.legend(loc='lower right');"
      ]
    },
    {
      "cell_type": "code",
      "execution_count": 44,
      "id": "1QGGUhg2OqL8",
      "metadata": {
        "colab": {
          "base_uri": "https://localhost:8080/",
          "height": 610
        },
        "id": "1QGGUhg2OqL8",
        "outputId": "358973bd-a5cf-4a2f-9f8a-12f9db7de32b"
      },
      "outputs": [
        {
          "data": {
            "image/png": "[encoded data removed]",
            "text/plain": [
              "<Figure size 864x720 with 4 Axes>"
            ]
          },
          "metadata": {
            "needs_background": "light"
          },
          "output_type": "display_data"
        }
      ],
      "source": [
        "plot_metrics(model_history)"
      ]
    },
    {
      "cell_type": "code",
      "execution_count": 45,
      "id": "_jE_n990pYZO",
      "metadata": {
        "colab": {
          "base_uri": "https://localhost:8080/"
        },
        "id": "_jE_n990pYZO",
        "outputId": "80691d7c-b96d-462d-f784-5790e3abf110"
      },
      "outputs": [
        {
          "name": "stdout",
          "output_type": "stream",
          "text": [
            "       loss  accuracy  precision    recall  val_loss  val_accuracy  \\\n",
            "0  1.854299  0.196210   0.185185  0.002787  1.749258      0.236080   \n",
            "1  1.799047  0.219621   0.307692  0.002230  1.672366      0.287305   \n",
            "2  1.612314  0.341137   0.744681  0.019509  1.190785      0.650334   \n",
            "3  0.890131  0.730212   0.854049  0.505574  0.540710      0.837416   \n",
            "\n",
            "   val_precision  val_recall  _timestamp  _runtime  \n",
            "0       0.000000    0.000000  1657899166       139  \n",
            "1       0.000000    0.000000  1657899242       215  \n",
            "2       0.929412    0.175947  1657899318       291  \n",
            "3       0.847926    0.819599  1657899393       366  \n"
          ]
        }
      ],
      "source": [
        "hist_df = pd.DataFrame(model_history.history)\n",
        "print(hist_df)\n",
        "\n",
        "hist_df.to_csv(f'{FOLDER_PATH}/model-history/{MODEL}-{TODAY}.csv')"
      ]
    },
    {
      "cell_type": "code",
      "execution_count": 46,
      "id": "kx8hmByG-NV6",
      "metadata": {
        "id": "kx8hmByG-NV6"
      },
      "outputs": [],
      "source": [
        "# save model\n",
        "# model.save(f'{FOLDER_PATH}/model-fit/{MODEL}/{MODEL}.h5')"
      ]
    },
    {
      "cell_type": "markdown",
      "id": "ce4d8e05-fc4a-4e7c-bbff-59c45de7679b",
      "metadata": {
        "id": "ce4d8e05-fc4a-4e7c-bbff-59c45de7679b"
      },
      "source": [
        "# 09 Evaluation"
      ]
    },
    {
      "cell_type": "code",
      "execution_count": 47,
      "id": "-i_zX-ZK5q8r",
      "metadata": {
        "colab": {
          "base_uri": "https://localhost:8080/"
        },
        "id": "-i_zX-ZK5q8r",
        "outputId": "ee01e65f-27c2-4cc3-e7bf-9408050de372"
      },
      "outputs": [
        {
          "name": "stdout",
          "output_type": "stream",
          "text": [
            "15/15 [==============================] - 2s 120ms/step - loss: 0.5407 - accuracy: 0.8374 - precision: 0.8479 - recall: 0.8196\n",
            "Accuracy: 83.74%\n"
          ]
        }
      ],
      "source": [
        "y_pred = np.argmax(model.predict((test_input_ids, test_attention_masks)), axis=1)\n",
        "y_true = np.argmax(y_test, axis=1)\n",
        "\n",
        "loss, accuracy, precision, recall = model.evaluate((test_input_ids, test_attention_masks), y_test)\n",
        "print(\"Accuracy: %.2f%%\" % (accuracy*100))"
      ]
    },
    {
      "cell_type": "code",
      "execution_count": 48,
      "id": "7d59d95c-908f-48f0-904a-7cee24eab7c3",
      "metadata": {
        "colab": {
          "base_uri": "https://localhost:8080/",
          "height": 441
        },
        "id": "7d59d95c-908f-48f0-904a-7cee24eab7c3",
        "outputId": "90cf7664-0ff4-48e6-fb1f-17e82f920b9e"
      },
      "outputs": [
        {
          "data": {
            "image/png": "[encoded data removed]",
            "text/plain": [
              "<Figure size 576x432 with 2 Axes>"
            ]
          },
          "metadata": {
            "needs_background": "light"
          },
          "output_type": "display_data"
        }
      ],
      "source": [
        "cm = confusion_matrix(y_true, y_pred)\n",
        "\n",
        "plt.figure(figsize=(8, 6))\n",
        "ax = plt.subplot()\n",
        "sns.heatmap(cm, annot=True, fmt='g', ax=ax, cmap='Blues')  # annot=True to annotate cells, ftm='g' to disable scientific notation\n",
        "\n",
        "ax.set_xlabel('Predicted labels')\n",
        "ax.set_ylabel('True labels') \n",
        "ax.set_title('Confusion Matrix')\n",
        "ax.xaxis.set_ticklabels(LABEL_NAME)\n",
        "ax.yaxis.set_ticklabels(LABEL_NAME)\n",
        "plt.tight_layout()"
      ]
    },
    {
      "cell_type": "code",
      "execution_count": 49,
      "id": "TSq65s3o5710",
      "metadata": {
        "colab": {
          "base_uri": "https://localhost:8080/"
        },
        "id": "TSq65s3o5710",
        "outputId": "ec365ca2-40c5-44ce-e4e0-ca64cd3fcd68"
      },
      "outputs": [
        {
          "name": "stdout",
          "output_type": "stream",
          "text": [
            "              precision    recall  f1-score   support\n",
            "\n",
            "       anger       0.83      0.78      0.81       101\n",
            "     disgust       0.96      0.88      0.92        77\n",
            "        fear       0.89      0.89      0.89        79\n",
            "         joy       0.74      0.82      0.78        78\n",
            "     sadness       0.69      0.82      0.75        51\n",
            "    surprise       0.93      0.84      0.88        63\n",
            "\n",
            "    accuracy                           0.84       449\n",
            "   macro avg       0.84      0.84      0.84       449\n",
            "weighted avg       0.85      0.84      0.84       449\n",
            "\n"
          ]
        }
      ],
      "source": [
        "print(classification_report(y_pred, y_true, target_names=LABEL_NAME))"
      ]
    },
    {
      "cell_type": "code",
      "execution_count": 50,
      "id": "L5Dq9WNj9a-O",
      "metadata": {
        "id": "L5Dq9WNj9a-O"
      },
      "outputs": [],
      "source": [
        "def plot_roc_curve(y_test, y_pred):\n",
        "  \n",
        "  n_classes = len(np.unique(y_test))\n",
        "  y_test = label_binarize(y_test, classes=np.arange(len(LABEL_NAME)))\n",
        "  y_pred = label_binarize(y_pred, classes=np.arange(len(LABEL_NAME)))\n",
        "\n",
        "  # Compute ROC curve and ROC area for each class\n",
        "  fpr = dict()\n",
        "  tpr = dict()\n",
        "  roc_auc = dict()\n",
        "  for i in range(n_classes):\n",
        "    fpr[i], tpr[i], _ = roc_curve(y_test[:, i], y_pred[:, i])\n",
        "    roc_auc[i] = auc(fpr[i], tpr[i])\n",
        "  \n",
        "  # Compute micro-average ROC curve and ROC area\n",
        "  fpr['micro'], tpr['micro'], _ = roc_curve(y_test.ravel(), y_pred.ravel())\n",
        "  roc_auc['micro'] = auc(fpr['micro'], tpr['micro'])\n",
        "\n",
        "  # First aggregate all false positive rates\n",
        "  all_fpr = np.unique(np.concatenate([fpr[i] for i in range(n_classes)]))\n",
        "\n",
        "  # Then interpolate all ROC curves at this points\n",
        "  mean_tpr = np.zeros_like(all_fpr)\n",
        "  for i in range(n_classes):\n",
        "    mean_tpr += np.interp(all_fpr, fpr[i], tpr[i])\n",
        "\n",
        "  # Finally average it and compute AUC\n",
        "  mean_tpr /= n_classes\n",
        "\n",
        "  fpr['macro'] = all_fpr\n",
        "  tpr['macro'] = mean_tpr\n",
        "  roc_auc['macro'] = auc(fpr['macro'], tpr['macro'])\n",
        "\n",
        "  # Plot all ROC curves\n",
        "  plt.figure(figsize=(10, 7))\n",
        "  lw = 2\n",
        "  plt.plot(fpr['micro'], tpr['micro'],\n",
        "    label='micro-average ROC curve (area = {0:0.2f})'.format(roc_auc['micro']),\n",
        "    color='deeppink', linestyle=':', linewidth=4,)\n",
        "\n",
        "  plt.plot(fpr['macro'], tpr['macro'],\n",
        "    label='macro-average ROC curve (area = {0:0.2f})'.format(roc_auc['macro']),\n",
        "    color='navy', linestyle=':', linewidth=4,)\n",
        "\n",
        "  colors = cycle(['aqua', 'darkorange', 'darkgreen', 'yellow', 'blue', 'red'])\n",
        "  for i, color, label in zip(range(n_classes), colors, LABEL_NAME):\n",
        "    plt.plot(fpr[i], tpr[i], color=color, lw=lw,\n",
        "        label=\"ROC curve of class {0} (area = {1:0.2f})\".format(label, roc_auc[i]))\n",
        "\n",
        "  plt.plot([0, 1], [0, 1], 'k--', lw=lw)\n",
        "  plt.xlim([0.0, 1.0])\n",
        "  plt.ylim([0.0, 1.05])\n",
        "  plt.xlabel('False Positive Rate')\n",
        "  plt.ylabel('True Positive Rate')\n",
        "  plt.title('Receiver Operating Characteristic (ROC) curve')\n",
        "  plt.legend()\n",
        "  plt.show()"
      ]
    },
    {
      "cell_type": "code",
      "execution_count": 51,
      "id": "bFHTASmo9b4q",
      "metadata": {
        "colab": {
          "base_uri": "https://localhost:8080/",
          "height": 458
        },
        "id": "bFHTASmo9b4q",
        "outputId": "51c5b06a-b54f-4a07-f7ec-01268308d236"
      },
      "outputs": [
        {
          "data": {
            "image/png": "[encoded data removed]",
            "text/plain": [
              "<Figure size 720x504 with 1 Axes>"
            ]
          },
          "metadata": {
            "needs_background": "light"
          },
          "output_type": "display_data"
        }
      ],
      "source": [
        "plot_roc_curve(y_pred, y_true)"
      ]
    },
    {
      "cell_type": "markdown",
      "id": "4d56cf94-89bd-4bac-aaa8-2efafabfb891",
      "metadata": {
        "id": "4d56cf94-89bd-4bac-aaa8-2efafabfb891"
      },
      "source": [
        "# 10 Predict on New Data"
      ]
    },
    {
      "cell_type": "code",
      "execution_count": 52,
      "id": "oI94z-EfBkzL",
      "metadata": {
        "id": "oI94z-EfBkzL"
      },
      "outputs": [],
      "source": [
        "# Sample text\n",
        "input_text = 'Hargai kebahagiaan jika kamu pernah sedih'\n",
        "\n",
        "def prep_data(text):\n",
        "    tokens = bert_tokenizer.encode_plus(\n",
        "        text, \n",
        "        max_length=MAX_SEQ_LENGTH,\n",
        "        truncation=True, \n",
        "        padding='max_length',\n",
        "        add_special_tokens=True, \n",
        "        return_token_type_ids=False,\n",
        "        return_tensors='tf'\n",
        "      )\n",
        "    \n",
        "    # Tokenizer returns int32 tensors, we need to return float64, so we use tf.cast\n",
        "    return {'input_ids': tf.cast(tokens['input_ids'], tf.float64), 'attention_mask': tf.cast(tokens['attention_mask'], tf.float64)}"
      ]
    },
    {
      "cell_type": "code",
      "execution_count": 53,
      "id": "G4eBP4s4BwIE",
      "metadata": {
        "colab": {
          "base_uri": "https://localhost:8080/"
        },
        "id": "G4eBP4s4BwIE",
        "outputId": "6d0d82d7-5882-4931-d8d7-b2d8e369500b"
      },
      "outputs": [
        {
          "name": "stdout",
          "output_type": "stream",
          "text": [
            "[[0.04410311 0.0051792  0.0127536  0.06903824 0.8637854  0.00514043]] ['sadness']\n"
          ]
        }
      ],
      "source": [
        "pred = model.predict(prep_data(input_text))\n",
        "print(pred, LABEL_NAME[np.argmax(pred, axis=1)])"
      ]
    }
  ],
  "metadata": {
    "accelerator": "GPU",
    "colab": {
      "collapsed_sections": [],
      "include_colab_link": true,
      "machine_shape": "hm",
      "name": "03-BERT-fine-tuning-indolem-indobert-base.ipynb",
      "provenance": [],
      "toc_visible": true
    },
    "kernelspec": {
      "display_name": "Python 3.8.8 ('base')",
      "language": "python",
      "name": "python3"
    },
    "language_info": {
      "codemirror_mode": {
        "name": "ipython",
        "version": 3
      },
      "file_extension": ".py",
      "mimetype": "text/x-python",
      "name": "python",
      "nbconvert_exporter": "python",
      "pygments_lexer": "ipython3",
      "version": "3.8.8"
    },
    "vscode": {
      "interpreter": {
        "hash": "ad2bdc8ecc057115af97d19610ffacc2b4e99fae6737bb82f5d7fb13d2f2c186"
      }
    },
    "widgets": {
      "application/vnd.jupyter.widget-state+json": {
        "03cf4e269d364e7584bdadab648e330f": {
          "model_module": "@jupyter-widgets/base",
          "model_module_version": "1.2.0",
          "model_name": "LayoutModel",
          "state": {
            "_model_module": "@jupyter-widgets/base",
            "_model_module_version": "1.2.0",
            "_model_name": "LayoutModel",
            "_view_count": null,
            "_view_module": "@jupyter-widgets/base",
            "_view_module_version": "1.2.0",
            "_view_name": "LayoutView",
            "align_content": null,
            "align_items": null,
            "align_self": null,
            "border": null,
            "bottom": null,
            "display": null,
            "flex": null,
            "flex_flow": null,
            "grid_area": null,
            "grid_auto_columns": null,
            "grid_auto_flow": null,
            "grid_auto_rows": null,
            "grid_column": null,
            "grid_gap": null,
            "grid_row": null,
            "grid_template_areas": null,
            "grid_template_columns": null,
            "grid_template_rows": null,
            "height": null,
            "justify_content": null,
            "justify_items": null,
            "left": null,
            "margin": null,
            "max_height": null,
            "max_width": null,
            "min_height": null,
            "min_width": null,
            "object_fit": null,
            "object_position": null,
            "order": null,
            "overflow": null,
            "overflow_x": null,
            "overflow_y": null,
            "padding": null,
            "right": null,
            "top": null,
            "visibility": null,
            "width": null
          }
        },
        "047969f92771482aa5c3f9976a6e14ca": {
          "model_module": "@jupyter-widgets/base",
          "model_module_version": "1.2.0",
          "model_name": "LayoutModel",
          "state": {
            "_model_module": "@jupyter-widgets/base",
            "_model_module_version": "1.2.0",
            "_model_name": "LayoutModel",
            "_view_count": null,
            "_view_module": "@jupyter-widgets/base",
            "_view_module_version": "1.2.0",
            "_view_name": "LayoutView",
            "align_content": null,
            "align_items": null,
            "align_self": null,
            "border": null,
            "bottom": null,
            "display": null,
            "flex": null,
            "flex_flow": null,
            "grid_area": null,
            "grid_auto_columns": null,
            "grid_auto_flow": null,
            "grid_auto_rows": null,
            "grid_column": null,
            "grid_gap": null,
            "grid_row": null,
            "grid_template_areas": null,
            "grid_template_columns": null,
            "grid_template_rows": null,
            "height": null,
            "justify_content": null,
            "justify_items": null,
            "left": null,
            "margin": null,
            "max_height": null,
            "max_width": null,
            "min_height": null,
            "min_width": null,
            "object_fit": null,
            "object_position": null,
            "order": null,
            "overflow": null,
            "overflow_x": null,
            "overflow_y": null,
            "padding": null,
            "right": null,
            "top": null,
            "visibility": null,
            "width": null
          }
        },
        "07396b36117a497f8b5e54dc100cbba6": {
          "model_module": "@jupyter-widgets/base",
          "model_module_version": "1.2.0",
          "model_name": "LayoutModel",
          "state": {
            "_model_module": "@jupyter-widgets/base",
            "_model_module_version": "1.2.0",
            "_model_name": "LayoutModel",
            "_view_count": null,
            "_view_module": "@jupyter-widgets/base",
            "_view_module_version": "1.2.0",
            "_view_name": "LayoutView",
            "align_content": null,
            "align_items": null,
            "align_self": null,
            "border": null,
            "bottom": null,
            "display": null,
            "flex": null,
            "flex_flow": null,
            "grid_area": null,
            "grid_auto_columns": null,
            "grid_auto_flow": null,
            "grid_auto_rows": null,
            "grid_column": null,
            "grid_gap": null,
            "grid_row": null,
            "grid_template_areas": null,
            "grid_template_columns": null,
            "grid_template_rows": null,
            "height": null,
            "justify_content": null,
            "justify_items": null,
            "left": null,
            "margin": null,
            "max_height": null,
            "max_width": null,
            "min_height": null,
            "min_width": null,
            "object_fit": null,
            "object_position": null,
            "order": null,
            "overflow": null,
            "overflow_x": null,
            "overflow_y": null,
            "padding": null,
            "right": null,
            "top": null,
            "visibility": null,
            "width": null
          }
        },
        "087a9b5b103b4a9c9dfbf35530b90158": {
          "model_module": "@jupyter-widgets/base",
          "model_module_version": "1.2.0",
          "model_name": "LayoutModel",
          "state": {
            "_model_module": "@jupyter-widgets/base",
            "_model_module_version": "1.2.0",
            "_model_name": "LayoutModel",
            "_view_count": null,
            "_view_module": "@jupyter-widgets/base",
            "_view_module_version": "1.2.0",
            "_view_name": "LayoutView",
            "align_content": null,
            "align_items": null,
            "align_self": null,
            "border": null,
            "bottom": null,
            "display": null,
            "flex": null,
            "flex_flow": null,
            "grid_area": null,
            "grid_auto_columns": null,
            "grid_auto_flow": null,
            "grid_auto_rows": null,
            "grid_column": null,
            "grid_gap": null,
            "grid_row": null,
            "grid_template_areas": null,
            "grid_template_columns": null,
            "grid_template_rows": null,
            "height": null,
            "justify_content": null,
            "justify_items": null,
            "left": null,
            "margin": null,
            "max_height": null,
            "max_width": null,
            "min_height": null,
            "min_width": null,
            "object_fit": null,
            "object_position": null,
            "order": null,
            "overflow": null,
            "overflow_x": null,
            "overflow_y": null,
            "padding": null,
            "right": null,
            "top": null,
            "visibility": null,
            "width": null
          }
        },
        "1037e3f435c84a0d8a9bbf60ba117a70": {
          "model_module": "@jupyter-widgets/controls",
          "model_module_version": "1.5.0",
          "model_name": "HBoxModel",
          "state": {
            "_dom_classes": [],
            "_model_module": "@jupyter-widgets/controls",
            "_model_module_version": "1.5.0",
            "_model_name": "HBoxModel",
            "_view_count": null,
            "_view_module": "@jupyter-widgets/controls",
            "_view_module_version": "1.5.0",
            "_view_name": "HBoxView",
            "box_style": "",
            "children": [
              "IPY_MODEL_9565975894e24a19bab7daae5e905882",
              "IPY_MODEL_8fa48883ee4642069fd0b9dcf0b7ba53",
              "IPY_MODEL_79b6102537b948a9af4f6cb4632190cc"
            ],
            "layout": "IPY_MODEL_210605aa33bb4cae81bc509a3efe50e4"
          }
        },
        "12d6463ee2f14d5d8614153a16fef8a3": {
          "model_module": "@jupyter-widgets/controls",
          "model_module_version": "1.5.0",
          "model_name": "HTMLModel",
          "state": {
            "_dom_classes": [],
            "_model_module": "@jupyter-widgets/controls",
            "_model_module_version": "1.5.0",
            "_model_name": "HTMLModel",
            "_view_count": null,
            "_view_module": "@jupyter-widgets/controls",
            "_view_module_version": "1.5.0",
            "_view_name": "HTMLView",
            "description": "",
            "description_tooltip": null,
            "layout": "IPY_MODEL_4f20c95203f047b1840f0a5d2cb45ebf",
            "placeholder": "​",
            "style": "IPY_MODEL_953ac874f40d48d5a5d543bd97ca5843",
            "value": " 0.99k/0.99k [00:00&lt;00:00, 42.1kB/s]"
          }
        },
        "176b423e26a949639d04c0303131ef45": {
          "model_module": "@jupyter-widgets/controls",
          "model_module_version": "1.5.0",
          "model_name": "HTMLModel",
          "state": {
            "_dom_classes": [],
            "_model_module": "@jupyter-widgets/controls",
            "_model_module_version": "1.5.0",
            "_model_name": "HTMLModel",
            "_view_count": null,
            "_view_module": "@jupyter-widgets/controls",
            "_view_module_version": "1.5.0",
            "_view_name": "HTMLView",
            "description": "",
            "description_tooltip": null,
            "layout": "IPY_MODEL_51bcf925e09b4daebbcf2ad08c8bca7c",
            "placeholder": "​",
            "style": "IPY_MODEL_94282bc83dd84a81844c4f3b175250f0",
            "value": " 112/112 [00:00&lt;00:00, 4.00kB/s]"
          }
        },
        "18acd3cf313e49278bf287f098e357bc": {
          "model_module": "@jupyter-widgets/controls",
          "model_module_version": "1.5.0",
          "model_name": "HTMLModel",
          "state": {
            "_dom_classes": [],
            "_model_module": "@jupyter-widgets/controls",
            "_model_module_version": "1.5.0",
            "_model_name": "HTMLModel",
            "_view_count": null,
            "_view_module": "@jupyter-widgets/controls",
            "_view_module_version": "1.5.0",
            "_view_name": "HTMLView",
            "description": "",
            "description_tooltip": null,
            "layout": "IPY_MODEL_3eb6256730184adf9bf60430e3ecb2b7",
            "placeholder": "​",
            "style": "IPY_MODEL_310088e52a75471a8fef590cea6792f3",
            "value": " 2.00/2.00 [00:00&lt;00:00, 81.8B/s]"
          }
        },
        "1a7b3c15ec094d0a974f9b81f65977db": {
          "model_module": "@jupyter-widgets/controls",
          "model_module_version": "1.5.0",
          "model_name": "DescriptionStyleModel",
          "state": {
            "_model_module": "@jupyter-widgets/controls",
            "_model_module_version": "1.5.0",
            "_model_name": "DescriptionStyleModel",
            "_view_count": null,
            "_view_module": "@jupyter-widgets/base",
            "_view_module_version": "1.2.0",
            "_view_name": "StyleView",
            "description_width": ""
          }
        },
        "210605aa33bb4cae81bc509a3efe50e4": {
          "model_module": "@jupyter-widgets/base",
          "model_module_version": "1.2.0",
          "model_name": "LayoutModel",
          "state": {
            "_model_module": "@jupyter-widgets/base",
            "_model_module_version": "1.2.0",
            "_model_name": "LayoutModel",
            "_view_count": null,
            "_view_module": "@jupyter-widgets/base",
            "_view_module_version": "1.2.0",
            "_view_name": "LayoutView",
            "align_content": null,
            "align_items": null,
            "align_self": null,
            "border": null,
            "bottom": null,
            "display": null,
            "flex": null,
            "flex_flow": null,
            "grid_area": null,
            "grid_auto_columns": null,
            "grid_auto_flow": null,
            "grid_auto_rows": null,
            "grid_column": null,
            "grid_gap": null,
            "grid_row": null,
            "grid_template_areas": null,
            "grid_template_columns": null,
            "grid_template_rows": null,
            "height": null,
            "justify_content": null,
            "justify_items": null,
            "left": null,
            "margin": null,
            "max_height": null,
            "max_width": null,
            "min_height": null,
            "min_width": null,
            "object_fit": null,
            "object_position": null,
            "order": null,
            "overflow": null,
            "overflow_x": null,
            "overflow_y": null,
            "padding": null,
            "right": null,
            "top": null,
            "visibility": null,
            "width": null
          }
        },
        "22eb2e5ea85e4e26ada61f2fe0e30938": {
          "model_module": "@jupyter-widgets/controls",
          "model_module_version": "1.5.0",
          "model_name": "HTMLModel",
          "state": {
            "_dom_classes": [],
            "_model_module": "@jupyter-widgets/controls",
            "_model_module_version": "1.5.0",
            "_model_name": "HTMLModel",
            "_view_count": null,
            "_view_module": "@jupyter-widgets/controls",
            "_view_module_version": "1.5.0",
            "_view_name": "HTMLView",
            "description": "",
            "description_tooltip": null,
            "layout": "IPY_MODEL_53cdd05653144b4bbd98a8ade094d872",
            "placeholder": "​",
            "style": "IPY_MODEL_9a16f7aab415434091f740c9c9827f7a",
            "value": " 42.0/42.0 [00:00&lt;00:00, 1.66kB/s]"
          }
        },
        "235a2dc7326e4bdea107accd9d992580": {
          "model_module": "@jupyter-widgets/controls",
          "model_module_version": "1.5.0",
          "model_name": "ProgressStyleModel",
          "state": {
            "_model_module": "@jupyter-widgets/controls",
            "_model_module_version": "1.5.0",
            "_model_name": "ProgressStyleModel",
            "_view_count": null,
            "_view_module": "@jupyter-widgets/base",
            "_view_module_version": "1.2.0",
            "_view_name": "StyleView",
            "bar_color": null,
            "description_width": ""
          }
        },
        "25b283307de7458690ef1a87960c3ee2": {
          "model_module": "@jupyter-widgets/controls",
          "model_module_version": "1.5.0",
          "model_name": "DescriptionStyleModel",
          "state": {
            "_model_module": "@jupyter-widgets/controls",
            "_model_module_version": "1.5.0",
            "_model_name": "DescriptionStyleModel",
            "_view_count": null,
            "_view_module": "@jupyter-widgets/base",
            "_view_module_version": "1.2.0",
            "_view_name": "StyleView",
            "description_width": ""
          }
        },
        "26084333768d47208a830e03b93cae2c": {
          "model_module": "@jupyter-widgets/base",
          "model_module_version": "1.2.0",
          "model_name": "LayoutModel",
          "state": {
            "_model_module": "@jupyter-widgets/base",
            "_model_module_version": "1.2.0",
            "_model_name": "LayoutModel",
            "_view_count": null,
            "_view_module": "@jupyter-widgets/base",
            "_view_module_version": "1.2.0",
            "_view_name": "LayoutView",
            "align_content": null,
            "align_items": null,
            "align_self": null,
            "border": null,
            "bottom": null,
            "display": null,
            "flex": null,
            "flex_flow": null,
            "grid_area": null,
            "grid_auto_columns": null,
            "grid_auto_flow": null,
            "grid_auto_rows": null,
            "grid_column": null,
            "grid_gap": null,
            "grid_row": null,
            "grid_template_areas": null,
            "grid_template_columns": null,
            "grid_template_rows": null,
            "height": null,
            "justify_content": null,
            "justify_items": null,
            "left": null,
            "margin": null,
            "max_height": null,
            "max_width": null,
            "min_height": null,
            "min_width": null,
            "object_fit": null,
            "object_position": null,
            "order": null,
            "overflow": null,
            "overflow_x": null,
            "overflow_y": null,
            "padding": null,
            "right": null,
            "top": null,
            "visibility": null,
            "width": null
          }
        },
        "27274e48d90f48dab2c1e8be7f828ff4": {
          "model_module": "@jupyter-widgets/controls",
          "model_module_version": "1.5.0",
          "model_name": "HBoxModel",
          "state": {
            "_dom_classes": [],
            "_model_module": "@jupyter-widgets/controls",
            "_model_module_version": "1.5.0",
            "_model_name": "HBoxModel",
            "_view_count": null,
            "_view_module": "@jupyter-widgets/controls",
            "_view_module_version": "1.5.0",
            "_view_name": "HBoxView",
            "box_style": "",
            "children": [
              "IPY_MODEL_543a646f3eeb4a67bd3c44e589a82a33",
              "IPY_MODEL_7e45987730704dfa87b5a32095d50f0b",
              "IPY_MODEL_466e3c7fb3db4481a897b79e92f55724"
            ],
            "layout": "IPY_MODEL_90833ea3f05c499f99d8bca2e443aa19"
          }
        },
        "2e8264490aa04f0c89ed2a37994fcf77": {
          "model_module": "@jupyter-widgets/controls",
          "model_module_version": "1.5.0",
          "model_name": "FloatProgressModel",
          "state": {
            "_dom_classes": [],
            "_model_module": "@jupyter-widgets/controls",
            "_model_module_version": "1.5.0",
            "_model_name": "FloatProgressModel",
            "_view_count": null,
            "_view_module": "@jupyter-widgets/controls",
            "_view_module_version": "1.5.0",
            "_view_name": "ProgressView",
            "bar_style": "",
            "description": "",
            "description_tooltip": null,
            "layout": "IPY_MODEL_378d532b20d445d0b0de570bb2181269",
            "max": 1,
            "min": 0,
            "orientation": "horizontal",
            "style": "IPY_MODEL_2f8d762eb6214e878aeed89dba486129",
            "value": 1
          }
        },
        "2f8d762eb6214e878aeed89dba486129": {
          "model_module": "@jupyter-widgets/controls",
          "model_module_version": "1.5.0",
          "model_name": "ProgressStyleModel",
          "state": {
            "_model_module": "@jupyter-widgets/controls",
            "_model_module_version": "1.5.0",
            "_model_name": "ProgressStyleModel",
            "_view_count": null,
            "_view_module": "@jupyter-widgets/base",
            "_view_module_version": "1.2.0",
            "_view_name": "StyleView",
            "bar_color": null,
            "description_width": ""
          }
        },
        "310088e52a75471a8fef590cea6792f3": {
          "model_module": "@jupyter-widgets/controls",
          "model_module_version": "1.5.0",
          "model_name": "DescriptionStyleModel",
          "state": {
            "_model_module": "@jupyter-widgets/controls",
            "_model_module_version": "1.5.0",
            "_model_name": "DescriptionStyleModel",
            "_view_count": null,
            "_view_module": "@jupyter-widgets/base",
            "_view_module_version": "1.2.0",
            "_view_name": "StyleView",
            "description_width": ""
          }
        },
        "378d532b20d445d0b0de570bb2181269": {
          "model_module": "@jupyter-widgets/base",
          "model_module_version": "1.2.0",
          "model_name": "LayoutModel",
          "state": {
            "_model_module": "@jupyter-widgets/base",
            "_model_module_version": "1.2.0",
            "_model_name": "LayoutModel",
            "_view_count": null,
            "_view_module": "@jupyter-widgets/base",
            "_view_module_version": "1.2.0",
            "_view_name": "LayoutView",
            "align_content": null,
            "align_items": null,
            "align_self": null,
            "border": null,
            "bottom": null,
            "display": null,
            "flex": null,
            "flex_flow": null,
            "grid_area": null,
            "grid_auto_columns": null,
            "grid_auto_flow": null,
            "grid_auto_rows": null,
            "grid_column": null,
            "grid_gap": null,
            "grid_row": null,
            "grid_template_areas": null,
            "grid_template_columns": null,
            "grid_template_rows": null,
            "height": null,
            "justify_content": null,
            "justify_items": null,
            "left": null,
            "margin": null,
            "max_height": null,
            "max_width": null,
            "min_height": null,
            "min_width": null,
            "object_fit": null,
            "object_position": null,
            "order": null,
            "overflow": null,
            "overflow_x": null,
            "overflow_y": null,
            "padding": null,
            "right": null,
            "top": null,
            "visibility": null,
            "width": null
          }
        },
        "381400f65d8842dfad2f9a155b6b9135": {
          "model_module": "@jupyter-widgets/controls",
          "model_module_version": "1.5.0",
          "model_name": "FloatProgressModel",
          "state": {
            "_dom_classes": [],
            "_model_module": "@jupyter-widgets/controls",
            "_model_module_version": "1.5.0",
            "_model_name": "FloatProgressModel",
            "_view_count": null,
            "_view_module": "@jupyter-widgets/controls",
            "_view_module_version": "1.5.0",
            "_view_name": "ProgressView",
            "bar_style": "success",
            "description": "",
            "description_tooltip": null,
            "layout": "IPY_MODEL_c90c67851d904fa4ab9cc23f0417e248",
            "max": 1014,
            "min": 0,
            "orientation": "horizontal",
            "style": "IPY_MODEL_5a8cb39f46ef4e988702a74a5f214806",
            "value": 1014
          }
        },
        "38f25428744c495ca54b88e41f6157b9": {
          "model_module": "@jupyter-widgets/controls",
          "model_module_version": "1.5.0",
          "model_name": "FloatProgressModel",
          "state": {
            "_dom_classes": [],
            "_model_module": "@jupyter-widgets/controls",
            "_model_module_version": "1.5.0",
            "_model_name": "FloatProgressModel",
            "_view_count": null,
            "_view_module": "@jupyter-widgets/controls",
            "_view_module_version": "1.5.0",
            "_view_name": "ProgressView",
            "bar_style": "success",
            "description": "",
            "description_tooltip": null,
            "layout": "IPY_MODEL_26084333768d47208a830e03b93cae2c",
            "max": 42,
            "min": 0,
            "orientation": "horizontal",
            "style": "IPY_MODEL_dd15e08fb27e4372aeac1d56ebe897a4",
            "value": 42
          }
        },
        "3ea8745930514fa69cdf891ec0e12747": {
          "model_module": "@jupyter-widgets/controls",
          "model_module_version": "1.5.0",
          "model_name": "ProgressStyleModel",
          "state": {
            "_model_module": "@jupyter-widgets/controls",
            "_model_module_version": "1.5.0",
            "_model_name": "ProgressStyleModel",
            "_view_count": null,
            "_view_module": "@jupyter-widgets/base",
            "_view_module_version": "1.2.0",
            "_view_name": "StyleView",
            "bar_color": null,
            "description_width": ""
          }
        },
        "3eb6256730184adf9bf60430e3ecb2b7": {
          "model_module": "@jupyter-widgets/base",
          "model_module_version": "1.2.0",
          "model_name": "LayoutModel",
          "state": {
            "_model_module": "@jupyter-widgets/base",
            "_model_module_version": "1.2.0",
            "_model_name": "LayoutModel",
            "_view_count": null,
            "_view_module": "@jupyter-widgets/base",
            "_view_module_version": "1.2.0",
            "_view_name": "LayoutView",
            "align_content": null,
            "align_items": null,
            "align_self": null,
            "border": null,
            "bottom": null,
            "display": null,
            "flex": null,
            "flex_flow": null,
            "grid_area": null,
            "grid_auto_columns": null,
            "grid_auto_flow": null,
            "grid_auto_rows": null,
            "grid_column": null,
            "grid_gap": null,
            "grid_row": null,
            "grid_template_areas": null,
            "grid_template_columns": null,
            "grid_template_rows": null,
            "height": null,
            "justify_content": null,
            "justify_items": null,
            "left": null,
            "margin": null,
            "max_height": null,
            "max_width": null,
            "min_height": null,
            "min_width": null,
            "object_fit": null,
            "object_position": null,
            "order": null,
            "overflow": null,
            "overflow_x": null,
            "overflow_y": null,
            "padding": null,
            "right": null,
            "top": null,
            "visibility": null,
            "width": null
          }
        },
        "466e3c7fb3db4481a897b79e92f55724": {
          "model_module": "@jupyter-widgets/controls",
          "model_module_version": "1.5.0",
          "model_name": "HTMLModel",
          "state": {
            "_dom_classes": [],
            "_model_module": "@jupyter-widgets/controls",
            "_model_module_version": "1.5.0",
            "_model_name": "HTMLModel",
            "_view_count": null,
            "_view_module": "@jupyter-widgets/controls",
            "_view_module_version": "1.5.0",
            "_view_name": "HTMLView",
            "description": "",
            "description_tooltip": null,
            "layout": "IPY_MODEL_087a9b5b103b4a9c9dfbf35530b90158",
            "placeholder": "​",
            "style": "IPY_MODEL_25b283307de7458690ef1a87960c3ee2",
            "value": " 424M/424M [00:07&lt;00:00, 54.7MB/s]"
          }
        },
        "4dedcd608869485f859b583554f9dcca": {
          "model_module": "@jupyter-widgets/controls",
          "model_module_version": "1.5.0",
          "model_name": "DescriptionStyleModel",
          "state": {
            "_model_module": "@jupyter-widgets/controls",
            "_model_module_version": "1.5.0",
            "_model_name": "DescriptionStyleModel",
            "_view_count": null,
            "_view_module": "@jupyter-widgets/base",
            "_view_module_version": "1.2.0",
            "_view_name": "StyleView",
            "description_width": ""
          }
        },
        "4f20c95203f047b1840f0a5d2cb45ebf": {
          "model_module": "@jupyter-widgets/base",
          "model_module_version": "1.2.0",
          "model_name": "LayoutModel",
          "state": {
            "_model_module": "@jupyter-widgets/base",
            "_model_module_version": "1.2.0",
            "_model_name": "LayoutModel",
            "_view_count": null,
            "_view_module": "@jupyter-widgets/base",
            "_view_module_version": "1.2.0",
            "_view_name": "LayoutView",
            "align_content": null,
            "align_items": null,
            "align_self": null,
            "border": null,
            "bottom": null,
            "display": null,
            "flex": null,
            "flex_flow": null,
            "grid_area": null,
            "grid_auto_columns": null,
            "grid_auto_flow": null,
            "grid_auto_rows": null,
            "grid_column": null,
            "grid_gap": null,
            "grid_row": null,
            "grid_template_areas": null,
            "grid_template_columns": null,
            "grid_template_rows": null,
            "height": null,
            "justify_content": null,
            "justify_items": null,
            "left": null,
            "margin": null,
            "max_height": null,
            "max_width": null,
            "min_height": null,
            "min_width": null,
            "object_fit": null,
            "object_position": null,
            "order": null,
            "overflow": null,
            "overflow_x": null,
            "overflow_y": null,
            "padding": null,
            "right": null,
            "top": null,
            "visibility": null,
            "width": null
          }
        },
        "51bcf925e09b4daebbcf2ad08c8bca7c": {
          "model_module": "@jupyter-widgets/base",
          "model_module_version": "1.2.0",
          "model_name": "LayoutModel",
          "state": {
            "_model_module": "@jupyter-widgets/base",
            "_model_module_version": "1.2.0",
            "_model_name": "LayoutModel",
            "_view_count": null,
            "_view_module": "@jupyter-widgets/base",
            "_view_module_version": "1.2.0",
            "_view_name": "LayoutView",
            "align_content": null,
            "align_items": null,
            "align_self": null,
            "border": null,
            "bottom": null,
            "display": null,
            "flex": null,
            "flex_flow": null,
            "grid_area": null,
            "grid_auto_columns": null,
            "grid_auto_flow": null,
            "grid_auto_rows": null,
            "grid_column": null,
            "grid_gap": null,
            "grid_row": null,
            "grid_template_areas": null,
            "grid_template_columns": null,
            "grid_template_rows": null,
            "height": null,
            "justify_content": null,
            "justify_items": null,
            "left": null,
            "margin": null,
            "max_height": null,
            "max_width": null,
            "min_height": null,
            "min_width": null,
            "object_fit": null,
            "object_position": null,
            "order": null,
            "overflow": null,
            "overflow_x": null,
            "overflow_y": null,
            "padding": null,
            "right": null,
            "top": null,
            "visibility": null,
            "width": null
          }
        },
        "529cb336653a484f9c5e10c3fadab08b": {
          "model_module": "@jupyter-widgets/controls",
          "model_module_version": "1.5.0",
          "model_name": "FloatProgressModel",
          "state": {
            "_dom_classes": [],
            "_model_module": "@jupyter-widgets/controls",
            "_model_module_version": "1.5.0",
            "_model_name": "FloatProgressModel",
            "_view_count": null,
            "_view_module": "@jupyter-widgets/controls",
            "_view_module_version": "1.5.0",
            "_view_name": "ProgressView",
            "bar_style": "success",
            "description": "",
            "description_tooltip": null,
            "layout": "IPY_MODEL_da819c0fd2124caeafdd2c334307b715",
            "max": 2,
            "min": 0,
            "orientation": "horizontal",
            "style": "IPY_MODEL_bd0f7c6650e74166834f34f8ea7dd515",
            "value": 2
          }
        },
        "53cdd05653144b4bbd98a8ade094d872": {
          "model_module": "@jupyter-widgets/base",
          "model_module_version": "1.2.0",
          "model_name": "LayoutModel",
          "state": {
            "_model_module": "@jupyter-widgets/base",
            "_model_module_version": "1.2.0",
            "_model_name": "LayoutModel",
            "_view_count": null,
            "_view_module": "@jupyter-widgets/base",
            "_view_module_version": "1.2.0",
            "_view_name": "LayoutView",
            "align_content": null,
            "align_items": null,
            "align_self": null,
            "border": null,
            "bottom": null,
            "display": null,
            "flex": null,
            "flex_flow": null,
            "grid_area": null,
            "grid_auto_columns": null,
            "grid_auto_flow": null,
            "grid_auto_rows": null,
            "grid_column": null,
            "grid_gap": null,
            "grid_row": null,
            "grid_template_areas": null,
            "grid_template_columns": null,
            "grid_template_rows": null,
            "height": null,
            "justify_content": null,
            "justify_items": null,
            "left": null,
            "margin": null,
            "max_height": null,
            "max_width": null,
            "min_height": null,
            "min_width": null,
            "object_fit": null,
            "object_position": null,
            "order": null,
            "overflow": null,
            "overflow_x": null,
            "overflow_y": null,
            "padding": null,
            "right": null,
            "top": null,
            "visibility": null,
            "width": null
          }
        },
        "543a646f3eeb4a67bd3c44e589a82a33": {
          "model_module": "@jupyter-widgets/controls",
          "model_module_version": "1.5.0",
          "model_name": "HTMLModel",
          "state": {
            "_dom_classes": [],
            "_model_module": "@jupyter-widgets/controls",
            "_model_module_version": "1.5.0",
            "_model_name": "HTMLModel",
            "_view_count": null,
            "_view_module": "@jupyter-widgets/controls",
            "_view_module_version": "1.5.0",
            "_view_name": "HTMLView",
            "description": "",
            "description_tooltip": null,
            "layout": "IPY_MODEL_07396b36117a497f8b5e54dc100cbba6",
            "placeholder": "​",
            "style": "IPY_MODEL_97a6da102c2c41908b7ded32287184cc",
            "value": "Downloading: 100%"
          }
        },
        "5956fdaaf1dd42a0aae830c031884f07": {
          "model_module": "@jupyter-widgets/base",
          "model_module_version": "1.2.0",
          "model_name": "LayoutModel",
          "state": {
            "_model_module": "@jupyter-widgets/base",
            "_model_module_version": "1.2.0",
            "_model_name": "LayoutModel",
            "_view_count": null,
            "_view_module": "@jupyter-widgets/base",
            "_view_module_version": "1.2.0",
            "_view_name": "LayoutView",
            "align_content": null,
            "align_items": null,
            "align_self": null,
            "border": null,
            "bottom": null,
            "display": null,
            "flex": null,
            "flex_flow": null,
            "grid_area": null,
            "grid_auto_columns": null,
            "grid_auto_flow": null,
            "grid_auto_rows": null,
            "grid_column": null,
            "grid_gap": null,
            "grid_row": null,
            "grid_template_areas": null,
            "grid_template_columns": null,
            "grid_template_rows": null,
            "height": null,
            "justify_content": null,
            "justify_items": null,
            "left": null,
            "margin": null,
            "max_height": null,
            "max_width": null,
            "min_height": null,
            "min_width": null,
            "object_fit": null,
            "object_position": null,
            "order": null,
            "overflow": null,
            "overflow_x": null,
            "overflow_y": null,
            "padding": null,
            "right": null,
            "top": null,
            "visibility": null,
            "width": null
          }
        },
        "5a8cb39f46ef4e988702a74a5f214806": {
          "model_module": "@jupyter-widgets/controls",
          "model_module_version": "1.5.0",
          "model_name": "ProgressStyleModel",
          "state": {
            "_model_module": "@jupyter-widgets/controls",
            "_model_module_version": "1.5.0",
            "_model_name": "ProgressStyleModel",
            "_view_count": null,
            "_view_module": "@jupyter-widgets/base",
            "_view_module_version": "1.2.0",
            "_view_name": "StyleView",
            "bar_color": null,
            "description_width": ""
          }
        },
        "6304d194ba8f4a0f8a9a97d9d13c5ff8": {
          "model_module": "@jupyter-widgets/controls",
          "model_module_version": "1.5.0",
          "model_name": "HTMLModel",
          "state": {
            "_dom_classes": [],
            "_model_module": "@jupyter-widgets/controls",
            "_model_module_version": "1.5.0",
            "_model_name": "HTMLModel",
            "_view_count": null,
            "_view_module": "@jupyter-widgets/controls",
            "_view_module_version": "1.5.0",
            "_view_name": "HTMLView",
            "description": "",
            "description_tooltip": null,
            "layout": "IPY_MODEL_e86c5cdd90e449e193e73a2f94eac34c",
            "placeholder": "​",
            "style": "IPY_MODEL_a1ea0cdd08314c7799d7428c5f9ae0ea",
            "value": "Downloading: 100%"
          }
        },
        "67bc1ae2e1ed47d69547b58d0ffca664": {
          "model_module": "@jupyter-widgets/controls",
          "model_module_version": "1.5.0",
          "model_name": "DescriptionStyleModel",
          "state": {
            "_model_module": "@jupyter-widgets/controls",
            "_model_module_version": "1.5.0",
            "_model_name": "DescriptionStyleModel",
            "_view_count": null,
            "_view_module": "@jupyter-widgets/base",
            "_view_module_version": "1.2.0",
            "_view_name": "StyleView",
            "description_width": ""
          }
        },
        "6a5bab5ef6ff43e28dc1cda961b041c5": {
          "model_module": "@jupyter-widgets/controls",
          "model_module_version": "1.5.0",
          "model_name": "ProgressStyleModel",
          "state": {
            "_model_module": "@jupyter-widgets/controls",
            "_model_module_version": "1.5.0",
            "_model_name": "ProgressStyleModel",
            "_view_count": null,
            "_view_module": "@jupyter-widgets/base",
            "_view_module_version": "1.2.0",
            "_view_name": "StyleView",
            "bar_color": null,
            "description_width": ""
          }
        },
        "71475decf85e4283b88d2104276a8698": {
          "model_module": "@jupyter-widgets/base",
          "model_module_version": "1.2.0",
          "model_name": "LayoutModel",
          "state": {
            "_model_module": "@jupyter-widgets/base",
            "_model_module_version": "1.2.0",
            "_model_name": "LayoutModel",
            "_view_count": null,
            "_view_module": "@jupyter-widgets/base",
            "_view_module_version": "1.2.0",
            "_view_name": "LayoutView",
            "align_content": null,
            "align_items": null,
            "align_self": null,
            "border": null,
            "bottom": null,
            "display": null,
            "flex": null,
            "flex_flow": null,
            "grid_area": null,
            "grid_auto_columns": null,
            "grid_auto_flow": null,
            "grid_auto_rows": null,
            "grid_column": null,
            "grid_gap": null,
            "grid_row": null,
            "grid_template_areas": null,
            "grid_template_columns": null,
            "grid_template_rows": null,
            "height": null,
            "justify_content": null,
            "justify_items": null,
            "left": null,
            "margin": null,
            "max_height": null,
            "max_width": null,
            "min_height": null,
            "min_width": null,
            "object_fit": null,
            "object_position": null,
            "order": null,
            "overflow": null,
            "overflow_x": null,
            "overflow_y": null,
            "padding": null,
            "right": null,
            "top": null,
            "visibility": null,
            "width": null
          }
        },
        "79b6102537b948a9af4f6cb4632190cc": {
          "model_module": "@jupyter-widgets/controls",
          "model_module_version": "1.5.0",
          "model_name": "HTMLModel",
          "state": {
            "_dom_classes": [],
            "_model_module": "@jupyter-widgets/controls",
            "_model_module_version": "1.5.0",
            "_model_name": "HTMLModel",
            "_view_count": null,
            "_view_module": "@jupyter-widgets/controls",
            "_view_module_version": "1.5.0",
            "_view_name": "HTMLView",
            "description": "",
            "description_tooltip": null,
            "layout": "IPY_MODEL_ad67909580814c019e8c15782eeeb053",
            "placeholder": "​",
            "style": "IPY_MODEL_a8f188fb12c74942b3d9d15057123a0e",
            "value": " 229k/229k [00:00&lt;00:00, 704kB/s]"
          }
        },
        "7ad8b00970d24cf3b43e0f8dbdb36e3e": {
          "model_module": "@jupyter-widgets/controls",
          "model_module_version": "1.5.0",
          "model_name": "DescriptionStyleModel",
          "state": {
            "_model_module": "@jupyter-widgets/controls",
            "_model_module_version": "1.5.0",
            "_model_name": "DescriptionStyleModel",
            "_view_count": null,
            "_view_module": "@jupyter-widgets/base",
            "_view_module_version": "1.2.0",
            "_view_name": "StyleView",
            "description_width": ""
          }
        },
        "7b1940e266b24c4f9cf3e1ac31cae868": {
          "model_module": "@jupyter-widgets/controls",
          "model_module_version": "1.5.0",
          "model_name": "HBoxModel",
          "state": {
            "_dom_classes": [],
            "_model_module": "@jupyter-widgets/controls",
            "_model_module_version": "1.5.0",
            "_model_name": "HBoxModel",
            "_view_count": null,
            "_view_module": "@jupyter-widgets/controls",
            "_view_module_version": "1.5.0",
            "_view_name": "HBoxView",
            "box_style": "",
            "children": [
              "IPY_MODEL_6304d194ba8f4a0f8a9a97d9d13c5ff8",
              "IPY_MODEL_529cb336653a484f9c5e10c3fadab08b",
              "IPY_MODEL_18acd3cf313e49278bf287f098e357bc"
            ],
            "layout": "IPY_MODEL_5956fdaaf1dd42a0aae830c031884f07"
          }
        },
        "7c492f1881584d0e8b8b954224f69d89": {
          "model_module": "@jupyter-widgets/controls",
          "model_module_version": "1.5.0",
          "model_name": "HTMLModel",
          "state": {
            "_dom_classes": [],
            "_model_module": "@jupyter-widgets/controls",
            "_model_module_version": "1.5.0",
            "_model_name": "HTMLModel",
            "_view_count": null,
            "_view_module": "@jupyter-widgets/controls",
            "_view_module_version": "1.5.0",
            "_view_name": "HTMLView",
            "description": "",
            "description_tooltip": null,
            "layout": "IPY_MODEL_a58964c247794e5ab74962934e033877",
            "placeholder": "​",
            "style": "IPY_MODEL_67bc1ae2e1ed47d69547b58d0ffca664",
            "value": "Downloading: 100%"
          }
        },
        "7e45987730704dfa87b5a32095d50f0b": {
          "model_module": "@jupyter-widgets/controls",
          "model_module_version": "1.5.0",
          "model_name": "FloatProgressModel",
          "state": {
            "_dom_classes": [],
            "_model_module": "@jupyter-widgets/controls",
            "_model_module_version": "1.5.0",
            "_model_name": "FloatProgressModel",
            "_view_count": null,
            "_view_module": "@jupyter-widgets/controls",
            "_view_module_version": "1.5.0",
            "_view_name": "ProgressView",
            "bar_style": "success",
            "description": "",
            "description_tooltip": null,
            "layout": "IPY_MODEL_c49abd7bd1cb46b99fd61b9254e95cc9",
            "max": 444780374,
            "min": 0,
            "orientation": "horizontal",
            "style": "IPY_MODEL_235a2dc7326e4bdea107accd9d992580",
            "value": 444780374
          }
        },
        "8fa48883ee4642069fd0b9dcf0b7ba53": {
          "model_module": "@jupyter-widgets/controls",
          "model_module_version": "1.5.0",
          "model_name": "FloatProgressModel",
          "state": {
            "_dom_classes": [],
            "_model_module": "@jupyter-widgets/controls",
            "_model_module_version": "1.5.0",
            "_model_name": "FloatProgressModel",
            "_view_count": null,
            "_view_module": "@jupyter-widgets/controls",
            "_view_module_version": "1.5.0",
            "_view_name": "ProgressView",
            "bar_style": "success",
            "description": "",
            "description_tooltip": null,
            "layout": "IPY_MODEL_047969f92771482aa5c3f9976a6e14ca",
            "max": 234118,
            "min": 0,
            "orientation": "horizontal",
            "style": "IPY_MODEL_6a5bab5ef6ff43e28dc1cda961b041c5",
            "value": 234118
          }
        },
        "90833ea3f05c499f99d8bca2e443aa19": {
          "model_module": "@jupyter-widgets/base",
          "model_module_version": "1.2.0",
          "model_name": "LayoutModel",
          "state": {
            "_model_module": "@jupyter-widgets/base",
            "_model_module_version": "1.2.0",
            "_model_name": "LayoutModel",
            "_view_count": null,
            "_view_module": "@jupyter-widgets/base",
            "_view_module_version": "1.2.0",
            "_view_name": "LayoutView",
            "align_content": null,
            "align_items": null,
            "align_self": null,
            "border": null,
            "bottom": null,
            "display": null,
            "flex": null,
            "flex_flow": null,
            "grid_area": null,
            "grid_auto_columns": null,
            "grid_auto_flow": null,
            "grid_auto_rows": null,
            "grid_column": null,
            "grid_gap": null,
            "grid_row": null,
            "grid_template_areas": null,
            "grid_template_columns": null,
            "grid_template_rows": null,
            "height": null,
            "justify_content": null,
            "justify_items": null,
            "left": null,
            "margin": null,
            "max_height": null,
            "max_width": null,
            "min_height": null,
            "min_width": null,
            "object_fit": null,
            "object_position": null,
            "order": null,
            "overflow": null,
            "overflow_x": null,
            "overflow_y": null,
            "padding": null,
            "right": null,
            "top": null,
            "visibility": null,
            "width": null
          }
        },
        "94282bc83dd84a81844c4f3b175250f0": {
          "model_module": "@jupyter-widgets/controls",
          "model_module_version": "1.5.0",
          "model_name": "DescriptionStyleModel",
          "state": {
            "_model_module": "@jupyter-widgets/controls",
            "_model_module_version": "1.5.0",
            "_model_name": "DescriptionStyleModel",
            "_view_count": null,
            "_view_module": "@jupyter-widgets/base",
            "_view_module_version": "1.2.0",
            "_view_name": "StyleView",
            "description_width": ""
          }
        },
        "945bfa049e5941dd8dfa3435d3b572c9": {
          "model_module": "@jupyter-widgets/base",
          "model_module_version": "1.2.0",
          "model_name": "LayoutModel",
          "state": {
            "_model_module": "@jupyter-widgets/base",
            "_model_module_version": "1.2.0",
            "_model_name": "LayoutModel",
            "_view_count": null,
            "_view_module": "@jupyter-widgets/base",
            "_view_module_version": "1.2.0",
            "_view_name": "LayoutView",
            "align_content": null,
            "align_items": null,
            "align_self": null,
            "border": null,
            "bottom": null,
            "display": null,
            "flex": null,
            "flex_flow": null,
            "grid_area": null,
            "grid_auto_columns": null,
            "grid_auto_flow": null,
            "grid_auto_rows": null,
            "grid_column": null,
            "grid_gap": null,
            "grid_row": null,
            "grid_template_areas": null,
            "grid_template_columns": null,
            "grid_template_rows": null,
            "height": null,
            "justify_content": null,
            "justify_items": null,
            "left": null,
            "margin": null,
            "max_height": null,
            "max_width": null,
            "min_height": null,
            "min_width": null,
            "object_fit": null,
            "object_position": null,
            "order": null,
            "overflow": null,
            "overflow_x": null,
            "overflow_y": null,
            "padding": null,
            "right": null,
            "top": null,
            "visibility": null,
            "width": null
          }
        },
        "953ac874f40d48d5a5d543bd97ca5843": {
          "model_module": "@jupyter-widgets/controls",
          "model_module_version": "1.5.0",
          "model_name": "DescriptionStyleModel",
          "state": {
            "_model_module": "@jupyter-widgets/controls",
            "_model_module_version": "1.5.0",
            "_model_name": "DescriptionStyleModel",
            "_view_count": null,
            "_view_module": "@jupyter-widgets/base",
            "_view_module_version": "1.2.0",
            "_view_name": "StyleView",
            "description_width": ""
          }
        },
        "9565975894e24a19bab7daae5e905882": {
          "model_module": "@jupyter-widgets/controls",
          "model_module_version": "1.5.0",
          "model_name": "HTMLModel",
          "state": {
            "_dom_classes": [],
            "_model_module": "@jupyter-widgets/controls",
            "_model_module_version": "1.5.0",
            "_model_name": "HTMLModel",
            "_view_count": null,
            "_view_module": "@jupyter-widgets/controls",
            "_view_module_version": "1.5.0",
            "_view_name": "HTMLView",
            "description": "",
            "description_tooltip": null,
            "layout": "IPY_MODEL_b1465b4d3480471d8f1ee1af7ee389b3",
            "placeholder": "​",
            "style": "IPY_MODEL_1a7b3c15ec094d0a974f9b81f65977db",
            "value": "Downloading: 100%"
          }
        },
        "97a6da102c2c41908b7ded32287184cc": {
          "model_module": "@jupyter-widgets/controls",
          "model_module_version": "1.5.0",
          "model_name": "DescriptionStyleModel",
          "state": {
            "_model_module": "@jupyter-widgets/controls",
            "_model_module_version": "1.5.0",
            "_model_name": "DescriptionStyleModel",
            "_view_count": null,
            "_view_module": "@jupyter-widgets/base",
            "_view_module_version": "1.2.0",
            "_view_name": "StyleView",
            "description_width": ""
          }
        },
        "9a16f7aab415434091f740c9c9827f7a": {
          "model_module": "@jupyter-widgets/controls",
          "model_module_version": "1.5.0",
          "model_name": "DescriptionStyleModel",
          "state": {
            "_model_module": "@jupyter-widgets/controls",
            "_model_module_version": "1.5.0",
            "_model_name": "DescriptionStyleModel",
            "_view_count": null,
            "_view_module": "@jupyter-widgets/base",
            "_view_module_version": "1.2.0",
            "_view_name": "StyleView",
            "description_width": ""
          }
        },
        "9a27cb6702464bbabfae623c56c89d6c": {
          "model_module": "@jupyter-widgets/controls",
          "model_module_version": "1.5.0",
          "model_name": "HBoxModel",
          "state": {
            "_dom_classes": [],
            "_model_module": "@jupyter-widgets/controls",
            "_model_module_version": "1.5.0",
            "_model_name": "HBoxModel",
            "_view_count": null,
            "_view_module": "@jupyter-widgets/controls",
            "_view_module_version": "1.5.0",
            "_view_name": "HBoxView",
            "box_style": "",
            "children": [
              "IPY_MODEL_ad70bb174b33412a9abba417c30509c4",
              "IPY_MODEL_a968d4bde9614e3bab9bf98e76aacbd5",
              "IPY_MODEL_176b423e26a949639d04c0303131ef45"
            ],
            "layout": "IPY_MODEL_03cf4e269d364e7584bdadab648e330f"
          }
        },
        "a1ea0cdd08314c7799d7428c5f9ae0ea": {
          "model_module": "@jupyter-widgets/controls",
          "model_module_version": "1.5.0",
          "model_name": "DescriptionStyleModel",
          "state": {
            "_model_module": "@jupyter-widgets/controls",
            "_model_module_version": "1.5.0",
            "_model_name": "DescriptionStyleModel",
            "_view_count": null,
            "_view_module": "@jupyter-widgets/base",
            "_view_module_version": "1.2.0",
            "_view_name": "StyleView",
            "description_width": ""
          }
        },
        "a58964c247794e5ab74962934e033877": {
          "model_module": "@jupyter-widgets/base",
          "model_module_version": "1.2.0",
          "model_name": "LayoutModel",
          "state": {
            "_model_module": "@jupyter-widgets/base",
            "_model_module_version": "1.2.0",
            "_model_name": "LayoutModel",
            "_view_count": null,
            "_view_module": "@jupyter-widgets/base",
            "_view_module_version": "1.2.0",
            "_view_name": "LayoutView",
            "align_content": null,
            "align_items": null,
            "align_self": null,
            "border": null,
            "bottom": null,
            "display": null,
            "flex": null,
            "flex_flow": null,
            "grid_area": null,
            "grid_auto_columns": null,
            "grid_auto_flow": null,
            "grid_auto_rows": null,
            "grid_column": null,
            "grid_gap": null,
            "grid_row": null,
            "grid_template_areas": null,
            "grid_template_columns": null,
            "grid_template_rows": null,
            "height": null,
            "justify_content": null,
            "justify_items": null,
            "left": null,
            "margin": null,
            "max_height": null,
            "max_width": null,
            "min_height": null,
            "min_width": null,
            "object_fit": null,
            "object_position": null,
            "order": null,
            "overflow": null,
            "overflow_x": null,
            "overflow_y": null,
            "padding": null,
            "right": null,
            "top": null,
            "visibility": null,
            "width": null
          }
        },
        "a8f188fb12c74942b3d9d15057123a0e": {
          "model_module": "@jupyter-widgets/controls",
          "model_module_version": "1.5.0",
          "model_name": "DescriptionStyleModel",
          "state": {
            "_model_module": "@jupyter-widgets/controls",
            "_model_module_version": "1.5.0",
            "_model_name": "DescriptionStyleModel",
            "_view_count": null,
            "_view_module": "@jupyter-widgets/base",
            "_view_module_version": "1.2.0",
            "_view_name": "StyleView",
            "description_width": ""
          }
        },
        "a968d4bde9614e3bab9bf98e76aacbd5": {
          "model_module": "@jupyter-widgets/controls",
          "model_module_version": "1.5.0",
          "model_name": "FloatProgressModel",
          "state": {
            "_dom_classes": [],
            "_model_module": "@jupyter-widgets/controls",
            "_model_module_version": "1.5.0",
            "_model_name": "FloatProgressModel",
            "_view_count": null,
            "_view_module": "@jupyter-widgets/controls",
            "_view_module_version": "1.5.0",
            "_view_name": "ProgressView",
            "bar_style": "success",
            "description": "",
            "description_tooltip": null,
            "layout": "IPY_MODEL_f1dc29811e434abdaa5d5aa770768e42",
            "max": 112,
            "min": 0,
            "orientation": "horizontal",
            "style": "IPY_MODEL_3ea8745930514fa69cdf891ec0e12747",
            "value": 112
          }
        },
        "ad67909580814c019e8c15782eeeb053": {
          "model_module": "@jupyter-widgets/base",
          "model_module_version": "1.2.0",
          "model_name": "LayoutModel",
          "state": {
            "_model_module": "@jupyter-widgets/base",
            "_model_module_version": "1.2.0",
            "_model_name": "LayoutModel",
            "_view_count": null,
            "_view_module": "@jupyter-widgets/base",
            "_view_module_version": "1.2.0",
            "_view_name": "LayoutView",
            "align_content": null,
            "align_items": null,
            "align_self": null,
            "border": null,
            "bottom": null,
            "display": null,
            "flex": null,
            "flex_flow": null,
            "grid_area": null,
            "grid_auto_columns": null,
            "grid_auto_flow": null,
            "grid_auto_rows": null,
            "grid_column": null,
            "grid_gap": null,
            "grid_row": null,
            "grid_template_areas": null,
            "grid_template_columns": null,
            "grid_template_rows": null,
            "height": null,
            "justify_content": null,
            "justify_items": null,
            "left": null,
            "margin": null,
            "max_height": null,
            "max_width": null,
            "min_height": null,
            "min_width": null,
            "object_fit": null,
            "object_position": null,
            "order": null,
            "overflow": null,
            "overflow_x": null,
            "overflow_y": null,
            "padding": null,
            "right": null,
            "top": null,
            "visibility": null,
            "width": null
          }
        },
        "ad70bb174b33412a9abba417c30509c4": {
          "model_module": "@jupyter-widgets/controls",
          "model_module_version": "1.5.0",
          "model_name": "HTMLModel",
          "state": {
            "_dom_classes": [],
            "_model_module": "@jupyter-widgets/controls",
            "_model_module_version": "1.5.0",
            "_model_name": "HTMLModel",
            "_view_count": null,
            "_view_module": "@jupyter-widgets/controls",
            "_view_module_version": "1.5.0",
            "_view_name": "HTMLView",
            "description": "",
            "description_tooltip": null,
            "layout": "IPY_MODEL_aec4f6cafd1b4dd7b151dfd13cde2053",
            "placeholder": "​",
            "style": "IPY_MODEL_4dedcd608869485f859b583554f9dcca",
            "value": "Downloading: 100%"
          }
        },
        "aec4f6cafd1b4dd7b151dfd13cde2053": {
          "model_module": "@jupyter-widgets/base",
          "model_module_version": "1.2.0",
          "model_name": "LayoutModel",
          "state": {
            "_model_module": "@jupyter-widgets/base",
            "_model_module_version": "1.2.0",
            "_model_name": "LayoutModel",
            "_view_count": null,
            "_view_module": "@jupyter-widgets/base",
            "_view_module_version": "1.2.0",
            "_view_name": "LayoutView",
            "align_content": null,
            "align_items": null,
            "align_self": null,
            "border": null,
            "bottom": null,
            "display": null,
            "flex": null,
            "flex_flow": null,
            "grid_area": null,
            "grid_auto_columns": null,
            "grid_auto_flow": null,
            "grid_auto_rows": null,
            "grid_column": null,
            "grid_gap": null,
            "grid_row": null,
            "grid_template_areas": null,
            "grid_template_columns": null,
            "grid_template_rows": null,
            "height": null,
            "justify_content": null,
            "justify_items": null,
            "left": null,
            "margin": null,
            "max_height": null,
            "max_width": null,
            "min_height": null,
            "min_width": null,
            "object_fit": null,
            "object_position": null,
            "order": null,
            "overflow": null,
            "overflow_x": null,
            "overflow_y": null,
            "padding": null,
            "right": null,
            "top": null,
            "visibility": null,
            "width": null
          }
        },
        "b1465b4d3480471d8f1ee1af7ee389b3": {
          "model_module": "@jupyter-widgets/base",
          "model_module_version": "1.2.0",
          "model_name": "LayoutModel",
          "state": {
            "_model_module": "@jupyter-widgets/base",
            "_model_module_version": "1.2.0",
            "_model_name": "LayoutModel",
            "_view_count": null,
            "_view_module": "@jupyter-widgets/base",
            "_view_module_version": "1.2.0",
            "_view_name": "LayoutView",
            "align_content": null,
            "align_items": null,
            "align_self": null,
            "border": null,
            "bottom": null,
            "display": null,
            "flex": null,
            "flex_flow": null,
            "grid_area": null,
            "grid_auto_columns": null,
            "grid_auto_flow": null,
            "grid_auto_rows": null,
            "grid_column": null,
            "grid_gap": null,
            "grid_row": null,
            "grid_template_areas": null,
            "grid_template_columns": null,
            "grid_template_rows": null,
            "height": null,
            "justify_content": null,
            "justify_items": null,
            "left": null,
            "margin": null,
            "max_height": null,
            "max_width": null,
            "min_height": null,
            "min_width": null,
            "object_fit": null,
            "object_position": null,
            "order": null,
            "overflow": null,
            "overflow_x": null,
            "overflow_y": null,
            "padding": null,
            "right": null,
            "top": null,
            "visibility": null,
            "width": null
          }
        },
        "b79e1e0432e44d2a9620ea1069652acb": {
          "model_module": "@jupyter-widgets/controls",
          "model_module_version": "1.5.0",
          "model_name": "HTMLModel",
          "state": {
            "_dom_classes": [],
            "_model_module": "@jupyter-widgets/controls",
            "_model_module_version": "1.5.0",
            "_model_name": "HTMLModel",
            "_view_count": null,
            "_view_module": "@jupyter-widgets/controls",
            "_view_module_version": "1.5.0",
            "_view_name": "HTMLView",
            "description": "",
            "description_tooltip": null,
            "layout": "IPY_MODEL_f574db3c54d5499a9815d581261cecf4",
            "placeholder": "​",
            "style": "IPY_MODEL_f13149cf669143f6a8b6e8925f3d920f",
            "value": "Downloading: 100%"
          }
        },
        "bd0f7c6650e74166834f34f8ea7dd515": {
          "model_module": "@jupyter-widgets/controls",
          "model_module_version": "1.5.0",
          "model_name": "ProgressStyleModel",
          "state": {
            "_model_module": "@jupyter-widgets/controls",
            "_model_module_version": "1.5.0",
            "_model_name": "ProgressStyleModel",
            "_view_count": null,
            "_view_module": "@jupyter-widgets/base",
            "_view_module_version": "1.2.0",
            "_view_name": "StyleView",
            "bar_color": null,
            "description_width": ""
          }
        },
        "c49abd7bd1cb46b99fd61b9254e95cc9": {
          "model_module": "@jupyter-widgets/base",
          "model_module_version": "1.2.0",
          "model_name": "LayoutModel",
          "state": {
            "_model_module": "@jupyter-widgets/base",
            "_model_module_version": "1.2.0",
            "_model_name": "LayoutModel",
            "_view_count": null,
            "_view_module": "@jupyter-widgets/base",
            "_view_module_version": "1.2.0",
            "_view_name": "LayoutView",
            "align_content": null,
            "align_items": null,
            "align_self": null,
            "border": null,
            "bottom": null,
            "display": null,
            "flex": null,
            "flex_flow": null,
            "grid_area": null,
            "grid_auto_columns": null,
            "grid_auto_flow": null,
            "grid_auto_rows": null,
            "grid_column": null,
            "grid_gap": null,
            "grid_row": null,
            "grid_template_areas": null,
            "grid_template_columns": null,
            "grid_template_rows": null,
            "height": null,
            "justify_content": null,
            "justify_items": null,
            "left": null,
            "margin": null,
            "max_height": null,
            "max_width": null,
            "min_height": null,
            "min_width": null,
            "object_fit": null,
            "object_position": null,
            "order": null,
            "overflow": null,
            "overflow_x": null,
            "overflow_y": null,
            "padding": null,
            "right": null,
            "top": null,
            "visibility": null,
            "width": null
          }
        },
        "c90c67851d904fa4ab9cc23f0417e248": {
          "model_module": "@jupyter-widgets/base",
          "model_module_version": "1.2.0",
          "model_name": "LayoutModel",
          "state": {
            "_model_module": "@jupyter-widgets/base",
            "_model_module_version": "1.2.0",
            "_model_name": "LayoutModel",
            "_view_count": null,
            "_view_module": "@jupyter-widgets/base",
            "_view_module_version": "1.2.0",
            "_view_name": "LayoutView",
            "align_content": null,
            "align_items": null,
            "align_self": null,
            "border": null,
            "bottom": null,
            "display": null,
            "flex": null,
            "flex_flow": null,
            "grid_area": null,
            "grid_auto_columns": null,
            "grid_auto_flow": null,
            "grid_auto_rows": null,
            "grid_column": null,
            "grid_gap": null,
            "grid_row": null,
            "grid_template_areas": null,
            "grid_template_columns": null,
            "grid_template_rows": null,
            "height": null,
            "justify_content": null,
            "justify_items": null,
            "left": null,
            "margin": null,
            "max_height": null,
            "max_width": null,
            "min_height": null,
            "min_width": null,
            "object_fit": null,
            "object_position": null,
            "order": null,
            "overflow": null,
            "overflow_x": null,
            "overflow_y": null,
            "padding": null,
            "right": null,
            "top": null,
            "visibility": null,
            "width": null
          }
        },
        "ce9f03e12c4341cdbe6b493263551b8a": {
          "model_module": "@jupyter-widgets/controls",
          "model_module_version": "1.5.0",
          "model_name": "HBoxModel",
          "state": {
            "_dom_classes": [],
            "_model_module": "@jupyter-widgets/controls",
            "_model_module_version": "1.5.0",
            "_model_name": "HBoxModel",
            "_view_count": null,
            "_view_module": "@jupyter-widgets/controls",
            "_view_module_version": "1.5.0",
            "_view_name": "HBoxView",
            "box_style": "",
            "children": [
              "IPY_MODEL_7c492f1881584d0e8b8b954224f69d89",
              "IPY_MODEL_38f25428744c495ca54b88e41f6157b9",
              "IPY_MODEL_22eb2e5ea85e4e26ada61f2fe0e30938"
            ],
            "layout": "IPY_MODEL_f0f32e4ffe2841039b6c2e2dc5793c10"
          }
        },
        "da819c0fd2124caeafdd2c334307b715": {
          "model_module": "@jupyter-widgets/base",
          "model_module_version": "1.2.0",
          "model_name": "LayoutModel",
          "state": {
            "_model_module": "@jupyter-widgets/base",
            "_model_module_version": "1.2.0",
            "_model_name": "LayoutModel",
            "_view_count": null,
            "_view_module": "@jupyter-widgets/base",
            "_view_module_version": "1.2.0",
            "_view_name": "LayoutView",
            "align_content": null,
            "align_items": null,
            "align_self": null,
            "border": null,
            "bottom": null,
            "display": null,
            "flex": null,
            "flex_flow": null,
            "grid_area": null,
            "grid_auto_columns": null,
            "grid_auto_flow": null,
            "grid_auto_rows": null,
            "grid_column": null,
            "grid_gap": null,
            "grid_row": null,
            "grid_template_areas": null,
            "grid_template_columns": null,
            "grid_template_rows": null,
            "height": null,
            "justify_content": null,
            "justify_items": null,
            "left": null,
            "margin": null,
            "max_height": null,
            "max_width": null,
            "min_height": null,
            "min_width": null,
            "object_fit": null,
            "object_position": null,
            "order": null,
            "overflow": null,
            "overflow_x": null,
            "overflow_y": null,
            "padding": null,
            "right": null,
            "top": null,
            "visibility": null,
            "width": null
          }
        },
        "dd15e08fb27e4372aeac1d56ebe897a4": {
          "model_module": "@jupyter-widgets/controls",
          "model_module_version": "1.5.0",
          "model_name": "ProgressStyleModel",
          "state": {
            "_model_module": "@jupyter-widgets/controls",
            "_model_module_version": "1.5.0",
            "_model_name": "ProgressStyleModel",
            "_view_count": null,
            "_view_module": "@jupyter-widgets/base",
            "_view_module_version": "1.2.0",
            "_view_name": "StyleView",
            "bar_color": null,
            "description_width": ""
          }
        },
        "e3d354d537cc48b2b0c573cf88dd9fa3": {
          "model_module": "@jupyter-widgets/controls",
          "model_module_version": "1.5.0",
          "model_name": "LabelModel",
          "state": {
            "_dom_classes": [],
            "_model_module": "@jupyter-widgets/controls",
            "_model_module_version": "1.5.0",
            "_model_name": "LabelModel",
            "_view_count": null,
            "_view_module": "@jupyter-widgets/controls",
            "_view_module_version": "1.5.0",
            "_view_name": "LabelView",
            "description": "",
            "description_tooltip": null,
            "layout": "IPY_MODEL_f85581c225494f02afd7d8193d90ecaa",
            "placeholder": "​",
            "style": "IPY_MODEL_7ad8b00970d24cf3b43e0f8dbdb36e3e",
            "value": "0.355 MB of 0.355 MB uploaded (0.000 MB deduped)\r"
          }
        },
        "e86c5cdd90e449e193e73a2f94eac34c": {
          "model_module": "@jupyter-widgets/base",
          "model_module_version": "1.2.0",
          "model_name": "LayoutModel",
          "state": {
            "_model_module": "@jupyter-widgets/base",
            "_model_module_version": "1.2.0",
            "_model_name": "LayoutModel",
            "_view_count": null,
            "_view_module": "@jupyter-widgets/base",
            "_view_module_version": "1.2.0",
            "_view_name": "LayoutView",
            "align_content": null,
            "align_items": null,
            "align_self": null,
            "border": null,
            "bottom": null,
            "display": null,
            "flex": null,
            "flex_flow": null,
            "grid_area": null,
            "grid_auto_columns": null,
            "grid_auto_flow": null,
            "grid_auto_rows": null,
            "grid_column": null,
            "grid_gap": null,
            "grid_row": null,
            "grid_template_areas": null,
            "grid_template_columns": null,
            "grid_template_rows": null,
            "height": null,
            "justify_content": null,
            "justify_items": null,
            "left": null,
            "margin": null,
            "max_height": null,
            "max_width": null,
            "min_height": null,
            "min_width": null,
            "object_fit": null,
            "object_position": null,
            "order": null,
            "overflow": null,
            "overflow_x": null,
            "overflow_y": null,
            "padding": null,
            "right": null,
            "top": null,
            "visibility": null,
            "width": null
          }
        },
        "eec4a5ad997041c49686cbe93c5adfe9": {
          "model_module": "@jupyter-widgets/controls",
          "model_module_version": "1.5.0",
          "model_name": "HBoxModel",
          "state": {
            "_dom_classes": [],
            "_model_module": "@jupyter-widgets/controls",
            "_model_module_version": "1.5.0",
            "_model_name": "HBoxModel",
            "_view_count": null,
            "_view_module": "@jupyter-widgets/controls",
            "_view_module_version": "1.5.0",
            "_view_name": "HBoxView",
            "box_style": "",
            "children": [
              "IPY_MODEL_b79e1e0432e44d2a9620ea1069652acb",
              "IPY_MODEL_381400f65d8842dfad2f9a155b6b9135",
              "IPY_MODEL_12d6463ee2f14d5d8614153a16fef8a3"
            ],
            "layout": "IPY_MODEL_71475decf85e4283b88d2104276a8698"
          }
        },
        "f0f32e4ffe2841039b6c2e2dc5793c10": {
          "model_module": "@jupyter-widgets/base",
          "model_module_version": "1.2.0",
          "model_name": "LayoutModel",
          "state": {
            "_model_module": "@jupyter-widgets/base",
            "_model_module_version": "1.2.0",
            "_model_name": "LayoutModel",
            "_view_count": null,
            "_view_module": "@jupyter-widgets/base",
            "_view_module_version": "1.2.0",
            "_view_name": "LayoutView",
            "align_content": null,
            "align_items": null,
            "align_self": null,
            "border": null,
            "bottom": null,
            "display": null,
            "flex": null,
            "flex_flow": null,
            "grid_area": null,
            "grid_auto_columns": null,
            "grid_auto_flow": null,
            "grid_auto_rows": null,
            "grid_column": null,
            "grid_gap": null,
            "grid_row": null,
            "grid_template_areas": null,
            "grid_template_columns": null,
            "grid_template_rows": null,
            "height": null,
            "justify_content": null,
            "justify_items": null,
            "left": null,
            "margin": null,
            "max_height": null,
            "max_width": null,
            "min_height": null,
            "min_width": null,
            "object_fit": null,
            "object_position": null,
            "order": null,
            "overflow": null,
            "overflow_x": null,
            "overflow_y": null,
            "padding": null,
            "right": null,
            "top": null,
            "visibility": null,
            "width": null
          }
        },
        "f13149cf669143f6a8b6e8925f3d920f": {
          "model_module": "@jupyter-widgets/controls",
          "model_module_version": "1.5.0",
          "model_name": "DescriptionStyleModel",
          "state": {
            "_model_module": "@jupyter-widgets/controls",
            "_model_module_version": "1.5.0",
            "_model_name": "DescriptionStyleModel",
            "_view_count": null,
            "_view_module": "@jupyter-widgets/base",
            "_view_module_version": "1.2.0",
            "_view_name": "StyleView",
            "description_width": ""
          }
        },
        "f1dc29811e434abdaa5d5aa770768e42": {
          "model_module": "@jupyter-widgets/base",
          "model_module_version": "1.2.0",
          "model_name": "LayoutModel",
          "state": {
            "_model_module": "@jupyter-widgets/base",
            "_model_module_version": "1.2.0",
            "_model_name": "LayoutModel",
            "_view_count": null,
            "_view_module": "@jupyter-widgets/base",
            "_view_module_version": "1.2.0",
            "_view_name": "LayoutView",
            "align_content": null,
            "align_items": null,
            "align_self": null,
            "border": null,
            "bottom": null,
            "display": null,
            "flex": null,
            "flex_flow": null,
            "grid_area": null,
            "grid_auto_columns": null,
            "grid_auto_flow": null,
            "grid_auto_rows": null,
            "grid_column": null,
            "grid_gap": null,
            "grid_row": null,
            "grid_template_areas": null,
            "grid_template_columns": null,
            "grid_template_rows": null,
            "height": null,
            "justify_content": null,
            "justify_items": null,
            "left": null,
            "margin": null,
            "max_height": null,
            "max_width": null,
            "min_height": null,
            "min_width": null,
            "object_fit": null,
            "object_position": null,
            "order": null,
            "overflow": null,
            "overflow_x": null,
            "overflow_y": null,
            "padding": null,
            "right": null,
            "top": null,
            "visibility": null,
            "width": null
          }
        },
        "f4c462aee400417aada1747e57daa303": {
          "model_module": "@jupyter-widgets/controls",
          "model_module_version": "1.5.0",
          "model_name": "VBoxModel",
          "state": {
            "_dom_classes": [],
            "_model_module": "@jupyter-widgets/controls",
            "_model_module_version": "1.5.0",
            "_model_name": "VBoxModel",
            "_view_count": null,
            "_view_module": "@jupyter-widgets/controls",
            "_view_module_version": "1.5.0",
            "_view_name": "VBoxView",
            "box_style": "",
            "children": [
              "IPY_MODEL_e3d354d537cc48b2b0c573cf88dd9fa3",
              "IPY_MODEL_2e8264490aa04f0c89ed2a37994fcf77"
            ],
            "layout": "IPY_MODEL_945bfa049e5941dd8dfa3435d3b572c9"
          }
        },
        "f574db3c54d5499a9815d581261cecf4": {
          "model_module": "@jupyter-widgets/base",
          "model_module_version": "1.2.0",
          "model_name": "LayoutModel",
          "state": {
            "_model_module": "@jupyter-widgets/base",
            "_model_module_version": "1.2.0",
            "_model_name": "LayoutModel",
            "_view_count": null,
            "_view_module": "@jupyter-widgets/base",
            "_view_module_version": "1.2.0",
            "_view_name": "LayoutView",
            "align_content": null,
            "align_items": null,
            "align_self": null,
            "border": null,
            "bottom": null,
            "display": null,
            "flex": null,
            "flex_flow": null,
            "grid_area": null,
            "grid_auto_columns": null,
            "grid_auto_flow": null,
            "grid_auto_rows": null,
            "grid_column": null,
            "grid_gap": null,
            "grid_row": null,
            "grid_template_areas": null,
            "grid_template_columns": null,
            "grid_template_rows": null,
            "height": null,
            "justify_content": null,
            "justify_items": null,
            "left": null,
            "margin": null,
            "max_height": null,
            "max_width": null,
            "min_height": null,
            "min_width": null,
            "object_fit": null,
            "object_position": null,
            "order": null,
            "overflow": null,
            "overflow_x": null,
            "overflow_y": null,
            "padding": null,
            "right": null,
            "top": null,
            "visibility": null,
            "width": null
          }
        },
        "f85581c225494f02afd7d8193d90ecaa": {
          "model_module": "@jupyter-widgets/base",
          "model_module_version": "1.2.0",
          "model_name": "LayoutModel",
          "state": {
            "_model_module": "@jupyter-widgets/base",
            "_model_module_version": "1.2.0",
            "_model_name": "LayoutModel",
            "_view_count": null,
            "_view_module": "@jupyter-widgets/base",
            "_view_module_version": "1.2.0",
            "_view_name": "LayoutView",
            "align_content": null,
            "align_items": null,
            "align_self": null,
            "border": null,
            "bottom": null,
            "display": null,
            "flex": null,
            "flex_flow": null,
            "grid_area": null,
            "grid_auto_columns": null,
            "grid_auto_flow": null,
            "grid_auto_rows": null,
            "grid_column": null,
            "grid_gap": null,
            "grid_row": null,
            "grid_template_areas": null,
            "grid_template_columns": null,
            "grid_template_rows": null,
            "height": null,
            "justify_content": null,
            "justify_items": null,
            "left": null,
            "margin": null,
            "max_height": null,
            "max_width": null,
            "min_height": null,
            "min_width": null,
            "object_fit": null,
            "object_position": null,
            "order": null,
            "overflow": null,
            "overflow_x": null,
            "overflow_y": null,
            "padding": null,
            "right": null,
            "top": null,
            "visibility": null,
            "width": null
          }
        }
      }
    }
  },
  "nbformat": 4,
  "nbformat_minor": 5
}
