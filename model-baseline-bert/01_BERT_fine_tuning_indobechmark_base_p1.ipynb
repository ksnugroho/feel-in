{
  "cells": [
    {
      "cell_type": "markdown",
      "metadata": {
        "colab_type": "text",
        "id": "view-in-github"
      },
      "source": [
        "<a href=\"https://colab.research.google.com/github/ksnugroho/feel-in/blob/main/model-baseline-bert/01_BERT_fine_tuning_indobechmark_base_p1.ipynb\" target=\"_parent\"><img src=\"https://colab.research.google.com/assets/colab-badge.svg\" alt=\"Open In Colab\"/></a>"
      ]
    },
    {
      "cell_type": "markdown",
      "id": "fK3gIPxS6Wbw",
      "metadata": {
        "id": "fK3gIPxS6Wbw"
      },
      "source": [
        "# **BERT Fine Tuning: Indobenchmark Base Phase 1 (Uncased)**\n",
        "\n",
        "**Thesis: Emotion Detection in Indonesian Text**\n",
        "\n",
        "Kuncahyo Setyo Nugroho<br>\n",
        "Supervisor:\n",
        "1. Dr. Eng. Fitra A. Bachtiar, S.T., M.Eng.\n",
        "2. Prof. Ir. Wayan Firdaus Mahmudy, S.Si., M.T., Ph.D.\n",
        "\n",
        "Faculty of Computer Science, Brawijaya University, Indonesia &copy; 2021-2022"
      ]
    },
    {
      "cell_type": "markdown",
      "id": "5e9bd0fc-0b80-4ad2-a930-e9de97552ecc",
      "metadata": {
        "id": "5e9bd0fc-0b80-4ad2-a930-e9de97552ecc"
      },
      "source": [
        "# 01 Setup"
      ]
    },
    {
      "cell_type": "code",
      "execution_count": null,
      "id": "c4L_rfEaIRyU",
      "metadata": {
        "colab": {
          "base_uri": "https://localhost:8080/"
        },
        "id": "c4L_rfEaIRyU",
        "outputId": "2a6dfe72-eb30-4b83-f567-6b2b68267b6e"
      },
      "outputs": [
        {
          "name": "stdout",
          "output_type": "stream",
          "text": [
            "Mounted at /content/drive\n"
          ]
        }
      ],
      "source": [
        "from google.colab import drive\n",
        "drive.mount('/content/drive', force_remount=True)"
      ]
    },
    {
      "cell_type": "code",
      "execution_count": null,
      "id": "g2mJAf9KIUOW",
      "metadata": {
        "colab": {
          "base_uri": "https://localhost:8080/"
        },
        "id": "g2mJAf9KIUOW",
        "outputId": "ec78ac1e-fd68-4893-d22d-3863b08cdaea"
      },
      "outputs": [],
      "source": [
        "%cd /content/drive/MyDrive/"
      ]
    },
    {
      "cell_type": "code",
      "execution_count": null,
      "id": "p6N3DanHIhKI",
      "metadata": {
        "colab": {
          "base_uri": "https://localhost:8080/"
        },
        "id": "p6N3DanHIhKI",
        "outputId": "be211eea-852b-4998-9955-65cf9d2ba84b"
      },
      "outputs": [
        {
          "name": "stdout",
          "output_type": "stream",
          "text": [
            "\u001b[K     |████████████████████████████████| 4.4 MB 3.5 MB/s \n",
            "\u001b[K     |████████████████████████████████| 1.1 MB 30.5 MB/s \n",
            "\u001b[K     |████████████████████████████████| 101 kB 12.6 MB/s \n",
            "\u001b[K     |████████████████████████████████| 596 kB 69.2 MB/s \n",
            "\u001b[K     |████████████████████████████████| 6.6 MB 15.9 MB/s \n",
            "\u001b[?25h"
          ]
        }
      ],
      "source": [
        "!pip install -q transformers tensorflow-addons"
      ]
    },
    {
      "cell_type": "code",
      "execution_count": null,
      "id": "991ebc5e-f3d2-41b1-b81f-e814a9739113",
      "metadata": {
        "id": "991ebc5e-f3d2-41b1-b81f-e814a9739113"
      },
      "outputs": [],
      "source": [
        "import re\n",
        "import os\n",
        "import datetime\n",
        "import numpy as np\n",
        "import pandas as pd\n",
        "import matplotlib.pyplot as plt\n",
        "import seaborn as sns\n",
        "\n",
        "from itertools import cycle\n",
        "from sklearn.preprocessing import LabelEncoder, label_binarize\n",
        "from sklearn.model_selection import train_test_split\n",
        "from sklearn.metrics import roc_curve, auc, confusion_matrix, classification_report\n",
        "\n",
        "import transformers\n",
        "from transformers import BertTokenizer, BertConfig, TFBertModel\n",
        "\n",
        "import tensorflow as tf\n",
        "import tensorflow_addons as tfa\n",
        "from tensorflow.keras.utils import to_categorical, plot_model\n",
        "from tensorflow_addons.optimizers import AdamW\n",
        "from tensorflow.keras.losses import CategoricalCrossentropy\n",
        "from tensorflow.keras.callbacks import EarlyStopping, ModelCheckpoint, TensorBoard\n",
        "\n",
        "from tqdm import tqdm\n",
        "tqdm.pandas()\n",
        "\n",
        "import warnings\n",
        "warnings.filterwarnings('ignore')\n",
        "\n",
        "SEED = 50\n",
        "\n",
        "# Tentukan pre-trained model yang akan digunakan untuk fine-tuning\n",
        "# Daftar model https://huggingface.co\n",
        "\n",
        "PRE_TRAINED_MODEL = 'indobenchmark/indobert-base-p1'  # https://huggingface.co/indobenchmark/indobert-base-p1\n",
        "MODEL = PRE_TRAINED_MODEL.replace('/', '-')\n",
        "FOLDER_PATH = 'model-baseline-bert'\n",
        "\n",
        "np.random.seed(SEED)\n",
        "tf.random.set_seed(SEED)\n",
        "colors = plt.rcParams['axes.prop_cycle'].by_key()['color']\n",
        "\n",
        "%matplotlib inline"
      ]
    },
    {
      "cell_type": "code",
      "execution_count": null,
      "id": "df61f621-d3df-4382-b3cb-b8831bba3635",
      "metadata": {
        "colab": {
          "base_uri": "https://localhost:8080/"
        },
        "id": "df61f621-d3df-4382-b3cb-b8831bba3635",
        "outputId": "8ade1fe7-3ae3-4da1-9c84-39c336f50ac3"
      },
      "outputs": [
        {
          "name": "stdout",
          "output_type": "stream",
          "text": [
            "Tensorflow: 2.8.2\n",
            "Tensorflow addons: 0.17.1\n",
            "Transformers: 4.20.1\n"
          ]
        }
      ],
      "source": [
        "print('Tensorflow:', tf.__version__)\n",
        "print('Tensorflow addons:',tfa.__version__)\n",
        "print('Transformers:', transformers.__version__)"
      ]
    },
    {
      "cell_type": "code",
      "execution_count": null,
      "id": "WJ79Jte5EbdK",
      "metadata": {
        "colab": {
          "base_uri": "https://localhost:8080/"
        },
        "id": "WJ79Jte5EbdK",
        "outputId": "22aa224a-69b4-45b9-d3dc-6f60a1c5565f"
      },
      "outputs": [
        {
          "name": "stdout",
          "output_type": "stream",
          "text": [
            "\u001b[K     |████████████████████████████████| 1.8 MB 4.3 MB/s \n",
            "\u001b[K     |████████████████████████████████| 147 kB 67.7 MB/s \n",
            "\u001b[K     |████████████████████████████████| 181 kB 70.0 MB/s \n",
            "\u001b[K     |████████████████████████████████| 63 kB 2.1 MB/s \n",
            "\u001b[?25h  Building wheel for pathtools (setup.py) ... \u001b[?25l\u001b[?25hdone\n"
          ]
        }
      ],
      "source": [
        "!pip install -q wandb"
      ]
    },
    {
      "cell_type": "code",
      "execution_count": null,
      "id": "rJJ3XjcZEdFM",
      "metadata": {
        "colab": {
          "base_uri": "https://localhost:8080/"
        },
        "id": "rJJ3XjcZEdFM",
        "outputId": "1cd61263-f4cf-4e91-b82d-7d3170847997"
      },
      "outputs": [
        {
          "name": "stderr",
          "output_type": "stream",
          "text": [
            "\u001b[34m\u001b[1mwandb\u001b[0m: W&B API key is configured. Use \u001b[1m`wandb login --relogin`\u001b[0m to force relogin\n",
            "\u001b[34m\u001b[1mwandb\u001b[0m: \u001b[33mWARNING\u001b[0m If you're specifying your api key in code, ensure this code is not shared publicly.\n",
            "\u001b[34m\u001b[1mwandb\u001b[0m: \u001b[33mWARNING\u001b[0m Consider setting the WANDB_API_KEY environment variable, or running `wandb login` from the command line.\n",
            "\u001b[34m\u001b[1mwandb\u001b[0m: Appending key for api.wandb.ai to your netrc file: /root/.netrc\n"
          ]
        },
        {
          "data": {
            "text/plain": [
              "True"
            ]
          },
          "execution_count": 7,
          "metadata": {},
          "output_type": "execute_result"
        }
      ],
      "source": [
        "import wandb\n",
        "from wandb.keras import WandbCallback\n",
        "\n",
        "wandb.login(key='API_KEY')"
      ]
    },
    {
      "cell_type": "code",
      "execution_count": null,
      "id": "vBrj9cNcDnWI",
      "metadata": {
        "colab": {
          "base_uri": "https://localhost:8080/"
        },
        "id": "vBrj9cNcDnWI",
        "outputId": "fe78cbd1-f665-4e3d-fa6f-746a2bd60182"
      },
      "outputs": [
        {
          "name": "stdout",
          "output_type": "stream",
          "text": [
            "07-15-2022-14:39\n"
          ]
        }
      ],
      "source": [
        "TODAY = datetime.datetime.now().strftime(\"%m-%d-%Y-%H:%M\")\n",
        "print(TODAY)"
      ]
    },
    {
      "cell_type": "markdown",
      "id": "e0cdcc2e-0087-4e50-a3a2-bf19545342be",
      "metadata": {
        "id": "e0cdcc2e-0087-4e50-a3a2-bf19545342be"
      },
      "source": [
        "# 02 Load Data"
      ]
    },
    {
      "cell_type": "code",
      "execution_count": null,
      "id": "49c107be-7ee7-4ae0-b479-b8bef225e606",
      "metadata": {
        "colab": {
          "base_uri": "https://localhost:8080/"
        },
        "id": "49c107be-7ee7-4ae0-b479-b8bef225e606",
        "outputId": "374dbd0f-cea8-4aaf-b157-fb0ead3ceded",
        "tags": []
      },
      "outputs": [
        {
          "name": "stdout",
          "output_type": "stream",
          "text": [
            "                                               tweet    label\n",
            "0        wah belom liat muka gue lagi murka hahahaha      joy\n",
            "1  Mungkin kurang piknik adrenalin. Mereka yg ske...    anger\n",
            "2  maaf kalo tersinggung \"orang kurus cepet mati\"...    anger\n",
            "3  berserah pada maha esa paling tabah dan sabar ...      joy\n",
            "4                       Ehekk malu la hahahahahahaha  sadness\n"
          ]
        }
      ],
      "source": [
        "df = pd.read_csv('data/final-tweet-anotasi.csv', index_col=0)\n",
        "# df = df.sample(frac=1, random_state=SEED).reset_index(drop=True)   # For shuffle\n",
        "print(df.head())"
      ]
    },
    {
      "cell_type": "code",
      "execution_count": null,
      "id": "K0YuhMKvI5LO",
      "metadata": {
        "id": "K0YuhMKvI5LO"
      },
      "outputs": [],
      "source": [
        "# df = df.dropna()"
      ]
    },
    {
      "cell_type": "code",
      "execution_count": null,
      "id": "OaYdDlkBKj2z",
      "metadata": {
        "colab": {
          "base_uri": "https://localhost:8080/"
        },
        "id": "OaYdDlkBKj2z",
        "outputId": "e715d883-4068-43d6-f412-81df6a77b9c8"
      },
      "outputs": [
        {
          "data": {
            "text/plain": [
              "(2243, 2)"
            ]
          },
          "execution_count": 11,
          "metadata": {},
          "output_type": "execute_result"
        }
      ],
      "source": [
        "df.shape"
      ]
    },
    {
      "cell_type": "code",
      "execution_count": null,
      "id": "504fb63d-89ec-4fbc-93d5-19ff943dcccf",
      "metadata": {
        "id": "504fb63d-89ec-4fbc-93d5-19ff943dcccf"
      },
      "outputs": [],
      "source": [
        "# Copy data\n",
        "df_raw = df.copy()"
      ]
    },
    {
      "cell_type": "code",
      "execution_count": null,
      "id": "ibzYUH9NDtk2",
      "metadata": {
        "colab": {
          "base_uri": "https://localhost:8080/",
          "height": 456
        },
        "id": "ibzYUH9NDtk2",
        "outputId": "8c4c0257-b9f1-4447-e12e-43a3b66e8f5a"
      },
      "outputs": [
        {
          "data": {
            "image/png": "[encoded data removed]",
            "text/plain": [
              "<Figure size 576x360 with 1 Axes>"
            ]
          },
          "metadata": {
            "needs_background": "light"
          },
          "output_type": "display_data"
        },
        {
          "data": {
            "text/plain": [
              "anger       475\n",
              "disgust     355\n",
              "fear        395\n",
              "joy         429\n",
              "sadness     303\n",
              "surprise    286\n",
              "Name: label, dtype: int64"
            ]
          },
          "execution_count": 13,
          "metadata": {},
          "output_type": "execute_result"
        }
      ],
      "source": [
        "plt.figure(figsize=(8, 5))\n",
        "sns.countplot(x='label', data=df, order=df['label'].value_counts().index)\n",
        "plt.xlabel('Distribution of Emotion Label')\n",
        "plt.show()\n",
        "\n",
        "df['label'].value_counts().sort_index()"
      ]
    },
    {
      "cell_type": "markdown",
      "id": "1d86ba6e-a227-4cb5-8ea2-a0abc90cf41f",
      "metadata": {
        "id": "1d86ba6e-a227-4cb5-8ea2-a0abc90cf41f"
      },
      "source": [
        "# 03 Preprocessing"
      ]
    },
    {
      "cell_type": "markdown",
      "id": "ySuAUGMND8dU",
      "metadata": {
        "id": "ySuAUGMND8dU"
      },
      "source": [
        "## Text Cleaning"
      ]
    },
    {
      "cell_type": "code",
      "execution_count": null,
      "id": "80b62680-29bf-4e02-9365-504922a54885",
      "metadata": {
        "id": "80b62680-29bf-4e02-9365-504922a54885"
      },
      "outputs": [],
      "source": [
        "def text_cleaning(text):\n",
        "    text = text.lower()                               # Mengubah teks menjadi lower case\n",
        "    text = re.sub(r'https?://\\S+|www\\.\\S+', '', text) # Menghapus URL\n",
        "    text = re.sub(r'[-+]?[0-9]+', '', text)           # Menghapus angka\n",
        "    text = re.sub(r'[^\\w\\s]','', text)                # Menghapus karakter tanda baca\n",
        "    text = text.strip()                               # Menghapus whitespaces\n",
        "    return text"
      ]
    },
    {
      "cell_type": "code",
      "execution_count": null,
      "id": "09ccca8e-6dc0-4061-8315-7e32c581a9ac",
      "metadata": {
        "colab": {
          "base_uri": "https://localhost:8080/"
        },
        "id": "09ccca8e-6dc0-4061-8315-7e32c581a9ac",
        "outputId": "308dfdfd-ef93-46e2-bb53-5d0e4e088aff"
      },
      "outputs": [
        {
          "name": "stderr",
          "output_type": "stream",
          "text": [
            "100%|██████████| 2243/2243 [00:00<00:00, 78315.65it/s]"
          ]
        },
        {
          "name": "stdout",
          "output_type": "stream",
          "text": [
            "CPU times: user 34.9 ms, sys: 716 µs, total: 35.7 ms\n",
            "Wall time: 33.9 ms\n"
          ]
        },
        {
          "name": "stderr",
          "output_type": "stream",
          "text": [
            "\n"
          ]
        }
      ],
      "source": [
        "%%time \n",
        "df['tweet'] = df['tweet'].progress_apply(text_cleaning)"
      ]
    },
    {
      "cell_type": "markdown",
      "id": "Jl8B8ViHD9_K",
      "metadata": {
        "id": "Jl8B8ViHD9_K"
      },
      "source": [
        "## Label Encoder"
      ]
    },
    {
      "cell_type": "code",
      "execution_count": null,
      "id": "ItHDBAOUD_w3",
      "metadata": {
        "colab": {
          "base_uri": "https://localhost:8080/"
        },
        "id": "ItHDBAOUD_w3",
        "outputId": "6f79f86c-0303-451c-db5f-92b383a60cab"
      },
      "outputs": [
        {
          "name": "stdout",
          "output_type": "stream",
          "text": [
            "                                               tweet    label  label_encode\n",
            "0        wah belom liat muka gue lagi murka hahahaha      joy             3\n",
            "1  mungkin kurang piknik adrenalin mereka yg skep...    anger             0\n",
            "2  maaf kalo tersinggung orang kurus cepet mati w...    anger             0\n",
            "3  berserah pada maha esa paling tabah dan sabar ...      joy             3\n",
            "4                       ehekk malu la hahahahahahaha  sadness             4\n"
          ]
        }
      ],
      "source": [
        "le = LabelEncoder()\n",
        "\n",
        "df['label_encode'] = le.fit_transform(df['label'])\n",
        "print(df.head())"
      ]
    },
    {
      "cell_type": "code",
      "execution_count": null,
      "id": "bjIwbWZeEAwu",
      "metadata": {
        "colab": {
          "base_uri": "https://localhost:8080/"
        },
        "id": "bjIwbWZeEAwu",
        "outputId": "647d7dbb-f5a1-4ecc-fd06-c0d471e2fb56"
      },
      "outputs": [
        {
          "name": "stdout",
          "output_type": "stream",
          "text": [
            "{'anger': 0, 'disgust': 1, 'fear': 2, 'joy': 3, 'sadness': 4, 'surprise': 5}\n"
          ]
        }
      ],
      "source": [
        "le_mapping = dict(zip(le.classes_, le.transform(le.classes_)))\n",
        "print(le_mapping)"
      ]
    },
    {
      "cell_type": "code",
      "execution_count": null,
      "id": "7y0Xig8wEB38",
      "metadata": {
        "colab": {
          "base_uri": "https://localhost:8080/"
        },
        "id": "7y0Xig8wEB38",
        "outputId": "4069d93c-9fce-4b27-f2c6-6ee4f1d9f0b6"
      },
      "outputs": [
        {
          "name": "stdout",
          "output_type": "stream",
          "text": [
            "['anger' 'disgust' 'fear' 'joy' 'sadness' 'surprise']\n"
          ]
        }
      ],
      "source": [
        "LABEL_NAME = le.classes_\n",
        "print(LABEL_NAME)"
      ]
    },
    {
      "cell_type": "markdown",
      "id": "Y0pcPELxEZ2T",
      "metadata": {
        "id": "Y0pcPELxEZ2T"
      },
      "source": [
        "# 04 Choosing Maximum Lenght of the Sequence"
      ]
    },
    {
      "cell_type": "code",
      "execution_count": null,
      "id": "rE0V9ZWOEe6N",
      "metadata": {
        "colab": {
          "base_uri": "https://localhost:8080/",
          "height": 334
        },
        "id": "rE0V9ZWOEe6N",
        "outputId": "d467d6ab-b417-43b8-eaa0-a58e645d0a33"
      },
      "outputs": [
        {
          "data": {
            "image/png": "[encoded data removed]",
            "text/plain": [
              "<Figure size 576x360 with 1 Axes>"
            ]
          },
          "metadata": {
            "needs_background": "light"
          },
          "output_type": "display_data"
        }
      ],
      "source": [
        "token_lens = []\n",
        "\n",
        "for text in df['tweet']:\n",
        "    tokens = text.split()\n",
        "    token_lens.append(len(tokens))\n",
        "\n",
        "plt.figure(figsize=(8, 5))\n",
        "sns.histplot(token_lens, kde=True, stat='density', linewidth=0)\n",
        "plt.xlim([0, 100]);\n",
        "plt.xlabel('Token count');"
      ]
    },
    {
      "cell_type": "code",
      "execution_count": null,
      "id": "mdemrg3WEg8c",
      "metadata": {
        "id": "mdemrg3WEg8c"
      },
      "outputs": [],
      "source": [
        "MAX_SEQ_LENGTH = 80"
      ]
    },
    {
      "cell_type": "markdown",
      "id": "dcaf1af3-243c-45f3-9f2d-8620111cca43",
      "metadata": {
        "id": "dcaf1af3-243c-45f3-9f2d-8620111cca43"
      },
      "source": [
        "# 05 Train & Test Data Splitting"
      ]
    },
    {
      "cell_type": "code",
      "execution_count": null,
      "id": "xWOkDLdbhH_o",
      "metadata": {
        "id": "xWOkDLdbhH_o"
      },
      "outputs": [],
      "source": [
        "NUM_CLASS = len(df['label_encode'].unique())\n",
        "\n",
        "X = df['tweet']\n",
        "y = to_categorical(df['label_encode'], num_classes=NUM_CLASS, dtype='float64')  # Lakukan one-hot encoding pada label (y)"
      ]
    },
    {
      "cell_type": "code",
      "execution_count": null,
      "id": "EeSa6GgPIiBn",
      "metadata": {
        "colab": {
          "base_uri": "https://localhost:8080/"
        },
        "id": "EeSa6GgPIiBn",
        "outputId": "580322b9-fec1-4296-e6b5-acf527d57ace"
      },
      "outputs": [
        {
          "data": {
            "text/plain": [
              "array([[0., 0., 0., 1., 0., 0.],\n",
              "       [1., 0., 0., 0., 0., 0.],\n",
              "       [1., 0., 0., 0., 0., 0.],\n",
              "       ...,\n",
              "       [0., 0., 0., 0., 0., 1.],\n",
              "       [0., 0., 0., 1., 0., 0.],\n",
              "       [1., 0., 0., 0., 0., 0.]])"
            ]
          },
          "execution_count": 22,
          "metadata": {},
          "output_type": "execute_result"
        }
      ],
      "source": [
        "y"
      ]
    },
    {
      "cell_type": "code",
      "execution_count": null,
      "id": "253e89b8-d884-453a-a7b5-0bf54f91e2df",
      "metadata": {
        "colab": {
          "base_uri": "https://localhost:8080/"
        },
        "id": "253e89b8-d884-453a-a7b5-0bf54f91e2df",
        "outputId": "c1c1c8b8-e756-40be-d6e0-e4a3850d04a3"
      },
      "outputs": [
        {
          "data": {
            "text/plain": [
              "((1794,), (449,), (1794, 6), (449, 6))"
            ]
          },
          "execution_count": 23,
          "metadata": {},
          "output_type": "execute_result"
        }
      ],
      "source": [
        "X_train, X_test, y_train, y_test = train_test_split(X, y, test_size=0.20, stratify=y, random_state=SEED)\n",
        "X_train.shape, X_test.shape, y_train.shape, y_test.shape"
      ]
    },
    {
      "cell_type": "markdown",
      "id": "ab09f872-84db-4dc6-b713-4644c7103ac3",
      "metadata": {
        "id": "ab09f872-84db-4dc6-b713-4644c7103ac3"
      },
      "source": [
        "# 06 Preparing Data for BERT Input"
      ]
    },
    {
      "cell_type": "markdown",
      "id": "yBDB97_M5QZ7",
      "metadata": {
        "id": "yBDB97_M5QZ7"
      },
      "source": [
        "## Load Pre Trained BERT Tokenizer"
      ]
    },
    {
      "cell_type": "code",
      "execution_count": null,
      "id": "e128a851-f419-4ecd-b3ab-4673dfbde62e",
      "metadata": {
        "colab": {
          "base_uri": "https://localhost:8080/",
          "height": 145,
          "referenced_widgets": [
            "3beb4374abc74a7e8a871aa64ac31ecc",
            "6cc80434c1f5470f9b592704ff2b961d",
            "cb4e47e31f734aaba82996d17c65ed0c",
            "a03feead2e4a45189619724c000a03a3",
            "3224cbf63f2148a0b5a7b2c55611c7bf",
            "d5b070144c754430bb37f07f5de275fd",
            "3d3ff7f28d254acb84dc602f3681ed6b",
            "a0f5722ccfa545f69004cb7b0473271a",
            "4a40fc5fd56a472d907e0a3e91b88b9e",
            "2d03f7a41210411a860127082d525be0",
            "3833b1607c424ef0be64b550b3357dff",
            "e59af199cd0d434e8617892f8aa0dd3d",
            "cd94fb49d855485c8376c22a0a9063e9",
            "f926068074994a32a51a126735ff3737",
            "d1abc9420d2f4ee8be5159c76778c36b",
            "2a31684e418347a781b7b73faa48d881",
            "ee895d93d48b479e97e871953afa5aac",
            "d238de91c86c466997bdb3fe362551da",
            "e977decc529a44d596ebc512f1268655",
            "54008bb038794319a64738bbb6e20e77",
            "395f880840c440cfadd7ee614c8ced6c",
            "708a4f1c4b8f495cabc6b7237ae84160",
            "eeb008e3664c406ab281c0d1068f0026",
            "b826fe08ba8b4006b3041459779696b6",
            "c11cb0dddb1a4725b312e4f411a4fc2a",
            "0e70c9b2720f44568697554ebec22f07",
            "752511d68c85477a960709b8bfd73be6",
            "54e7008fa72a42e8805ce8afe3247f4a",
            "240bec482ee545bca975c77aa63639a7",
            "1e3f5654ff074ab688d6ed4f5179d739",
            "82976131f8da4c61a5aecd6460dd6f0f",
            "8a795075978c412d8e0d72bf28d9c612",
            "2ec46b18d96c4e05b54741bfddd58ae2",
            "36db8225b3b244298ae7c02da001ae54",
            "acd241cd67ca45f2a65354a08df24f60",
            "b3dfafed5f264fe1b8dc04d49e1fb76e",
            "dcdec7a17b24494bbbefdb21f66f82b1",
            "a83e4e7952d740a9bf256fe61b7b63ee",
            "32c1aa2ad510420c88aff6bec4058fa8",
            "4f95857136054b028897d88c867b664e",
            "dcd81a914d0b463db96794c840294e31",
            "29099ca246c246e4be6cdf2e9b11c8fc",
            "f930bc223c3e4da4b4bfeb29b6f529ad",
            "35e0a6ed85c24b28a82122f4a6ddd701"
          ]
        },
        "id": "e128a851-f419-4ecd-b3ab-4673dfbde62e",
        "outputId": "0b92541c-a937-4a3f-b62a-dba56619cb4a"
      },
      "outputs": [
        {
          "data": {
            "application/vnd.jupyter.widget-view+json": {
              "model_id": "3beb4374abc74a7e8a871aa64ac31ecc",
              "version_major": 2,
              "version_minor": 0
            },
            "text/plain": [
              "Downloading:   0%|          | 0.00/224k [00:00<?, ?B/s]"
            ]
          },
          "metadata": {},
          "output_type": "display_data"
        },
        {
          "data": {
            "application/vnd.jupyter.widget-view+json": {
              "model_id": "e59af199cd0d434e8617892f8aa0dd3d",
              "version_major": 2,
              "version_minor": 0
            },
            "text/plain": [
              "Downloading:   0%|          | 0.00/112 [00:00<?, ?B/s]"
            ]
          },
          "metadata": {},
          "output_type": "display_data"
        },
        {
          "data": {
            "application/vnd.jupyter.widget-view+json": {
              "model_id": "eeb008e3664c406ab281c0d1068f0026",
              "version_major": 2,
              "version_minor": 0
            },
            "text/plain": [
              "Downloading:   0%|          | 0.00/2.00 [00:00<?, ?B/s]"
            ]
          },
          "metadata": {},
          "output_type": "display_data"
        },
        {
          "data": {
            "application/vnd.jupyter.widget-view+json": {
              "model_id": "36db8225b3b244298ae7c02da001ae54",
              "version_major": 2,
              "version_minor": 0
            },
            "text/plain": [
              "Downloading:   0%|          | 0.00/1.50k [00:00<?, ?B/s]"
            ]
          },
          "metadata": {},
          "output_type": "display_data"
        }
      ],
      "source": [
        "bert_tokenizer = BertTokenizer.from_pretrained(PRE_TRAINED_MODEL)  # Load tokenizer dari pre-trained model"
      ]
    },
    {
      "cell_type": "code",
      "execution_count": null,
      "id": "f2dc357a-b8ea-469a-9868-3efb9a1b5bde",
      "metadata": {
        "colab": {
          "base_uri": "https://localhost:8080/"
        },
        "id": "f2dc357a-b8ea-469a-9868-3efb9a1b5bde",
        "outputId": "c43c14ee-b316-41e4-b052-3b0421e79599"
      },
      "outputs": [],
      "source": [
        "# Lihat vocabulary dari pre-trained model yang telah di load sebelumnya\n",
        "vocabulary = bert_tokenizer.get_vocab()\n",
        "\n",
        "print(vocabulary)\n",
        "print('Panjang vocabulary:', len(vocabulary))"
      ]
    },
    {
      "cell_type": "markdown",
      "id": "9799bcf3-d621-4a98-af9b-96f6b171fe71",
      "metadata": {
        "id": "9799bcf3-d621-4a98-af9b-96f6b171fe71"
      },
      "source": [
        "## BERT Input Formatting"
      ]
    },
    {
      "cell_type": "code",
      "execution_count": null,
      "id": "105baf4e-02f5-45fe-a7fb-895da9200ca2",
      "metadata": {
        "colab": {
          "base_uri": "https://localhost:8080/"
        },
        "id": "105baf4e-02f5-45fe-a7fb-895da9200ca2",
        "outputId": "6b7ac695-cb51-4791-b99f-59ba364affda",
        "tags": []
      },
      "outputs": [
        {
          "data": {
            "text/plain": [
              "dict_keys(['input_ids', 'token_type_ids', 'attention_mask'])"
            ]
          },
          "execution_count": 26,
          "metadata": {},
          "output_type": "execute_result"
        }
      ],
      "source": [
        "id_data = 5 # Mengambil sampe data indeks ke-5 pada dataframe\n",
        "\n",
        "# Contoh input formatting untuk BERT. Input formating dapat menggunakan fungsi `encode_plus`\n",
        "bert_input = bert_tokenizer.encode_plus(\n",
        "    df.tweet[id_data],              # Sample kalimat                \n",
        "    add_special_tokens = True,      # Tambahkan token [CLS] pada awal kalimat dan token [SEP] pada akhir kalimat\n",
        "    padding = 'max_length',         # Tambahkan padding ke max_length menggunakan token [PAD] jika kalimat kurang dari max_length\n",
        "    truncation = 'longest_first',   # Truncate jika kalimat lebih dari max_length\n",
        "    max_length = 50,                # Tentukan max_length dari seluruh kalimat\n",
        "    return_attention_mask = True,   # Mengembalikan nilai attention mask\n",
        "    return_token_type_ids =True     # Mengembalikan nilai token type id (segment embedding)\n",
        "    )\n",
        "\n",
        "# Fungsi `encode_plus` mengembalikan 3 nilai: input_ids, token_type_ids, attention_mask\n",
        "bert_input.keys()"
      ]
    },
    {
      "cell_type": "code",
      "execution_count": null,
      "id": "5a66aa9e-b96e-4523-90c5-877b5a493475",
      "metadata": {
        "colab": {
          "base_uri": "https://localhost:8080/"
        },
        "id": "5a66aa9e-b96e-4523-90c5-877b5a493475",
        "outputId": "a7a6bb24-1b4c-41bd-ea50-57c5a0ac9869"
      },
      "outputs": [
        {
          "name": "stdout",
          "output_type": "stream",
          "text": [
            "Kalimat\t\t: WKWKWKWK KESAL AKU BACANYA TAPI KOK SENYUM2\n",
            "Tokenizer\t: ['[CLS]', 'wkwkwk', '##w', '##k', 'kesal', 'aku', 'baca', '##nya', 'tapi', 'kok', 'senyum', '[SEP]', '[PAD]', '[PAD]', '[PAD]', '[PAD]', '[PAD]', '[PAD]', '[PAD]', '[PAD]', '[PAD]', '[PAD]', '[PAD]', '[PAD]', '[PAD]', '[PAD]', '[PAD]', '[PAD]', '[PAD]', '[PAD]', '[PAD]', '[PAD]', '[PAD]', '[PAD]', '[PAD]', '[PAD]', '[PAD]', '[PAD]', '[PAD]', '[PAD]', '[PAD]', '[PAD]', '[PAD]', '[PAD]', '[PAD]', '[PAD]', '[PAD]', '[PAD]', '[PAD]', '[PAD]']\n",
            "Input IDs\t: [2, 19720, 30374, 30361, 10531, 304, 2064, 57, 469, 2105, 7319, 3, 0, 0, 0, 0, 0, 0, 0, 0, 0, 0, 0, 0, 0, 0, 0, 0, 0, 0, 0, 0, 0, 0, 0, 0, 0, 0, 0, 0, 0, 0, 0, 0, 0, 0, 0, 0, 0, 0]\n",
            "Token Type IDs\t: [0, 0, 0, 0, 0, 0, 0, 0, 0, 0, 0, 0, 0, 0, 0, 0, 0, 0, 0, 0, 0, 0, 0, 0, 0, 0, 0, 0, 0, 0, 0, 0, 0, 0, 0, 0, 0, 0, 0, 0, 0, 0, 0, 0, 0, 0, 0, 0, 0, 0]\n",
            "Attention Mask\t: [1, 1, 1, 1, 1, 1, 1, 1, 1, 1, 1, 1, 0, 0, 0, 0, 0, 0, 0, 0, 0, 0, 0, 0, 0, 0, 0, 0, 0, 0, 0, 0, 0, 0, 0, 0, 0, 0, 0, 0, 0, 0, 0, 0, 0, 0, 0, 0, 0, 0]\n"
          ]
        }
      ],
      "source": [
        "print('Kalimat\\t\\t:', df_raw.tweet[id_data])                                            # Data asli\n",
        "print('Tokenizer\\t:', bert_tokenizer.convert_ids_to_tokens(bert_input['input_ids']))    # Hasil input formatting + tokenizer\n",
        "print('Input IDs\\t:', bert_input['input_ids'])                                          # Input IDs : indeks token pada vocabulary tokenizer\n",
        "print('Token Type IDs\\t:', bert_input['token_type_ids'])                                # Token type IDs : menunjukkan urutan kalimat pada sequence (segment embedding)\n",
        "print('Attention Mask\\t:', bert_input['attention_mask'])                                # Attention mask : mengembalikan nilai [0,1]. 1 artinya token yang di masking, 0 token yang tidak di masking (diabaikan)"
      ]
    },
    {
      "cell_type": "code",
      "execution_count": null,
      "id": "E3bKnVvWi0y2",
      "metadata": {
        "id": "E3bKnVvWi0y2"
      },
      "outputs": [],
      "source": [
        "# Buat fungsi untuk melakukan encode pada semua data\n",
        "def tokenize(data):\n",
        "    input_ids = []\n",
        "    attention_masks = []\n",
        "    \n",
        "    for i, text in tqdm(enumerate(data)):\n",
        "        tokens = bert_tokenizer.encode_plus(\n",
        "            text, \n",
        "            max_length=MAX_SEQ_LENGTH,\n",
        "            truncation='longest_first',\n",
        "            padding='max_length',\n",
        "            add_special_tokens=True, \n",
        "            return_attention_mask=True,\n",
        "            return_token_type_ids=False, \n",
        "            return_tensors='tf'\n",
        "          )   \n",
        "         \n",
        "        input_ids.append(np.asarray(tokens['input_ids']).reshape(MAX_SEQ_LENGTH,))\n",
        "        attention_masks.append(np.asarray(tokens['attention_mask']).reshape(MAX_SEQ_LENGTH,))\n",
        "\n",
        "    return (np.asarray(input_ids), np.asarray(attention_masks))"
      ]
    },
    {
      "cell_type": "code",
      "execution_count": null,
      "id": "lVd3CfmUjtaB",
      "metadata": {
        "colab": {
          "base_uri": "https://localhost:8080/"
        },
        "id": "lVd3CfmUjtaB",
        "outputId": "65376fe9-3fe3-4198-ee03-07b1ca25a99d"
      },
      "outputs": [
        {
          "name": "stderr",
          "output_type": "stream",
          "text": [
            "1794it [00:01, 1003.96it/s]\n",
            "449it [00:00, 1269.91it/s]\n"
          ]
        }
      ],
      "source": [
        "train_input_ids, train_attention_masks = tokenize(X_train)\n",
        "test_input_ids, test_attention_masks = tokenize(X_test)"
      ]
    },
    {
      "cell_type": "code",
      "execution_count": null,
      "id": "hMVnCtiuksmR",
      "metadata": {
        "colab": {
          "base_uri": "https://localhost:8080/"
        },
        "id": "hMVnCtiuksmR",
        "outputId": "9d870474-6047-4d33-d157-833f08c68af2"
      },
      "outputs": [
        {
          "data": {
            "text/plain": [
              "((1794, 80), (1794, 80), (449, 80), (449, 80))"
            ]
          },
          "execution_count": 30,
          "metadata": {},
          "output_type": "execute_result"
        }
      ],
      "source": [
        "train_input_ids.shape, train_attention_masks.shape, test_input_ids.shape, test_attention_masks.shape"
      ]
    },
    {
      "cell_type": "markdown",
      "id": "n2Wy6AXdmA8p",
      "metadata": {
        "id": "n2Wy6AXdmA8p"
      },
      "source": [
        "# 07 Define Model (BERT)"
      ]
    },
    {
      "cell_type": "markdown",
      "id": "rT2w8uq4mZqq",
      "metadata": {
        "id": "rT2w8uq4mZqq"
      },
      "source": [
        "## Load Pre-Trained BERT Model"
      ]
    },
    {
      "cell_type": "code",
      "execution_count": null,
      "id": "DnBidYYUAg6A",
      "metadata": {
        "colab": {
          "base_uri": "https://localhost:8080/",
          "height": 347,
          "referenced_widgets": [
            "d19493cadc814a529642a05d17ab06a8",
            "d86f0abb6d954525a6a7b3f0fb99bf33",
            "f56635706cb24c5db1b642947323b299",
            "98992691e6104627814d6014221b8f0c",
            "20c03127c2a64041bd214f7ab6dc8b47",
            "c34a951fb0234cd8827c16f6ffb5ee17",
            "c273c658088448d0a572a92438167d64",
            "4341c309e94c44b59128af652686bdce",
            "b754364b114b4f6f9d23b71fce91a896",
            "bf46116f5e524bf3973917e9c40af411",
            "a52e06fafcfc499ba3763dd40957df6c"
          ]
        },
        "id": "DnBidYYUAg6A",
        "outputId": "60020a10-900a-44c3-8878-586ef830614e"
      },
      "outputs": [
        {
          "data": {
            "application/vnd.jupyter.widget-view+json": {
              "model_id": "d19493cadc814a529642a05d17ab06a8",
              "version_major": 2,
              "version_minor": 0
            },
            "text/plain": [
              "Downloading:   0%|          | 0.00/625M [00:00<?, ?B/s]"
            ]
          },
          "metadata": {},
          "output_type": "display_data"
        },
        {
          "name": "stderr",
          "output_type": "stream",
          "text": [
            "Some layers from the model checkpoint at indobenchmark/indobert-base-p1 were not used when initializing TFBertModel: ['mlm___cls', 'nsp___cls']\n",
            "- This IS expected if you are initializing TFBertModel from the checkpoint of a model trained on another task or with another architecture (e.g. initializing a BertForSequenceClassification model from a BertForPreTraining model).\n",
            "- This IS NOT expected if you are initializing TFBertModel from the checkpoint of a model that you expect to be exactly identical (initializing a BertForSequenceClassification model from a BertForSequenceClassification model).\n",
            "All the layers of TFBertModel were initialized from the model checkpoint at indobenchmark/indobert-base-p1.\n",
            "If your task is similar to the task the model of the checkpoint was trained on, you can already use TFBertModel for predictions without further training.\n"
          ]
        },
        {
          "name": "stdout",
          "output_type": "stream",
          "text": [
            "Model: \"tf_bert_model\"\n",
            "_________________________________________________________________\n",
            " Layer (type)                Output Shape              Param #   \n",
            "=================================================================\n",
            " bert (TFBertMainLayer)      multiple                  124441344 \n",
            "                                                                 \n",
            "=================================================================\n",
            "Total params: 124,441,344\n",
            "Trainable params: 124,441,344\n",
            "Non-trainable params: 0\n",
            "_________________________________________________________________\n"
          ]
        }
      ],
      "source": [
        "bert_config = BertConfig.from_pretrained(PRE_TRAINED_MODEL, output_hidden_states=True, num_labels=NUM_CLASS)\n",
        "bert = TFBertModel.from_pretrained(PRE_TRAINED_MODEL, config=bert_config)\n",
        "bert.summary()"
      ]
    },
    {
      "cell_type": "markdown",
      "id": "WkPNcJYGmdWh",
      "metadata": {
        "id": "WkPNcJYGmdWh"
      },
      "source": [
        "## Architecture"
      ]
    },
    {
      "cell_type": "code",
      "execution_count": null,
      "id": "jJSI_MWxA3eW",
      "metadata": {
        "id": "jJSI_MWxA3eW"
      },
      "outputs": [],
      "source": [
        "tf.keras.backend.clear_session()\n",
        "\n",
        "# Defining 2 input layers for input_ids and attn_masks\n",
        "input_ids = tf.keras.layers.Input(shape=(MAX_SEQ_LENGTH,), name='input_ids', dtype='int32')\n",
        "attn_mask = tf.keras.layers.Input(shape=(MAX_SEQ_LENGTH,), name='attention_mask', dtype='int32')\n",
        "\n",
        "# We access the transformer model within our bert object using the bert attribute (eg bert.bert instead of bert)\n",
        "# Access final activations (alread max-pooled) [1] 0 -> activation layer (3D), 1 -> pooled output layer (2D)\n",
        "bert_embedding = bert(input_ids, attention_mask=attn_mask)[1]  \n",
        "\n",
        "x = tf.keras.layers.Dense(512, activation='relu')(bert_embedding)\n",
        "x = tf.keras.layers.Dropout(0.5)(x)\n",
        "output_layer = tf.keras.layers.Dense(NUM_CLASS, activation='softmax', name='output_layer')(x)\n",
        "\n",
        "# Initialize model\n",
        "model = tf.keras.Model(inputs=[input_ids, attn_mask], outputs=output_layer)\n",
        "\n",
        "# Trainable=False to freeze bert layer for feature extraction (optional)\n",
        "model.layers[2].trainable = True"
      ]
    },
    {
      "cell_type": "code",
      "execution_count": null,
      "id": "OCBOPaPTBICA",
      "metadata": {
        "colab": {
          "base_uri": "https://localhost:8080/"
        },
        "id": "OCBOPaPTBICA",
        "outputId": "1afc2ec5-c1ef-4143-e2ae-9e94bc75e10c"
      },
      "outputs": [
        {
          "name": "stdout",
          "output_type": "stream",
          "text": [
            "Model: \"model\"\n",
            "__________________________________________________________________________________________________\n",
            " Layer (type)                   Output Shape         Param #     Connected to                     \n",
            "==================================================================================================\n",
            " input_ids (InputLayer)         [(None, 80)]         0           []                               \n",
            "                                                                                                  \n",
            " attention_mask (InputLayer)    [(None, 80)]         0           []                               \n",
            "                                                                                                  \n",
            " tf_bert_model (TFBertModel)    TFBaseModelOutputWi  124441344   ['input_ids[0][0]',              \n",
            "                                thPoolingAndCrossAt               'attention_mask[0][0]']         \n",
            "                                tentions(last_hidde                                               \n",
            "                                n_state=(None, 80,                                                \n",
            "                                768),                                                             \n",
            "                                 pooler_output=(Non                                               \n",
            "                                e, 768),                                                          \n",
            "                                 past_key_values=No                                               \n",
            "                                ne, hidden_states=(                                               \n",
            "                                (None, 80, 768),                                                  \n",
            "                                 (None, 80, 768),                                                 \n",
            "                                 (None, 80, 768),                                                 \n",
            "                                 (None, 80, 768),                                                 \n",
            "                                 (None, 80, 768),                                                 \n",
            "                                 (None, 80, 768),                                                 \n",
            "                                 (None, 80, 768),                                                 \n",
            "                                 (None, 80, 768),                                                 \n",
            "                                 (None, 80, 768),                                                 \n",
            "                                 (None, 80, 768),                                                 \n",
            "                                 (None, 80, 768),                                                 \n",
            "                                 (None, 80, 768),                                                 \n",
            "                                 (None, 80, 768)),                                                \n",
            "                                 attentions=None, c                                               \n",
            "                                ross_attentions=Non                                               \n",
            "                                e)                                                                \n",
            "                                                                                                  \n",
            " dense (Dense)                  (None, 512)          393728      ['tf_bert_model[0][14]']         \n",
            "                                                                                                  \n",
            " dropout (Dropout)              (None, 512)          0           ['dense[0][0]']                  \n",
            "                                                                                                  \n",
            " output_layer (Dense)           (None, 6)            3078        ['dropout[0][0]']                \n",
            "                                                                                                  \n",
            "==================================================================================================\n",
            "Total params: 124,838,150\n",
            "Trainable params: 124,838,150\n",
            "Non-trainable params: 0\n",
            "__________________________________________________________________________________________________\n"
          ]
        }
      ],
      "source": [
        "model.summary()"
      ]
    },
    {
      "cell_type": "code",
      "execution_count": null,
      "id": "2dZfl_4xBSgl",
      "metadata": {
        "colab": {
          "base_uri": "https://localhost:8080/",
          "height": 229
        },
        "id": "2dZfl_4xBSgl",
        "outputId": "0eb8cdcc-4ec4-43fa-f029-7a4f2baccbb4"
      },
      "outputs": [
        {
          "data": {
            "image/png": "[encoded data removed]",
            "text/plain": [
              "<IPython.core.display.Image object>"
            ]
          },
          "execution_count": 34,
          "metadata": {},
          "output_type": "execute_result"
        }
      ],
      "source": [
        "plot_model(model, show_shapes=True, show_layer_activations=True, show_dtype=False, dpi=90, to_file=f'{FOLDER_PATH}/model-plot/{MODEL}-model.png')"
      ]
    },
    {
      "cell_type": "markdown",
      "id": "l1GB60YFmrYr",
      "metadata": {
        "id": "l1GB60YFmrYr"
      },
      "source": [
        "## Compile"
      ]
    },
    {
      "cell_type": "code",
      "execution_count": null,
      "id": "snXwbgV1NRn0",
      "metadata": {
        "id": "snXwbgV1NRn0"
      },
      "outputs": [],
      "source": [
        "# https://www.tensorflow.org/api_docs/python/tf/keras/metrics\n",
        "\n",
        "METRICS = [\n",
        "           tf.keras.metrics.CategoricalAccuracy(name='accuracy'),\n",
        "           tf.keras.metrics.Precision(name='precision'),\n",
        "           tf.keras.metrics.Recall(name='recall'),\n",
        "]\n",
        "\n",
        "LEARNING_RATE = 2e-5 # Recommended learning rate (AdamW): [5e-5, 3e-5, 2e-5] in orginal paper"
      ]
    },
    {
      "cell_type": "code",
      "execution_count": null,
      "id": "6IQtndlVNU4j",
      "metadata": {
        "id": "6IQtndlVNU4j"
      },
      "outputs": [],
      "source": [
        "OPTIMIZER = AdamW(learning_rate=LEARNING_RATE, beta_1=0.8, beta_2=0.9, weight_decay=0.0001)\n",
        "LOSS_FUNCTION = CategoricalCrossentropy(name='categorical_crossentropy')\n",
        "\n",
        "model.compile(loss=LOSS_FUNCTION, optimizer=OPTIMIZER, metrics=METRICS)"
      ]
    },
    {
      "cell_type": "markdown",
      "id": "fN2EQ51pGGY1",
      "metadata": {
        "id": "fN2EQ51pGGY1"
      },
      "source": [
        "# 08 Early Stopping & Model Checkpoint"
      ]
    },
    {
      "cell_type": "code",
      "execution_count": null,
      "id": "8zSNXUoRGT8z",
      "metadata": {
        "id": "8zSNXUoRGT8z"
      },
      "outputs": [],
      "source": [
        "# Early stopping criteria\n",
        "early_stopping = EarlyStopping(monitor='val_loss', mode='auto', verbose=1, patience=5)\n",
        "\n",
        "# Path to model checkpoint\n",
        "checkpoint_dir = f'{FOLDER_PATH}/model-checkpoint/{MODEL}/cp.ckpt'\n",
        "model_checkpoint = ModelCheckpoint(checkpoint_dir, monitor='val_accuracy', save_weights_only=True, verbose=1, save_freq='epoch', save_best_only=True)"
      ]
    },
    {
      "cell_type": "code",
      "execution_count": null,
      "id": "aOAo9dieGYak",
      "metadata": {
        "colab": {
          "base_uri": "https://localhost:8080/"
        },
        "id": "aOAo9dieGYak",
        "outputId": "f45318d4-3a0a-4936-8989-154487064573"
      },
      "outputs": [
        {
          "name": "stdout",
          "output_type": "stream",
          "text": [
            "model-baseline-bert/model-log/indobenchmark-indobert-base-p1/20220715-143952\n"
          ]
        }
      ],
      "source": [
        "# Path to model log\n",
        "log_dir = f'{FOLDER_PATH}/model-log/{MODEL}/' + datetime.datetime.now().strftime('%Y%m%d-%H%M%S')\n",
        "print(log_dir)"
      ]
    },
    {
      "cell_type": "markdown",
      "id": "RqHZDhkiHe1e",
      "metadata": {
        "id": "RqHZDhkiHe1e"
      },
      "source": [
        "Tensorflow Callback"
      ]
    },
    {
      "cell_type": "code",
      "execution_count": null,
      "id": "jQiRzldvGZzt",
      "metadata": {
        "id": "jQiRzldvGZzt"
      },
      "outputs": [],
      "source": [
        "tensorboard_callback = TensorBoard(log_dir=log_dir ,update_freq='epoch', histogram_freq=1, embeddings_freq=1)"
      ]
    },
    {
      "cell_type": "markdown",
      "id": "kO_3G0C-nSi4",
      "metadata": {
        "id": "kO_3G0C-nSi4"
      },
      "source": [
        "# 09 Training (Fine-Tuning)"
      ]
    },
    {
      "cell_type": "code",
      "execution_count": null,
      "id": "tJ87c7OuntP3",
      "metadata": {
        "id": "tJ87c7OuntP3"
      },
      "outputs": [],
      "source": [
        "EPOCHS = 4        # Recommended number of epochs: [2, 3, 4] in orginal paper\n",
        "BATCH_SIZE = 32   # Recommended batch size: [16, 32] in orginal paper\n",
        "\n",
        "# Config for wandb\n",
        "config = {\n",
        "    'type': 'baseline',\n",
        "    'model_architecture': 'BERT',\n",
        "    'dataset': 'indo-tweet-emotion',\n",
        "    'learning_rate': LEARNING_RATE,\n",
        "    'batch_size': BATCH_SIZE,\n",
        "    'epochs': EPOCHS,\n",
        "    'loss_function': LOSS_FUNCTION.name,\n",
        "    'optimizer': OPTIMIZER._name\n",
        "}"
      ]
    },
    {
      "cell_type": "code",
      "execution_count": null,
      "id": "cWka8B-5BSu-",
      "metadata": {
        "colab": {
          "base_uri": "https://localhost:8080/",
          "height": 755,
          "referenced_widgets": [
            "c4f7fa94bf3e4e31ab765bccc45c1a7f",
            "408daac931b94495a744c7d72683de44",
            "98f449854c1e4102a0aab55137623b7c",
            "508fcc26d5724097b8ff82f361e8e9df",
            "f9c6b9d7c4e44d00b1b3a07b57260ef0",
            "00c5a98405a4478f949dec6bd11eb1cc",
            "5cc277bcdf3c468fbabf7baa2bdf709b",
            "0f3df0419edd4565b28f58a27fee9f38"
          ]
        },
        "id": "cWka8B-5BSu-",
        "outputId": "5f8a7755-543a-4575-f028-ae1581b52ef3"
      },
      "outputs": [
        {
          "name": "stderr",
          "output_type": "stream",
          "text": [
            "\u001b[34m\u001b[1mwandb\u001b[0m: Currently logged in as: \u001b[33mindoemobert\u001b[0m. Use \u001b[1m`wandb login --relogin`\u001b[0m to force relogin\n"
          ]
        },
        {
          "data": {
            "text/html": [
              "Tracking run with wandb version 0.12.21"
            ],
            "text/plain": [
              "<IPython.core.display.HTML object>"
            ]
          },
          "metadata": {},
          "output_type": "display_data"
        },
        {
          "data": {
            "text/html": [
              "Run data is saved locally in <code>/content/drive/MyDrive/Code/tesis/wandb/run-20220715_144008-107i8b3b</code>"
            ],
            "text/plain": [
              "<IPython.core.display.HTML object>"
            ]
          },
          "metadata": {},
          "output_type": "display_data"
        },
        {
          "data": {
            "text/html": [
              "Syncing run <strong><a href=\"https://wandb.ai/indoemobert/baseline-bert/runs/107i8b3b\" target=\"_blank\">indobenchmark-indobert-base-p1</a></strong> to <a href=\"https://wandb.ai/indoemobert/baseline-bert\" target=\"_blank\">Weights & Biases</a> (<a href=\"https://wandb.me/run\" target=\"_blank\">docs</a>)<br/>"
            ],
            "text/plain": [
              "<IPython.core.display.HTML object>"
            ]
          },
          "metadata": {},
          "output_type": "display_data"
        },
        {
          "name": "stdout",
          "output_type": "stream",
          "text": [
            "WARNING:tensorflow:From /usr/local/lib/python3.7/dist-packages/tensorflow/python/profiler/internal/flops_registry.py:239: tensor_shape_from_node_def_name (from tensorflow.python.framework.graph_util_impl) is deprecated and will be removed in a future version.\n",
            "Instructions for updating:\n",
            "Use `tf.compat.v1.graph_util.tensor_shape_from_node_def_name`\n",
            "Epoch 1/4\n",
            "57/57 [==============================] - 156s 2s/step - loss: 1.4251 - accuracy: 0.4643 - precision: 0.7716 - recall: 0.2391 - val_loss: 0.5159 - val_accuracy: 0.8552 - val_precision: 0.8703 - val_recall: 0.8218 - _timestamp: 1657896183.0000 - _runtime: 175.0000\n",
            "Epoch 2/4\n",
            "57/57 [==============================] - 99s 2s/step - loss: 0.5856 - accuracy: 0.8216 - precision: 0.8479 - recall: 0.7832 - val_loss: 0.5118 - val_accuracy: 0.8441 - val_precision: 0.8568 - val_recall: 0.8263 - _timestamp: 1657896282.0000 - _runtime: 274.0000\n",
            "Epoch 3/4\n",
            "57/57 [==============================] - 99s 2s/step - loss: 0.4769 - accuracy: 0.8517 - precision: 0.8772 - recall: 0.8322 - val_loss: 0.5299 - val_accuracy: 0.8441 - val_precision: 0.8465 - val_recall: 0.8352 - _timestamp: 1657896381.0000 - _runtime: 373.0000\n",
            "Epoch 4/4\n",
            "57/57 [==============================] - 100s 2s/step - loss: 0.3379 - accuracy: 0.8930 - precision: 0.9153 - recall: 0.8796 - val_loss: 0.6838 - val_accuracy: 0.7951 - val_precision: 0.8082 - val_recall: 0.7884 - _timestamp: 1657896480.0000 - _runtime: 472.0000\n"
          ]
        },
        {
          "data": {
            "text/html": [
              "Waiting for W&B process to finish... <strong style=\"color:green\">(success).</strong>"
            ],
            "text/plain": [
              "<IPython.core.display.HTML object>"
            ]
          },
          "metadata": {},
          "output_type": "display_data"
        },
        {
          "data": {
            "application/vnd.jupyter.widget-view+json": {
              "model_id": "c4f7fa94bf3e4e31ab765bccc45c1a7f",
              "version_major": 2,
              "version_minor": 0
            },
            "text/plain": [
              "VBox(children=(Label(value='0.002 MB of 0.002 MB uploaded (0.000 MB deduped)\\r'), FloatProgress(value=1.0, max…"
            ]
          },
          "metadata": {},
          "output_type": "display_data"
        },
        {
          "data": {
            "text/html": [
              "<style>\n",
              "    table.wandb td:nth-child(1) { padding: 0 10px; text-align: left ; width: auto;} td:nth-child(2) {text-align: left ; width: 100%}\n",
              "    .wandb-row { display: flex; flex-direction: row; flex-wrap: wrap; justify-content: flex-start; width: 100% }\n",
              "    .wandb-col { display: flex; flex-direction: column; flex-basis: 100%; flex: 1; padding: 10px; }\n",
              "    </style>\n",
              "<div class=\"wandb-row\"><div class=\"wandb-col\"><h3>Run history:</h3><br/><table class=\"wandb\"><tr><td>accuracy</td><td>▁▇▇█</td></tr><tr><td>epoch</td><td>▁▃▆█</td></tr><tr><td>loss</td><td>█▃▂▁</td></tr><tr><td>precision</td><td>▁▅▆█</td></tr><tr><td>recall</td><td>▁▇▇█</td></tr><tr><td>val_accuracy</td><td>█▇▇▁</td></tr><tr><td>val_loss</td><td>▁▁▂█</td></tr><tr><td>val_precision</td><td>█▆▅▁</td></tr><tr><td>val_recall</td><td>▆▇█▁</td></tr></table><br/></div><div class=\"wandb-col\"><h3>Run summary:</h3><br/><table class=\"wandb\"><tr><td>GFLOPS</td><td>6.93038</td></tr><tr><td>accuracy</td><td>0.89298</td></tr><tr><td>best_epoch</td><td>1</td></tr><tr><td>best_val_loss</td><td>0.51184</td></tr><tr><td>epoch</td><td>3</td></tr><tr><td>loss</td><td>0.33793</td></tr><tr><td>precision</td><td>0.91531</td></tr><tr><td>recall</td><td>0.8796</td></tr><tr><td>val_accuracy</td><td>0.7951</td></tr><tr><td>val_loss</td><td>0.68384</td></tr><tr><td>val_precision</td><td>0.80822</td></tr><tr><td>val_recall</td><td>0.78842</td></tr></table><br/></div></div>"
            ],
            "text/plain": [
              "<IPython.core.display.HTML object>"
            ]
          },
          "metadata": {},
          "output_type": "display_data"
        },
        {
          "data": {
            "text/html": [
              "Synced <strong style=\"color:#cdcd00\">indobenchmark-indobert-base-p1</strong>: <a href=\"https://wandb.ai/indoemobert/baseline-bert/runs/107i8b3b\" target=\"_blank\">https://wandb.ai/indoemobert/baseline-bert/runs/107i8b3b</a><br/>Synced 5 W&B file(s), 1 media file(s), 0 artifact file(s) and 0 other file(s)"
            ],
            "text/plain": [
              "<IPython.core.display.HTML object>"
            ]
          },
          "metadata": {},
          "output_type": "display_data"
        },
        {
          "data": {
            "text/html": [
              "Find logs at: <code>./wandb/run-20220715_144008-107i8b3b/logs</code>"
            ],
            "text/plain": [
              "<IPython.core.display.HTML object>"
            ]
          },
          "metadata": {},
          "output_type": "display_data"
        },
        {
          "name": "stdout",
          "output_type": "stream",
          "text": [
            "CPU times: user 5min 58s, sys: 55.3 s, total: 6min 53s\n",
            "Wall time: 8min 2s\n"
          ]
        }
      ],
      "source": [
        "%%time\n",
        "\n",
        "# Initialize wandb \n",
        "wandb.tensorboard.patch(root_logdir=log_dir)\n",
        "wandb_run = wandb.init(project='baseline-bert', name=f'{MODEL}', entity='indoemobert', config=config, sync_tensorboard=True)\n",
        "\n",
        "# Training\n",
        "model_history = model.fit(\n",
        "    (train_input_ids, train_attention_masks),\n",
        "    y_train,\n",
        "    validation_data=((test_input_ids, test_attention_masks), y_test),\n",
        "    epochs=EPOCHS,\n",
        "    batch_size=BATCH_SIZE,\n",
        "    verbose=1,\n",
        "    steps_per_epoch=int(np.ceil(X_train.shape[0] / BATCH_SIZE)),\n",
        "    callbacks=[\n",
        "      # early_stopping, \n",
        "      # model_checkpoint,\n",
        "      # tensorboard_callback,\n",
        "      WandbCallback(\n",
        "          input_type='text',\n",
        "          training_data=((train_input_ids, train_attention_masks), y_train),\n",
        "          validation_data=((test_input_ids, test_attention_masks), y_test),\n",
        "          labels=LABEL_NAME,\n",
        "          monitor='val_loss',\n",
        "          log_best_prefix='best_',\n",
        "          log_gradients=True,\n",
        "          log_weights=True,\n",
        "          save_weights_only=True,\n",
        "          save_model=False\n",
        "      )]\n",
        ")\n",
        "\n",
        "wandb_run.finish()"
      ]
    },
    {
      "cell_type": "code",
      "execution_count": null,
      "id": "RU7eHqEXBSxQ",
      "metadata": {
        "id": "RU7eHqEXBSxQ"
      },
      "outputs": [],
      "source": [
        "def plot_metrics(history):\n",
        "  metrics = ['loss', 'accuracy', 'precision', 'recall']\n",
        "  plt.figure(figsize=(12, 10))\n",
        "  for n, metric in enumerate(metrics):\n",
        "    name = metric.replace('_',' ').capitalize()\n",
        "    plt.subplot(2,2,n+1)\n",
        "    plt.plot(history.epoch, history.history[metric], color=colors[0], label='Train')\n",
        "    plt.plot(history.epoch, history.history['val_'+metric], color=colors[0], linestyle='--', label='Validation')\n",
        "    plt.xlabel('Epoch')\n",
        "    plt.ylabel(name)\n",
        "\n",
        "    if metric == 'loss':\n",
        "      plt.ylim([0, plt.ylim()[1]])\n",
        "    else:\n",
        "      plt.ylim([0,1])\n",
        "\n",
        "    plt.legend(loc='lower right');"
      ]
    },
    {
      "cell_type": "code",
      "execution_count": null,
      "id": "1QGGUhg2OqL8",
      "metadata": {
        "colab": {
          "base_uri": "https://localhost:8080/",
          "height": 610
        },
        "id": "1QGGUhg2OqL8",
        "outputId": "6008eb84-34e5-45f4-9639-c07ad35e95b8"
      },
      "outputs": [
        {
          "data": {
            "image/png": "[encoded data removed]",
            "text/plain": [
              "<Figure size 864x720 with 4 Axes>"
            ]
          },
          "metadata": {
            "needs_background": "light"
          },
          "output_type": "display_data"
        }
      ],
      "source": [
        "plot_metrics(model_history)"
      ]
    },
    {
      "cell_type": "code",
      "execution_count": null,
      "id": "_jE_n990pYZO",
      "metadata": {
        "colab": {
          "base_uri": "https://localhost:8080/"
        },
        "id": "_jE_n990pYZO",
        "outputId": "da4609e0-24a8-4c63-e332-cd0d9f620c50"
      },
      "outputs": [
        {
          "name": "stdout",
          "output_type": "stream",
          "text": [
            "       loss  accuracy  precision    recall  val_loss  val_accuracy  \\\n",
            "0  1.425064  0.464326   0.771583  0.239130  0.515861      0.855234   \n",
            "1  0.585580  0.821628   0.847918  0.783166  0.511841      0.844098   \n",
            "2  0.476944  0.851728   0.877203  0.832219  0.529936      0.844098   \n",
            "3  0.337927  0.892977   0.915313  0.879599  0.683836      0.795100   \n",
            "\n",
            "   val_precision  val_recall  _timestamp  _runtime  \n",
            "0       0.870283    0.821826  1657896183       175  \n",
            "1       0.856813    0.826281  1657896282       274  \n",
            "2       0.846501    0.835189  1657896381       373  \n",
            "3       0.808219    0.788419  1657896480       472  \n"
          ]
        }
      ],
      "source": [
        "hist_df = pd.DataFrame(model_history.history)\n",
        "print(hist_df)\n",
        "\n",
        "hist_df.to_csv(f'{FOLDER_PATH}/model-history/{MODEL}-{TODAY}.csv')"
      ]
    },
    {
      "cell_type": "code",
      "execution_count": null,
      "id": "kx8hmByG-NV6",
      "metadata": {
        "id": "kx8hmByG-NV6"
      },
      "outputs": [],
      "source": [
        "# save model\n",
        "# model.save(f'{FOLDER_PATH}/model-fit/{MODEL}/{MODEL}.h5')"
      ]
    },
    {
      "cell_type": "markdown",
      "id": "ce4d8e05-fc4a-4e7c-bbff-59c45de7679b",
      "metadata": {
        "id": "ce4d8e05-fc4a-4e7c-bbff-59c45de7679b"
      },
      "source": [
        "# 10 Evaluation"
      ]
    },
    {
      "cell_type": "code",
      "execution_count": null,
      "id": "-i_zX-ZK5q8r",
      "metadata": {
        "colab": {
          "base_uri": "https://localhost:8080/"
        },
        "id": "-i_zX-ZK5q8r",
        "outputId": "8f8b1bef-5025-4e94-d761-77b806013d18"
      },
      "outputs": [
        {
          "name": "stdout",
          "output_type": "stream",
          "text": [
            "15/15 [==============================] - 3s 169ms/step - loss: 0.6838 - accuracy: 0.7951 - precision: 0.8082 - recall: 0.7884\n",
            "Accuracy: 79.51%\n"
          ]
        }
      ],
      "source": [
        "y_pred = np.argmax(model.predict((test_input_ids, test_attention_masks)), axis=1)\n",
        "y_true = np.argmax(y_test, axis=1)\n",
        "\n",
        "loss, accuracy, precision, recall = model.evaluate((test_input_ids, test_attention_masks), y_test)\n",
        "print(\"Accuracy: %.2f%%\" % (accuracy*100))"
      ]
    },
    {
      "cell_type": "code",
      "execution_count": null,
      "id": "7d59d95c-908f-48f0-904a-7cee24eab7c3",
      "metadata": {
        "colab": {
          "base_uri": "https://localhost:8080/",
          "height": 441
        },
        "id": "7d59d95c-908f-48f0-904a-7cee24eab7c3",
        "outputId": "d53f266e-9b8c-4c3d-fc7c-438f29c9bf14"
      },
      "outputs": [
        {
          "data": {
            "image/png": "[encoded data removed]",
            "text/plain": [
              "<Figure size 576x432 with 2 Axes>"
            ]
          },
          "metadata": {
            "needs_background": "light"
          },
          "output_type": "display_data"
        }
      ],
      "source": [
        "cm = confusion_matrix(y_true, y_pred)\n",
        "\n",
        "plt.figure(figsize=(8, 6))\n",
        "ax = plt.subplot()\n",
        "sns.heatmap(cm, annot=True, fmt='g', ax=ax, cmap='Blues')  # annot=True to annotate cells, ftm='g' to disable scientific notation\n",
        "\n",
        "ax.set_xlabel('Predicted labels')\n",
        "ax.set_ylabel('True labels') \n",
        "ax.set_title('Confusion Matrix')\n",
        "ax.xaxis.set_ticklabels(LABEL_NAME)\n",
        "ax.yaxis.set_ticklabels(LABEL_NAME)\n",
        "plt.tight_layout()"
      ]
    },
    {
      "cell_type": "code",
      "execution_count": null,
      "id": "TSq65s3o5710",
      "metadata": {
        "colab": {
          "base_uri": "https://localhost:8080/"
        },
        "id": "TSq65s3o5710",
        "outputId": "5ade2de0-51f1-4d34-b7cf-139e8a818780"
      },
      "outputs": [
        {
          "name": "stdout",
          "output_type": "stream",
          "text": [
            "              precision    recall  f1-score   support\n",
            "\n",
            "       anger       0.60      0.78      0.68        73\n",
            "     disgust       0.93      0.89      0.91        74\n",
            "        fear       0.90      0.87      0.88        82\n",
            "         joy       0.93      0.62      0.74       130\n",
            "     sadness       0.54      0.89      0.67        37\n",
            "    surprise       0.88      0.94      0.91        53\n",
            "\n",
            "    accuracy                           0.80       449\n",
            "   macro avg       0.80      0.83      0.80       449\n",
            "weighted avg       0.83      0.80      0.80       449\n",
            "\n"
          ]
        }
      ],
      "source": [
        "print(classification_report(y_pred, y_true, target_names=LABEL_NAME))"
      ]
    },
    {
      "cell_type": "code",
      "execution_count": null,
      "id": "L5Dq9WNj9a-O",
      "metadata": {
        "id": "L5Dq9WNj9a-O"
      },
      "outputs": [],
      "source": [
        "def plot_roc_curve(y_test, y_pred):\n",
        "  \n",
        "  n_classes = len(np.unique(y_test))\n",
        "  y_test = label_binarize(y_test, classes=np.arange(len(LABEL_NAME)))\n",
        "  y_pred = label_binarize(y_pred, classes=np.arange(len(LABEL_NAME)))\n",
        "\n",
        "  # Compute ROC curve and ROC area for each class\n",
        "  fpr = dict()\n",
        "  tpr = dict()\n",
        "  roc_auc = dict()\n",
        "  for i in range(n_classes):\n",
        "    fpr[i], tpr[i], _ = roc_curve(y_test[:, i], y_pred[:, i])\n",
        "    roc_auc[i] = auc(fpr[i], tpr[i])\n",
        "  \n",
        "  # Compute micro-average ROC curve and ROC area\n",
        "  fpr['micro'], tpr['micro'], _ = roc_curve(y_test.ravel(), y_pred.ravel())\n",
        "  roc_auc['micro'] = auc(fpr['micro'], tpr['micro'])\n",
        "\n",
        "  # First aggregate all false positive rates\n",
        "  all_fpr = np.unique(np.concatenate([fpr[i] for i in range(n_classes)]))\n",
        "\n",
        "  # Then interpolate all ROC curves at this points\n",
        "  mean_tpr = np.zeros_like(all_fpr)\n",
        "  for i in range(n_classes):\n",
        "    mean_tpr += np.interp(all_fpr, fpr[i], tpr[i])\n",
        "\n",
        "  # Finally average it and compute AUC\n",
        "  mean_tpr /= n_classes\n",
        "\n",
        "  fpr['macro'] = all_fpr\n",
        "  tpr['macro'] = mean_tpr\n",
        "  roc_auc['macro'] = auc(fpr['macro'], tpr['macro'])\n",
        "\n",
        "  # Plot all ROC curves\n",
        "  plt.figure(figsize=(10, 7))\n",
        "  lw = 2\n",
        "  plt.plot(fpr['micro'], tpr['micro'],\n",
        "    label='micro-average ROC curve (area = {0:0.2f})'.format(roc_auc['micro']),\n",
        "    color='deeppink', linestyle=':', linewidth=4,)\n",
        "\n",
        "  plt.plot(fpr['macro'], tpr['macro'],\n",
        "    label='macro-average ROC curve (area = {0:0.2f})'.format(roc_auc['macro']),\n",
        "    color='navy', linestyle=':', linewidth=4,)\n",
        "\n",
        "  colors = cycle(['aqua', 'darkorange', 'darkgreen', 'yellow', 'blue', 'red'])\n",
        "  for i, color, label in zip(range(n_classes), colors, LABEL_NAME):\n",
        "    plt.plot(fpr[i], tpr[i], color=color, lw=lw,\n",
        "        label=\"ROC curve of class {0} (area = {1:0.2f})\".format(label, roc_auc[i]))\n",
        "\n",
        "  plt.plot([0, 1], [0, 1], 'k--', lw=lw)\n",
        "  plt.xlim([0.0, 1.0])\n",
        "  plt.ylim([0.0, 1.05])\n",
        "  plt.xlabel('False Positive Rate')\n",
        "  plt.ylabel('True Positive Rate')\n",
        "  plt.title('Receiver Operating Characteristic (ROC) curve')\n",
        "  plt.legend()\n",
        "  plt.show()"
      ]
    },
    {
      "cell_type": "code",
      "execution_count": null,
      "id": "bFHTASmo9b4q",
      "metadata": {
        "colab": {
          "base_uri": "https://localhost:8080/",
          "height": 458
        },
        "id": "bFHTASmo9b4q",
        "outputId": "f70b17e3-08d7-4534-dc4b-d4fa30c5befb"
      },
      "outputs": [
        {
          "data": {
            "image/png": "[encoded data removed]",
            "text/plain": [
              "<Figure size 720x504 with 1 Axes>"
            ]
          },
          "metadata": {
            "needs_background": "light"
          },
          "output_type": "display_data"
        }
      ],
      "source": [
        "plot_roc_curve(y_pred, y_true)"
      ]
    },
    {
      "cell_type": "markdown",
      "id": "4d56cf94-89bd-4bac-aaa8-2efafabfb891",
      "metadata": {
        "id": "4d56cf94-89bd-4bac-aaa8-2efafabfb891"
      },
      "source": [
        "# 11 Predict on New Data"
      ]
    },
    {
      "cell_type": "code",
      "execution_count": null,
      "id": "oI94z-EfBkzL",
      "metadata": {
        "id": "oI94z-EfBkzL"
      },
      "outputs": [],
      "source": [
        "# Sample text\n",
        "input_text = 'Hargai kebahagiaan jika kamu pernah sedih'\n",
        "\n",
        "def prep_data(text):\n",
        "    tokens = bert_tokenizer.encode_plus(\n",
        "        text, \n",
        "        max_length=MAX_SEQ_LENGTH,\n",
        "        truncation=True, \n",
        "        padding='max_length',\n",
        "        add_special_tokens=True, \n",
        "        return_token_type_ids=False,\n",
        "        return_tensors='tf'\n",
        "      )\n",
        "    \n",
        "    # Tokenizer returns int32 tensors, we need to return float64, so we use tf.cast\n",
        "    return {'input_ids': tf.cast(tokens['input_ids'], tf.float64), 'attention_mask': tf.cast(tokens['attention_mask'], tf.float64)}"
      ]
    },
    {
      "cell_type": "code",
      "execution_count": null,
      "id": "G4eBP4s4BwIE",
      "metadata": {
        "colab": {
          "base_uri": "https://localhost:8080/"
        },
        "id": "G4eBP4s4BwIE",
        "outputId": "2eb507e5-8e33-467a-9e15-e7666303a95e"
      },
      "outputs": [
        {
          "name": "stdout",
          "output_type": "stream",
          "text": [
            "[[6.7703538e-03 5.2828609e-04 1.2367037e-03 9.6841151e-01 2.1232732e-02\n",
            "  1.8202707e-03]] ['joy']\n"
          ]
        }
      ],
      "source": [
        "pred = model.predict(prep_data(input_text))\n",
        "print(pred, LABEL_NAME[np.argmax(pred, axis=1)])"
      ]
    }
  ],
  "metadata": {
    "accelerator": "GPU",
    "colab": {
      "collapsed_sections": [],
      "include_colab_link": true,
      "machine_shape": "hm",
      "name": "01-BERT-fine-tuning-indobechmark-base-p1.ipynb",
      "provenance": [],
      "toc_visible": true
    },
    "kernelspec": {
      "display_name": "Python 3.8.8 ('base')",
      "language": "python",
      "name": "python3"
    },
    "language_info": {
      "codemirror_mode": {
        "name": "ipython",
        "version": 3
      },
      "file_extension": ".py",
      "mimetype": "text/x-python",
      "name": "python",
      "nbconvert_exporter": "python",
      "pygments_lexer": "ipython3",
      "version": "3.8.8"
    },
    "vscode": {
      "interpreter": {
        "hash": "ad2bdc8ecc057115af97d19610ffacc2b4e99fae6737bb82f5d7fb13d2f2c186"
      }
    },
    "widgets": {
      "application/vnd.jupyter.widget-state+json": {
        "00c5a98405a4478f949dec6bd11eb1cc": {
          "model_module": "@jupyter-widgets/controls",
          "model_module_version": "1.5.0",
          "model_name": "DescriptionStyleModel",
          "state": {
            "_model_module": "@jupyter-widgets/controls",
            "_model_module_version": "1.5.0",
            "_model_name": "DescriptionStyleModel",
            "_view_count": null,
            "_view_module": "@jupyter-widgets/base",
            "_view_module_version": "1.2.0",
            "_view_name": "StyleView",
            "description_width": ""
          }
        },
        "0e70c9b2720f44568697554ebec22f07": {
          "model_module": "@jupyter-widgets/controls",
          "model_module_version": "1.5.0",
          "model_name": "HTMLModel",
          "state": {
            "_dom_classes": [],
            "_model_module": "@jupyter-widgets/controls",
            "_model_module_version": "1.5.0",
            "_model_name": "HTMLModel",
            "_view_count": null,
            "_view_module": "@jupyter-widgets/controls",
            "_view_module_version": "1.5.0",
            "_view_name": "HTMLView",
            "description": "",
            "description_tooltip": null,
            "layout": "IPY_MODEL_8a795075978c412d8e0d72bf28d9c612",
            "placeholder": "​",
            "style": "IPY_MODEL_2ec46b18d96c4e05b54741bfddd58ae2",
            "value": " 2.00/2.00 [00:00&lt;00:00, 76.5B/s]"
          }
        },
        "0f3df0419edd4565b28f58a27fee9f38": {
          "model_module": "@jupyter-widgets/controls",
          "model_module_version": "1.5.0",
          "model_name": "ProgressStyleModel",
          "state": {
            "_model_module": "@jupyter-widgets/controls",
            "_model_module_version": "1.5.0",
            "_model_name": "ProgressStyleModel",
            "_view_count": null,
            "_view_module": "@jupyter-widgets/base",
            "_view_module_version": "1.2.0",
            "_view_name": "StyleView",
            "bar_color": null,
            "description_width": ""
          }
        },
        "1e3f5654ff074ab688d6ed4f5179d739": {
          "model_module": "@jupyter-widgets/base",
          "model_module_version": "1.2.0",
          "model_name": "LayoutModel",
          "state": {
            "_model_module": "@jupyter-widgets/base",
            "_model_module_version": "1.2.0",
            "_model_name": "LayoutModel",
            "_view_count": null,
            "_view_module": "@jupyter-widgets/base",
            "_view_module_version": "1.2.0",
            "_view_name": "LayoutView",
            "align_content": null,
            "align_items": null,
            "align_self": null,
            "border": null,
            "bottom": null,
            "display": null,
            "flex": null,
            "flex_flow": null,
            "grid_area": null,
            "grid_auto_columns": null,
            "grid_auto_flow": null,
            "grid_auto_rows": null,
            "grid_column": null,
            "grid_gap": null,
            "grid_row": null,
            "grid_template_areas": null,
            "grid_template_columns": null,
            "grid_template_rows": null,
            "height": null,
            "justify_content": null,
            "justify_items": null,
            "left": null,
            "margin": null,
            "max_height": null,
            "max_width": null,
            "min_height": null,
            "min_width": null,
            "object_fit": null,
            "object_position": null,
            "order": null,
            "overflow": null,
            "overflow_x": null,
            "overflow_y": null,
            "padding": null,
            "right": null,
            "top": null,
            "visibility": null,
            "width": null
          }
        },
        "20c03127c2a64041bd214f7ab6dc8b47": {
          "model_module": "@jupyter-widgets/base",
          "model_module_version": "1.2.0",
          "model_name": "LayoutModel",
          "state": {
            "_model_module": "@jupyter-widgets/base",
            "_model_module_version": "1.2.0",
            "_model_name": "LayoutModel",
            "_view_count": null,
            "_view_module": "@jupyter-widgets/base",
            "_view_module_version": "1.2.0",
            "_view_name": "LayoutView",
            "align_content": null,
            "align_items": null,
            "align_self": null,
            "border": null,
            "bottom": null,
            "display": null,
            "flex": null,
            "flex_flow": null,
            "grid_area": null,
            "grid_auto_columns": null,
            "grid_auto_flow": null,
            "grid_auto_rows": null,
            "grid_column": null,
            "grid_gap": null,
            "grid_row": null,
            "grid_template_areas": null,
            "grid_template_columns": null,
            "grid_template_rows": null,
            "height": null,
            "justify_content": null,
            "justify_items": null,
            "left": null,
            "margin": null,
            "max_height": null,
            "max_width": null,
            "min_height": null,
            "min_width": null,
            "object_fit": null,
            "object_position": null,
            "order": null,
            "overflow": null,
            "overflow_x": null,
            "overflow_y": null,
            "padding": null,
            "right": null,
            "top": null,
            "visibility": null,
            "width": null
          }
        },
        "240bec482ee545bca975c77aa63639a7": {
          "model_module": "@jupyter-widgets/controls",
          "model_module_version": "1.5.0",
          "model_name": "DescriptionStyleModel",
          "state": {
            "_model_module": "@jupyter-widgets/controls",
            "_model_module_version": "1.5.0",
            "_model_name": "DescriptionStyleModel",
            "_view_count": null,
            "_view_module": "@jupyter-widgets/base",
            "_view_module_version": "1.2.0",
            "_view_name": "StyleView",
            "description_width": ""
          }
        },
        "29099ca246c246e4be6cdf2e9b11c8fc": {
          "model_module": "@jupyter-widgets/controls",
          "model_module_version": "1.5.0",
          "model_name": "ProgressStyleModel",
          "state": {
            "_model_module": "@jupyter-widgets/controls",
            "_model_module_version": "1.5.0",
            "_model_name": "ProgressStyleModel",
            "_view_count": null,
            "_view_module": "@jupyter-widgets/base",
            "_view_module_version": "1.2.0",
            "_view_name": "StyleView",
            "bar_color": null,
            "description_width": ""
          }
        },
        "2a31684e418347a781b7b73faa48d881": {
          "model_module": "@jupyter-widgets/base",
          "model_module_version": "1.2.0",
          "model_name": "LayoutModel",
          "state": {
            "_model_module": "@jupyter-widgets/base",
            "_model_module_version": "1.2.0",
            "_model_name": "LayoutModel",
            "_view_count": null,
            "_view_module": "@jupyter-widgets/base",
            "_view_module_version": "1.2.0",
            "_view_name": "LayoutView",
            "align_content": null,
            "align_items": null,
            "align_self": null,
            "border": null,
            "bottom": null,
            "display": null,
            "flex": null,
            "flex_flow": null,
            "grid_area": null,
            "grid_auto_columns": null,
            "grid_auto_flow": null,
            "grid_auto_rows": null,
            "grid_column": null,
            "grid_gap": null,
            "grid_row": null,
            "grid_template_areas": null,
            "grid_template_columns": null,
            "grid_template_rows": null,
            "height": null,
            "justify_content": null,
            "justify_items": null,
            "left": null,
            "margin": null,
            "max_height": null,
            "max_width": null,
            "min_height": null,
            "min_width": null,
            "object_fit": null,
            "object_position": null,
            "order": null,
            "overflow": null,
            "overflow_x": null,
            "overflow_y": null,
            "padding": null,
            "right": null,
            "top": null,
            "visibility": null,
            "width": null
          }
        },
        "2d03f7a41210411a860127082d525be0": {
          "model_module": "@jupyter-widgets/base",
          "model_module_version": "1.2.0",
          "model_name": "LayoutModel",
          "state": {
            "_model_module": "@jupyter-widgets/base",
            "_model_module_version": "1.2.0",
            "_model_name": "LayoutModel",
            "_view_count": null,
            "_view_module": "@jupyter-widgets/base",
            "_view_module_version": "1.2.0",
            "_view_name": "LayoutView",
            "align_content": null,
            "align_items": null,
            "align_self": null,
            "border": null,
            "bottom": null,
            "display": null,
            "flex": null,
            "flex_flow": null,
            "grid_area": null,
            "grid_auto_columns": null,
            "grid_auto_flow": null,
            "grid_auto_rows": null,
            "grid_column": null,
            "grid_gap": null,
            "grid_row": null,
            "grid_template_areas": null,
            "grid_template_columns": null,
            "grid_template_rows": null,
            "height": null,
            "justify_content": null,
            "justify_items": null,
            "left": null,
            "margin": null,
            "max_height": null,
            "max_width": null,
            "min_height": null,
            "min_width": null,
            "object_fit": null,
            "object_position": null,
            "order": null,
            "overflow": null,
            "overflow_x": null,
            "overflow_y": null,
            "padding": null,
            "right": null,
            "top": null,
            "visibility": null,
            "width": null
          }
        },
        "2ec46b18d96c4e05b54741bfddd58ae2": {
          "model_module": "@jupyter-widgets/controls",
          "model_module_version": "1.5.0",
          "model_name": "DescriptionStyleModel",
          "state": {
            "_model_module": "@jupyter-widgets/controls",
            "_model_module_version": "1.5.0",
            "_model_name": "DescriptionStyleModel",
            "_view_count": null,
            "_view_module": "@jupyter-widgets/base",
            "_view_module_version": "1.2.0",
            "_view_name": "StyleView",
            "description_width": ""
          }
        },
        "3224cbf63f2148a0b5a7b2c55611c7bf": {
          "model_module": "@jupyter-widgets/base",
          "model_module_version": "1.2.0",
          "model_name": "LayoutModel",
          "state": {
            "_model_module": "@jupyter-widgets/base",
            "_model_module_version": "1.2.0",
            "_model_name": "LayoutModel",
            "_view_count": null,
            "_view_module": "@jupyter-widgets/base",
            "_view_module_version": "1.2.0",
            "_view_name": "LayoutView",
            "align_content": null,
            "align_items": null,
            "align_self": null,
            "border": null,
            "bottom": null,
            "display": null,
            "flex": null,
            "flex_flow": null,
            "grid_area": null,
            "grid_auto_columns": null,
            "grid_auto_flow": null,
            "grid_auto_rows": null,
            "grid_column": null,
            "grid_gap": null,
            "grid_row": null,
            "grid_template_areas": null,
            "grid_template_columns": null,
            "grid_template_rows": null,
            "height": null,
            "justify_content": null,
            "justify_items": null,
            "left": null,
            "margin": null,
            "max_height": null,
            "max_width": null,
            "min_height": null,
            "min_width": null,
            "object_fit": null,
            "object_position": null,
            "order": null,
            "overflow": null,
            "overflow_x": null,
            "overflow_y": null,
            "padding": null,
            "right": null,
            "top": null,
            "visibility": null,
            "width": null
          }
        },
        "32c1aa2ad510420c88aff6bec4058fa8": {
          "model_module": "@jupyter-widgets/base",
          "model_module_version": "1.2.0",
          "model_name": "LayoutModel",
          "state": {
            "_model_module": "@jupyter-widgets/base",
            "_model_module_version": "1.2.0",
            "_model_name": "LayoutModel",
            "_view_count": null,
            "_view_module": "@jupyter-widgets/base",
            "_view_module_version": "1.2.0",
            "_view_name": "LayoutView",
            "align_content": null,
            "align_items": null,
            "align_self": null,
            "border": null,
            "bottom": null,
            "display": null,
            "flex": null,
            "flex_flow": null,
            "grid_area": null,
            "grid_auto_columns": null,
            "grid_auto_flow": null,
            "grid_auto_rows": null,
            "grid_column": null,
            "grid_gap": null,
            "grid_row": null,
            "grid_template_areas": null,
            "grid_template_columns": null,
            "grid_template_rows": null,
            "height": null,
            "justify_content": null,
            "justify_items": null,
            "left": null,
            "margin": null,
            "max_height": null,
            "max_width": null,
            "min_height": null,
            "min_width": null,
            "object_fit": null,
            "object_position": null,
            "order": null,
            "overflow": null,
            "overflow_x": null,
            "overflow_y": null,
            "padding": null,
            "right": null,
            "top": null,
            "visibility": null,
            "width": null
          }
        },
        "35e0a6ed85c24b28a82122f4a6ddd701": {
          "model_module": "@jupyter-widgets/controls",
          "model_module_version": "1.5.0",
          "model_name": "DescriptionStyleModel",
          "state": {
            "_model_module": "@jupyter-widgets/controls",
            "_model_module_version": "1.5.0",
            "_model_name": "DescriptionStyleModel",
            "_view_count": null,
            "_view_module": "@jupyter-widgets/base",
            "_view_module_version": "1.2.0",
            "_view_name": "StyleView",
            "description_width": ""
          }
        },
        "36db8225b3b244298ae7c02da001ae54": {
          "model_module": "@jupyter-widgets/controls",
          "model_module_version": "1.5.0",
          "model_name": "HBoxModel",
          "state": {
            "_dom_classes": [],
            "_model_module": "@jupyter-widgets/controls",
            "_model_module_version": "1.5.0",
            "_model_name": "HBoxModel",
            "_view_count": null,
            "_view_module": "@jupyter-widgets/controls",
            "_view_module_version": "1.5.0",
            "_view_name": "HBoxView",
            "box_style": "",
            "children": [
              "IPY_MODEL_acd241cd67ca45f2a65354a08df24f60",
              "IPY_MODEL_b3dfafed5f264fe1b8dc04d49e1fb76e",
              "IPY_MODEL_dcdec7a17b24494bbbefdb21f66f82b1"
            ],
            "layout": "IPY_MODEL_a83e4e7952d740a9bf256fe61b7b63ee"
          }
        },
        "3833b1607c424ef0be64b550b3357dff": {
          "model_module": "@jupyter-widgets/controls",
          "model_module_version": "1.5.0",
          "model_name": "DescriptionStyleModel",
          "state": {
            "_model_module": "@jupyter-widgets/controls",
            "_model_module_version": "1.5.0",
            "_model_name": "DescriptionStyleModel",
            "_view_count": null,
            "_view_module": "@jupyter-widgets/base",
            "_view_module_version": "1.2.0",
            "_view_name": "StyleView",
            "description_width": ""
          }
        },
        "395f880840c440cfadd7ee614c8ced6c": {
          "model_module": "@jupyter-widgets/base",
          "model_module_version": "1.2.0",
          "model_name": "LayoutModel",
          "state": {
            "_model_module": "@jupyter-widgets/base",
            "_model_module_version": "1.2.0",
            "_model_name": "LayoutModel",
            "_view_count": null,
            "_view_module": "@jupyter-widgets/base",
            "_view_module_version": "1.2.0",
            "_view_name": "LayoutView",
            "align_content": null,
            "align_items": null,
            "align_self": null,
            "border": null,
            "bottom": null,
            "display": null,
            "flex": null,
            "flex_flow": null,
            "grid_area": null,
            "grid_auto_columns": null,
            "grid_auto_flow": null,
            "grid_auto_rows": null,
            "grid_column": null,
            "grid_gap": null,
            "grid_row": null,
            "grid_template_areas": null,
            "grid_template_columns": null,
            "grid_template_rows": null,
            "height": null,
            "justify_content": null,
            "justify_items": null,
            "left": null,
            "margin": null,
            "max_height": null,
            "max_width": null,
            "min_height": null,
            "min_width": null,
            "object_fit": null,
            "object_position": null,
            "order": null,
            "overflow": null,
            "overflow_x": null,
            "overflow_y": null,
            "padding": null,
            "right": null,
            "top": null,
            "visibility": null,
            "width": null
          }
        },
        "3beb4374abc74a7e8a871aa64ac31ecc": {
          "model_module": "@jupyter-widgets/controls",
          "model_module_version": "1.5.0",
          "model_name": "HBoxModel",
          "state": {
            "_dom_classes": [],
            "_model_module": "@jupyter-widgets/controls",
            "_model_module_version": "1.5.0",
            "_model_name": "HBoxModel",
            "_view_count": null,
            "_view_module": "@jupyter-widgets/controls",
            "_view_module_version": "1.5.0",
            "_view_name": "HBoxView",
            "box_style": "",
            "children": [
              "IPY_MODEL_6cc80434c1f5470f9b592704ff2b961d",
              "IPY_MODEL_cb4e47e31f734aaba82996d17c65ed0c",
              "IPY_MODEL_a03feead2e4a45189619724c000a03a3"
            ],
            "layout": "IPY_MODEL_3224cbf63f2148a0b5a7b2c55611c7bf"
          }
        },
        "3d3ff7f28d254acb84dc602f3681ed6b": {
          "model_module": "@jupyter-widgets/controls",
          "model_module_version": "1.5.0",
          "model_name": "DescriptionStyleModel",
          "state": {
            "_model_module": "@jupyter-widgets/controls",
            "_model_module_version": "1.5.0",
            "_model_name": "DescriptionStyleModel",
            "_view_count": null,
            "_view_module": "@jupyter-widgets/base",
            "_view_module_version": "1.2.0",
            "_view_name": "StyleView",
            "description_width": ""
          }
        },
        "408daac931b94495a744c7d72683de44": {
          "model_module": "@jupyter-widgets/controls",
          "model_module_version": "1.5.0",
          "model_name": "LabelModel",
          "state": {
            "_dom_classes": [],
            "_model_module": "@jupyter-widgets/controls",
            "_model_module_version": "1.5.0",
            "_model_name": "LabelModel",
            "_view_count": null,
            "_view_module": "@jupyter-widgets/controls",
            "_view_module_version": "1.5.0",
            "_view_name": "LabelView",
            "description": "",
            "description_tooltip": null,
            "layout": "IPY_MODEL_f9c6b9d7c4e44d00b1b3a07b57260ef0",
            "placeholder": "​",
            "style": "IPY_MODEL_00c5a98405a4478f949dec6bd11eb1cc",
            "value": "0.358 MB of 0.358 MB uploaded (0.000 MB deduped)\r"
          }
        },
        "4341c309e94c44b59128af652686bdce": {
          "model_module": "@jupyter-widgets/base",
          "model_module_version": "1.2.0",
          "model_name": "LayoutModel",
          "state": {
            "_model_module": "@jupyter-widgets/base",
            "_model_module_version": "1.2.0",
            "_model_name": "LayoutModel",
            "_view_count": null,
            "_view_module": "@jupyter-widgets/base",
            "_view_module_version": "1.2.0",
            "_view_name": "LayoutView",
            "align_content": null,
            "align_items": null,
            "align_self": null,
            "border": null,
            "bottom": null,
            "display": null,
            "flex": null,
            "flex_flow": null,
            "grid_area": null,
            "grid_auto_columns": null,
            "grid_auto_flow": null,
            "grid_auto_rows": null,
            "grid_column": null,
            "grid_gap": null,
            "grid_row": null,
            "grid_template_areas": null,
            "grid_template_columns": null,
            "grid_template_rows": null,
            "height": null,
            "justify_content": null,
            "justify_items": null,
            "left": null,
            "margin": null,
            "max_height": null,
            "max_width": null,
            "min_height": null,
            "min_width": null,
            "object_fit": null,
            "object_position": null,
            "order": null,
            "overflow": null,
            "overflow_x": null,
            "overflow_y": null,
            "padding": null,
            "right": null,
            "top": null,
            "visibility": null,
            "width": null
          }
        },
        "4a40fc5fd56a472d907e0a3e91b88b9e": {
          "model_module": "@jupyter-widgets/controls",
          "model_module_version": "1.5.0",
          "model_name": "ProgressStyleModel",
          "state": {
            "_model_module": "@jupyter-widgets/controls",
            "_model_module_version": "1.5.0",
            "_model_name": "ProgressStyleModel",
            "_view_count": null,
            "_view_module": "@jupyter-widgets/base",
            "_view_module_version": "1.2.0",
            "_view_name": "StyleView",
            "bar_color": null,
            "description_width": ""
          }
        },
        "4f95857136054b028897d88c867b664e": {
          "model_module": "@jupyter-widgets/controls",
          "model_module_version": "1.5.0",
          "model_name": "DescriptionStyleModel",
          "state": {
            "_model_module": "@jupyter-widgets/controls",
            "_model_module_version": "1.5.0",
            "_model_name": "DescriptionStyleModel",
            "_view_count": null,
            "_view_module": "@jupyter-widgets/base",
            "_view_module_version": "1.2.0",
            "_view_name": "StyleView",
            "description_width": ""
          }
        },
        "508fcc26d5724097b8ff82f361e8e9df": {
          "model_module": "@jupyter-widgets/base",
          "model_module_version": "1.2.0",
          "model_name": "LayoutModel",
          "state": {
            "_model_module": "@jupyter-widgets/base",
            "_model_module_version": "1.2.0",
            "_model_name": "LayoutModel",
            "_view_count": null,
            "_view_module": "@jupyter-widgets/base",
            "_view_module_version": "1.2.0",
            "_view_name": "LayoutView",
            "align_content": null,
            "align_items": null,
            "align_self": null,
            "border": null,
            "bottom": null,
            "display": null,
            "flex": null,
            "flex_flow": null,
            "grid_area": null,
            "grid_auto_columns": null,
            "grid_auto_flow": null,
            "grid_auto_rows": null,
            "grid_column": null,
            "grid_gap": null,
            "grid_row": null,
            "grid_template_areas": null,
            "grid_template_columns": null,
            "grid_template_rows": null,
            "height": null,
            "justify_content": null,
            "justify_items": null,
            "left": null,
            "margin": null,
            "max_height": null,
            "max_width": null,
            "min_height": null,
            "min_width": null,
            "object_fit": null,
            "object_position": null,
            "order": null,
            "overflow": null,
            "overflow_x": null,
            "overflow_y": null,
            "padding": null,
            "right": null,
            "top": null,
            "visibility": null,
            "width": null
          }
        },
        "54008bb038794319a64738bbb6e20e77": {
          "model_module": "@jupyter-widgets/controls",
          "model_module_version": "1.5.0",
          "model_name": "ProgressStyleModel",
          "state": {
            "_model_module": "@jupyter-widgets/controls",
            "_model_module_version": "1.5.0",
            "_model_name": "ProgressStyleModel",
            "_view_count": null,
            "_view_module": "@jupyter-widgets/base",
            "_view_module_version": "1.2.0",
            "_view_name": "StyleView",
            "bar_color": null,
            "description_width": ""
          }
        },
        "54e7008fa72a42e8805ce8afe3247f4a": {
          "model_module": "@jupyter-widgets/base",
          "model_module_version": "1.2.0",
          "model_name": "LayoutModel",
          "state": {
            "_model_module": "@jupyter-widgets/base",
            "_model_module_version": "1.2.0",
            "_model_name": "LayoutModel",
            "_view_count": null,
            "_view_module": "@jupyter-widgets/base",
            "_view_module_version": "1.2.0",
            "_view_name": "LayoutView",
            "align_content": null,
            "align_items": null,
            "align_self": null,
            "border": null,
            "bottom": null,
            "display": null,
            "flex": null,
            "flex_flow": null,
            "grid_area": null,
            "grid_auto_columns": null,
            "grid_auto_flow": null,
            "grid_auto_rows": null,
            "grid_column": null,
            "grid_gap": null,
            "grid_row": null,
            "grid_template_areas": null,
            "grid_template_columns": null,
            "grid_template_rows": null,
            "height": null,
            "justify_content": null,
            "justify_items": null,
            "left": null,
            "margin": null,
            "max_height": null,
            "max_width": null,
            "min_height": null,
            "min_width": null,
            "object_fit": null,
            "object_position": null,
            "order": null,
            "overflow": null,
            "overflow_x": null,
            "overflow_y": null,
            "padding": null,
            "right": null,
            "top": null,
            "visibility": null,
            "width": null
          }
        },
        "5cc277bcdf3c468fbabf7baa2bdf709b": {
          "model_module": "@jupyter-widgets/base",
          "model_module_version": "1.2.0",
          "model_name": "LayoutModel",
          "state": {
            "_model_module": "@jupyter-widgets/base",
            "_model_module_version": "1.2.0",
            "_model_name": "LayoutModel",
            "_view_count": null,
            "_view_module": "@jupyter-widgets/base",
            "_view_module_version": "1.2.0",
            "_view_name": "LayoutView",
            "align_content": null,
            "align_items": null,
            "align_self": null,
            "border": null,
            "bottom": null,
            "display": null,
            "flex": null,
            "flex_flow": null,
            "grid_area": null,
            "grid_auto_columns": null,
            "grid_auto_flow": null,
            "grid_auto_rows": null,
            "grid_column": null,
            "grid_gap": null,
            "grid_row": null,
            "grid_template_areas": null,
            "grid_template_columns": null,
            "grid_template_rows": null,
            "height": null,
            "justify_content": null,
            "justify_items": null,
            "left": null,
            "margin": null,
            "max_height": null,
            "max_width": null,
            "min_height": null,
            "min_width": null,
            "object_fit": null,
            "object_position": null,
            "order": null,
            "overflow": null,
            "overflow_x": null,
            "overflow_y": null,
            "padding": null,
            "right": null,
            "top": null,
            "visibility": null,
            "width": null
          }
        },
        "6cc80434c1f5470f9b592704ff2b961d": {
          "model_module": "@jupyter-widgets/controls",
          "model_module_version": "1.5.0",
          "model_name": "HTMLModel",
          "state": {
            "_dom_classes": [],
            "_model_module": "@jupyter-widgets/controls",
            "_model_module_version": "1.5.0",
            "_model_name": "HTMLModel",
            "_view_count": null,
            "_view_module": "@jupyter-widgets/controls",
            "_view_module_version": "1.5.0",
            "_view_name": "HTMLView",
            "description": "",
            "description_tooltip": null,
            "layout": "IPY_MODEL_d5b070144c754430bb37f07f5de275fd",
            "placeholder": "​",
            "style": "IPY_MODEL_3d3ff7f28d254acb84dc602f3681ed6b",
            "value": "Downloading: 100%"
          }
        },
        "708a4f1c4b8f495cabc6b7237ae84160": {
          "model_module": "@jupyter-widgets/controls",
          "model_module_version": "1.5.0",
          "model_name": "DescriptionStyleModel",
          "state": {
            "_model_module": "@jupyter-widgets/controls",
            "_model_module_version": "1.5.0",
            "_model_name": "DescriptionStyleModel",
            "_view_count": null,
            "_view_module": "@jupyter-widgets/base",
            "_view_module_version": "1.2.0",
            "_view_name": "StyleView",
            "description_width": ""
          }
        },
        "752511d68c85477a960709b8bfd73be6": {
          "model_module": "@jupyter-widgets/base",
          "model_module_version": "1.2.0",
          "model_name": "LayoutModel",
          "state": {
            "_model_module": "@jupyter-widgets/base",
            "_model_module_version": "1.2.0",
            "_model_name": "LayoutModel",
            "_view_count": null,
            "_view_module": "@jupyter-widgets/base",
            "_view_module_version": "1.2.0",
            "_view_name": "LayoutView",
            "align_content": null,
            "align_items": null,
            "align_self": null,
            "border": null,
            "bottom": null,
            "display": null,
            "flex": null,
            "flex_flow": null,
            "grid_area": null,
            "grid_auto_columns": null,
            "grid_auto_flow": null,
            "grid_auto_rows": null,
            "grid_column": null,
            "grid_gap": null,
            "grid_row": null,
            "grid_template_areas": null,
            "grid_template_columns": null,
            "grid_template_rows": null,
            "height": null,
            "justify_content": null,
            "justify_items": null,
            "left": null,
            "margin": null,
            "max_height": null,
            "max_width": null,
            "min_height": null,
            "min_width": null,
            "object_fit": null,
            "object_position": null,
            "order": null,
            "overflow": null,
            "overflow_x": null,
            "overflow_y": null,
            "padding": null,
            "right": null,
            "top": null,
            "visibility": null,
            "width": null
          }
        },
        "82976131f8da4c61a5aecd6460dd6f0f": {
          "model_module": "@jupyter-widgets/controls",
          "model_module_version": "1.5.0",
          "model_name": "ProgressStyleModel",
          "state": {
            "_model_module": "@jupyter-widgets/controls",
            "_model_module_version": "1.5.0",
            "_model_name": "ProgressStyleModel",
            "_view_count": null,
            "_view_module": "@jupyter-widgets/base",
            "_view_module_version": "1.2.0",
            "_view_name": "StyleView",
            "bar_color": null,
            "description_width": ""
          }
        },
        "8a795075978c412d8e0d72bf28d9c612": {
          "model_module": "@jupyter-widgets/base",
          "model_module_version": "1.2.0",
          "model_name": "LayoutModel",
          "state": {
            "_model_module": "@jupyter-widgets/base",
            "_model_module_version": "1.2.0",
            "_model_name": "LayoutModel",
            "_view_count": null,
            "_view_module": "@jupyter-widgets/base",
            "_view_module_version": "1.2.0",
            "_view_name": "LayoutView",
            "align_content": null,
            "align_items": null,
            "align_self": null,
            "border": null,
            "bottom": null,
            "display": null,
            "flex": null,
            "flex_flow": null,
            "grid_area": null,
            "grid_auto_columns": null,
            "grid_auto_flow": null,
            "grid_auto_rows": null,
            "grid_column": null,
            "grid_gap": null,
            "grid_row": null,
            "grid_template_areas": null,
            "grid_template_columns": null,
            "grid_template_rows": null,
            "height": null,
            "justify_content": null,
            "justify_items": null,
            "left": null,
            "margin": null,
            "max_height": null,
            "max_width": null,
            "min_height": null,
            "min_width": null,
            "object_fit": null,
            "object_position": null,
            "order": null,
            "overflow": null,
            "overflow_x": null,
            "overflow_y": null,
            "padding": null,
            "right": null,
            "top": null,
            "visibility": null,
            "width": null
          }
        },
        "98992691e6104627814d6014221b8f0c": {
          "model_module": "@jupyter-widgets/controls",
          "model_module_version": "1.5.0",
          "model_name": "HTMLModel",
          "state": {
            "_dom_classes": [],
            "_model_module": "@jupyter-widgets/controls",
            "_model_module_version": "1.5.0",
            "_model_name": "HTMLModel",
            "_view_count": null,
            "_view_module": "@jupyter-widgets/controls",
            "_view_module_version": "1.5.0",
            "_view_name": "HTMLView",
            "description": "",
            "description_tooltip": null,
            "layout": "IPY_MODEL_bf46116f5e524bf3973917e9c40af411",
            "placeholder": "​",
            "style": "IPY_MODEL_a52e06fafcfc499ba3763dd40957df6c",
            "value": " 625M/625M [00:13&lt;00:00, 65.9MB/s]"
          }
        },
        "98f449854c1e4102a0aab55137623b7c": {
          "model_module": "@jupyter-widgets/controls",
          "model_module_version": "1.5.0",
          "model_name": "FloatProgressModel",
          "state": {
            "_dom_classes": [],
            "_model_module": "@jupyter-widgets/controls",
            "_model_module_version": "1.5.0",
            "_model_name": "FloatProgressModel",
            "_view_count": null,
            "_view_module": "@jupyter-widgets/controls",
            "_view_module_version": "1.5.0",
            "_view_name": "ProgressView",
            "bar_style": "",
            "description": "",
            "description_tooltip": null,
            "layout": "IPY_MODEL_5cc277bcdf3c468fbabf7baa2bdf709b",
            "max": 1,
            "min": 0,
            "orientation": "horizontal",
            "style": "IPY_MODEL_0f3df0419edd4565b28f58a27fee9f38",
            "value": 1
          }
        },
        "a03feead2e4a45189619724c000a03a3": {
          "model_module": "@jupyter-widgets/controls",
          "model_module_version": "1.5.0",
          "model_name": "HTMLModel",
          "state": {
            "_dom_classes": [],
            "_model_module": "@jupyter-widgets/controls",
            "_model_module_version": "1.5.0",
            "_model_name": "HTMLModel",
            "_view_count": null,
            "_view_module": "@jupyter-widgets/controls",
            "_view_module_version": "1.5.0",
            "_view_name": "HTMLView",
            "description": "",
            "description_tooltip": null,
            "layout": "IPY_MODEL_2d03f7a41210411a860127082d525be0",
            "placeholder": "​",
            "style": "IPY_MODEL_3833b1607c424ef0be64b550b3357dff",
            "value": " 224k/224k [00:00&lt;00:00, 308kB/s]"
          }
        },
        "a0f5722ccfa545f69004cb7b0473271a": {
          "model_module": "@jupyter-widgets/base",
          "model_module_version": "1.2.0",
          "model_name": "LayoutModel",
          "state": {
            "_model_module": "@jupyter-widgets/base",
            "_model_module_version": "1.2.0",
            "_model_name": "LayoutModel",
            "_view_count": null,
            "_view_module": "@jupyter-widgets/base",
            "_view_module_version": "1.2.0",
            "_view_name": "LayoutView",
            "align_content": null,
            "align_items": null,
            "align_self": null,
            "border": null,
            "bottom": null,
            "display": null,
            "flex": null,
            "flex_flow": null,
            "grid_area": null,
            "grid_auto_columns": null,
            "grid_auto_flow": null,
            "grid_auto_rows": null,
            "grid_column": null,
            "grid_gap": null,
            "grid_row": null,
            "grid_template_areas": null,
            "grid_template_columns": null,
            "grid_template_rows": null,
            "height": null,
            "justify_content": null,
            "justify_items": null,
            "left": null,
            "margin": null,
            "max_height": null,
            "max_width": null,
            "min_height": null,
            "min_width": null,
            "object_fit": null,
            "object_position": null,
            "order": null,
            "overflow": null,
            "overflow_x": null,
            "overflow_y": null,
            "padding": null,
            "right": null,
            "top": null,
            "visibility": null,
            "width": null
          }
        },
        "a52e06fafcfc499ba3763dd40957df6c": {
          "model_module": "@jupyter-widgets/controls",
          "model_module_version": "1.5.0",
          "model_name": "DescriptionStyleModel",
          "state": {
            "_model_module": "@jupyter-widgets/controls",
            "_model_module_version": "1.5.0",
            "_model_name": "DescriptionStyleModel",
            "_view_count": null,
            "_view_module": "@jupyter-widgets/base",
            "_view_module_version": "1.2.0",
            "_view_name": "StyleView",
            "description_width": ""
          }
        },
        "a83e4e7952d740a9bf256fe61b7b63ee": {
          "model_module": "@jupyter-widgets/base",
          "model_module_version": "1.2.0",
          "model_name": "LayoutModel",
          "state": {
            "_model_module": "@jupyter-widgets/base",
            "_model_module_version": "1.2.0",
            "_model_name": "LayoutModel",
            "_view_count": null,
            "_view_module": "@jupyter-widgets/base",
            "_view_module_version": "1.2.0",
            "_view_name": "LayoutView",
            "align_content": null,
            "align_items": null,
            "align_self": null,
            "border": null,
            "bottom": null,
            "display": null,
            "flex": null,
            "flex_flow": null,
            "grid_area": null,
            "grid_auto_columns": null,
            "grid_auto_flow": null,
            "grid_auto_rows": null,
            "grid_column": null,
            "grid_gap": null,
            "grid_row": null,
            "grid_template_areas": null,
            "grid_template_columns": null,
            "grid_template_rows": null,
            "height": null,
            "justify_content": null,
            "justify_items": null,
            "left": null,
            "margin": null,
            "max_height": null,
            "max_width": null,
            "min_height": null,
            "min_width": null,
            "object_fit": null,
            "object_position": null,
            "order": null,
            "overflow": null,
            "overflow_x": null,
            "overflow_y": null,
            "padding": null,
            "right": null,
            "top": null,
            "visibility": null,
            "width": null
          }
        },
        "acd241cd67ca45f2a65354a08df24f60": {
          "model_module": "@jupyter-widgets/controls",
          "model_module_version": "1.5.0",
          "model_name": "HTMLModel",
          "state": {
            "_dom_classes": [],
            "_model_module": "@jupyter-widgets/controls",
            "_model_module_version": "1.5.0",
            "_model_name": "HTMLModel",
            "_view_count": null,
            "_view_module": "@jupyter-widgets/controls",
            "_view_module_version": "1.5.0",
            "_view_name": "HTMLView",
            "description": "",
            "description_tooltip": null,
            "layout": "IPY_MODEL_32c1aa2ad510420c88aff6bec4058fa8",
            "placeholder": "​",
            "style": "IPY_MODEL_4f95857136054b028897d88c867b664e",
            "value": "Downloading: 100%"
          }
        },
        "b3dfafed5f264fe1b8dc04d49e1fb76e": {
          "model_module": "@jupyter-widgets/controls",
          "model_module_version": "1.5.0",
          "model_name": "FloatProgressModel",
          "state": {
            "_dom_classes": [],
            "_model_module": "@jupyter-widgets/controls",
            "_model_module_version": "1.5.0",
            "_model_name": "FloatProgressModel",
            "_view_count": null,
            "_view_module": "@jupyter-widgets/controls",
            "_view_module_version": "1.5.0",
            "_view_name": "ProgressView",
            "bar_style": "success",
            "description": "",
            "description_tooltip": null,
            "layout": "IPY_MODEL_dcd81a914d0b463db96794c840294e31",
            "max": 1534,
            "min": 0,
            "orientation": "horizontal",
            "style": "IPY_MODEL_29099ca246c246e4be6cdf2e9b11c8fc",
            "value": 1534
          }
        },
        "b754364b114b4f6f9d23b71fce91a896": {
          "model_module": "@jupyter-widgets/controls",
          "model_module_version": "1.5.0",
          "model_name": "ProgressStyleModel",
          "state": {
            "_model_module": "@jupyter-widgets/controls",
            "_model_module_version": "1.5.0",
            "_model_name": "ProgressStyleModel",
            "_view_count": null,
            "_view_module": "@jupyter-widgets/base",
            "_view_module_version": "1.2.0",
            "_view_name": "StyleView",
            "bar_color": null,
            "description_width": ""
          }
        },
        "b826fe08ba8b4006b3041459779696b6": {
          "model_module": "@jupyter-widgets/controls",
          "model_module_version": "1.5.0",
          "model_name": "HTMLModel",
          "state": {
            "_dom_classes": [],
            "_model_module": "@jupyter-widgets/controls",
            "_model_module_version": "1.5.0",
            "_model_name": "HTMLModel",
            "_view_count": null,
            "_view_module": "@jupyter-widgets/controls",
            "_view_module_version": "1.5.0",
            "_view_name": "HTMLView",
            "description": "",
            "description_tooltip": null,
            "layout": "IPY_MODEL_54e7008fa72a42e8805ce8afe3247f4a",
            "placeholder": "​",
            "style": "IPY_MODEL_240bec482ee545bca975c77aa63639a7",
            "value": "Downloading: 100%"
          }
        },
        "bf46116f5e524bf3973917e9c40af411": {
          "model_module": "@jupyter-widgets/base",
          "model_module_version": "1.2.0",
          "model_name": "LayoutModel",
          "state": {
            "_model_module": "@jupyter-widgets/base",
            "_model_module_version": "1.2.0",
            "_model_name": "LayoutModel",
            "_view_count": null,
            "_view_module": "@jupyter-widgets/base",
            "_view_module_version": "1.2.0",
            "_view_name": "LayoutView",
            "align_content": null,
            "align_items": null,
            "align_self": null,
            "border": null,
            "bottom": null,
            "display": null,
            "flex": null,
            "flex_flow": null,
            "grid_area": null,
            "grid_auto_columns": null,
            "grid_auto_flow": null,
            "grid_auto_rows": null,
            "grid_column": null,
            "grid_gap": null,
            "grid_row": null,
            "grid_template_areas": null,
            "grid_template_columns": null,
            "grid_template_rows": null,
            "height": null,
            "justify_content": null,
            "justify_items": null,
            "left": null,
            "margin": null,
            "max_height": null,
            "max_width": null,
            "min_height": null,
            "min_width": null,
            "object_fit": null,
            "object_position": null,
            "order": null,
            "overflow": null,
            "overflow_x": null,
            "overflow_y": null,
            "padding": null,
            "right": null,
            "top": null,
            "visibility": null,
            "width": null
          }
        },
        "c11cb0dddb1a4725b312e4f411a4fc2a": {
          "model_module": "@jupyter-widgets/controls",
          "model_module_version": "1.5.0",
          "model_name": "FloatProgressModel",
          "state": {
            "_dom_classes": [],
            "_model_module": "@jupyter-widgets/controls",
            "_model_module_version": "1.5.0",
            "_model_name": "FloatProgressModel",
            "_view_count": null,
            "_view_module": "@jupyter-widgets/controls",
            "_view_module_version": "1.5.0",
            "_view_name": "ProgressView",
            "bar_style": "success",
            "description": "",
            "description_tooltip": null,
            "layout": "IPY_MODEL_1e3f5654ff074ab688d6ed4f5179d739",
            "max": 2,
            "min": 0,
            "orientation": "horizontal",
            "style": "IPY_MODEL_82976131f8da4c61a5aecd6460dd6f0f",
            "value": 2
          }
        },
        "c273c658088448d0a572a92438167d64": {
          "model_module": "@jupyter-widgets/controls",
          "model_module_version": "1.5.0",
          "model_name": "DescriptionStyleModel",
          "state": {
            "_model_module": "@jupyter-widgets/controls",
            "_model_module_version": "1.5.0",
            "_model_name": "DescriptionStyleModel",
            "_view_count": null,
            "_view_module": "@jupyter-widgets/base",
            "_view_module_version": "1.2.0",
            "_view_name": "StyleView",
            "description_width": ""
          }
        },
        "c34a951fb0234cd8827c16f6ffb5ee17": {
          "model_module": "@jupyter-widgets/base",
          "model_module_version": "1.2.0",
          "model_name": "LayoutModel",
          "state": {
            "_model_module": "@jupyter-widgets/base",
            "_model_module_version": "1.2.0",
            "_model_name": "LayoutModel",
            "_view_count": null,
            "_view_module": "@jupyter-widgets/base",
            "_view_module_version": "1.2.0",
            "_view_name": "LayoutView",
            "align_content": null,
            "align_items": null,
            "align_self": null,
            "border": null,
            "bottom": null,
            "display": null,
            "flex": null,
            "flex_flow": null,
            "grid_area": null,
            "grid_auto_columns": null,
            "grid_auto_flow": null,
            "grid_auto_rows": null,
            "grid_column": null,
            "grid_gap": null,
            "grid_row": null,
            "grid_template_areas": null,
            "grid_template_columns": null,
            "grid_template_rows": null,
            "height": null,
            "justify_content": null,
            "justify_items": null,
            "left": null,
            "margin": null,
            "max_height": null,
            "max_width": null,
            "min_height": null,
            "min_width": null,
            "object_fit": null,
            "object_position": null,
            "order": null,
            "overflow": null,
            "overflow_x": null,
            "overflow_y": null,
            "padding": null,
            "right": null,
            "top": null,
            "visibility": null,
            "width": null
          }
        },
        "c4f7fa94bf3e4e31ab765bccc45c1a7f": {
          "model_module": "@jupyter-widgets/controls",
          "model_module_version": "1.5.0",
          "model_name": "VBoxModel",
          "state": {
            "_dom_classes": [],
            "_model_module": "@jupyter-widgets/controls",
            "_model_module_version": "1.5.0",
            "_model_name": "VBoxModel",
            "_view_count": null,
            "_view_module": "@jupyter-widgets/controls",
            "_view_module_version": "1.5.0",
            "_view_name": "VBoxView",
            "box_style": "",
            "children": [
              "IPY_MODEL_408daac931b94495a744c7d72683de44",
              "IPY_MODEL_98f449854c1e4102a0aab55137623b7c"
            ],
            "layout": "IPY_MODEL_508fcc26d5724097b8ff82f361e8e9df"
          }
        },
        "cb4e47e31f734aaba82996d17c65ed0c": {
          "model_module": "@jupyter-widgets/controls",
          "model_module_version": "1.5.0",
          "model_name": "FloatProgressModel",
          "state": {
            "_dom_classes": [],
            "_model_module": "@jupyter-widgets/controls",
            "_model_module_version": "1.5.0",
            "_model_name": "FloatProgressModel",
            "_view_count": null,
            "_view_module": "@jupyter-widgets/controls",
            "_view_module_version": "1.5.0",
            "_view_name": "ProgressView",
            "bar_style": "success",
            "description": "",
            "description_tooltip": null,
            "layout": "IPY_MODEL_a0f5722ccfa545f69004cb7b0473271a",
            "max": 229167,
            "min": 0,
            "orientation": "horizontal",
            "style": "IPY_MODEL_4a40fc5fd56a472d907e0a3e91b88b9e",
            "value": 229167
          }
        },
        "cd94fb49d855485c8376c22a0a9063e9": {
          "model_module": "@jupyter-widgets/controls",
          "model_module_version": "1.5.0",
          "model_name": "HTMLModel",
          "state": {
            "_dom_classes": [],
            "_model_module": "@jupyter-widgets/controls",
            "_model_module_version": "1.5.0",
            "_model_name": "HTMLModel",
            "_view_count": null,
            "_view_module": "@jupyter-widgets/controls",
            "_view_module_version": "1.5.0",
            "_view_name": "HTMLView",
            "description": "",
            "description_tooltip": null,
            "layout": "IPY_MODEL_ee895d93d48b479e97e871953afa5aac",
            "placeholder": "​",
            "style": "IPY_MODEL_d238de91c86c466997bdb3fe362551da",
            "value": "Downloading: 100%"
          }
        },
        "d19493cadc814a529642a05d17ab06a8": {
          "model_module": "@jupyter-widgets/controls",
          "model_module_version": "1.5.0",
          "model_name": "HBoxModel",
          "state": {
            "_dom_classes": [],
            "_model_module": "@jupyter-widgets/controls",
            "_model_module_version": "1.5.0",
            "_model_name": "HBoxModel",
            "_view_count": null,
            "_view_module": "@jupyter-widgets/controls",
            "_view_module_version": "1.5.0",
            "_view_name": "HBoxView",
            "box_style": "",
            "children": [
              "IPY_MODEL_d86f0abb6d954525a6a7b3f0fb99bf33",
              "IPY_MODEL_f56635706cb24c5db1b642947323b299",
              "IPY_MODEL_98992691e6104627814d6014221b8f0c"
            ],
            "layout": "IPY_MODEL_20c03127c2a64041bd214f7ab6dc8b47"
          }
        },
        "d1abc9420d2f4ee8be5159c76778c36b": {
          "model_module": "@jupyter-widgets/controls",
          "model_module_version": "1.5.0",
          "model_name": "HTMLModel",
          "state": {
            "_dom_classes": [],
            "_model_module": "@jupyter-widgets/controls",
            "_model_module_version": "1.5.0",
            "_model_name": "HTMLModel",
            "_view_count": null,
            "_view_module": "@jupyter-widgets/controls",
            "_view_module_version": "1.5.0",
            "_view_name": "HTMLView",
            "description": "",
            "description_tooltip": null,
            "layout": "IPY_MODEL_395f880840c440cfadd7ee614c8ced6c",
            "placeholder": "​",
            "style": "IPY_MODEL_708a4f1c4b8f495cabc6b7237ae84160",
            "value": " 112/112 [00:00&lt;00:00, 4.23kB/s]"
          }
        },
        "d238de91c86c466997bdb3fe362551da": {
          "model_module": "@jupyter-widgets/controls",
          "model_module_version": "1.5.0",
          "model_name": "DescriptionStyleModel",
          "state": {
            "_model_module": "@jupyter-widgets/controls",
            "_model_module_version": "1.5.0",
            "_model_name": "DescriptionStyleModel",
            "_view_count": null,
            "_view_module": "@jupyter-widgets/base",
            "_view_module_version": "1.2.0",
            "_view_name": "StyleView",
            "description_width": ""
          }
        },
        "d5b070144c754430bb37f07f5de275fd": {
          "model_module": "@jupyter-widgets/base",
          "model_module_version": "1.2.0",
          "model_name": "LayoutModel",
          "state": {
            "_model_module": "@jupyter-widgets/base",
            "_model_module_version": "1.2.0",
            "_model_name": "LayoutModel",
            "_view_count": null,
            "_view_module": "@jupyter-widgets/base",
            "_view_module_version": "1.2.0",
            "_view_name": "LayoutView",
            "align_content": null,
            "align_items": null,
            "align_self": null,
            "border": null,
            "bottom": null,
            "display": null,
            "flex": null,
            "flex_flow": null,
            "grid_area": null,
            "grid_auto_columns": null,
            "grid_auto_flow": null,
            "grid_auto_rows": null,
            "grid_column": null,
            "grid_gap": null,
            "grid_row": null,
            "grid_template_areas": null,
            "grid_template_columns": null,
            "grid_template_rows": null,
            "height": null,
            "justify_content": null,
            "justify_items": null,
            "left": null,
            "margin": null,
            "max_height": null,
            "max_width": null,
            "min_height": null,
            "min_width": null,
            "object_fit": null,
            "object_position": null,
            "order": null,
            "overflow": null,
            "overflow_x": null,
            "overflow_y": null,
            "padding": null,
            "right": null,
            "top": null,
            "visibility": null,
            "width": null
          }
        },
        "d86f0abb6d954525a6a7b3f0fb99bf33": {
          "model_module": "@jupyter-widgets/controls",
          "model_module_version": "1.5.0",
          "model_name": "HTMLModel",
          "state": {
            "_dom_classes": [],
            "_model_module": "@jupyter-widgets/controls",
            "_model_module_version": "1.5.0",
            "_model_name": "HTMLModel",
            "_view_count": null,
            "_view_module": "@jupyter-widgets/controls",
            "_view_module_version": "1.5.0",
            "_view_name": "HTMLView",
            "description": "",
            "description_tooltip": null,
            "layout": "IPY_MODEL_c34a951fb0234cd8827c16f6ffb5ee17",
            "placeholder": "​",
            "style": "IPY_MODEL_c273c658088448d0a572a92438167d64",
            "value": "Downloading: 100%"
          }
        },
        "dcd81a914d0b463db96794c840294e31": {
          "model_module": "@jupyter-widgets/base",
          "model_module_version": "1.2.0",
          "model_name": "LayoutModel",
          "state": {
            "_model_module": "@jupyter-widgets/base",
            "_model_module_version": "1.2.0",
            "_model_name": "LayoutModel",
            "_view_count": null,
            "_view_module": "@jupyter-widgets/base",
            "_view_module_version": "1.2.0",
            "_view_name": "LayoutView",
            "align_content": null,
            "align_items": null,
            "align_self": null,
            "border": null,
            "bottom": null,
            "display": null,
            "flex": null,
            "flex_flow": null,
            "grid_area": null,
            "grid_auto_columns": null,
            "grid_auto_flow": null,
            "grid_auto_rows": null,
            "grid_column": null,
            "grid_gap": null,
            "grid_row": null,
            "grid_template_areas": null,
            "grid_template_columns": null,
            "grid_template_rows": null,
            "height": null,
            "justify_content": null,
            "justify_items": null,
            "left": null,
            "margin": null,
            "max_height": null,
            "max_width": null,
            "min_height": null,
            "min_width": null,
            "object_fit": null,
            "object_position": null,
            "order": null,
            "overflow": null,
            "overflow_x": null,
            "overflow_y": null,
            "padding": null,
            "right": null,
            "top": null,
            "visibility": null,
            "width": null
          }
        },
        "dcdec7a17b24494bbbefdb21f66f82b1": {
          "model_module": "@jupyter-widgets/controls",
          "model_module_version": "1.5.0",
          "model_name": "HTMLModel",
          "state": {
            "_dom_classes": [],
            "_model_module": "@jupyter-widgets/controls",
            "_model_module_version": "1.5.0",
            "_model_name": "HTMLModel",
            "_view_count": null,
            "_view_module": "@jupyter-widgets/controls",
            "_view_module_version": "1.5.0",
            "_view_name": "HTMLView",
            "description": "",
            "description_tooltip": null,
            "layout": "IPY_MODEL_f930bc223c3e4da4b4bfeb29b6f529ad",
            "placeholder": "​",
            "style": "IPY_MODEL_35e0a6ed85c24b28a82122f4a6ddd701",
            "value": " 1.50k/1.50k [00:00&lt;00:00, 31.4kB/s]"
          }
        },
        "e59af199cd0d434e8617892f8aa0dd3d": {
          "model_module": "@jupyter-widgets/controls",
          "model_module_version": "1.5.0",
          "model_name": "HBoxModel",
          "state": {
            "_dom_classes": [],
            "_model_module": "@jupyter-widgets/controls",
            "_model_module_version": "1.5.0",
            "_model_name": "HBoxModel",
            "_view_count": null,
            "_view_module": "@jupyter-widgets/controls",
            "_view_module_version": "1.5.0",
            "_view_name": "HBoxView",
            "box_style": "",
            "children": [
              "IPY_MODEL_cd94fb49d855485c8376c22a0a9063e9",
              "IPY_MODEL_f926068074994a32a51a126735ff3737",
              "IPY_MODEL_d1abc9420d2f4ee8be5159c76778c36b"
            ],
            "layout": "IPY_MODEL_2a31684e418347a781b7b73faa48d881"
          }
        },
        "e977decc529a44d596ebc512f1268655": {
          "model_module": "@jupyter-widgets/base",
          "model_module_version": "1.2.0",
          "model_name": "LayoutModel",
          "state": {
            "_model_module": "@jupyter-widgets/base",
            "_model_module_version": "1.2.0",
            "_model_name": "LayoutModel",
            "_view_count": null,
            "_view_module": "@jupyter-widgets/base",
            "_view_module_version": "1.2.0",
            "_view_name": "LayoutView",
            "align_content": null,
            "align_items": null,
            "align_self": null,
            "border": null,
            "bottom": null,
            "display": null,
            "flex": null,
            "flex_flow": null,
            "grid_area": null,
            "grid_auto_columns": null,
            "grid_auto_flow": null,
            "grid_auto_rows": null,
            "grid_column": null,
            "grid_gap": null,
            "grid_row": null,
            "grid_template_areas": null,
            "grid_template_columns": null,
            "grid_template_rows": null,
            "height": null,
            "justify_content": null,
            "justify_items": null,
            "left": null,
            "margin": null,
            "max_height": null,
            "max_width": null,
            "min_height": null,
            "min_width": null,
            "object_fit": null,
            "object_position": null,
            "order": null,
            "overflow": null,
            "overflow_x": null,
            "overflow_y": null,
            "padding": null,
            "right": null,
            "top": null,
            "visibility": null,
            "width": null
          }
        },
        "ee895d93d48b479e97e871953afa5aac": {
          "model_module": "@jupyter-widgets/base",
          "model_module_version": "1.2.0",
          "model_name": "LayoutModel",
          "state": {
            "_model_module": "@jupyter-widgets/base",
            "_model_module_version": "1.2.0",
            "_model_name": "LayoutModel",
            "_view_count": null,
            "_view_module": "@jupyter-widgets/base",
            "_view_module_version": "1.2.0",
            "_view_name": "LayoutView",
            "align_content": null,
            "align_items": null,
            "align_self": null,
            "border": null,
            "bottom": null,
            "display": null,
            "flex": null,
            "flex_flow": null,
            "grid_area": null,
            "grid_auto_columns": null,
            "grid_auto_flow": null,
            "grid_auto_rows": null,
            "grid_column": null,
            "grid_gap": null,
            "grid_row": null,
            "grid_template_areas": null,
            "grid_template_columns": null,
            "grid_template_rows": null,
            "height": null,
            "justify_content": null,
            "justify_items": null,
            "left": null,
            "margin": null,
            "max_height": null,
            "max_width": null,
            "min_height": null,
            "min_width": null,
            "object_fit": null,
            "object_position": null,
            "order": null,
            "overflow": null,
            "overflow_x": null,
            "overflow_y": null,
            "padding": null,
            "right": null,
            "top": null,
            "visibility": null,
            "width": null
          }
        },
        "eeb008e3664c406ab281c0d1068f0026": {
          "model_module": "@jupyter-widgets/controls",
          "model_module_version": "1.5.0",
          "model_name": "HBoxModel",
          "state": {
            "_dom_classes": [],
            "_model_module": "@jupyter-widgets/controls",
            "_model_module_version": "1.5.0",
            "_model_name": "HBoxModel",
            "_view_count": null,
            "_view_module": "@jupyter-widgets/controls",
            "_view_module_version": "1.5.0",
            "_view_name": "HBoxView",
            "box_style": "",
            "children": [
              "IPY_MODEL_b826fe08ba8b4006b3041459779696b6",
              "IPY_MODEL_c11cb0dddb1a4725b312e4f411a4fc2a",
              "IPY_MODEL_0e70c9b2720f44568697554ebec22f07"
            ],
            "layout": "IPY_MODEL_752511d68c85477a960709b8bfd73be6"
          }
        },
        "f56635706cb24c5db1b642947323b299": {
          "model_module": "@jupyter-widgets/controls",
          "model_module_version": "1.5.0",
          "model_name": "FloatProgressModel",
          "state": {
            "_dom_classes": [],
            "_model_module": "@jupyter-widgets/controls",
            "_model_module_version": "1.5.0",
            "_model_name": "FloatProgressModel",
            "_view_count": null,
            "_view_module": "@jupyter-widgets/controls",
            "_view_module_version": "1.5.0",
            "_view_name": "ProgressView",
            "bar_style": "success",
            "description": "",
            "description_tooltip": null,
            "layout": "IPY_MODEL_4341c309e94c44b59128af652686bdce",
            "max": 655811760,
            "min": 0,
            "orientation": "horizontal",
            "style": "IPY_MODEL_b754364b114b4f6f9d23b71fce91a896",
            "value": 655811760
          }
        },
        "f926068074994a32a51a126735ff3737": {
          "model_module": "@jupyter-widgets/controls",
          "model_module_version": "1.5.0",
          "model_name": "FloatProgressModel",
          "state": {
            "_dom_classes": [],
            "_model_module": "@jupyter-widgets/controls",
            "_model_module_version": "1.5.0",
            "_model_name": "FloatProgressModel",
            "_view_count": null,
            "_view_module": "@jupyter-widgets/controls",
            "_view_module_version": "1.5.0",
            "_view_name": "ProgressView",
            "bar_style": "success",
            "description": "",
            "description_tooltip": null,
            "layout": "IPY_MODEL_e977decc529a44d596ebc512f1268655",
            "max": 112,
            "min": 0,
            "orientation": "horizontal",
            "style": "IPY_MODEL_54008bb038794319a64738bbb6e20e77",
            "value": 112
          }
        },
        "f930bc223c3e4da4b4bfeb29b6f529ad": {
          "model_module": "@jupyter-widgets/base",
          "model_module_version": "1.2.0",
          "model_name": "LayoutModel",
          "state": {
            "_model_module": "@jupyter-widgets/base",
            "_model_module_version": "1.2.0",
            "_model_name": "LayoutModel",
            "_view_count": null,
            "_view_module": "@jupyter-widgets/base",
            "_view_module_version": "1.2.0",
            "_view_name": "LayoutView",
            "align_content": null,
            "align_items": null,
            "align_self": null,
            "border": null,
            "bottom": null,
            "display": null,
            "flex": null,
            "flex_flow": null,
            "grid_area": null,
            "grid_auto_columns": null,
            "grid_auto_flow": null,
            "grid_auto_rows": null,
            "grid_column": null,
            "grid_gap": null,
            "grid_row": null,
            "grid_template_areas": null,
            "grid_template_columns": null,
            "grid_template_rows": null,
            "height": null,
            "justify_content": null,
            "justify_items": null,
            "left": null,
            "margin": null,
            "max_height": null,
            "max_width": null,
            "min_height": null,
            "min_width": null,
            "object_fit": null,
            "object_position": null,
            "order": null,
            "overflow": null,
            "overflow_x": null,
            "overflow_y": null,
            "padding": null,
            "right": null,
            "top": null,
            "visibility": null,
            "width": null
          }
        },
        "f9c6b9d7c4e44d00b1b3a07b57260ef0": {
          "model_module": "@jupyter-widgets/base",
          "model_module_version": "1.2.0",
          "model_name": "LayoutModel",
          "state": {
            "_model_module": "@jupyter-widgets/base",
            "_model_module_version": "1.2.0",
            "_model_name": "LayoutModel",
            "_view_count": null,
            "_view_module": "@jupyter-widgets/base",
            "_view_module_version": "1.2.0",
            "_view_name": "LayoutView",
            "align_content": null,
            "align_items": null,
            "align_self": null,
            "border": null,
            "bottom": null,
            "display": null,
            "flex": null,
            "flex_flow": null,
            "grid_area": null,
            "grid_auto_columns": null,
            "grid_auto_flow": null,
            "grid_auto_rows": null,
            "grid_column": null,
            "grid_gap": null,
            "grid_row": null,
            "grid_template_areas": null,
            "grid_template_columns": null,
            "grid_template_rows": null,
            "height": null,
            "justify_content": null,
            "justify_items": null,
            "left": null,
            "margin": null,
            "max_height": null,
            "max_width": null,
            "min_height": null,
            "min_width": null,
            "object_fit": null,
            "object_position": null,
            "order": null,
            "overflow": null,
            "overflow_x": null,
            "overflow_y": null,
            "padding": null,
            "right": null,
            "top": null,
            "visibility": null,
            "width": null
          }
        }
      }
    }
  },
  "nbformat": 4,
  "nbformat_minor": 5
}
